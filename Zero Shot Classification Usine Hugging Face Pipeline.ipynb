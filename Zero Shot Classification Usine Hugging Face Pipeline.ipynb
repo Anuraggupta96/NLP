{
  "cells": [
    {
      "cell_type": "code",
      "execution_count": null,
      "metadata": {
        "colab": {
          "base_uri": "https://localhost:8080/"
        },
        "execution": {
          "iopub.execute_input": "2023-08-23T00:26:48.606255Z",
          "iopub.status.busy": "2023-08-23T00:26:48.605951Z",
          "iopub.status.idle": "2023-08-23T00:26:49.073359Z",
          "shell.execute_reply": "2023-08-23T00:26:49.072413Z",
          "shell.execute_reply.started": "2023-08-23T00:26:48.606229Z"
        },
        "id": "aPva0yVbvk0x",
        "outputId": "b883b9c3-6fc5-40d3-a50d-fada673798df"
      },
      "outputs": [
        {
          "name": "stdout",
          "output_type": "stream",
          "text": [
            "Sat Sep  2 01:19:08 2023       \n",
            "+-----------------------------------------------------------------------------+\n",
            "| NVIDIA-SMI 525.105.17   Driver Version: 525.105.17   CUDA Version: 12.0     |\n",
            "|-------------------------------+----------------------+----------------------+\n",
            "| GPU  Name        Persistence-M| Bus-Id        Disp.A | Volatile Uncorr. ECC |\n",
            "| Fan  Temp  Perf  Pwr:Usage/Cap|         Memory-Usage | GPU-Util  Compute M. |\n",
            "|                               |                      |               MIG M. |\n",
            "|===============================+======================+======================|\n",
            "|   0  Tesla T4            Off  | 00000000:00:04.0 Off |                    0 |\n",
            "| N/A   50C    P8    12W /  70W |      0MiB / 15360MiB |      0%      Default |\n",
            "|                               |                      |                  N/A |\n",
            "+-------------------------------+----------------------+----------------------+\n",
            "                                                                               \n",
            "+-----------------------------------------------------------------------------+\n",
            "| Processes:                                                                  |\n",
            "|  GPU   GI   CI        PID   Type   Process name                  GPU Memory |\n",
            "|        ID   ID                                                   Usage      |\n",
            "|=============================================================================|\n",
            "|  No running processes found                                                 |\n",
            "+-----------------------------------------------------------------------------+\n"
          ]
        }
      ],
      "source": [
        "!nvidia-smi"
      ]
    },
    {
      "cell_type": "markdown",
      "metadata": {
        "id": "3cfCXWzzuZKE"
      },
      "source": [
        "# <Font color = 'dodgerblue'>**ZeroShot Classification**\n"
      ]
    },
    {
      "cell_type": "markdown",
      "metadata": {
        "id": "rh2s542civAU"
      },
      "source": [
        "# <Font color = 'dodgerblue'>**Zero Shot Classification using Huggingface Pipeline**\n",
        "\n",
        "This task involves practical application of zero-shot classification to categorize restaurant review sentences. By leveraging a pre-trained model , one will gain hands-on experience in utilizing natural language inference techniques for text classification.\n",
        "\n",
        "\n"
      ]
    },
    {
      "cell_type": "markdown",
      "metadata": {
        "id": "b514c073-e3b2-46db-a198-ba1c5fa3d15f"
      },
      "source": [
        "# <Font color = 'dodgerblue'>**Zero Shot Classification - Brief Overview** </font>\n",
        "\n",
        "### Introduction to Natural Language Inference (NLI)\n",
        "\n",
        "Natural Language Inference (NLI) is a task in natural language processing where a model determines the relationship between two sentences, often referred to as the premise and the hypothesis. The relationship might be **entailment (the hypothesis follows from the premise)**, contradiction, or neutrality.\n",
        "\n",
        "### Zero-Shot Classification Using Hugging Face's Pipeline\n",
        "\n",
        "Building on NLI, Hugging Face's zero-shot classification leverages entailment (hypotheses follows from the premise) relationships to classify text into various categories.\n",
        "\n",
        "1. **Premise:** The input text, like a restaurant review.\n",
        "\n",
        "2. **Labels**:<br>\n",
        "Possible labels (categories) represent distinct classifications within a given problem. In the context of the review dataset that you will be working with, the possible labels correspond to specific aspects of a dining experience. The labels include: 'food,' referring to the quality and taste of the dishes; 'ambiance,' reflecting the overall atmosphere and decor of the restaurant; 'service,' pertaining to the staff's attentiveness and professionalism; and 'other,' a category that encompasses any additional comments or observations not covered by the aforementioned labels.\n",
        "\n",
        "3. **Hypothesis Template:**<br>\n",
        "A specially formatted string that transforms each label into an NLI-style hypothesis. An example of hypothesis template could be **\"This example is {}.\"**. The {} is a placeholder where the candidate label is inserted, allowing the model to consider each label as a potential classification.\n",
        "\n",
        "3. **Forming Hypotheses using template and labels:**<br>\n",
        "Based on the label examples and hypothesis template, the resulting hypotheses will be:\n",
        "   - \"This example is food.\"\n",
        "   - \"This example is ambiance.\"\n",
        "   - \"This example is service.\"\n",
        "   - \"This example is other.\"\n",
        "\n",
        "4. **Zero-Shot Classification Process:**\n",
        "   - **Step 1:** Combine premise and hypotheses.\n",
        "   - **Step 2:** Utilize a pre-trained NLI model to calculate entailment probabilities (probability that hypothesis follows from premise) for each hypothesis.\n",
        "   - **Step 3:** Return the probabilities for each label.\n",
        "\n",
        "### Example\n",
        "\n",
        "Given a review like \"The food was excellent,\" the model might return:\n",
        "   - food: 0.95\n",
        "   - ambiance: 0.05\n",
        "   - service: 0.02\n",
        "   - other: 0.023\n",
        "\n",
        "**The probability of 0.95 for the label \"food\" means that the model has a 95% confidence that the premise \"The food was excellent\" entails the hypothesis \"This example is food.\"**  The other probabilities represent the model's confidence for the remaining labels.\n",
        "\n",
        "### Conclusion\n",
        "\n",
        "Hugging Face's zero-shot classification pipeline calculates probabilities for multiple categories by leveraging NLI concepts. This approach offers flexibility in text analysis without the need for task-specific training, providing insights into the relevance of different labels to a given text.\n",
        "\n",
        "\n"
      ]
    },
    {
      "cell_type": "markdown",
      "metadata": {
        "id": "qYn8mf9mpl_G"
      },
      "source": [
        "# <Font color = 'dodgerblue'>**Data and Task Description**\n",
        "\n",
        "- For this Question, you are provided a csv file (review_sentences.csv) that has 584 sentences from restautant reviews from Yelp. You have to classify the sentences in to four labels: `[\"food,\" \"ambiance,\" \"service,\" and \"other.\"]`.\n",
        "- The csv file is availble in eLearning in 0_Data folder.\n",
        "- You will use a zero-shot-classification pipleine from huggingface to make predictions.\n",
        "- You are also provided the actual labels. You will use these labels to access the accuracy of the model."
      ]
    },
    {
      "cell_type": "markdown",
      "metadata": {
        "id": "12773301-f940-4545-ac8e-8545ed6c964b"
      },
      "source": [
        "# <font color = 'indian red'> **Install/Import Modules**"
      ]
    },
    {
      "cell_type": "code",
      "execution_count": null,
      "metadata": {
        "colab": {
          "base_uri": "https://localhost:8080/"
        },
        "execution": {
          "iopub.execute_input": "2022-09-25T17:30:13.094523Z",
          "iopub.status.busy": "2022-09-25T17:30:13.094325Z",
          "iopub.status.idle": "2022-09-25T17:30:13.097566Z",
          "shell.execute_reply": "2022-09-25T17:30:13.096998Z",
          "shell.execute_reply.started": "2022-09-25T17:30:13.094509Z"
        },
        "id": "96a03b3c-53a5-4478-b864-e8a735f1f614",
        "outputId": "c1edb63f-5cdf-4d35-bcee-6f82b1d38b03",
        "tags": []
      },
      "outputs": [
        {
          "name": "stdout",
          "output_type": "stream",
          "text": [
            "\u001b[2K     \u001b[90m━━━━━━━━━━━━━━━━━━━━━━━━━━━━━━━━━━━━━━━━\u001b[0m \u001b[32m7.5/7.5 MB\u001b[0m \u001b[31m14.4 MB/s\u001b[0m eta \u001b[36m0:00:00\u001b[0m\n",
            "\u001b[2K     \u001b[90m━━━━━━━━━━━━━━━━━━━━━━━━━━━━━━━━━━━━━━\u001b[0m \u001b[32m268.8/268.8 kB\u001b[0m \u001b[31m28.3 MB/s\u001b[0m eta \u001b[36m0:00:00\u001b[0m\n",
            "\u001b[2K     \u001b[90m━━━━━━━━━━━━━━━━━━━━━━━━━━━━━━━━━━━━━━━━\u001b[0m \u001b[32m7.8/7.8 MB\u001b[0m \u001b[31m37.5 MB/s\u001b[0m eta \u001b[36m0:00:00\u001b[0m\n",
            "\u001b[2K     \u001b[90m━━━━━━━━━━━━━━━━━━━━━━━━━━━━━━━━━━━━━━━━\u001b[0m \u001b[32m1.3/1.3 MB\u001b[0m \u001b[31m41.6 MB/s\u001b[0m eta \u001b[36m0:00:00\u001b[0m\n",
            "\u001b[2K     \u001b[90m━━━━━━━━━━━━━━━━━━━━━━━━━━━━━━━━━━━━━━━━\u001b[0m \u001b[32m1.3/1.3 MB\u001b[0m \u001b[31m8.5 MB/s\u001b[0m eta \u001b[36m0:00:00\u001b[0m\n",
            "\u001b[?25h"
          ]
        }
      ],
      "source": [
        "if 'google.colab' in str(get_ipython()):\n",
        "    !pip install transformers -U -qq\n",
        "    !pip install sentencepiece -U -qq"
      ]
    },
    {
      "cell_type": "code",
      "execution_count": null,
      "metadata": {
        "execution": {
          "iopub.execute_input": "2022-09-25T17:30:19.802075Z",
          "iopub.status.busy": "2022-09-25T17:30:19.801789Z",
          "iopub.status.idle": "2022-09-25T17:30:19.804799Z",
          "shell.execute_reply": "2022-09-25T17:30:19.804440Z",
          "shell.execute_reply.started": "2022-09-25T17:30:19.802059Z"
        },
        "id": "7a9a863b-d87c-4df6-bdf3-b30aa695f846",
        "tags": []
      },
      "outputs": [],
      "source": [
        "\n",
        "# Import the pandas library for data manipulation and analysis\n",
        "import pandas as pd\n",
        "\n",
        "# Import the numpy library for numerical computing\n",
        "import numpy as np\n",
        "\n",
        "# Import the Matplotlib library for creating visualizations such as plots, graphs, etc.\n",
        "import matplotlib.pyplot as plt\n",
        "\n",
        "# Import the pathlib library for working with file paths in a way that is cross-platform\n",
        "from pathlib import Path\n",
        "\n",
        "# Import functions for metrics computation like confusion matrix, and accuracy\n",
        "from sklearn.metrics import confusion_matrix, ConfusionMatrixDisplay, accuracy_score, classification_report\n",
        "\n",
        "# Import the transformers library for state-of-the-art Natural Language Processing (NLP) models like BERT, GPT, etc.\n",
        "from transformers import pipeline\n",
        "from itertools import islice\n"
      ]
    },
    {
      "cell_type": "code",
      "execution_count": null,
      "metadata": {
        "colab": {
          "base_uri": "https://localhost:8080/"
        },
        "id": "hS8jehl6menq",
        "outputId": "8747c58c-77cf-433a-8952-0be4cd7980af"
      },
      "outputs": [
        {
          "name": "stdout",
          "output_type": "stream",
          "text": [
            "Requirement already satisfied: transformers in /usr/local/lib/python3.10/dist-packages (4.32.1)\n",
            "Requirement already satisfied: filelock in /usr/local/lib/python3.10/dist-packages (from transformers) (3.12.2)\n",
            "Requirement already satisfied: huggingface-hub<1.0,>=0.15.1 in /usr/local/lib/python3.10/dist-packages (from transformers) (0.16.4)\n",
            "Requirement already satisfied: numpy>=1.17 in /usr/local/lib/python3.10/dist-packages (from transformers) (1.23.5)\n",
            "Requirement already satisfied: packaging>=20.0 in /usr/local/lib/python3.10/dist-packages (from transformers) (23.1)\n",
            "Requirement already satisfied: pyyaml>=5.1 in /usr/local/lib/python3.10/dist-packages (from transformers) (6.0.1)\n",
            "Requirement already satisfied: regex!=2019.12.17 in /usr/local/lib/python3.10/dist-packages (from transformers) (2023.6.3)\n",
            "Requirement already satisfied: requests in /usr/local/lib/python3.10/dist-packages (from transformers) (2.31.0)\n",
            "Requirement already satisfied: tokenizers!=0.11.3,<0.14,>=0.11.1 in /usr/local/lib/python3.10/dist-packages (from transformers) (0.13.3)\n",
            "Requirement already satisfied: safetensors>=0.3.1 in /usr/local/lib/python3.10/dist-packages (from transformers) (0.3.3)\n",
            "Requirement already satisfied: tqdm>=4.27 in /usr/local/lib/python3.10/dist-packages (from transformers) (4.66.1)\n",
            "Requirement already satisfied: fsspec in /usr/local/lib/python3.10/dist-packages (from huggingface-hub<1.0,>=0.15.1->transformers) (2023.6.0)\n",
            "Requirement already satisfied: typing-extensions>=3.7.4.3 in /usr/local/lib/python3.10/dist-packages (from huggingface-hub<1.0,>=0.15.1->transformers) (4.7.1)\n",
            "Requirement already satisfied: charset-normalizer<4,>=2 in /usr/local/lib/python3.10/dist-packages (from requests->transformers) (3.2.0)\n",
            "Requirement already satisfied: idna<4,>=2.5 in /usr/local/lib/python3.10/dist-packages (from requests->transformers) (3.4)\n",
            "Requirement already satisfied: urllib3<3,>=1.21.1 in /usr/local/lib/python3.10/dist-packages (from requests->transformers) (2.0.4)\n",
            "Requirement already satisfied: certifi>=2017.4.17 in /usr/local/lib/python3.10/dist-packages (from requests->transformers) (2023.7.22)\n"
          ]
        }
      ],
      "source": [
        "!pip install transformers"
      ]
    },
    {
      "cell_type": "markdown",
      "metadata": {
        "id": "a43e7e8e-42fb-48bb-92ee-7664bba37482"
      },
      "source": [
        "# <font color = 'indian red'>**Specify Base folder for Project**"
      ]
    },
    {
      "cell_type": "code",
      "execution_count": null,
      "metadata": {
        "colab": {
          "base_uri": "https://localhost:8080/"
        },
        "execution": {
          "iopub.execute_input": "2022-09-24T20:52:39.665944Z",
          "iopub.status.busy": "2022-09-24T20:52:39.665715Z",
          "iopub.status.idle": "2022-09-24T20:52:39.688510Z",
          "shell.execute_reply": "2022-09-24T20:52:39.687856Z",
          "shell.execute_reply.started": "2022-09-24T20:52:39.665930Z"
        },
        "id": "46473c1e-a70c-4f30-b0b4-baafcfc9dccf",
        "outputId": "dfbe418b-372e-48f3-9686-3f9920c7fefc",
        "tags": []
      },
      "outputs": [
        {
          "name": "stdout",
          "output_type": "stream",
          "text": [
            "Mounted at /content/drive\n"
          ]
        }
      ],
      "source": [
        "if 'google.colab' in str(get_ipython()):\n",
        "  from google.colab import drive\n",
        "  drive.mount('/content/drive')\n",
        "  base_folder = Path('/content/drive/MyDrive') # MAKE SURE TO CHANGE THE PATH\n",
        "\n",
        "# (the else block is required only if you have local GPU machine, other wise you can ignore the else block)\n",
        "#else:\n",
        "  #base_folder = Path('/home/harpreet/Insync/google_drive_shaannoor/data') # MAKE SURE TO CHANGE THE PATH\n",
        "\n"
      ]
    },
    {
      "cell_type": "markdown",
      "metadata": {
        "id": "LEuZToXJvbp_"
      },
      "source": [
        "## <Font color = 'dodgerblue'>**Create DataFrame**"
      ]
    },
    {
      "cell_type": "code",
      "execution_count": null,
      "metadata": {
        "id": "pLouBkwinb9g"
      },
      "outputs": [],
      "source": [
        "data_folder = base_folder/'Colab_Notebooks' # MAKE SURE TO CHANGE THE PATH"
      ]
    },
    {
      "cell_type": "code",
      "execution_count": null,
      "metadata": {
        "id": "OS0nt6thnccL"
      },
      "outputs": [],
      "source": [
        "# location of train and test files\n",
        "data_file = data_folder /'review_sentences.csv'"
      ]
    },
    {
      "cell_type": "code",
      "execution_count": null,
      "metadata": {
        "execution": {
          "iopub.execute_input": "2022-11-27T12:00:46.966533Z",
          "iopub.status.busy": "2022-11-27T12:00:46.966294Z",
          "iopub.status.idle": "2022-11-27T12:00:47.330265Z",
          "shell.execute_reply": "2022-11-27T12:00:47.329743Z",
          "shell.execute_reply.started": "2022-11-27T12:00:46.966507Z"
        },
        "id": "98f933d1-7cf1-49fc-b3e0-33d5e1810080",
        "tags": []
      },
      "outputs": [],
      "source": [
        "# creating Pandas Dataframe\n",
        "train_data = pd.read_csv(data_file, index_col=0, encoding='ISO-8859-1')"
      ]
    },
    {
      "cell_type": "code",
      "execution_count": null,
      "metadata": {
        "colab": {
          "base_uri": "https://localhost:8080/"
        },
        "execution": {
          "iopub.execute_input": "2022-11-27T12:00:49.141600Z",
          "iopub.status.busy": "2022-11-27T12:00:49.141359Z",
          "iopub.status.idle": "2022-11-27T12:00:49.144979Z",
          "shell.execute_reply": "2022-11-27T12:00:49.144442Z",
          "shell.execute_reply.started": "2022-11-27T12:00:49.141574Z"
        },
        "id": "e51abd57-98dc-42e8-8eb7-8ee7aa2c0826",
        "outputId": "859072e2-6441-4078-f71d-cb5c131520fd",
        "tags": []
      },
      "outputs": [
        {
          "name": "stdout",
          "output_type": "stream",
          "text": [
            "Shape of Training data set is : (584, 2)\n"
          ]
        }
      ],
      "source": [
        "# print shape of the datasets\n",
        "print(f'Shape of Training data set is : {train_data.shape}')"
      ]
    },
    {
      "cell_type": "code",
      "execution_count": null,
      "metadata": {
        "colab": {
          "base_uri": "https://localhost:8080/"
        },
        "execution": {
          "iopub.execute_input": "2022-11-27T12:00:53.875850Z",
          "iopub.status.busy": "2022-11-27T12:00:53.875722Z",
          "iopub.status.idle": "2022-11-27T12:00:53.881530Z",
          "shell.execute_reply": "2022-11-27T12:00:53.880914Z",
          "shell.execute_reply.started": "2022-11-27T12:00:53.875838Z"
        },
        "id": "8d3157a4-b99c-40b8-af7a-07f604a819a1",
        "outputId": "e630b883-e052-431c-eefb-c9860d12e6f7",
        "tags": []
      },
      "outputs": [
        {
          "name": "stdout",
          "output_type": "stream",
          "text": [
            "<class 'pandas.core.frame.DataFrame'>\n",
            "Int64Index: 584 entries, 0 to 599\n",
            "Data columns (total 2 columns):\n",
            " #   Column       Non-Null Count  Dtype \n",
            "---  ------       --------------  ----- \n",
            " 0   text         584 non-null    object\n",
            " 1   final_label  584 non-null    object\n",
            "dtypes: object(2)\n",
            "memory usage: 13.7+ KB\n"
          ]
        }
      ],
      "source": [
        "train_data.info()"
      ]
    },
    {
      "cell_type": "code",
      "execution_count": null,
      "metadata": {
        "colab": {
          "base_uri": "https://localhost:8080/",
          "height": 238
        },
        "id": "HfJq-sfztFWK",
        "outputId": "a8acd5a7-ac20-4dac-9926-1cd17fcb1a5d"
      },
      "outputs": [
        {
          "data": {
            "text/html": [
              "\n",
              "  <div id=\"df-6618cfe3-3634-4020-b96c-093b4c44d1f6\" class=\"colab-df-container\">\n",
              "    <div>\n",
              "<style scoped>\n",
              "    .dataframe tbody tr th:only-of-type {\n",
              "        vertical-align: middle;\n",
              "    }\n",
              "\n",
              "    .dataframe tbody tr th {\n",
              "        vertical-align: top;\n",
              "    }\n",
              "\n",
              "    .dataframe thead th {\n",
              "        text-align: right;\n",
              "    }\n",
              "</style>\n",
              "<table border=\"1\" class=\"dataframe\">\n",
              "  <thead>\n",
              "    <tr style=\"text-align: right;\">\n",
              "      <th></th>\n",
              "      <th>text</th>\n",
              "      <th>final_label</th>\n",
              "    </tr>\n",
              "    <tr>\n",
              "      <th>sentences</th>\n",
              "      <th></th>\n",
              "      <th></th>\n",
              "    </tr>\n",
              "  </thead>\n",
              "  <tbody>\n",
              "    <tr>\n",
              "      <th>0</th>\n",
              "      <td>If you love unagi (eel) on rice, you'll absolu...</td>\n",
              "      <td>food</td>\n",
              "    </tr>\n",
              "    <tr>\n",
              "      <th>1</th>\n",
              "      <td>But it is definitely worth the wait.</td>\n",
              "      <td>service</td>\n",
              "    </tr>\n",
              "    <tr>\n",
              "      <th>3</th>\n",
              "      <td>Sometimes get the Pho w/ rare beef which is de...</td>\n",
              "      <td>food</td>\n",
              "    </tr>\n",
              "    <tr>\n",
              "      <th>4</th>\n",
              "      <td>Other items on this menu was a crab soup, duck...</td>\n",
              "      <td>food</td>\n",
              "    </tr>\n",
              "    <tr>\n",
              "      <th>5</th>\n",
              "      <td>I visited the restaurant for lunch and arrived...</td>\n",
              "      <td>other</td>\n",
              "    </tr>\n",
              "  </tbody>\n",
              "</table>\n",
              "</div>\n",
              "    <div class=\"colab-df-buttons\">\n",
              "\n",
              "  <div class=\"colab-df-container\">\n",
              "    <button class=\"colab-df-convert\" onclick=\"convertToInteractive('df-6618cfe3-3634-4020-b96c-093b4c44d1f6')\"\n",
              "            title=\"Convert this dataframe to an interactive table.\"\n",
              "            style=\"display:none;\">\n",
              "\n",
              "  <svg xmlns=\"http://www.w3.org/2000/svg\" height=\"24px\" viewBox=\"0 -960 960 960\">\n",
              "    <path d=\"M120-120v-720h720v720H120Zm60-500h600v-160H180v160Zm220 220h160v-160H400v160Zm0 220h160v-160H400v160ZM180-400h160v-160H180v160Zm440 0h160v-160H620v160ZM180-180h160v-160H180v160Zm440 0h160v-160H620v160Z\"/>\n",
              "  </svg>\n",
              "    </button>\n",
              "\n",
              "  <style>\n",
              "    .colab-df-container {\n",
              "      display:flex;\n",
              "      gap: 12px;\n",
              "    }\n",
              "\n",
              "    .colab-df-convert {\n",
              "      background-color: #E8F0FE;\n",
              "      border: none;\n",
              "      border-radius: 50%;\n",
              "      cursor: pointer;\n",
              "      display: none;\n",
              "      fill: #1967D2;\n",
              "      height: 32px;\n",
              "      padding: 0 0 0 0;\n",
              "      width: 32px;\n",
              "    }\n",
              "\n",
              "    .colab-df-convert:hover {\n",
              "      background-color: #E2EBFA;\n",
              "      box-shadow: 0px 1px 2px rgba(60, 64, 67, 0.3), 0px 1px 3px 1px rgba(60, 64, 67, 0.15);\n",
              "      fill: #174EA6;\n",
              "    }\n",
              "\n",
              "    .colab-df-buttons div {\n",
              "      margin-bottom: 4px;\n",
              "    }\n",
              "\n",
              "    [theme=dark] .colab-df-convert {\n",
              "      background-color: #3B4455;\n",
              "      fill: #D2E3FC;\n",
              "    }\n",
              "\n",
              "    [theme=dark] .colab-df-convert:hover {\n",
              "      background-color: #434B5C;\n",
              "      box-shadow: 0px 1px 3px 1px rgba(0, 0, 0, 0.15);\n",
              "      filter: drop-shadow(0px 1px 2px rgba(0, 0, 0, 0.3));\n",
              "      fill: #FFFFFF;\n",
              "    }\n",
              "  </style>\n",
              "\n",
              "    <script>\n",
              "      const buttonEl =\n",
              "        document.querySelector('#df-6618cfe3-3634-4020-b96c-093b4c44d1f6 button.colab-df-convert');\n",
              "      buttonEl.style.display =\n",
              "        google.colab.kernel.accessAllowed ? 'block' : 'none';\n",
              "\n",
              "      async function convertToInteractive(key) {\n",
              "        const element = document.querySelector('#df-6618cfe3-3634-4020-b96c-093b4c44d1f6');\n",
              "        const dataTable =\n",
              "          await google.colab.kernel.invokeFunction('convertToInteractive',\n",
              "                                                    [key], {});\n",
              "        if (!dataTable) return;\n",
              "\n",
              "        const docLinkHtml = 'Like what you see? Visit the ' +\n",
              "          '<a target=\"_blank\" href=https://colab.research.google.com/notebooks/data_table.ipynb>data table notebook</a>'\n",
              "          + ' to learn more about interactive tables.';\n",
              "        element.innerHTML = '';\n",
              "        dataTable['output_type'] = 'display_data';\n",
              "        await google.colab.output.renderOutput(dataTable, element);\n",
              "        const docLink = document.createElement('div');\n",
              "        docLink.innerHTML = docLinkHtml;\n",
              "        element.appendChild(docLink);\n",
              "      }\n",
              "    </script>\n",
              "  </div>\n",
              "\n",
              "\n",
              "<div id=\"df-2ba51036-eabd-41be-a83d-07ea64aa5f90\">\n",
              "  <button class=\"colab-df-quickchart\" onclick=\"quickchart('df-2ba51036-eabd-41be-a83d-07ea64aa5f90')\"\n",
              "            title=\"Suggest charts.\"\n",
              "            style=\"display:none;\">\n",
              "\n",
              "<svg xmlns=\"http://www.w3.org/2000/svg\" height=\"24px\"viewBox=\"0 0 24 24\"\n",
              "     width=\"24px\">\n",
              "    <g>\n",
              "        <path d=\"M19 3H5c-1.1 0-2 .9-2 2v14c0 1.1.9 2 2 2h14c1.1 0 2-.9 2-2V5c0-1.1-.9-2-2-2zM9 17H7v-7h2v7zm4 0h-2V7h2v10zm4 0h-2v-4h2v4z\"/>\n",
              "    </g>\n",
              "</svg>\n",
              "  </button>\n",
              "\n",
              "<style>\n",
              "  .colab-df-quickchart {\n",
              "      --bg-color: #E8F0FE;\n",
              "      --fill-color: #1967D2;\n",
              "      --hover-bg-color: #E2EBFA;\n",
              "      --hover-fill-color: #174EA6;\n",
              "      --disabled-fill-color: #AAA;\n",
              "      --disabled-bg-color: #DDD;\n",
              "  }\n",
              "\n",
              "  [theme=dark] .colab-df-quickchart {\n",
              "      --bg-color: #3B4455;\n",
              "      --fill-color: #D2E3FC;\n",
              "      --hover-bg-color: #434B5C;\n",
              "      --hover-fill-color: #FFFFFF;\n",
              "      --disabled-bg-color: #3B4455;\n",
              "      --disabled-fill-color: #666;\n",
              "  }\n",
              "\n",
              "  .colab-df-quickchart {\n",
              "    background-color: var(--bg-color);\n",
              "    border: none;\n",
              "    border-radius: 50%;\n",
              "    cursor: pointer;\n",
              "    display: none;\n",
              "    fill: var(--fill-color);\n",
              "    height: 32px;\n",
              "    padding: 0;\n",
              "    width: 32px;\n",
              "  }\n",
              "\n",
              "  .colab-df-quickchart:hover {\n",
              "    background-color: var(--hover-bg-color);\n",
              "    box-shadow: 0 1px 2px rgba(60, 64, 67, 0.3), 0 1px 3px 1px rgba(60, 64, 67, 0.15);\n",
              "    fill: var(--button-hover-fill-color);\n",
              "  }\n",
              "\n",
              "  .colab-df-quickchart-complete:disabled,\n",
              "  .colab-df-quickchart-complete:disabled:hover {\n",
              "    background-color: var(--disabled-bg-color);\n",
              "    fill: var(--disabled-fill-color);\n",
              "    box-shadow: none;\n",
              "  }\n",
              "\n",
              "  .colab-df-spinner {\n",
              "    border: 2px solid var(--fill-color);\n",
              "    border-color: transparent;\n",
              "    border-bottom-color: var(--fill-color);\n",
              "    animation:\n",
              "      spin 1s steps(1) infinite;\n",
              "  }\n",
              "\n",
              "  @keyframes spin {\n",
              "    0% {\n",
              "      border-color: transparent;\n",
              "      border-bottom-color: var(--fill-color);\n",
              "      border-left-color: var(--fill-color);\n",
              "    }\n",
              "    20% {\n",
              "      border-color: transparent;\n",
              "      border-left-color: var(--fill-color);\n",
              "      border-top-color: var(--fill-color);\n",
              "    }\n",
              "    30% {\n",
              "      border-color: transparent;\n",
              "      border-left-color: var(--fill-color);\n",
              "      border-top-color: var(--fill-color);\n",
              "      border-right-color: var(--fill-color);\n",
              "    }\n",
              "    40% {\n",
              "      border-color: transparent;\n",
              "      border-right-color: var(--fill-color);\n",
              "      border-top-color: var(--fill-color);\n",
              "    }\n",
              "    60% {\n",
              "      border-color: transparent;\n",
              "      border-right-color: var(--fill-color);\n",
              "    }\n",
              "    80% {\n",
              "      border-color: transparent;\n",
              "      border-right-color: var(--fill-color);\n",
              "      border-bottom-color: var(--fill-color);\n",
              "    }\n",
              "    90% {\n",
              "      border-color: transparent;\n",
              "      border-bottom-color: var(--fill-color);\n",
              "    }\n",
              "  }\n",
              "</style>\n",
              "\n",
              "  <script>\n",
              "    async function quickchart(key) {\n",
              "      const quickchartButtonEl =\n",
              "        document.querySelector('#' + key + ' button');\n",
              "      quickchartButtonEl.disabled = true;  // To prevent multiple clicks.\n",
              "      quickchartButtonEl.classList.add('colab-df-spinner');\n",
              "      try {\n",
              "        const charts = await google.colab.kernel.invokeFunction(\n",
              "            'suggestCharts', [key], {});\n",
              "      } catch (error) {\n",
              "        console.error('Error during call to suggestCharts:', error);\n",
              "      }\n",
              "      quickchartButtonEl.classList.remove('colab-df-spinner');\n",
              "      quickchartButtonEl.classList.add('colab-df-quickchart-complete');\n",
              "    }\n",
              "    (() => {\n",
              "      let quickchartButtonEl =\n",
              "        document.querySelector('#df-2ba51036-eabd-41be-a83d-07ea64aa5f90 button');\n",
              "      quickchartButtonEl.style.display =\n",
              "        google.colab.kernel.accessAllowed ? 'block' : 'none';\n",
              "    })();\n",
              "  </script>\n",
              "</div>\n",
              "    </div>\n",
              "  </div>\n"
            ],
            "text/plain": [
              "                                                        text final_label\n",
              "sentences                                                               \n",
              "0          If you love unagi (eel) on rice, you'll absolu...        food\n",
              "1                       But it is definitely worth the wait.     service\n",
              "3          Sometimes get the Pho w/ rare beef which is de...        food\n",
              "4          Other items on this menu was a crab soup, duck...        food\n",
              "5          I visited the restaurant for lunch and arrived...       other"
            ]
          },
          "execution_count": 11,
          "metadata": {},
          "output_type": "execute_result"
        }
      ],
      "source": [
        "# check first five examples\n",
        "train_data.head()"
      ]
    },
    {
      "cell_type": "code",
      "execution_count": null,
      "metadata": {
        "colab": {
          "base_uri": "https://localhost:8080/"
        },
        "id": "MYLzdiWRZ2Hl",
        "outputId": "1d03710e-ee92-4b80-caf4-8bdfdb168349"
      },
      "outputs": [
        {
          "data": {
            "text/plain": [
              "food        279\n",
              "other       139\n",
              "service     120\n",
              "ambiance     46\n",
              "Name: final_label, dtype: int64"
            ]
          },
          "execution_count": 12,
          "metadata": {},
          "output_type": "execute_result"
        }
      ],
      "source": [
        "# check disytribution of labels\n",
        "train_data['final_label'].value_counts()"
      ]
    },
    {
      "cell_type": "markdown",
      "metadata": {
        "id": "_4fujYvhv1Rt"
      },
      "source": [
        "## <Font color = 'dodgerblue'>**Load Pipeline**"
      ]
    },
    {
      "cell_type": "code",
      "execution_count": null,
      "metadata": {
        "colab": {
          "base_uri": "https://localhost:8080/",
          "height": 265,
          "referenced_widgets": [
            "e0e48d7306274dbe89893e528001012f",
            "c1d540077a6540ce858c85ba6113e343",
            "291b5028681648b09a1d9df1954b0776",
            "4c2451015db844c58063e3e9831f5102",
            "1b786e2539144a58890ff1b1f3d40d18",
            "b6b37e5f01b1480084be862a857699b6",
            "279f22b56cca4650b1893b44d7ca5a5d",
            "b900d1b1afad47e5869591b0b9d7786e",
            "3aca072e13e94167aa377f8fcc730ada",
            "0bb866a767fe48b3aa4f3b90682da68f",
            "ea1a076795a846889b4419e2d84619b5",
            "eff059da530d4acf907c11ff9445d4f3",
            "8dffc0c3068642d58a8ec31293ec1000",
            "747d1f9a22fd463b9da4d552b7cc0e79",
            "506ddef97cc64017a6d24c6c033be3ff",
            "a5c32441b2de4b4e944a5b53b94ee6e1",
            "fa393a868e7440da8d80df071a0a12ee",
            "44ae06d016dd4c41aa7cc0bc8b36af82",
            "5625232bac6d47f08c791a2e75b1ce39",
            "05ff0a91ad0c415d9a35ae52b36f0013",
            "017f0f4913164b3aaa79079727a33deb",
            "0f9db6ec88ba430bb85be2c4dd7ae38d",
            "6b497ed1203b4e4eaed5a469d63f97bb",
            "a7c9eed514304a5994c1eef313fdacc1",
            "6a5c685964434f06871a188f8475ae75",
            "be2431dae7e243569d20ff952b56558f",
            "4aebc53abc28459f8c70caacb0bba68a",
            "43c6395548f34dfe9543268d7ef98ec3",
            "879fc5436cbb4bb487b79d6680d7184b",
            "2981008473784b27a556634f5e855007",
            "4c32e56190a0455cb21024947c0dc24f",
            "f6207d034b5847e5bbb5f73d32676019",
            "2ef36766c3014b27b927d3b0cec34f82",
            "16336037ac7d46ae957bfc406ce6c24f",
            "ad4fe9f6145d4e7c9771004f8b9634a7",
            "f5807f1c422c4c158e1c24c0496e722f",
            "082d73807ea2483cac7d8e6c24f90132",
            "cf8dbd4d26f946bab97b4a6a54e88c91",
            "3b87178018f1468984803d9202030c5a",
            "6539388d6aa741bf917e2426ba25c627",
            "004bd24df5b8407bbb79e2f50bbe6e72",
            "a0775e8000774c3893b1a9c13f20edd6",
            "90c21697089b4337ab0dd9f4e04f5268",
            "834ba5ca639a492db31f8e7f03a9c12b",
            "aa9d3fc2f61b40b1827e28e44c586f4b",
            "dd841fb280644265a0f7f2e6c4c16cc9",
            "c684223777674d6598b20695936e06da",
            "03a824e91d1148babb7c286301b463b2",
            "4029b236201d4f75aa0986e1702def79",
            "c176d8400d594f2a93ad1a55c6a49b03",
            "5f5f9523847f4fa9ba09d46901452707",
            "e4f8859300ae426cae9151339fb10010",
            "11fb4c9e9d83486bba0493eff8f7e7f6",
            "8c01189914964feca65fa5a9ee5cf8a0",
            "02e7759066414706a61ed44f22cc1d1a",
            "0893162933774f9598736cd694992db0",
            "55bcfd8fdfa14bcfade1d281c8f4640e",
            "e266d1c0500349d4b8041bd30e9020cc",
            "820e431ac172444eb039b20ef6ac9635",
            "bf8da88475bb44f984817cdcbf201e40",
            "ed246a0cf7fd408688eae7081f41e8e6",
            "e4ff43e8cf50469883af75a8f4d5c7b8",
            "662f8a93ecdf4f2488ca6380d3a89f52",
            "79ef36dc1c8c4646b8b66de7b295eb7e",
            "6ccd23231e0c4a76a468e300b2f2bd65",
            "df580c06acec4162ab210a855edf537d"
          ]
        },
        "execution": {
          "iopub.execute_input": "2022-11-27T12:01:44.481793Z",
          "iopub.status.busy": "2022-11-27T12:01:44.481554Z",
          "iopub.status.idle": "2022-11-27T12:01:44.486406Z",
          "shell.execute_reply": "2022-11-27T12:01:44.485776Z",
          "shell.execute_reply.started": "2022-11-27T12:01:44.481768Z"
        },
        "id": "cbd916e4-6587-46c8-93c4-f2f00edf7748",
        "outputId": "8eb76657-6144-493d-fa2f-c8c5e37c0d70",
        "tags": []
      },
      "outputs": [
        {
          "name": "stderr",
          "output_type": "stream",
          "text": [
            "No model was supplied, defaulted to facebook/bart-large-mnli and revision c626438 (https://huggingface.co/facebook/bart-large-mnli).\n",
            "Using a pipeline without specifying a model name and revision in production is not recommended.\n"
          ]
        },
        {
          "data": {
            "application/vnd.jupyter.widget-view+json": {
              "model_id": "e0e48d7306274dbe89893e528001012f",
              "version_major": 2,
              "version_minor": 0
            },
            "text/plain": [
              "Downloading (…)lve/main/config.json:   0%|          | 0.00/1.15k [00:00<?, ?B/s]"
            ]
          },
          "metadata": {},
          "output_type": "display_data"
        },
        {
          "data": {
            "application/vnd.jupyter.widget-view+json": {
              "model_id": "eff059da530d4acf907c11ff9445d4f3",
              "version_major": 2,
              "version_minor": 0
            },
            "text/plain": [
              "Downloading model.safetensors:   0%|          | 0.00/1.63G [00:00<?, ?B/s]"
            ]
          },
          "metadata": {},
          "output_type": "display_data"
        },
        {
          "data": {
            "application/vnd.jupyter.widget-view+json": {
              "model_id": "6b497ed1203b4e4eaed5a469d63f97bb",
              "version_major": 2,
              "version_minor": 0
            },
            "text/plain": [
              "Downloading (…)okenizer_config.json:   0%|          | 0.00/26.0 [00:00<?, ?B/s]"
            ]
          },
          "metadata": {},
          "output_type": "display_data"
        },
        {
          "data": {
            "application/vnd.jupyter.widget-view+json": {
              "model_id": "16336037ac7d46ae957bfc406ce6c24f",
              "version_major": 2,
              "version_minor": 0
            },
            "text/plain": [
              "Downloading (…)olve/main/vocab.json:   0%|          | 0.00/899k [00:00<?, ?B/s]"
            ]
          },
          "metadata": {},
          "output_type": "display_data"
        },
        {
          "data": {
            "application/vnd.jupyter.widget-view+json": {
              "model_id": "aa9d3fc2f61b40b1827e28e44c586f4b",
              "version_major": 2,
              "version_minor": 0
            },
            "text/plain": [
              "Downloading (…)olve/main/merges.txt:   0%|          | 0.00/456k [00:00<?, ?B/s]"
            ]
          },
          "metadata": {},
          "output_type": "display_data"
        },
        {
          "data": {
            "application/vnd.jupyter.widget-view+json": {
              "model_id": "0893162933774f9598736cd694992db0",
              "version_major": 2,
              "version_minor": 0
            },
            "text/plain": [
              "Downloading (…)/main/tokenizer.json:   0%|          | 0.00/1.36M [00:00<?, ?B/s]"
            ]
          },
          "metadata": {},
          "output_type": "display_data"
        }
      ],
      "source": [
        "# Load zero shot classification pipleine - do not pass any model. We will use the default model\n",
        "# use pytorch as framework and move the pipleine to GPU\n",
        "# syntax : zero_shot_classifier = pipeline(name-of-pipeline, framework=, device =)\n",
        "\n",
        "zero_shot_classifier = pipeline(\"zero-shot-classification\",framework='pt', device = 0)"
      ]
    },
    {
      "cell_type": "markdown",
      "metadata": {
        "id": "xuHnPBf8pSjA"
      },
      "source": [
        "## <Font color = 'dodgerblue'>**Task1 : Base experiment**.\n",
        "\n",
        "- **In this Task you will pass all the four labels to the classifier.**"
      ]
    },
    {
      "cell_type": "markdown",
      "metadata": {
        "id": "wCZK8GT_wHwa"
      },
      "source": [
        "### <Font color = 'dodgerblue'>**Create a list of reviews**"
      ]
    },
    {
      "cell_type": "code",
      "execution_count": null,
      "metadata": {
        "id": "3_BlvcFmvzA4"
      },
      "outputs": [],
      "source": [
        "# create a list of reviews (hint use column.tolist() to convert numpy array series to python list)\n",
        "texts_train =   train_data[\"text\"].tolist()\n",
        "\n",
        "# list of labels\n",
        "candidate_labels = ['food', 'ambiance', 'service', 'other']"
      ]
    },
    {
      "cell_type": "markdown",
      "metadata": {
        "id": "HfoUsKpPwTtb"
      },
      "source": [
        "### <Font color = 'dodgerblue'>**Get Probbailities**\n",
        "\n",
        "Pass the list of text and labels you created in the previous step to the classifier to get predictions.\n",
        "\n",
        "The syntax is : **```probs = zero_shot_classifier(sequences= , candidate_labels =  )```**"
      ]
    },
    {
      "cell_type": "code",
      "execution_count": null,
      "metadata": {
        "execution": {
          "iopub.execute_input": "2022-11-27T12:01:45.594721Z",
          "iopub.status.busy": "2022-11-27T12:01:45.594481Z",
          "iopub.status.idle": "2022-11-27T12:01:50.801737Z",
          "shell.execute_reply": "2022-11-27T12:01:50.801068Z",
          "shell.execute_reply.started": "2022-11-27T12:01:45.594695Z"
        },
        "id": "95e85b0a-81ac-4b04-af9f-11ee9cfe9cf1",
        "tags": []
      },
      "outputs": [],
      "source": [
        "probs =  zero_shot_classifier(sequences= texts_train, candidate_labels= candidate_labels)"
      ]
    },
    {
      "cell_type": "code",
      "execution_count": null,
      "metadata": {
        "colab": {
          "base_uri": "https://localhost:8080/"
        },
        "id": "kbiET8QIHprI",
        "outputId": "521c865a-097b-47a5-a1eb-b762aa81ed2c"
      },
      "outputs": [
        {
          "data": {
            "text/plain": [
              "[{'sequence': \"If you love unagi (eel) on rice, you'll absolutely enjoy their version.\",\n",
              "  'labels': ['food', 'ambiance', 'service', 'other'],\n",
              "  'scores': [0.9423722624778748,\n",
              "   0.023495187982916832,\n",
              "   0.021316785365343094,\n",
              "   0.012815762311220169]},\n",
              " {'sequence': 'But it is definitely worth the wait.',\n",
              "  'labels': ['other', 'service', 'ambiance', 'food'],\n",
              "  'scores': [0.4905829429626465,\n",
              "   0.2534791827201843,\n",
              "   0.20231030881404877,\n",
              "   0.05362754687666893]},\n",
              " {'sequence': 'Sometimes get the Pho w/ rare beef which is decent.',\n",
              "  'labels': ['food', 'other', 'service', 'ambiance'],\n",
              "  'scores': [0.7790170311927795,\n",
              "   0.10868176817893982,\n",
              "   0.08358323574066162,\n",
              "   0.02871803753077984]}]"
            ]
          },
          "execution_count": 16,
          "metadata": {},
          "output_type": "execute_result"
        }
      ],
      "source": [
        "probs[0: 3]"
      ]
    },
    {
      "cell_type": "markdown",
      "metadata": {
        "id": "dPph80xNupUO"
      },
      "source": [
        "### <Font color = 'dodgerblue'>**Get Predictions**\n",
        "- The output from the classifier will give you the probbaility for each label\n",
        "- The label with the highest probbaility should be your prediction\n",
        "- You might need to use more than one line of the code to complete this step"
      ]
    },
    {
      "cell_type": "code",
      "execution_count": null,
      "metadata": {
        "id": "MHKrANtowpQ9"
      },
      "outputs": [],
      "source": [
        "predictions =  [review['labels'][np.argmax(review['scores'])]for review in probs]"
      ]
    },
    {
      "cell_type": "code",
      "execution_count": null,
      "metadata": {
        "colab": {
          "base_uri": "https://localhost:8080/"
        },
        "id": "MZfPYzoKHf7U",
        "outputId": "7db4839a-594e-49e2-f4c6-25b8dcf17f37"
      },
      "outputs": [
        {
          "data": {
            "text/plain": [
              "['food', 'other', 'food', 'food', 'food']"
            ]
          },
          "execution_count": 18,
          "metadata": {},
          "output_type": "execute_result"
        }
      ],
      "source": [
        "# get first five preeictions\n",
        "predictions[0:5]"
      ]
    },
    {
      "cell_type": "markdown",
      "metadata": {
        "id": "We6JZ9fXuXUz"
      },
      "source": [
        "### <Font color = 'dodgerblue'>**Accuracy**\n",
        "- You might need to use more than one line of the code to complete this step\n",
        "- Now you have the actual Label and predicted Label for each sentence.\n",
        "- Calculate the overall acacuracy (Hint : you can use accuracy_score form from sklearn - `from sklearn.metrics import accuracy_score`\n"
      ]
    },
    {
      "cell_type": "code",
      "execution_count": null,
      "metadata": {
        "colab": {
          "base_uri": "https://localhost:8080/"
        },
        "id": "dy9P6LSvSJbj",
        "outputId": "19bed142-a385-4410-b009-2c11add12ac2"
      },
      "outputs": [
        {
          "data": {
            "text/plain": [
              "66.6095890410959"
            ]
          },
          "execution_count": 19,
          "metadata": {},
          "output_type": "execute_result"
        }
      ],
      "source": [
        "accuracy =  (accuracy_score(train_data.final_label.to_list(), predictions))*100\n",
        "accuracy"
      ]
    },
    {
      "cell_type": "markdown",
      "metadata": {
        "id": "QYaQqsw8v8ln"
      },
      "source": [
        "### <Font color = 'dodgerblue'>**Classification Report**\n",
        "- Print the classification report\n",
        "- HINT- `from sklearn.metrics import classification_report`"
      ]
    },
    {
      "cell_type": "code",
      "execution_count": null,
      "metadata": {
        "colab": {
          "base_uri": "https://localhost:8080/"
        },
        "id": "Q7MFdMnBxLFM",
        "outputId": "c238c240-b06b-4c15-a393-f0500ea52984"
      },
      "outputs": [
        {
          "name": "stdout",
          "output_type": "stream",
          "text": [
            "              precision    recall  f1-score   support\n",
            "\n",
            "    ambiance       0.39      0.33      0.36        46\n",
            "        food       0.76      0.84      0.80       279\n",
            "       other       0.52      0.54      0.53       139\n",
            "     service       0.69      0.54      0.61       120\n",
            "\n",
            "    accuracy                           0.67       584\n",
            "   macro avg       0.59      0.56      0.57       584\n",
            "weighted avg       0.66      0.67      0.66       584\n",
            "\n"
          ]
        }
      ],
      "source": [
        "# print classification report\n",
        "class_report =  classification_report(train_data.final_label.to_list(), predictions)\n",
        "print(class_report)"
      ]
    },
    {
      "cell_type": "markdown",
      "metadata": {
        "id": "z7mkN2E1RgY8"
      },
      "source": [
        "###<Font color = 'dodgerblue'>**Conclusion from the classification report** </font>\n",
        "\n",
        "What do you conclude from the classification report?\n",
        "\n",
        "YOUR RESPONSE HERE:\\\n",
        "As per the above report, we can see that the model has achieved an excellent recall of 84% while for other it is considerably low, moreover the accuracy is also 66% that makes this model not feasible for the practical use.\n",
        "\n"
      ]
    },
    {
      "cell_type": "markdown",
      "metadata": {
        "id": "vv9btE81O6an"
      },
      "source": [
        "### <Font color = 'dodgerblue'>**Confusion Matrix**\n",
        "- You might need to use more than one line of the code to complete this step\n",
        "- Print confusionm matrix\n",
        "- Hint:use ConfusionMatrixDisplay.from_predictions from sklearn"
      ]
    },
    {
      "cell_type": "code",
      "execution_count": null,
      "metadata": {
        "colab": {
          "base_uri": "https://localhost:8080/"
        },
        "id": "99Gkxl2bK2vU",
        "outputId": "f7cca687-d4b4-4cfd-ccec-8062d9cab30d"
      },
      "outputs": [
        {
          "data": {
            "text/plain": [
              "['food', 'ambiance', 'service', 'other']"
            ]
          },
          "execution_count": 21,
          "metadata": {},
          "output_type": "execute_result"
        }
      ],
      "source": [
        "probs[0].keys()\n",
        "one, two = islice(probs[0].values(), 2)\n",
        "two"
      ]
    },
    {
      "cell_type": "code",
      "execution_count": null,
      "metadata": {
        "colab": {
          "base_uri": "https://localhost:8080/",
          "height": 467
        },
        "id": "bw9M-jHlToSN",
        "outputId": "1a03f200-1040-4355-ee03-d914169165e0"
      },
      "outputs": [
        {
          "data": {
            "text/plain": [
              "<sklearn.metrics._plot.confusion_matrix.ConfusionMatrixDisplay at 0x788659981ea0>"
            ]
          },
          "execution_count": 22,
          "metadata": {},
          "output_type": "execute_result"
        },
        {
          "data": {
            "image/png": "[encoded data removed]",
            "text/plain": [
              "<Figure size 640x480 with 2 Axes>"
            ]
          },
          "metadata": {},
          "output_type": "display_data"
        }
      ],
      "source": [
        "ConfusionMatrixDisplay.from_predictions(train_data.final_label.to_list(), predictions, normalize = 'true', labels = two)"
      ]
    },
    {
      "cell_type": "markdown",
      "metadata": {
        "id": "Ejw_5vPtzOS1"
      },
      "source": [
        "###<Font color = 'dodgerblue'>**Conclusions from the Confusion Matrix** </font>\n",
        "\n",
        "What do you conclude from the Confusion Matrix?\n",
        "\n",
        "YOUR RESPONSE HERE:\\\n",
        "As per the above matrix, since the recall score of ambiance is 0.33 that is very low and hence the model is not predicting it properly. So, the model cannot be taken in consideration for predicitng these classes.\n",
        "\n",
        "\n"
      ]
    },
    {
      "cell_type": "markdown",
      "metadata": {
        "id": "Fk5oM0qQ0lqQ"
      },
      "source": [
        "## <Font color = 'dodgerblue'>**Task2 : Change hypothesis template**. </font>\n",
        "\n",
        "In this experiment, we are exploring the impact of changing the hypothesis template in a zero-shot classification model. The default template used in the pipeline is **\"This example is {}\"**. In the experiment the default template is being replaced with a domain-specific template to classify restaurant reviews into categories like food, service, ambiance, and other.\n",
        "\n",
        "### Steps:\n",
        "\n",
        "1. **Modify Hypothesis Template:** Adjust the template to better fit the context of restaurant reviews.\n",
        "2. **Evaluate Model:** Apply the modified template and report accuracy, a classification report, and confusion matrix.\n",
        "3. **Compare Results:** Analyze the findings in comparison to the previous experiment using the default template.\n",
        "\n",
        "### Conclusion:\n",
        "\n",
        "Changing the hypothesis template may lead to variations in model performance, possibly improving accuracy in certain categories. The comparison between the experiments can reveal insights into how the model interprets premises differently with various templates, helping to tailor the model to specific tasks or domains."
      ]
    },
    {
      "cell_type": "markdown",
      "metadata": {
        "id": "eniliCyO23Qr"
      },
      "source": [
        "### <Font color = 'dodgerblue'>**Create a list of reviews**"
      ]
    },
    {
      "cell_type": "code",
      "execution_count": null,
      "metadata": {
        "id": "fZB1sjVw23Qr"
      },
      "outputs": [],
      "source": [
        "# create a list of reviews (hint use column.tolist() to convert numpy array series to python list)\n",
        "texts_train =   train_data[\"text\"].tolist()\n",
        "\n",
        "# list of labels\n",
        "candidate_labels = ['food', 'ambiance', 'service', 'other']"
      ]
    },
    {
      "cell_type": "markdown",
      "metadata": {
        "id": "sE1emxDW23Qr"
      },
      "source": [
        "### <Font color = 'dodgerblue'>**Get Probbailities**\n",
        "\n",
        "In the previous experiment, you only passed sequences and candiadte labels. Since you did not pass any hypothesis template, the classifier used the default template \"This example is {}.\" Now, in this experiment, you will introduce a custom hypothesis template to replace the default. The suggested custom template is \"This review is related to the restaurant's {}.\" By specifying a template more aligned with the context of restaurant reviews, you may influence how the classifier interprets the relationship between the premise and each candidate label. Feel free to explore other custom templates that may be suitable for this task, and compare how these changes affect the classification performance.\n",
        "\n",
        "The syntax is : **```zero_shot_classifier(sequences= , candidate_labels = , hypothesis_template =   )```**"
      ]
    },
    {
      "cell_type": "code",
      "execution_count": null,
      "metadata": {
        "execution": {
          "iopub.execute_input": "2022-11-27T12:01:45.594721Z",
          "iopub.status.busy": "2022-11-27T12:01:45.594481Z",
          "iopub.status.idle": "2022-11-27T12:01:50.801737Z",
          "shell.execute_reply": "2022-11-27T12:01:50.801068Z",
          "shell.execute_reply.started": "2022-11-27T12:01:45.594695Z"
        },
        "id": "aEV28Et723Qr",
        "tags": []
      },
      "outputs": [],
      "source": [
        "probs1= zero_shot_classifier(sequences= texts_train, candidate_labels = candidate_labels , hypothesis_template = \"This review is related to the restaurant's {}.\")"
      ]
    },
    {
      "cell_type": "code",
      "execution_count": null,
      "metadata": {
        "colab": {
          "base_uri": "https://localhost:8080/"
        },
        "id": "rajMDD2ZK6ms",
        "outputId": "6e119526-fc88-44e6-9870-9a4b6d714d16"
      },
      "outputs": [
        {
          "data": {
            "text/plain": [
              "[{'sequence': \"If you love unagi (eel) on rice, you'll absolutely enjoy their version.\",\n",
              "  'labels': ['food', 'other', 'service', 'ambiance'],\n",
              "  'scores': [0.8286234140396118,\n",
              "   0.1660204827785492,\n",
              "   0.002787330187857151,\n",
              "   0.0025688130408525467]},\n",
              " {'sequence': 'But it is definitely worth the wait.',\n",
              "  'labels': ['other', 'food', 'service', 'ambiance'],\n",
              "  'scores': [0.3562210202217102,\n",
              "   0.30787432193756104,\n",
              "   0.24831949174404144,\n",
              "   0.08758512139320374]},\n",
              " {'sequence': 'Sometimes get the Pho w/ rare beef which is decent.',\n",
              "  'labels': ['food', 'other', 'ambiance', 'service'],\n",
              "  'scores': [0.809067964553833,\n",
              "   0.18316298723220825,\n",
              "   0.004174679517745972,\n",
              "   0.003594418754801154]}]"
            ]
          },
          "execution_count": 25,
          "metadata": {},
          "output_type": "execute_result"
        }
      ],
      "source": [
        "probs1[0:3]"
      ]
    },
    {
      "cell_type": "markdown",
      "metadata": {
        "id": "NXB_v7XB23Qs"
      },
      "source": [
        "### <Font color = 'dodgerblue'>**Get Predictions**\n",
        "- The output from the classifier will give you the probbaility for each label\n",
        "- The label with the highest probbaility should be your prediction\n",
        "- You might need to use more than one line of the code to complete this step"
      ]
    },
    {
      "cell_type": "code",
      "execution_count": null,
      "metadata": {
        "id": "zIRClFhD23Qs"
      },
      "outputs": [],
      "source": [
        "predictions1 = [review['labels'][np.argmax(review['scores'])]for review in probs1]"
      ]
    },
    {
      "cell_type": "code",
      "execution_count": null,
      "metadata": {
        "colab": {
          "base_uri": "https://localhost:8080/"
        },
        "id": "2H1y8kl1s9J8",
        "outputId": "d6fd6deb-7282-4eb9-f2e6-779821d8cd69"
      },
      "outputs": [
        {
          "data": {
            "text/plain": [
              "['food', 'other', 'food', 'food', 'other']"
            ]
          },
          "execution_count": 27,
          "metadata": {},
          "output_type": "execute_result"
        }
      ],
      "source": [
        "# get first five preeictions\n",
        "predictions1[0:5]"
      ]
    },
    {
      "cell_type": "markdown",
      "metadata": {
        "id": "R7n4vKFt23Qs"
      },
      "source": [
        "### <Font color = 'dodgerblue'>**Accuracy**\n",
        "- You might need to use more than one line of the code to complete this step\n",
        "- Now you have the actual Label and predicted Label for each sentence.\n",
        "- Calculate the overall acacuracy (Hint : you can use accuracy_score form from sklearn - `from sklearn.metrics import accuracy_score`\n"
      ]
    },
    {
      "cell_type": "code",
      "execution_count": null,
      "metadata": {
        "colab": {
          "base_uri": "https://localhost:8080/"
        },
        "id": "pDSRjHgStHre",
        "outputId": "2bc686b4-b045-4280-d737-1d671088cfc7"
      },
      "outputs": [
        {
          "data": {
            "text/plain": [
              "78.76712328767124"
            ]
          },
          "execution_count": 28,
          "metadata": {},
          "output_type": "execute_result"
        }
      ],
      "source": [
        "accuracy =  (accuracy_score(train_data.final_label.to_list(), predictions1))*100\n",
        "accuracy"
      ]
    },
    {
      "cell_type": "markdown",
      "metadata": {
        "id": "YKEC44ii23Qs"
      },
      "source": [
        "### <Font color = 'dodgerblue'>**Classification Report**\n",
        "- Print the classification report\n",
        "- HINT- `from sklearn.metrics import classification_report`"
      ]
    },
    {
      "cell_type": "code",
      "execution_count": null,
      "metadata": {
        "colab": {
          "base_uri": "https://localhost:8080/"
        },
        "id": "SPB653ZutXyw",
        "outputId": "d3844ccd-35e1-490e-8b86-ba882e5e4fc8"
      },
      "outputs": [
        {
          "name": "stdout",
          "output_type": "stream",
          "text": [
            "              precision    recall  f1-score   support\n",
            "\n",
            "    ambiance       0.90      0.41      0.57        46\n",
            "        food       0.88      0.84      0.86       279\n",
            "       other       0.60      0.91      0.72       139\n",
            "     service       0.93      0.68      0.78       120\n",
            "\n",
            "    accuracy                           0.79       584\n",
            "   macro avg       0.83      0.71      0.73       584\n",
            "weighted avg       0.83      0.79      0.79       584\n",
            "\n"
          ]
        }
      ],
      "source": [
        "class_report1 =  classification_report(train_data.final_label.to_list(), predictions1)\n",
        "print(class_report1)"
      ]
    },
    {
      "cell_type": "markdown",
      "metadata": {
        "id": "9gz7hRSB23Qs"
      },
      "source": [
        "### <Font color = 'dodgerblue'>**Compare the classification report** </font>\n",
        "\n",
        "Compare the classification report with previous experiment and provide your conclusion.\n",
        "\n",
        "YOUR RESPONSE HERE\\\n",
        "The model can be taken into application as it's recall score for all the categories except ambiance but due to its overall accuracy rate it's still a viable model."
      ]
    },
    {
      "cell_type": "markdown",
      "metadata": {
        "id": "HGU0AEUu23Qs"
      },
      "source": [
        "### <Font color = 'dodgerblue'>**Confusion Matrix**\n",
        "- You might need to use more than one line of the code to complete this step\n",
        "- Print confusionm matrix\n",
        "- Hint:use ConfusionMatrixDisplay.from_predictions from sklearn"
      ]
    },
    {
      "cell_type": "code",
      "execution_count": null,
      "metadata": {
        "colab": {
          "base_uri": "https://localhost:8080/"
        },
        "id": "bhjumxPmvF9c",
        "outputId": "d8ebda2a-80bd-40cf-d4e7-a63da6b144d1"
      },
      "outputs": [
        {
          "data": {
            "text/plain": [
              "['food', 'other', 'service', 'ambiance']"
            ]
          },
          "execution_count": 30,
          "metadata": {},
          "output_type": "execute_result"
        }
      ],
      "source": [
        "probs1[0].keys()\n",
        "one, two = islice(probs1[0].values(), 2)\n",
        "two\n"
      ]
    },
    {
      "cell_type": "code",
      "execution_count": null,
      "metadata": {
        "colab": {
          "base_uri": "https://localhost:8080/",
          "height": 467
        },
        "id": "uIBsH7Z6RrNJ",
        "outputId": "25707561-2237-47c1-92ae-b67a63bef35e"
      },
      "outputs": [
        {
          "data": {
            "text/plain": [
              "<sklearn.metrics._plot.confusion_matrix.ConfusionMatrixDisplay at 0x788649fec2e0>"
            ]
          },
          "execution_count": 31,
          "metadata": {},
          "output_type": "execute_result"
        },
        {
          "data": {
            "image/png": "[encoded data removed]",
            "text/plain": [
              "<Figure size 640x480 with 2 Axes>"
            ]
          },
          "metadata": {},
          "output_type": "display_data"
        }
      ],
      "source": [
        "ConfusionMatrixDisplay.from_predictions(train_data.final_label.to_list(), predictions1, normalize = 'true', labels = two)"
      ]
    },
    {
      "cell_type": "markdown",
      "metadata": {
        "id": "s2mVAmm-23Qs"
      },
      "source": [
        "###<Font color = 'dodgerblue'>**Conclusions from the Confusion Matrix** </font>\n",
        "\n",
        "What do you conclude from the Confusion Matrix (compare with previous experiment)?\n",
        "\n",
        "YOUR RESPONSE HERE \\\n",
        "Contrary to the previous model, this time the model has improved its recall for service (68%) and has achieved a very good recall score of 91% for the service category. The model seems viable as the recall score for all three categories except for ambience that hasn't been improved much.\n",
        "\n"
      ]
    },
    {
      "cell_type": "markdown",
      "metadata": {
        "id": "t2n8UTav3O8L"
      },
      "source": [
        "## <Font color = 'dodgerblue'>**Task3 : Use threshold probbaility to classify Others**.\n",
        "\n",
        "\n",
        "\n",
        "\n",
        "In this next experiment, you will explore a nuanced approach to classification by **only considering the labels 'food', 'service', and 'ambiance'**. This is a departure from the previous experiments, where you also included 'other' as a label, and it brings some key distinctions:\n",
        "\n",
        "Unlike traditional classification, where the probabilities across all labels sum to one, in this experiment, you'll assess the probabilities for just the three given labels.\n",
        "\n",
        "By not including 'other' as a label, you are essentially allowing the model to classify instances into 'other' if none of the given labels strongly apply. If the maximum probability across 'food', 'service', and 'ambiance' is less than the threshold, the instance is classified as 'other'.\n",
        "\n",
        "This approach not only recognizes that some instances may not fit neatly into one of the specific categories but also aims to refine the handling of those instances. It encourages a more flexible and discerning classification, possibly reducing misclassification.\n",
        "\n",
        "The task will allow you to explore how this method of classification, guided by a threshold, can impact the model's performance. It offers an insightful comparison with the previous approaches and underlines the significance of understanding the nature of your data, the relationships between categories, and selecting an appropriate classification strategy accordingly."
      ]
    },
    {
      "cell_type": "markdown",
      "metadata": {
        "id": "DvH5d67U3WVa"
      },
      "source": [
        "### <Font color = 'dodgerblue'>**Create a list of reviews**"
      ]
    },
    {
      "cell_type": "code",
      "execution_count": null,
      "metadata": {
        "id": "dKoj2rXB3WVa"
      },
      "outputs": [],
      "source": [
        "# create a list of reviews (hint use column.tolist() to convert numpy array series to python list)\n",
        "texts_train =   train_data[\"text\"].tolist()\n",
        "\n",
        "# list of labels\n",
        "candidate_labels = ['food', 'ambiance', 'service']"
      ]
    },
    {
      "cell_type": "markdown",
      "metadata": {
        "id": "_94oeSQB3WVb"
      },
      "source": [
        "### <Font color = 'dodgerblue'>**Get Probbailities**\n",
        "\n",
        "Pass the list of text and labels you craeted in the previous step to the classifier to get predictions."
      ]
    },
    {
      "cell_type": "code",
      "execution_count": null,
      "metadata": {
        "execution": {
          "iopub.execute_input": "2022-11-27T12:01:45.594721Z",
          "iopub.status.busy": "2022-11-27T12:01:45.594481Z",
          "iopub.status.idle": "2022-11-27T12:01:50.801737Z",
          "shell.execute_reply": "2022-11-27T12:01:50.801068Z",
          "shell.execute_reply.started": "2022-11-27T12:01:45.594695Z"
        },
        "id": "KCkWBpr43WVb",
        "tags": []
      },
      "outputs": [],
      "source": [
        "probs2= zero_shot_classifier(sequences= texts_train, candidate_labels = candidate_labels , hypothesis_template = \"This review is related to the restaurant's {}.\")\n"
      ]
    },
    {
      "cell_type": "code",
      "execution_count": null,
      "metadata": {
        "colab": {
          "base_uri": "https://localhost:8080/"
        },
        "id": "J4ifIOjE1tpu",
        "outputId": "5a2d512f-34b6-4077-8b40-91ad5c988ca2"
      },
      "outputs": [
        {
          "data": {
            "text/plain": [
              "[{'sequence': \"If you love unagi (eel) on rice, you'll absolutely enjoy their version.\",\n",
              "  'labels': ['food', 'service', 'ambiance'],\n",
              "  'scores': [0.9935776591300964,\n",
              "   0.0033422044944018126,\n",
              "   0.0030801871325820684]},\n",
              " {'sequence': 'But it is definitely worth the wait.',\n",
              "  'labels': ['food', 'service', 'ambiance'],\n",
              "  'scores': [0.4782298803329468, 0.38572168350219727, 0.13604843616485596]},\n",
              " {'sequence': 'Sometimes get the Pho w/ rare beef which is decent.',\n",
              "  'labels': ['food', 'ambiance', 'service'],\n",
              "  'scores': [0.9904888272285461, 0.00511078629642725, 0.004400411155074835]},\n",
              " {'sequence': 'Other items on this menu was a crab soup, duck and clams congee, 2 desserts (one chinese and one western) and free appetizers.',\n",
              "  'labels': ['food', 'service', 'ambiance'],\n",
              "  'scores': [0.9874481558799744, 0.006339206825941801, 0.006212593987584114]},\n",
              " {'sequence': 'I visited the restaurant for lunch and arrived there just after 12.30pm on a Sunday.',\n",
              "  'labels': ['food', 'ambiance', 'service'],\n",
              "  'scores': [0.7476781010627747, 0.13911722600460052, 0.11320469528436661]}]"
            ]
          },
          "execution_count": 34,
          "metadata": {},
          "output_type": "execute_result"
        }
      ],
      "source": [
        "probs2[0: 5]"
      ]
    },
    {
      "cell_type": "markdown",
      "metadata": {
        "id": "qLZ9WP3j3WVb"
      },
      "source": [
        "### <Font color = 'dodgerblue'>**Get Predictions** </font>\n",
        "\n",
        "In this experiment , you'll be considering three specific categories: 'food', 'service', 'ambiance', and classify any instance that doesn't fit these categories as 'other'. To make this decision, you will use a concept called a threshold.\n",
        "\n",
        "#### Understanding the Threshold Concept:\n",
        "The threshold is a cutoff value that helps determine the class labels based on predicted probabilities. Here's how it works:\n",
        "\n",
        "Imagine your model predicts the following probabilities for a review:\n",
        "- 'food': 0.7\n",
        "- 'service': 0.2\n",
        "- 'ambiance': 0.1\n",
        "\n",
        "With a threshold of 0.5, you check whether the highest probability (0.7 for 'food') is greater than this threshold. Since 0.7 > 0.5, the review is classified as 'food'. If the highest probability dees not surpass the threshold, you classify the review as 'other'. By adjusting the threshold, you control how confident the model must be to assign a particular label.\n",
        "\n",
        "**In this experiment, you will use a theshold of 0.8**"
      ]
    },
    {
      "cell_type": "code",
      "execution_count": null,
      "metadata": {
        "id": "_z6Gdb7_zQg9"
      },
      "outputs": [],
      "source": [
        "#threshold = 0.8"
      ]
    },
    {
      "cell_type": "code",
      "execution_count": null,
      "metadata": {
        "id": "AyAK7DRjzRB0"
      },
      "outputs": [],
      "source": [
        "predictions2 = []\n",
        "for review in probs2:\n",
        "  if max(review['scores']) > 0.8:\n",
        "    predictions2.append(review['labels'][np.argmax(max(review['scores']))])\n",
        "\n",
        "  else:\n",
        "    predictions2.append('other')"
      ]
    },
    {
      "cell_type": "code",
      "execution_count": null,
      "metadata": {
        "colab": {
          "base_uri": "https://localhost:8080/"
        },
        "id": "LjdRb9ZSzRB0",
        "outputId": "ca7631f6-92cb-49a8-ed41-d114ec17c536"
      },
      "outputs": [
        {
          "data": {
            "text/plain": [
              "['food', 'other', 'food', 'food', 'other']"
            ]
          },
          "execution_count": 39,
          "metadata": {},
          "output_type": "execute_result"
        }
      ],
      "source": [
        "# get first five predictions\n",
        "predictions2[0:5]"
      ]
    },
    {
      "cell_type": "markdown",
      "metadata": {
        "id": "ncT2Qh7R3WVb"
      },
      "source": [
        "### <Font color = 'dodgerblue'>**Accuracy**\n",
        "- You might need to use more than one line of the code to complete this step\n",
        "- Now you have the True Label and predicted Label for each sentence.\n",
        "- Calculate the overall acacuracy (Hint : you can use accuracy_score form from sklearn - `from sklearn.metrics import accuracy_score`\n"
      ]
    },
    {
      "cell_type": "code",
      "execution_count": null,
      "metadata": {
        "colab": {
          "base_uri": "https://localhost:8080/"
        },
        "id": "myixU_Ky6OIl",
        "outputId": "d7e27d11-af95-4789-e62e-23f7bfb207c0"
      },
      "outputs": [
        {
          "data": {
            "text/plain": [
              "76.02739726027397"
            ]
          },
          "execution_count": 38,
          "metadata": {},
          "output_type": "execute_result"
        }
      ],
      "source": [
        "accuracy =  (accuracy_score(train_data.final_label.to_list(), predictions2))*100\n",
        "accuracy"
      ]
    },
    {
      "cell_type": "markdown",
      "metadata": {
        "id": "Wa-yI85Y4rlj"
      },
      "source": [
        "**The overall accurtacy has decreased. This might be the result of chosen threshold**"
      ]
    },
    {
      "cell_type": "markdown",
      "metadata": {
        "id": "AyzScDOh3WVb"
      },
      "source": [
        "### <Font color = 'dodgerblue'>**Classification Report**\n",
        "- Print the classification report\n",
        "- HINT- `from sklearn.metrics import classification_report`"
      ]
    },
    {
      "cell_type": "code",
      "execution_count": null,
      "metadata": {
        "colab": {
          "base_uri": "https://localhost:8080/"
        },
        "id": "HnkXaUZP5qp5",
        "outputId": "b476cd80-653c-4d7a-ef1f-4b2bc63cbd4d"
      },
      "outputs": [
        {
          "name": "stdout",
          "output_type": "stream",
          "text": [
            "              precision    recall  f1-score   support\n",
            "\n",
            "    ambiance       0.95      0.41      0.58        46\n",
            "        food       0.91      0.85      0.88       279\n",
            "       other       0.53      0.88      0.66       139\n",
            "     service       0.93      0.53      0.68       120\n",
            "\n",
            "    accuracy                           0.76       584\n",
            "   macro avg       0.83      0.67      0.70       584\n",
            "weighted avg       0.83      0.76      0.76       584\n",
            "\n"
          ]
        }
      ],
      "source": [
        "# print classification report\n",
        "class_report2 =  classification_report(train_data.final_label.to_list(), predictions2)\n",
        "print(class_report2)"
      ]
    },
    {
      "cell_type": "markdown",
      "metadata": {
        "id": "aEkpcLJm3WVb"
      },
      "source": [
        "### <Font color = 'dodgerblue'>**Compare the classification report** </font>\n",
        "\n",
        "Compare the classification report with previous experiment and provide your conclusion.\n",
        "\n",
        "Since the model has reported lower accuracy score and moreover its can be observed that the recall score has also be dropped down for other and service class and ther's no sigificant improvement has been observed for food and ambience. Hence, the previous model was the most feasible among all."
      ]
    },
    {
      "cell_type": "markdown",
      "metadata": {
        "id": "MXuotn5J3WVb"
      },
      "source": [
        "### <Font color = 'dodgerblue'>**Confusion Matrix**\n",
        "- You might need to use more than one line of the code to complete this step\n",
        "- Print confusionm matrix\n",
        "- Hint:`from sklearn.metrics import confusion_matrix``"
      ]
    },
    {
      "cell_type": "code",
      "execution_count": null,
      "metadata": {
        "id": "0k7-MSek2qPz"
      },
      "outputs": [],
      "source": [
        "probs1[0].keys()\n",
        "one, two = islice(probs1[0].values(), 2)\n",
        "two\n"
      ]
    },
    {
      "cell_type": "code",
      "execution_count": null,
      "metadata": {
        "colab": {
          "base_uri": "https://localhost:8080/",
          "height": 467
        },
        "id": "_skPdOudRiJY",
        "outputId": "8dd680e5-e2cd-47b9-fb2b-6d85fe88a647"
      },
      "outputs": [
        {
          "data": {
            "text/plain": [
              "<sklearn.metrics._plot.confusion_matrix.ConfusionMatrixDisplay at 0x788659983d30>"
            ]
          },
          "execution_count": 42,
          "metadata": {},
          "output_type": "execute_result"
        },
        {
          "data": {
            "image/png": "[encoded data removed]",
            "text/plain": [
              "<Figure size 640x480 with 2 Axes>"
            ]
          },
          "metadata": {},
          "output_type": "display_data"
        }
      ],
      "source": [
        "ConfusionMatrixDisplay.from_predictions(train_data.final_label.to_list(), predictions2, normalize = 'true', labels = two)"
      ]
    },
    {
      "cell_type": "markdown",
      "metadata": {
        "id": "Ntk8kWWt3WVb"
      },
      "source": [
        "###<Font color = 'dodgerblue'>**Conclusions from the Confusion Matrix** </font>\n",
        "\n",
        "What do you conclude from the Confusion Matrix (compare with previous experiments?\n",
        "\n",
        "YOUR RESPONSE HERE:\\\n",
        "The recall scores hae reduced significantly after setting up a threshold value hence the other shall be added to classes to make model more feasible rather than using the threhold approach."
      ]
    }
  ],
  "metadata": {
    "accelerator": "GPU",
    "colab": {
      "gpuType": "T4",
      "machine_shape": "hm",
      "provenance": []
    },
    "kernelspec": {
      "display_name": "Python 3 (ipykernel)",
      "language": "python",
      "name": "python3"
    },
    "language_info": {
      "codemirror_mode": {
        "name": "ipython",
        "version": 3
      },
      "file_extension": ".py",
      "mimetype": "text/x-python",
      "name": "python",
      "nbconvert_exporter": "python",
      "pygments_lexer": "ipython3",
      "version": "3.10.9"
    },
    "widgets": {
      "application/vnd.jupyter.widget-state+json": {
        "004bd24df5b8407bbb79e2f50bbe6e72": {
          "model_module": "@jupyter-widgets/base",
          "model_module_version": "1.2.0",
          "model_name": "LayoutModel",
          "state": {
            "_model_module": "@jupyter-widgets/base",
            "_model_module_version": "1.2.0",
            "_model_name": "LayoutModel",
            "_view_count": null,
            "_view_module": "@jupyter-widgets/base",
            "_view_module_version": "1.2.0",
            "_view_name": "LayoutView",
            "align_content": null,
            "align_items": null,
            "align_self": null,
            "border": null,
            "bottom": null,
            "display": null,
            "flex": null,
            "flex_flow": null,
            "grid_area": null,
            "grid_auto_columns": null,
            "grid_auto_flow": null,
            "grid_auto_rows": null,
            "grid_column": null,
            "grid_gap": null,
            "grid_row": null,
            "grid_template_areas": null,
            "grid_template_columns": null,
            "grid_template_rows": null,
            "height": null,
            "justify_content": null,
            "justify_items": null,
            "left": null,
            "margin": null,
            "max_height": null,
            "max_width": null,
            "min_height": null,
            "min_width": null,
            "object_fit": null,
            "object_position": null,
            "order": null,
            "overflow": null,
            "overflow_x": null,
            "overflow_y": null,
            "padding": null,
            "right": null,
            "top": null,
            "visibility": null,
            "width": null
          }
        },
        "017f0f4913164b3aaa79079727a33deb": {
          "model_module": "@jupyter-widgets/base",
          "model_module_version": "1.2.0",
          "model_name": "LayoutModel",
          "state": {
            "_model_module": "@jupyter-widgets/base",
            "_model_module_version": "1.2.0",
            "_model_name": "LayoutModel",
            "_view_count": null,
            "_view_module": "@jupyter-widgets/base",
            "_view_module_version": "1.2.0",
            "_view_name": "LayoutView",
            "align_content": null,
            "align_items": null,
            "align_self": null,
            "border": null,
            "bottom": null,
            "display": null,
            "flex": null,
            "flex_flow": null,
            "grid_area": null,
            "grid_auto_columns": null,
            "grid_auto_flow": null,
            "grid_auto_rows": null,
            "grid_column": null,
            "grid_gap": null,
            "grid_row": null,
            "grid_template_areas": null,
            "grid_template_columns": null,
            "grid_template_rows": null,
            "height": null,
            "justify_content": null,
            "justify_items": null,
            "left": null,
            "margin": null,
            "max_height": null,
            "max_width": null,
            "min_height": null,
            "min_width": null,
            "object_fit": null,
            "object_position": null,
            "order": null,
            "overflow": null,
            "overflow_x": null,
            "overflow_y": null,
            "padding": null,
            "right": null,
            "top": null,
            "visibility": null,
            "width": null
          }
        },
        "02e7759066414706a61ed44f22cc1d1a": {
          "model_module": "@jupyter-widgets/controls",
          "model_module_version": "1.5.0",
          "model_name": "DescriptionStyleModel",
          "state": {
            "_model_module": "@jupyter-widgets/controls",
            "_model_module_version": "1.5.0",
            "_model_name": "DescriptionStyleModel",
            "_view_count": null,
            "_view_module": "@jupyter-widgets/base",
            "_view_module_version": "1.2.0",
            "_view_name": "StyleView",
            "description_width": ""
          }
        },
        "03a824e91d1148babb7c286301b463b2": {
          "model_module": "@jupyter-widgets/controls",
          "model_module_version": "1.5.0",
          "model_name": "HTMLModel",
          "state": {
            "_dom_classes": [],
            "_model_module": "@jupyter-widgets/controls",
            "_model_module_version": "1.5.0",
            "_model_name": "HTMLModel",
            "_view_count": null,
            "_view_module": "@jupyter-widgets/controls",
            "_view_module_version": "1.5.0",
            "_view_name": "HTMLView",
            "description": "",
            "description_tooltip": null,
            "layout": "IPY_MODEL_8c01189914964feca65fa5a9ee5cf8a0",
            "placeholder": "​",
            "style": "IPY_MODEL_02e7759066414706a61ed44f22cc1d1a",
            "value": " 456k/456k [00:00&lt;00:00, 21.8MB/s]"
          }
        },
        "05ff0a91ad0c415d9a35ae52b36f0013": {
          "model_module": "@jupyter-widgets/controls",
          "model_module_version": "1.5.0",
          "model_name": "ProgressStyleModel",
          "state": {
            "_model_module": "@jupyter-widgets/controls",
            "_model_module_version": "1.5.0",
            "_model_name": "ProgressStyleModel",
            "_view_count": null,
            "_view_module": "@jupyter-widgets/base",
            "_view_module_version": "1.2.0",
            "_view_name": "StyleView",
            "bar_color": null,
            "description_width": ""
          }
        },
        "082d73807ea2483cac7d8e6c24f90132": {
          "model_module": "@jupyter-widgets/controls",
          "model_module_version": "1.5.0",
          "model_name": "HTMLModel",
          "state": {
            "_dom_classes": [],
            "_model_module": "@jupyter-widgets/controls",
            "_model_module_version": "1.5.0",
            "_model_name": "HTMLModel",
            "_view_count": null,
            "_view_module": "@jupyter-widgets/controls",
            "_view_module_version": "1.5.0",
            "_view_name": "HTMLView",
            "description": "",
            "description_tooltip": null,
            "layout": "IPY_MODEL_90c21697089b4337ab0dd9f4e04f5268",
            "placeholder": "​",
            "style": "IPY_MODEL_834ba5ca639a492db31f8e7f03a9c12b",
            "value": " 899k/899k [00:00&lt;00:00, 9.60MB/s]"
          }
        },
        "0893162933774f9598736cd694992db0": {
          "model_module": "@jupyter-widgets/controls",
          "model_module_version": "1.5.0",
          "model_name": "HBoxModel",
          "state": {
            "_dom_classes": [],
            "_model_module": "@jupyter-widgets/controls",
            "_model_module_version": "1.5.0",
            "_model_name": "HBoxModel",
            "_view_count": null,
            "_view_module": "@jupyter-widgets/controls",
            "_view_module_version": "1.5.0",
            "_view_name": "HBoxView",
            "box_style": "",
            "children": [
              "IPY_MODEL_55bcfd8fdfa14bcfade1d281c8f4640e",
              "IPY_MODEL_e266d1c0500349d4b8041bd30e9020cc",
              "IPY_MODEL_820e431ac172444eb039b20ef6ac9635"
            ],
            "layout": "IPY_MODEL_bf8da88475bb44f984817cdcbf201e40"
          }
        },
        "0bb866a767fe48b3aa4f3b90682da68f": {
          "model_module": "@jupyter-widgets/base",
          "model_module_version": "1.2.0",
          "model_name": "LayoutModel",
          "state": {
            "_model_module": "@jupyter-widgets/base",
            "_model_module_version": "1.2.0",
            "_model_name": "LayoutModel",
            "_view_count": null,
            "_view_module": "@jupyter-widgets/base",
            "_view_module_version": "1.2.0",
            "_view_name": "LayoutView",
            "align_content": null,
            "align_items": null,
            "align_self": null,
            "border": null,
            "bottom": null,
            "display": null,
            "flex": null,
            "flex_flow": null,
            "grid_area": null,
            "grid_auto_columns": null,
            "grid_auto_flow": null,
            "grid_auto_rows": null,
            "grid_column": null,
            "grid_gap": null,
            "grid_row": null,
            "grid_template_areas": null,
            "grid_template_columns": null,
            "grid_template_rows": null,
            "height": null,
            "justify_content": null,
            "justify_items": null,
            "left": null,
            "margin": null,
            "max_height": null,
            "max_width": null,
            "min_height": null,
            "min_width": null,
            "object_fit": null,
            "object_position": null,
            "order": null,
            "overflow": null,
            "overflow_x": null,
            "overflow_y": null,
            "padding": null,
            "right": null,
            "top": null,
            "visibility": null,
            "width": null
          }
        },
        "0f9db6ec88ba430bb85be2c4dd7ae38d": {
          "model_module": "@jupyter-widgets/controls",
          "model_module_version": "1.5.0",
          "model_name": "DescriptionStyleModel",
          "state": {
            "_model_module": "@jupyter-widgets/controls",
            "_model_module_version": "1.5.0",
            "_model_name": "DescriptionStyleModel",
            "_view_count": null,
            "_view_module": "@jupyter-widgets/base",
            "_view_module_version": "1.2.0",
            "_view_name": "StyleView",
            "description_width": ""
          }
        },
        "11fb4c9e9d83486bba0493eff8f7e7f6": {
          "model_module": "@jupyter-widgets/controls",
          "model_module_version": "1.5.0",
          "model_name": "ProgressStyleModel",
          "state": {
            "_model_module": "@jupyter-widgets/controls",
            "_model_module_version": "1.5.0",
            "_model_name": "ProgressStyleModel",
            "_view_count": null,
            "_view_module": "@jupyter-widgets/base",
            "_view_module_version": "1.2.0",
            "_view_name": "StyleView",
            "bar_color": null,
            "description_width": ""
          }
        },
        "16336037ac7d46ae957bfc406ce6c24f": {
          "model_module": "@jupyter-widgets/controls",
          "model_module_version": "1.5.0",
          "model_name": "HBoxModel",
          "state": {
            "_dom_classes": [],
            "_model_module": "@jupyter-widgets/controls",
            "_model_module_version": "1.5.0",
            "_model_name": "HBoxModel",
            "_view_count": null,
            "_view_module": "@jupyter-widgets/controls",
            "_view_module_version": "1.5.0",
            "_view_name": "HBoxView",
            "box_style": "",
            "children": [
              "IPY_MODEL_ad4fe9f6145d4e7c9771004f8b9634a7",
              "IPY_MODEL_f5807f1c422c4c158e1c24c0496e722f",
              "IPY_MODEL_082d73807ea2483cac7d8e6c24f90132"
            ],
            "layout": "IPY_MODEL_cf8dbd4d26f946bab97b4a6a54e88c91"
          }
        },
        "1b786e2539144a58890ff1b1f3d40d18": {
          "model_module": "@jupyter-widgets/base",
          "model_module_version": "1.2.0",
          "model_name": "LayoutModel",
          "state": {
            "_model_module": "@jupyter-widgets/base",
            "_model_module_version": "1.2.0",
            "_model_name": "LayoutModel",
            "_view_count": null,
            "_view_module": "@jupyter-widgets/base",
            "_view_module_version": "1.2.0",
            "_view_name": "LayoutView",
            "align_content": null,
            "align_items": null,
            "align_self": null,
            "border": null,
            "bottom": null,
            "display": null,
            "flex": null,
            "flex_flow": null,
            "grid_area": null,
            "grid_auto_columns": null,
            "grid_auto_flow": null,
            "grid_auto_rows": null,
            "grid_column": null,
            "grid_gap": null,
            "grid_row": null,
            "grid_template_areas": null,
            "grid_template_columns": null,
            "grid_template_rows": null,
            "height": null,
            "justify_content": null,
            "justify_items": null,
            "left": null,
            "margin": null,
            "max_height": null,
            "max_width": null,
            "min_height": null,
            "min_width": null,
            "object_fit": null,
            "object_position": null,
            "order": null,
            "overflow": null,
            "overflow_x": null,
            "overflow_y": null,
            "padding": null,
            "right": null,
            "top": null,
            "visibility": null,
            "width": null
          }
        },
        "279f22b56cca4650b1893b44d7ca5a5d": {
          "model_module": "@jupyter-widgets/controls",
          "model_module_version": "1.5.0",
          "model_name": "DescriptionStyleModel",
          "state": {
            "_model_module": "@jupyter-widgets/controls",
            "_model_module_version": "1.5.0",
            "_model_name": "DescriptionStyleModel",
            "_view_count": null,
            "_view_module": "@jupyter-widgets/base",
            "_view_module_version": "1.2.0",
            "_view_name": "StyleView",
            "description_width": ""
          }
        },
        "291b5028681648b09a1d9df1954b0776": {
          "model_module": "@jupyter-widgets/controls",
          "model_module_version": "1.5.0",
          "model_name": "FloatProgressModel",
          "state": {
            "_dom_classes": [],
            "_model_module": "@jupyter-widgets/controls",
            "_model_module_version": "1.5.0",
            "_model_name": "FloatProgressModel",
            "_view_count": null,
            "_view_module": "@jupyter-widgets/controls",
            "_view_module_version": "1.5.0",
            "_view_name": "ProgressView",
            "bar_style": "success",
            "description": "",
            "description_tooltip": null,
            "layout": "IPY_MODEL_b900d1b1afad47e5869591b0b9d7786e",
            "max": 1154,
            "min": 0,
            "orientation": "horizontal",
            "style": "IPY_MODEL_3aca072e13e94167aa377f8fcc730ada",
            "value": 1154
          }
        },
        "2981008473784b27a556634f5e855007": {
          "model_module": "@jupyter-widgets/base",
          "model_module_version": "1.2.0",
          "model_name": "LayoutModel",
          "state": {
            "_model_module": "@jupyter-widgets/base",
            "_model_module_version": "1.2.0",
            "_model_name": "LayoutModel",
            "_view_count": null,
            "_view_module": "@jupyter-widgets/base",
            "_view_module_version": "1.2.0",
            "_view_name": "LayoutView",
            "align_content": null,
            "align_items": null,
            "align_self": null,
            "border": null,
            "bottom": null,
            "display": null,
            "flex": null,
            "flex_flow": null,
            "grid_area": null,
            "grid_auto_columns": null,
            "grid_auto_flow": null,
            "grid_auto_rows": null,
            "grid_column": null,
            "grid_gap": null,
            "grid_row": null,
            "grid_template_areas": null,
            "grid_template_columns": null,
            "grid_template_rows": null,
            "height": null,
            "justify_content": null,
            "justify_items": null,
            "left": null,
            "margin": null,
            "max_height": null,
            "max_width": null,
            "min_height": null,
            "min_width": null,
            "object_fit": null,
            "object_position": null,
            "order": null,
            "overflow": null,
            "overflow_x": null,
            "overflow_y": null,
            "padding": null,
            "right": null,
            "top": null,
            "visibility": null,
            "width": null
          }
        },
        "2ef36766c3014b27b927d3b0cec34f82": {
          "model_module": "@jupyter-widgets/controls",
          "model_module_version": "1.5.0",
          "model_name": "DescriptionStyleModel",
          "state": {
            "_model_module": "@jupyter-widgets/controls",
            "_model_module_version": "1.5.0",
            "_model_name": "DescriptionStyleModel",
            "_view_count": null,
            "_view_module": "@jupyter-widgets/base",
            "_view_module_version": "1.2.0",
            "_view_name": "StyleView",
            "description_width": ""
          }
        },
        "3aca072e13e94167aa377f8fcc730ada": {
          "model_module": "@jupyter-widgets/controls",
          "model_module_version": "1.5.0",
          "model_name": "ProgressStyleModel",
          "state": {
            "_model_module": "@jupyter-widgets/controls",
            "_model_module_version": "1.5.0",
            "_model_name": "ProgressStyleModel",
            "_view_count": null,
            "_view_module": "@jupyter-widgets/base",
            "_view_module_version": "1.2.0",
            "_view_name": "StyleView",
            "bar_color": null,
            "description_width": ""
          }
        },
        "3b87178018f1468984803d9202030c5a": {
          "model_module": "@jupyter-widgets/base",
          "model_module_version": "1.2.0",
          "model_name": "LayoutModel",
          "state": {
            "_model_module": "@jupyter-widgets/base",
            "_model_module_version": "1.2.0",
            "_model_name": "LayoutModel",
            "_view_count": null,
            "_view_module": "@jupyter-widgets/base",
            "_view_module_version": "1.2.0",
            "_view_name": "LayoutView",
            "align_content": null,
            "align_items": null,
            "align_self": null,
            "border": null,
            "bottom": null,
            "display": null,
            "flex": null,
            "flex_flow": null,
            "grid_area": null,
            "grid_auto_columns": null,
            "grid_auto_flow": null,
            "grid_auto_rows": null,
            "grid_column": null,
            "grid_gap": null,
            "grid_row": null,
            "grid_template_areas": null,
            "grid_template_columns": null,
            "grid_template_rows": null,
            "height": null,
            "justify_content": null,
            "justify_items": null,
            "left": null,
            "margin": null,
            "max_height": null,
            "max_width": null,
            "min_height": null,
            "min_width": null,
            "object_fit": null,
            "object_position": null,
            "order": null,
            "overflow": null,
            "overflow_x": null,
            "overflow_y": null,
            "padding": null,
            "right": null,
            "top": null,
            "visibility": null,
            "width": null
          }
        },
        "4029b236201d4f75aa0986e1702def79": {
          "model_module": "@jupyter-widgets/base",
          "model_module_version": "1.2.0",
          "model_name": "LayoutModel",
          "state": {
            "_model_module": "@jupyter-widgets/base",
            "_model_module_version": "1.2.0",
            "_model_name": "LayoutModel",
            "_view_count": null,
            "_view_module": "@jupyter-widgets/base",
            "_view_module_version": "1.2.0",
            "_view_name": "LayoutView",
            "align_content": null,
            "align_items": null,
            "align_self": null,
            "border": null,
            "bottom": null,
            "display": null,
            "flex": null,
            "flex_flow": null,
            "grid_area": null,
            "grid_auto_columns": null,
            "grid_auto_flow": null,
            "grid_auto_rows": null,
            "grid_column": null,
            "grid_gap": null,
            "grid_row": null,
            "grid_template_areas": null,
            "grid_template_columns": null,
            "grid_template_rows": null,
            "height": null,
            "justify_content": null,
            "justify_items": null,
            "left": null,
            "margin": null,
            "max_height": null,
            "max_width": null,
            "min_height": null,
            "min_width": null,
            "object_fit": null,
            "object_position": null,
            "order": null,
            "overflow": null,
            "overflow_x": null,
            "overflow_y": null,
            "padding": null,
            "right": null,
            "top": null,
            "visibility": null,
            "width": null
          }
        },
        "43c6395548f34dfe9543268d7ef98ec3": {
          "model_module": "@jupyter-widgets/base",
          "model_module_version": "1.2.0",
          "model_name": "LayoutModel",
          "state": {
            "_model_module": "@jupyter-widgets/base",
            "_model_module_version": "1.2.0",
            "_model_name": "LayoutModel",
            "_view_count": null,
            "_view_module": "@jupyter-widgets/base",
            "_view_module_version": "1.2.0",
            "_view_name": "LayoutView",
            "align_content": null,
            "align_items": null,
            "align_self": null,
            "border": null,
            "bottom": null,
            "display": null,
            "flex": null,
            "flex_flow": null,
            "grid_area": null,
            "grid_auto_columns": null,
            "grid_auto_flow": null,
            "grid_auto_rows": null,
            "grid_column": null,
            "grid_gap": null,
            "grid_row": null,
            "grid_template_areas": null,
            "grid_template_columns": null,
            "grid_template_rows": null,
            "height": null,
            "justify_content": null,
            "justify_items": null,
            "left": null,
            "margin": null,
            "max_height": null,
            "max_width": null,
            "min_height": null,
            "min_width": null,
            "object_fit": null,
            "object_position": null,
            "order": null,
            "overflow": null,
            "overflow_x": null,
            "overflow_y": null,
            "padding": null,
            "right": null,
            "top": null,
            "visibility": null,
            "width": null
          }
        },
        "44ae06d016dd4c41aa7cc0bc8b36af82": {
          "model_module": "@jupyter-widgets/controls",
          "model_module_version": "1.5.0",
          "model_name": "DescriptionStyleModel",
          "state": {
            "_model_module": "@jupyter-widgets/controls",
            "_model_module_version": "1.5.0",
            "_model_name": "DescriptionStyleModel",
            "_view_count": null,
            "_view_module": "@jupyter-widgets/base",
            "_view_module_version": "1.2.0",
            "_view_name": "StyleView",
            "description_width": ""
          }
        },
        "4aebc53abc28459f8c70caacb0bba68a": {
          "model_module": "@jupyter-widgets/base",
          "model_module_version": "1.2.0",
          "model_name": "LayoutModel",
          "state": {
            "_model_module": "@jupyter-widgets/base",
            "_model_module_version": "1.2.0",
            "_model_name": "LayoutModel",
            "_view_count": null,
            "_view_module": "@jupyter-widgets/base",
            "_view_module_version": "1.2.0",
            "_view_name": "LayoutView",
            "align_content": null,
            "align_items": null,
            "align_self": null,
            "border": null,
            "bottom": null,
            "display": null,
            "flex": null,
            "flex_flow": null,
            "grid_area": null,
            "grid_auto_columns": null,
            "grid_auto_flow": null,
            "grid_auto_rows": null,
            "grid_column": null,
            "grid_gap": null,
            "grid_row": null,
            "grid_template_areas": null,
            "grid_template_columns": null,
            "grid_template_rows": null,
            "height": null,
            "justify_content": null,
            "justify_items": null,
            "left": null,
            "margin": null,
            "max_height": null,
            "max_width": null,
            "min_height": null,
            "min_width": null,
            "object_fit": null,
            "object_position": null,
            "order": null,
            "overflow": null,
            "overflow_x": null,
            "overflow_y": null,
            "padding": null,
            "right": null,
            "top": null,
            "visibility": null,
            "width": null
          }
        },
        "4c2451015db844c58063e3e9831f5102": {
          "model_module": "@jupyter-widgets/controls",
          "model_module_version": "1.5.0",
          "model_name": "HTMLModel",
          "state": {
            "_dom_classes": [],
            "_model_module": "@jupyter-widgets/controls",
            "_model_module_version": "1.5.0",
            "_model_name": "HTMLModel",
            "_view_count": null,
            "_view_module": "@jupyter-widgets/controls",
            "_view_module_version": "1.5.0",
            "_view_name": "HTMLView",
            "description": "",
            "description_tooltip": null,
            "layout": "IPY_MODEL_0bb866a767fe48b3aa4f3b90682da68f",
            "placeholder": "​",
            "style": "IPY_MODEL_ea1a076795a846889b4419e2d84619b5",
            "value": " 1.15k/1.15k [00:00&lt;00:00, 53.8kB/s]"
          }
        },
        "4c32e56190a0455cb21024947c0dc24f": {
          "model_module": "@jupyter-widgets/controls",
          "model_module_version": "1.5.0",
          "model_name": "ProgressStyleModel",
          "state": {
            "_model_module": "@jupyter-widgets/controls",
            "_model_module_version": "1.5.0",
            "_model_name": "ProgressStyleModel",
            "_view_count": null,
            "_view_module": "@jupyter-widgets/base",
            "_view_module_version": "1.2.0",
            "_view_name": "StyleView",
            "bar_color": null,
            "description_width": ""
          }
        },
        "506ddef97cc64017a6d24c6c033be3ff": {
          "model_module": "@jupyter-widgets/controls",
          "model_module_version": "1.5.0",
          "model_name": "HTMLModel",
          "state": {
            "_dom_classes": [],
            "_model_module": "@jupyter-widgets/controls",
            "_model_module_version": "1.5.0",
            "_model_name": "HTMLModel",
            "_view_count": null,
            "_view_module": "@jupyter-widgets/controls",
            "_view_module_version": "1.5.0",
            "_view_name": "HTMLView",
            "description": "",
            "description_tooltip": null,
            "layout": "IPY_MODEL_017f0f4913164b3aaa79079727a33deb",
            "placeholder": "​",
            "style": "IPY_MODEL_0f9db6ec88ba430bb85be2c4dd7ae38d",
            "value": " 1.63G/1.63G [00:14&lt;00:00, 196MB/s]"
          }
        },
        "55bcfd8fdfa14bcfade1d281c8f4640e": {
          "model_module": "@jupyter-widgets/controls",
          "model_module_version": "1.5.0",
          "model_name": "HTMLModel",
          "state": {
            "_dom_classes": [],
            "_model_module": "@jupyter-widgets/controls",
            "_model_module_version": "1.5.0",
            "_model_name": "HTMLModel",
            "_view_count": null,
            "_view_module": "@jupyter-widgets/controls",
            "_view_module_version": "1.5.0",
            "_view_name": "HTMLView",
            "description": "",
            "description_tooltip": null,
            "layout": "IPY_MODEL_ed246a0cf7fd408688eae7081f41e8e6",
            "placeholder": "​",
            "style": "IPY_MODEL_e4ff43e8cf50469883af75a8f4d5c7b8",
            "value": "Downloading (…)/main/tokenizer.json: 100%"
          }
        },
        "5625232bac6d47f08c791a2e75b1ce39": {
          "model_module": "@jupyter-widgets/base",
          "model_module_version": "1.2.0",
          "model_name": "LayoutModel",
          "state": {
            "_model_module": "@jupyter-widgets/base",
            "_model_module_version": "1.2.0",
            "_model_name": "LayoutModel",
            "_view_count": null,
            "_view_module": "@jupyter-widgets/base",
            "_view_module_version": "1.2.0",
            "_view_name": "LayoutView",
            "align_content": null,
            "align_items": null,
            "align_self": null,
            "border": null,
            "bottom": null,
            "display": null,
            "flex": null,
            "flex_flow": null,
            "grid_area": null,
            "grid_auto_columns": null,
            "grid_auto_flow": null,
            "grid_auto_rows": null,
            "grid_column": null,
            "grid_gap": null,
            "grid_row": null,
            "grid_template_areas": null,
            "grid_template_columns": null,
            "grid_template_rows": null,
            "height": null,
            "justify_content": null,
            "justify_items": null,
            "left": null,
            "margin": null,
            "max_height": null,
            "max_width": null,
            "min_height": null,
            "min_width": null,
            "object_fit": null,
            "object_position": null,
            "order": null,
            "overflow": null,
            "overflow_x": null,
            "overflow_y": null,
            "padding": null,
            "right": null,
            "top": null,
            "visibility": null,
            "width": null
          }
        },
        "5f5f9523847f4fa9ba09d46901452707": {
          "model_module": "@jupyter-widgets/controls",
          "model_module_version": "1.5.0",
          "model_name": "DescriptionStyleModel",
          "state": {
            "_model_module": "@jupyter-widgets/controls",
            "_model_module_version": "1.5.0",
            "_model_name": "DescriptionStyleModel",
            "_view_count": null,
            "_view_module": "@jupyter-widgets/base",
            "_view_module_version": "1.2.0",
            "_view_name": "StyleView",
            "description_width": ""
          }
        },
        "6539388d6aa741bf917e2426ba25c627": {
          "model_module": "@jupyter-widgets/controls",
          "model_module_version": "1.5.0",
          "model_name": "DescriptionStyleModel",
          "state": {
            "_model_module": "@jupyter-widgets/controls",
            "_model_module_version": "1.5.0",
            "_model_name": "DescriptionStyleModel",
            "_view_count": null,
            "_view_module": "@jupyter-widgets/base",
            "_view_module_version": "1.2.0",
            "_view_name": "StyleView",
            "description_width": ""
          }
        },
        "662f8a93ecdf4f2488ca6380d3a89f52": {
          "model_module": "@jupyter-widgets/base",
          "model_module_version": "1.2.0",
          "model_name": "LayoutModel",
          "state": {
            "_model_module": "@jupyter-widgets/base",
            "_model_module_version": "1.2.0",
            "_model_name": "LayoutModel",
            "_view_count": null,
            "_view_module": "@jupyter-widgets/base",
            "_view_module_version": "1.2.0",
            "_view_name": "LayoutView",
            "align_content": null,
            "align_items": null,
            "align_self": null,
            "border": null,
            "bottom": null,
            "display": null,
            "flex": null,
            "flex_flow": null,
            "grid_area": null,
            "grid_auto_columns": null,
            "grid_auto_flow": null,
            "grid_auto_rows": null,
            "grid_column": null,
            "grid_gap": null,
            "grid_row": null,
            "grid_template_areas": null,
            "grid_template_columns": null,
            "grid_template_rows": null,
            "height": null,
            "justify_content": null,
            "justify_items": null,
            "left": null,
            "margin": null,
            "max_height": null,
            "max_width": null,
            "min_height": null,
            "min_width": null,
            "object_fit": null,
            "object_position": null,
            "order": null,
            "overflow": null,
            "overflow_x": null,
            "overflow_y": null,
            "padding": null,
            "right": null,
            "top": null,
            "visibility": null,
            "width": null
          }
        },
        "6a5c685964434f06871a188f8475ae75": {
          "model_module": "@jupyter-widgets/controls",
          "model_module_version": "1.5.0",
          "model_name": "FloatProgressModel",
          "state": {
            "_dom_classes": [],
            "_model_module": "@jupyter-widgets/controls",
            "_model_module_version": "1.5.0",
            "_model_name": "FloatProgressModel",
            "_view_count": null,
            "_view_module": "@jupyter-widgets/controls",
            "_view_module_version": "1.5.0",
            "_view_name": "ProgressView",
            "bar_style": "success",
            "description": "",
            "description_tooltip": null,
            "layout": "IPY_MODEL_2981008473784b27a556634f5e855007",
            "max": 26,
            "min": 0,
            "orientation": "horizontal",
            "style": "IPY_MODEL_4c32e56190a0455cb21024947c0dc24f",
            "value": 26
          }
        },
        "6b497ed1203b4e4eaed5a469d63f97bb": {
          "model_module": "@jupyter-widgets/controls",
          "model_module_version": "1.5.0",
          "model_name": "HBoxModel",
          "state": {
            "_dom_classes": [],
            "_model_module": "@jupyter-widgets/controls",
            "_model_module_version": "1.5.0",
            "_model_name": "HBoxModel",
            "_view_count": null,
            "_view_module": "@jupyter-widgets/controls",
            "_view_module_version": "1.5.0",
            "_view_name": "HBoxView",
            "box_style": "",
            "children": [
              "IPY_MODEL_a7c9eed514304a5994c1eef313fdacc1",
              "IPY_MODEL_6a5c685964434f06871a188f8475ae75",
              "IPY_MODEL_be2431dae7e243569d20ff952b56558f"
            ],
            "layout": "IPY_MODEL_4aebc53abc28459f8c70caacb0bba68a"
          }
        },
        "6ccd23231e0c4a76a468e300b2f2bd65": {
          "model_module": "@jupyter-widgets/base",
          "model_module_version": "1.2.0",
          "model_name": "LayoutModel",
          "state": {
            "_model_module": "@jupyter-widgets/base",
            "_model_module_version": "1.2.0",
            "_model_name": "LayoutModel",
            "_view_count": null,
            "_view_module": "@jupyter-widgets/base",
            "_view_module_version": "1.2.0",
            "_view_name": "LayoutView",
            "align_content": null,
            "align_items": null,
            "align_self": null,
            "border": null,
            "bottom": null,
            "display": null,
            "flex": null,
            "flex_flow": null,
            "grid_area": null,
            "grid_auto_columns": null,
            "grid_auto_flow": null,
            "grid_auto_rows": null,
            "grid_column": null,
            "grid_gap": null,
            "grid_row": null,
            "grid_template_areas": null,
            "grid_template_columns": null,
            "grid_template_rows": null,
            "height": null,
            "justify_content": null,
            "justify_items": null,
            "left": null,
            "margin": null,
            "max_height": null,
            "max_width": null,
            "min_height": null,
            "min_width": null,
            "object_fit": null,
            "object_position": null,
            "order": null,
            "overflow": null,
            "overflow_x": null,
            "overflow_y": null,
            "padding": null,
            "right": null,
            "top": null,
            "visibility": null,
            "width": null
          }
        },
        "747d1f9a22fd463b9da4d552b7cc0e79": {
          "model_module": "@jupyter-widgets/controls",
          "model_module_version": "1.5.0",
          "model_name": "FloatProgressModel",
          "state": {
            "_dom_classes": [],
            "_model_module": "@jupyter-widgets/controls",
            "_model_module_version": "1.5.0",
            "_model_name": "FloatProgressModel",
            "_view_count": null,
            "_view_module": "@jupyter-widgets/controls",
            "_view_module_version": "1.5.0",
            "_view_name": "ProgressView",
            "bar_style": "success",
            "description": "",
            "description_tooltip": null,
            "layout": "IPY_MODEL_5625232bac6d47f08c791a2e75b1ce39",
            "max": 1629437147,
            "min": 0,
            "orientation": "horizontal",
            "style": "IPY_MODEL_05ff0a91ad0c415d9a35ae52b36f0013",
            "value": 1629437147
          }
        },
        "79ef36dc1c8c4646b8b66de7b295eb7e": {
          "model_module": "@jupyter-widgets/controls",
          "model_module_version": "1.5.0",
          "model_name": "ProgressStyleModel",
          "state": {
            "_model_module": "@jupyter-widgets/controls",
            "_model_module_version": "1.5.0",
            "_model_name": "ProgressStyleModel",
            "_view_count": null,
            "_view_module": "@jupyter-widgets/base",
            "_view_module_version": "1.2.0",
            "_view_name": "StyleView",
            "bar_color": null,
            "description_width": ""
          }
        },
        "820e431ac172444eb039b20ef6ac9635": {
          "model_module": "@jupyter-widgets/controls",
          "model_module_version": "1.5.0",
          "model_name": "HTMLModel",
          "state": {
            "_dom_classes": [],
            "_model_module": "@jupyter-widgets/controls",
            "_model_module_version": "1.5.0",
            "_model_name": "HTMLModel",
            "_view_count": null,
            "_view_module": "@jupyter-widgets/controls",
            "_view_module_version": "1.5.0",
            "_view_name": "HTMLView",
            "description": "",
            "description_tooltip": null,
            "layout": "IPY_MODEL_6ccd23231e0c4a76a468e300b2f2bd65",
            "placeholder": "​",
            "style": "IPY_MODEL_df580c06acec4162ab210a855edf537d",
            "value": " 1.36M/1.36M [00:00&lt;00:00, 37.8MB/s]"
          }
        },
        "834ba5ca639a492db31f8e7f03a9c12b": {
          "model_module": "@jupyter-widgets/controls",
          "model_module_version": "1.5.0",
          "model_name": "DescriptionStyleModel",
          "state": {
            "_model_module": "@jupyter-widgets/controls",
            "_model_module_version": "1.5.0",
            "_model_name": "DescriptionStyleModel",
            "_view_count": null,
            "_view_module": "@jupyter-widgets/base",
            "_view_module_version": "1.2.0",
            "_view_name": "StyleView",
            "description_width": ""
          }
        },
        "879fc5436cbb4bb487b79d6680d7184b": {
          "model_module": "@jupyter-widgets/controls",
          "model_module_version": "1.5.0",
          "model_name": "DescriptionStyleModel",
          "state": {
            "_model_module": "@jupyter-widgets/controls",
            "_model_module_version": "1.5.0",
            "_model_name": "DescriptionStyleModel",
            "_view_count": null,
            "_view_module": "@jupyter-widgets/base",
            "_view_module_version": "1.2.0",
            "_view_name": "StyleView",
            "description_width": ""
          }
        },
        "8c01189914964feca65fa5a9ee5cf8a0": {
          "model_module": "@jupyter-widgets/base",
          "model_module_version": "1.2.0",
          "model_name": "LayoutModel",
          "state": {
            "_model_module": "@jupyter-widgets/base",
            "_model_module_version": "1.2.0",
            "_model_name": "LayoutModel",
            "_view_count": null,
            "_view_module": "@jupyter-widgets/base",
            "_view_module_version": "1.2.0",
            "_view_name": "LayoutView",
            "align_content": null,
            "align_items": null,
            "align_self": null,
            "border": null,
            "bottom": null,
            "display": null,
            "flex": null,
            "flex_flow": null,
            "grid_area": null,
            "grid_auto_columns": null,
            "grid_auto_flow": null,
            "grid_auto_rows": null,
            "grid_column": null,
            "grid_gap": null,
            "grid_row": null,
            "grid_template_areas": null,
            "grid_template_columns": null,
            "grid_template_rows": null,
            "height": null,
            "justify_content": null,
            "justify_items": null,
            "left": null,
            "margin": null,
            "max_height": null,
            "max_width": null,
            "min_height": null,
            "min_width": null,
            "object_fit": null,
            "object_position": null,
            "order": null,
            "overflow": null,
            "overflow_x": null,
            "overflow_y": null,
            "padding": null,
            "right": null,
            "top": null,
            "visibility": null,
            "width": null
          }
        },
        "8dffc0c3068642d58a8ec31293ec1000": {
          "model_module": "@jupyter-widgets/controls",
          "model_module_version": "1.5.0",
          "model_name": "HTMLModel",
          "state": {
            "_dom_classes": [],
            "_model_module": "@jupyter-widgets/controls",
            "_model_module_version": "1.5.0",
            "_model_name": "HTMLModel",
            "_view_count": null,
            "_view_module": "@jupyter-widgets/controls",
            "_view_module_version": "1.5.0",
            "_view_name": "HTMLView",
            "description": "",
            "description_tooltip": null,
            "layout": "IPY_MODEL_fa393a868e7440da8d80df071a0a12ee",
            "placeholder": "​",
            "style": "IPY_MODEL_44ae06d016dd4c41aa7cc0bc8b36af82",
            "value": "Downloading model.safetensors: 100%"
          }
        },
        "90c21697089b4337ab0dd9f4e04f5268": {
          "model_module": "@jupyter-widgets/base",
          "model_module_version": "1.2.0",
          "model_name": "LayoutModel",
          "state": {
            "_model_module": "@jupyter-widgets/base",
            "_model_module_version": "1.2.0",
            "_model_name": "LayoutModel",
            "_view_count": null,
            "_view_module": "@jupyter-widgets/base",
            "_view_module_version": "1.2.0",
            "_view_name": "LayoutView",
            "align_content": null,
            "align_items": null,
            "align_self": null,
            "border": null,
            "bottom": null,
            "display": null,
            "flex": null,
            "flex_flow": null,
            "grid_area": null,
            "grid_auto_columns": null,
            "grid_auto_flow": null,
            "grid_auto_rows": null,
            "grid_column": null,
            "grid_gap": null,
            "grid_row": null,
            "grid_template_areas": null,
            "grid_template_columns": null,
            "grid_template_rows": null,
            "height": null,
            "justify_content": null,
            "justify_items": null,
            "left": null,
            "margin": null,
            "max_height": null,
            "max_width": null,
            "min_height": null,
            "min_width": null,
            "object_fit": null,
            "object_position": null,
            "order": null,
            "overflow": null,
            "overflow_x": null,
            "overflow_y": null,
            "padding": null,
            "right": null,
            "top": null,
            "visibility": null,
            "width": null
          }
        },
        "a0775e8000774c3893b1a9c13f20edd6": {
          "model_module": "@jupyter-widgets/controls",
          "model_module_version": "1.5.0",
          "model_name": "ProgressStyleModel",
          "state": {
            "_model_module": "@jupyter-widgets/controls",
            "_model_module_version": "1.5.0",
            "_model_name": "ProgressStyleModel",
            "_view_count": null,
            "_view_module": "@jupyter-widgets/base",
            "_view_module_version": "1.2.0",
            "_view_name": "StyleView",
            "bar_color": null,
            "description_width": ""
          }
        },
        "a5c32441b2de4b4e944a5b53b94ee6e1": {
          "model_module": "@jupyter-widgets/base",
          "model_module_version": "1.2.0",
          "model_name": "LayoutModel",
          "state": {
            "_model_module": "@jupyter-widgets/base",
            "_model_module_version": "1.2.0",
            "_model_name": "LayoutModel",
            "_view_count": null,
            "_view_module": "@jupyter-widgets/base",
            "_view_module_version": "1.2.0",
            "_view_name": "LayoutView",
            "align_content": null,
            "align_items": null,
            "align_self": null,
            "border": null,
            "bottom": null,
            "display": null,
            "flex": null,
            "flex_flow": null,
            "grid_area": null,
            "grid_auto_columns": null,
            "grid_auto_flow": null,
            "grid_auto_rows": null,
            "grid_column": null,
            "grid_gap": null,
            "grid_row": null,
            "grid_template_areas": null,
            "grid_template_columns": null,
            "grid_template_rows": null,
            "height": null,
            "justify_content": null,
            "justify_items": null,
            "left": null,
            "margin": null,
            "max_height": null,
            "max_width": null,
            "min_height": null,
            "min_width": null,
            "object_fit": null,
            "object_position": null,
            "order": null,
            "overflow": null,
            "overflow_x": null,
            "overflow_y": null,
            "padding": null,
            "right": null,
            "top": null,
            "visibility": null,
            "width": null
          }
        },
        "a7c9eed514304a5994c1eef313fdacc1": {
          "model_module": "@jupyter-widgets/controls",
          "model_module_version": "1.5.0",
          "model_name": "HTMLModel",
          "state": {
            "_dom_classes": [],
            "_model_module": "@jupyter-widgets/controls",
            "_model_module_version": "1.5.0",
            "_model_name": "HTMLModel",
            "_view_count": null,
            "_view_module": "@jupyter-widgets/controls",
            "_view_module_version": "1.5.0",
            "_view_name": "HTMLView",
            "description": "",
            "description_tooltip": null,
            "layout": "IPY_MODEL_43c6395548f34dfe9543268d7ef98ec3",
            "placeholder": "​",
            "style": "IPY_MODEL_879fc5436cbb4bb487b79d6680d7184b",
            "value": "Downloading (…)okenizer_config.json: 100%"
          }
        },
        "aa9d3fc2f61b40b1827e28e44c586f4b": {
          "model_module": "@jupyter-widgets/controls",
          "model_module_version": "1.5.0",
          "model_name": "HBoxModel",
          "state": {
            "_dom_classes": [],
            "_model_module": "@jupyter-widgets/controls",
            "_model_module_version": "1.5.0",
            "_model_name": "HBoxModel",
            "_view_count": null,
            "_view_module": "@jupyter-widgets/controls",
            "_view_module_version": "1.5.0",
            "_view_name": "HBoxView",
            "box_style": "",
            "children": [
              "IPY_MODEL_dd841fb280644265a0f7f2e6c4c16cc9",
              "IPY_MODEL_c684223777674d6598b20695936e06da",
              "IPY_MODEL_03a824e91d1148babb7c286301b463b2"
            ],
            "layout": "IPY_MODEL_4029b236201d4f75aa0986e1702def79"
          }
        },
        "ad4fe9f6145d4e7c9771004f8b9634a7": {
          "model_module": "@jupyter-widgets/controls",
          "model_module_version": "1.5.0",
          "model_name": "HTMLModel",
          "state": {
            "_dom_classes": [],
            "_model_module": "@jupyter-widgets/controls",
            "_model_module_version": "1.5.0",
            "_model_name": "HTMLModel",
            "_view_count": null,
            "_view_module": "@jupyter-widgets/controls",
            "_view_module_version": "1.5.0",
            "_view_name": "HTMLView",
            "description": "",
            "description_tooltip": null,
            "layout": "IPY_MODEL_3b87178018f1468984803d9202030c5a",
            "placeholder": "​",
            "style": "IPY_MODEL_6539388d6aa741bf917e2426ba25c627",
            "value": "Downloading (…)olve/main/vocab.json: 100%"
          }
        },
        "b6b37e5f01b1480084be862a857699b6": {
          "model_module": "@jupyter-widgets/base",
          "model_module_version": "1.2.0",
          "model_name": "LayoutModel",
          "state": {
            "_model_module": "@jupyter-widgets/base",
            "_model_module_version": "1.2.0",
            "_model_name": "LayoutModel",
            "_view_count": null,
            "_view_module": "@jupyter-widgets/base",
            "_view_module_version": "1.2.0",
            "_view_name": "LayoutView",
            "align_content": null,
            "align_items": null,
            "align_self": null,
            "border": null,
            "bottom": null,
            "display": null,
            "flex": null,
            "flex_flow": null,
            "grid_area": null,
            "grid_auto_columns": null,
            "grid_auto_flow": null,
            "grid_auto_rows": null,
            "grid_column": null,
            "grid_gap": null,
            "grid_row": null,
            "grid_template_areas": null,
            "grid_template_columns": null,
            "grid_template_rows": null,
            "height": null,
            "justify_content": null,
            "justify_items": null,
            "left": null,
            "margin": null,
            "max_height": null,
            "max_width": null,
            "min_height": null,
            "min_width": null,
            "object_fit": null,
            "object_position": null,
            "order": null,
            "overflow": null,
            "overflow_x": null,
            "overflow_y": null,
            "padding": null,
            "right": null,
            "top": null,
            "visibility": null,
            "width": null
          }
        },
        "b900d1b1afad47e5869591b0b9d7786e": {
          "model_module": "@jupyter-widgets/base",
          "model_module_version": "1.2.0",
          "model_name": "LayoutModel",
          "state": {
            "_model_module": "@jupyter-widgets/base",
            "_model_module_version": "1.2.0",
            "_model_name": "LayoutModel",
            "_view_count": null,
            "_view_module": "@jupyter-widgets/base",
            "_view_module_version": "1.2.0",
            "_view_name": "LayoutView",
            "align_content": null,
            "align_items": null,
            "align_self": null,
            "border": null,
            "bottom": null,
            "display": null,
            "flex": null,
            "flex_flow": null,
            "grid_area": null,
            "grid_auto_columns": null,
            "grid_auto_flow": null,
            "grid_auto_rows": null,
            "grid_column": null,
            "grid_gap": null,
            "grid_row": null,
            "grid_template_areas": null,
            "grid_template_columns": null,
            "grid_template_rows": null,
            "height": null,
            "justify_content": null,
            "justify_items": null,
            "left": null,
            "margin": null,
            "max_height": null,
            "max_width": null,
            "min_height": null,
            "min_width": null,
            "object_fit": null,
            "object_position": null,
            "order": null,
            "overflow": null,
            "overflow_x": null,
            "overflow_y": null,
            "padding": null,
            "right": null,
            "top": null,
            "visibility": null,
            "width": null
          }
        },
        "be2431dae7e243569d20ff952b56558f": {
          "model_module": "@jupyter-widgets/controls",
          "model_module_version": "1.5.0",
          "model_name": "HTMLModel",
          "state": {
            "_dom_classes": [],
            "_model_module": "@jupyter-widgets/controls",
            "_model_module_version": "1.5.0",
            "_model_name": "HTMLModel",
            "_view_count": null,
            "_view_module": "@jupyter-widgets/controls",
            "_view_module_version": "1.5.0",
            "_view_name": "HTMLView",
            "description": "",
            "description_tooltip": null,
            "layout": "IPY_MODEL_f6207d034b5847e5bbb5f73d32676019",
            "placeholder": "​",
            "style": "IPY_MODEL_2ef36766c3014b27b927d3b0cec34f82",
            "value": " 26.0/26.0 [00:00&lt;00:00, 1.06kB/s]"
          }
        },
        "bf8da88475bb44f984817cdcbf201e40": {
          "model_module": "@jupyter-widgets/base",
          "model_module_version": "1.2.0",
          "model_name": "LayoutModel",
          "state": {
            "_model_module": "@jupyter-widgets/base",
            "_model_module_version": "1.2.0",
            "_model_name": "LayoutModel",
            "_view_count": null,
            "_view_module": "@jupyter-widgets/base",
            "_view_module_version": "1.2.0",
            "_view_name": "LayoutView",
            "align_content": null,
            "align_items": null,
            "align_self": null,
            "border": null,
            "bottom": null,
            "display": null,
            "flex": null,
            "flex_flow": null,
            "grid_area": null,
            "grid_auto_columns": null,
            "grid_auto_flow": null,
            "grid_auto_rows": null,
            "grid_column": null,
            "grid_gap": null,
            "grid_row": null,
            "grid_template_areas": null,
            "grid_template_columns": null,
            "grid_template_rows": null,
            "height": null,
            "justify_content": null,
            "justify_items": null,
            "left": null,
            "margin": null,
            "max_height": null,
            "max_width": null,
            "min_height": null,
            "min_width": null,
            "object_fit": null,
            "object_position": null,
            "order": null,
            "overflow": null,
            "overflow_x": null,
            "overflow_y": null,
            "padding": null,
            "right": null,
            "top": null,
            "visibility": null,
            "width": null
          }
        },
        "c176d8400d594f2a93ad1a55c6a49b03": {
          "model_module": "@jupyter-widgets/base",
          "model_module_version": "1.2.0",
          "model_name": "LayoutModel",
          "state": {
            "_model_module": "@jupyter-widgets/base",
            "_model_module_version": "1.2.0",
            "_model_name": "LayoutModel",
            "_view_count": null,
            "_view_module": "@jupyter-widgets/base",
            "_view_module_version": "1.2.0",
            "_view_name": "LayoutView",
            "align_content": null,
            "align_items": null,
            "align_self": null,
            "border": null,
            "bottom": null,
            "display": null,
            "flex": null,
            "flex_flow": null,
            "grid_area": null,
            "grid_auto_columns": null,
            "grid_auto_flow": null,
            "grid_auto_rows": null,
            "grid_column": null,
            "grid_gap": null,
            "grid_row": null,
            "grid_template_areas": null,
            "grid_template_columns": null,
            "grid_template_rows": null,
            "height": null,
            "justify_content": null,
            "justify_items": null,
            "left": null,
            "margin": null,
            "max_height": null,
            "max_width": null,
            "min_height": null,
            "min_width": null,
            "object_fit": null,
            "object_position": null,
            "order": null,
            "overflow": null,
            "overflow_x": null,
            "overflow_y": null,
            "padding": null,
            "right": null,
            "top": null,
            "visibility": null,
            "width": null
          }
        },
        "c1d540077a6540ce858c85ba6113e343": {
          "model_module": "@jupyter-widgets/controls",
          "model_module_version": "1.5.0",
          "model_name": "HTMLModel",
          "state": {
            "_dom_classes": [],
            "_model_module": "@jupyter-widgets/controls",
            "_model_module_version": "1.5.0",
            "_model_name": "HTMLModel",
            "_view_count": null,
            "_view_module": "@jupyter-widgets/controls",
            "_view_module_version": "1.5.0",
            "_view_name": "HTMLView",
            "description": "",
            "description_tooltip": null,
            "layout": "IPY_MODEL_b6b37e5f01b1480084be862a857699b6",
            "placeholder": "​",
            "style": "IPY_MODEL_279f22b56cca4650b1893b44d7ca5a5d",
            "value": "Downloading (…)lve/main/config.json: 100%"
          }
        },
        "c684223777674d6598b20695936e06da": {
          "model_module": "@jupyter-widgets/controls",
          "model_module_version": "1.5.0",
          "model_name": "FloatProgressModel",
          "state": {
            "_dom_classes": [],
            "_model_module": "@jupyter-widgets/controls",
            "_model_module_version": "1.5.0",
            "_model_name": "FloatProgressModel",
            "_view_count": null,
            "_view_module": "@jupyter-widgets/controls",
            "_view_module_version": "1.5.0",
            "_view_name": "ProgressView",
            "bar_style": "success",
            "description": "",
            "description_tooltip": null,
            "layout": "IPY_MODEL_e4f8859300ae426cae9151339fb10010",
            "max": 456318,
            "min": 0,
            "orientation": "horizontal",
            "style": "IPY_MODEL_11fb4c9e9d83486bba0493eff8f7e7f6",
            "value": 456318
          }
        },
        "cf8dbd4d26f946bab97b4a6a54e88c91": {
          "model_module": "@jupyter-widgets/base",
          "model_module_version": "1.2.0",
          "model_name": "LayoutModel",
          "state": {
            "_model_module": "@jupyter-widgets/base",
            "_model_module_version": "1.2.0",
            "_model_name": "LayoutModel",
            "_view_count": null,
            "_view_module": "@jupyter-widgets/base",
            "_view_module_version": "1.2.0",
            "_view_name": "LayoutView",
            "align_content": null,
            "align_items": null,
            "align_self": null,
            "border": null,
            "bottom": null,
            "display": null,
            "flex": null,
            "flex_flow": null,
            "grid_area": null,
            "grid_auto_columns": null,
            "grid_auto_flow": null,
            "grid_auto_rows": null,
            "grid_column": null,
            "grid_gap": null,
            "grid_row": null,
            "grid_template_areas": null,
            "grid_template_columns": null,
            "grid_template_rows": null,
            "height": null,
            "justify_content": null,
            "justify_items": null,
            "left": null,
            "margin": null,
            "max_height": null,
            "max_width": null,
            "min_height": null,
            "min_width": null,
            "object_fit": null,
            "object_position": null,
            "order": null,
            "overflow": null,
            "overflow_x": null,
            "overflow_y": null,
            "padding": null,
            "right": null,
            "top": null,
            "visibility": null,
            "width": null
          }
        },
        "dd841fb280644265a0f7f2e6c4c16cc9": {
          "model_module": "@jupyter-widgets/controls",
          "model_module_version": "1.5.0",
          "model_name": "HTMLModel",
          "state": {
            "_dom_classes": [],
            "_model_module": "@jupyter-widgets/controls",
            "_model_module_version": "1.5.0",
            "_model_name": "HTMLModel",
            "_view_count": null,
            "_view_module": "@jupyter-widgets/controls",
            "_view_module_version": "1.5.0",
            "_view_name": "HTMLView",
            "description": "",
            "description_tooltip": null,
            "layout": "IPY_MODEL_c176d8400d594f2a93ad1a55c6a49b03",
            "placeholder": "​",
            "style": "IPY_MODEL_5f5f9523847f4fa9ba09d46901452707",
            "value": "Downloading (…)olve/main/merges.txt: 100%"
          }
        },
        "df580c06acec4162ab210a855edf537d": {
          "model_module": "@jupyter-widgets/controls",
          "model_module_version": "1.5.0",
          "model_name": "DescriptionStyleModel",
          "state": {
            "_model_module": "@jupyter-widgets/controls",
            "_model_module_version": "1.5.0",
            "_model_name": "DescriptionStyleModel",
            "_view_count": null,
            "_view_module": "@jupyter-widgets/base",
            "_view_module_version": "1.2.0",
            "_view_name": "StyleView",
            "description_width": ""
          }
        },
        "e0e48d7306274dbe89893e528001012f": {
          "model_module": "@jupyter-widgets/controls",
          "model_module_version": "1.5.0",
          "model_name": "HBoxModel",
          "state": {
            "_dom_classes": [],
            "_model_module": "@jupyter-widgets/controls",
            "_model_module_version": "1.5.0",
            "_model_name": "HBoxModel",
            "_view_count": null,
            "_view_module": "@jupyter-widgets/controls",
            "_view_module_version": "1.5.0",
            "_view_name": "HBoxView",
            "box_style": "",
            "children": [
              "IPY_MODEL_c1d540077a6540ce858c85ba6113e343",
              "IPY_MODEL_291b5028681648b09a1d9df1954b0776",
              "IPY_MODEL_4c2451015db844c58063e3e9831f5102"
            ],
            "layout": "IPY_MODEL_1b786e2539144a58890ff1b1f3d40d18"
          }
        },
        "e266d1c0500349d4b8041bd30e9020cc": {
          "model_module": "@jupyter-widgets/controls",
          "model_module_version": "1.5.0",
          "model_name": "FloatProgressModel",
          "state": {
            "_dom_classes": [],
            "_model_module": "@jupyter-widgets/controls",
            "_model_module_version": "1.5.0",
            "_model_name": "FloatProgressModel",
            "_view_count": null,
            "_view_module": "@jupyter-widgets/controls",
            "_view_module_version": "1.5.0",
            "_view_name": "ProgressView",
            "bar_style": "success",
            "description": "",
            "description_tooltip": null,
            "layout": "IPY_MODEL_662f8a93ecdf4f2488ca6380d3a89f52",
            "max": 1355863,
            "min": 0,
            "orientation": "horizontal",
            "style": "IPY_MODEL_79ef36dc1c8c4646b8b66de7b295eb7e",
            "value": 1355863
          }
        },
        "e4f8859300ae426cae9151339fb10010": {
          "model_module": "@jupyter-widgets/base",
          "model_module_version": "1.2.0",
          "model_name": "LayoutModel",
          "state": {
            "_model_module": "@jupyter-widgets/base",
            "_model_module_version": "1.2.0",
            "_model_name": "LayoutModel",
            "_view_count": null,
            "_view_module": "@jupyter-widgets/base",
            "_view_module_version": "1.2.0",
            "_view_name": "LayoutView",
            "align_content": null,
            "align_items": null,
            "align_self": null,
            "border": null,
            "bottom": null,
            "display": null,
            "flex": null,
            "flex_flow": null,
            "grid_area": null,
            "grid_auto_columns": null,
            "grid_auto_flow": null,
            "grid_auto_rows": null,
            "grid_column": null,
            "grid_gap": null,
            "grid_row": null,
            "grid_template_areas": null,
            "grid_template_columns": null,
            "grid_template_rows": null,
            "height": null,
            "justify_content": null,
            "justify_items": null,
            "left": null,
            "margin": null,
            "max_height": null,
            "max_width": null,
            "min_height": null,
            "min_width": null,
            "object_fit": null,
            "object_position": null,
            "order": null,
            "overflow": null,
            "overflow_x": null,
            "overflow_y": null,
            "padding": null,
            "right": null,
            "top": null,
            "visibility": null,
            "width": null
          }
        },
        "e4ff43e8cf50469883af75a8f4d5c7b8": {
          "model_module": "@jupyter-widgets/controls",
          "model_module_version": "1.5.0",
          "model_name": "DescriptionStyleModel",
          "state": {
            "_model_module": "@jupyter-widgets/controls",
            "_model_module_version": "1.5.0",
            "_model_name": "DescriptionStyleModel",
            "_view_count": null,
            "_view_module": "@jupyter-widgets/base",
            "_view_module_version": "1.2.0",
            "_view_name": "StyleView",
            "description_width": ""
          }
        },
        "ea1a076795a846889b4419e2d84619b5": {
          "model_module": "@jupyter-widgets/controls",
          "model_module_version": "1.5.0",
          "model_name": "DescriptionStyleModel",
          "state": {
            "_model_module": "@jupyter-widgets/controls",
            "_model_module_version": "1.5.0",
            "_model_name": "DescriptionStyleModel",
            "_view_count": null,
            "_view_module": "@jupyter-widgets/base",
            "_view_module_version": "1.2.0",
            "_view_name": "StyleView",
            "description_width": ""
          }
        },
        "ed246a0cf7fd408688eae7081f41e8e6": {
          "model_module": "@jupyter-widgets/base",
          "model_module_version": "1.2.0",
          "model_name": "LayoutModel",
          "state": {
            "_model_module": "@jupyter-widgets/base",
            "_model_module_version": "1.2.0",
            "_model_name": "LayoutModel",
            "_view_count": null,
            "_view_module": "@jupyter-widgets/base",
            "_view_module_version": "1.2.0",
            "_view_name": "LayoutView",
            "align_content": null,
            "align_items": null,
            "align_self": null,
            "border": null,
            "bottom": null,
            "display": null,
            "flex": null,
            "flex_flow": null,
            "grid_area": null,
            "grid_auto_columns": null,
            "grid_auto_flow": null,
            "grid_auto_rows": null,
            "grid_column": null,
            "grid_gap": null,
            "grid_row": null,
            "grid_template_areas": null,
            "grid_template_columns": null,
            "grid_template_rows": null,
            "height": null,
            "justify_content": null,
            "justify_items": null,
            "left": null,
            "margin": null,
            "max_height": null,
            "max_width": null,
            "min_height": null,
            "min_width": null,
            "object_fit": null,
            "object_position": null,
            "order": null,
            "overflow": null,
            "overflow_x": null,
            "overflow_y": null,
            "padding": null,
            "right": null,
            "top": null,
            "visibility": null,
            "width": null
          }
        },
        "eff059da530d4acf907c11ff9445d4f3": {
          "model_module": "@jupyter-widgets/controls",
          "model_module_version": "1.5.0",
          "model_name": "HBoxModel",
          "state": {
            "_dom_classes": [],
            "_model_module": "@jupyter-widgets/controls",
            "_model_module_version": "1.5.0",
            "_model_name": "HBoxModel",
            "_view_count": null,
            "_view_module": "@jupyter-widgets/controls",
            "_view_module_version": "1.5.0",
            "_view_name": "HBoxView",
            "box_style": "",
            "children": [
              "IPY_MODEL_8dffc0c3068642d58a8ec31293ec1000",
              "IPY_MODEL_747d1f9a22fd463b9da4d552b7cc0e79",
              "IPY_MODEL_506ddef97cc64017a6d24c6c033be3ff"
            ],
            "layout": "IPY_MODEL_a5c32441b2de4b4e944a5b53b94ee6e1"
          }
        },
        "f5807f1c422c4c158e1c24c0496e722f": {
          "model_module": "@jupyter-widgets/controls",
          "model_module_version": "1.5.0",
          "model_name": "FloatProgressModel",
          "state": {
            "_dom_classes": [],
            "_model_module": "@jupyter-widgets/controls",
            "_model_module_version": "1.5.0",
            "_model_name": "FloatProgressModel",
            "_view_count": null,
            "_view_module": "@jupyter-widgets/controls",
            "_view_module_version": "1.5.0",
            "_view_name": "ProgressView",
            "bar_style": "success",
            "description": "",
            "description_tooltip": null,
            "layout": "IPY_MODEL_004bd24df5b8407bbb79e2f50bbe6e72",
            "max": 898822,
            "min": 0,
            "orientation": "horizontal",
            "style": "IPY_MODEL_a0775e8000774c3893b1a9c13f20edd6",
            "value": 898822
          }
        },
        "f6207d034b5847e5bbb5f73d32676019": {
          "model_module": "@jupyter-widgets/base",
          "model_module_version": "1.2.0",
          "model_name": "LayoutModel",
          "state": {
            "_model_module": "@jupyter-widgets/base",
            "_model_module_version": "1.2.0",
            "_model_name": "LayoutModel",
            "_view_count": null,
            "_view_module": "@jupyter-widgets/base",
            "_view_module_version": "1.2.0",
            "_view_name": "LayoutView",
            "align_content": null,
            "align_items": null,
            "align_self": null,
            "border": null,
            "bottom": null,
            "display": null,
            "flex": null,
            "flex_flow": null,
            "grid_area": null,
            "grid_auto_columns": null,
            "grid_auto_flow": null,
            "grid_auto_rows": null,
            "grid_column": null,
            "grid_gap": null,
            "grid_row": null,
            "grid_template_areas": null,
            "grid_template_columns": null,
            "grid_template_rows": null,
            "height": null,
            "justify_content": null,
            "justify_items": null,
            "left": null,
            "margin": null,
            "max_height": null,
            "max_width": null,
            "min_height": null,
            "min_width": null,
            "object_fit": null,
            "object_position": null,
            "order": null,
            "overflow": null,
            "overflow_x": null,
            "overflow_y": null,
            "padding": null,
            "right": null,
            "top": null,
            "visibility": null,
            "width": null
          }
        },
        "fa393a868e7440da8d80df071a0a12ee": {
          "model_module": "@jupyter-widgets/base",
          "model_module_version": "1.2.0",
          "model_name": "LayoutModel",
          "state": {
            "_model_module": "@jupyter-widgets/base",
            "_model_module_version": "1.2.0",
            "_model_name": "LayoutModel",
            "_view_count": null,
            "_view_module": "@jupyter-widgets/base",
            "_view_module_version": "1.2.0",
            "_view_name": "LayoutView",
            "align_content": null,
            "align_items": null,
            "align_self": null,
            "border": null,
            "bottom": null,
            "display": null,
            "flex": null,
            "flex_flow": null,
            "grid_area": null,
            "grid_auto_columns": null,
            "grid_auto_flow": null,
            "grid_auto_rows": null,
            "grid_column": null,
            "grid_gap": null,
            "grid_row": null,
            "grid_template_areas": null,
            "grid_template_columns": null,
            "grid_template_rows": null,
            "height": null,
            "justify_content": null,
            "justify_items": null,
            "left": null,
            "margin": null,
            "max_height": null,
            "max_width": null,
            "min_height": null,
            "min_width": null,
            "object_fit": null,
            "object_position": null,
            "order": null,
            "overflow": null,
            "overflow_x": null,
            "overflow_y": null,
            "padding": null,
            "right": null,
            "top": null,
            "visibility": null,
            "width": null
          }
        }
      }
    }
  },
  "nbformat": 4,
  "nbformat_minor": 0
}