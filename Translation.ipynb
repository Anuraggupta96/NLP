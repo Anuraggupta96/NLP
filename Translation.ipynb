{
  "cells": [
    {
      "cell_type": "code",
      "execution_count": null,
      "id": "A2qd_0mMMfhA",
      "metadata": {
        "colab": {
          "base_uri": "https://localhost:8080/"
        },
        "id": "A2qd_0mMMfhA",
        "outputId": "a79ed52c-61e8-4e5c-8768-48904110e700"
      },
      "outputs": [
        {
          "output_type": "stream",
          "name": "stdout",
          "text": [
            "Sun Oct 29 05:04:13 2023       \n",
            "+-----------------------------------------------------------------------------+\n",
            "| NVIDIA-SMI 525.105.17   Driver Version: 525.105.17   CUDA Version: 12.0     |\n",
            "|-------------------------------+----------------------+----------------------+\n",
            "| GPU  Name        Persistence-M| Bus-Id        Disp.A | Volatile Uncorr. ECC |\n",
            "| Fan  Temp  Perf  Pwr:Usage/Cap|         Memory-Usage | GPU-Util  Compute M. |\n",
            "|                               |                      |               MIG M. |\n",
            "|===============================+======================+======================|\n",
            "|   0  Tesla T4            Off  | 00000000:00:04.0 Off |                    0 |\n",
            "| N/A   51C    P8    10W /  70W |      0MiB / 15360MiB |      0%      Default |\n",
            "|                               |                      |                  N/A |\n",
            "+-------------------------------+----------------------+----------------------+\n",
            "                                                                               \n",
            "+-----------------------------------------------------------------------------+\n",
            "| Processes:                                                                  |\n",
            "|  GPU   GI   CI        PID   Type   Process name                  GPU Memory |\n",
            "|        ID   ID                                                   Usage      |\n",
            "|=============================================================================|\n",
            "|  No running processes found                                                 |\n",
            "+-----------------------------------------------------------------------------+\n"
          ]
        }
      ],
      "source": [
        "!nvidia-smi"
      ]
    },
    {
      "cell_type": "markdown",
      "id": "b84121b7-f061-4e3b-8e4d-95e94859115b",
      "metadata": {
        "id": "b84121b7-f061-4e3b-8e4d-95e94859115b"
      },
      "source": [
        "# <font color = 'pickle'>**Translation** </font>\n",
        "\n",
        "\n",
        "\n",
        "\n"
      ]
    },
    {
      "cell_type": "markdown",
      "id": "7cde75b6",
      "metadata": {
        "id": "7cde75b6"
      },
      "source": [
        "\n",
        "## Outline\n",
        "1. **Setting up the Environment**: Installing necessary libraries and setting up paths.\n",
        "2. **Exploring and Understanding IMDB Dataset**: Understanding the structure and content of the dataset.\n",
        "\n",
        "3. **Data Preprocessing**: Techniques to prepare the data for training, including handling different data splits and tokenization\n",
        "4. **Training the Model**: Feeding data and adjusting weights.\n",
        "5. **Prediction and Evaluation**: Evaluate model on test set and making predictions.\n",
        "\n"
      ]
    },
    {
      "cell_type": "markdown",
      "id": "fj41POPjrtzA",
      "metadata": {
        "id": "fj41POPjrtzA"
      },
      "source": [
        "# <font color = 'pickle'> **Setting up the Environment** </font>"
      ]
    },
    {
      "cell_type": "code",
      "execution_count": null,
      "id": "0d54de23-80e9-4e1b-816c-6f6916c92836",
      "metadata": {
        "execution": {
          "iopub.execute_input": "2022-12-23T23:12:55.528562Z",
          "iopub.status.busy": "2022-12-23T23:12:55.528020Z",
          "iopub.status.idle": "2022-12-23T23:12:55.539182Z",
          "shell.execute_reply": "2022-12-23T23:12:55.538417Z",
          "shell.execute_reply.started": "2022-12-23T23:12:55.528532Z"
        },
        "id": "0d54de23-80e9-4e1b-816c-6f6916c92836",
        "outputId": "4f72ea78-5d68-4a6d-e6f0-2cfed53e4c22",
        "tags": [],
        "colab": {
          "base_uri": "https://localhost:8080/"
        }
      },
      "outputs": [
        {
          "output_type": "stream",
          "name": "stdout",
          "text": [
            "Drive already mounted at /content/drive; to attempt to forcibly remount, call drive.mount(\"/content/drive\", force_remount=True).\n"
          ]
        }
      ],
      "source": [
        "from pathlib import Path\n",
        "if 'google.colab' in str(get_ipython()):\n",
        "    from google.colab import drive\n",
        "    drive.mount(\"/content/drive\")\n",
        "    !pip install datasets transformers evaluate wandb accelerate -U -qq\n",
        "    base_folder = Path(\"/content/drive/MyDrive/Google colab NLP\")\n",
        "\n",
        "from transformers import AutoConfig, AutoModelForSeq2SeqLM, AutoTokenizer, Seq2SeqTrainer\n",
        "from transformers import AutoTokenizer, DataCollatorForSeq2Seq, pipeline\n",
        "from datasets import load_dataset, DatasetDict\n",
        "import evaluate\n",
        "from evaluate import evaluator\n",
        "\n",
        "\n",
        "import wandb\n",
        "import numpy as np\n",
        "import pandas as pd"
      ]
    },
    {
      "cell_type": "markdown",
      "id": "O_xxXoyw_2x1",
      "metadata": {
        "id": "O_xxXoyw_2x1"
      },
      "source": [
        "# <font color = 'pickle'> **Exploring and Understanding Dataset**"
      ]
    },
    {
      "cell_type": "markdown",
      "id": "7ae39760-8c90-4bef-a1c9-66a302b29da3",
      "metadata": {
        "id": "7ae39760-8c90-4bef-a1c9-66a302b29da3",
        "tags": []
      },
      "source": [
        "## <font color = 'pickle'> **English_French_Translation**</font>\n",
        "\n"
      ]
    },
    {
      "cell_type": "markdown",
      "id": "b906904c-8f24-4de0-8e07-720863e8cd99",
      "metadata": {
        "id": "b906904c-8f24-4de0-8e07-720863e8cd99"
      },
      "source": [
        "## <font color = 'pickle'> **Load Data set**\n",
        "    \n"
      ]
    },
    {
      "cell_type": "code",
      "execution_count": null,
      "id": "1JpTLLoCvuAY",
      "metadata": {
        "id": "1JpTLLoCvuAY"
      },
      "outputs": [],
      "source": [
        "kde_dataset = load_dataset('kde4', lang1='en', lang2='fr')"
      ]
    },
    {
      "cell_type": "markdown",
      "id": "MluH2KHxHfF0",
      "metadata": {
        "id": "MluH2KHxHfF0"
      },
      "source": [
        "## <font color = 'pickle'> **Understanding your data**"
      ]
    },
    {
      "cell_type": "code",
      "execution_count": null,
      "id": "13c259d6-3936-47d7-aae4-467cf479368d",
      "metadata": {
        "colab": {
          "base_uri": "https://localhost:8080/"
        },
        "execution": {
          "iopub.execute_input": "2022-12-23T23:13:19.870767Z",
          "iopub.status.busy": "2022-12-23T23:13:19.870527Z",
          "iopub.status.idle": "2022-12-23T23:13:20.007104Z",
          "shell.execute_reply": "2022-12-23T23:13:20.006616Z",
          "shell.execute_reply.started": "2022-12-23T23:13:19.870741Z"
        },
        "id": "13c259d6-3936-47d7-aae4-467cf479368d",
        "outputId": "7f7abf6a-f546-4157-c10b-707354046f84",
        "tags": []
      },
      "outputs": [
        {
          "output_type": "stream",
          "name": "stdout",
          "text": [
            "DatasetDict({\n",
            "    train: Dataset({\n",
            "        features: ['id', 'translation'],\n",
            "        num_rows: 210173\n",
            "    })\n",
            "})\n"
          ]
        }
      ],
      "source": [
        "print(kde_dataset)\n"
      ]
    },
    {
      "cell_type": "markdown",
      "id": "G8mgUnP9fS7i",
      "metadata": {
        "id": "G8mgUnP9fS7i"
      },
      "source": [
        "## <font color = 'pickle'> **Understanding the datatype of columns**\n"
      ]
    },
    {
      "cell_type": "code",
      "execution_count": null,
      "id": "wq_SXtXzeXWg",
      "metadata": {
        "colab": {
          "base_uri": "https://localhost:8080/"
        },
        "id": "wq_SXtXzeXWg",
        "outputId": "494444c5-c033-4171-df6a-fe21c1c7f9a6"
      },
      "outputs": [
        {
          "output_type": "execute_result",
          "data": {
            "text/plain": [
              "{'id': Value(dtype='string', id=None),\n",
              " 'translation': Translation(languages=['en', 'fr'], id=None)}"
            ]
          },
          "metadata": {},
          "execution_count": 5
        }
      ],
      "source": [
        "kde_dataset[\"train\"].features\n"
      ]
    },
    {
      "cell_type": "markdown",
      "id": "z80MwfKWSuxn",
      "metadata": {
        "id": "z80MwfKWSuxn"
      },
      "source": [
        "## <font color = 'pickle'> **Acess indivdual element** </font>\n",
        " The dataset behaves like an Python array or list. We can use the familiar indexing/slicing methods to access individual elements."
      ]
    },
    {
      "cell_type": "code",
      "execution_count": null,
      "id": "McaQFKL94fff",
      "metadata": {
        "colab": {
          "base_uri": "https://localhost:8080/"
        },
        "id": "McaQFKL94fff",
        "outputId": "6eabcdfb-8764-4698-f192-44b053f3ced4"
      },
      "outputs": [
        {
          "output_type": "execute_result",
          "data": {
            "text/plain": [
              "{'id': '42',\n",
              " 'translation': {'en': 'The Embedded Media Player',\n",
              "  'fr': 'Le Lecteur de Média incorporé'}}"
            ]
          },
          "metadata": {},
          "execution_count": 6
        }
      ],
      "source": [
        "# get the first example of the dataset\n",
        "kde_dataset[\"train\"][42]\n"
      ]
    },
    {
      "cell_type": "markdown",
      "id": "tFDvl9r94reU",
      "metadata": {
        "id": "tFDvl9r94reU"
      },
      "source": [
        "The dialogues resemble typical SMS or WhatsApp chats, complete with emojis and spaces for GIFs. The \"dialogue\" field presents the entire text, while the \"summary\" field provides the summary of the conversation."
      ]
    },
    {
      "cell_type": "markdown",
      "id": "CzxEpA9FCYjC",
      "metadata": {
        "id": "CzxEpA9FCYjC"
      },
      "source": [
        "## <font color = 'pickle'> **Exploratory Data Analysis (EDA)**"
      ]
    },
    {
      "cell_type": "markdown",
      "id": "cWJBOfEj4_lE",
      "metadata": {
        "id": "cWJBOfEj4_lE"
      },
      "source": [
        "### <font color = 'pickle'> **Change dataset format to Pandas**  </font>\n"
      ]
    },
    {
      "cell_type": "code",
      "execution_count": null,
      "id": "HjQ2Q-3d14UL",
      "metadata": {
        "id": "HjQ2Q-3d14UL"
      },
      "outputs": [],
      "source": [
        "# This will convert all the splits into Pandas dataframe\n",
        "kde_dataset.set_format(type=\"pandas\")\n"
      ]
    },
    {
      "cell_type": "code",
      "execution_count": null,
      "id": "nM-OqQ493Io9",
      "metadata": {
        "id": "nM-OqQ493Io9"
      },
      "outputs": [],
      "source": [
        "# Get all rows from training split\n",
        "df_train = kde_dataset[\"train\"][:]\n"
      ]
    },
    {
      "cell_type": "code",
      "execution_count": null,
      "id": "Aah_Ji9EdgSQ",
      "metadata": {
        "colab": {
          "base_uri": "https://localhost:8080/",
          "height": 206
        },
        "id": "Aah_Ji9EdgSQ",
        "outputId": "5d22e3b5-c454-462f-fbdf-439213793f39"
      },
      "outputs": [
        {
          "output_type": "execute_result",
          "data": {
            "text/plain": [
              "  id                                        translation\n",
              "0  0         {'en': 'Lauri Watts', 'fr': 'Lauri Watts'}\n",
              "1  1  {'en': '& Lauri. Watts. mail;', 'fr': '& Lauri...\n",
              "2  2  {'en': 'ROLES_OF_TRANSLATORS', 'fr': '& traduc...\n",
              "3  3  {'en': '2006-02-26 3.5.1', 'fr': '2006-02-26 3...\n",
              "4  4  {'en': 'The Babel & konqueror; plugin gives yo..."
            ],
            "text/html": [
              "\n",
              "  <div id=\"df-e30fbbaf-dbee-43a4-94c3-5ada5f3840ee\" class=\"colab-df-container\">\n",
              "    <div>\n",
              "<style scoped>\n",
              "    .dataframe tbody tr th:only-of-type {\n",
              "        vertical-align: middle;\n",
              "    }\n",
              "\n",
              "    .dataframe tbody tr th {\n",
              "        vertical-align: top;\n",
              "    }\n",
              "\n",
              "    .dataframe thead th {\n",
              "        text-align: right;\n",
              "    }\n",
              "</style>\n",
              "<table border=\"1\" class=\"dataframe\">\n",
              "  <thead>\n",
              "    <tr style=\"text-align: right;\">\n",
              "      <th></th>\n",
              "      <th>id</th>\n",
              "      <th>translation</th>\n",
              "    </tr>\n",
              "  </thead>\n",
              "  <tbody>\n",
              "    <tr>\n",
              "      <th>0</th>\n",
              "      <td>0</td>\n",
              "      <td>{'en': 'Lauri Watts', 'fr': 'Lauri Watts'}</td>\n",
              "    </tr>\n",
              "    <tr>\n",
              "      <th>1</th>\n",
              "      <td>1</td>\n",
              "      <td>{'en': '&amp; Lauri. Watts. mail;', 'fr': '&amp; Lauri...</td>\n",
              "    </tr>\n",
              "    <tr>\n",
              "      <th>2</th>\n",
              "      <td>2</td>\n",
              "      <td>{'en': 'ROLES_OF_TRANSLATORS', 'fr': '&amp; traduc...</td>\n",
              "    </tr>\n",
              "    <tr>\n",
              "      <th>3</th>\n",
              "      <td>3</td>\n",
              "      <td>{'en': '2006-02-26 3.5.1', 'fr': '2006-02-26 3...</td>\n",
              "    </tr>\n",
              "    <tr>\n",
              "      <th>4</th>\n",
              "      <td>4</td>\n",
              "      <td>{'en': 'The Babel &amp; konqueror; plugin gives yo...</td>\n",
              "    </tr>\n",
              "  </tbody>\n",
              "</table>\n",
              "</div>\n",
              "    <div class=\"colab-df-buttons\">\n",
              "\n",
              "  <div class=\"colab-df-container\">\n",
              "    <button class=\"colab-df-convert\" onclick=\"convertToInteractive('df-e30fbbaf-dbee-43a4-94c3-5ada5f3840ee')\"\n",
              "            title=\"Convert this dataframe to an interactive table.\"\n",
              "            style=\"display:none;\">\n",
              "\n",
              "  <svg xmlns=\"http://www.w3.org/2000/svg\" height=\"24px\" viewBox=\"0 -960 960 960\">\n",
              "    <path d=\"M120-120v-720h720v720H120Zm60-500h600v-160H180v160Zm220 220h160v-160H400v160Zm0 220h160v-160H400v160ZM180-400h160v-160H180v160Zm440 0h160v-160H620v160ZM180-180h160v-160H180v160Zm440 0h160v-160H620v160Z\"/>\n",
              "  </svg>\n",
              "    </button>\n",
              "\n",
              "  <style>\n",
              "    .colab-df-container {\n",
              "      display:flex;\n",
              "      gap: 12px;\n",
              "    }\n",
              "\n",
              "    .colab-df-convert {\n",
              "      background-color: #E8F0FE;\n",
              "      border: none;\n",
              "      border-radius: 50%;\n",
              "      cursor: pointer;\n",
              "      display: none;\n",
              "      fill: #1967D2;\n",
              "      height: 32px;\n",
              "      padding: 0 0 0 0;\n",
              "      width: 32px;\n",
              "    }\n",
              "\n",
              "    .colab-df-convert:hover {\n",
              "      background-color: #E2EBFA;\n",
              "      box-shadow: 0px 1px 2px rgba(60, 64, 67, 0.3), 0px 1px 3px 1px rgba(60, 64, 67, 0.15);\n",
              "      fill: #174EA6;\n",
              "    }\n",
              "\n",
              "    .colab-df-buttons div {\n",
              "      margin-bottom: 4px;\n",
              "    }\n",
              "\n",
              "    [theme=dark] .colab-df-convert {\n",
              "      background-color: #3B4455;\n",
              "      fill: #D2E3FC;\n",
              "    }\n",
              "\n",
              "    [theme=dark] .colab-df-convert:hover {\n",
              "      background-color: #434B5C;\n",
              "      box-shadow: 0px 1px 3px 1px rgba(0, 0, 0, 0.15);\n",
              "      filter: drop-shadow(0px 1px 2px rgba(0, 0, 0, 0.3));\n",
              "      fill: #FFFFFF;\n",
              "    }\n",
              "  </style>\n",
              "\n",
              "    <script>\n",
              "      const buttonEl =\n",
              "        document.querySelector('#df-e30fbbaf-dbee-43a4-94c3-5ada5f3840ee button.colab-df-convert');\n",
              "      buttonEl.style.display =\n",
              "        google.colab.kernel.accessAllowed ? 'block' : 'none';\n",
              "\n",
              "      async function convertToInteractive(key) {\n",
              "        const element = document.querySelector('#df-e30fbbaf-dbee-43a4-94c3-5ada5f3840ee');\n",
              "        const dataTable =\n",
              "          await google.colab.kernel.invokeFunction('convertToInteractive',\n",
              "                                                    [key], {});\n",
              "        if (!dataTable) return;\n",
              "\n",
              "        const docLinkHtml = 'Like what you see? Visit the ' +\n",
              "          '<a target=\"_blank\" href=https://colab.research.google.com/notebooks/data_table.ipynb>data table notebook</a>'\n",
              "          + ' to learn more about interactive tables.';\n",
              "        element.innerHTML = '';\n",
              "        dataTable['output_type'] = 'display_data';\n",
              "        await google.colab.output.renderOutput(dataTable, element);\n",
              "        const docLink = document.createElement('div');\n",
              "        docLink.innerHTML = docLinkHtml;\n",
              "        element.appendChild(docLink);\n",
              "      }\n",
              "    </script>\n",
              "  </div>\n",
              "\n",
              "\n",
              "<div id=\"df-36e11d03-2a02-4dd5-b2bc-0dfa7b515601\">\n",
              "  <button class=\"colab-df-quickchart\" onclick=\"quickchart('df-36e11d03-2a02-4dd5-b2bc-0dfa7b515601')\"\n",
              "            title=\"Suggest charts.\"\n",
              "            style=\"display:none;\">\n",
              "\n",
              "<svg xmlns=\"http://www.w3.org/2000/svg\" height=\"24px\"viewBox=\"0 0 24 24\"\n",
              "     width=\"24px\">\n",
              "    <g>\n",
              "        <path d=\"M19 3H5c-1.1 0-2 .9-2 2v14c0 1.1.9 2 2 2h14c1.1 0 2-.9 2-2V5c0-1.1-.9-2-2-2zM9 17H7v-7h2v7zm4 0h-2V7h2v10zm4 0h-2v-4h2v4z\"/>\n",
              "    </g>\n",
              "</svg>\n",
              "  </button>\n",
              "\n",
              "<style>\n",
              "  .colab-df-quickchart {\n",
              "      --bg-color: #E8F0FE;\n",
              "      --fill-color: #1967D2;\n",
              "      --hover-bg-color: #E2EBFA;\n",
              "      --hover-fill-color: #174EA6;\n",
              "      --disabled-fill-color: #AAA;\n",
              "      --disabled-bg-color: #DDD;\n",
              "  }\n",
              "\n",
              "  [theme=dark] .colab-df-quickchart {\n",
              "      --bg-color: #3B4455;\n",
              "      --fill-color: #D2E3FC;\n",
              "      --hover-bg-color: #434B5C;\n",
              "      --hover-fill-color: #FFFFFF;\n",
              "      --disabled-bg-color: #3B4455;\n",
              "      --disabled-fill-color: #666;\n",
              "  }\n",
              "\n",
              "  .colab-df-quickchart {\n",
              "    background-color: var(--bg-color);\n",
              "    border: none;\n",
              "    border-radius: 50%;\n",
              "    cursor: pointer;\n",
              "    display: none;\n",
              "    fill: var(--fill-color);\n",
              "    height: 32px;\n",
              "    padding: 0;\n",
              "    width: 32px;\n",
              "  }\n",
              "\n",
              "  .colab-df-quickchart:hover {\n",
              "    background-color: var(--hover-bg-color);\n",
              "    box-shadow: 0 1px 2px rgba(60, 64, 67, 0.3), 0 1px 3px 1px rgba(60, 64, 67, 0.15);\n",
              "    fill: var(--button-hover-fill-color);\n",
              "  }\n",
              "\n",
              "  .colab-df-quickchart-complete:disabled,\n",
              "  .colab-df-quickchart-complete:disabled:hover {\n",
              "    background-color: var(--disabled-bg-color);\n",
              "    fill: var(--disabled-fill-color);\n",
              "    box-shadow: none;\n",
              "  }\n",
              "\n",
              "  .colab-df-spinner {\n",
              "    border: 2px solid var(--fill-color);\n",
              "    border-color: transparent;\n",
              "    border-bottom-color: var(--fill-color);\n",
              "    animation:\n",
              "      spin 1s steps(1) infinite;\n",
              "  }\n",
              "\n",
              "  @keyframes spin {\n",
              "    0% {\n",
              "      border-color: transparent;\n",
              "      border-bottom-color: var(--fill-color);\n",
              "      border-left-color: var(--fill-color);\n",
              "    }\n",
              "    20% {\n",
              "      border-color: transparent;\n",
              "      border-left-color: var(--fill-color);\n",
              "      border-top-color: var(--fill-color);\n",
              "    }\n",
              "    30% {\n",
              "      border-color: transparent;\n",
              "      border-left-color: var(--fill-color);\n",
              "      border-top-color: var(--fill-color);\n",
              "      border-right-color: var(--fill-color);\n",
              "    }\n",
              "    40% {\n",
              "      border-color: transparent;\n",
              "      border-right-color: var(--fill-color);\n",
              "      border-top-color: var(--fill-color);\n",
              "    }\n",
              "    60% {\n",
              "      border-color: transparent;\n",
              "      border-right-color: var(--fill-color);\n",
              "    }\n",
              "    80% {\n",
              "      border-color: transparent;\n",
              "      border-right-color: var(--fill-color);\n",
              "      border-bottom-color: var(--fill-color);\n",
              "    }\n",
              "    90% {\n",
              "      border-color: transparent;\n",
              "      border-bottom-color: var(--fill-color);\n",
              "    }\n",
              "  }\n",
              "</style>\n",
              "\n",
              "  <script>\n",
              "    async function quickchart(key) {\n",
              "      const quickchartButtonEl =\n",
              "        document.querySelector('#' + key + ' button');\n",
              "      quickchartButtonEl.disabled = true;  // To prevent multiple clicks.\n",
              "      quickchartButtonEl.classList.add('colab-df-spinner');\n",
              "      try {\n",
              "        const charts = await google.colab.kernel.invokeFunction(\n",
              "            'suggestCharts', [key], {});\n",
              "      } catch (error) {\n",
              "        console.error('Error during call to suggestCharts:', error);\n",
              "      }\n",
              "      quickchartButtonEl.classList.remove('colab-df-spinner');\n",
              "      quickchartButtonEl.classList.add('colab-df-quickchart-complete');\n",
              "    }\n",
              "    (() => {\n",
              "      let quickchartButtonEl =\n",
              "        document.querySelector('#df-36e11d03-2a02-4dd5-b2bc-0dfa7b515601 button');\n",
              "      quickchartButtonEl.style.display =\n",
              "        google.colab.kernel.accessAllowed ? 'block' : 'none';\n",
              "    })();\n",
              "  </script>\n",
              "</div>\n",
              "    </div>\n",
              "  </div>\n"
            ]
          },
          "metadata": {},
          "execution_count": 9
        }
      ],
      "source": [
        "df_train.head()\n"
      ]
    },
    {
      "cell_type": "code",
      "execution_count": null,
      "id": "SMuG9fuF3ccM",
      "metadata": {
        "colab": {
          "base_uri": "https://localhost:8080/"
        },
        "id": "SMuG9fuF3ccM",
        "outputId": "fde7a00f-5c90-45cc-9fde-9278f251d160"
      },
      "outputs": [
        {
          "output_type": "stream",
          "name": "stdout",
          "text": [
            "<class 'pandas.core.frame.DataFrame'>\n",
            "RangeIndex: 210173 entries, 0 to 210172\n",
            "Data columns (total 2 columns):\n",
            " #   Column       Non-Null Count   Dtype \n",
            "---  ------       --------------   ----- \n",
            " 0   id           210173 non-null  object\n",
            " 1   translation  210173 non-null  object\n",
            "dtypes: object(2)\n",
            "memory usage: 3.2+ MB\n"
          ]
        }
      ],
      "source": [
        "df_train.info()\n"
      ]
    },
    {
      "cell_type": "markdown",
      "id": "FYl8PoBim3kC",
      "metadata": {
        "id": "FYl8PoBim3kC"
      },
      "source": [
        "### <font color = 'pickle'> **Check length of the dialogue/summary** </font>\n"
      ]
    },
    {
      "cell_type": "code",
      "execution_count": null,
      "id": "WOF_nrp2oBvT",
      "metadata": {
        "id": "WOF_nrp2oBvT"
      },
      "outputs": [],
      "source": [
        "df_train['words_per_sent_en'] = df_train['translation'].apply(lambda x: len(x['en'].split()))\n",
        "df_train['words_per_sent_fr'] = df_train['translation'].apply(lambda x: len(x['fr'].split()))"
      ]
    },
    {
      "cell_type": "code",
      "execution_count": null,
      "id": "Pw7jn9U1YDJH",
      "metadata": {
        "colab": {
          "base_uri": "https://localhost:8080/",
          "height": 206
        },
        "id": "Pw7jn9U1YDJH",
        "outputId": "3ed74137-c6d7-4ecf-dff6-204b02a3b57f"
      },
      "outputs": [
        {
          "output_type": "execute_result",
          "data": {
            "text/plain": [
              "  id                                        translation  words_per_sent_en  \\\n",
              "0  0         {'en': 'Lauri Watts', 'fr': 'Lauri Watts'}                  2   \n",
              "1  1  {'en': '& Lauri. Watts. mail;', 'fr': '& Lauri...                  4   \n",
              "2  2  {'en': 'ROLES_OF_TRANSLATORS', 'fr': '& traduc...                  1   \n",
              "3  3  {'en': '2006-02-26 3.5.1', 'fr': '2006-02-26 3...                  2   \n",
              "4  4  {'en': 'The Babel & konqueror; plugin gives yo...                 14   \n",
              "\n",
              "   words_per_sent_fr  \n",
              "0                  2  \n",
              "1                  4  \n",
              "2                  2  \n",
              "3                  2  \n",
              "4                 17  "
            ],
            "text/html": [
              "\n",
              "  <div id=\"df-98198b7b-b967-44c8-b123-26e01dce6f28\" class=\"colab-df-container\">\n",
              "    <div>\n",
              "<style scoped>\n",
              "    .dataframe tbody tr th:only-of-type {\n",
              "        vertical-align: middle;\n",
              "    }\n",
              "\n",
              "    .dataframe tbody tr th {\n",
              "        vertical-align: top;\n",
              "    }\n",
              "\n",
              "    .dataframe thead th {\n",
              "        text-align: right;\n",
              "    }\n",
              "</style>\n",
              "<table border=\"1\" class=\"dataframe\">\n",
              "  <thead>\n",
              "    <tr style=\"text-align: right;\">\n",
              "      <th></th>\n",
              "      <th>id</th>\n",
              "      <th>translation</th>\n",
              "      <th>words_per_sent_en</th>\n",
              "      <th>words_per_sent_fr</th>\n",
              "    </tr>\n",
              "  </thead>\n",
              "  <tbody>\n",
              "    <tr>\n",
              "      <th>0</th>\n",
              "      <td>0</td>\n",
              "      <td>{'en': 'Lauri Watts', 'fr': 'Lauri Watts'}</td>\n",
              "      <td>2</td>\n",
              "      <td>2</td>\n",
              "    </tr>\n",
              "    <tr>\n",
              "      <th>1</th>\n",
              "      <td>1</td>\n",
              "      <td>{'en': '&amp; Lauri. Watts. mail;', 'fr': '&amp; Lauri...</td>\n",
              "      <td>4</td>\n",
              "      <td>4</td>\n",
              "    </tr>\n",
              "    <tr>\n",
              "      <th>2</th>\n",
              "      <td>2</td>\n",
              "      <td>{'en': 'ROLES_OF_TRANSLATORS', 'fr': '&amp; traduc...</td>\n",
              "      <td>1</td>\n",
              "      <td>2</td>\n",
              "    </tr>\n",
              "    <tr>\n",
              "      <th>3</th>\n",
              "      <td>3</td>\n",
              "      <td>{'en': '2006-02-26 3.5.1', 'fr': '2006-02-26 3...</td>\n",
              "      <td>2</td>\n",
              "      <td>2</td>\n",
              "    </tr>\n",
              "    <tr>\n",
              "      <th>4</th>\n",
              "      <td>4</td>\n",
              "      <td>{'en': 'The Babel &amp; konqueror; plugin gives yo...</td>\n",
              "      <td>14</td>\n",
              "      <td>17</td>\n",
              "    </tr>\n",
              "  </tbody>\n",
              "</table>\n",
              "</div>\n",
              "    <div class=\"colab-df-buttons\">\n",
              "\n",
              "  <div class=\"colab-df-container\">\n",
              "    <button class=\"colab-df-convert\" onclick=\"convertToInteractive('df-98198b7b-b967-44c8-b123-26e01dce6f28')\"\n",
              "            title=\"Convert this dataframe to an interactive table.\"\n",
              "            style=\"display:none;\">\n",
              "\n",
              "  <svg xmlns=\"http://www.w3.org/2000/svg\" height=\"24px\" viewBox=\"0 -960 960 960\">\n",
              "    <path d=\"M120-120v-720h720v720H120Zm60-500h600v-160H180v160Zm220 220h160v-160H400v160Zm0 220h160v-160H400v160ZM180-400h160v-160H180v160Zm440 0h160v-160H620v160ZM180-180h160v-160H180v160Zm440 0h160v-160H620v160Z\"/>\n",
              "  </svg>\n",
              "    </button>\n",
              "\n",
              "  <style>\n",
              "    .colab-df-container {\n",
              "      display:flex;\n",
              "      gap: 12px;\n",
              "    }\n",
              "\n",
              "    .colab-df-convert {\n",
              "      background-color: #E8F0FE;\n",
              "      border: none;\n",
              "      border-radius: 50%;\n",
              "      cursor: pointer;\n",
              "      display: none;\n",
              "      fill: #1967D2;\n",
              "      height: 32px;\n",
              "      padding: 0 0 0 0;\n",
              "      width: 32px;\n",
              "    }\n",
              "\n",
              "    .colab-df-convert:hover {\n",
              "      background-color: #E2EBFA;\n",
              "      box-shadow: 0px 1px 2px rgba(60, 64, 67, 0.3), 0px 1px 3px 1px rgba(60, 64, 67, 0.15);\n",
              "      fill: #174EA6;\n",
              "    }\n",
              "\n",
              "    .colab-df-buttons div {\n",
              "      margin-bottom: 4px;\n",
              "    }\n",
              "\n",
              "    [theme=dark] .colab-df-convert {\n",
              "      background-color: #3B4455;\n",
              "      fill: #D2E3FC;\n",
              "    }\n",
              "\n",
              "    [theme=dark] .colab-df-convert:hover {\n",
              "      background-color: #434B5C;\n",
              "      box-shadow: 0px 1px 3px 1px rgba(0, 0, 0, 0.15);\n",
              "      filter: drop-shadow(0px 1px 2px rgba(0, 0, 0, 0.3));\n",
              "      fill: #FFFFFF;\n",
              "    }\n",
              "  </style>\n",
              "\n",
              "    <script>\n",
              "      const buttonEl =\n",
              "        document.querySelector('#df-98198b7b-b967-44c8-b123-26e01dce6f28 button.colab-df-convert');\n",
              "      buttonEl.style.display =\n",
              "        google.colab.kernel.accessAllowed ? 'block' : 'none';\n",
              "\n",
              "      async function convertToInteractive(key) {\n",
              "        const element = document.querySelector('#df-98198b7b-b967-44c8-b123-26e01dce6f28');\n",
              "        const dataTable =\n",
              "          await google.colab.kernel.invokeFunction('convertToInteractive',\n",
              "                                                    [key], {});\n",
              "        if (!dataTable) return;\n",
              "\n",
              "        const docLinkHtml = 'Like what you see? Visit the ' +\n",
              "          '<a target=\"_blank\" href=https://colab.research.google.com/notebooks/data_table.ipynb>data table notebook</a>'\n",
              "          + ' to learn more about interactive tables.';\n",
              "        element.innerHTML = '';\n",
              "        dataTable['output_type'] = 'display_data';\n",
              "        await google.colab.output.renderOutput(dataTable, element);\n",
              "        const docLink = document.createElement('div');\n",
              "        docLink.innerHTML = docLinkHtml;\n",
              "        element.appendChild(docLink);\n",
              "      }\n",
              "    </script>\n",
              "  </div>\n",
              "\n",
              "\n",
              "<div id=\"df-b7c1b37c-3b5c-409d-b3f7-b51c31745327\">\n",
              "  <button class=\"colab-df-quickchart\" onclick=\"quickchart('df-b7c1b37c-3b5c-409d-b3f7-b51c31745327')\"\n",
              "            title=\"Suggest charts.\"\n",
              "            style=\"display:none;\">\n",
              "\n",
              "<svg xmlns=\"http://www.w3.org/2000/svg\" height=\"24px\"viewBox=\"0 0 24 24\"\n",
              "     width=\"24px\">\n",
              "    <g>\n",
              "        <path d=\"M19 3H5c-1.1 0-2 .9-2 2v14c0 1.1.9 2 2 2h14c1.1 0 2-.9 2-2V5c0-1.1-.9-2-2-2zM9 17H7v-7h2v7zm4 0h-2V7h2v10zm4 0h-2v-4h2v4z\"/>\n",
              "    </g>\n",
              "</svg>\n",
              "  </button>\n",
              "\n",
              "<style>\n",
              "  .colab-df-quickchart {\n",
              "      --bg-color: #E8F0FE;\n",
              "      --fill-color: #1967D2;\n",
              "      --hover-bg-color: #E2EBFA;\n",
              "      --hover-fill-color: #174EA6;\n",
              "      --disabled-fill-color: #AAA;\n",
              "      --disabled-bg-color: #DDD;\n",
              "  }\n",
              "\n",
              "  [theme=dark] .colab-df-quickchart {\n",
              "      --bg-color: #3B4455;\n",
              "      --fill-color: #D2E3FC;\n",
              "      --hover-bg-color: #434B5C;\n",
              "      --hover-fill-color: #FFFFFF;\n",
              "      --disabled-bg-color: #3B4455;\n",
              "      --disabled-fill-color: #666;\n",
              "  }\n",
              "\n",
              "  .colab-df-quickchart {\n",
              "    background-color: var(--bg-color);\n",
              "    border: none;\n",
              "    border-radius: 50%;\n",
              "    cursor: pointer;\n",
              "    display: none;\n",
              "    fill: var(--fill-color);\n",
              "    height: 32px;\n",
              "    padding: 0;\n",
              "    width: 32px;\n",
              "  }\n",
              "\n",
              "  .colab-df-quickchart:hover {\n",
              "    background-color: var(--hover-bg-color);\n",
              "    box-shadow: 0 1px 2px rgba(60, 64, 67, 0.3), 0 1px 3px 1px rgba(60, 64, 67, 0.15);\n",
              "    fill: var(--button-hover-fill-color);\n",
              "  }\n",
              "\n",
              "  .colab-df-quickchart-complete:disabled,\n",
              "  .colab-df-quickchart-complete:disabled:hover {\n",
              "    background-color: var(--disabled-bg-color);\n",
              "    fill: var(--disabled-fill-color);\n",
              "    box-shadow: none;\n",
              "  }\n",
              "\n",
              "  .colab-df-spinner {\n",
              "    border: 2px solid var(--fill-color);\n",
              "    border-color: transparent;\n",
              "    border-bottom-color: var(--fill-color);\n",
              "    animation:\n",
              "      spin 1s steps(1) infinite;\n",
              "  }\n",
              "\n",
              "  @keyframes spin {\n",
              "    0% {\n",
              "      border-color: transparent;\n",
              "      border-bottom-color: var(--fill-color);\n",
              "      border-left-color: var(--fill-color);\n",
              "    }\n",
              "    20% {\n",
              "      border-color: transparent;\n",
              "      border-left-color: var(--fill-color);\n",
              "      border-top-color: var(--fill-color);\n",
              "    }\n",
              "    30% {\n",
              "      border-color: transparent;\n",
              "      border-left-color: var(--fill-color);\n",
              "      border-top-color: var(--fill-color);\n",
              "      border-right-color: var(--fill-color);\n",
              "    }\n",
              "    40% {\n",
              "      border-color: transparent;\n",
              "      border-right-color: var(--fill-color);\n",
              "      border-top-color: var(--fill-color);\n",
              "    }\n",
              "    60% {\n",
              "      border-color: transparent;\n",
              "      border-right-color: var(--fill-color);\n",
              "    }\n",
              "    80% {\n",
              "      border-color: transparent;\n",
              "      border-right-color: var(--fill-color);\n",
              "      border-bottom-color: var(--fill-color);\n",
              "    }\n",
              "    90% {\n",
              "      border-color: transparent;\n",
              "      border-bottom-color: var(--fill-color);\n",
              "    }\n",
              "  }\n",
              "</style>\n",
              "\n",
              "  <script>\n",
              "    async function quickchart(key) {\n",
              "      const quickchartButtonEl =\n",
              "        document.querySelector('#' + key + ' button');\n",
              "      quickchartButtonEl.disabled = true;  // To prevent multiple clicks.\n",
              "      quickchartButtonEl.classList.add('colab-df-spinner');\n",
              "      try {\n",
              "        const charts = await google.colab.kernel.invokeFunction(\n",
              "            'suggestCharts', [key], {});\n",
              "      } catch (error) {\n",
              "        console.error('Error during call to suggestCharts:', error);\n",
              "      }\n",
              "      quickchartButtonEl.classList.remove('colab-df-spinner');\n",
              "      quickchartButtonEl.classList.add('colab-df-quickchart-complete');\n",
              "    }\n",
              "    (() => {\n",
              "      let quickchartButtonEl =\n",
              "        document.querySelector('#df-b7c1b37c-3b5c-409d-b3f7-b51c31745327 button');\n",
              "      quickchartButtonEl.style.display =\n",
              "        google.colab.kernel.accessAllowed ? 'block' : 'none';\n",
              "    })();\n",
              "  </script>\n",
              "</div>\n",
              "    </div>\n",
              "  </div>\n"
            ]
          },
          "metadata": {},
          "execution_count": 12
        }
      ],
      "source": [
        "df_train.head()\n"
      ]
    },
    {
      "cell_type": "markdown",
      "id": "YhePLup4AuDo",
      "metadata": {
        "id": "YhePLup4AuDo"
      },
      "source": [
        "#### <font color = 'pickle'> **Plot the distribution of review length** </font>"
      ]
    },
    {
      "cell_type": "code",
      "execution_count": null,
      "id": "6m_e5NU7pOr_",
      "metadata": {
        "id": "6m_e5NU7pOr_"
      },
      "outputs": [],
      "source": [
        "import matplotlib.pyplot as plt\n",
        "\n",
        "\n",
        "def plot_two_hists(series1, series2, label1, label2):\n",
        "    # Create a figure with two subplots\n",
        "    fig, axs = plt.subplots(1, 2, figsize=(10, 5))\n",
        "\n",
        "    # Plot the first histogram on the left subplot\n",
        "    axs[0].hist(series1, bins=50, edgecolor=\"black\")\n",
        "    axs[0].set_xlabel(\"Number of Words\")\n",
        "    axs[0].set_ylabel(\"Frequency\")\n",
        "    axs[0].set_title(f\"Distribution of Words per {label1}\")\n",
        "\n",
        "    # Plot the second histogram on the right subplot\n",
        "    axs[1].hist(series2, bins=50, edgecolor=\"black\")\n",
        "    axs[1].set_xlabel(\"Number of Words\")\n",
        "    axs[1].set_ylabel(\"Frequency\")\n",
        "    axs[1].set_title(f\"Distribution of Words per {label2}\")\n",
        "\n",
        "    # Adjust the spacing between subplots\n",
        "    plt.subplots_adjust(wspace=0.3)\n",
        "\n",
        "    # Display the plot\n",
        "    plt.show()\n"
      ]
    },
    {
      "cell_type": "code",
      "execution_count": null,
      "id": "0968a1ef",
      "metadata": {
        "colab": {
          "base_uri": "https://localhost:8080/",
          "height": 487
        },
        "id": "0968a1ef",
        "outputId": "3a1b9793-9625-4467-d1a1-d445d6959f66"
      },
      "outputs": [
        {
          "output_type": "display_data",
          "data": {
            "text/plain": [
              "<Figure size 1000x500 with 2 Axes>"
            ],
            "image/png": "[encoded data removed]"
          },
          "metadata": {}
        }
      ],
      "source": [
        "plot_two_hists(\n",
        "    df_train[\"words_per_sent_en\"], df_train[\"words_per_sent_fr\"], \"sentence for english\", \"sentence for french\"\n",
        ")\n"
      ]
    },
    {
      "cell_type": "code",
      "execution_count": null,
      "id": "7d60bfd4",
      "metadata": {
        "colab": {
          "base_uri": "https://localhost:8080/"
        },
        "id": "7d60bfd4",
        "outputId": "793d859d-4569-4614-f0e4-c2b2e969b521"
      },
      "outputs": [
        {
          "output_type": "execute_result",
          "data": {
            "text/plain": [
              "count    210173.000000\n",
              "mean          7.573218\n",
              "std          14.894992\n",
              "min           1.000000\n",
              "25%           2.000000\n",
              "50%           3.000000\n",
              "75%           6.000000\n",
              "max         759.000000\n",
              "Name: words_per_sent_en, dtype: float64"
            ]
          },
          "metadata": {},
          "execution_count": 15
        }
      ],
      "source": [
        "df_train[\"words_per_sent_en\"].describe()"
      ]
    },
    {
      "cell_type": "code",
      "execution_count": null,
      "id": "yTYJqPgEpPQV",
      "metadata": {
        "colab": {
          "base_uri": "https://localhost:8080/"
        },
        "id": "yTYJqPgEpPQV",
        "outputId": "1fd01c31-d79f-4eab-fd58-364c26efd681"
      },
      "outputs": [
        {
          "output_type": "stream",
          "name": "stdout",
          "text": [
            "Number of sentences with more than 400 words: 5\n"
          ]
        }
      ],
      "source": [
        "# Let us check how many sentences ahs more than 500 words\n",
        "\n",
        "count = (df_train[\"words_per_sent_en\"] > 500).sum()\n",
        "print(f\"Number of sentences with more than 400 words: {count}\")\n"
      ]
    },
    {
      "cell_type": "code",
      "execution_count": null,
      "id": "9e9eb47b",
      "metadata": {
        "id": "9e9eb47b",
        "outputId": "f35bd900-23ff-4e5c-b276-b22d426ea8b3",
        "colab": {
          "base_uri": "https://localhost:8080/"
        }
      },
      "outputs": [
        {
          "output_type": "stream",
          "name": "stdout",
          "text": [
            "Number of sentences with less than 2 words: 48165\n"
          ]
        }
      ],
      "source": [
        "# Let us check how many sentences has less than 2 words\n",
        "\n",
        "count = (df_train[\"words_per_sent_en\"] <2).sum()\n",
        "print(f\"Number of sentences with less than 2 words: {count}\")"
      ]
    },
    {
      "cell_type": "code",
      "execution_count": null,
      "id": "6dcc57e1",
      "metadata": {
        "id": "6dcc57e1",
        "outputId": "f9a18e69-db0f-452d-bb47-eef68a303236",
        "colab": {
          "base_uri": "https://localhost:8080/"
        }
      },
      "outputs": [
        {
          "output_type": "stream",
          "name": "stdout",
          "text": [
            "Number of sentences with less than 2 words: 0\n"
          ]
        }
      ],
      "source": [
        "# Let us check how many sentences has less than 1 word - empty strings\n",
        "\n",
        "count = (df_train[\"words_per_sent_en\"] <1).sum()\n",
        "print(f\"Number of sentences with less than 2 words: {count}\")"
      ]
    },
    {
      "cell_type": "code",
      "execution_count": null,
      "id": "34704d01",
      "metadata": {
        "id": "34704d01",
        "outputId": "1f4da672-9f80-4823-a7bc-7f08042212db",
        "colab": {
          "base_uri": "https://localhost:8080/",
          "height": 424
        }
      },
      "outputs": [
        {
          "output_type": "execute_result",
          "data": {
            "text/plain": [
              "            id                                     translation  \\\n",
              "5            5                      {'en': 'KDE', 'fr': 'KDE'}   \n",
              "6            6          {'en': 'kdeaddons', 'fr': 'kdeaddons'}   \n",
              "7            7          {'en': 'konqueror', 'fr': 'konqueror'}   \n",
              "9            9          {'en': 'babelfish', 'fr': 'babelfish'}   \n",
              "10          10         {'en': 'translate', 'fr': 'traduction'}   \n",
              "...        ...                                             ...   \n",
              "210137  210137           {'en': 'Games', 'fr': 'JeuxPhonon::'}   \n",
              "210138  210138  {'en': 'Accessibility', 'fr': 'Accessibilité'}   \n",
              "210156  210156                    {'en': 'aRts', 'fr': 'aRts'}   \n",
              "210161  210161                {'en': 'Volume', 'fr': 'Volume'}   \n",
              "210172  210172        {'en': 'PulseAudio', 'fr': 'PulseAudio'}   \n",
              "\n",
              "        words_per_sent_en  words_per_sent_fr  \n",
              "5                       1                  1  \n",
              "6                       1                  1  \n",
              "7                       1                  1  \n",
              "9                       1                  1  \n",
              "10                      1                  1  \n",
              "...                   ...                ...  \n",
              "210137                  1                  1  \n",
              "210138                  1                  1  \n",
              "210156                  1                  1  \n",
              "210161                  1                  1  \n",
              "210172                  1                  1  \n",
              "\n",
              "[31404 rows x 4 columns]"
            ],
            "text/html": [
              "\n",
              "  <div id=\"df-89166d9b-9dcf-446b-a9eb-bf46cf2eb513\" class=\"colab-df-container\">\n",
              "    <div>\n",
              "<style scoped>\n",
              "    .dataframe tbody tr th:only-of-type {\n",
              "        vertical-align: middle;\n",
              "    }\n",
              "\n",
              "    .dataframe tbody tr th {\n",
              "        vertical-align: top;\n",
              "    }\n",
              "\n",
              "    .dataframe thead th {\n",
              "        text-align: right;\n",
              "    }\n",
              "</style>\n",
              "<table border=\"1\" class=\"dataframe\">\n",
              "  <thead>\n",
              "    <tr style=\"text-align: right;\">\n",
              "      <th></th>\n",
              "      <th>id</th>\n",
              "      <th>translation</th>\n",
              "      <th>words_per_sent_en</th>\n",
              "      <th>words_per_sent_fr</th>\n",
              "    </tr>\n",
              "  </thead>\n",
              "  <tbody>\n",
              "    <tr>\n",
              "      <th>5</th>\n",
              "      <td>5</td>\n",
              "      <td>{'en': 'KDE', 'fr': 'KDE'}</td>\n",
              "      <td>1</td>\n",
              "      <td>1</td>\n",
              "    </tr>\n",
              "    <tr>\n",
              "      <th>6</th>\n",
              "      <td>6</td>\n",
              "      <td>{'en': 'kdeaddons', 'fr': 'kdeaddons'}</td>\n",
              "      <td>1</td>\n",
              "      <td>1</td>\n",
              "    </tr>\n",
              "    <tr>\n",
              "      <th>7</th>\n",
              "      <td>7</td>\n",
              "      <td>{'en': 'konqueror', 'fr': 'konqueror'}</td>\n",
              "      <td>1</td>\n",
              "      <td>1</td>\n",
              "    </tr>\n",
              "    <tr>\n",
              "      <th>9</th>\n",
              "      <td>9</td>\n",
              "      <td>{'en': 'babelfish', 'fr': 'babelfish'}</td>\n",
              "      <td>1</td>\n",
              "      <td>1</td>\n",
              "    </tr>\n",
              "    <tr>\n",
              "      <th>10</th>\n",
              "      <td>10</td>\n",
              "      <td>{'en': 'translate', 'fr': 'traduction'}</td>\n",
              "      <td>1</td>\n",
              "      <td>1</td>\n",
              "    </tr>\n",
              "    <tr>\n",
              "      <th>...</th>\n",
              "      <td>...</td>\n",
              "      <td>...</td>\n",
              "      <td>...</td>\n",
              "      <td>...</td>\n",
              "    </tr>\n",
              "    <tr>\n",
              "      <th>210137</th>\n",
              "      <td>210137</td>\n",
              "      <td>{'en': 'Games', 'fr': 'JeuxPhonon::'}</td>\n",
              "      <td>1</td>\n",
              "      <td>1</td>\n",
              "    </tr>\n",
              "    <tr>\n",
              "      <th>210138</th>\n",
              "      <td>210138</td>\n",
              "      <td>{'en': 'Accessibility', 'fr': 'Accessibilité'}</td>\n",
              "      <td>1</td>\n",
              "      <td>1</td>\n",
              "    </tr>\n",
              "    <tr>\n",
              "      <th>210156</th>\n",
              "      <td>210156</td>\n",
              "      <td>{'en': 'aRts', 'fr': 'aRts'}</td>\n",
              "      <td>1</td>\n",
              "      <td>1</td>\n",
              "    </tr>\n",
              "    <tr>\n",
              "      <th>210161</th>\n",
              "      <td>210161</td>\n",
              "      <td>{'en': 'Volume', 'fr': 'Volume'}</td>\n",
              "      <td>1</td>\n",
              "      <td>1</td>\n",
              "    </tr>\n",
              "    <tr>\n",
              "      <th>210172</th>\n",
              "      <td>210172</td>\n",
              "      <td>{'en': 'PulseAudio', 'fr': 'PulseAudio'}</td>\n",
              "      <td>1</td>\n",
              "      <td>1</td>\n",
              "    </tr>\n",
              "  </tbody>\n",
              "</table>\n",
              "<p>31404 rows × 4 columns</p>\n",
              "</div>\n",
              "    <div class=\"colab-df-buttons\">\n",
              "\n",
              "  <div class=\"colab-df-container\">\n",
              "    <button class=\"colab-df-convert\" onclick=\"convertToInteractive('df-89166d9b-9dcf-446b-a9eb-bf46cf2eb513')\"\n",
              "            title=\"Convert this dataframe to an interactive table.\"\n",
              "            style=\"display:none;\">\n",
              "\n",
              "  <svg xmlns=\"http://www.w3.org/2000/svg\" height=\"24px\" viewBox=\"0 -960 960 960\">\n",
              "    <path d=\"M120-120v-720h720v720H120Zm60-500h600v-160H180v160Zm220 220h160v-160H400v160Zm0 220h160v-160H400v160ZM180-400h160v-160H180v160Zm440 0h160v-160H620v160ZM180-180h160v-160H180v160Zm440 0h160v-160H620v160Z\"/>\n",
              "  </svg>\n",
              "    </button>\n",
              "\n",
              "  <style>\n",
              "    .colab-df-container {\n",
              "      display:flex;\n",
              "      gap: 12px;\n",
              "    }\n",
              "\n",
              "    .colab-df-convert {\n",
              "      background-color: #E8F0FE;\n",
              "      border: none;\n",
              "      border-radius: 50%;\n",
              "      cursor: pointer;\n",
              "      display: none;\n",
              "      fill: #1967D2;\n",
              "      height: 32px;\n",
              "      padding: 0 0 0 0;\n",
              "      width: 32px;\n",
              "    }\n",
              "\n",
              "    .colab-df-convert:hover {\n",
              "      background-color: #E2EBFA;\n",
              "      box-shadow: 0px 1px 2px rgba(60, 64, 67, 0.3), 0px 1px 3px 1px rgba(60, 64, 67, 0.15);\n",
              "      fill: #174EA6;\n",
              "    }\n",
              "\n",
              "    .colab-df-buttons div {\n",
              "      margin-bottom: 4px;\n",
              "    }\n",
              "\n",
              "    [theme=dark] .colab-df-convert {\n",
              "      background-color: #3B4455;\n",
              "      fill: #D2E3FC;\n",
              "    }\n",
              "\n",
              "    [theme=dark] .colab-df-convert:hover {\n",
              "      background-color: #434B5C;\n",
              "      box-shadow: 0px 1px 3px 1px rgba(0, 0, 0, 0.15);\n",
              "      filter: drop-shadow(0px 1px 2px rgba(0, 0, 0, 0.3));\n",
              "      fill: #FFFFFF;\n",
              "    }\n",
              "  </style>\n",
              "\n",
              "    <script>\n",
              "      const buttonEl =\n",
              "        document.querySelector('#df-89166d9b-9dcf-446b-a9eb-bf46cf2eb513 button.colab-df-convert');\n",
              "      buttonEl.style.display =\n",
              "        google.colab.kernel.accessAllowed ? 'block' : 'none';\n",
              "\n",
              "      async function convertToInteractive(key) {\n",
              "        const element = document.querySelector('#df-89166d9b-9dcf-446b-a9eb-bf46cf2eb513');\n",
              "        const dataTable =\n",
              "          await google.colab.kernel.invokeFunction('convertToInteractive',\n",
              "                                                    [key], {});\n",
              "        if (!dataTable) return;\n",
              "\n",
              "        const docLinkHtml = 'Like what you see? Visit the ' +\n",
              "          '<a target=\"_blank\" href=https://colab.research.google.com/notebooks/data_table.ipynb>data table notebook</a>'\n",
              "          + ' to learn more about interactive tables.';\n",
              "        element.innerHTML = '';\n",
              "        dataTable['output_type'] = 'display_data';\n",
              "        await google.colab.output.renderOutput(dataTable, element);\n",
              "        const docLink = document.createElement('div');\n",
              "        docLink.innerHTML = docLinkHtml;\n",
              "        element.appendChild(docLink);\n",
              "      }\n",
              "    </script>\n",
              "  </div>\n",
              "\n",
              "\n",
              "<div id=\"df-3e86da04-01d7-496a-b70f-1c17793d79fc\">\n",
              "  <button class=\"colab-df-quickchart\" onclick=\"quickchart('df-3e86da04-01d7-496a-b70f-1c17793d79fc')\"\n",
              "            title=\"Suggest charts.\"\n",
              "            style=\"display:none;\">\n",
              "\n",
              "<svg xmlns=\"http://www.w3.org/2000/svg\" height=\"24px\"viewBox=\"0 0 24 24\"\n",
              "     width=\"24px\">\n",
              "    <g>\n",
              "        <path d=\"M19 3H5c-1.1 0-2 .9-2 2v14c0 1.1.9 2 2 2h14c1.1 0 2-.9 2-2V5c0-1.1-.9-2-2-2zM9 17H7v-7h2v7zm4 0h-2V7h2v10zm4 0h-2v-4h2v4z\"/>\n",
              "    </g>\n",
              "</svg>\n",
              "  </button>\n",
              "\n",
              "<style>\n",
              "  .colab-df-quickchart {\n",
              "      --bg-color: #E8F0FE;\n",
              "      --fill-color: #1967D2;\n",
              "      --hover-bg-color: #E2EBFA;\n",
              "      --hover-fill-color: #174EA6;\n",
              "      --disabled-fill-color: #AAA;\n",
              "      --disabled-bg-color: #DDD;\n",
              "  }\n",
              "\n",
              "  [theme=dark] .colab-df-quickchart {\n",
              "      --bg-color: #3B4455;\n",
              "      --fill-color: #D2E3FC;\n",
              "      --hover-bg-color: #434B5C;\n",
              "      --hover-fill-color: #FFFFFF;\n",
              "      --disabled-bg-color: #3B4455;\n",
              "      --disabled-fill-color: #666;\n",
              "  }\n",
              "\n",
              "  .colab-df-quickchart {\n",
              "    background-color: var(--bg-color);\n",
              "    border: none;\n",
              "    border-radius: 50%;\n",
              "    cursor: pointer;\n",
              "    display: none;\n",
              "    fill: var(--fill-color);\n",
              "    height: 32px;\n",
              "    padding: 0;\n",
              "    width: 32px;\n",
              "  }\n",
              "\n",
              "  .colab-df-quickchart:hover {\n",
              "    background-color: var(--hover-bg-color);\n",
              "    box-shadow: 0 1px 2px rgba(60, 64, 67, 0.3), 0 1px 3px 1px rgba(60, 64, 67, 0.15);\n",
              "    fill: var(--button-hover-fill-color);\n",
              "  }\n",
              "\n",
              "  .colab-df-quickchart-complete:disabled,\n",
              "  .colab-df-quickchart-complete:disabled:hover {\n",
              "    background-color: var(--disabled-bg-color);\n",
              "    fill: var(--disabled-fill-color);\n",
              "    box-shadow: none;\n",
              "  }\n",
              "\n",
              "  .colab-df-spinner {\n",
              "    border: 2px solid var(--fill-color);\n",
              "    border-color: transparent;\n",
              "    border-bottom-color: var(--fill-color);\n",
              "    animation:\n",
              "      spin 1s steps(1) infinite;\n",
              "  }\n",
              "\n",
              "  @keyframes spin {\n",
              "    0% {\n",
              "      border-color: transparent;\n",
              "      border-bottom-color: var(--fill-color);\n",
              "      border-left-color: var(--fill-color);\n",
              "    }\n",
              "    20% {\n",
              "      border-color: transparent;\n",
              "      border-left-color: var(--fill-color);\n",
              "      border-top-color: var(--fill-color);\n",
              "    }\n",
              "    30% {\n",
              "      border-color: transparent;\n",
              "      border-left-color: var(--fill-color);\n",
              "      border-top-color: var(--fill-color);\n",
              "      border-right-color: var(--fill-color);\n",
              "    }\n",
              "    40% {\n",
              "      border-color: transparent;\n",
              "      border-right-color: var(--fill-color);\n",
              "      border-top-color: var(--fill-color);\n",
              "    }\n",
              "    60% {\n",
              "      border-color: transparent;\n",
              "      border-right-color: var(--fill-color);\n",
              "    }\n",
              "    80% {\n",
              "      border-color: transparent;\n",
              "      border-right-color: var(--fill-color);\n",
              "      border-bottom-color: var(--fill-color);\n",
              "    }\n",
              "    90% {\n",
              "      border-color: transparent;\n",
              "      border-bottom-color: var(--fill-color);\n",
              "    }\n",
              "  }\n",
              "</style>\n",
              "\n",
              "  <script>\n",
              "    async function quickchart(key) {\n",
              "      const quickchartButtonEl =\n",
              "        document.querySelector('#' + key + ' button');\n",
              "      quickchartButtonEl.disabled = true;  // To prevent multiple clicks.\n",
              "      quickchartButtonEl.classList.add('colab-df-spinner');\n",
              "      try {\n",
              "        const charts = await google.colab.kernel.invokeFunction(\n",
              "            'suggestCharts', [key], {});\n",
              "      } catch (error) {\n",
              "        console.error('Error during call to suggestCharts:', error);\n",
              "      }\n",
              "      quickchartButtonEl.classList.remove('colab-df-spinner');\n",
              "      quickchartButtonEl.classList.add('colab-df-quickchart-complete');\n",
              "    }\n",
              "    (() => {\n",
              "      let quickchartButtonEl =\n",
              "        document.querySelector('#df-3e86da04-01d7-496a-b70f-1c17793d79fc button');\n",
              "      quickchartButtonEl.style.display =\n",
              "        google.colab.kernel.accessAllowed ? 'block' : 'none';\n",
              "    })();\n",
              "  </script>\n",
              "</div>\n",
              "    </div>\n",
              "  </div>\n"
            ]
          },
          "metadata": {},
          "execution_count": 19
        }
      ],
      "source": [
        "df_train[df_train[\"words_per_sent_fr\"]<2]"
      ]
    },
    {
      "cell_type": "markdown",
      "id": "QuV3BOnD1GjF",
      "metadata": {
        "id": "QuV3BOnD1GjF"
      },
      "source": [
        "### <font color = 'pickle'> **Reset dataset format** </font>\n"
      ]
    },
    {
      "cell_type": "code",
      "execution_count": null,
      "id": "S2XAL-2PyI-3",
      "metadata": {
        "id": "S2XAL-2PyI-3"
      },
      "outputs": [],
      "source": [
        "kde_dataset.reset_format()\n"
      ]
    },
    {
      "cell_type": "code",
      "execution_count": null,
      "id": "uFO6-IFVyOtE",
      "metadata": {
        "colab": {
          "base_uri": "https://localhost:8080/"
        },
        "id": "uFO6-IFVyOtE",
        "outputId": "941c4077-54f8-4682-e1ff-aa879543f2ed"
      },
      "outputs": [
        {
          "output_type": "execute_result",
          "data": {
            "text/plain": [
              "DatasetDict({\n",
              "    train: Dataset({\n",
              "        features: ['id', 'translation'],\n",
              "        num_rows: 210173\n",
              "    })\n",
              "})"
            ]
          },
          "metadata": {},
          "execution_count": 21
        }
      ],
      "source": [
        "kde_dataset\n"
      ]
    },
    {
      "cell_type": "markdown",
      "id": "olD42nSSAwrM",
      "metadata": {
        "id": "olD42nSSAwrM"
      },
      "source": [
        "# <font color = 'pickle'> **Data Pre-processing**</font>"
      ]
    },
    {
      "cell_type": "markdown",
      "id": "0aae17c7",
      "metadata": {
        "id": "0aae17c7"
      },
      "source": [
        "## <font color = 'indianred'> **Create train, valid, test splits** </font>"
      ]
    },
    {
      "cell_type": "code",
      "execution_count": null,
      "id": "cad2c529",
      "metadata": {
        "id": "cad2c529"
      },
      "outputs": [],
      "source": [
        "test_val_splits = kde_dataset['train'].train_test_split(test_size=0.4, seed=42)\n",
        "train_split= test_val_splits['train']\n",
        "test_val_splits = test_val_splits['test'].train_test_split(test_size=0.5, seed=42,)\n",
        "val_split = test_val_splits['train']\n",
        "test_split = test_val_splits['test']"
      ]
    },
    {
      "cell_type": "markdown",
      "id": "1c218da1",
      "metadata": {
        "id": "1c218da1"
      },
      "source": [
        "## <font color = 'indianred'> **Create small subset for experimentation** </font>\n"
      ]
    },
    {
      "cell_type": "code",
      "execution_count": null,
      "id": "8fe7f33f",
      "metadata": {
        "id": "8fe7f33f"
      },
      "outputs": [],
      "source": [
        "train_split_small = train_split.shuffle(seed=42).select(range(1000))\n",
        "val_split_small = val_split.shuffle(seed=42).select(range(500))\n",
        "test_split_small = test_split.shuffle(seed=42).select(range(500))"
      ]
    },
    {
      "cell_type": "code",
      "execution_count": null,
      "id": "6f65f3c9",
      "metadata": {
        "id": "6f65f3c9"
      },
      "outputs": [],
      "source": [
        "# combine train, val splits into one dataset\n",
        "train_val_subset = DatasetDict({'train': train_split_small, 'val': val_split_small})\n",
        "\n",
        "# create test dataset from test split\n",
        "test_subset= DatasetDict({'test': test_split_small})"
      ]
    },
    {
      "cell_type": "code",
      "execution_count": null,
      "id": "d227581a",
      "metadata": {
        "id": "d227581a",
        "outputId": "f286f409-24bb-4a52-91b7-ae9ffa5c5ce3",
        "colab": {
          "base_uri": "https://localhost:8080/"
        }
      },
      "outputs": [
        {
          "output_type": "execute_result",
          "data": {
            "text/plain": [
              "DatasetDict({\n",
              "    train: Dataset({\n",
              "        features: ['id', 'translation'],\n",
              "        num_rows: 1000\n",
              "    })\n",
              "    val: Dataset({\n",
              "        features: ['id', 'translation'],\n",
              "        num_rows: 500\n",
              "    })\n",
              "})"
            ]
          },
          "metadata": {},
          "execution_count": 25
        }
      ],
      "source": [
        "train_val_subset"
      ]
    },
    {
      "cell_type": "code",
      "execution_count": null,
      "id": "bb339cb0",
      "metadata": {
        "id": "bb339cb0",
        "outputId": "7784b9bf-7c38-4d9b-e03c-2df562b6ba10",
        "colab": {
          "base_uri": "https://localhost:8080/"
        }
      },
      "outputs": [
        {
          "output_type": "execute_result",
          "data": {
            "text/plain": [
              "DatasetDict({\n",
              "    test: Dataset({\n",
              "        features: ['id', 'translation'],\n",
              "        num_rows: 500\n",
              "    })\n",
              "})"
            ]
          },
          "metadata": {},
          "execution_count": 26
        }
      ],
      "source": [
        "test_subset"
      ]
    },
    {
      "cell_type": "code",
      "execution_count": null,
      "id": "6kr8t1JZRgbY",
      "metadata": {
        "colab": {
          "base_uri": "https://localhost:8080/"
        },
        "id": "6kr8t1JZRgbY",
        "outputId": "0c30532f-9b73-4bf6-b609-e7767f500729"
      },
      "outputs": [
        {
          "output_type": "execute_result",
          "data": {
            "text/plain": [
              "{'en': 'Upper Window: View on Printers, both Real and Virtual',\n",
              " 'fr': \"Fenêtre supérieure & #160;: Vue de l'ensemble des imprimantes, réelles et virtuelles\"}"
            ]
          },
          "metadata": {},
          "execution_count": 27
        }
      ],
      "source": [
        "train_val_subset[\"train\"][\"translation\"][1]\n"
      ]
    },
    {
      "cell_type": "markdown",
      "id": "150ee1e9-7371-40b1-a526-30ec37cf0654",
      "metadata": {
        "id": "150ee1e9-7371-40b1-a526-30ec37cf0654"
      },
      "source": [
        "## <font color = 'pickle'> **Tokenization**</font>"
      ]
    },
    {
      "cell_type": "markdown",
      "id": "c7b02690-50f7-49bf-aab4-85dbbb21d182",
      "metadata": {
        "execution": {
          "iopub.execute_input": "2022-12-20T11:21:48.647438Z",
          "iopub.status.busy": "2022-12-20T11:21:48.646659Z",
          "iopub.status.idle": "2022-12-20T11:21:48.690232Z",
          "shell.execute_reply": "2022-12-20T11:21:48.689729Z",
          "shell.execute_reply.started": "2022-12-20T11:21:48.647414Z"
        },
        "id": "c7b02690-50f7-49bf-aab4-85dbbb21d182",
        "tags": []
      },
      "source": [
        "###  <font color = 'pickle'> **Load pre-trained Tokenizer** </font>"
      ]
    },
    {
      "cell_type": "code",
      "source": [
        "#!pip install sentencepiece"
      ],
      "metadata": {
        "id": "M9T73hjCn160"
      },
      "id": "M9T73hjCn160",
      "execution_count": null,
      "outputs": []
    },
    {
      "cell_type": "code",
      "execution_count": null,
      "id": "hzUiqZR6hI4o",
      "metadata": {
        "execution": {
          "iopub.execute_input": "2022-12-23T23:14:07.903271Z",
          "iopub.status.busy": "2022-12-23T23:14:07.902958Z",
          "iopub.status.idle": "2022-12-23T23:14:07.955695Z",
          "shell.execute_reply": "2022-12-23T23:14:07.955154Z",
          "shell.execute_reply.started": "2022-12-23T23:14:07.903251Z"
        },
        "id": "hzUiqZR6hI4o",
        "tags": [],
        "colab": {
          "base_uri": "https://localhost:8080/",
          "height": 148,
          "referenced_widgets": [
            "0a81b2369ea249df93109a4dd5ed3d78",
            "d57520d874a54246b1a928ada944f153",
            "50f523964e4d4de6a98576c4671463bf",
            "e0da406c70704bf6b4c9acc8e3c68d98",
            "3d3a7e3d3a4240f68179d3f592079003",
            "300a9d71534943008105ebae8e91bc0e",
            "b79b9604603d4f54b75fca85d3b87bd8",
            "4923c1b4448f4722baa909e06a96728f",
            "86673a7cde5946f39794642a5cd7281b",
            "54b8d581796b4a7fb0482b0661438def",
            "f33519154b3e44c58ac29e9e0e957e49",
            "1ae3baf91ca14c4b88aeae2cb0fc55a4",
            "0bda761477934877a767087736b2a579",
            "2a0b89bcea2c47be9b4362310f860d4d",
            "8e9fbc4717d44628b149a0938f9aa2f9",
            "0b95698c45a743439783d871c8e14ee9",
            "b21fcc6de0864b6084e729fa657e468c",
            "8c2526ac428a48a19796eb3cec7a334c",
            "87d4fad7756c4b3cac3e83542b3a56c9",
            "3fd33d954e484116a17bffc3469e2828",
            "7701101c374b474ab98d8ab15e4b6e16",
            "68e65df309294466b5bc74c884997905",
            "07f929d086594c8e9eb3395a1b1c4526",
            "adcbf1df05f743fea0c6751fd61c3844",
            "def8d87a52214c22931a5b1cba24f304",
            "bfaecfa896db4efca267df403f2854e6",
            "884a45380542445c90782aeffb2e2c8d",
            "c5bc0862960346f59d6ff25e77ab6cf4",
            "ce387e5541904da0a3c00db72e441a83",
            "51563df688d44688868b7c363f1749d9",
            "fa03c0f2602d47e8adfed90a1417aed3",
            "5e1ac0a731cb4e28b4183200e4cf2115",
            "0bb1c737450c4476bfab8aaa65d2fb5d"
          ]
        },
        "outputId": "2f150b2a-0545-4b50-ae1b-826c35a4700b"
      },
      "outputs": [
        {
          "output_type": "display_data",
          "data": {
            "text/plain": [
              "Downloading (…)olve/main/source.spm:   0%|          | 0.00/778k [00:00<?, ?B/s]"
            ],
            "application/vnd.jupyter.widget-view+json": {
              "version_major": 2,
              "version_minor": 0,
              "model_id": "0a81b2369ea249df93109a4dd5ed3d78"
            }
          },
          "metadata": {}
        },
        {
          "output_type": "display_data",
          "data": {
            "text/plain": [
              "Downloading (…)olve/main/target.spm:   0%|          | 0.00/802k [00:00<?, ?B/s]"
            ],
            "application/vnd.jupyter.widget-view+json": {
              "version_major": 2,
              "version_minor": 0,
              "model_id": "1ae3baf91ca14c4b88aeae2cb0fc55a4"
            }
          },
          "metadata": {}
        },
        {
          "output_type": "display_data",
          "data": {
            "text/plain": [
              "Downloading (…)olve/main/vocab.json:   0%|          | 0.00/1.34M [00:00<?, ?B/s]"
            ],
            "application/vnd.jupyter.widget-view+json": {
              "version_major": 2,
              "version_minor": 0,
              "model_id": "07f929d086594c8e9eb3395a1b1c4526"
            }
          },
          "metadata": {}
        },
        {
          "output_type": "stream",
          "name": "stderr",
          "text": [
            "/usr/local/lib/python3.10/dist-packages/transformers/models/marian/tokenization_marian.py:197: UserWarning: Recommended: pip install sacremoses.\n",
            "  warnings.warn(\"Recommended: pip install sacremoses.\")\n"
          ]
        }
      ],
      "source": [
        "checkpoint = 'Helsinki-NLP/opus-mt-en-fr'\n",
        "tokenizer = AutoTokenizer.from_pretrained(checkpoint)\n"
      ]
    },
    {
      "cell_type": "code",
      "execution_count": null,
      "id": "d5a8845f",
      "metadata": {
        "id": "d5a8845f"
      },
      "outputs": [],
      "source": [
        "# tokenizer??"
      ]
    },
    {
      "cell_type": "markdown",
      "id": "ed2a953f",
      "metadata": {
        "id": "ed2a953f"
      },
      "source": [
        "### <font color = 'pickle'> **Understanding tokenizer**</font>"
      ]
    },
    {
      "cell_type": "code",
      "execution_count": null,
      "id": "xlLO16Hw4RT8",
      "metadata": {
        "id": "xlLO16Hw4RT8"
      },
      "outputs": [],
      "source": [
        "text = [\n",
        "    \"Upper Window: View on Printers, both Real and Virtual\",\n",
        "    \"Fenêtre supérieure & #160;: Vue de l'ensemble des imprimantes, réelles et virtuelles\",\n",
        "]\n"
      ]
    },
    {
      "cell_type": "code",
      "execution_count": null,
      "id": "Zo5rGIzl4U0o",
      "metadata": {
        "colab": {
          "base_uri": "https://localhost:8080/"
        },
        "id": "Zo5rGIzl4U0o",
        "outputId": "9dff5261-353f-4ab3-fe23-daa44cb29f27"
      },
      "outputs": [
        {
          "output_type": "stream",
          "name": "stdout",
          "text": [
            "Pretrained tokenizer vocab size 59514\n"
          ]
        }
      ],
      "source": [
        "# get the vocab size\n",
        "print(f\"Pretrained tokenizer vocab size {tokenizer.vocab_size}\")\n"
      ]
    },
    {
      "cell_type": "code",
      "execution_count": null,
      "id": "DzYDSjI24Xrj",
      "metadata": {
        "id": "DzYDSjI24Xrj"
      },
      "outputs": [],
      "source": [
        "encoded_text = tokenizer(\n",
        "    text, padding=True, truncation=True, return_tensors=\"pt\")\n"
      ]
    },
    {
      "cell_type": "code",
      "execution_count": null,
      "id": "ahtRu3hf4a4D",
      "metadata": {
        "colab": {
          "base_uri": "https://localhost:8080/"
        },
        "id": "ahtRu3hf4a4D",
        "outputId": "78290d6c-2a97-4e4c-de46-1cd98411bbb5"
      },
      "outputs": [
        {
          "output_type": "execute_result",
          "data": {
            "text/plain": [
              "{'input_ids': tensor([[21364, 38007,    37,  3689,    30, 36712,     9,     2,   533,  7770,\n",
              "            10, 21821,     0, 59513, 59513, 59513, 59513, 59513, 59513, 59513,\n",
              "         59513, 59513, 59513, 59513, 59513, 59513, 59513, 59513, 59513, 59513,\n",
              "         59513, 59513],\n",
              "        [37412,   501,    62,   746, 32076,  1935,   402, 30362,  2069,    50,\n",
              "            37,   461,  3773,     5,    14,     6,  8409,   122,  4995,    13,\n",
              "          3497, 11585,  3172,     9,     2,   906,  1295,    11, 13747,   477,\n",
              "           114,     0]]), 'attention_mask': tensor([[1, 1, 1, 1, 1, 1, 1, 1, 1, 1, 1, 1, 1, 0, 0, 0, 0, 0, 0, 0, 0, 0, 0, 0,\n",
              "         0, 0, 0, 0, 0, 0, 0, 0],\n",
              "        [1, 1, 1, 1, 1, 1, 1, 1, 1, 1, 1, 1, 1, 1, 1, 1, 1, 1, 1, 1, 1, 1, 1, 1,\n",
              "         1, 1, 1, 1, 1, 1, 1, 1]])}"
            ]
          },
          "metadata": {},
          "execution_count": 34
        }
      ],
      "source": [
        "encoded_text\n"
      ]
    },
    {
      "cell_type": "code",
      "execution_count": null,
      "id": "j5PPyJuM4ezx",
      "metadata": {
        "colab": {
          "base_uri": "https://localhost:8080/"
        },
        "id": "j5PPyJuM4ezx",
        "outputId": "b41f3c0b-9844-48eb-bcff-84d8c78718d1"
      },
      "outputs": [
        {
          "output_type": "stream",
          "name": "stdout",
          "text": [
            "['▁Upper', '▁Window', ':', '▁View', '▁on', '▁Printer', 's', ',', '▁both', '▁Real', '▁and', '▁Virtual', '</s>', '<pad>', '<pad>', '<pad>', '<pad>', '<pad>', '<pad>', '<pad>', '<pad>', '<pad>', '<pad>', '<pad>', '<pad>', '<pad>', '<pad>', '<pad>', '<pad>', '<pad>', '<pad>', '<pad>']\n",
            "['▁Fen', 'être', '▁s', 'up', 'érie', 'ure', '▁&', '▁#1', '60', ';', ':', '▁V', 'ue', '▁de', '▁l', \"'\", 'ense', 'm', 'ble', '▁des', '▁imp', 'rim', 'ante', 's', ',', '▁ré', 'elles', '▁et', '▁virtue', 'll', 'es', '</s>']\n"
          ]
        }
      ],
      "source": [
        "tokens_first_sentence = tokenizer.convert_ids_to_tokens(\n",
        "    encoded_text.input_ids[0])\n",
        "tokens_second_sentence = tokenizer.convert_ids_to_tokens(\n",
        "    encoded_text.input_ids[1])\n",
        "\n",
        "print(tokens_first_sentence)\n",
        "print(tokens_second_sentence)\n"
      ]
    },
    {
      "cell_type": "code",
      "execution_count": null,
      "id": "CKHRrsRg4idW",
      "metadata": {
        "colab": {
          "base_uri": "https://localhost:8080/",
          "height": 35
        },
        "id": "CKHRrsRg4idW",
        "outputId": "a0457ea7-1337-4439-a5f2-a16e71928d87"
      },
      "outputs": [
        {
          "output_type": "execute_result",
          "data": {
            "text/plain": [
              "'Upper Window: View on Printers, both Real and Virtual</s> <pad> <pad> <pad> <pad> <pad> <pad> <pad> <pad> <pad> <pad> <pad> <pad> <pad> <pad> <pad> <pad> <pad> <pad> <pad>'"
            ],
            "application/vnd.google.colaboratory.intrinsic+json": {
              "type": "string"
            }
          },
          "metadata": {},
          "execution_count": 36
        }
      ],
      "source": [
        "tokenizer.convert_tokens_to_string(tokens_first_sentence)\n"
      ]
    },
    {
      "cell_type": "code",
      "execution_count": null,
      "id": "2905b25b",
      "metadata": {
        "id": "2905b25b",
        "outputId": "929792a4-91b3-42fe-dac8-a1451ee10a59",
        "colab": {
          "base_uri": "https://localhost:8080/",
          "height": 35
        }
      },
      "outputs": [
        {
          "output_type": "execute_result",
          "data": {
            "text/plain": [
              "\"Fenêtre supérieure & #160;: Vue de l'ensemble des imprimantes, réelles et virtuelles</s>\""
            ],
            "application/vnd.google.colaboratory.intrinsic+json": {
              "type": "string"
            }
          },
          "metadata": {},
          "execution_count": 37
        }
      ],
      "source": [
        "tokenizer.convert_tokens_to_string(tokens_second_sentence)"
      ]
    },
    {
      "cell_type": "code",
      "execution_count": null,
      "id": "N47N0Anu4xKZ",
      "metadata": {
        "id": "N47N0Anu4xKZ"
      },
      "outputs": [],
      "source": [
        "special_tokens = tokenizer.all_special_tokens\n",
        "special_tokens_ids = tokenizer.all_special_ids\n"
      ]
    },
    {
      "cell_type": "code",
      "execution_count": null,
      "id": "9rdg76Sg4_dp",
      "metadata": {
        "id": "9rdg76Sg4_dp"
      },
      "outputs": [],
      "source": [
        "import pandas as pd\n"
      ]
    },
    {
      "cell_type": "code",
      "execution_count": null,
      "id": "cTD7pzTk5CjO",
      "metadata": {
        "id": "cTD7pzTk5CjO"
      },
      "outputs": [],
      "source": [
        "df = pd.DataFrame(\n",
        "    {\"special_tokens\": special_tokens, \"special_tokens_ids\": special_tokens_ids}\n",
        ")\n"
      ]
    },
    {
      "cell_type": "code",
      "execution_count": null,
      "id": "1135806d",
      "metadata": {
        "id": "1135806d"
      },
      "outputs": [],
      "source": [
        "pd.set_option(\"display.max_rows\", None)\n"
      ]
    },
    {
      "cell_type": "code",
      "execution_count": null,
      "id": "95fcb2e2",
      "metadata": {
        "id": "95fcb2e2",
        "outputId": "ca789274-4a39-4b38-a67a-7fda69d850ec",
        "colab": {
          "base_uri": "https://localhost:8080/",
          "height": 143
        }
      },
      "outputs": [
        {
          "output_type": "execute_result",
          "data": {
            "text/plain": [
              "  special_tokens  special_tokens_ids\n",
              "0           </s>                   0\n",
              "1          <unk>                   1\n",
              "2          <pad>               59513"
            ],
            "text/html": [
              "\n",
              "  <div id=\"df-fdddbff6-8d83-4eca-a0a8-403c9484c6c5\" class=\"colab-df-container\">\n",
              "    <div>\n",
              "<style scoped>\n",
              "    .dataframe tbody tr th:only-of-type {\n",
              "        vertical-align: middle;\n",
              "    }\n",
              "\n",
              "    .dataframe tbody tr th {\n",
              "        vertical-align: top;\n",
              "    }\n",
              "\n",
              "    .dataframe thead th {\n",
              "        text-align: right;\n",
              "    }\n",
              "</style>\n",
              "<table border=\"1\" class=\"dataframe\">\n",
              "  <thead>\n",
              "    <tr style=\"text-align: right;\">\n",
              "      <th></th>\n",
              "      <th>special_tokens</th>\n",
              "      <th>special_tokens_ids</th>\n",
              "    </tr>\n",
              "  </thead>\n",
              "  <tbody>\n",
              "    <tr>\n",
              "      <th>0</th>\n",
              "      <td>&lt;/s&gt;</td>\n",
              "      <td>0</td>\n",
              "    </tr>\n",
              "    <tr>\n",
              "      <th>1</th>\n",
              "      <td>&lt;unk&gt;</td>\n",
              "      <td>1</td>\n",
              "    </tr>\n",
              "    <tr>\n",
              "      <th>2</th>\n",
              "      <td>&lt;pad&gt;</td>\n",
              "      <td>59513</td>\n",
              "    </tr>\n",
              "  </tbody>\n",
              "</table>\n",
              "</div>\n",
              "    <div class=\"colab-df-buttons\">\n",
              "\n",
              "  <div class=\"colab-df-container\">\n",
              "    <button class=\"colab-df-convert\" onclick=\"convertToInteractive('df-fdddbff6-8d83-4eca-a0a8-403c9484c6c5')\"\n",
              "            title=\"Convert this dataframe to an interactive table.\"\n",
              "            style=\"display:none;\">\n",
              "\n",
              "  <svg xmlns=\"http://www.w3.org/2000/svg\" height=\"24px\" viewBox=\"0 -960 960 960\">\n",
              "    <path d=\"M120-120v-720h720v720H120Zm60-500h600v-160H180v160Zm220 220h160v-160H400v160Zm0 220h160v-160H400v160ZM180-400h160v-160H180v160Zm440 0h160v-160H620v160ZM180-180h160v-160H180v160Zm440 0h160v-160H620v160Z\"/>\n",
              "  </svg>\n",
              "    </button>\n",
              "\n",
              "  <style>\n",
              "    .colab-df-container {\n",
              "      display:flex;\n",
              "      gap: 12px;\n",
              "    }\n",
              "\n",
              "    .colab-df-convert {\n",
              "      background-color: #E8F0FE;\n",
              "      border: none;\n",
              "      border-radius: 50%;\n",
              "      cursor: pointer;\n",
              "      display: none;\n",
              "      fill: #1967D2;\n",
              "      height: 32px;\n",
              "      padding: 0 0 0 0;\n",
              "      width: 32px;\n",
              "    }\n",
              "\n",
              "    .colab-df-convert:hover {\n",
              "      background-color: #E2EBFA;\n",
              "      box-shadow: 0px 1px 2px rgba(60, 64, 67, 0.3), 0px 1px 3px 1px rgba(60, 64, 67, 0.15);\n",
              "      fill: #174EA6;\n",
              "    }\n",
              "\n",
              "    .colab-df-buttons div {\n",
              "      margin-bottom: 4px;\n",
              "    }\n",
              "\n",
              "    [theme=dark] .colab-df-convert {\n",
              "      background-color: #3B4455;\n",
              "      fill: #D2E3FC;\n",
              "    }\n",
              "\n",
              "    [theme=dark] .colab-df-convert:hover {\n",
              "      background-color: #434B5C;\n",
              "      box-shadow: 0px 1px 3px 1px rgba(0, 0, 0, 0.15);\n",
              "      filter: drop-shadow(0px 1px 2px rgba(0, 0, 0, 0.3));\n",
              "      fill: #FFFFFF;\n",
              "    }\n",
              "  </style>\n",
              "\n",
              "    <script>\n",
              "      const buttonEl =\n",
              "        document.querySelector('#df-fdddbff6-8d83-4eca-a0a8-403c9484c6c5 button.colab-df-convert');\n",
              "      buttonEl.style.display =\n",
              "        google.colab.kernel.accessAllowed ? 'block' : 'none';\n",
              "\n",
              "      async function convertToInteractive(key) {\n",
              "        const element = document.querySelector('#df-fdddbff6-8d83-4eca-a0a8-403c9484c6c5');\n",
              "        const dataTable =\n",
              "          await google.colab.kernel.invokeFunction('convertToInteractive',\n",
              "                                                    [key], {});\n",
              "        if (!dataTable) return;\n",
              "\n",
              "        const docLinkHtml = 'Like what you see? Visit the ' +\n",
              "          '<a target=\"_blank\" href=https://colab.research.google.com/notebooks/data_table.ipynb>data table notebook</a>'\n",
              "          + ' to learn more about interactive tables.';\n",
              "        element.innerHTML = '';\n",
              "        dataTable['output_type'] = 'display_data';\n",
              "        await google.colab.output.renderOutput(dataTable, element);\n",
              "        const docLink = document.createElement('div');\n",
              "        docLink.innerHTML = docLinkHtml;\n",
              "        element.appendChild(docLink);\n",
              "      }\n",
              "    </script>\n",
              "  </div>\n",
              "\n",
              "\n",
              "<div id=\"df-6bb501eb-85f2-4e75-9102-cac139cca5fe\">\n",
              "  <button class=\"colab-df-quickchart\" onclick=\"quickchart('df-6bb501eb-85f2-4e75-9102-cac139cca5fe')\"\n",
              "            title=\"Suggest charts.\"\n",
              "            style=\"display:none;\">\n",
              "\n",
              "<svg xmlns=\"http://www.w3.org/2000/svg\" height=\"24px\"viewBox=\"0 0 24 24\"\n",
              "     width=\"24px\">\n",
              "    <g>\n",
              "        <path d=\"M19 3H5c-1.1 0-2 .9-2 2v14c0 1.1.9 2 2 2h14c1.1 0 2-.9 2-2V5c0-1.1-.9-2-2-2zM9 17H7v-7h2v7zm4 0h-2V7h2v10zm4 0h-2v-4h2v4z\"/>\n",
              "    </g>\n",
              "</svg>\n",
              "  </button>\n",
              "\n",
              "<style>\n",
              "  .colab-df-quickchart {\n",
              "      --bg-color: #E8F0FE;\n",
              "      --fill-color: #1967D2;\n",
              "      --hover-bg-color: #E2EBFA;\n",
              "      --hover-fill-color: #174EA6;\n",
              "      --disabled-fill-color: #AAA;\n",
              "      --disabled-bg-color: #DDD;\n",
              "  }\n",
              "\n",
              "  [theme=dark] .colab-df-quickchart {\n",
              "      --bg-color: #3B4455;\n",
              "      --fill-color: #D2E3FC;\n",
              "      --hover-bg-color: #434B5C;\n",
              "      --hover-fill-color: #FFFFFF;\n",
              "      --disabled-bg-color: #3B4455;\n",
              "      --disabled-fill-color: #666;\n",
              "  }\n",
              "\n",
              "  .colab-df-quickchart {\n",
              "    background-color: var(--bg-color);\n",
              "    border: none;\n",
              "    border-radius: 50%;\n",
              "    cursor: pointer;\n",
              "    display: none;\n",
              "    fill: var(--fill-color);\n",
              "    height: 32px;\n",
              "    padding: 0;\n",
              "    width: 32px;\n",
              "  }\n",
              "\n",
              "  .colab-df-quickchart:hover {\n",
              "    background-color: var(--hover-bg-color);\n",
              "    box-shadow: 0 1px 2px rgba(60, 64, 67, 0.3), 0 1px 3px 1px rgba(60, 64, 67, 0.15);\n",
              "    fill: var(--button-hover-fill-color);\n",
              "  }\n",
              "\n",
              "  .colab-df-quickchart-complete:disabled,\n",
              "  .colab-df-quickchart-complete:disabled:hover {\n",
              "    background-color: var(--disabled-bg-color);\n",
              "    fill: var(--disabled-fill-color);\n",
              "    box-shadow: none;\n",
              "  }\n",
              "\n",
              "  .colab-df-spinner {\n",
              "    border: 2px solid var(--fill-color);\n",
              "    border-color: transparent;\n",
              "    border-bottom-color: var(--fill-color);\n",
              "    animation:\n",
              "      spin 1s steps(1) infinite;\n",
              "  }\n",
              "\n",
              "  @keyframes spin {\n",
              "    0% {\n",
              "      border-color: transparent;\n",
              "      border-bottom-color: var(--fill-color);\n",
              "      border-left-color: var(--fill-color);\n",
              "    }\n",
              "    20% {\n",
              "      border-color: transparent;\n",
              "      border-left-color: var(--fill-color);\n",
              "      border-top-color: var(--fill-color);\n",
              "    }\n",
              "    30% {\n",
              "      border-color: transparent;\n",
              "      border-left-color: var(--fill-color);\n",
              "      border-top-color: var(--fill-color);\n",
              "      border-right-color: var(--fill-color);\n",
              "    }\n",
              "    40% {\n",
              "      border-color: transparent;\n",
              "      border-right-color: var(--fill-color);\n",
              "      border-top-color: var(--fill-color);\n",
              "    }\n",
              "    60% {\n",
              "      border-color: transparent;\n",
              "      border-right-color: var(--fill-color);\n",
              "    }\n",
              "    80% {\n",
              "      border-color: transparent;\n",
              "      border-right-color: var(--fill-color);\n",
              "      border-bottom-color: var(--fill-color);\n",
              "    }\n",
              "    90% {\n",
              "      border-color: transparent;\n",
              "      border-bottom-color: var(--fill-color);\n",
              "    }\n",
              "  }\n",
              "</style>\n",
              "\n",
              "  <script>\n",
              "    async function quickchart(key) {\n",
              "      const quickchartButtonEl =\n",
              "        document.querySelector('#' + key + ' button');\n",
              "      quickchartButtonEl.disabled = true;  // To prevent multiple clicks.\n",
              "      quickchartButtonEl.classList.add('colab-df-spinner');\n",
              "      try {\n",
              "        const charts = await google.colab.kernel.invokeFunction(\n",
              "            'suggestCharts', [key], {});\n",
              "      } catch (error) {\n",
              "        console.error('Error during call to suggestCharts:', error);\n",
              "      }\n",
              "      quickchartButtonEl.classList.remove('colab-df-spinner');\n",
              "      quickchartButtonEl.classList.add('colab-df-quickchart-complete');\n",
              "    }\n",
              "    (() => {\n",
              "      let quickchartButtonEl =\n",
              "        document.querySelector('#df-6bb501eb-85f2-4e75-9102-cac139cca5fe button');\n",
              "      quickchartButtonEl.style.display =\n",
              "        google.colab.kernel.accessAllowed ? 'block' : 'none';\n",
              "    })();\n",
              "  </script>\n",
              "</div>\n",
              "    </div>\n",
              "  </div>\n"
            ]
          },
          "metadata": {},
          "execution_count": 42
        }
      ],
      "source": [
        "df\n"
      ]
    },
    {
      "cell_type": "markdown",
      "id": "2b4ce3b9-904f-42bd-9c3f-163328f47051",
      "metadata": {
        "execution": {
          "iopub.execute_input": "2022-12-20T11:22:33.679936Z",
          "iopub.status.busy": "2022-12-20T11:22:33.679764Z",
          "iopub.status.idle": "2022-12-20T11:22:33.723366Z",
          "shell.execute_reply": "2022-12-20T11:22:33.722847Z",
          "shell.execute_reply.started": "2022-12-20T11:22:33.679918Z"
        },
        "id": "2b4ce3b9-904f-42bd-9c3f-163328f47051"
      },
      "source": [
        "###  <font color = 'pickle'> **Create function for Tokenizer**"
      ]
    },
    {
      "cell_type": "code",
      "execution_count": null,
      "id": "8bAD2dsXhvAA",
      "metadata": {
        "execution": {
          "iopub.execute_input": "2022-12-23T23:14:12.134855Z",
          "iopub.status.busy": "2022-12-23T23:14:12.134613Z",
          "iopub.status.idle": "2022-12-23T23:14:12.186484Z",
          "shell.execute_reply": "2022-12-23T23:14:12.185866Z",
          "shell.execute_reply.started": "2022-12-23T23:14:12.134828Z"
        },
        "id": "8bAD2dsXhvAA",
        "tags": []
      },
      "outputs": [],
      "source": [
        "# we do not need to add padding\n",
        "# padding and conversion to Pytorch Tensor is handled by the data collators\n",
        "# in more efficient manner\n",
        "\n",
        "max_length = 128\n",
        "def tokenize_fn(batch):\n",
        "\n",
        "    inputs = [example['en'] for example in batch['translation']]\n",
        "    targets = [example['fr'] for example in batch['translation']]\n",
        "    model_inputs = tokenizer(text = inputs, text_target=targets, truncation = True, max_length=max_length)\n",
        "\n",
        "    return model_inputs"
      ]
    },
    {
      "cell_type": "markdown",
      "id": "1f09c889-c3fd-4b12-a544-0772594a3899",
      "metadata": {
        "id": "1f09c889-c3fd-4b12-a544-0772594a3899"
      },
      "source": [
        "###  <font color = 'pickle'> **Use map function to apply tokenization to all splits**"
      ]
    },
    {
      "cell_type": "code",
      "execution_count": null,
      "id": "cc8399c4",
      "metadata": {
        "id": "cc8399c4",
        "colab": {
          "base_uri": "https://localhost:8080/",
          "height": 81,
          "referenced_widgets": [
            "6ebe0230421c46f1b08b494fbb5e818d",
            "bed7e5745ed14cee97576659bf4e2e16",
            "401adf533a07427ab4424f5763263e73",
            "33b4ad3c8e6a420aa7c90f216bc3e474",
            "2a208ec54bc04fd8ad0bde0d322f31ec",
            "160bb8a946934463af4d0e7cb129ef70",
            "de548bd043ba4d6dabdee1a3611b60a6",
            "ab382ae3476d4678a2ae900d79221229",
            "31b3f383c8a14892a0a8c36e9ebf0098",
            "8e49425cb4064c4892d33871d29ede6d",
            "7dc35aafd8814f71ab8d7d14feecea16",
            "8f343d00a9a94689b066d1c6db0d06ad",
            "bf2046f853414a33a41ce9d4651d6f8b",
            "a7b3b2b502e94691b84d58c66720eee0",
            "67304d1dfcdf4fd1bcb1cb8bb383ce14",
            "dab2a032d7774019a5daef1ab71584c4",
            "7c58c8dc72514f758f6d93ac4c81dc8d",
            "8685635b44b5498fb68427ee4cebe66d",
            "ab8a4a5b8ee64411a79a5892768f3bc5",
            "32fff0ff44014593ba37b5ffa64f3d0b",
            "842ead7416e0424a8d223feba705bec2",
            "fb8f67df6301463da8f08e866d175acd"
          ]
        },
        "outputId": "882d06f6-0520-49ca-bc6b-33360228d1bb"
      },
      "outputs": [
        {
          "output_type": "display_data",
          "data": {
            "text/plain": [
              "Map:   0%|          | 0/1000 [00:00<?, ? examples/s]"
            ],
            "application/vnd.jupyter.widget-view+json": {
              "version_major": 2,
              "version_minor": 0,
              "model_id": "6ebe0230421c46f1b08b494fbb5e818d"
            }
          },
          "metadata": {}
        },
        {
          "output_type": "display_data",
          "data": {
            "text/plain": [
              "Map:   0%|          | 0/500 [00:00<?, ? examples/s]"
            ],
            "application/vnd.jupyter.widget-view+json": {
              "version_major": 2,
              "version_minor": 0,
              "model_id": "8f343d00a9a94689b066d1c6db0d06ad"
            }
          },
          "metadata": {}
        }
      ],
      "source": [
        "tokenized_dataset = train_val_subset.map(tokenize_fn,\n",
        "                              batched = True,\n",
        "                              remove_columns=train_val_subset['train'].column_names)"
      ]
    },
    {
      "cell_type": "code",
      "execution_count": null,
      "id": "ET6ioH_-iCW2",
      "metadata": {
        "execution": {
          "iopub.execute_input": "2022-12-23T23:14:13.918317Z",
          "iopub.status.busy": "2022-12-23T23:14:13.917908Z",
          "iopub.status.idle": "2022-12-23T23:14:15.785940Z",
          "shell.execute_reply": "2022-12-23T23:14:15.785447Z",
          "shell.execute_reply.started": "2022-12-23T23:14:13.918288Z"
        },
        "id": "ET6ioH_-iCW2",
        "tags": []
      },
      "outputs": [],
      "source": [
        "tokenized_dataset.set_format(type=\"torch\")\n"
      ]
    },
    {
      "cell_type": "code",
      "execution_count": null,
      "id": "a77b25cc",
      "metadata": {
        "colab": {
          "base_uri": "https://localhost:8080/"
        },
        "id": "a77b25cc",
        "outputId": "53b375d7-729d-4352-ae7a-93124279c190"
      },
      "outputs": [
        {
          "output_type": "execute_result",
          "data": {
            "text/plain": [
              "DatasetDict({\n",
              "    train: Dataset({\n",
              "        features: ['input_ids', 'attention_mask', 'labels'],\n",
              "        num_rows: 1000\n",
              "    })\n",
              "    val: Dataset({\n",
              "        features: ['input_ids', 'attention_mask', 'labels'],\n",
              "        num_rows: 500\n",
              "    })\n",
              "})"
            ]
          },
          "metadata": {},
          "execution_count": 46
        }
      ],
      "source": [
        "tokenized_dataset\n"
      ]
    },
    {
      "cell_type": "code",
      "execution_count": null,
      "id": "-_TRU1OOO5PC",
      "metadata": {
        "colab": {
          "base_uri": "https://localhost:8080/"
        },
        "id": "-_TRU1OOO5PC",
        "outputId": "289c6bba-4fd8-4d8c-fb37-01edc34f96ed"
      },
      "outputs": [
        {
          "output_type": "execute_result",
          "data": {
            "text/plain": [
              "{'input_ids': Sequence(feature=Value(dtype='int32', id=None), length=-1, id=None),\n",
              " 'attention_mask': Sequence(feature=Value(dtype='int8', id=None), length=-1, id=None),\n",
              " 'labels': Sequence(feature=Value(dtype='int64', id=None), length=-1, id=None)}"
            ]
          },
          "metadata": {},
          "execution_count": 47
        }
      ],
      "source": [
        "tokenized_dataset[\"train\"].features\n"
      ]
    },
    {
      "cell_type": "code",
      "execution_count": null,
      "id": "TH3iX2Q0w9wG",
      "metadata": {
        "colab": {
          "base_uri": "https://localhost:8080/"
        },
        "id": "TH3iX2Q0w9wG",
        "outputId": "b1dc149d-b3b8-42ad-cb3e-422b64400aa2"
      },
      "outputs": [
        {
          "output_type": "stream",
          "name": "stdout",
          "text": [
            "2\n",
            "13\n"
          ]
        }
      ],
      "source": [
        "print(len(tokenized_dataset[\"train\"][\"input_ids\"][2]))\n",
        "print(len(tokenized_dataset[\"train\"][\"input_ids\"][1]))\n"
      ]
    },
    {
      "cell_type": "code",
      "execution_count": null,
      "id": "c126671b",
      "metadata": {
        "colab": {
          "base_uri": "https://localhost:8080/"
        },
        "id": "c126671b",
        "outputId": "844b47a6-37ba-42bf-e298-4c9fbbb6bb1a"
      },
      "outputs": [
        {
          "output_type": "stream",
          "name": "stdout",
          "text": [
            "['▁I', 'dent', 'ifier', ':', '</s>']\n"
          ]
        }
      ],
      "source": [
        "print(\n",
        "    tokenizer.convert_ids_to_tokens(\n",
        "        tokenized_dataset[\"train\"][\"input_ids\"][0][0:10]\n",
        "    )\n",
        ")\n"
      ]
    },
    {
      "cell_type": "code",
      "execution_count": null,
      "id": "06350b7c",
      "metadata": {
        "colab": {
          "base_uri": "https://localhost:8080/"
        },
        "id": "06350b7c",
        "outputId": "c6f3a167-3f0c-440a-a316-0de0759f78ae"
      },
      "outputs": [
        {
          "output_type": "stream",
          "name": "stdout",
          "text": [
            "['▁Identifiant', '▁&', '▁#160;:', '</s>']\n"
          ]
        }
      ],
      "source": [
        "print(\n",
        "    tokenizer.convert_ids_to_tokens(\n",
        "        tokenized_dataset[\"train\"][\"labels\"][0][0:10])\n",
        ")\n"
      ]
    },
    {
      "cell_type": "markdown",
      "id": "O7-5sm2uBTN_",
      "metadata": {
        "id": "O7-5sm2uBTN_"
      },
      "source": [
        "#  <font color = 'pickle'> **Model Training**"
      ]
    },
    {
      "cell_type": "markdown",
      "id": "e15e2ca6-cfbf-46c0-bf81-ec65a9258567",
      "metadata": {
        "execution": {
          "iopub.execute_input": "2022-12-05T21:57:04.735277Z",
          "iopub.status.busy": "2022-12-05T21:57:04.735041Z",
          "iopub.status.idle": "2022-12-05T21:57:04.738230Z",
          "shell.execute_reply": "2022-12-05T21:57:04.737909Z",
          "shell.execute_reply.started": "2022-12-05T21:57:04.735252Z"
        },
        "id": "e15e2ca6-cfbf-46c0-bf81-ec65a9258567"
      },
      "source": [
        "##  <font color = 'pickle'> **Model Config File**</font>\n",
        "\n"
      ]
    },
    {
      "cell_type": "code",
      "execution_count": null,
      "id": "02d5e0eb-ac4c-4593-946c-3e33a4e2a82e",
      "metadata": {
        "execution": {
          "iopub.execute_input": "2022-12-23T23:14:20.554756Z",
          "iopub.status.busy": "2022-12-23T23:14:20.554518Z",
          "iopub.status.idle": "2022-12-23T23:14:20.770843Z",
          "shell.execute_reply": "2022-12-23T23:14:20.770018Z",
          "shell.execute_reply.started": "2022-12-23T23:14:20.554730Z"
        },
        "id": "02d5e0eb-ac4c-4593-946c-3e33a4e2a82e",
        "tags": []
      },
      "outputs": [],
      "source": [
        "config = AutoConfig.from_pretrained(checkpoint)"
      ]
    },
    {
      "cell_type": "code",
      "execution_count": null,
      "id": "f2c1efa2",
      "metadata": {
        "colab": {
          "base_uri": "https://localhost:8080/"
        },
        "id": "f2c1efa2",
        "outputId": "b9b0a363-a96f-459c-e228-b59508770ef2"
      },
      "outputs": [
        {
          "output_type": "execute_result",
          "data": {
            "text/plain": [
              "MarianConfig {\n",
              "  \"_name_or_path\": \"Helsinki-NLP/opus-mt-en-fr\",\n",
              "  \"_num_labels\": 3,\n",
              "  \"activation_dropout\": 0.0,\n",
              "  \"activation_function\": \"swish\",\n",
              "  \"add_bias_logits\": false,\n",
              "  \"add_final_layer_norm\": false,\n",
              "  \"architectures\": [\n",
              "    \"MarianMTModel\"\n",
              "  ],\n",
              "  \"attention_dropout\": 0.0,\n",
              "  \"bad_words_ids\": [\n",
              "    [\n",
              "      59513\n",
              "    ]\n",
              "  ],\n",
              "  \"bos_token_id\": 0,\n",
              "  \"classif_dropout\": 0.0,\n",
              "  \"classifier_dropout\": 0.0,\n",
              "  \"d_model\": 512,\n",
              "  \"decoder_attention_heads\": 8,\n",
              "  \"decoder_ffn_dim\": 2048,\n",
              "  \"decoder_layerdrop\": 0.0,\n",
              "  \"decoder_layers\": 6,\n",
              "  \"decoder_start_token_id\": 59513,\n",
              "  \"decoder_vocab_size\": 59514,\n",
              "  \"dropout\": 0.1,\n",
              "  \"encoder_attention_heads\": 8,\n",
              "  \"encoder_ffn_dim\": 2048,\n",
              "  \"encoder_layerdrop\": 0.0,\n",
              "  \"encoder_layers\": 6,\n",
              "  \"eos_token_id\": 0,\n",
              "  \"forced_eos_token_id\": 0,\n",
              "  \"gradient_checkpointing\": false,\n",
              "  \"id2label\": {\n",
              "    \"0\": \"LABEL_0\",\n",
              "    \"1\": \"LABEL_1\",\n",
              "    \"2\": \"LABEL_2\"\n",
              "  },\n",
              "  \"init_std\": 0.02,\n",
              "  \"is_encoder_decoder\": true,\n",
              "  \"label2id\": {\n",
              "    \"LABEL_0\": 0,\n",
              "    \"LABEL_1\": 1,\n",
              "    \"LABEL_2\": 2\n",
              "  },\n",
              "  \"max_length\": 512,\n",
              "  \"max_position_embeddings\": 512,\n",
              "  \"model_type\": \"marian\",\n",
              "  \"normalize_before\": false,\n",
              "  \"normalize_embedding\": false,\n",
              "  \"num_beams\": 4,\n",
              "  \"num_hidden_layers\": 6,\n",
              "  \"pad_token_id\": 59513,\n",
              "  \"scale_embedding\": true,\n",
              "  \"share_encoder_decoder_embeddings\": true,\n",
              "  \"static_position_embeddings\": true,\n",
              "  \"transformers_version\": \"4.34.1\",\n",
              "  \"use_cache\": true,\n",
              "  \"vocab_size\": 59514\n",
              "}"
            ]
          },
          "metadata": {},
          "execution_count": 52
        }
      ],
      "source": [
        "config"
      ]
    },
    {
      "cell_type": "code",
      "execution_count": null,
      "id": "848a0a21",
      "metadata": {
        "id": "848a0a21",
        "colab": {
          "base_uri": "https://localhost:8080/",
          "height": 49,
          "referenced_widgets": [
            "4e9b21d38a7341798f97511eddd22bcd",
            "e74e884698244a6199b564f5622a4501",
            "e8179d3af68c4260a06b0619fd6e7530",
            "55de1e316bdb4bcfabde679ae41312c2",
            "17e1e35d37f4458e8c1f0f415b5eac9e",
            "9ed54e837fea48d4b12acdc50040c32c",
            "2e24f364af1640d3b533af15990f7c9c",
            "5d7ee5df658b479eb2af5397f8c625ac",
            "1decd77ed3de44688ce3e850b25c6885",
            "27c0a8f9783c43c0937a090bee7337de",
            "e23707c30aac498b8e6dd3b6e1a7be2c"
          ]
        },
        "outputId": "6d0f4d33-4bc7-4203-81e0-981322ced0cc"
      },
      "outputs": [
        {
          "output_type": "display_data",
          "data": {
            "text/plain": [
              "Downloading (…)neration_config.json:   0%|          | 0.00/293 [00:00<?, ?B/s]"
            ],
            "application/vnd.jupyter.widget-view+json": {
              "version_major": 2,
              "version_minor": 0,
              "model_id": "4e9b21d38a7341798f97511eddd22bcd"
            }
          },
          "metadata": {}
        }
      ],
      "source": [
        "from transformers import GenerationConfig\n",
        "\n",
        "# generation_config = GenerationConfig.from_model_config(config)\n",
        "generation_config = GenerationConfig.from_pretrained(checkpoint)\n"
      ]
    },
    {
      "cell_type": "code",
      "execution_count": null,
      "id": "fb431758",
      "metadata": {
        "colab": {
          "base_uri": "https://localhost:8080/"
        },
        "id": "fb431758",
        "outputId": "bc5d1e1d-75a5-44e7-defd-896ae721d6a9"
      },
      "outputs": [
        {
          "output_type": "execute_result",
          "data": {
            "text/plain": [
              "GenerationConfig {\n",
              "  \"bad_words_ids\": [\n",
              "    [\n",
              "      59513\n",
              "    ]\n",
              "  ],\n",
              "  \"bos_token_id\": 0,\n",
              "  \"decoder_start_token_id\": 59513,\n",
              "  \"eos_token_id\": 0,\n",
              "  \"forced_eos_token_id\": 0,\n",
              "  \"max_length\": 512,\n",
              "  \"num_beams\": 4,\n",
              "  \"pad_token_id\": 59513,\n",
              "  \"renormalize_logits\": true\n",
              "}"
            ]
          },
          "metadata": {},
          "execution_count": 54
        }
      ],
      "source": [
        "generation_config\n"
      ]
    },
    {
      "cell_type": "markdown",
      "id": "cc2a39fc-6d87-43ca-8a6e-7129bd8214f1",
      "metadata": {
        "id": "cc2a39fc-6d87-43ca-8a6e-7129bd8214f1"
      },
      "source": [
        "##  <font color = 'pickle'> **Download pre-trained model**"
      ]
    },
    {
      "cell_type": "code",
      "execution_count": null,
      "id": "58babf85",
      "metadata": {
        "id": "58babf85",
        "colab": {
          "base_uri": "https://localhost:8080/",
          "height": 49,
          "referenced_widgets": [
            "bf7a248a53c045d4a4cda32fc72233b4",
            "5a0223f072a74848923c3e7c7f6cdf2a",
            "a47f86c211864805b668363229665244",
            "242af288086f4c32a805f70e463a3ab4",
            "eaf84eb19a034572b8dc2c7ddef649b3",
            "9c4d134ccc33461e85ac98b71ba323ef",
            "b2683b7c5743418aae3487728ced57cd",
            "f4d2045478d04c35a58cf20b05700bf5",
            "eaf2099ee0ae4e0a90b7daeae2cf443b",
            "ffea4acd32fb4c25b0c2f1b8695535a6",
            "fbd4214cafc847e58bf408df79f11789"
          ]
        },
        "outputId": "d387205c-03eb-4220-dca5-604e00827dea"
      },
      "outputs": [
        {
          "output_type": "display_data",
          "data": {
            "text/plain": [
              "Downloading pytorch_model.bin:   0%|          | 0.00/301M [00:00<?, ?B/s]"
            ],
            "application/vnd.jupyter.widget-view+json": {
              "version_major": 2,
              "version_minor": 0,
              "model_id": "bf7a248a53c045d4a4cda32fc72233b4"
            }
          },
          "metadata": {}
        }
      ],
      "source": [
        "model = AutoModelForSeq2SeqLM.from_pretrained(\n",
        "    checkpoint,\n",
        "    config=config,\n",
        ")\n"
      ]
    },
    {
      "cell_type": "markdown",
      "id": "c3b5c122",
      "metadata": {
        "id": "c3b5c122"
      },
      "source": [
        "## <font color = 'pickle'> **Model Input/Collate Function** </font>"
      ]
    },
    {
      "cell_type": "code",
      "execution_count": null,
      "id": "60aacc2b",
      "metadata": {
        "id": "60aacc2b"
      },
      "outputs": [],
      "source": [
        "data_collator = DataCollatorForSeq2Seq(\n",
        "    tokenizer=tokenizer,\n",
        "    model=model,\n",
        ")\n"
      ]
    },
    {
      "cell_type": "code",
      "execution_count": null,
      "id": "dd292130",
      "metadata": {
        "id": "dd292130",
        "outputId": "bd75e8ec-f7c3-4def-8371-ff903ef0cd8b",
        "colab": {
          "base_uri": "https://localhost:8080/"
        }
      },
      "outputs": [
        {
          "output_type": "execute_result",
          "data": {
            "text/plain": [
              "{'id': '34366',\n",
              " 'translation': {'en': 'Basic Command Set',\n",
              "  'fr': 'Ensemble de commandes basiques'}}"
            ]
          },
          "metadata": {},
          "execution_count": 57
        }
      ],
      "source": [
        "train_val_subset['train'][100]\n"
      ]
    },
    {
      "cell_type": "code",
      "execution_count": null,
      "id": "9b8670b1",
      "metadata": {
        "colab": {
          "base_uri": "https://localhost:8080/"
        },
        "id": "9b8670b1",
        "outputId": "3c8a5397-dc9f-4903-a4a3-3b565475be3e"
      },
      "outputs": [
        {
          "output_type": "execute_result",
          "data": {
            "text/plain": [
              "[{'input_ids': tensor([  47, 9314, 8245,   37,    0]),\n",
              "  'attention_mask': tensor([1, 1, 1, 1, 1]),\n",
              "  'labels': tensor([41612,   402, 38492,     0])},\n",
              " {'input_ids': tensor([21364, 38007,    37,  3689,    30, 36712,     9,     2,   533,  7770,\n",
              "             10, 21821,     0]),\n",
              "  'attention_mask': tensor([1, 1, 1, 1, 1, 1, 1, 1, 1, 1, 1, 1, 1]),\n",
              "  'labels': tensor([  304,   162,   501,  4517,   402, 38492, 14781,     5,    14,     6,\n",
              "           1420,    13, 29719,     9,     2, 12782,    11, 18769,     9,     0])},\n",
              " {'input_ids': tensor([41704,     0]),\n",
              "  'attention_mask': tensor([1, 1]),\n",
              "  'labels': tensor([12323,     0])}]"
            ]
          },
          "metadata": {},
          "execution_count": 58
        }
      ],
      "source": [
        "features = [tokenized_dataset[\"train\"][i] for i in range(3)]\n",
        "features\n"
      ]
    },
    {
      "cell_type": "code",
      "execution_count": null,
      "id": "4d9f01a6",
      "metadata": {
        "id": "4d9f01a6",
        "outputId": "d407c4c1-50aa-4123-caf5-5df3798b51f7",
        "colab": {
          "base_uri": "https://localhost:8080/"
        }
      },
      "outputs": [
        {
          "output_type": "execute_result",
          "data": {
            "text/plain": [
              "dict_keys(['input_ids', 'attention_mask', 'labels', 'decoder_input_ids'])"
            ]
          },
          "metadata": {},
          "execution_count": 59
        }
      ],
      "source": [
        "model_input = data_collator(features)\n",
        "model_input.keys()"
      ]
    },
    {
      "cell_type": "markdown",
      "id": "448994da",
      "metadata": {
        "id": "448994da"
      },
      "source": [
        "<font color='indianred'>• Notice that data_collator has added the <strong>decoder_input_ids</strong></font>\n"
      ]
    },
    {
      "cell_type": "code",
      "execution_count": null,
      "id": "4012e871",
      "metadata": {
        "colab": {
          "base_uri": "https://localhost:8080/"
        },
        "id": "4012e871",
        "outputId": "eb576592-04f7-47b3-ca7e-c35877cd9585"
      },
      "outputs": [
        {
          "output_type": "stream",
          "name": "stdout",
          "text": [
            "{'input_ids': tensor([[   47,  9314,  8245,    37,     0, 59513, 59513, 59513, 59513, 59513,\n",
            "         59513, 59513, 59513],\n",
            "        [21364, 38007,    37,  3689,    30, 36712,     9,     2,   533,  7770,\n",
            "            10, 21821,     0],\n",
            "        [41704,     0, 59513, 59513, 59513, 59513, 59513, 59513, 59513, 59513,\n",
            "         59513, 59513, 59513]]), 'attention_mask': tensor([[1, 1, 1, 1, 1, 0, 0, 0, 0, 0, 0, 0, 0],\n",
            "        [1, 1, 1, 1, 1, 1, 1, 1, 1, 1, 1, 1, 1],\n",
            "        [1, 1, 0, 0, 0, 0, 0, 0, 0, 0, 0, 0, 0]]), 'labels': tensor([[41612,   402, 38492,     0,  -100,  -100,  -100,  -100,  -100,  -100,\n",
            "          -100,  -100,  -100,  -100,  -100,  -100,  -100,  -100,  -100,  -100],\n",
            "        [  304,   162,   501,  4517,   402, 38492, 14781,     5,    14,     6,\n",
            "          1420,    13, 29719,     9,     2, 12782,    11, 18769,     9,     0],\n",
            "        [12323,     0,  -100,  -100,  -100,  -100,  -100,  -100,  -100,  -100,\n",
            "          -100,  -100,  -100,  -100,  -100,  -100,  -100,  -100,  -100,  -100]]), 'decoder_input_ids': tensor([[59513, 41612,   402, 38492,     0, 59513, 59513, 59513, 59513, 59513,\n",
            "         59513, 59513, 59513, 59513, 59513, 59513, 59513, 59513, 59513, 59513],\n",
            "        [59513,   304,   162,   501,  4517,   402, 38492, 14781,     5,    14,\n",
            "             6,  1420,    13, 29719,     9,     2, 12782,    11, 18769,     9],\n",
            "        [59513, 12323,     0, 59513, 59513, 59513, 59513, 59513, 59513, 59513,\n",
            "         59513, 59513, 59513, 59513, 59513, 59513, 59513, 59513, 59513, 59513]])}\n"
          ]
        }
      ],
      "source": [
        "print(model_input)\n"
      ]
    },
    {
      "cell_type": "markdown",
      "id": "2da67b27",
      "metadata": {
        "id": "2da67b27",
        "outputId": "3eb487cc-3615-4bcf-a037-02c8dcbb64d7"
      },
      "source": [
        "<font color='indianred'>• **Note that 59513 is both the start token and pad token for the decoder input ids**</font>\n",
        "\n",
        "<font color='indianred'>•  **Also note that decoder input ids are shifted version of the labels**\n"
      ]
    },
    {
      "cell_type": "code",
      "execution_count": null,
      "id": "14b579f8",
      "metadata": {
        "colab": {
          "base_uri": "https://localhost:8080/"
        },
        "id": "14b579f8",
        "outputId": "b878ea87-96be-4dfc-c423-5cb7ad75c7fe"
      },
      "outputs": [
        {
          "output_type": "stream",
          "name": "stdout",
          "text": [
            "tensor([59513, 41612,   402, 38492,     0, 59513, 59513, 59513, 59513, 59513])\n",
            "tensor([41612,   402, 38492,     0,  -100,  -100,  -100,  -100,  -100,  -100])\n"
          ]
        }
      ],
      "source": [
        "print(model_input.decoder_input_ids[0][0:10])\n",
        "print(model_input.labels[0][0:10])"
      ]
    },
    {
      "cell_type": "code",
      "execution_count": null,
      "id": "d4e58db3",
      "metadata": {
        "id": "d4e58db3",
        "outputId": "444892a3-af5b-4745-df3c-027467aed090",
        "colab": {
          "base_uri": "https://localhost:8080/"
        }
      },
      "outputs": [
        {
          "output_type": "stream",
          "name": "stdout",
          "text": [
            "tensor([59513, 41612,   402, 38492,     0, 59513, 59513, 59513, 59513, 59513,\n",
            "        59513, 59513, 59513, 59513, 59513, 59513, 59513, 59513, 59513, 59513])\n",
            "tensor([41612,   402, 38492,     0,  -100,  -100,  -100,  -100,  -100,  -100,\n",
            "         -100,  -100,  -100,  -100,  -100,  -100,  -100,  -100,  -100,  -100])\n"
          ]
        }
      ],
      "source": [
        "print(model_input.decoder_input_ids[0][-20:])\n",
        "print(model_input.labels[0][-20:])\n"
      ]
    },
    {
      "cell_type": "code",
      "execution_count": null,
      "id": "0012a6f8",
      "metadata": {
        "id": "0012a6f8",
        "outputId": "635f2af6-743f-42a1-9476-36dc26d48431",
        "colab": {
          "base_uri": "https://localhost:8080/"
        }
      },
      "outputs": [
        {
          "output_type": "stream",
          "name": "stdout",
          "text": [
            "tensor([59513,   304,   162,   501,  4517,   402, 38492, 14781,     5,    14])\n",
            "tensor([  304,   162,   501,  4517,   402, 38492, 14781,     5,    14,     6])\n"
          ]
        }
      ],
      "source": [
        "print(model_input.decoder_input_ids[1][0:10])\n",
        "print(model_input.labels[1][0:10])\n"
      ]
    },
    {
      "cell_type": "code",
      "execution_count": null,
      "id": "c06ded32",
      "metadata": {
        "id": "c06ded32",
        "outputId": "2238dfc3-9279-408c-a2be-0ae0d1ee8281",
        "colab": {
          "base_uri": "https://localhost:8080/"
        }
      },
      "outputs": [
        {
          "output_type": "stream",
          "name": "stdout",
          "text": [
            "tensor([59513,   304,   162,   501,  4517,   402, 38492, 14781,     5,    14,\n",
            "            6,  1420,    13, 29719,     9,     2, 12782,    11, 18769,     9])\n",
            "tensor([  304,   162,   501,  4517,   402, 38492, 14781,     5,    14,     6,\n",
            "         1420,    13, 29719,     9,     2, 12782,    11, 18769,     9,     0])\n"
          ]
        }
      ],
      "source": [
        "print(model_input.decoder_input_ids[1][-20:])\n",
        "print(model_input.labels[1][-20:])\n"
      ]
    },
    {
      "cell_type": "code",
      "execution_count": null,
      "id": "7933bb1e",
      "metadata": {
        "colab": {
          "base_uri": "https://localhost:8080/"
        },
        "id": "7933bb1e",
        "outputId": "66ff9e49-7da9-4632-b8f6-7b01543ce3b9"
      },
      "outputs": [
        {
          "output_type": "stream",
          "name": "stdout",
          "text": [
            "['<pad>', '▁Identifiant', '▁&', '▁#160;:', '</s>', '<pad>', '<pad>', '<pad>', '<pad>', '<pad>']\n",
            "['▁Identifiant', '▁&', '▁#160;:', '</s>', '<unk>', '<unk>', '<unk>', '<unk>', '<unk>', '<unk>']\n"
          ]
        }
      ],
      "source": [
        "print(tokenizer.convert_ids_to_tokens(model_input.decoder_input_ids[0][0:10]))\n",
        "print(tokenizer.convert_ids_to_tokens(model_input.labels[0][0:10]))\n"
      ]
    },
    {
      "cell_type": "code",
      "execution_count": null,
      "id": "4024e4ab",
      "metadata": {
        "colab": {
          "base_uri": "https://localhost:8080/"
        },
        "id": "4024e4ab",
        "outputId": "fe2ee155-5cf0-4e1e-f671-43174a0e3429"
      },
      "outputs": [
        {
          "output_type": "stream",
          "name": "stdout",
          "text": [
            "['<pad>', '▁Identifiant', '▁&', '▁#160;:', '</s>', '<pad>', '<pad>', '<pad>', '<pad>', '<pad>', '<pad>', '<pad>', '<pad>', '<pad>', '<pad>', '<pad>', '<pad>', '<pad>', '<pad>', '<pad>']\n",
            "['▁Identifiant', '▁&', '▁#160;:', '</s>', '<unk>', '<unk>', '<unk>', '<unk>', '<unk>', '<unk>', '<unk>', '<unk>', '<unk>', '<unk>', '<unk>', '<unk>', '<unk>', '<unk>', '<unk>', '<unk>']\n"
          ]
        }
      ],
      "source": [
        "print(tokenizer.convert_ids_to_tokens(model_input.decoder_input_ids[0][-20:]))\n",
        "try:\n",
        "    print(tokenizer.convert_ids_to_tokens(model_input.labels[0][-20:]))\n",
        "except:\n",
        "    print(f\"No tokens corresponding to ids\")\n"
      ]
    },
    {
      "cell_type": "markdown",
      "id": "38f6c65d",
      "metadata": {
        "id": "38f6c65d"
      },
      "source": [
        "##  <font color = 'pickle'> **Understanding Model Output**\n"
      ]
    },
    {
      "cell_type": "code",
      "execution_count": null,
      "id": "093f08ea",
      "metadata": {
        "id": "093f08ea"
      },
      "outputs": [],
      "source": [
        "# model output\n",
        "model_output = model(**model_input)\n"
      ]
    },
    {
      "cell_type": "code",
      "execution_count": null,
      "id": "7e79f8e8",
      "metadata": {
        "colab": {
          "base_uri": "https://localhost:8080/"
        },
        "id": "7e79f8e8",
        "outputId": "86dee31e-d564-4024-ff6d-83ec7f3bc7b2"
      },
      "outputs": [
        {
          "output_type": "execute_result",
          "data": {
            "text/plain": [
              "odict_keys(['loss', 'logits', 'encoder_last_hidden_state'])"
            ]
          },
          "metadata": {},
          "execution_count": 68
        }
      ],
      "source": [
        "# keys in model output\n",
        "model_output.keys()\n"
      ]
    },
    {
      "cell_type": "code",
      "execution_count": null,
      "id": "e3cf6a68",
      "metadata": {
        "colab": {
          "base_uri": "https://localhost:8080/"
        },
        "id": "e3cf6a68",
        "outputId": "7dc82e1d-c317-4aa7-9add-8deeb7c882d8"
      },
      "outputs": [
        {
          "output_type": "execute_result",
          "data": {
            "text/plain": [
              "torch.Size([3, 20, 59514])"
            ]
          },
          "metadata": {},
          "execution_count": 69
        }
      ],
      "source": [
        "# let us look at logits\n",
        "model_output.logits.shape"
      ]
    },
    {
      "cell_type": "code",
      "execution_count": null,
      "id": "c3793c33",
      "metadata": {
        "id": "c3793c33"
      },
      "outputs": [],
      "source": [
        "logits = model_output.logits.detach().cpu().numpy()"
      ]
    },
    {
      "cell_type": "code",
      "execution_count": null,
      "id": "81a8329d",
      "metadata": {
        "id": "81a8329d"
      },
      "outputs": [],
      "source": [
        "# Greedy decoding\n",
        "preds = np.argmax(logits, axis = -1)"
      ]
    },
    {
      "cell_type": "code",
      "execution_count": null,
      "id": "6d158bba",
      "metadata": {
        "id": "6d158bba",
        "outputId": "c1af7e81-ce58-4247-e23b-7884bfc8a441",
        "colab": {
          "base_uri": "https://localhost:8080/"
        }
      },
      "outputs": [
        {
          "output_type": "execute_result",
          "data": {
            "text/plain": [
              "(3, 20)"
            ]
          },
          "metadata": {},
          "execution_count": 72
        }
      ],
      "source": [
        "preds.shape"
      ]
    },
    {
      "cell_type": "code",
      "execution_count": null,
      "id": "a95642f7",
      "metadata": {
        "id": "a95642f7",
        "outputId": "d3a492c7-5baf-4bf2-970e-e74c319793ce",
        "colab": {
          "base_uri": "https://localhost:8080/"
        }
      },
      "outputs": [
        {
          "output_type": "execute_result",
          "data": {
            "text/plain": [
              "array([[16235,    37, 38492,     0,     0,     0,     0,     0,     0,\n",
              "           47,    47,    47,    47,    47,    47,    47,    47,    47,\n",
              "           47,    47],\n",
              "       [  304,   162,   501,  4517,    78, 38492,   498,    36,    14,\n",
              "            6, 41599,    13, 29719,     9,     2, 12782,    11, 18769,\n",
              "            9,     0],\n",
              "       [12323,     0,     0,     0,     0,     0, 12323, 12323, 12323,\n",
              "        12323, 12323, 12323, 12323, 12323, 12323, 12323, 12323, 12323,\n",
              "        12323, 12323]])"
            ]
          },
          "metadata": {},
          "execution_count": 73
        }
      ],
      "source": [
        "preds"
      ]
    },
    {
      "cell_type": "code",
      "execution_count": null,
      "id": "ed922a93",
      "metadata": {
        "colab": {
          "base_uri": "https://localhost:8080/",
          "height": 35
        },
        "id": "ed922a93",
        "outputId": "30554da7-8305-4fd1-9d88-1ec03052459c"
      },
      "outputs": [
        {
          "output_type": "execute_result",
          "data": {
            "text/plain": [
              "'Identification: #160;:</s> </s> </s> </s> </s> </s> I I I I I I I I I I I'"
            ],
            "application/vnd.google.colaboratory.intrinsic+json": {
              "type": "string"
            }
          },
          "metadata": {},
          "execution_count": 74
        }
      ],
      "source": [
        "tokenizer.convert_tokens_to_string(tokenizer.convert_ids_to_tokens(preds[0]))"
      ]
    },
    {
      "cell_type": "code",
      "execution_count": null,
      "id": "f5cbece9",
      "metadata": {
        "id": "f5cbece9"
      },
      "outputs": [],
      "source": [
        "def get_label_strings(labels):\n",
        "    return tokenizer.convert_tokens_to_string(tokenizer.convert_ids_to_tokens(labels))"
      ]
    },
    {
      "cell_type": "code",
      "execution_count": null,
      "id": "c026e850",
      "metadata": {
        "id": "c026e850"
      },
      "outputs": [],
      "source": [
        "labels = [get_label_strings(label) for label in model_input['labels']]"
      ]
    },
    {
      "cell_type": "code",
      "execution_count": null,
      "id": "d5b03759",
      "metadata": {
        "id": "d5b03759",
        "outputId": "64d770b5-307a-4391-f666-834c07cbd052",
        "colab": {
          "base_uri": "https://localhost:8080/"
        }
      },
      "outputs": [
        {
          "output_type": "execute_result",
          "data": {
            "text/plain": [
              "['Identifiant & #160;:</s> <unk> <unk> <unk> <unk> <unk> <unk> <unk> <unk> <unk> <unk> <unk> <unk> <unk> <unk> <unk> <unk>',\n",
              " \"Fenêtre supérieure & #160;: Vue de l'ensemble des imprimantes, réelles et virtuelles</s>\",\n",
              " 'Aperçu</s> <unk> <unk> <unk> <unk> <unk> <unk> <unk> <unk> <unk> <unk> <unk> <unk> <unk> <unk> <unk> <unk> <unk> <unk>']"
            ]
          },
          "metadata": {},
          "execution_count": 77
        }
      ],
      "source": [
        "labels"
      ]
    },
    {
      "cell_type": "code",
      "execution_count": null,
      "id": "20ea5a26",
      "metadata": {
        "id": "20ea5a26",
        "outputId": "c3460373-71ad-4b2a-c4f2-dd05d00062dd",
        "colab": {
          "base_uri": "https://localhost:8080/"
        }
      },
      "outputs": [
        {
          "output_type": "execute_result",
          "data": {
            "text/plain": [
              "['Identification: #160;:</s> </s> </s> </s> </s> </s> I I I I I I I I I I I',\n",
              " \"Fenêtre supérieure : #160;: vue sur l'imprimante des imprimantes, réelles et virtuelles</s>\",\n",
              " 'Aperçu</s> </s> </s> </s> </s> Aperçu Aperçu Aperçu Aperçu Aperçu Aperçu Aperçu Aperçu Aperçu Aperçu Aperçu Aperçu Aperçu Aperçu']"
            ]
          },
          "metadata": {},
          "execution_count": 78
        }
      ],
      "source": [
        "preds = [ get_label_strings(pred) for pred in preds]\n",
        "preds"
      ]
    },
    {
      "cell_type": "code",
      "execution_count": null,
      "id": "b64b8e7e",
      "metadata": {
        "id": "b64b8e7e",
        "outputId": "d355f14a-61e0-4566-dc94-858db9c3948b",
        "colab": {
          "base_uri": "https://localhost:8080/"
        }
      },
      "outputs": [
        {
          "output_type": "execute_result",
          "data": {
            "text/plain": [
              "['Identification: #160;:</s>',\n",
              " \"Fenêtre supérieure : #160;: vue sur l'imprimante des imprimantes, réelles et virtuelles</s>\",\n",
              " 'Aperçu</s>']"
            ]
          },
          "metadata": {},
          "execution_count": 79
        }
      ],
      "source": [
        "final_string_preds=[]\n",
        "for example in preds:\n",
        "    string_preds =[]\n",
        "    for s in example.split():\n",
        "        string_preds.append(s)\n",
        "        if '</s>' in s:\n",
        "            break\n",
        "    final_string_preds.append(' '.join(string_preds))\n",
        "\n",
        "final_string_preds"
      ]
    },
    {
      "cell_type": "code",
      "execution_count": null,
      "id": "a88dcd36",
      "metadata": {
        "id": "a88dcd36"
      },
      "outputs": [],
      "source": [
        "# generate prediction from logits using beam search\n",
        "generated_predictions = model.generate(\n",
        "    **model_input, generation_config=generation_config, max_length=128\n",
        ")\n"
      ]
    },
    {
      "cell_type": "code",
      "execution_count": null,
      "id": "a607ec29",
      "metadata": {
        "colab": {
          "base_uri": "https://localhost:8080/"
        },
        "id": "a607ec29",
        "outputId": "31dadff6-ebb9-438e-9720-b0187b31e1b7"
      },
      "outputs": [
        {
          "output_type": "execute_result",
          "data": {
            "text/plain": [
              "torch.Size([3, 25])"
            ]
          },
          "metadata": {},
          "execution_count": 81
        }
      ],
      "source": [
        "generated_predictions.shape\n"
      ]
    },
    {
      "cell_type": "code",
      "execution_count": null,
      "id": "1677a41d",
      "metadata": {
        "colab": {
          "base_uri": "https://localhost:8080/"
        },
        "id": "1677a41d",
        "outputId": "62896749-b320-4ebd-9e46-eb27fdd8fb15"
      },
      "outputs": [
        {
          "output_type": "execute_result",
          "data": {
            "text/plain": [
              "tensor([[59513, 41612,   402, 38492,     0, 59513, 59513, 59513, 59513, 59513,\n",
              "         59513, 59513, 59513, 59513, 59513, 59513, 59513, 59513, 59513, 59513,\n",
              "            47,  9314, 18458,    37,     0],\n",
              "        [59513,   304,   162,   501,  4517,   402, 38492, 14781,     5,    14,\n",
              "             6,  1420,    13, 29719,     9,     2, 12782,    11, 18769,     9,\n",
              "             0, 59513, 59513, 59513, 59513],\n",
              "        [59513, 12323,     0, 59513, 59513, 59513, 59513, 59513, 59513, 59513,\n",
              "         59513, 59513, 59513, 59513, 59513, 59513, 59513, 59513, 59513, 59513,\n",
              "         12323,     0, 59513, 59513, 59513]])"
            ]
          },
          "metadata": {},
          "execution_count": 82
        }
      ],
      "source": [
        "generated_predictions\n"
      ]
    },
    {
      "cell_type": "code",
      "execution_count": null,
      "id": "65fb3f53",
      "metadata": {
        "colab": {
          "base_uri": "https://localhost:8080/"
        },
        "id": "65fb3f53",
        "outputId": "05da2cd3-8846-4805-e59d-e35d97ca5ef2"
      },
      "outputs": [
        {
          "output_type": "execute_result",
          "data": {
            "text/plain": [
              "torch.Size([3, 25])"
            ]
          },
          "metadata": {},
          "execution_count": 83
        }
      ],
      "source": [
        "generated_predictions.shape\n"
      ]
    },
    {
      "cell_type": "code",
      "execution_count": null,
      "id": "3f23fc2a",
      "metadata": {
        "colab": {
          "base_uri": "https://localhost:8080/"
        },
        "id": "3f23fc2a",
        "outputId": "797d2891-0a7d-4032-8f75-ed41a04930ef"
      },
      "outputs": [
        {
          "output_type": "stream",
          "name": "stdout",
          "text": [
            "['<pad>', '▁Identifiant', '▁&', '▁#160;:', '</s>', '<pad>', '<pad>', '<pad>', '<pad>', '<pad>', '<pad>', '<pad>', '<pad>', '<pad>', '<pad>', '<pad>', '<pad>', '<pad>', '<pad>', '<pad>', '▁I', 'dent', 'ificateur', ':', '</s>']\n"
          ]
        }
      ],
      "source": [
        "tokens = tokenizer.convert_ids_to_tokens(generated_predictions[0])\n",
        "print(tokens)\n"
      ]
    },
    {
      "cell_type": "code",
      "execution_count": null,
      "id": "43c50244",
      "metadata": {
        "colab": {
          "base_uri": "https://localhost:8080/"
        },
        "id": "43c50244",
        "outputId": "c84d4b60-3748-4e63-9253-4d6296888807"
      },
      "outputs": [
        {
          "output_type": "stream",
          "name": "stdout",
          "text": [
            "<pad> Identifiant & #160;:</s> <pad> <pad> <pad> <pad> <pad> <pad> <pad> <pad> <pad> <pad> <pad> <pad> <pad> <pad> <pad> Identificateur:</s>\n"
          ]
        }
      ],
      "source": [
        "translation = tokenizer.convert_tokens_to_string(tokens)\n",
        "print(translation)\n"
      ]
    },
    {
      "cell_type": "code",
      "execution_count": null,
      "id": "2fbd60b6",
      "metadata": {
        "colab": {
          "base_uri": "https://localhost:8080/",
          "height": 35
        },
        "id": "2fbd60b6",
        "outputId": "9d273f25-520a-4c50-9135-419625e0dfee"
      },
      "outputs": [
        {
          "output_type": "execute_result",
          "data": {
            "text/plain": [
              "\"<pad> Fenêtre supérieure & #160;: Vue de l'ensemble des imprimantes, réelles et virtuelles</s> <pad> <pad> <pad> <pad>\""
            ],
            "application/vnd.google.colaboratory.intrinsic+json": {
              "type": "string"
            }
          },
          "metadata": {},
          "execution_count": 86
        }
      ],
      "source": [
        "tokenizer.decode(generated_predictions[1])\n"
      ]
    },
    {
      "cell_type": "code",
      "execution_count": null,
      "id": "a1e1df59",
      "metadata": {
        "id": "a1e1df59",
        "outputId": "fcb623f5-416d-43bb-84d9-bf60be75c261",
        "colab": {
          "base_uri": "https://localhost:8080/",
          "height": 35
        }
      },
      "outputs": [
        {
          "output_type": "execute_result",
          "data": {
            "text/plain": [
              "\"Fenêtre supérieure & #160;: Vue de l'ensemble des imprimantes, réelles et virtuelles\""
            ],
            "application/vnd.google.colaboratory.intrinsic+json": {
              "type": "string"
            }
          },
          "metadata": {},
          "execution_count": 87
        }
      ],
      "source": [
        "tokenizer.decode(generated_predictions[1], skip_special_tokens=True)\n"
      ]
    },
    {
      "cell_type": "code",
      "execution_count": null,
      "id": "7b54eec5",
      "metadata": {
        "colab": {
          "base_uri": "https://localhost:8080/"
        },
        "id": "7b54eec5",
        "outputId": "51815b3e-5fd8-4e45-8a4a-704518b802bb"
      },
      "outputs": [
        {
          "output_type": "execute_result",
          "data": {
            "text/plain": [
              "['<pad> Identifiant & #160;:</s> <pad> <pad> <pad> <pad> <pad> <pad> <pad> <pad> <pad> <pad> <pad> <pad> <pad> <pad> <pad> Identificateur:</s>',\n",
              " \"<pad> Fenêtre supérieure & #160;: Vue de l'ensemble des imprimantes, réelles et virtuelles</s> <pad> <pad> <pad> <pad>\",\n",
              " '<pad> Aperçu</s> <pad> <pad> <pad> <pad> <pad> <pad> <pad> <pad> <pad> <pad> <pad> <pad> <pad> <pad> <pad> <pad> <pad> Aperçu</s> <pad> <pad> <pad>']"
            ]
          },
          "metadata": {},
          "execution_count": 88
        }
      ],
      "source": [
        "# decode tokens to generate translation\n",
        "tokenizer.batch_decode(generated_predictions)\n"
      ]
    },
    {
      "cell_type": "code",
      "execution_count": null,
      "id": "426a4587",
      "metadata": {
        "colab": {
          "base_uri": "https://localhost:8080/"
        },
        "id": "426a4587",
        "outputId": "c40b0b97-98a5-4564-8509-99331e75d408"
      },
      "outputs": [
        {
          "output_type": "execute_result",
          "data": {
            "text/plain": [
              "['Identifiant & #160;: Identificateur:',\n",
              " \"Fenêtre supérieure & #160;: Vue de l'ensemble des imprimantes, réelles et virtuelles\",\n",
              " 'Aperçu Aperçu']"
            ]
          },
          "metadata": {},
          "execution_count": 89
        }
      ],
      "source": [
        "# decode tokens to generate summary\n",
        "tokenizer.batch_decode(generated_predictions, skip_special_tokens=True)\n"
      ]
    },
    {
      "cell_type": "markdown",
      "id": "bdb8d2df",
      "metadata": {
        "id": "bdb8d2df"
      },
      "source": [
        "##  <font color = 'pickle'> **Evaluation metric(s)** </font>"
      ]
    },
    {
      "cell_type": "markdown",
      "id": "ff01f0d5",
      "metadata": {
        "id": "ff01f0d5"
      },
      "source": [
        "### <font color = 'pickle'> **Function to compute metric** </font>\n"
      ]
    },
    {
      "cell_type": "code",
      "source": [
        "!pip install sacrebleu\n"
      ],
      "metadata": {
        "id": "nd-PrrenoZmE",
        "colab": {
          "base_uri": "https://localhost:8080/"
        },
        "outputId": "03f670c4-6b44-4100-9a0a-6c33eab10868"
      },
      "id": "nd-PrrenoZmE",
      "execution_count": null,
      "outputs": [
        {
          "output_type": "stream",
          "name": "stdout",
          "text": [
            "Collecting sacrebleu\n",
            "  Downloading sacrebleu-2.3.1-py3-none-any.whl (118 kB)\n",
            "\u001b[2K     \u001b[90m━━━━━━━━━━━━━━━━━━━━━━━━━━━━━━━━━━━━━━━━\u001b[0m \u001b[32m118.9/118.9 kB\u001b[0m \u001b[31m2.2 MB/s\u001b[0m eta \u001b[36m0:00:00\u001b[0m\n",
            "\u001b[?25hCollecting portalocker (from sacrebleu)\n",
            "  Downloading portalocker-2.8.2-py3-none-any.whl (17 kB)\n",
            "Requirement already satisfied: regex in /usr/local/lib/python3.10/dist-packages (from sacrebleu) (2023.6.3)\n",
            "Requirement already satisfied: tabulate>=0.8.9 in /usr/local/lib/python3.10/dist-packages (from sacrebleu) (0.9.0)\n",
            "Requirement already satisfied: numpy>=1.17 in /usr/local/lib/python3.10/dist-packages (from sacrebleu) (1.23.5)\n",
            "Collecting colorama (from sacrebleu)\n",
            "  Downloading colorama-0.4.6-py2.py3-none-any.whl (25 kB)\n",
            "Requirement already satisfied: lxml in /usr/local/lib/python3.10/dist-packages (from sacrebleu) (4.9.3)\n",
            "Installing collected packages: portalocker, colorama, sacrebleu\n",
            "Successfully installed colorama-0.4.6 portalocker-2.8.2 sacrebleu-2.3.1\n"
          ]
        }
      ]
    },
    {
      "cell_type": "code",
      "source": [
        "!pip install bert_score"
      ],
      "metadata": {
        "colab": {
          "base_uri": "https://localhost:8080/"
        },
        "id": "WXILTD-i0p0w",
        "outputId": "4da0e603-c9b7-4b4c-bdf4-d0c5e97698ee"
      },
      "id": "WXILTD-i0p0w",
      "execution_count": null,
      "outputs": [
        {
          "output_type": "stream",
          "name": "stdout",
          "text": [
            "Collecting bert_score\n",
            "  Downloading bert_score-0.3.13-py3-none-any.whl (61 kB)\n",
            "\u001b[2K     \u001b[90m━━━━━━━━━━━━━━━━━━━━━━━━━━━━━━━━━━━━━━━━\u001b[0m \u001b[32m61.1/61.1 kB\u001b[0m \u001b[31m1.4 MB/s\u001b[0m eta \u001b[36m0:00:00\u001b[0m\n",
            "\u001b[?25hRequirement already satisfied: torch>=1.0.0 in /usr/local/lib/python3.10/dist-packages (from bert_score) (2.1.0+cu118)\n",
            "Requirement already satisfied: pandas>=1.0.1 in /usr/local/lib/python3.10/dist-packages (from bert_score) (1.5.3)\n",
            "Requirement already satisfied: transformers>=3.0.0 in /usr/local/lib/python3.10/dist-packages (from bert_score) (4.34.1)\n",
            "Requirement already satisfied: numpy in /usr/local/lib/python3.10/dist-packages (from bert_score) (1.23.5)\n",
            "Requirement already satisfied: requests in /usr/local/lib/python3.10/dist-packages (from bert_score) (2.31.0)\n",
            "Requirement already satisfied: tqdm>=4.31.1 in /usr/local/lib/python3.10/dist-packages (from bert_score) (4.66.1)\n",
            "Requirement already satisfied: matplotlib in /usr/local/lib/python3.10/dist-packages (from bert_score) (3.7.1)\n",
            "Requirement already satisfied: packaging>=20.9 in /usr/local/lib/python3.10/dist-packages (from bert_score) (23.2)\n",
            "Requirement already satisfied: python-dateutil>=2.8.1 in /usr/local/lib/python3.10/dist-packages (from pandas>=1.0.1->bert_score) (2.8.2)\n",
            "Requirement already satisfied: pytz>=2020.1 in /usr/local/lib/python3.10/dist-packages (from pandas>=1.0.1->bert_score) (2023.3.post1)\n",
            "Requirement already satisfied: filelock in /usr/local/lib/python3.10/dist-packages (from torch>=1.0.0->bert_score) (3.12.4)\n",
            "Requirement already satisfied: typing-extensions in /usr/local/lib/python3.10/dist-packages (from torch>=1.0.0->bert_score) (4.5.0)\n",
            "Requirement already satisfied: sympy in /usr/local/lib/python3.10/dist-packages (from torch>=1.0.0->bert_score) (1.12)\n",
            "Requirement already satisfied: networkx in /usr/local/lib/python3.10/dist-packages (from torch>=1.0.0->bert_score) (3.2)\n",
            "Requirement already satisfied: jinja2 in /usr/local/lib/python3.10/dist-packages (from torch>=1.0.0->bert_score) (3.1.2)\n",
            "Requirement already satisfied: fsspec in /usr/local/lib/python3.10/dist-packages (from torch>=1.0.0->bert_score) (2023.6.0)\n",
            "Requirement already satisfied: triton==2.1.0 in /usr/local/lib/python3.10/dist-packages (from torch>=1.0.0->bert_score) (2.1.0)\n",
            "Requirement already satisfied: huggingface-hub<1.0,>=0.16.4 in /usr/local/lib/python3.10/dist-packages (from transformers>=3.0.0->bert_score) (0.17.3)\n",
            "Requirement already satisfied: pyyaml>=5.1 in /usr/local/lib/python3.10/dist-packages (from transformers>=3.0.0->bert_score) (6.0.1)\n",
            "Requirement already satisfied: regex!=2019.12.17 in /usr/local/lib/python3.10/dist-packages (from transformers>=3.0.0->bert_score) (2023.6.3)\n",
            "Requirement already satisfied: tokenizers<0.15,>=0.14 in /usr/local/lib/python3.10/dist-packages (from transformers>=3.0.0->bert_score) (0.14.1)\n",
            "Requirement already satisfied: safetensors>=0.3.1 in /usr/local/lib/python3.10/dist-packages (from transformers>=3.0.0->bert_score) (0.4.0)\n",
            "Requirement already satisfied: contourpy>=1.0.1 in /usr/local/lib/python3.10/dist-packages (from matplotlib->bert_score) (1.1.1)\n",
            "Requirement already satisfied: cycler>=0.10 in /usr/local/lib/python3.10/dist-packages (from matplotlib->bert_score) (0.12.1)\n",
            "Requirement already satisfied: fonttools>=4.22.0 in /usr/local/lib/python3.10/dist-packages (from matplotlib->bert_score) (4.43.1)\n",
            "Requirement already satisfied: kiwisolver>=1.0.1 in /usr/local/lib/python3.10/dist-packages (from matplotlib->bert_score) (1.4.5)\n",
            "Requirement already satisfied: pillow>=6.2.0 in /usr/local/lib/python3.10/dist-packages (from matplotlib->bert_score) (9.4.0)\n",
            "Requirement already satisfied: pyparsing>=2.3.1 in /usr/local/lib/python3.10/dist-packages (from matplotlib->bert_score) (3.1.1)\n",
            "Requirement already satisfied: charset-normalizer<4,>=2 in /usr/local/lib/python3.10/dist-packages (from requests->bert_score) (3.3.1)\n",
            "Requirement already satisfied: idna<4,>=2.5 in /usr/local/lib/python3.10/dist-packages (from requests->bert_score) (3.4)\n",
            "Requirement already satisfied: urllib3<3,>=1.21.1 in /usr/local/lib/python3.10/dist-packages (from requests->bert_score) (2.0.7)\n",
            "Requirement already satisfied: certifi>=2017.4.17 in /usr/local/lib/python3.10/dist-packages (from requests->bert_score) (2023.7.22)\n",
            "Requirement already satisfied: six>=1.5 in /usr/local/lib/python3.10/dist-packages (from python-dateutil>=2.8.1->pandas>=1.0.1->bert_score) (1.16.0)\n",
            "Requirement already satisfied: MarkupSafe>=2.0 in /usr/local/lib/python3.10/dist-packages (from jinja2->torch>=1.0.0->bert_score) (2.1.3)\n",
            "Requirement already satisfied: mpmath>=0.19 in /usr/local/lib/python3.10/dist-packages (from sympy->torch>=1.0.0->bert_score) (1.3.0)\n",
            "Installing collected packages: bert_score\n",
            "Successfully installed bert_score-0.3.13\n"
          ]
        }
      ]
    },
    {
      "cell_type": "code",
      "execution_count": null,
      "id": "7137a9d8",
      "metadata": {
        "id": "7137a9d8",
        "colab": {
          "base_uri": "https://localhost:8080/",
          "height": 49,
          "referenced_widgets": [
            "3986cf20932d48daa7f5b0aef159a2d2",
            "5ecf007b73154618a199f083a6451242",
            "d7bcc3d6f03e45ec9092671e82e44038",
            "4c571fe1f91d44a6a54b0f6a3469cc00",
            "3bb373c8b3c4452e85ded2dd82457d7e",
            "ba03cc04d3bf49fabff53c30d5afa3db",
            "b4472d71c4be4dc1b7e9d87e6d873627",
            "de09e97bd9204c4a84d4e7cc3acf1576",
            "8a422abefa39486ab3e5f517acdbd271",
            "0e0e3e02b3b34a238a9153f42681a13f",
            "e3138c41c4544f7f87022d18e88622f2"
          ]
        },
        "outputId": "5a6d97fe-8db5-4c0d-c78c-918b89a0d299"
      },
      "outputs": [
        {
          "output_type": "display_data",
          "data": {
            "text/plain": [
              "Downloading builder script:   0%|          | 0.00/7.95k [00:00<?, ?B/s]"
            ],
            "application/vnd.jupyter.widget-view+json": {
              "version_major": 2,
              "version_minor": 0,
              "model_id": "3986cf20932d48daa7f5b0aef159a2d2"
            }
          },
          "metadata": {}
        }
      ],
      "source": [
        "bleu_metric = evaluate.load(\"sacrebleu\")\n",
        "bert_metric = evaluate.load('bertscore')\n",
        "\n",
        "def compute_metrics(preds_and_labels):\n",
        "\n",
        "    preds, labels = preds_and_labels\n",
        "\n",
        "    # convert predictions into words\n",
        "    decoded_preds = tokenizer.batch_decode(preds, skip_special_tokens=True)\n",
        "\n",
        "    # for any -100 label, replace with pad token id\n",
        "    labels = np.where( labels != -100, labels, tokenizer.pad_token_id )\n",
        "\n",
        "    # convert labels into words\n",
        "    decoded_labels = tokenizer.batch_decode(labels, skip_special_tokens= True)\n",
        "\n",
        "    # get rid of extra whitespace\n",
        "    # and also, put targets into lists\n",
        "\n",
        "    decoded_preds_cleaned = [pred.strip() for pred in decoded_preds]\n",
        "    decoded_labels_cleaned = [label.strip() for label in decoded_labels]\n",
        "\n",
        "    bleu_score = bleu_metric.compute(predictions=decoded_preds_cleaned, references=decoded_labels_cleaned)\n",
        "    bert_score = bert_metric.compute(predictions=decoded_preds_cleaned, references=decoded_labels_cleaned, lang='fr')\n",
        "\n",
        "    return{'bleu_score:': bleu_score['score'], 'bert_score': np.mean(bert_score['f1'])}"
      ]
    },
    {
      "cell_type": "markdown",
      "id": "21bffd36",
      "metadata": {
        "id": "21bffd36"
      },
      "source": [
        "## <font color = 'pickle'> **Set up Logger for experiments**</font>\n"
      ]
    },
    {
      "cell_type": "code",
      "execution_count": null,
      "id": "40f5928c",
      "metadata": {
        "colab": {
          "base_uri": "https://localhost:8080/",
          "height": 69
        },
        "id": "40f5928c",
        "outputId": "6d3bb53d-4594-4870-816c-05490af1d635"
      },
      "outputs": [
        {
          "output_type": "display_data",
          "data": {
            "text/plain": [
              "<IPython.core.display.Javascript object>"
            ],
            "application/javascript": [
              "\n",
              "        window._wandbApiKey = new Promise((resolve, reject) => {\n",
              "            function loadScript(url) {\n",
              "            return new Promise(function(resolve, reject) {\n",
              "                let newScript = document.createElement(\"script\");\n",
              "                newScript.onerror = reject;\n",
              "                newScript.onload = resolve;\n",
              "                document.body.appendChild(newScript);\n",
              "                newScript.src = url;\n",
              "            });\n",
              "            }\n",
              "            loadScript(\"https://cdn.jsdelivr.net/npm/postmate/build/postmate.min.js\").then(() => {\n",
              "            const iframe = document.createElement('iframe')\n",
              "            iframe.style.cssText = \"width:0;height:0;border:none\"\n",
              "            document.body.appendChild(iframe)\n",
              "            const handshake = new Postmate({\n",
              "                container: iframe,\n",
              "                url: 'https://wandb.ai/authorize'\n",
              "            });\n",
              "            const timeout = setTimeout(() => reject(\"Couldn't auto authenticate\"), 5000)\n",
              "            handshake.then(function(child) {\n",
              "                child.on('authorize', data => {\n",
              "                    clearTimeout(timeout)\n",
              "                    resolve(data)\n",
              "                });\n",
              "            });\n",
              "            })\n",
              "        });\n",
              "    "
            ]
          },
          "metadata": {}
        },
        {
          "output_type": "stream",
          "name": "stderr",
          "text": [
            "\u001b[34m\u001b[1mwandb\u001b[0m: Appending key for api.wandb.ai to your netrc file: /root/.netrc\n"
          ]
        },
        {
          "output_type": "stream",
          "name": "stdout",
          "text": [
            "env: WANDB_PROJECT=nlp_course_fall_2023-translation\n"
          ]
        }
      ],
      "source": [
        "wandb.login()\n",
        "# Set project name for logging\n",
        "%env WANDB_PROJECT = nlp_course_fall_2023-translation\n"
      ]
    },
    {
      "cell_type": "markdown",
      "id": "Jwwp80UgmLjr",
      "metadata": {
        "id": "Jwwp80UgmLjr"
      },
      "source": [
        "## <font color = 'pickle'> **Hyperparameters and Checkpointing**</font>"
      ]
    },
    {
      "cell_type": "code",
      "execution_count": null,
      "id": "hIXDbzK8O4x9",
      "metadata": {
        "id": "hIXDbzK8O4x9"
      },
      "outputs": [],
      "source": [
        "from transformers import Seq2SeqTrainingArguments\n",
        "\n",
        "# Define the directory where model checkpoints will be saved\n",
        "model_folder = base_folder / \"models\" / \"nlp_fall_2023/kde4/opus-mt-en-fr\"\n",
        "\n",
        "# Create the directory if it doesn't exist\n",
        "model_folder.mkdir(exist_ok=True, parents=True)\n",
        "\n",
        "# Configure training parameters\n",
        "training_args = Seq2SeqTrainingArguments(\n",
        "    # Training-specific configurations\n",
        "    num_train_epochs=1,  # Total number of training epochs\n",
        "    weight_decay=0.01,  # Apply L2 regularization to prevent overfitting\n",
        "    learning_rate=5e-5,  # Step size for the optimizer during training\n",
        "    optim=\"adamw_torch\",  # Optimizer,\n",
        "    warmup_steps=10,\n",
        "    predict_with_generate=True,\n",
        "    generation_config=generation_config,\n",
        "    # memory and speed related arguments\n",
        "    # Number of samples per training batch for each device\n",
        "    per_device_train_batch_size=16,\n",
        "    per_device_eval_batch_size=16,  # Number of samples per eval batch for each device\n",
        "\n",
        "    gradient_checkpointing=True,  # memory\n",
        "    # fp16 = True, # Speed\n",
        "    # bf16=True,\n",
        "    # tf32=True, # speed\n",
        "    # evaluation settings\n",
        "    output_dir=str(model_folder),  # Directory to save model checkpoints\n",
        "    evaluation_strategy=\"steps\",  # Evaluate model at specified step intervals\n",
        "    eval_steps=10,  # Perform evaluation every 10 training steps\n",
        "    # Checkpoint settings\n",
        "    save_strategy=\"steps\",  # Save model checkpoint at specified step intervals\n",
        "    save_steps=10,  # Save a model checkpoint every 10 training steps\n",
        "    load_best_model_at_end=True,  # Reload the best model at the end of training\n",
        "    save_total_limit=2,  # Retain only the best and the most recent model checkpoints\n",
        "    # metric_for_best_model=,\n",
        "    # greater_is_better=,\n",
        "    # Experiment logging configurations (commented out in this example)\n",
        "    logging_strategy=\"steps\",\n",
        "    logging_steps=10,\n",
        "    report_to=\"wandb\",  # Log metrics and results to Weights & Biases platform\n",
        "    # Experiment name for Weights & Biases\n",
        "    run_name=\"translation-exp1\",\n",
        ")\n"
      ]
    },
    {
      "cell_type": "markdown",
      "id": "J_hMcxgrFNyT",
      "metadata": {
        "id": "J_hMcxgrFNyT"
      },
      "source": [
        "##  <font color = 'pickle'> **Initialize Trainer**</font>"
      ]
    },
    {
      "cell_type": "code",
      "execution_count": null,
      "id": "syJ7458-On05",
      "metadata": {
        "id": "syJ7458-On05"
      },
      "outputs": [],
      "source": [
        "# initialize trainer\n",
        "trainer = Seq2SeqTrainer(\n",
        "    model=model,\n",
        "    args=training_args,\n",
        "    train_dataset=tokenized_dataset[\"train\"],\n",
        "    eval_dataset=tokenized_dataset[\"val\"],\n",
        "    compute_metrics=compute_metrics,\n",
        "    tokenizer=tokenizer,\n",
        "    data_collator=data_collator,\n",
        ")\n"
      ]
    },
    {
      "cell_type": "markdown",
      "id": "ty027fT4DFGn",
      "metadata": {
        "id": "ty027fT4DFGn"
      },
      "source": [
        "##  <font color = 'pickle'> **Start Training**"
      ]
    },
    {
      "cell_type": "code",
      "execution_count": null,
      "id": "e9f8ba94",
      "metadata": {
        "colab": {
          "base_uri": "https://localhost:8080/"
        },
        "id": "e9f8ba94",
        "outputId": "45f825df-259c-4ebe-f59d-7af2ebafa210"
      },
      "outputs": [
        {
          "output_type": "execute_result",
          "data": {
            "text/plain": [
              "82"
            ]
          },
          "metadata": {},
          "execution_count": 98
        }
      ],
      "source": [
        "import gc\n",
        "import torch\n",
        "torch.cuda.empty_cache()\n",
        "gc.collect()\n"
      ]
    },
    {
      "cell_type": "code",
      "execution_count": null,
      "id": "MHNSotl_CyW7",
      "metadata": {
        "colab": {
          "base_uri": "https://localhost:8080/",
          "height": 843,
          "referenced_widgets": [
            "3de8dd9adcd54256b9c4372a887202d9",
            "033f42993a6145079948993246a4a3fe",
            "a64c7ab4bc97481ca80a2b7cab6c7aee",
            "4e1a11bd1d88438f982e44c731f6630e",
            "99e61db0207d4e009c7e7bc3ed3504d8",
            "4403a98448cc4714a2ff204fcb03b387",
            "ecb70bd0b3424c8aa4607f0d21266972",
            "d72701a6dd9242b89fd44efcf1cb6db6",
            "366afbd664014b1289d35159144c7c57",
            "a413e1a76106460ba5fac20c50a0708f",
            "098f06fd83014a30a7b749af726ecead",
            "684c8def9c544d7eb200918ae8a6392f",
            "2ac464afc1514334ac81a7be8dbe4327",
            "4630310e370f4b728c3b8f08b38fae18",
            "573f45b00adc4983ae9920694b3f1190",
            "3fb3a6cfc3664a2ea1529e86bd87184b",
            "21eec3923def4d2486e9f1ac8a664417",
            "ab092e31ce8347d0aac5d77c88ed9b50",
            "4211e0e83e3d4a99b72ec609478ae8a7",
            "482ab3a584374320a5300430792146c0",
            "1a0bb2ffe0e541329e3a6b67ba426a12",
            "db5fe5540f5f42ee95516e8405d3eacb",
            "3f99477fd2014155919f5f7b172a1289",
            "e6911760bcc94aea9b38d46c7f28bf99",
            "9d1175e0380a48feb1430b912b36e939",
            "3a826d12a98840b2b4ade3df2dce3702",
            "4b75d272c3874a71a5b1269327b12cbb",
            "1097416189b94e978c8eb1cdc7cbd728",
            "59b70726ec6a40f49a15017567dda759",
            "99592696f307402e99988fa4017a9b5e",
            "83174fc7649d4d30b321ad982bcebdeb",
            "1c29bb86bdde40e59cb67741b5b3f568",
            "9e831c64f0da4a0e97ec903b0412cf38",
            "5ed477b1448948e2b40d83dd4e6265d6",
            "63f69fd9aaee4d88acb02b2ac3e06a21",
            "16a68ed3cf3b4cd6841f3bbc2b35bd9e",
            "ff3e08b3da8c493d99b780f019c52c30",
            "b41694e55d4b46d1a7eaf494203307b3",
            "2a70bd972daa428c9df60c1cd3ea3436",
            "77bd13e67a434ba2914e905dc3688568",
            "db5c6aa653cd45c0ac3688539fa17034",
            "1be33f1e37fc40779ba81ba25970cb4b",
            "a07a1656719c43449ee263d2afcbb329",
            "d71fa7d7bcd5400fa23114a156c78064",
            "e8d12b82fdb1439782d48a9efcc74ed3",
            "9831b30142234b92ae62ba014c4a5400",
            "438c0afaf4204f9a98b05c4937b6694b",
            "a2d351e38bc14bd4a551f20c516dd6d1",
            "fb7737f16339472aa28cd4638cca2042",
            "95ce23e35d754a5ca698af5e39161f2a",
            "968741ea0233415a99b8fdf94d6e2a95",
            "6a3b8bd53dc842edb802b9739098dd1b",
            "7cd144d706864daaad949bf1778c3c46",
            "597f4c9a6579422cbc98547cc1b0b580",
            "fde671fedf0a4370acf193e48bf91f69"
          ]
        },
        "id": "MHNSotl_CyW7",
        "outputId": "1806320b-d3cb-4571-a172-3865fcc417e5"
      },
      "outputs": [
        {
          "output_type": "display_data",
          "data": {
            "text/plain": [
              "<IPython.core.display.HTML object>"
            ],
            "text/html": [
              "Changes to your `wandb` environment variables will be ignored because your `wandb` session has already started. For more information on how to modify your settings with `wandb.init()` arguments, please refer to <a href='https://wandb.me/wandb-init' target=\"_blank\">the W&B docs</a>."
            ]
          },
          "metadata": {}
        },
        {
          "output_type": "stream",
          "name": "stderr",
          "text": [
            "\u001b[34m\u001b[1mwandb\u001b[0m: Currently logged in as: \u001b[33manurag96\u001b[0m. Use \u001b[1m`wandb login --relogin`\u001b[0m to force relogin\n"
          ]
        },
        {
          "output_type": "display_data",
          "data": {
            "text/plain": [
              "<IPython.core.display.HTML object>"
            ],
            "text/html": [
              "Tracking run with wandb version 0.15.12"
            ]
          },
          "metadata": {}
        },
        {
          "output_type": "display_data",
          "data": {
            "text/plain": [
              "<IPython.core.display.HTML object>"
            ],
            "text/html": [
              "Run data is saved locally in <code>/content/wandb/run-20231029_050641-yehg8gng</code>"
            ]
          },
          "metadata": {}
        },
        {
          "output_type": "display_data",
          "data": {
            "text/plain": [
              "<IPython.core.display.HTML object>"
            ],
            "text/html": [
              "Syncing run <strong><a href='https://wandb.ai/anurag96/nlp_course_fall_2023-translation/runs/yehg8gng' target=\"_blank\">translation-exp1</a></strong> to <a href='https://wandb.ai/anurag96/nlp_course_fall_2023-translation' target=\"_blank\">Weights & Biases</a> (<a href='https://wandb.me/run' target=\"_blank\">docs</a>)<br/>"
            ]
          },
          "metadata": {}
        },
        {
          "output_type": "display_data",
          "data": {
            "text/plain": [
              "<IPython.core.display.HTML object>"
            ],
            "text/html": [
              " View project at <a href='https://wandb.ai/anurag96/nlp_course_fall_2023-translation' target=\"_blank\">https://wandb.ai/anurag96/nlp_course_fall_2023-translation</a>"
            ]
          },
          "metadata": {}
        },
        {
          "output_type": "display_data",
          "data": {
            "text/plain": [
              "<IPython.core.display.HTML object>"
            ],
            "text/html": [
              " View run at <a href='https://wandb.ai/anurag96/nlp_course_fall_2023-translation/runs/yehg8gng' target=\"_blank\">https://wandb.ai/anurag96/nlp_course_fall_2023-translation/runs/yehg8gng</a>"
            ]
          },
          "metadata": {}
        },
        {
          "output_type": "stream",
          "name": "stderr",
          "text": [
            "/usr/local/lib/python3.10/dist-packages/torch/utils/checkpoint.py:429: UserWarning: torch.utils.checkpoint: please pass in use_reentrant=True or use_reentrant=False explicitly. The default value of use_reentrant will be updated to be False in the future. To maintain current behavior, pass use_reentrant=True. It is recommended that you use use_reentrant=False. Refer to docs for more details on the differences between the two variants.\n",
            "  warnings.warn(\n"
          ]
        },
        {
          "output_type": "display_data",
          "data": {
            "text/plain": [
              "<IPython.core.display.HTML object>"
            ],
            "text/html": [
              "\n",
              "    <div>\n",
              "      \n",
              "      <progress value='63' max='63' style='width:300px; height:20px; vertical-align: middle;'></progress>\n",
              "      [63/63 09:13, Epoch 1/1]\n",
              "    </div>\n",
              "    <table border=\"1\" class=\"dataframe\">\n",
              "  <thead>\n",
              " <tr style=\"text-align: left;\">\n",
              "      <th>Step</th>\n",
              "      <th>Training Loss</th>\n",
              "      <th>Validation Loss</th>\n",
              "      <th>Bleu Score:</th>\n",
              "      <th>Bert Score</th>\n",
              "    </tr>\n",
              "  </thead>\n",
              "  <tbody>\n",
              "    <tr>\n",
              "      <td>10</td>\n",
              "      <td>1.991500</td>\n",
              "      <td>1.655252</td>\n",
              "      <td>39.680601</td>\n",
              "      <td>0.863847</td>\n",
              "    </tr>\n",
              "    <tr>\n",
              "      <td>20</td>\n",
              "      <td>1.733100</td>\n",
              "      <td>1.596057</td>\n",
              "      <td>39.234273</td>\n",
              "      <td>0.863176</td>\n",
              "    </tr>\n",
              "    <tr>\n",
              "      <td>30</td>\n",
              "      <td>1.672000</td>\n",
              "      <td>1.556005</td>\n",
              "      <td>40.578745</td>\n",
              "      <td>0.866220</td>\n",
              "    </tr>\n",
              "    <tr>\n",
              "      <td>40</td>\n",
              "      <td>1.442300</td>\n",
              "      <td>1.537132</td>\n",
              "      <td>41.174389</td>\n",
              "      <td>0.867369</td>\n",
              "    </tr>\n",
              "    <tr>\n",
              "      <td>50</td>\n",
              "      <td>1.439700</td>\n",
              "      <td>1.526197</td>\n",
              "      <td>41.246359</td>\n",
              "      <td>0.867248</td>\n",
              "    </tr>\n",
              "    <tr>\n",
              "      <td>60</td>\n",
              "      <td>1.512200</td>\n",
              "      <td>1.520451</td>\n",
              "      <td>41.166549</td>\n",
              "      <td>0.866630</td>\n",
              "    </tr>\n",
              "  </tbody>\n",
              "</table><p>"
            ]
          },
          "metadata": {}
        },
        {
          "output_type": "display_data",
          "data": {
            "text/plain": [
              "Downloading (…)okenizer_config.json:   0%|          | 0.00/29.0 [00:00<?, ?B/s]"
            ],
            "application/vnd.jupyter.widget-view+json": {
              "version_major": 2,
              "version_minor": 0,
              "model_id": "3de8dd9adcd54256b9c4372a887202d9"
            }
          },
          "metadata": {}
        },
        {
          "output_type": "display_data",
          "data": {
            "text/plain": [
              "Downloading (…)lve/main/config.json:   0%|          | 0.00/625 [00:00<?, ?B/s]"
            ],
            "application/vnd.jupyter.widget-view+json": {
              "version_major": 2,
              "version_minor": 0,
              "model_id": "684c8def9c544d7eb200918ae8a6392f"
            }
          },
          "metadata": {}
        },
        {
          "output_type": "display_data",
          "data": {
            "text/plain": [
              "Downloading (…)solve/main/vocab.txt:   0%|          | 0.00/996k [00:00<?, ?B/s]"
            ],
            "application/vnd.jupyter.widget-view+json": {
              "version_major": 2,
              "version_minor": 0,
              "model_id": "3f99477fd2014155919f5f7b172a1289"
            }
          },
          "metadata": {}
        },
        {
          "output_type": "display_data",
          "data": {
            "text/plain": [
              "Downloading (…)/main/tokenizer.json:   0%|          | 0.00/1.96M [00:00<?, ?B/s]"
            ],
            "application/vnd.jupyter.widget-view+json": {
              "version_major": 2,
              "version_minor": 0,
              "model_id": "5ed477b1448948e2b40d83dd4e6265d6"
            }
          },
          "metadata": {}
        },
        {
          "output_type": "display_data",
          "data": {
            "text/plain": [
              "Downloading model.safetensors:   0%|          | 0.00/714M [00:00<?, ?B/s]"
            ],
            "application/vnd.jupyter.widget-view+json": {
              "version_major": 2,
              "version_minor": 0,
              "model_id": "e8d12b82fdb1439782d48a9efcc74ed3"
            }
          },
          "metadata": {}
        },
        {
          "output_type": "stream",
          "name": "stderr",
          "text": [
            "/usr/local/lib/python3.10/dist-packages/torch/utils/checkpoint.py:429: UserWarning: torch.utils.checkpoint: please pass in use_reentrant=True or use_reentrant=False explicitly. The default value of use_reentrant will be updated to be False in the future. To maintain current behavior, pass use_reentrant=True. It is recommended that you use use_reentrant=False. Refer to docs for more details on the differences between the two variants.\n",
            "  warnings.warn(\n",
            "/usr/local/lib/python3.10/dist-packages/torch/utils/checkpoint.py:429: UserWarning: torch.utils.checkpoint: please pass in use_reentrant=True or use_reentrant=False explicitly. The default value of use_reentrant will be updated to be False in the future. To maintain current behavior, pass use_reentrant=True. It is recommended that you use use_reentrant=False. Refer to docs for more details on the differences between the two variants.\n",
            "  warnings.warn(\n",
            "/usr/local/lib/python3.10/dist-packages/torch/utils/checkpoint.py:429: UserWarning: torch.utils.checkpoint: please pass in use_reentrant=True or use_reentrant=False explicitly. The default value of use_reentrant will be updated to be False in the future. To maintain current behavior, pass use_reentrant=True. It is recommended that you use use_reentrant=False. Refer to docs for more details on the differences between the two variants.\n",
            "  warnings.warn(\n",
            "/usr/local/lib/python3.10/dist-packages/torch/utils/checkpoint.py:429: UserWarning: torch.utils.checkpoint: please pass in use_reentrant=True or use_reentrant=False explicitly. The default value of use_reentrant will be updated to be False in the future. To maintain current behavior, pass use_reentrant=True. It is recommended that you use use_reentrant=False. Refer to docs for more details on the differences between the two variants.\n",
            "  warnings.warn(\n",
            "/usr/local/lib/python3.10/dist-packages/torch/utils/checkpoint.py:429: UserWarning: torch.utils.checkpoint: please pass in use_reentrant=True or use_reentrant=False explicitly. The default value of use_reentrant will be updated to be False in the future. To maintain current behavior, pass use_reentrant=True. It is recommended that you use use_reentrant=False. Refer to docs for more details on the differences between the two variants.\n",
            "  warnings.warn(\n",
            "/usr/local/lib/python3.10/dist-packages/torch/utils/checkpoint.py:429: UserWarning: torch.utils.checkpoint: please pass in use_reentrant=True or use_reentrant=False explicitly. The default value of use_reentrant will be updated to be False in the future. To maintain current behavior, pass use_reentrant=True. It is recommended that you use use_reentrant=False. Refer to docs for more details on the differences between the two variants.\n",
            "  warnings.warn(\n"
          ]
        },
        {
          "output_type": "execute_result",
          "data": {
            "text/plain": [
              "TrainOutput(global_step=63, training_loss=1.6225580639309354, metrics={'train_runtime': 558.2055, 'train_samples_per_second': 1.791, 'train_steps_per_second': 0.113, 'total_flos': 15072060506112.0, 'train_loss': 1.6225580639309354, 'epoch': 1.0})"
            ]
          },
          "metadata": {},
          "execution_count": 99
        }
      ],
      "source": [
        "trainer.train()  # start training\n"
      ]
    },
    {
      "cell_type": "markdown",
      "id": "772843fa",
      "metadata": {
        "id": "772843fa"
      },
      "source": [
        "##  <font color = 'pickle'> **Evaluation**"
      ]
    },
    {
      "cell_type": "markdown",
      "id": "c6e6ebff",
      "metadata": {
        "id": "c6e6ebff"
      },
      "source": [
        "### <font color = 'pickle'> **Check performance on validation set**</font>"
      ]
    },
    {
      "cell_type": "code",
      "execution_count": null,
      "id": "14806bc4",
      "metadata": {
        "colab": {
          "base_uri": "https://localhost:8080/",
          "height": 159
        },
        "id": "14806bc4",
        "outputId": "60194aa7-346a-475b-b364-43be1f7b24a5"
      },
      "outputs": [
        {
          "output_type": "display_data",
          "data": {
            "text/plain": [
              "<IPython.core.display.HTML object>"
            ],
            "text/html": [
              "\n",
              "    <div>\n",
              "      \n",
              "      <progress value='32' max='32' style='width:300px; height:20px; vertical-align: middle;'></progress>\n",
              "      [32/32 01:25]\n",
              "    </div>\n",
              "    "
            ]
          },
          "metadata": {}
        },
        {
          "output_type": "execute_result",
          "data": {
            "text/plain": [
              "{'eval_loss': 1.5204508304595947,\n",
              " 'eval_bleu_score:': 41.166549338334434,\n",
              " 'eval_bert_score': 0.8666297200322152,\n",
              " 'eval_runtime': 92.3601,\n",
              " 'eval_samples_per_second': 5.414,\n",
              " 'eval_steps_per_second': 0.346,\n",
              " 'epoch': 1.0}"
            ]
          },
          "metadata": {},
          "execution_count": 100
        }
      ],
      "source": [
        "trainer.evaluate(tokenized_dataset[\"val\"])"
      ]
    },
    {
      "cell_type": "code",
      "execution_count": null,
      "id": "zA_1mCOeVTvl",
      "metadata": {
        "colab": {
          "base_uri": "https://localhost:8080/",
          "height": 504
        },
        "id": "zA_1mCOeVTvl",
        "outputId": "85600613-7ac2-4930-bf11-2d945a568bde"
      },
      "outputs": [
        {
          "output_type": "display_data",
          "data": {
            "text/plain": [
              "<IPython.core.display.HTML object>"
            ],
            "text/html": [
              "Waiting for W&B process to finish... <strong style=\"color:green\">(success).</strong>"
            ]
          },
          "metadata": {}
        },
        {
          "output_type": "display_data",
          "data": {
            "text/plain": [
              "<IPython.core.display.HTML object>"
            ],
            "text/html": [
              "<style>\n",
              "    table.wandb td:nth-child(1) { padding: 0 10px; text-align: left ; width: auto;} td:nth-child(2) {text-align: left ; width: 100%}\n",
              "    .wandb-row { display: flex; flex-direction: row; flex-wrap: wrap; justify-content: flex-start; width: 100% }\n",
              "    .wandb-col { display: flex; flex-direction: column; flex-basis: 100%; flex: 1; padding: 10px; }\n",
              "    </style>\n",
              "<div class=\"wandb-row\"><div class=\"wandb-col\"><h3>Run history:</h3><br/><table class=\"wandb\"><tr><td>eval/bert_score</td><td>▂▁▆██▇▇</td></tr><tr><td>eval/bleu_score:</td><td>▃▁▆████</td></tr><tr><td>eval/loss</td><td>█▅▃▂▁▁▁</td></tr><tr><td>eval/runtime</td><td>▂█▁▂▅▅▅</td></tr><tr><td>eval/samples_per_second</td><td>▇▁█▇▃▃▃</td></tr><tr><td>eval/steps_per_second</td><td>▇▁█▇▃▃▃</td></tr><tr><td>train/epoch</td><td>▁▁▂▂▄▄▅▅▆▆████</td></tr><tr><td>train/global_step</td><td>▁▁▂▂▄▄▅▅▆▆████</td></tr><tr><td>train/learning_rate</td><td>█▇▅▄▂▁</td></tr><tr><td>train/loss</td><td>█▅▄▁▁▂</td></tr><tr><td>train/total_flos</td><td>▁</td></tr><tr><td>train/train_loss</td><td>▁</td></tr><tr><td>train/train_runtime</td><td>▁</td></tr><tr><td>train/train_samples_per_second</td><td>▁</td></tr><tr><td>train/train_steps_per_second</td><td>▁</td></tr></table><br/></div><div class=\"wandb-col\"><h3>Run summary:</h3><br/><table class=\"wandb\"><tr><td>eval/bert_score</td><td>0.86663</td></tr><tr><td>eval/bleu_score:</td><td>41.16655</td></tr><tr><td>eval/loss</td><td>1.52045</td></tr><tr><td>eval/runtime</td><td>92.3601</td></tr><tr><td>eval/samples_per_second</td><td>5.414</td></tr><tr><td>eval/steps_per_second</td><td>0.346</td></tr><tr><td>train/epoch</td><td>1.0</td></tr><tr><td>train/global_step</td><td>63</td></tr><tr><td>train/learning_rate</td><td>0.0</td></tr><tr><td>train/loss</td><td>1.5122</td></tr><tr><td>train/total_flos</td><td>15072060506112.0</td></tr><tr><td>train/train_loss</td><td>1.62256</td></tr><tr><td>train/train_runtime</td><td>558.2055</td></tr><tr><td>train/train_samples_per_second</td><td>1.791</td></tr><tr><td>train/train_steps_per_second</td><td>0.113</td></tr></table><br/></div></div>"
            ]
          },
          "metadata": {}
        },
        {
          "output_type": "display_data",
          "data": {
            "text/plain": [
              "<IPython.core.display.HTML object>"
            ],
            "text/html": [
              " View run <strong style=\"color:#cdcd00\">translation-exp1</strong> at: <a href='https://wandb.ai/anurag96/nlp_course_fall_2023-translation/runs/yehg8gng' target=\"_blank\">https://wandb.ai/anurag96/nlp_course_fall_2023-translation/runs/yehg8gng</a><br/>Synced 5 W&B file(s), 0 media file(s), 0 artifact file(s) and 0 other file(s)"
            ]
          },
          "metadata": {}
        },
        {
          "output_type": "display_data",
          "data": {
            "text/plain": [
              "<IPython.core.display.HTML object>"
            ],
            "text/html": [
              "Find logs at: <code>./wandb/run-20231029_050641-yehg8gng/logs</code>"
            ]
          },
          "metadata": {}
        }
      ],
      "source": [
        "wandb.finish()  # stop logging"
      ]
    },
    {
      "cell_type": "markdown",
      "id": "fff49bc5",
      "metadata": {
        "id": "fff49bc5"
      },
      "source": [
        "### <font color = 'pickle'> **Check the best saved model**</font>"
      ]
    },
    {
      "cell_type": "code",
      "execution_count": null,
      "id": "3b0bee65",
      "metadata": {
        "id": "3b0bee65",
        "outputId": "611b72c4-c978-4785-a0ca-5ebac2f945d4",
        "colab": {
          "base_uri": "https://localhost:8080/"
        }
      },
      "outputs": [
        {
          "output_type": "stream",
          "name": "stdout",
          "text": [
            "The best model was saved at step 60.\n"
          ]
        }
      ],
      "source": [
        "# After training, let us check the best checkpoint\n",
        "# We need this for Predioctions and Evaluations\n",
        "best_model_checkpoint_step = trainer.state.best_model_checkpoint.split(\"-\")[-1]\n",
        "print(f\"The best model was saved at step {best_model_checkpoint_step}.\")\n"
      ]
    },
    {
      "cell_type": "markdown",
      "id": "d013dd3d-bcee-45d8-a371-80daebd910de",
      "metadata": {
        "id": "d013dd3d-bcee-45d8-a371-80daebd910de"
      },
      "source": [
        "#  <font color = 'pickle'> **Inference**"
      ]
    },
    {
      "cell_type": "markdown",
      "id": "090acf0c",
      "metadata": {
        "id": "090acf0c"
      },
      "source": [
        "## <font color = 'pickle'> **Test Set Evaluation**"
      ]
    },
    {
      "cell_type": "code",
      "execution_count": null,
      "id": "f734b7b7",
      "metadata": {
        "id": "f734b7b7",
        "outputId": "566f42b3-84c1-4850-c91a-27da61b33ec9",
        "colab": {
          "base_uri": "https://localhost:8080/"
        }
      },
      "outputs": [
        {
          "output_type": "execute_result",
          "data": {
            "text/plain": [
              "DatasetDict({\n",
              "    test: Dataset({\n",
              "        features: ['id', 'translation'],\n",
              "        num_rows: 500\n",
              "    })\n",
              "})"
            ]
          },
          "metadata": {},
          "execution_count": 103
        }
      ],
      "source": [
        "model_folder = base_folder / \"models\" / \"nlp_fall_2023/kde4/opus-mt-en-fr\"\n",
        "checkpoint = str(model_folder / \"checkpoint-60\")\n",
        "test_subset\n"
      ]
    },
    {
      "cell_type": "code",
      "execution_count": null,
      "id": "5e1cbdc5",
      "metadata": {
        "id": "5e1cbdc5",
        "colab": {
          "base_uri": "https://localhost:8080/",
          "height": 49,
          "referenced_widgets": [
            "078eef429d7e4d9a9f7728ef44aa48c6",
            "df41f140754f4ebe9551b751ee5ea51d",
            "d2d8176426864ec38de67adfd32a7d5e",
            "be8cb95116434a0da13d957066124211",
            "e1a5acd836a6433aae5d68df06e0f78e",
            "ee915f2cc1b84b5387efcba2d5b0dd58",
            "e560ed9c971349f7831d00582d8549dc",
            "83c434c613404475ba463d0ff2c1d027",
            "5091f08b82834c7f8d4eadcb6dcaa8c4",
            "cdb4be352146454aaf8b9b12520195e8",
            "77d5145919094d15b045620f9a984001"
          ]
        },
        "outputId": "30e7ad35-04ce-4345-cab3-5c81a38030dc"
      },
      "outputs": [
        {
          "output_type": "display_data",
          "data": {
            "text/plain": [
              "Map:   0%|          | 0/500 [00:00<?, ? examples/s]"
            ],
            "application/vnd.jupyter.widget-view+json": {
              "version_major": 2,
              "version_minor": 0,
              "model_id": "078eef429d7e4d9a9f7728ef44aa48c6"
            }
          },
          "metadata": {}
        }
      ],
      "source": [
        "test_data_flattened = test_subset[\"test\"].map(lambda example: {'en': example['translation']['en'], 'fr': example['translation']['fr']})\n"
      ]
    },
    {
      "cell_type": "code",
      "execution_count": null,
      "id": "6ae85d75",
      "metadata": {
        "id": "6ae85d75",
        "outputId": "34c2fe49-3e5f-4c98-8145-64b803d71bca",
        "colab": {
          "base_uri": "https://localhost:8080/"
        }
      },
      "outputs": [
        {
          "output_type": "execute_result",
          "data": {
            "text/plain": [
              "Dataset({\n",
              "    features: ['id', 'translation', 'en', 'fr'],\n",
              "    num_rows: 500\n",
              "})"
            ]
          },
          "metadata": {},
          "execution_count": 105
        }
      ],
      "source": [
        "test_data_flattened"
      ]
    },
    {
      "cell_type": "code",
      "execution_count": null,
      "id": "2f94d735",
      "metadata": {
        "id": "2f94d735",
        "colab": {
          "base_uri": "https://localhost:8080/",
          "height": 165,
          "referenced_widgets": [
            "05bd4c9c56df434aa54b8111b617c87f",
            "b46411ee773f4704b0d44168b2e7ae76",
            "5dfcc73d96a9403cb5d7fc3199e1a6a5",
            "728b7a6656e54c06af1e559cdf1b7d66",
            "776d05f33c1b491ab972af6e3446c955",
            "f8ccefdcfdad47b484e350c79078bb58",
            "4e4df796c2e94ee8b77df3e1c72cb9ab",
            "47c58afd6e9540478b45e7271b5183f4",
            "0540d3b8be8c4aa1b2fcebb990c0cd20",
            "9964f0e247104209a2aaae40f00cea6b",
            "13d850eab61c4df4b609e71d89d6889d",
            "d0d20dfc673d4e53b4c6a70985576f29",
            "9137753ab5b140a29b387d386c167b1e",
            "5e80fcbb205643dfbc7449d6ab0b1c61",
            "42fb05d8d7a0412c86b86b8b65a97b77",
            "0d38422a536e47cdbca9c55911e0ed87",
            "f584968e76544515b21d3d84f213c817",
            "f27342ccd5774c188b65e6ba3e80ea3f",
            "242b2d6c6e914125a9db1dbb2ced190d",
            "700e0a4e71c8406d846e34d8c0689545",
            "8c099cfa1c0b4b928d335bcb4874b38d",
            "d860f67e09ff4c2a9e40389e3722e354",
            "2251fa909ee149db88a68e46c2ba8e0d",
            "5046c389f3a5472bb130dfcdb6e5179c",
            "8787f3a70c8b419a9fd8c7ddbfbd59d4",
            "9ca79563027145558d8185e8a7ec53f1",
            "0db882b9b0f4472da82ded1e2067dba6",
            "1e3c9ec1dbd34bc39d726fa2f683a2c8",
            "8ad5f31da886409c9eb72eda468c6205",
            "44fb3f77d1d14faebb44e577fae0c3fc",
            "edbcf3b9638645a5a8a80bf64c98fa3b",
            "60ffb5b1d82844fca209ed08c4d8f18f",
            "887c8cfa31c54c62aac30da076d84a74"
          ]
        },
        "outputId": "1ea5cbe3-b8ee-4574-e864-1df2a5ea9edf"
      },
      "outputs": [
        {
          "output_type": "stream",
          "name": "stderr",
          "text": [
            "/usr/local/lib/python3.10/dist-packages/transformers/models/marian/tokenization_marian.py:197: UserWarning: Recommended: pip install sacremoses.\n",
            "  warnings.warn(\"Recommended: pip install sacremoses.\")\n"
          ]
        },
        {
          "output_type": "display_data",
          "data": {
            "text/plain": [
              "Downloading builder script:   0%|          | 0.00/5.94k [00:00<?, ?B/s]"
            ],
            "application/vnd.jupyter.widget-view+json": {
              "version_major": 2,
              "version_minor": 0,
              "model_id": "05bd4c9c56df434aa54b8111b617c87f"
            }
          },
          "metadata": {}
        },
        {
          "output_type": "display_data",
          "data": {
            "text/plain": [
              "Downloading extra modules:   0%|          | 0.00/1.55k [00:00<?, ?B/s]"
            ],
            "application/vnd.jupyter.widget-view+json": {
              "version_major": 2,
              "version_minor": 0,
              "model_id": "d0d20dfc673d4e53b4c6a70985576f29"
            }
          },
          "metadata": {}
        },
        {
          "output_type": "display_data",
          "data": {
            "text/plain": [
              "Downloading extra modules:   0%|          | 0.00/3.34k [00:00<?, ?B/s]"
            ],
            "application/vnd.jupyter.widget-view+json": {
              "version_major": 2,
              "version_minor": 0,
              "model_id": "2251fa909ee149db88a68e46c2ba8e0d"
            }
          },
          "metadata": {}
        },
        {
          "output_type": "stream",
          "name": "stderr",
          "text": [
            "Your input_length: 130 is bigger than 0.9 * max_length: 128. You might consider increasing your max_length manually, e.g. translator('...', max_length=400)\n"
          ]
        }
      ],
      "source": [
        "task_evaluator = evaluator(\"translation\")\n",
        "gen_kwargs = {\"length_penalty\": 0.8, \"num_beams\": 8, \"max_length\": 128}\n",
        "eval_results = task_evaluator.compute(\n",
        "    model_or_pipeline=checkpoint,\n",
        "    tokenizer=checkpoint,\n",
        "    data=test_data_flattened,\n",
        "    input_column='en',\n",
        "    label_column='fr',\n",
        "    generation_kwargs=gen_kwargs,\n",
        "    device=0,\n",
        ")\n"
      ]
    },
    {
      "cell_type": "code",
      "execution_count": null,
      "id": "5404a081",
      "metadata": {
        "id": "5404a081",
        "outputId": "88ebb4cc-b013-4638-9129-4dcfb52bef9e",
        "colab": {
          "base_uri": "https://localhost:8080/"
        }
      },
      "outputs": [
        {
          "output_type": "execute_result",
          "data": {
            "text/plain": [
              "{'bleu': 0.42696869676160426,\n",
              " 'precisions': [0.7095400340715503,\n",
              "  0.5355100095328885,\n",
              "  0.4212889593238246,\n",
              "  0.32914719626168226],\n",
              " 'brevity_penalty': 0.8911839411730454,\n",
              " 'length_ratio': 0.8966965820126026,\n",
              " 'translation_length': 4696,\n",
              " 'reference_length': 5237,\n",
              " 'total_time_in_seconds': 123.53638276900006,\n",
              " 'samples_per_second': 4.047390645514909,\n",
              " 'latency_in_seconds': 0.2470727655380001}"
            ]
          },
          "metadata": {},
          "execution_count": 107
        }
      ],
      "source": [
        "eval_results"
      ]
    },
    {
      "cell_type": "markdown",
      "id": "26ae3ddf",
      "metadata": {
        "id": "26ae3ddf"
      },
      "source": [
        "##  <font color = 'pickle'> **Prediction for individual or small list of examples**"
      ]
    },
    {
      "cell_type": "markdown",
      "id": "d7174c87",
      "metadata": {
        "id": "d7174c87"
      },
      "source": [
        "## <font color = 'pickle'> **Create pipelne for inference**"
      ]
    },
    {
      "cell_type": "code",
      "execution_count": null,
      "id": "b438c9b0",
      "metadata": {
        "id": "b438c9b0"
      },
      "outputs": [],
      "source": [
        "custom_pipeline = pipeline(\n",
        "    task=\"translation\",\n",
        "    model=checkpoint,\n",
        "    tokenizer=checkpoint,\n",
        "    device='cpu',\n",
        "    framework = 'pt'\n",
        ")"
      ]
    },
    {
      "cell_type": "code",
      "execution_count": null,
      "id": "882a2ec6",
      "metadata": {
        "id": "882a2ec6",
        "outputId": "8988205a-3d64-444b-fef7-6eea7bbf6220",
        "colab": {
          "base_uri": "https://localhost:8080/",
          "height": 35
        }
      },
      "outputs": [
        {
          "output_type": "execute_result",
          "data": {
            "text/plain": [
              "'Find matching recipes'"
            ],
            "application/vnd.google.colaboratory.intrinsic+json": {
              "type": "string"
            }
          },
          "metadata": {},
          "execution_count": 109
        }
      ],
      "source": [
        "sample = test_data_flattened[\"en\"][420]\n",
        "sample\n"
      ]
    },
    {
      "cell_type": "code",
      "execution_count": null,
      "id": "294d7f8d",
      "metadata": {
        "id": "294d7f8d",
        "outputId": "3973dee1-7cc2-41ee-bfa6-e3b803d0a99a",
        "colab": {
          "base_uri": "https://localhost:8080/"
        }
      },
      "outputs": [
        {
          "output_type": "execute_result",
          "data": {
            "text/plain": [
              "[{'translation_text': 'Trouver des recettes correspondantes'}]"
            ]
          },
          "metadata": {},
          "execution_count": 110
        }
      ],
      "source": [
        "translation = custom_pipeline(sample)\n",
        "translation"
      ]
    },
    {
      "cell_type": "code",
      "execution_count": null,
      "id": "c893c56b",
      "metadata": {
        "id": "c893c56b",
        "outputId": "09602a1c-14ff-4acf-c685-d411cd66deee",
        "colab": {
          "base_uri": "https://localhost:8080/"
        }
      },
      "outputs": [
        {
          "output_type": "execute_result",
          "data": {
            "text/plain": [
              "['Find matching recipes',\n",
              " '%1x%2x%3 brick, %4 shuffling moves',\n",
              " 'The following sections will describe, in detail, each element. Everything from where they can go to what goes in them is layed out in an easy-to-follow manner.']"
            ]
          },
          "metadata": {},
          "execution_count": 111
        }
      ],
      "source": [
        "samples = test_data_flattened[\"en\"][420:423]\n",
        "samples\n"
      ]
    },
    {
      "cell_type": "code",
      "execution_count": null,
      "id": "2589662a",
      "metadata": {
        "id": "2589662a",
        "outputId": "fee59484-ce92-41f9-a8a1-c7d267c3d228",
        "colab": {
          "base_uri": "https://localhost:8080/"
        }
      },
      "outputs": [
        {
          "output_type": "execute_result",
          "data": {
            "text/plain": [
              "[{'translation_text': 'Trouver des recettes correspondantes'},\n",
              " {'translation_text': '%1x%2x%3 brique, %4 mouvements de shuffling'},\n",
              " {'translation_text': \"Les sections suivantes décrivent, en détail, chaque élément. Tout de l'endroit où ils peuvent aller à ce qui s'y passe est exposé de manière facile à suivre.\"}]"
            ]
          },
          "metadata": {},
          "execution_count": 112
        }
      ],
      "source": [
        "gen_kwargs = {\"length_penalty\": 0.8, \"num_beams\": 8, \"max_length\": 128}\n",
        "translations = custom_pipeline(samples, **gen_kwargs)\n",
        "translations\n"
      ]
    },
    {
      "cell_type": "markdown",
      "id": "94b28bf1",
      "metadata": {
        "id": "94b28bf1"
      },
      "source": [
        "## <font color = 'pickle'> **Prediction for large dataset**"
      ]
    },
    {
      "cell_type": "code",
      "execution_count": null,
      "id": "2bb55c47",
      "metadata": {
        "id": "2bb55c47"
      },
      "outputs": [],
      "source": [
        "gen_kwargs = {\"length_penalty\": 0.8, \"num_beams\": 8, \"max_length\": 400}\n",
        "custom_pipeline = pipeline(\n",
        "    task=\"translation\",\n",
        "    model=checkpoint,\n",
        "    tokenizer=checkpoint,\n",
        "    device=0,\n",
        "    framework = 'pt'\n",
        ")\n",
        "translations = custom_pipeline(test_data_flattened['en'], **gen_kwargs, batch_size=16)"
      ]
    },
    {
      "cell_type": "code",
      "execution_count": null,
      "id": "3e9175cd",
      "metadata": {
        "id": "3e9175cd",
        "outputId": "a6b60ec5-15c0-42ee-cb52-66dcd13555bd",
        "colab": {
          "base_uri": "https://localhost:8080/"
        }
      },
      "outputs": [
        {
          "output_type": "execute_result",
          "data": {
            "text/plain": [
              "[{'translation_text': 'Haut de la page & Y & #160;:'},\n",
              " {'translation_text': '–'},\n",
              " {'translation_text': 'Capitaliser le texte sélectionné ou le mot courant.'},\n",
              " {'translation_text': 'Ouvrir & konqueror;.'},\n",
              " {'translation_text': 'Chemins de recherche'},\n",
              " {'translation_text': 'Réduire à Grayscale'},\n",
              " {'translation_text': \"L'utilisateur ne peut modifier aucun paramètre sur cette page.\"},\n",
              " {'translation_text': 'Générer'},\n",
              " {'translation_text': 'Vietnamien (Vietnam)'},\n",
              " {'translation_text': 'Sélectionner le style à importer & #160;:'},\n",
              " {'translation_text': 'Cisco - Hub'},\n",
              " {'translation_text': \"Impossible de lire l'en-tête de la base de données %1.\"},\n",
              " {'translation_text': 'Serveur trouvé, connexion...'},\n",
              " {'translation_text': 'Hôte'},\n",
              " {'translation_text': 'Envoyer un & fichier'},\n",
              " {'translation_text': 'toute la journée'},\n",
              " {'translation_text': 'exameneur; examenseur; Em'},\n",
              " {'translation_text': \"L'alias est le nom que vous voulez donner à votre compte. Il devrait être unique. Vous pouvez avoir plusieurs connexions au même service de sorte que l'alias vous permet de leur donner des noms.\"},\n",
              " {'translation_text': 'Le & dataditor;'},\n",
              " {'translation_text': 'htdig'},\n",
              " {'translation_text': \"Activer cette option si les messages importants ne doivent jamais être supprimés pendant l'expiration du message, & cf; pendant la suppression automatique des messages anciens.\"},\n",
              " {'translation_text': 'Verbeux'},\n",
              " {'translation_text': \"Configurer une répétition d'alarme supplémentaire\"},\n",
              " {'translation_text': \"Le nombre d'octets lus. Voir ce que c'est pour plus d'informations.\"},\n",
              " {'translation_text': 'Feuilles de tissu'},\n",
              " {'translation_text': \"Sélectionnez la région dans laquelle vous voulez utiliser les vacances ici. Les vacances définies sont affichées comme des jours non ouvrables dans le navigateur de date, la vue de l'agenda, etc.\"},\n",
              " {'translation_text': 'Mason'},\n",
              " {'translation_text': 'Masque'},\n",
              " {'translation_text': 'Allemagne'},\n",
              " {'translation_text': 'Cliquez trois fois pour sélectionner la phrase entière.'},\n",
              " {'translation_text': 'Chinois (PRC)'},\n",
              " {'translation_text': 'secondes'},\n",
              " {'translation_text': 'Cyan, Noir'},\n",
              " {'translation_text': 'Ne modifiez pas les données réelles du moteur.'},\n",
              " {'translation_text': \"Impossible d'insérer la ligne parce qu'elle ne contient pas la clé principale de la table maître entière.\"},\n",
              " {'translation_text': '& Marque de la branche & #160;:'},\n",
              " {'translation_text': \"Système d'impression LPD & UNIX; générique (par défaut)\"},\n",
              " {'translation_text': 'BESSELK(3; 9) renvoie 397.95880'},\n",
              " {'translation_text': 'Supprimer'},\n",
              " {'translation_text': 'Modifier'},\n",
              " {'translation_text': \"Insérez une image raster. Ceux-ci ne sont pas aussi facilement graduables que les images vectorielles ou clipart. & kpresenter; comprend actuellement de nombreux formats, y compris. tiff,. jpg,. png et bien d'autres.\"},\n",
              " {'translation_text': 'Les mots de passe correspondent.'},\n",
              " {'translation_text': 'Fichiers de données espagnols & #160;: eXParTaKus expartakus@expartakus. com'},\n",
              " {'translation_text': 'Taille du rect pour les mesures'},\n",
              " {'translation_text': \"Vérifiez si le nom du fichier qui se trouve dans le texte des éléments doit être analysé. Ceci n'a de sens que si l'élément peut contenir un nom de fichier et si le fichierNameRx est spécifié.\"},\n",
              " {'translation_text': 'Ctrl; N Fichier'},\n",
              " {'translation_text': 'GUI XML'},\n",
              " {'translation_text': 'Détails'},\n",
              " {'translation_text': 'Cochez cette case si vous voulez rechercher des articles Journal qui correspondent aux critères de recherche.'},\n",
              " {'translation_text': 'Validation de & XML;'},\n",
              " {'translation_text': '& Fichier'},\n",
              " {'translation_text': 'Création de widgets & kommander;'},\n",
              " {'translation_text': \"Si cette case est cochée, Konqueror n'affichera que les signets dans la barre d'outils du signet que vous avez marqué pour le faire dans l'éditeur de signet.\"},\n",
              " {'translation_text': '& kaddressbook;'},\n",
              " {'translation_text': 'Mot de passe incorrect, veuillez réessayer.'},\n",
              " {'translation_text': 'Nom du champ'},\n",
              " {'translation_text': 'Configuration du système'},\n",
              " {'translation_text': 'Nicolas Ternisien'},\n",
              " {'translation_text': 'Internet Movie Database'},\n",
              " {'translation_text': 'Impossible de déterminer le système de partition de fichiers du secteur %1 sur le périphérique %2.'},\n",
              " {'translation_text': \"Sélectionner la vue de l'outil à ajouter\"},\n",
              " {'translation_text': 'Définir si les fractions doivent être réduites.'},\n",
              " {'translation_text': \"Réaction à l' invitation\"},\n",
              " {'translation_text': 'Allemand (mise en page du clavier Neo 2)'},\n",
              " {'translation_text': 'Effacer la liste des signets.'},\n",
              " {'translation_text': 'Album de mon ami'},\n",
              " {'translation_text': 'Configuration du cadre pour %1'},\n",
              " {'translation_text': 'Containment'},\n",
              " {'translation_text': \"Aucun indice de n'importe quelle couleur dans les tons gris\"},\n",
              " {'translation_text': \"compare et fusionne deux ou trois fichiers ou répertoires d'entrée de texte,\"},\n",
              " {'translation_text': \"Redimensionner l'image du titre %1 à %2x%3\"},\n",
              " {'translation_text': 'Quitter facilement une application D-Bus activée'},\n",
              " {'translation_text': 'Max Blazejak'},\n",
              " {'translation_text': 'Nom de la session manquante'},\n",
              " {'translation_text': \"Kate utilise deux formes différentes de modules, à savoir les modules pour l'application & kate; et les modules pour le composant de l'éditeur & kate;. Ce dernier est disponible pour toute application utilisant le composant de l'éditeur, comme KDevelop, Quanta, Kile, Kwrite et bien d'autres, tandis que les modules d'application sont spécifiques à l'application & kate;.\"},\n",
              " {'translation_text': 'Faire défiler le message vers le bas'},\n",
              " {'translation_text': 'Enregistrer la liste des utilisateurs?'},\n",
              " {'translation_text': '%1 contacté. En attente de réponse...'},\n",
              " {'translation_text': 'Utilisez le fichier de configuration spécifié.'},\n",
              " {'translation_text': 'Longueur & #160;:'},\n",
              " {'translation_text': 'La boîte de dialogue & kpresenter; Create Memory Stick Diaporama (extended).'},\n",
              " {'translation_text': 'Divers'},\n",
              " {'translation_text': 'Service de recherche'},\n",
              " {'translation_text': 'Réglage manuel de la vitesse du ventilateur. Ceci n\\'est efficace que lorsque la vitesse est réglée sur \"Manuel\".'},\n",
              " {'translation_text': \"La connaissance des mathématiques ou de la langue n'est pas nécessaire pour résoudre les énigmes de & kappname;.\"},\n",
              " {'translation_text': 'Stephan Binner'},\n",
              " {'translation_text': \"Fournit une boîte de texte pour faciliter l'accès aux moteurs de recherche comme Google.\"},\n",
              " {'translation_text': 'Nouveau point de sauvegarde'},\n",
              " {'translation_text': 'Canal vers le bas'},\n",
              " {'translation_text': 'Utilisez le chiffrement si le serveur le demande.'},\n",
              " {'translation_text': \"C'est la liste des images à télécharger vers la cible spécifiée.\"},\n",
              " {'translation_text': 'Documentation copyright 2002, 2003, 2005 & Anders. Lund; & Anders. Lund. mail;'},\n",
              " {'translation_text': 'Si cela ne commence pas avec un /, alors il est supposé être relatif à la racine du serveur. Le paramètre par défaut est / var/ log/ cups/ error_log.'},\n",
              " {'translation_text': 'Masse molaire du solvant'},\n",
              " {'translation_text': 'Aléatoire'},\n",
              " {'translation_text': 'min'},\n",
              " {'translation_text': 'Contrôle de la lecture (PBC)'},\n",
              " {'translation_text': 'Début tardif calculé & #160;: %1'},\n",
              " {'translation_text': \"Le calcul de l'histogramme a échoué.\"},\n",
              " {'translation_text': 'Spraycan'},\n",
              " {'translation_text': 'Curseur Big LB'},\n",
              " {'translation_text': 'Basculer & Augmenter'},\n",
              " {'translation_text': 'Équipes de traduction KDE'},\n",
              " {'translation_text': 'bradh@frogmouth. net'},\n",
              " {'translation_text': 'H'},\n",
              " {'translation_text': '& Ctrl; Maj; B'},\n",
              " {'translation_text': '& Chercher'},\n",
              " {'translation_text': 'kdeaddons'},\n",
              " {'translation_text': 'RIDGE VERT'},\n",
              " {'translation_text': 'Choisir les contacts à imprimer'},\n",
              " {'translation_text': 'Marque & kruler; une longueur moyenne - environ 640 pixels de long.'},\n",
              " {'translation_text': \"Si vous préférez vérifier l'orthographe explicitement, plutôt que automatiquement, vous pouvez aussi forcer l'orthographe... vérifier ici.\"},\n",
              " {'translation_text': \"Utiliser le texte pour étiquetter les objets de la liste d'observation\"},\n",
              " {'translation_text': 'Réduire toutes les catégories'},\n",
              " {'translation_text': \"Ce menu contient une option pour obtenir un indice (s'il y en a un). Les jeux de championnat et de tutorial ont des indices à chaque niveau. D'autres jeux ont rarement des indices. Il contient également des options pour rejouer des enregistrements de jeu, comme lors de démonstrations, montrant des exemples de solutions et rejouant vos propres efforts.\"},\n",
              " {'translation_text': 'Substrat'},\n",
              " {'translation_text': 'Bulqizë'},\n",
              " {'translation_text': \"Erreur lors de l'ouverture du fichier %1. %2.\"},\n",
              " {'translation_text': \"& Ouvrir l' emplacement\"},\n",
              " {'translation_text': 'Ajouter une classe pour la génération de code'},\n",
              " {'translation_text': \"Les options personnelles se rapportent à votre identité personnelle, et d'autres choses diverses qui ne relèvent d'aucune des autres catégories générales.\"},\n",
              " {'translation_text': 'Applique les paramètres actuels dans le module actuellement ouvert.'},\n",
              " {'translation_text': 'Disque'},\n",
              " {'translation_text': 'c) 2001-2002 Alexander Neundorf'},\n",
              " {'translation_text': 'Sprite de Cavalry point supérieur gauche x-coordinate. Ceci est donné relativement à la partie supérieure gauche de la carte, dimensionné comme défini dans le widget de définition de la peau principale. Cette valeur sera automatiquement mise à jour si vous déplacez la cavalerie.'},\n",
              " {'translation_text': 'Dvorak - ABCD'},\n",
              " {'translation_text': 'Avancé'},\n",
              " {'translation_text': \"Calculer l'heure standard\"},\n",
              " {'translation_text': 'Renommer le fichier, le dossier, etc.'},\n",
              " {'translation_text': 'Rendu indirect'},\n",
              " {'translation_text': 'Emplacement'},\n",
              " {'translation_text': \"Exécution de l'état sur un élément externe à %1.\"},\n",
              " {'translation_text': '6 caractères'},\n",
              " {'translation_text': 'Hobart'},\n",
              " {'translation_text': 'Par défaut du projet'},\n",
              " {'translation_text': 'La boîte de dialogue de configuration de & bombardier; vous permet de sélectionner des thèmes visuels pour & bombardier;.'},\n",
              " {'translation_text': '& Orientation'},\n",
              " {'translation_text': 'Coordonnée Y'},\n",
              " {'translation_text': 'Un gestionnaire de fenêtres keyboard-friendly avec des fenêtres carrelées, basé sur PWM'},\n",
              " {'translation_text': 'Cisco - Interrupteur vocal'},\n",
              " {'translation_text': \"Cette option spécifie le nombre d'espaces utilisés par Tidy pour identifier le contenu, lorsque l'indentation est activée.\"},\n",
              " {'translation_text': 'Coordonnée & Grille'},\n",
              " {'translation_text': '& La première rangée contient des en-têtes'},\n",
              " {'translation_text': 'Bonne signature depuis & %1 ID de la clé & #160;: %2'},\n",
              " {'translation_text': 'Degrés Rankine'},\n",
              " {'translation_text': 'Cabano'},\n",
              " {'translation_text': 'Si cochée, les objets du catalogue Messier seront cachés lorsque la carte sera en mouvement.'},\n",
              " {'translation_text': 'Tube RFB entrant'},\n",
              " {'translation_text': \"Si vous utilisez un serveur de nouvelles local, les articles n'apparaissent que si le serveur de nouvelles les a déjà obtenus depuis Internet; si vous utilisez leafnode, cela se fait par le programme fetchnews.\"},\n",
              " {'translation_text': 'Lancement rapide'},\n",
              " {'translation_text': 'HP; JetDirect Protocol Direct TCP/ IP Printing'},\n",
              " {'translation_text': 'KDevelop GUI Builder basé sur Qt Designer'},\n",
              " {'translation_text': 'Nombre de cercles'},\n",
              " {'translation_text': 'Oklahoma'},\n",
              " {'translation_text': 'semaine'},\n",
              " {'translation_text': '& Charger la liste des chaînes depuis le fichier...'},\n",
              " {'translation_text': 'A partir du curseur'},\n",
              " {'translation_text': \"Si les messages ne sont pas cochés, ils seront toujours stockés non chiffrés dans votre dossier d'envoi, même s'ils sont cryptés.\"},\n",
              " {'translation_text': 'CRÉDIT_FOR_TRANSLATORS'},\n",
              " {'translation_text': \"Sélectionne tout le texte dans la fenêtre de l'éditeur.\"},\n",
              " {'translation_text': \"La connexion peut ne pas contenir d'espaces ou de colons !\"},\n",
              " {'translation_text': 'Re_démarrer'},\n",
              " {'translation_text': 'Little Four Joys'},\n",
              " {'translation_text': \"Choisissez le type de base de données que vous souhaitez utiliser. La plupart des utilisateurs voudront choisir ici une simple base de données locale. Cependant, vous pouvez également utiliser des serveurs distants au moyen d'une base de données MySQL ou PostgreSQLTM.\"},\n",
              " {'translation_text': 'Moyenne'},\n",
              " {'translation_text': \"La demande d'abonnement a échoué.\"},\n",
              " {'translation_text': 'Masse atomique'},\n",
              " {'translation_text': 'Exporte les certificats sélectionnés dans un fichier.'},\n",
              " {'translation_text': 'Vibrorg'},\n",
              " {'translation_text': 'Voile douches'},\n",
              " {'translation_text': 'Sortir du script'},\n",
              " {'translation_text': 'Écraser le fichier ?'},\n",
              " {'translation_text': 'Utiliser & stateful crypting'},\n",
              " {'translation_text': 'Périodes de neige humide'},\n",
              " {'translation_text': 'Activer le débogueur'},\n",
              " {'translation_text': 'La Massana'},\n",
              " {'translation_text': 'Accès aux applications cachées minimisé dans le plateau du système'},\n",
              " {'translation_text': 'Auteur original'},\n",
              " {'translation_text': 'K'},\n",
              " {'translation_text': '& kappname;'},\n",
              " {'translation_text': \"Utiliser l'affichage du serveur X 'affiche le nom '\"},\n",
              " {'translation_text': \"Environnement qui permet à LaTeX d'imprimer exactement ce que vous saisissez. Dans cette variante, les espaces sont imprimés d'une manière spéciale.\"},\n",
              " {'translation_text': 'Auteur'},\n",
              " {'translation_text': 'Compte préféré'},\n",
              " {'translation_text': \"une entrée de marque d' arrêt\"},\n",
              " {'translation_text': 'Ce filtre, maintenant, affiche tous les articles, pas plus de 3 jours, contenant knode dans le sujet.'},\n",
              " {'translation_text': 'Changer le facteur de formulaire'},\n",
              " {'translation_text': 'Kevin Krammer'},\n",
              " {'translation_text': \"Les appareils et programmes suivants n'ont pas pu être mis à jour & #160;:\"},\n",
              " {'translation_text': 'V'},\n",
              " {'translation_text': 'Heritage acls'},\n",
              " {'translation_text': 'Commentaire & #160;: %1'},\n",
              " {'translation_text': '*. mac_BAR_Maxima batch File'},\n",
              " {'translation_text': 'Impossible de télécharger le message daté %1 de %2 avec le sujet %3 vers le serveur.'},\n",
              " {'translation_text': \"Extension non valable, manquante'manifest. xml 'ou'source. tar. bz2'\"},\n",
              " {'translation_text': 'ESSID & #160;:'},\n",
              " {'translation_text': 'Afficher à la taille réelle dans une vue différente. Sinon, cliquez avec le bouton du milieu de la souris sur la bande dessinée.'},\n",
              " {'translation_text': 'Serveur MySQL trouvé & #160;: %1'},\n",
              " {'translation_text': '& Refaire'},\n",
              " {'translation_text': 'Solveur & #160;: ce jeu est perdu.'},\n",
              " {'translation_text': '& Démo principale'},\n",
              " {'translation_text': 'AppleSingle'},\n",
              " {'translation_text': 'Comment laisser des messages sur le serveur ?'},\n",
              " {'translation_text': 'SAO/ R96P'},\n",
              " {'translation_text': 'Si vous avez des plugins & konqueror; installés, il y aura des entrées supplémentaires dans le menu Outils. Consultez le chapitre Plugins de konqueror; pour plus de détails.'},\n",
              " {'translation_text': 'Vitesse de chargement assurée'},\n",
              " {'translation_text': 'Cacher les formulaires'},\n",
              " {'translation_text': 'Agrafer toutes les 12 feuilles'},\n",
              " {'translation_text': \"KWord Filtre d'importation WordPerfect\"},\n",
              " {'translation_text': 'Semences moyennes connectées par torrent de course'},\n",
              " {'translation_text': 'Créer un nouveau dossier de modèle'},\n",
              " {'translation_text': 'Quelques trucs et astuces'},\n",
              " {'translation_text': 'KDE'},\n",
              " {'translation_text': \"Calculer l'expression\"},\n",
              " {'translation_text': 'Ordre de tri par défaut'},\n",
              " {'translation_text': 'Insérer une boîte de texte'},\n",
              " {'translation_text': 'Affiche la présentation avec un visionneur & PostScript;, exactement comme si elle était imprimée.'},\n",
              " {'translation_text': 'Support pour de nombreuses villes en Slovaquie, mais avec des données statiques. Il y a aussi support pour bratislava avec des données dynamiques.'},\n",
              " {'translation_text': 'Mirror Format est incorrect. Il doit être valide http, ftp, ou URL de fichier'},\n",
              " {'translation_text': 'Propriétés du timbre'},\n",
              " {'translation_text': 'Parallèlement'},\n",
              " {'translation_text': \"Cette dernière fonction mentionnée n'a pas été largement utilisée à l'intérieur de & kde; jusqu'à présent, car les développeurs ne sont pas encore pleinement conscients de la puissance de & kdeprint;. Attendez-vous à en avoir d'autres dans un avenir proche. Un exemple que j'ai découvert est l'application & kcron;. Il vous permet de modifier le crontab à travers un & GUI;. Les développeurs ont implémenté une fonction d'impression qui vous permet (ou la racine) de choisir si vous voulez imprimer l'ensemble du crontab (pour tous les utilisateurs) ou simplement la partie qui est marquée. Vous pouvez voir les effets sur & kdeprint; dans les captures d'écran suivantes.\"},\n",
              " {'translation_text': 'Faire compter la note de marge sur le corps du texte'},\n",
              " {'translation_text': 'Exporter vers le destinataire'},\n",
              " {'translation_text': 'Rafraîchit les périphériques & #160;: cette commande force & partman; à analyser et à lire à nouveau les périphériques de votre ordinateur. Cela peut par exemple être utile si vous vous branchez sur un disque dur USB externe après avoir démarré & partman;.'},\n",
              " {'translation_text': 'Fog/ brume de pluie légère'},\n",
              " {'translation_text': 'Tous les bureaux'},\n",
              " {'translation_text': 'KMathTrigGraphPart'},\n",
              " {'translation_text': '& Chiffrer le message'},\n",
              " {'translation_text': 'Exercice de conversion'},\n",
              " {'translation_text': \"Une fois le modem dans l'état de la commande, vous pouvez l'envoyer. Pour le raccrocher, envoyez la commande ATH. Les codes d'échappement et la chaîne d'attente utilisée par & kppp; sont affichés dans la boîte de dialogue Modem Commands. Ceux-ci doivent correspondre à votre modem.\"},\n",
              " {'translation_text': 'O'},\n",
              " {'translation_text': 'Copier toutes les pages (non triées)'},\n",
              " {'translation_text': 'Std dev. & #160;:'},\n",
              " {'translation_text': 'Éditable & #160;:'},\n",
              " {'translation_text': 'Dollar des Îles Salomon'},\n",
              " {'translation_text': 'Commandes à éditer'},\n",
              " {'translation_text': 'Réseau, DNS, itinéraires, interfaces'},\n",
              " {'translation_text': 'Luminosité'},\n",
              " {'translation_text': 'Nauru'},\n",
              " {'translation_text': 'Cadran vocal'},\n",
              " {'translation_text': 'Taille du bouton & #160;:'},\n",
              " {'translation_text': 'Critique'},\n",
              " {'translation_text': 'Félicitations! Vous avez résolu le niveau %1 avec %2 moves! Avancer vers le suivant?'},\n",
              " {'translation_text': 'Boîte de dialogue'},\n",
              " {'translation_text': '... et la FAQ K3b ne vous aide pas...'},\n",
              " {'translation_text': 'Gilles Calier'},\n",
              " {'translation_text': 'En sélectionnant K Bouton Applications Configuration du système.'},\n",
              " {'translation_text': 'Qualité à laquelle une carte animée est peinte.'},\n",
              " {'translation_text': 'Nouveaux sous-clés & #160;:'},\n",
              " {'translation_text': 'Impossible de créer une mise en page sans nom.'},\n",
              " {'translation_text': 'En cours'},\n",
              " {'translation_text': \"Artiste de l'icône Kompare\"},\n",
              " {'translation_text': \"Activer/ Désactiver l' œil de l' oiseau\"},\n",
              " {'translation_text': 'Tableau'},\n",
              " {'translation_text': 'Exécuter néanmoins'},\n",
              " {'translation_text': 'Velocity'},\n",
              " {'translation_text': 'Remarques & #160;:'},\n",
              " {'translation_text': 'Fichier et paramètres du programme.'},\n",
              " {'translation_text': \"Pas de nom d' option donné\"},\n",
              " {'translation_text': \"Sélectionner l' année & Images\"},\n",
              " {'translation_text': 'Dollar guyanais'},\n",
              " {'translation_text': '& knetwalk;, un jeu pour les administrateurs système.'},\n",
              " {'translation_text': \"Menus définis par l' utilisateur\"},\n",
              " {'translation_text': 'Définit un jour de semaine et une semaine spécifique dans le mois sur lequel cet événement ou à faire doit se reproduire'},\n",
              " {'translation_text': 'Passwd discussion timeout & #160;:'},\n",
              " {'translation_text': '& Déplacement/ redimensionnement'},\n",
              " {'translation_text': '& Augmenter le volume'},\n",
              " {'translation_text': '0123456789'},\n",
              " {'translation_text': 'Pager'},\n",
              " {'translation_text': 'KImageMapEditor'},\n",
              " {'translation_text': 'Interruption'},\n",
              " {'translation_text': 'Folio américain'},\n",
              " {'translation_text': 'Le mot de passe que vous avez saisi a une faible force. Pour améliorer la force du mot de passe, essayez & #160;: - en utilisant un mot de passe plus long; - en utilisant un mélange de lettres majuscules et minuscules; - en utilisant des nombres ou des symboles ainsi que des lettres. Voulez-vous utiliser ce mot de passe de toute façon & #160;?'},\n",
              " {'translation_text': 'Ajouter un suivi'},\n",
              " {'translation_text': 'ou'},\n",
              " {'translation_text': \"Si cochée, le clic droit sur un élément le sélectionnera, mais ne désélectionnera pas d'autres éléments déjà sélectionnés.\"},\n",
              " {'translation_text': \"Trouver la prochaine occurrence d'un morceau de texte dans une présentation.\"},\n",
              " {'translation_text': 'Verbe'},\n",
              " {'translation_text': 'Configurer le partage de fichiers...'},\n",
              " {'translation_text': 'Impossible de créer des menus (peut-être %1 manquant ou corrompu)'},\n",
              " {'translation_text': \"Avertissement d'encodage de fichier\"},\n",
              " {'translation_text': 'Aller à & #160;:'},\n",
              " {'translation_text': \"Page d'exportation\"},\n",
              " {'translation_text': 'Aliments importés'},\n",
              " {'translation_text': 'Afrique/ Conakry'},\n",
              " {'translation_text': 'Protocole de messagerie instantanée de KAddressbook'},\n",
              " {'translation_text': 'Tom Albers'},\n",
              " {'translation_text': 'Glossaire'},\n",
              " {'translation_text': \"Charge la liste des bases de données depuis le serveur, de sorte que vous pouvez en sélectionner une à l'aide de la boîte combo « Nom ».\"},\n",
              " {'translation_text': 'Kugar'},\n",
              " {'translation_text': 'localErrorRatio'},\n",
              " {'translation_text': 'Chemin vers les sous-titres externes'},\n",
              " {'translation_text': 'Document à ouvrir'},\n",
              " {'translation_text': 'Ngultrum'},\n",
              " {'translation_text': 'Temps depuis la première séance de pratique en jours'},\n",
              " {'translation_text': '& Annuler'},\n",
              " {'translation_text': 'Description'},\n",
              " {'translation_text': 'Algorithme slider'},\n",
              " {'translation_text': \"Manuel de l'utilisateur de & kde;\"},\n",
              " {'translation_text': \"Mise à jour de l'étiquette, de la branche ou de la date\"},\n",
              " {'translation_text': 'Stdin est vide, pas de travail envoyé.'},\n",
              " {'translation_text': \"Re & #160;: c'est un test\"},\n",
              " {'translation_text': 'Objets dans le ciel'},\n",
              " {'translation_text': \"Basculer l'affichage des étiquettes de noms de planètes\"},\n",
              " {'translation_text': '& Signaler un bogue...'},\n",
              " {'translation_text': 'La bibliographie est une section en dehors de votre document principal, et un exemple de code pour la bibliographie ressemblerait à ce qui suit:'},\n",
              " {'translation_text': '160 kbs'},\n",
              " {'translation_text': 'Modifier'},\n",
              " {'translation_text': 'Secret & #160;: %1'},\n",
              " {'translation_text': 'Long Middle Short Cone Space (gonfle 32 bits/ canal)'},\n",
              " {'translation_text': \"Information sur le droit d'auteur sur le mot croisé\"},\n",
              " {'translation_text': 'Manuel & klettres;'},\n",
              " {'translation_text': \"J'ai fait une bonne image et je veux la partager avec mes amis. Puis-je l'enregistrer en tant qu'image ?\"},\n",
              " {'translation_text': 'Tamil'},\n",
              " {'translation_text': 'AutoLoginDelay'},\n",
              " {'translation_text': 'CHAR(65) renvoie « A »'},\n",
              " {'translation_text': 'Vérifiez les jours de la semaine qui sont des jours de travail'},\n",
              " {'translation_text': 'ISO A9'},\n",
              " {'translation_text': \"Réglez la longueur de l'arc de votre tarte.\"},\n",
              " {'translation_text': 'Notification de nouveaux messages'},\n",
              " {'translation_text': \"Le logiciel n'est pas en cours d'exécution\"},\n",
              " {'translation_text': 'Choisissez simplement les conditions que vous souhaitez inclure dans votre recherche, puis cliquez sur OK pour créer votre liste de lecture de recherche!'},\n",
              " {'translation_text': 'Vue DUChain'},\n",
              " {'translation_text': 'Basculer vers le mode Affichage par défaut.'},\n",
              " {'translation_text': 'Cliquez ensuite sur le bouton flèche droite pour le placer dans le panneau droit.'},\n",
              " {'translation_text': 'Apparence'},\n",
              " {'translation_text': 'Ce manuel décrit & kteatime;, le théière & kde;.'},\n",
              " {'translation_text': 'Adresse'},\n",
              " {'translation_text': 'retardAnnuler'},\n",
              " {'translation_text': \"Avec ce champ d'entrée, vous spécifiez le dossier que vous voulez charger pour créer le nouveau dictionnaire.\"},\n",
              " {'translation_text': 'Inverser'},\n",
              " {'translation_text': 'Crée une image RVB blanche de 1600 x 1200 pixels.'},\n",
              " {'translation_text': 'ROLES_OF_TRANSLATORS'},\n",
              " {'translation_text': 'RLE'},\n",
              " {'translation_text': 'Configuration des modèles'},\n",
              " {'translation_text': \"Spécifier le comportement d'une session à choix multiples\"},\n",
              " {'translation_text': 'Définir le nom...'},\n",
              " {'translation_text': 'En décochant la case Sons, les effets sonores de & clignote; seront supprimés.'},\n",
              " {'translation_text': 'Seuil & #160;:'},\n",
              " {'translation_text': 'Circuit - Capacitateur vertical'},\n",
              " {'translation_text': 'Aller'},\n",
              " {'translation_text': '& Fichier'},\n",
              " {'translation_text': 'Quitter & kguitar;'},\n",
              " {'translation_text': 'Propriété'},\n",
              " {'translation_text': 'Golf'},\n",
              " {'translation_text': \"Abréviation pour S synchrone P eripheral O perations O n L ine; SPOOL ing permet aux applications d'impression (et aux utilisateurs) de poursuivre leur travail pendant que le travail est pris en charge par un démon système, qui stocke le fichier à un emplacement temporaire jusqu'à ce que l'imprimante soit prête à imprimer.\"},\n",
              " {'translation_text': 'Peter Hedlund'},\n",
              " {'translation_text': '... vous pouvez appuyer sur +, -, CTRL + ou CTRL - pour changer rapidement les dates.'},\n",
              " {'translation_text': \"Basculer l' orientation de fractionnement\"},\n",
              " {'translation_text': '& kolourpaint; est un programme de peinture libre et facile à utiliser pour & kde;.'},\n",
              " {'translation_text': 'Charger'},\n",
              " {'translation_text': 'Veuillez insérer un support DVD vide ou appendable dans le lecteur%1'},\n",
              " {'translation_text': 'Menkent'},\n",
              " {'translation_text': 'Tous & #160;:'},\n",
              " {'translation_text': 'vide'},\n",
              " {'translation_text': 'Lorsque & kappname; démarre, vous êtes présenté avec un menu principal.'},\n",
              " {'translation_text': 'Planifier la mise à jour de la demande'},\n",
              " {'translation_text': 'Construisez une courbe de Bézier quadratique avec ce point de contrôle'},\n",
              " {'translation_text': '%1 rupiahs'},\n",
              " {'translation_text': 'Afrique/ Dar_es_Salaam'},\n",
              " {'translation_text': 'Préfixes numériques et chiffres romains'},\n",
              " {'translation_text': 'Écrire le lead-out peut prendre un certain temps.'},\n",
              " {'translation_text': 'Slider %1'},\n",
              " {'translation_text': 'Aperçu...'},\n",
              " {'translation_text': \"Importation de certificat & #160;: le certificat CA n'a pas pu être extrait.\"},\n",
              " {'translation_text': 'kuser'},\n",
              " {'translation_text': '192 kbs'},\n",
              " {'translation_text': \"Si cette option est cochée, K3b vérifiera la configuration du système pour tout problème au démarrage et lorsque l'utilisateur change les paramètres.\"},\n",
              " {'translation_text': \"L'ASAR BATTLEFIELD\"},\n",
              " {'translation_text': 'Est native se déplaçant (possiblement wobbling windows) active'},\n",
              " {'translation_text': 'Marge supérieure'},\n",
              " {'translation_text': 'Kile'},\n",
              " {'translation_text': 'Le menu Fichier'},\n",
              " {'translation_text': \"& Solveur d'équation...\"},\n",
              " {'translation_text': 'Développeur de base et auteur original'},\n",
              " {'translation_text': 'M3 est également courant, mais différent sur de nombreuses marques'},\n",
              " {'translation_text': 'Nouvelle contrainte...'},\n",
              " {'translation_text': '& Pamela. Roberts;'},\n",
              " {'translation_text': 'Jujuy (JY)'},\n",
              " {'translation_text': \"suffixe d'achèvement de Nick & #160;:\"},\n",
              " {'translation_text': 'Ctrl; - Affichage'},\n",
              " {'translation_text': \"& Paragraphe tiret par touches de barre d' outils & #160;:\"},\n",
              " {'translation_text': 'Jeu de minigolf KDE'},\n",
              " {'translation_text': 'Guadalajara'},\n",
              " {'translation_text': '& Album'},\n",
              " {'translation_text': 'et modifiez-le & #160;:'},\n",
              " {'translation_text': 'Flèche circulaire'},\n",
              " {'translation_text': '& Exporter le pilote...'},\n",
              " {'translation_text': '& Lauri. Watts; & Lauri. Watts. mail;'},\n",
              " {'translation_text': '4.400'},\n",
              " {'translation_text': 'MPEG Layer 2 (mp2)'},\n",
              " {'translation_text': 'Préserver la luminosité'},\n",
              " {'translation_text': '1.90'},\n",
              " {'translation_text': '(Défaut) Désactiver la prévention du vol pour XV'},\n",
              " {'translation_text': 'Choisissez comment combiner les options que vous spécifiez ici avec les options par défaut définies dans les paramètres de KPlayer. Par défaut utilise les options des paramètres de KPlayer, définissez Pour les remplacer par les options définies ici, et ajoutez ces options aux options par défaut.'},\n",
              " {'translation_text': 'K3bSetup – modifier la permission de gravure sur CD/ DVD avec K3b'},\n",
              " {'translation_text': \"Eva Brucherseifer pour l'écriture de KMath (kbruch; 's & GUI; est basé sur ce travail)\"},\n",
              " {'translation_text': \"Temps %1 & #160;: %2 & #160;: %3. %4 n'est pas valable.\"},\n",
              " {'translation_text': \"Affiche la correspondance actuelle des lettres de réponse aux nombres d'indices.\"},\n",
              " {'translation_text': \"Indique si les fichiers organisés renommeront des fichiers de sorte qu'ils ne contiennent que des caractères ASCII 7 bits.\"},\n",
              " {'translation_text': 'Clés de confiance disponibles'},\n",
              " {'translation_text': 'Dans les deux cas, & kspread; supposera que les données sont sous forme CSV et ouvrira une boîte de dialogue vous permettant de contrôler la manière dont les données sont extraites du fichier ou du presse-papiers et placées dans les cellules de la feuille de travail.'},\n",
              " {'translation_text': 'graphiques. xml'},\n",
              " {'translation_text': 'Impossible de supprimer le webseed %1, il fait partie du torrent.'},\n",
              " {'translation_text': 'Pour importer un fichier de données existant, saisissez son nom de fichier ici. Vous décrirez ensuite le contenu du fichier ci-dessous. Vous pouvez laisser le nom de fichier vide pour construire un fichier de catalogue avec un en-tête valide, mais pas de données.'},\n",
              " {'translation_text': \"Barre d' outils principale\"},\n",
              " {'translation_text': \"Enregistrer les modifications d' objets\"},\n",
              " {'translation_text': 'Jens Herden'},\n",
              " {'translation_text': 'Importation de certificats...'},\n",
              " {'translation_text': 'Renommer'},\n",
              " {'translation_text': 'chartreuse1'},\n",
              " {'translation_text': 'Dernière déclaration réconciliée & #160;: %1'},\n",
              " {'translation_text': 'Il semble que nous ayons été redirigés vers un autre serveur; je ne sais pas comment gérer cela.'},\n",
              " {'translation_text': 'Connexion'},\n",
              " {'translation_text': \"Les options suivantes déterminent les aspects de base de l'opération:\"},\n",
              " {'translation_text': 'Adresse Hw'},\n",
              " {'translation_text': 'Résistance du signal & #160;:'},\n",
              " {'translation_text': \"La suppression des objets se fait en les sélectionnant d'abord, puis en faisant l'un ou l'autre de ces choix & #160;:\"},\n",
              " {'translation_text': 'Chemin'},\n",
              " {'translation_text': 'Trouver des recettes correspondantes'},\n",
              " {'translation_text': '%1x%2x%3 brique, %4 mouvements de shuffling'},\n",
              " {'translation_text': \"Les sections suivantes décrivent, en détail, chaque élément. Tout de l'endroit où ils peuvent aller à ce qui s'y passe est exposé de manière facile à suivre.\"},\n",
              " {'translation_text': 'c), 2003 Cornelius Schumacher'},\n",
              " {'translation_text': 'Les actions montées seront affichées dans une vue de liste.'},\n",
              " {'translation_text': 'Comparaison de 2 fichiers & #160;:'},\n",
              " {'translation_text': 'Kjumpingcube'},\n",
              " {'translation_text': 'Message'},\n",
              " {'translation_text': \"Pour déterminer si un fichier de signets donné a été fusionné dans les signets de l'utilisateur déjà ou non, & kbookmarkmerger; regarde simplement le nom du fichier de signets - le contenu n'est pas coché du tout. Cela signifie que changer un fichier de signets qui a déjà été fusionné dans les signets d'un utilisateur ne déclenchera pas la fusion une fois de plus.\"},\n",
              " {'translation_text': 'OpenOffice Polska LLC'},\n",
              " {'translation_text': 'République du Congo'},\n",
              " {'translation_text': \"Permet aux entrées de la session actuelle d'être envoyées simultanément aux sessions sélectionnées par l'utilisateur (plus d'informations)\"},\n",
              " {'translation_text': 'lignes'},\n",
              " {'translation_text': 'Pourrait déterminer le projet actif'},\n",
              " {'translation_text': 'Coller le contenu du presse-papiers...'},\n",
              " {'translation_text': 'Si cela est désactivé et que vous appuyez sur la touche tabulateur, un tabulaire est inséré, sinon le nombre approprié de caractères est inséré.'},\n",
              " {'translation_text': 'Active/ Désactive la construction de document ANT (Java)'},\n",
              " {'translation_text': 'Jaune'},\n",
              " {'translation_text': 'Créer une nouvelle collection'},\n",
              " {'translation_text': 'Le groupe auquel doit appartenir la socket de commande globale; peut être soit un nom, soit un identifiant numérique.'},\n",
              " {'translation_text': \"Utilisez les paramètres de cache HTML à l'échelle de KDE lors du téléchargement des flux, afin d'éviter le trafic inutile. Désactivez seulement lorsque cela est nécessaire.\"},\n",
              " {'translation_text': 'KDE'},\n",
              " {'translation_text': 'Pluton'},\n",
              " {'translation_text': 'Inconnu'},\n",
              " {'translation_text': 'Configurer'},\n",
              " {'translation_text': 'Source'},\n",
              " {'translation_text': 'Envelopper les longues lignes'},\n",
              " {'translation_text': 'Le menu Fichier'},\n",
              " {'translation_text': \"Si activé, le facteur de zoom sur un cadre n'est appliqué qu'au texte.\"},\n",
              " {'translation_text': 'Utilisateur & #160;:'},\n",
              " {'translation_text': \"Le mimetype spécifié n'a pas d'usine de composants installée\"},\n",
              " {'translation_text': \"La séquence clé « & #160; %1 & #160; » est ambiguë. Utiliser & #160; « & #160; Configurer les raccourcis & #160; » depuis le menu « & #160; Réglages & #160; » pour résoudre l'ambiguïté. Aucune action ne sera déclenchée.\"},\n",
              " {'translation_text': 'Il y a beaucoup de fonctionnalités que vous pouvez ajouter à votre document qui le rendront plus lisible et convivial. Vous pouvez ajouter des fonctionnalités telles que des polices spécifiques, des caractères gras, des italiques, souligner & etc; à votre document, et ces commandes se terminent par une commande \\\\\\\\end, ou à la fin de votre environnement.'},\n",
              " {'translation_text': '10.345 Lsh 3 = donne aussi 80.'},\n",
              " {'translation_text': 'Antonio Aloisio'},\n",
              " {'translation_text': \"Ouvrir un fichier de base, puis déposer sa version modifiée dans la vue Sync primaire, puis Alt; Down ou Alt; Up (souvenez-vous que les raccourcis peuvent être modifiés d'une manière habituelle pour toutes les applications de & kde;) pour naviguer à travers les entrées qui sont différentes.\"},\n",
              " {'translation_text': 'Paraguay Guarani'},\n",
              " {'translation_text': 'Inverser/écraser le mode.'},\n",
              " {'translation_text': 'Argon'},\n",
              " {'translation_text': 'Limite de chargement'},\n",
              " {'translation_text': \"Barre d' outils Stick\"},\n",
              " {'translation_text': '*.svg_BAR_Scalable Vec tor Graphics'},\n",
              " {'translation_text': 'Janet'},\n",
              " {'translation_text': \"Vos choix ici affectent chaque application & kde; qui rend HTML avec le propre rendu de & kde;, qui s'appelle khtml. Ceux-ci comprennent & kmail;, & khelpcenter; et bien sûr & konqueror;. Les choix ici n'affectent pas d'autres navigateurs comme & Netscape;.\"},\n",
              " {'translation_text': \"Vous êtes sur le point de recréer l'index du dossier %1. Ceci détruira toutes les informations sur l'état du message. Voulez-vous vraiment continuer & #160;?\"},\n",
              " {'translation_text': \"Les raccourcis standard et les raccourcis globaux fonctionnent exactement de la même manière. En fait, d'une certaine manière, les raccourcis standard ou d'application sont aussi globaux. La seule différence est & #160;:\"},\n",
              " {'translation_text': '& Largeur'},\n",
              " {'translation_text': \"HotSync est désactivé parce que KPilot n'a pas pu déterminer l'état de l'économiseur d'écran. Vous pouvez désactiver cette fonction de sécurité en décochant la 'ne pas synchroniser lorsque l'économiseur d'écran est actif' dans la page HotSync de la boîte de dialogue de configuration.\"},\n",
              " {'translation_text': 'Un widget de boîte combo'},\n",
              " {'translation_text': \"Mes articles n'apparaissent pas dans le groupe de discussion.\"},\n",
              " {'translation_text': '& Pipe vers le terminal'},\n",
              " {'translation_text': 'Tailles spécifiées sont incohérentes!'},\n",
              " {'translation_text': 'IP & #160;:'},\n",
              " {'translation_text': 'Afficher le nombre de & lignes'},\n",
              " {'translation_text': \"Utilisation de la barre d' outils & #160;: cliquez sur l'icône\"},\n",
              " {'translation_text': '(C) 2005 - 2009, Les développeurs KGet (C) 2001 - 2002, Patrick Charbonnier (C) 2002, Carsten Pfeiffer (C) 1998 - 2000, Matej Koss'},\n",
              " {'translation_text': 'sous-sous-section: une section secondaire entre le sous-paragraphe et le paragraphe.'},\n",
              " {'translation_text': \"Dans vous pouvez voir la boîte de dialogue qui vous aide à importer un projet en tant que module. Pour accéder à la boîte de dialogue d'importation de & cervisia;, choisissez l'élément du menu Importer... du dépôt.\"},\n",
              " {'translation_text': 'Bevel & #160;:'},\n",
              " {'translation_text': \"Albums sans couverture qui n'affiche que les albums qui n'ont pas d'images de couverture.\"},\n",
              " {'translation_text': 'pas de configuration de version (erreur de programmeur)'},\n",
              " {'translation_text': 'Oui, yeux rouges, lumière de retour'},\n",
              " {'translation_text': \"D'autres vies peuvent être gagnées en attrapant le don de vie supplémentaire.\"},\n",
              " {'translation_text': \"Impossible d'utiliser le modificateur final sur un membre de classe abstrait.\"},\n",
              " {'translation_text': 'Ajouter aux listes de lecture'},\n",
              " {'translation_text': 'Utiliser une autre couleur de fond'},\n",
              " {'translation_text': 'Crédits'},\n",
              " {'translation_text': \"Vous avez besoin d'une variable et d'une valeur ou d'une variable pour faire un '='\"},\n",
              " {'translation_text': 'Adresse commerciale Rue'},\n",
              " {'translation_text': 'Retyper le mot de passe & #160;:'},\n",
              " {'translation_text': 'Option de menu de fichiers pour créer un diaporama HTML...'},\n",
              " {'translation_text': 'Afficher le texte défilant'},\n",
              " {'translation_text': 'Porto Rico (USA)'},\n",
              " {'translation_text': 'Hauteur & #160;:'},\n",
              " {'translation_text': 'Pause le jeu'},\n",
              " {'translation_text': 'État & #160;: %1'},\n",
              " {'translation_text': \"Si la case Activer l'anti-aliasing est cochée, la méthode anti-aliasing non récursive sera utilisée pour rendre la scène. Vous pouvez configurer les valeurs de profondeur et de seuil. Voir la section Modes de rendu pour une description détaillée des paramètres.\"},\n",
              " {'translation_text': 'Erreur'},\n",
              " {'translation_text': \"Je ne peux pas faire un '< =' sans 2 variables\"},\n",
              " {'translation_text': 'Aller sur le site Web de KDE'}]"
            ]
          },
          "metadata": {},
          "execution_count": 114
        }
      ],
      "source": [
        "translations"
      ]
    }
  ],
  "metadata": {
    "accelerator": "GPU",
    "colab": {
      "gpuType": "T4",
      "provenance": []
    },
    "kernelspec": {
      "display_name": "Python 3",
      "name": "python3"
    },
    "language_info": {
      "codemirror_mode": {
        "name": "ipython",
        "version": 3
      },
      "file_extension": ".py",
      "mimetype": "text/x-python",
      "name": "python",
      "nbconvert_exporter": "python",
      "pygments_lexer": "ipython3",
      "version": "3.9.13"
    },
    "widgets": {
      "application/vnd.jupyter.widget-state+json": {
        "0a81b2369ea249df93109a4dd5ed3d78": {
          "model_module": "@jupyter-widgets/controls",
          "model_name": "HBoxModel",
          "model_module_version": "1.5.0",
          "state": {
            "_dom_classes": [],
            "_model_module": "@jupyter-widgets/controls",
            "_model_module_version": "1.5.0",
            "_model_name": "HBoxModel",
            "_view_count": null,
            "_view_module": "@jupyter-widgets/controls",
            "_view_module_version": "1.5.0",
            "_view_name": "HBoxView",
            "box_style": "",
            "children": [
              "IPY_MODEL_d57520d874a54246b1a928ada944f153",
              "IPY_MODEL_50f523964e4d4de6a98576c4671463bf",
              "IPY_MODEL_e0da406c70704bf6b4c9acc8e3c68d98"
            ],
            "layout": "IPY_MODEL_3d3a7e3d3a4240f68179d3f592079003"
          }
        },
        "d57520d874a54246b1a928ada944f153": {
          "model_module": "@jupyter-widgets/controls",
          "model_name": "HTMLModel",
          "model_module_version": "1.5.0",
          "state": {
            "_dom_classes": [],
            "_model_module": "@jupyter-widgets/controls",
            "_model_module_version": "1.5.0",
            "_model_name": "HTMLModel",
            "_view_count": null,
            "_view_module": "@jupyter-widgets/controls",
            "_view_module_version": "1.5.0",
            "_view_name": "HTMLView",
            "description": "",
            "description_tooltip": null,
            "layout": "IPY_MODEL_300a9d71534943008105ebae8e91bc0e",
            "placeholder": "​",
            "style": "IPY_MODEL_b79b9604603d4f54b75fca85d3b87bd8",
            "value": "Downloading (…)olve/main/source.spm: 100%"
          }
        },
        "50f523964e4d4de6a98576c4671463bf": {
          "model_module": "@jupyter-widgets/controls",
          "model_name": "FloatProgressModel",
          "model_module_version": "1.5.0",
          "state": {
            "_dom_classes": [],
            "_model_module": "@jupyter-widgets/controls",
            "_model_module_version": "1.5.0",
            "_model_name": "FloatProgressModel",
            "_view_count": null,
            "_view_module": "@jupyter-widgets/controls",
            "_view_module_version": "1.5.0",
            "_view_name": "ProgressView",
            "bar_style": "success",
            "description": "",
            "description_tooltip": null,
            "layout": "IPY_MODEL_4923c1b4448f4722baa909e06a96728f",
            "max": 778395,
            "min": 0,
            "orientation": "horizontal",
            "style": "IPY_MODEL_86673a7cde5946f39794642a5cd7281b",
            "value": 778395
          }
        },
        "e0da406c70704bf6b4c9acc8e3c68d98": {
          "model_module": "@jupyter-widgets/controls",
          "model_name": "HTMLModel",
          "model_module_version": "1.5.0",
          "state": {
            "_dom_classes": [],
            "_model_module": "@jupyter-widgets/controls",
            "_model_module_version": "1.5.0",
            "_model_name": "HTMLModel",
            "_view_count": null,
            "_view_module": "@jupyter-widgets/controls",
            "_view_module_version": "1.5.0",
            "_view_name": "HTMLView",
            "description": "",
            "description_tooltip": null,
            "layout": "IPY_MODEL_54b8d581796b4a7fb0482b0661438def",
            "placeholder": "​",
            "style": "IPY_MODEL_f33519154b3e44c58ac29e9e0e957e49",
            "value": " 778k/778k [00:00&lt;00:00, 2.01MB/s]"
          }
        },
        "3d3a7e3d3a4240f68179d3f592079003": {
          "model_module": "@jupyter-widgets/base",
          "model_name": "LayoutModel",
          "model_module_version": "1.2.0",
          "state": {
            "_model_module": "@jupyter-widgets/base",
            "_model_module_version": "1.2.0",
            "_model_name": "LayoutModel",
            "_view_count": null,
            "_view_module": "@jupyter-widgets/base",
            "_view_module_version": "1.2.0",
            "_view_name": "LayoutView",
            "align_content": null,
            "align_items": null,
            "align_self": null,
            "border": null,
            "bottom": null,
            "display": null,
            "flex": null,
            "flex_flow": null,
            "grid_area": null,
            "grid_auto_columns": null,
            "grid_auto_flow": null,
            "grid_auto_rows": null,
            "grid_column": null,
            "grid_gap": null,
            "grid_row": null,
            "grid_template_areas": null,
            "grid_template_columns": null,
            "grid_template_rows": null,
            "height": null,
            "justify_content": null,
            "justify_items": null,
            "left": null,
            "margin": null,
            "max_height": null,
            "max_width": null,
            "min_height": null,
            "min_width": null,
            "object_fit": null,
            "object_position": null,
            "order": null,
            "overflow": null,
            "overflow_x": null,
            "overflow_y": null,
            "padding": null,
            "right": null,
            "top": null,
            "visibility": null,
            "width": null
          }
        },
        "300a9d71534943008105ebae8e91bc0e": {
          "model_module": "@jupyter-widgets/base",
          "model_name": "LayoutModel",
          "model_module_version": "1.2.0",
          "state": {
            "_model_module": "@jupyter-widgets/base",
            "_model_module_version": "1.2.0",
            "_model_name": "LayoutModel",
            "_view_count": null,
            "_view_module": "@jupyter-widgets/base",
            "_view_module_version": "1.2.0",
            "_view_name": "LayoutView",
            "align_content": null,
            "align_items": null,
            "align_self": null,
            "border": null,
            "bottom": null,
            "display": null,
            "flex": null,
            "flex_flow": null,
            "grid_area": null,
            "grid_auto_columns": null,
            "grid_auto_flow": null,
            "grid_auto_rows": null,
            "grid_column": null,
            "grid_gap": null,
            "grid_row": null,
            "grid_template_areas": null,
            "grid_template_columns": null,
            "grid_template_rows": null,
            "height": null,
            "justify_content": null,
            "justify_items": null,
            "left": null,
            "margin": null,
            "max_height": null,
            "max_width": null,
            "min_height": null,
            "min_width": null,
            "object_fit": null,
            "object_position": null,
            "order": null,
            "overflow": null,
            "overflow_x": null,
            "overflow_y": null,
            "padding": null,
            "right": null,
            "top": null,
            "visibility": null,
            "width": null
          }
        },
        "b79b9604603d4f54b75fca85d3b87bd8": {
          "model_module": "@jupyter-widgets/controls",
          "model_name": "DescriptionStyleModel",
          "model_module_version": "1.5.0",
          "state": {
            "_model_module": "@jupyter-widgets/controls",
            "_model_module_version": "1.5.0",
            "_model_name": "DescriptionStyleModel",
            "_view_count": null,
            "_view_module": "@jupyter-widgets/base",
            "_view_module_version": "1.2.0",
            "_view_name": "StyleView",
            "description_width": ""
          }
        },
        "4923c1b4448f4722baa909e06a96728f": {
          "model_module": "@jupyter-widgets/base",
          "model_name": "LayoutModel",
          "model_module_version": "1.2.0",
          "state": {
            "_model_module": "@jupyter-widgets/base",
            "_model_module_version": "1.2.0",
            "_model_name": "LayoutModel",
            "_view_count": null,
            "_view_module": "@jupyter-widgets/base",
            "_view_module_version": "1.2.0",
            "_view_name": "LayoutView",
            "align_content": null,
            "align_items": null,
            "align_self": null,
            "border": null,
            "bottom": null,
            "display": null,
            "flex": null,
            "flex_flow": null,
            "grid_area": null,
            "grid_auto_columns": null,
            "grid_auto_flow": null,
            "grid_auto_rows": null,
            "grid_column": null,
            "grid_gap": null,
            "grid_row": null,
            "grid_template_areas": null,
            "grid_template_columns": null,
            "grid_template_rows": null,
            "height": null,
            "justify_content": null,
            "justify_items": null,
            "left": null,
            "margin": null,
            "max_height": null,
            "max_width": null,
            "min_height": null,
            "min_width": null,
            "object_fit": null,
            "object_position": null,
            "order": null,
            "overflow": null,
            "overflow_x": null,
            "overflow_y": null,
            "padding": null,
            "right": null,
            "top": null,
            "visibility": null,
            "width": null
          }
        },
        "86673a7cde5946f39794642a5cd7281b": {
          "model_module": "@jupyter-widgets/controls",
          "model_name": "ProgressStyleModel",
          "model_module_version": "1.5.0",
          "state": {
            "_model_module": "@jupyter-widgets/controls",
            "_model_module_version": "1.5.0",
            "_model_name": "ProgressStyleModel",
            "_view_count": null,
            "_view_module": "@jupyter-widgets/base",
            "_view_module_version": "1.2.0",
            "_view_name": "StyleView",
            "bar_color": null,
            "description_width": ""
          }
        },
        "54b8d581796b4a7fb0482b0661438def": {
          "model_module": "@jupyter-widgets/base",
          "model_name": "LayoutModel",
          "model_module_version": "1.2.0",
          "state": {
            "_model_module": "@jupyter-widgets/base",
            "_model_module_version": "1.2.0",
            "_model_name": "LayoutModel",
            "_view_count": null,
            "_view_module": "@jupyter-widgets/base",
            "_view_module_version": "1.2.0",
            "_view_name": "LayoutView",
            "align_content": null,
            "align_items": null,
            "align_self": null,
            "border": null,
            "bottom": null,
            "display": null,
            "flex": null,
            "flex_flow": null,
            "grid_area": null,
            "grid_auto_columns": null,
            "grid_auto_flow": null,
            "grid_auto_rows": null,
            "grid_column": null,
            "grid_gap": null,
            "grid_row": null,
            "grid_template_areas": null,
            "grid_template_columns": null,
            "grid_template_rows": null,
            "height": null,
            "justify_content": null,
            "justify_items": null,
            "left": null,
            "margin": null,
            "max_height": null,
            "max_width": null,
            "min_height": null,
            "min_width": null,
            "object_fit": null,
            "object_position": null,
            "order": null,
            "overflow": null,
            "overflow_x": null,
            "overflow_y": null,
            "padding": null,
            "right": null,
            "top": null,
            "visibility": null,
            "width": null
          }
        },
        "f33519154b3e44c58ac29e9e0e957e49": {
          "model_module": "@jupyter-widgets/controls",
          "model_name": "DescriptionStyleModel",
          "model_module_version": "1.5.0",
          "state": {
            "_model_module": "@jupyter-widgets/controls",
            "_model_module_version": "1.5.0",
            "_model_name": "DescriptionStyleModel",
            "_view_count": null,
            "_view_module": "@jupyter-widgets/base",
            "_view_module_version": "1.2.0",
            "_view_name": "StyleView",
            "description_width": ""
          }
        },
        "1ae3baf91ca14c4b88aeae2cb0fc55a4": {
          "model_module": "@jupyter-widgets/controls",
          "model_name": "HBoxModel",
          "model_module_version": "1.5.0",
          "state": {
            "_dom_classes": [],
            "_model_module": "@jupyter-widgets/controls",
            "_model_module_version": "1.5.0",
            "_model_name": "HBoxModel",
            "_view_count": null,
            "_view_module": "@jupyter-widgets/controls",
            "_view_module_version": "1.5.0",
            "_view_name": "HBoxView",
            "box_style": "",
            "children": [
              "IPY_MODEL_0bda761477934877a767087736b2a579",
              "IPY_MODEL_2a0b89bcea2c47be9b4362310f860d4d",
              "IPY_MODEL_8e9fbc4717d44628b149a0938f9aa2f9"
            ],
            "layout": "IPY_MODEL_0b95698c45a743439783d871c8e14ee9"
          }
        },
        "0bda761477934877a767087736b2a579": {
          "model_module": "@jupyter-widgets/controls",
          "model_name": "HTMLModel",
          "model_module_version": "1.5.0",
          "state": {
            "_dom_classes": [],
            "_model_module": "@jupyter-widgets/controls",
            "_model_module_version": "1.5.0",
            "_model_name": "HTMLModel",
            "_view_count": null,
            "_view_module": "@jupyter-widgets/controls",
            "_view_module_version": "1.5.0",
            "_view_name": "HTMLView",
            "description": "",
            "description_tooltip": null,
            "layout": "IPY_MODEL_b21fcc6de0864b6084e729fa657e468c",
            "placeholder": "​",
            "style": "IPY_MODEL_8c2526ac428a48a19796eb3cec7a334c",
            "value": "Downloading (…)olve/main/target.spm: 100%"
          }
        },
        "2a0b89bcea2c47be9b4362310f860d4d": {
          "model_module": "@jupyter-widgets/controls",
          "model_name": "FloatProgressModel",
          "model_module_version": "1.5.0",
          "state": {
            "_dom_classes": [],
            "_model_module": "@jupyter-widgets/controls",
            "_model_module_version": "1.5.0",
            "_model_name": "FloatProgressModel",
            "_view_count": null,
            "_view_module": "@jupyter-widgets/controls",
            "_view_module_version": "1.5.0",
            "_view_name": "ProgressView",
            "bar_style": "success",
            "description": "",
            "description_tooltip": null,
            "layout": "IPY_MODEL_87d4fad7756c4b3cac3e83542b3a56c9",
            "max": 802397,
            "min": 0,
            "orientation": "horizontal",
            "style": "IPY_MODEL_3fd33d954e484116a17bffc3469e2828",
            "value": 802397
          }
        },
        "8e9fbc4717d44628b149a0938f9aa2f9": {
          "model_module": "@jupyter-widgets/controls",
          "model_name": "HTMLModel",
          "model_module_version": "1.5.0",
          "state": {
            "_dom_classes": [],
            "_model_module": "@jupyter-widgets/controls",
            "_model_module_version": "1.5.0",
            "_model_name": "HTMLModel",
            "_view_count": null,
            "_view_module": "@jupyter-widgets/controls",
            "_view_module_version": "1.5.0",
            "_view_name": "HTMLView",
            "description": "",
            "description_tooltip": null,
            "layout": "IPY_MODEL_7701101c374b474ab98d8ab15e4b6e16",
            "placeholder": "​",
            "style": "IPY_MODEL_68e65df309294466b5bc74c884997905",
            "value": " 802k/802k [00:00&lt;00:00, 29.1MB/s]"
          }
        },
        "0b95698c45a743439783d871c8e14ee9": {
          "model_module": "@jupyter-widgets/base",
          "model_name": "LayoutModel",
          "model_module_version": "1.2.0",
          "state": {
            "_model_module": "@jupyter-widgets/base",
            "_model_module_version": "1.2.0",
            "_model_name": "LayoutModel",
            "_view_count": null,
            "_view_module": "@jupyter-widgets/base",
            "_view_module_version": "1.2.0",
            "_view_name": "LayoutView",
            "align_content": null,
            "align_items": null,
            "align_self": null,
            "border": null,
            "bottom": null,
            "display": null,
            "flex": null,
            "flex_flow": null,
            "grid_area": null,
            "grid_auto_columns": null,
            "grid_auto_flow": null,
            "grid_auto_rows": null,
            "grid_column": null,
            "grid_gap": null,
            "grid_row": null,
            "grid_template_areas": null,
            "grid_template_columns": null,
            "grid_template_rows": null,
            "height": null,
            "justify_content": null,
            "justify_items": null,
            "left": null,
            "margin": null,
            "max_height": null,
            "max_width": null,
            "min_height": null,
            "min_width": null,
            "object_fit": null,
            "object_position": null,
            "order": null,
            "overflow": null,
            "overflow_x": null,
            "overflow_y": null,
            "padding": null,
            "right": null,
            "top": null,
            "visibility": null,
            "width": null
          }
        },
        "b21fcc6de0864b6084e729fa657e468c": {
          "model_module": "@jupyter-widgets/base",
          "model_name": "LayoutModel",
          "model_module_version": "1.2.0",
          "state": {
            "_model_module": "@jupyter-widgets/base",
            "_model_module_version": "1.2.0",
            "_model_name": "LayoutModel",
            "_view_count": null,
            "_view_module": "@jupyter-widgets/base",
            "_view_module_version": "1.2.0",
            "_view_name": "LayoutView",
            "align_content": null,
            "align_items": null,
            "align_self": null,
            "border": null,
            "bottom": null,
            "display": null,
            "flex": null,
            "flex_flow": null,
            "grid_area": null,
            "grid_auto_columns": null,
            "grid_auto_flow": null,
            "grid_auto_rows": null,
            "grid_column": null,
            "grid_gap": null,
            "grid_row": null,
            "grid_template_areas": null,
            "grid_template_columns": null,
            "grid_template_rows": null,
            "height": null,
            "justify_content": null,
            "justify_items": null,
            "left": null,
            "margin": null,
            "max_height": null,
            "max_width": null,
            "min_height": null,
            "min_width": null,
            "object_fit": null,
            "object_position": null,
            "order": null,
            "overflow": null,
            "overflow_x": null,
            "overflow_y": null,
            "padding": null,
            "right": null,
            "top": null,
            "visibility": null,
            "width": null
          }
        },
        "8c2526ac428a48a19796eb3cec7a334c": {
          "model_module": "@jupyter-widgets/controls",
          "model_name": "DescriptionStyleModel",
          "model_module_version": "1.5.0",
          "state": {
            "_model_module": "@jupyter-widgets/controls",
            "_model_module_version": "1.5.0",
            "_model_name": "DescriptionStyleModel",
            "_view_count": null,
            "_view_module": "@jupyter-widgets/base",
            "_view_module_version": "1.2.0",
            "_view_name": "StyleView",
            "description_width": ""
          }
        },
        "87d4fad7756c4b3cac3e83542b3a56c9": {
          "model_module": "@jupyter-widgets/base",
          "model_name": "LayoutModel",
          "model_module_version": "1.2.0",
          "state": {
            "_model_module": "@jupyter-widgets/base",
            "_model_module_version": "1.2.0",
            "_model_name": "LayoutModel",
            "_view_count": null,
            "_view_module": "@jupyter-widgets/base",
            "_view_module_version": "1.2.0",
            "_view_name": "LayoutView",
            "align_content": null,
            "align_items": null,
            "align_self": null,
            "border": null,
            "bottom": null,
            "display": null,
            "flex": null,
            "flex_flow": null,
            "grid_area": null,
            "grid_auto_columns": null,
            "grid_auto_flow": null,
            "grid_auto_rows": null,
            "grid_column": null,
            "grid_gap": null,
            "grid_row": null,
            "grid_template_areas": null,
            "grid_template_columns": null,
            "grid_template_rows": null,
            "height": null,
            "justify_content": null,
            "justify_items": null,
            "left": null,
            "margin": null,
            "max_height": null,
            "max_width": null,
            "min_height": null,
            "min_width": null,
            "object_fit": null,
            "object_position": null,
            "order": null,
            "overflow": null,
            "overflow_x": null,
            "overflow_y": null,
            "padding": null,
            "right": null,
            "top": null,
            "visibility": null,
            "width": null
          }
        },
        "3fd33d954e484116a17bffc3469e2828": {
          "model_module": "@jupyter-widgets/controls",
          "model_name": "ProgressStyleModel",
          "model_module_version": "1.5.0",
          "state": {
            "_model_module": "@jupyter-widgets/controls",
            "_model_module_version": "1.5.0",
            "_model_name": "ProgressStyleModel",
            "_view_count": null,
            "_view_module": "@jupyter-widgets/base",
            "_view_module_version": "1.2.0",
            "_view_name": "StyleView",
            "bar_color": null,
            "description_width": ""
          }
        },
        "7701101c374b474ab98d8ab15e4b6e16": {
          "model_module": "@jupyter-widgets/base",
          "model_name": "LayoutModel",
          "model_module_version": "1.2.0",
          "state": {
            "_model_module": "@jupyter-widgets/base",
            "_model_module_version": "1.2.0",
            "_model_name": "LayoutModel",
            "_view_count": null,
            "_view_module": "@jupyter-widgets/base",
            "_view_module_version": "1.2.0",
            "_view_name": "LayoutView",
            "align_content": null,
            "align_items": null,
            "align_self": null,
            "border": null,
            "bottom": null,
            "display": null,
            "flex": null,
            "flex_flow": null,
            "grid_area": null,
            "grid_auto_columns": null,
            "grid_auto_flow": null,
            "grid_auto_rows": null,
            "grid_column": null,
            "grid_gap": null,
            "grid_row": null,
            "grid_template_areas": null,
            "grid_template_columns": null,
            "grid_template_rows": null,
            "height": null,
            "justify_content": null,
            "justify_items": null,
            "left": null,
            "margin": null,
            "max_height": null,
            "max_width": null,
            "min_height": null,
            "min_width": null,
            "object_fit": null,
            "object_position": null,
            "order": null,
            "overflow": null,
            "overflow_x": null,
            "overflow_y": null,
            "padding": null,
            "right": null,
            "top": null,
            "visibility": null,
            "width": null
          }
        },
        "68e65df309294466b5bc74c884997905": {
          "model_module": "@jupyter-widgets/controls",
          "model_name": "DescriptionStyleModel",
          "model_module_version": "1.5.0",
          "state": {
            "_model_module": "@jupyter-widgets/controls",
            "_model_module_version": "1.5.0",
            "_model_name": "DescriptionStyleModel",
            "_view_count": null,
            "_view_module": "@jupyter-widgets/base",
            "_view_module_version": "1.2.0",
            "_view_name": "StyleView",
            "description_width": ""
          }
        },
        "07f929d086594c8e9eb3395a1b1c4526": {
          "model_module": "@jupyter-widgets/controls",
          "model_name": "HBoxModel",
          "model_module_version": "1.5.0",
          "state": {
            "_dom_classes": [],
            "_model_module": "@jupyter-widgets/controls",
            "_model_module_version": "1.5.0",
            "_model_name": "HBoxModel",
            "_view_count": null,
            "_view_module": "@jupyter-widgets/controls",
            "_view_module_version": "1.5.0",
            "_view_name": "HBoxView",
            "box_style": "",
            "children": [
              "IPY_MODEL_adcbf1df05f743fea0c6751fd61c3844",
              "IPY_MODEL_def8d87a52214c22931a5b1cba24f304",
              "IPY_MODEL_bfaecfa896db4efca267df403f2854e6"
            ],
            "layout": "IPY_MODEL_884a45380542445c90782aeffb2e2c8d"
          }
        },
        "adcbf1df05f743fea0c6751fd61c3844": {
          "model_module": "@jupyter-widgets/controls",
          "model_name": "HTMLModel",
          "model_module_version": "1.5.0",
          "state": {
            "_dom_classes": [],
            "_model_module": "@jupyter-widgets/controls",
            "_model_module_version": "1.5.0",
            "_model_name": "HTMLModel",
            "_view_count": null,
            "_view_module": "@jupyter-widgets/controls",
            "_view_module_version": "1.5.0",
            "_view_name": "HTMLView",
            "description": "",
            "description_tooltip": null,
            "layout": "IPY_MODEL_c5bc0862960346f59d6ff25e77ab6cf4",
            "placeholder": "​",
            "style": "IPY_MODEL_ce387e5541904da0a3c00db72e441a83",
            "value": "Downloading (…)olve/main/vocab.json: 100%"
          }
        },
        "def8d87a52214c22931a5b1cba24f304": {
          "model_module": "@jupyter-widgets/controls",
          "model_name": "FloatProgressModel",
          "model_module_version": "1.5.0",
          "state": {
            "_dom_classes": [],
            "_model_module": "@jupyter-widgets/controls",
            "_model_module_version": "1.5.0",
            "_model_name": "FloatProgressModel",
            "_view_count": null,
            "_view_module": "@jupyter-widgets/controls",
            "_view_module_version": "1.5.0",
            "_view_name": "ProgressView",
            "bar_style": "success",
            "description": "",
            "description_tooltip": null,
            "layout": "IPY_MODEL_51563df688d44688868b7c363f1749d9",
            "max": 1339166,
            "min": 0,
            "orientation": "horizontal",
            "style": "IPY_MODEL_fa03c0f2602d47e8adfed90a1417aed3",
            "value": 1339166
          }
        },
        "bfaecfa896db4efca267df403f2854e6": {
          "model_module": "@jupyter-widgets/controls",
          "model_name": "HTMLModel",
          "model_module_version": "1.5.0",
          "state": {
            "_dom_classes": [],
            "_model_module": "@jupyter-widgets/controls",
            "_model_module_version": "1.5.0",
            "_model_name": "HTMLModel",
            "_view_count": null,
            "_view_module": "@jupyter-widgets/controls",
            "_view_module_version": "1.5.0",
            "_view_name": "HTMLView",
            "description": "",
            "description_tooltip": null,
            "layout": "IPY_MODEL_5e1ac0a731cb4e28b4183200e4cf2115",
            "placeholder": "​",
            "style": "IPY_MODEL_0bb1c737450c4476bfab8aaa65d2fb5d",
            "value": " 1.34M/1.34M [00:00&lt;00:00, 2.81MB/s]"
          }
        },
        "884a45380542445c90782aeffb2e2c8d": {
          "model_module": "@jupyter-widgets/base",
          "model_name": "LayoutModel",
          "model_module_version": "1.2.0",
          "state": {
            "_model_module": "@jupyter-widgets/base",
            "_model_module_version": "1.2.0",
            "_model_name": "LayoutModel",
            "_view_count": null,
            "_view_module": "@jupyter-widgets/base",
            "_view_module_version": "1.2.0",
            "_view_name": "LayoutView",
            "align_content": null,
            "align_items": null,
            "align_self": null,
            "border": null,
            "bottom": null,
            "display": null,
            "flex": null,
            "flex_flow": null,
            "grid_area": null,
            "grid_auto_columns": null,
            "grid_auto_flow": null,
            "grid_auto_rows": null,
            "grid_column": null,
            "grid_gap": null,
            "grid_row": null,
            "grid_template_areas": null,
            "grid_template_columns": null,
            "grid_template_rows": null,
            "height": null,
            "justify_content": null,
            "justify_items": null,
            "left": null,
            "margin": null,
            "max_height": null,
            "max_width": null,
            "min_height": null,
            "min_width": null,
            "object_fit": null,
            "object_position": null,
            "order": null,
            "overflow": null,
            "overflow_x": null,
            "overflow_y": null,
            "padding": null,
            "right": null,
            "top": null,
            "visibility": null,
            "width": null
          }
        },
        "c5bc0862960346f59d6ff25e77ab6cf4": {
          "model_module": "@jupyter-widgets/base",
          "model_name": "LayoutModel",
          "model_module_version": "1.2.0",
          "state": {
            "_model_module": "@jupyter-widgets/base",
            "_model_module_version": "1.2.0",
            "_model_name": "LayoutModel",
            "_view_count": null,
            "_view_module": "@jupyter-widgets/base",
            "_view_module_version": "1.2.0",
            "_view_name": "LayoutView",
            "align_content": null,
            "align_items": null,
            "align_self": null,
            "border": null,
            "bottom": null,
            "display": null,
            "flex": null,
            "flex_flow": null,
            "grid_area": null,
            "grid_auto_columns": null,
            "grid_auto_flow": null,
            "grid_auto_rows": null,
            "grid_column": null,
            "grid_gap": null,
            "grid_row": null,
            "grid_template_areas": null,
            "grid_template_columns": null,
            "grid_template_rows": null,
            "height": null,
            "justify_content": null,
            "justify_items": null,
            "left": null,
            "margin": null,
            "max_height": null,
            "max_width": null,
            "min_height": null,
            "min_width": null,
            "object_fit": null,
            "object_position": null,
            "order": null,
            "overflow": null,
            "overflow_x": null,
            "overflow_y": null,
            "padding": null,
            "right": null,
            "top": null,
            "visibility": null,
            "width": null
          }
        },
        "ce387e5541904da0a3c00db72e441a83": {
          "model_module": "@jupyter-widgets/controls",
          "model_name": "DescriptionStyleModel",
          "model_module_version": "1.5.0",
          "state": {
            "_model_module": "@jupyter-widgets/controls",
            "_model_module_version": "1.5.0",
            "_model_name": "DescriptionStyleModel",
            "_view_count": null,
            "_view_module": "@jupyter-widgets/base",
            "_view_module_version": "1.2.0",
            "_view_name": "StyleView",
            "description_width": ""
          }
        },
        "51563df688d44688868b7c363f1749d9": {
          "model_module": "@jupyter-widgets/base",
          "model_name": "LayoutModel",
          "model_module_version": "1.2.0",
          "state": {
            "_model_module": "@jupyter-widgets/base",
            "_model_module_version": "1.2.0",
            "_model_name": "LayoutModel",
            "_view_count": null,
            "_view_module": "@jupyter-widgets/base",
            "_view_module_version": "1.2.0",
            "_view_name": "LayoutView",
            "align_content": null,
            "align_items": null,
            "align_self": null,
            "border": null,
            "bottom": null,
            "display": null,
            "flex": null,
            "flex_flow": null,
            "grid_area": null,
            "grid_auto_columns": null,
            "grid_auto_flow": null,
            "grid_auto_rows": null,
            "grid_column": null,
            "grid_gap": null,
            "grid_row": null,
            "grid_template_areas": null,
            "grid_template_columns": null,
            "grid_template_rows": null,
            "height": null,
            "justify_content": null,
            "justify_items": null,
            "left": null,
            "margin": null,
            "max_height": null,
            "max_width": null,
            "min_height": null,
            "min_width": null,
            "object_fit": null,
            "object_position": null,
            "order": null,
            "overflow": null,
            "overflow_x": null,
            "overflow_y": null,
            "padding": null,
            "right": null,
            "top": null,
            "visibility": null,
            "width": null
          }
        },
        "fa03c0f2602d47e8adfed90a1417aed3": {
          "model_module": "@jupyter-widgets/controls",
          "model_name": "ProgressStyleModel",
          "model_module_version": "1.5.0",
          "state": {
            "_model_module": "@jupyter-widgets/controls",
            "_model_module_version": "1.5.0",
            "_model_name": "ProgressStyleModel",
            "_view_count": null,
            "_view_module": "@jupyter-widgets/base",
            "_view_module_version": "1.2.0",
            "_view_name": "StyleView",
            "bar_color": null,
            "description_width": ""
          }
        },
        "5e1ac0a731cb4e28b4183200e4cf2115": {
          "model_module": "@jupyter-widgets/base",
          "model_name": "LayoutModel",
          "model_module_version": "1.2.0",
          "state": {
            "_model_module": "@jupyter-widgets/base",
            "_model_module_version": "1.2.0",
            "_model_name": "LayoutModel",
            "_view_count": null,
            "_view_module": "@jupyter-widgets/base",
            "_view_module_version": "1.2.0",
            "_view_name": "LayoutView",
            "align_content": null,
            "align_items": null,
            "align_self": null,
            "border": null,
            "bottom": null,
            "display": null,
            "flex": null,
            "flex_flow": null,
            "grid_area": null,
            "grid_auto_columns": null,
            "grid_auto_flow": null,
            "grid_auto_rows": null,
            "grid_column": null,
            "grid_gap": null,
            "grid_row": null,
            "grid_template_areas": null,
            "grid_template_columns": null,
            "grid_template_rows": null,
            "height": null,
            "justify_content": null,
            "justify_items": null,
            "left": null,
            "margin": null,
            "max_height": null,
            "max_width": null,
            "min_height": null,
            "min_width": null,
            "object_fit": null,
            "object_position": null,
            "order": null,
            "overflow": null,
            "overflow_x": null,
            "overflow_y": null,
            "padding": null,
            "right": null,
            "top": null,
            "visibility": null,
            "width": null
          }
        },
        "0bb1c737450c4476bfab8aaa65d2fb5d": {
          "model_module": "@jupyter-widgets/controls",
          "model_name": "DescriptionStyleModel",
          "model_module_version": "1.5.0",
          "state": {
            "_model_module": "@jupyter-widgets/controls",
            "_model_module_version": "1.5.0",
            "_model_name": "DescriptionStyleModel",
            "_view_count": null,
            "_view_module": "@jupyter-widgets/base",
            "_view_module_version": "1.2.0",
            "_view_name": "StyleView",
            "description_width": ""
          }
        },
        "6ebe0230421c46f1b08b494fbb5e818d": {
          "model_module": "@jupyter-widgets/controls",
          "model_name": "HBoxModel",
          "model_module_version": "1.5.0",
          "state": {
            "_dom_classes": [],
            "_model_module": "@jupyter-widgets/controls",
            "_model_module_version": "1.5.0",
            "_model_name": "HBoxModel",
            "_view_count": null,
            "_view_module": "@jupyter-widgets/controls",
            "_view_module_version": "1.5.0",
            "_view_name": "HBoxView",
            "box_style": "",
            "children": [
              "IPY_MODEL_bed7e5745ed14cee97576659bf4e2e16",
              "IPY_MODEL_401adf533a07427ab4424f5763263e73",
              "IPY_MODEL_33b4ad3c8e6a420aa7c90f216bc3e474"
            ],
            "layout": "IPY_MODEL_2a208ec54bc04fd8ad0bde0d322f31ec"
          }
        },
        "bed7e5745ed14cee97576659bf4e2e16": {
          "model_module": "@jupyter-widgets/controls",
          "model_name": "HTMLModel",
          "model_module_version": "1.5.0",
          "state": {
            "_dom_classes": [],
            "_model_module": "@jupyter-widgets/controls",
            "_model_module_version": "1.5.0",
            "_model_name": "HTMLModel",
            "_view_count": null,
            "_view_module": "@jupyter-widgets/controls",
            "_view_module_version": "1.5.0",
            "_view_name": "HTMLView",
            "description": "",
            "description_tooltip": null,
            "layout": "IPY_MODEL_160bb8a946934463af4d0e7cb129ef70",
            "placeholder": "​",
            "style": "IPY_MODEL_de548bd043ba4d6dabdee1a3611b60a6",
            "value": "Map: 100%"
          }
        },
        "401adf533a07427ab4424f5763263e73": {
          "model_module": "@jupyter-widgets/controls",
          "model_name": "FloatProgressModel",
          "model_module_version": "1.5.0",
          "state": {
            "_dom_classes": [],
            "_model_module": "@jupyter-widgets/controls",
            "_model_module_version": "1.5.0",
            "_model_name": "FloatProgressModel",
            "_view_count": null,
            "_view_module": "@jupyter-widgets/controls",
            "_view_module_version": "1.5.0",
            "_view_name": "ProgressView",
            "bar_style": "success",
            "description": "",
            "description_tooltip": null,
            "layout": "IPY_MODEL_ab382ae3476d4678a2ae900d79221229",
            "max": 1000,
            "min": 0,
            "orientation": "horizontal",
            "style": "IPY_MODEL_31b3f383c8a14892a0a8c36e9ebf0098",
            "value": 1000
          }
        },
        "33b4ad3c8e6a420aa7c90f216bc3e474": {
          "model_module": "@jupyter-widgets/controls",
          "model_name": "HTMLModel",
          "model_module_version": "1.5.0",
          "state": {
            "_dom_classes": [],
            "_model_module": "@jupyter-widgets/controls",
            "_model_module_version": "1.5.0",
            "_model_name": "HTMLModel",
            "_view_count": null,
            "_view_module": "@jupyter-widgets/controls",
            "_view_module_version": "1.5.0",
            "_view_name": "HTMLView",
            "description": "",
            "description_tooltip": null,
            "layout": "IPY_MODEL_8e49425cb4064c4892d33871d29ede6d",
            "placeholder": "​",
            "style": "IPY_MODEL_7dc35aafd8814f71ab8d7d14feecea16",
            "value": " 1000/1000 [00:01&lt;00:00, 754.13 examples/s]"
          }
        },
        "2a208ec54bc04fd8ad0bde0d322f31ec": {
          "model_module": "@jupyter-widgets/base",
          "model_name": "LayoutModel",
          "model_module_version": "1.2.0",
          "state": {
            "_model_module": "@jupyter-widgets/base",
            "_model_module_version": "1.2.0",
            "_model_name": "LayoutModel",
            "_view_count": null,
            "_view_module": "@jupyter-widgets/base",
            "_view_module_version": "1.2.0",
            "_view_name": "LayoutView",
            "align_content": null,
            "align_items": null,
            "align_self": null,
            "border": null,
            "bottom": null,
            "display": null,
            "flex": null,
            "flex_flow": null,
            "grid_area": null,
            "grid_auto_columns": null,
            "grid_auto_flow": null,
            "grid_auto_rows": null,
            "grid_column": null,
            "grid_gap": null,
            "grid_row": null,
            "grid_template_areas": null,
            "grid_template_columns": null,
            "grid_template_rows": null,
            "height": null,
            "justify_content": null,
            "justify_items": null,
            "left": null,
            "margin": null,
            "max_height": null,
            "max_width": null,
            "min_height": null,
            "min_width": null,
            "object_fit": null,
            "object_position": null,
            "order": null,
            "overflow": null,
            "overflow_x": null,
            "overflow_y": null,
            "padding": null,
            "right": null,
            "top": null,
            "visibility": null,
            "width": null
          }
        },
        "160bb8a946934463af4d0e7cb129ef70": {
          "model_module": "@jupyter-widgets/base",
          "model_name": "LayoutModel",
          "model_module_version": "1.2.0",
          "state": {
            "_model_module": "@jupyter-widgets/base",
            "_model_module_version": "1.2.0",
            "_model_name": "LayoutModel",
            "_view_count": null,
            "_view_module": "@jupyter-widgets/base",
            "_view_module_version": "1.2.0",
            "_view_name": "LayoutView",
            "align_content": null,
            "align_items": null,
            "align_self": null,
            "border": null,
            "bottom": null,
            "display": null,
            "flex": null,
            "flex_flow": null,
            "grid_area": null,
            "grid_auto_columns": null,
            "grid_auto_flow": null,
            "grid_auto_rows": null,
            "grid_column": null,
            "grid_gap": null,
            "grid_row": null,
            "grid_template_areas": null,
            "grid_template_columns": null,
            "grid_template_rows": null,
            "height": null,
            "justify_content": null,
            "justify_items": null,
            "left": null,
            "margin": null,
            "max_height": null,
            "max_width": null,
            "min_height": null,
            "min_width": null,
            "object_fit": null,
            "object_position": null,
            "order": null,
            "overflow": null,
            "overflow_x": null,
            "overflow_y": null,
            "padding": null,
            "right": null,
            "top": null,
            "visibility": null,
            "width": null
          }
        },
        "de548bd043ba4d6dabdee1a3611b60a6": {
          "model_module": "@jupyter-widgets/controls",
          "model_name": "DescriptionStyleModel",
          "model_module_version": "1.5.0",
          "state": {
            "_model_module": "@jupyter-widgets/controls",
            "_model_module_version": "1.5.0",
            "_model_name": "DescriptionStyleModel",
            "_view_count": null,
            "_view_module": "@jupyter-widgets/base",
            "_view_module_version": "1.2.0",
            "_view_name": "StyleView",
            "description_width": ""
          }
        },
        "ab382ae3476d4678a2ae900d79221229": {
          "model_module": "@jupyter-widgets/base",
          "model_name": "LayoutModel",
          "model_module_version": "1.2.0",
          "state": {
            "_model_module": "@jupyter-widgets/base",
            "_model_module_version": "1.2.0",
            "_model_name": "LayoutModel",
            "_view_count": null,
            "_view_module": "@jupyter-widgets/base",
            "_view_module_version": "1.2.0",
            "_view_name": "LayoutView",
            "align_content": null,
            "align_items": null,
            "align_self": null,
            "border": null,
            "bottom": null,
            "display": null,
            "flex": null,
            "flex_flow": null,
            "grid_area": null,
            "grid_auto_columns": null,
            "grid_auto_flow": null,
            "grid_auto_rows": null,
            "grid_column": null,
            "grid_gap": null,
            "grid_row": null,
            "grid_template_areas": null,
            "grid_template_columns": null,
            "grid_template_rows": null,
            "height": null,
            "justify_content": null,
            "justify_items": null,
            "left": null,
            "margin": null,
            "max_height": null,
            "max_width": null,
            "min_height": null,
            "min_width": null,
            "object_fit": null,
            "object_position": null,
            "order": null,
            "overflow": null,
            "overflow_x": null,
            "overflow_y": null,
            "padding": null,
            "right": null,
            "top": null,
            "visibility": null,
            "width": null
          }
        },
        "31b3f383c8a14892a0a8c36e9ebf0098": {
          "model_module": "@jupyter-widgets/controls",
          "model_name": "ProgressStyleModel",
          "model_module_version": "1.5.0",
          "state": {
            "_model_module": "@jupyter-widgets/controls",
            "_model_module_version": "1.5.0",
            "_model_name": "ProgressStyleModel",
            "_view_count": null,
            "_view_module": "@jupyter-widgets/base",
            "_view_module_version": "1.2.0",
            "_view_name": "StyleView",
            "bar_color": null,
            "description_width": ""
          }
        },
        "8e49425cb4064c4892d33871d29ede6d": {
          "model_module": "@jupyter-widgets/base",
          "model_name": "LayoutModel",
          "model_module_version": "1.2.0",
          "state": {
            "_model_module": "@jupyter-widgets/base",
            "_model_module_version": "1.2.0",
            "_model_name": "LayoutModel",
            "_view_count": null,
            "_view_module": "@jupyter-widgets/base",
            "_view_module_version": "1.2.0",
            "_view_name": "LayoutView",
            "align_content": null,
            "align_items": null,
            "align_self": null,
            "border": null,
            "bottom": null,
            "display": null,
            "flex": null,
            "flex_flow": null,
            "grid_area": null,
            "grid_auto_columns": null,
            "grid_auto_flow": null,
            "grid_auto_rows": null,
            "grid_column": null,
            "grid_gap": null,
            "grid_row": null,
            "grid_template_areas": null,
            "grid_template_columns": null,
            "grid_template_rows": null,
            "height": null,
            "justify_content": null,
            "justify_items": null,
            "left": null,
            "margin": null,
            "max_height": null,
            "max_width": null,
            "min_height": null,
            "min_width": null,
            "object_fit": null,
            "object_position": null,
            "order": null,
            "overflow": null,
            "overflow_x": null,
            "overflow_y": null,
            "padding": null,
            "right": null,
            "top": null,
            "visibility": null,
            "width": null
          }
        },
        "7dc35aafd8814f71ab8d7d14feecea16": {
          "model_module": "@jupyter-widgets/controls",
          "model_name": "DescriptionStyleModel",
          "model_module_version": "1.5.0",
          "state": {
            "_model_module": "@jupyter-widgets/controls",
            "_model_module_version": "1.5.0",
            "_model_name": "DescriptionStyleModel",
            "_view_count": null,
            "_view_module": "@jupyter-widgets/base",
            "_view_module_version": "1.2.0",
            "_view_name": "StyleView",
            "description_width": ""
          }
        },
        "8f343d00a9a94689b066d1c6db0d06ad": {
          "model_module": "@jupyter-widgets/controls",
          "model_name": "HBoxModel",
          "model_module_version": "1.5.0",
          "state": {
            "_dom_classes": [],
            "_model_module": "@jupyter-widgets/controls",
            "_model_module_version": "1.5.0",
            "_model_name": "HBoxModel",
            "_view_count": null,
            "_view_module": "@jupyter-widgets/controls",
            "_view_module_version": "1.5.0",
            "_view_name": "HBoxView",
            "box_style": "",
            "children": [
              "IPY_MODEL_bf2046f853414a33a41ce9d4651d6f8b",
              "IPY_MODEL_a7b3b2b502e94691b84d58c66720eee0",
              "IPY_MODEL_67304d1dfcdf4fd1bcb1cb8bb383ce14"
            ],
            "layout": "IPY_MODEL_dab2a032d7774019a5daef1ab71584c4"
          }
        },
        "bf2046f853414a33a41ce9d4651d6f8b": {
          "model_module": "@jupyter-widgets/controls",
          "model_name": "HTMLModel",
          "model_module_version": "1.5.0",
          "state": {
            "_dom_classes": [],
            "_model_module": "@jupyter-widgets/controls",
            "_model_module_version": "1.5.0",
            "_model_name": "HTMLModel",
            "_view_count": null,
            "_view_module": "@jupyter-widgets/controls",
            "_view_module_version": "1.5.0",
            "_view_name": "HTMLView",
            "description": "",
            "description_tooltip": null,
            "layout": "IPY_MODEL_7c58c8dc72514f758f6d93ac4c81dc8d",
            "placeholder": "​",
            "style": "IPY_MODEL_8685635b44b5498fb68427ee4cebe66d",
            "value": "Map: 100%"
          }
        },
        "a7b3b2b502e94691b84d58c66720eee0": {
          "model_module": "@jupyter-widgets/controls",
          "model_name": "FloatProgressModel",
          "model_module_version": "1.5.0",
          "state": {
            "_dom_classes": [],
            "_model_module": "@jupyter-widgets/controls",
            "_model_module_version": "1.5.0",
            "_model_name": "FloatProgressModel",
            "_view_count": null,
            "_view_module": "@jupyter-widgets/controls",
            "_view_module_version": "1.5.0",
            "_view_name": "ProgressView",
            "bar_style": "success",
            "description": "",
            "description_tooltip": null,
            "layout": "IPY_MODEL_ab8a4a5b8ee64411a79a5892768f3bc5",
            "max": 500,
            "min": 0,
            "orientation": "horizontal",
            "style": "IPY_MODEL_32fff0ff44014593ba37b5ffa64f3d0b",
            "value": 500
          }
        },
        "67304d1dfcdf4fd1bcb1cb8bb383ce14": {
          "model_module": "@jupyter-widgets/controls",
          "model_name": "HTMLModel",
          "model_module_version": "1.5.0",
          "state": {
            "_dom_classes": [],
            "_model_module": "@jupyter-widgets/controls",
            "_model_module_version": "1.5.0",
            "_model_name": "HTMLModel",
            "_view_count": null,
            "_view_module": "@jupyter-widgets/controls",
            "_view_module_version": "1.5.0",
            "_view_name": "HTMLView",
            "description": "",
            "description_tooltip": null,
            "layout": "IPY_MODEL_842ead7416e0424a8d223feba705bec2",
            "placeholder": "​",
            "style": "IPY_MODEL_fb8f67df6301463da8f08e866d175acd",
            "value": " 500/500 [00:00&lt;00:00, 2285.28 examples/s]"
          }
        },
        "dab2a032d7774019a5daef1ab71584c4": {
          "model_module": "@jupyter-widgets/base",
          "model_name": "LayoutModel",
          "model_module_version": "1.2.0",
          "state": {
            "_model_module": "@jupyter-widgets/base",
            "_model_module_version": "1.2.0",
            "_model_name": "LayoutModel",
            "_view_count": null,
            "_view_module": "@jupyter-widgets/base",
            "_view_module_version": "1.2.0",
            "_view_name": "LayoutView",
            "align_content": null,
            "align_items": null,
            "align_self": null,
            "border": null,
            "bottom": null,
            "display": null,
            "flex": null,
            "flex_flow": null,
            "grid_area": null,
            "grid_auto_columns": null,
            "grid_auto_flow": null,
            "grid_auto_rows": null,
            "grid_column": null,
            "grid_gap": null,
            "grid_row": null,
            "grid_template_areas": null,
            "grid_template_columns": null,
            "grid_template_rows": null,
            "height": null,
            "justify_content": null,
            "justify_items": null,
            "left": null,
            "margin": null,
            "max_height": null,
            "max_width": null,
            "min_height": null,
            "min_width": null,
            "object_fit": null,
            "object_position": null,
            "order": null,
            "overflow": null,
            "overflow_x": null,
            "overflow_y": null,
            "padding": null,
            "right": null,
            "top": null,
            "visibility": null,
            "width": null
          }
        },
        "7c58c8dc72514f758f6d93ac4c81dc8d": {
          "model_module": "@jupyter-widgets/base",
          "model_name": "LayoutModel",
          "model_module_version": "1.2.0",
          "state": {
            "_model_module": "@jupyter-widgets/base",
            "_model_module_version": "1.2.0",
            "_model_name": "LayoutModel",
            "_view_count": null,
            "_view_module": "@jupyter-widgets/base",
            "_view_module_version": "1.2.0",
            "_view_name": "LayoutView",
            "align_content": null,
            "align_items": null,
            "align_self": null,
            "border": null,
            "bottom": null,
            "display": null,
            "flex": null,
            "flex_flow": null,
            "grid_area": null,
            "grid_auto_columns": null,
            "grid_auto_flow": null,
            "grid_auto_rows": null,
            "grid_column": null,
            "grid_gap": null,
            "grid_row": null,
            "grid_template_areas": null,
            "grid_template_columns": null,
            "grid_template_rows": null,
            "height": null,
            "justify_content": null,
            "justify_items": null,
            "left": null,
            "margin": null,
            "max_height": null,
            "max_width": null,
            "min_height": null,
            "min_width": null,
            "object_fit": null,
            "object_position": null,
            "order": null,
            "overflow": null,
            "overflow_x": null,
            "overflow_y": null,
            "padding": null,
            "right": null,
            "top": null,
            "visibility": null,
            "width": null
          }
        },
        "8685635b44b5498fb68427ee4cebe66d": {
          "model_module": "@jupyter-widgets/controls",
          "model_name": "DescriptionStyleModel",
          "model_module_version": "1.5.0",
          "state": {
            "_model_module": "@jupyter-widgets/controls",
            "_model_module_version": "1.5.0",
            "_model_name": "DescriptionStyleModel",
            "_view_count": null,
            "_view_module": "@jupyter-widgets/base",
            "_view_module_version": "1.2.0",
            "_view_name": "StyleView",
            "description_width": ""
          }
        },
        "ab8a4a5b8ee64411a79a5892768f3bc5": {
          "model_module": "@jupyter-widgets/base",
          "model_name": "LayoutModel",
          "model_module_version": "1.2.0",
          "state": {
            "_model_module": "@jupyter-widgets/base",
            "_model_module_version": "1.2.0",
            "_model_name": "LayoutModel",
            "_view_count": null,
            "_view_module": "@jupyter-widgets/base",
            "_view_module_version": "1.2.0",
            "_view_name": "LayoutView",
            "align_content": null,
            "align_items": null,
            "align_self": null,
            "border": null,
            "bottom": null,
            "display": null,
            "flex": null,
            "flex_flow": null,
            "grid_area": null,
            "grid_auto_columns": null,
            "grid_auto_flow": null,
            "grid_auto_rows": null,
            "grid_column": null,
            "grid_gap": null,
            "grid_row": null,
            "grid_template_areas": null,
            "grid_template_columns": null,
            "grid_template_rows": null,
            "height": null,
            "justify_content": null,
            "justify_items": null,
            "left": null,
            "margin": null,
            "max_height": null,
            "max_width": null,
            "min_height": null,
            "min_width": null,
            "object_fit": null,
            "object_position": null,
            "order": null,
            "overflow": null,
            "overflow_x": null,
            "overflow_y": null,
            "padding": null,
            "right": null,
            "top": null,
            "visibility": null,
            "width": null
          }
        },
        "32fff0ff44014593ba37b5ffa64f3d0b": {
          "model_module": "@jupyter-widgets/controls",
          "model_name": "ProgressStyleModel",
          "model_module_version": "1.5.0",
          "state": {
            "_model_module": "@jupyter-widgets/controls",
            "_model_module_version": "1.5.0",
            "_model_name": "ProgressStyleModel",
            "_view_count": null,
            "_view_module": "@jupyter-widgets/base",
            "_view_module_version": "1.2.0",
            "_view_name": "StyleView",
            "bar_color": null,
            "description_width": ""
          }
        },
        "842ead7416e0424a8d223feba705bec2": {
          "model_module": "@jupyter-widgets/base",
          "model_name": "LayoutModel",
          "model_module_version": "1.2.0",
          "state": {
            "_model_module": "@jupyter-widgets/base",
            "_model_module_version": "1.2.0",
            "_model_name": "LayoutModel",
            "_view_count": null,
            "_view_module": "@jupyter-widgets/base",
            "_view_module_version": "1.2.0",
            "_view_name": "LayoutView",
            "align_content": null,
            "align_items": null,
            "align_self": null,
            "border": null,
            "bottom": null,
            "display": null,
            "flex": null,
            "flex_flow": null,
            "grid_area": null,
            "grid_auto_columns": null,
            "grid_auto_flow": null,
            "grid_auto_rows": null,
            "grid_column": null,
            "grid_gap": null,
            "grid_row": null,
            "grid_template_areas": null,
            "grid_template_columns": null,
            "grid_template_rows": null,
            "height": null,
            "justify_content": null,
            "justify_items": null,
            "left": null,
            "margin": null,
            "max_height": null,
            "max_width": null,
            "min_height": null,
            "min_width": null,
            "object_fit": null,
            "object_position": null,
            "order": null,
            "overflow": null,
            "overflow_x": null,
            "overflow_y": null,
            "padding": null,
            "right": null,
            "top": null,
            "visibility": null,
            "width": null
          }
        },
        "fb8f67df6301463da8f08e866d175acd": {
          "model_module": "@jupyter-widgets/controls",
          "model_name": "DescriptionStyleModel",
          "model_module_version": "1.5.0",
          "state": {
            "_model_module": "@jupyter-widgets/controls",
            "_model_module_version": "1.5.0",
            "_model_name": "DescriptionStyleModel",
            "_view_count": null,
            "_view_module": "@jupyter-widgets/base",
            "_view_module_version": "1.2.0",
            "_view_name": "StyleView",
            "description_width": ""
          }
        },
        "4e9b21d38a7341798f97511eddd22bcd": {
          "model_module": "@jupyter-widgets/controls",
          "model_name": "HBoxModel",
          "model_module_version": "1.5.0",
          "state": {
            "_dom_classes": [],
            "_model_module": "@jupyter-widgets/controls",
            "_model_module_version": "1.5.0",
            "_model_name": "HBoxModel",
            "_view_count": null,
            "_view_module": "@jupyter-widgets/controls",
            "_view_module_version": "1.5.0",
            "_view_name": "HBoxView",
            "box_style": "",
            "children": [
              "IPY_MODEL_e74e884698244a6199b564f5622a4501",
              "IPY_MODEL_e8179d3af68c4260a06b0619fd6e7530",
              "IPY_MODEL_55de1e316bdb4bcfabde679ae41312c2"
            ],
            "layout": "IPY_MODEL_17e1e35d37f4458e8c1f0f415b5eac9e"
          }
        },
        "e74e884698244a6199b564f5622a4501": {
          "model_module": "@jupyter-widgets/controls",
          "model_name": "HTMLModel",
          "model_module_version": "1.5.0",
          "state": {
            "_dom_classes": [],
            "_model_module": "@jupyter-widgets/controls",
            "_model_module_version": "1.5.0",
            "_model_name": "HTMLModel",
            "_view_count": null,
            "_view_module": "@jupyter-widgets/controls",
            "_view_module_version": "1.5.0",
            "_view_name": "HTMLView",
            "description": "",
            "description_tooltip": null,
            "layout": "IPY_MODEL_9ed54e837fea48d4b12acdc50040c32c",
            "placeholder": "​",
            "style": "IPY_MODEL_2e24f364af1640d3b533af15990f7c9c",
            "value": "Downloading (…)neration_config.json: 100%"
          }
        },
        "e8179d3af68c4260a06b0619fd6e7530": {
          "model_module": "@jupyter-widgets/controls",
          "model_name": "FloatProgressModel",
          "model_module_version": "1.5.0",
          "state": {
            "_dom_classes": [],
            "_model_module": "@jupyter-widgets/controls",
            "_model_module_version": "1.5.0",
            "_model_name": "FloatProgressModel",
            "_view_count": null,
            "_view_module": "@jupyter-widgets/controls",
            "_view_module_version": "1.5.0",
            "_view_name": "ProgressView",
            "bar_style": "success",
            "description": "",
            "description_tooltip": null,
            "layout": "IPY_MODEL_5d7ee5df658b479eb2af5397f8c625ac",
            "max": 293,
            "min": 0,
            "orientation": "horizontal",
            "style": "IPY_MODEL_1decd77ed3de44688ce3e850b25c6885",
            "value": 293
          }
        },
        "55de1e316bdb4bcfabde679ae41312c2": {
          "model_module": "@jupyter-widgets/controls",
          "model_name": "HTMLModel",
          "model_module_version": "1.5.0",
          "state": {
            "_dom_classes": [],
            "_model_module": "@jupyter-widgets/controls",
            "_model_module_version": "1.5.0",
            "_model_name": "HTMLModel",
            "_view_count": null,
            "_view_module": "@jupyter-widgets/controls",
            "_view_module_version": "1.5.0",
            "_view_name": "HTMLView",
            "description": "",
            "description_tooltip": null,
            "layout": "IPY_MODEL_27c0a8f9783c43c0937a090bee7337de",
            "placeholder": "​",
            "style": "IPY_MODEL_e23707c30aac498b8e6dd3b6e1a7be2c",
            "value": " 293/293 [00:00&lt;00:00, 8.17kB/s]"
          }
        },
        "17e1e35d37f4458e8c1f0f415b5eac9e": {
          "model_module": "@jupyter-widgets/base",
          "model_name": "LayoutModel",
          "model_module_version": "1.2.0",
          "state": {
            "_model_module": "@jupyter-widgets/base",
            "_model_module_version": "1.2.0",
            "_model_name": "LayoutModel",
            "_view_count": null,
            "_view_module": "@jupyter-widgets/base",
            "_view_module_version": "1.2.0",
            "_view_name": "LayoutView",
            "align_content": null,
            "align_items": null,
            "align_self": null,
            "border": null,
            "bottom": null,
            "display": null,
            "flex": null,
            "flex_flow": null,
            "grid_area": null,
            "grid_auto_columns": null,
            "grid_auto_flow": null,
            "grid_auto_rows": null,
            "grid_column": null,
            "grid_gap": null,
            "grid_row": null,
            "grid_template_areas": null,
            "grid_template_columns": null,
            "grid_template_rows": null,
            "height": null,
            "justify_content": null,
            "justify_items": null,
            "left": null,
            "margin": null,
            "max_height": null,
            "max_width": null,
            "min_height": null,
            "min_width": null,
            "object_fit": null,
            "object_position": null,
            "order": null,
            "overflow": null,
            "overflow_x": null,
            "overflow_y": null,
            "padding": null,
            "right": null,
            "top": null,
            "visibility": null,
            "width": null
          }
        },
        "9ed54e837fea48d4b12acdc50040c32c": {
          "model_module": "@jupyter-widgets/base",
          "model_name": "LayoutModel",
          "model_module_version": "1.2.0",
          "state": {
            "_model_module": "@jupyter-widgets/base",
            "_model_module_version": "1.2.0",
            "_model_name": "LayoutModel",
            "_view_count": null,
            "_view_module": "@jupyter-widgets/base",
            "_view_module_version": "1.2.0",
            "_view_name": "LayoutView",
            "align_content": null,
            "align_items": null,
            "align_self": null,
            "border": null,
            "bottom": null,
            "display": null,
            "flex": null,
            "flex_flow": null,
            "grid_area": null,
            "grid_auto_columns": null,
            "grid_auto_flow": null,
            "grid_auto_rows": null,
            "grid_column": null,
            "grid_gap": null,
            "grid_row": null,
            "grid_template_areas": null,
            "grid_template_columns": null,
            "grid_template_rows": null,
            "height": null,
            "justify_content": null,
            "justify_items": null,
            "left": null,
            "margin": null,
            "max_height": null,
            "max_width": null,
            "min_height": null,
            "min_width": null,
            "object_fit": null,
            "object_position": null,
            "order": null,
            "overflow": null,
            "overflow_x": null,
            "overflow_y": null,
            "padding": null,
            "right": null,
            "top": null,
            "visibility": null,
            "width": null
          }
        },
        "2e24f364af1640d3b533af15990f7c9c": {
          "model_module": "@jupyter-widgets/controls",
          "model_name": "DescriptionStyleModel",
          "model_module_version": "1.5.0",
          "state": {
            "_model_module": "@jupyter-widgets/controls",
            "_model_module_version": "1.5.0",
            "_model_name": "DescriptionStyleModel",
            "_view_count": null,
            "_view_module": "@jupyter-widgets/base",
            "_view_module_version": "1.2.0",
            "_view_name": "StyleView",
            "description_width": ""
          }
        },
        "5d7ee5df658b479eb2af5397f8c625ac": {
          "model_module": "@jupyter-widgets/base",
          "model_name": "LayoutModel",
          "model_module_version": "1.2.0",
          "state": {
            "_model_module": "@jupyter-widgets/base",
            "_model_module_version": "1.2.0",
            "_model_name": "LayoutModel",
            "_view_count": null,
            "_view_module": "@jupyter-widgets/base",
            "_view_module_version": "1.2.0",
            "_view_name": "LayoutView",
            "align_content": null,
            "align_items": null,
            "align_self": null,
            "border": null,
            "bottom": null,
            "display": null,
            "flex": null,
            "flex_flow": null,
            "grid_area": null,
            "grid_auto_columns": null,
            "grid_auto_flow": null,
            "grid_auto_rows": null,
            "grid_column": null,
            "grid_gap": null,
            "grid_row": null,
            "grid_template_areas": null,
            "grid_template_columns": null,
            "grid_template_rows": null,
            "height": null,
            "justify_content": null,
            "justify_items": null,
            "left": null,
            "margin": null,
            "max_height": null,
            "max_width": null,
            "min_height": null,
            "min_width": null,
            "object_fit": null,
            "object_position": null,
            "order": null,
            "overflow": null,
            "overflow_x": null,
            "overflow_y": null,
            "padding": null,
            "right": null,
            "top": null,
            "visibility": null,
            "width": null
          }
        },
        "1decd77ed3de44688ce3e850b25c6885": {
          "model_module": "@jupyter-widgets/controls",
          "model_name": "ProgressStyleModel",
          "model_module_version": "1.5.0",
          "state": {
            "_model_module": "@jupyter-widgets/controls",
            "_model_module_version": "1.5.0",
            "_model_name": "ProgressStyleModel",
            "_view_count": null,
            "_view_module": "@jupyter-widgets/base",
            "_view_module_version": "1.2.0",
            "_view_name": "StyleView",
            "bar_color": null,
            "description_width": ""
          }
        },
        "27c0a8f9783c43c0937a090bee7337de": {
          "model_module": "@jupyter-widgets/base",
          "model_name": "LayoutModel",
          "model_module_version": "1.2.0",
          "state": {
            "_model_module": "@jupyter-widgets/base",
            "_model_module_version": "1.2.0",
            "_model_name": "LayoutModel",
            "_view_count": null,
            "_view_module": "@jupyter-widgets/base",
            "_view_module_version": "1.2.0",
            "_view_name": "LayoutView",
            "align_content": null,
            "align_items": null,
            "align_self": null,
            "border": null,
            "bottom": null,
            "display": null,
            "flex": null,
            "flex_flow": null,
            "grid_area": null,
            "grid_auto_columns": null,
            "grid_auto_flow": null,
            "grid_auto_rows": null,
            "grid_column": null,
            "grid_gap": null,
            "grid_row": null,
            "grid_template_areas": null,
            "grid_template_columns": null,
            "grid_template_rows": null,
            "height": null,
            "justify_content": null,
            "justify_items": null,
            "left": null,
            "margin": null,
            "max_height": null,
            "max_width": null,
            "min_height": null,
            "min_width": null,
            "object_fit": null,
            "object_position": null,
            "order": null,
            "overflow": null,
            "overflow_x": null,
            "overflow_y": null,
            "padding": null,
            "right": null,
            "top": null,
            "visibility": null,
            "width": null
          }
        },
        "e23707c30aac498b8e6dd3b6e1a7be2c": {
          "model_module": "@jupyter-widgets/controls",
          "model_name": "DescriptionStyleModel",
          "model_module_version": "1.5.0",
          "state": {
            "_model_module": "@jupyter-widgets/controls",
            "_model_module_version": "1.5.0",
            "_model_name": "DescriptionStyleModel",
            "_view_count": null,
            "_view_module": "@jupyter-widgets/base",
            "_view_module_version": "1.2.0",
            "_view_name": "StyleView",
            "description_width": ""
          }
        },
        "bf7a248a53c045d4a4cda32fc72233b4": {
          "model_module": "@jupyter-widgets/controls",
          "model_name": "HBoxModel",
          "model_module_version": "1.5.0",
          "state": {
            "_dom_classes": [],
            "_model_module": "@jupyter-widgets/controls",
            "_model_module_version": "1.5.0",
            "_model_name": "HBoxModel",
            "_view_count": null,
            "_view_module": "@jupyter-widgets/controls",
            "_view_module_version": "1.5.0",
            "_view_name": "HBoxView",
            "box_style": "",
            "children": [
              "IPY_MODEL_5a0223f072a74848923c3e7c7f6cdf2a",
              "IPY_MODEL_a47f86c211864805b668363229665244",
              "IPY_MODEL_242af288086f4c32a805f70e463a3ab4"
            ],
            "layout": "IPY_MODEL_eaf84eb19a034572b8dc2c7ddef649b3"
          }
        },
        "5a0223f072a74848923c3e7c7f6cdf2a": {
          "model_module": "@jupyter-widgets/controls",
          "model_name": "HTMLModel",
          "model_module_version": "1.5.0",
          "state": {
            "_dom_classes": [],
            "_model_module": "@jupyter-widgets/controls",
            "_model_module_version": "1.5.0",
            "_model_name": "HTMLModel",
            "_view_count": null,
            "_view_module": "@jupyter-widgets/controls",
            "_view_module_version": "1.5.0",
            "_view_name": "HTMLView",
            "description": "",
            "description_tooltip": null,
            "layout": "IPY_MODEL_9c4d134ccc33461e85ac98b71ba323ef",
            "placeholder": "​",
            "style": "IPY_MODEL_b2683b7c5743418aae3487728ced57cd",
            "value": "Downloading pytorch_model.bin: 100%"
          }
        },
        "a47f86c211864805b668363229665244": {
          "model_module": "@jupyter-widgets/controls",
          "model_name": "FloatProgressModel",
          "model_module_version": "1.5.0",
          "state": {
            "_dom_classes": [],
            "_model_module": "@jupyter-widgets/controls",
            "_model_module_version": "1.5.0",
            "_model_name": "FloatProgressModel",
            "_view_count": null,
            "_view_module": "@jupyter-widgets/controls",
            "_view_module_version": "1.5.0",
            "_view_name": "ProgressView",
            "bar_style": "success",
            "description": "",
            "description_tooltip": null,
            "layout": "IPY_MODEL_f4d2045478d04c35a58cf20b05700bf5",
            "max": 300827685,
            "min": 0,
            "orientation": "horizontal",
            "style": "IPY_MODEL_eaf2099ee0ae4e0a90b7daeae2cf443b",
            "value": 300827685
          }
        },
        "242af288086f4c32a805f70e463a3ab4": {
          "model_module": "@jupyter-widgets/controls",
          "model_name": "HTMLModel",
          "model_module_version": "1.5.0",
          "state": {
            "_dom_classes": [],
            "_model_module": "@jupyter-widgets/controls",
            "_model_module_version": "1.5.0",
            "_model_name": "HTMLModel",
            "_view_count": null,
            "_view_module": "@jupyter-widgets/controls",
            "_view_module_version": "1.5.0",
            "_view_name": "HTMLView",
            "description": "",
            "description_tooltip": null,
            "layout": "IPY_MODEL_ffea4acd32fb4c25b0c2f1b8695535a6",
            "placeholder": "​",
            "style": "IPY_MODEL_fbd4214cafc847e58bf408df79f11789",
            "value": " 301M/301M [00:04&lt;00:00, 30.8MB/s]"
          }
        },
        "eaf84eb19a034572b8dc2c7ddef649b3": {
          "model_module": "@jupyter-widgets/base",
          "model_name": "LayoutModel",
          "model_module_version": "1.2.0",
          "state": {
            "_model_module": "@jupyter-widgets/base",
            "_model_module_version": "1.2.0",
            "_model_name": "LayoutModel",
            "_view_count": null,
            "_view_module": "@jupyter-widgets/base",
            "_view_module_version": "1.2.0",
            "_view_name": "LayoutView",
            "align_content": null,
            "align_items": null,
            "align_self": null,
            "border": null,
            "bottom": null,
            "display": null,
            "flex": null,
            "flex_flow": null,
            "grid_area": null,
            "grid_auto_columns": null,
            "grid_auto_flow": null,
            "grid_auto_rows": null,
            "grid_column": null,
            "grid_gap": null,
            "grid_row": null,
            "grid_template_areas": null,
            "grid_template_columns": null,
            "grid_template_rows": null,
            "height": null,
            "justify_content": null,
            "justify_items": null,
            "left": null,
            "margin": null,
            "max_height": null,
            "max_width": null,
            "min_height": null,
            "min_width": null,
            "object_fit": null,
            "object_position": null,
            "order": null,
            "overflow": null,
            "overflow_x": null,
            "overflow_y": null,
            "padding": null,
            "right": null,
            "top": null,
            "visibility": null,
            "width": null
          }
        },
        "9c4d134ccc33461e85ac98b71ba323ef": {
          "model_module": "@jupyter-widgets/base",
          "model_name": "LayoutModel",
          "model_module_version": "1.2.0",
          "state": {
            "_model_module": "@jupyter-widgets/base",
            "_model_module_version": "1.2.0",
            "_model_name": "LayoutModel",
            "_view_count": null,
            "_view_module": "@jupyter-widgets/base",
            "_view_module_version": "1.2.0",
            "_view_name": "LayoutView",
            "align_content": null,
            "align_items": null,
            "align_self": null,
            "border": null,
            "bottom": null,
            "display": null,
            "flex": null,
            "flex_flow": null,
            "grid_area": null,
            "grid_auto_columns": null,
            "grid_auto_flow": null,
            "grid_auto_rows": null,
            "grid_column": null,
            "grid_gap": null,
            "grid_row": null,
            "grid_template_areas": null,
            "grid_template_columns": null,
            "grid_template_rows": null,
            "height": null,
            "justify_content": null,
            "justify_items": null,
            "left": null,
            "margin": null,
            "max_height": null,
            "max_width": null,
            "min_height": null,
            "min_width": null,
            "object_fit": null,
            "object_position": null,
            "order": null,
            "overflow": null,
            "overflow_x": null,
            "overflow_y": null,
            "padding": null,
            "right": null,
            "top": null,
            "visibility": null,
            "width": null
          }
        },
        "b2683b7c5743418aae3487728ced57cd": {
          "model_module": "@jupyter-widgets/controls",
          "model_name": "DescriptionStyleModel",
          "model_module_version": "1.5.0",
          "state": {
            "_model_module": "@jupyter-widgets/controls",
            "_model_module_version": "1.5.0",
            "_model_name": "DescriptionStyleModel",
            "_view_count": null,
            "_view_module": "@jupyter-widgets/base",
            "_view_module_version": "1.2.0",
            "_view_name": "StyleView",
            "description_width": ""
          }
        },
        "f4d2045478d04c35a58cf20b05700bf5": {
          "model_module": "@jupyter-widgets/base",
          "model_name": "LayoutModel",
          "model_module_version": "1.2.0",
          "state": {
            "_model_module": "@jupyter-widgets/base",
            "_model_module_version": "1.2.0",
            "_model_name": "LayoutModel",
            "_view_count": null,
            "_view_module": "@jupyter-widgets/base",
            "_view_module_version": "1.2.0",
            "_view_name": "LayoutView",
            "align_content": null,
            "align_items": null,
            "align_self": null,
            "border": null,
            "bottom": null,
            "display": null,
            "flex": null,
            "flex_flow": null,
            "grid_area": null,
            "grid_auto_columns": null,
            "grid_auto_flow": null,
            "grid_auto_rows": null,
            "grid_column": null,
            "grid_gap": null,
            "grid_row": null,
            "grid_template_areas": null,
            "grid_template_columns": null,
            "grid_template_rows": null,
            "height": null,
            "justify_content": null,
            "justify_items": null,
            "left": null,
            "margin": null,
            "max_height": null,
            "max_width": null,
            "min_height": null,
            "min_width": null,
            "object_fit": null,
            "object_position": null,
            "order": null,
            "overflow": null,
            "overflow_x": null,
            "overflow_y": null,
            "padding": null,
            "right": null,
            "top": null,
            "visibility": null,
            "width": null
          }
        },
        "eaf2099ee0ae4e0a90b7daeae2cf443b": {
          "model_module": "@jupyter-widgets/controls",
          "model_name": "ProgressStyleModel",
          "model_module_version": "1.5.0",
          "state": {
            "_model_module": "@jupyter-widgets/controls",
            "_model_module_version": "1.5.0",
            "_model_name": "ProgressStyleModel",
            "_view_count": null,
            "_view_module": "@jupyter-widgets/base",
            "_view_module_version": "1.2.0",
            "_view_name": "StyleView",
            "bar_color": null,
            "description_width": ""
          }
        },
        "ffea4acd32fb4c25b0c2f1b8695535a6": {
          "model_module": "@jupyter-widgets/base",
          "model_name": "LayoutModel",
          "model_module_version": "1.2.0",
          "state": {
            "_model_module": "@jupyter-widgets/base",
            "_model_module_version": "1.2.0",
            "_model_name": "LayoutModel",
            "_view_count": null,
            "_view_module": "@jupyter-widgets/base",
            "_view_module_version": "1.2.0",
            "_view_name": "LayoutView",
            "align_content": null,
            "align_items": null,
            "align_self": null,
            "border": null,
            "bottom": null,
            "display": null,
            "flex": null,
            "flex_flow": null,
            "grid_area": null,
            "grid_auto_columns": null,
            "grid_auto_flow": null,
            "grid_auto_rows": null,
            "grid_column": null,
            "grid_gap": null,
            "grid_row": null,
            "grid_template_areas": null,
            "grid_template_columns": null,
            "grid_template_rows": null,
            "height": null,
            "justify_content": null,
            "justify_items": null,
            "left": null,
            "margin": null,
            "max_height": null,
            "max_width": null,
            "min_height": null,
            "min_width": null,
            "object_fit": null,
            "object_position": null,
            "order": null,
            "overflow": null,
            "overflow_x": null,
            "overflow_y": null,
            "padding": null,
            "right": null,
            "top": null,
            "visibility": null,
            "width": null
          }
        },
        "fbd4214cafc847e58bf408df79f11789": {
          "model_module": "@jupyter-widgets/controls",
          "model_name": "DescriptionStyleModel",
          "model_module_version": "1.5.0",
          "state": {
            "_model_module": "@jupyter-widgets/controls",
            "_model_module_version": "1.5.0",
            "_model_name": "DescriptionStyleModel",
            "_view_count": null,
            "_view_module": "@jupyter-widgets/base",
            "_view_module_version": "1.2.0",
            "_view_name": "StyleView",
            "description_width": ""
          }
        },
        "3986cf20932d48daa7f5b0aef159a2d2": {
          "model_module": "@jupyter-widgets/controls",
          "model_name": "HBoxModel",
          "model_module_version": "1.5.0",
          "state": {
            "_dom_classes": [],
            "_model_module": "@jupyter-widgets/controls",
            "_model_module_version": "1.5.0",
            "_model_name": "HBoxModel",
            "_view_count": null,
            "_view_module": "@jupyter-widgets/controls",
            "_view_module_version": "1.5.0",
            "_view_name": "HBoxView",
            "box_style": "",
            "children": [
              "IPY_MODEL_5ecf007b73154618a199f083a6451242",
              "IPY_MODEL_d7bcc3d6f03e45ec9092671e82e44038",
              "IPY_MODEL_4c571fe1f91d44a6a54b0f6a3469cc00"
            ],
            "layout": "IPY_MODEL_3bb373c8b3c4452e85ded2dd82457d7e"
          }
        },
        "5ecf007b73154618a199f083a6451242": {
          "model_module": "@jupyter-widgets/controls",
          "model_name": "HTMLModel",
          "model_module_version": "1.5.0",
          "state": {
            "_dom_classes": [],
            "_model_module": "@jupyter-widgets/controls",
            "_model_module_version": "1.5.0",
            "_model_name": "HTMLModel",
            "_view_count": null,
            "_view_module": "@jupyter-widgets/controls",
            "_view_module_version": "1.5.0",
            "_view_name": "HTMLView",
            "description": "",
            "description_tooltip": null,
            "layout": "IPY_MODEL_ba03cc04d3bf49fabff53c30d5afa3db",
            "placeholder": "​",
            "style": "IPY_MODEL_b4472d71c4be4dc1b7e9d87e6d873627",
            "value": "Downloading builder script: 100%"
          }
        },
        "d7bcc3d6f03e45ec9092671e82e44038": {
          "model_module": "@jupyter-widgets/controls",
          "model_name": "FloatProgressModel",
          "model_module_version": "1.5.0",
          "state": {
            "_dom_classes": [],
            "_model_module": "@jupyter-widgets/controls",
            "_model_module_version": "1.5.0",
            "_model_name": "FloatProgressModel",
            "_view_count": null,
            "_view_module": "@jupyter-widgets/controls",
            "_view_module_version": "1.5.0",
            "_view_name": "ProgressView",
            "bar_style": "success",
            "description": "",
            "description_tooltip": null,
            "layout": "IPY_MODEL_de09e97bd9204c4a84d4e7cc3acf1576",
            "max": 7950,
            "min": 0,
            "orientation": "horizontal",
            "style": "IPY_MODEL_8a422abefa39486ab3e5f517acdbd271",
            "value": 7950
          }
        },
        "4c571fe1f91d44a6a54b0f6a3469cc00": {
          "model_module": "@jupyter-widgets/controls",
          "model_name": "HTMLModel",
          "model_module_version": "1.5.0",
          "state": {
            "_dom_classes": [],
            "_model_module": "@jupyter-widgets/controls",
            "_model_module_version": "1.5.0",
            "_model_name": "HTMLModel",
            "_view_count": null,
            "_view_module": "@jupyter-widgets/controls",
            "_view_module_version": "1.5.0",
            "_view_name": "HTMLView",
            "description": "",
            "description_tooltip": null,
            "layout": "IPY_MODEL_0e0e3e02b3b34a238a9153f42681a13f",
            "placeholder": "​",
            "style": "IPY_MODEL_e3138c41c4544f7f87022d18e88622f2",
            "value": " 7.95k/7.95k [00:00&lt;00:00, 355kB/s]"
          }
        },
        "3bb373c8b3c4452e85ded2dd82457d7e": {
          "model_module": "@jupyter-widgets/base",
          "model_name": "LayoutModel",
          "model_module_version": "1.2.0",
          "state": {
            "_model_module": "@jupyter-widgets/base",
            "_model_module_version": "1.2.0",
            "_model_name": "LayoutModel",
            "_view_count": null,
            "_view_module": "@jupyter-widgets/base",
            "_view_module_version": "1.2.0",
            "_view_name": "LayoutView",
            "align_content": null,
            "align_items": null,
            "align_self": null,
            "border": null,
            "bottom": null,
            "display": null,
            "flex": null,
            "flex_flow": null,
            "grid_area": null,
            "grid_auto_columns": null,
            "grid_auto_flow": null,
            "grid_auto_rows": null,
            "grid_column": null,
            "grid_gap": null,
            "grid_row": null,
            "grid_template_areas": null,
            "grid_template_columns": null,
            "grid_template_rows": null,
            "height": null,
            "justify_content": null,
            "justify_items": null,
            "left": null,
            "margin": null,
            "max_height": null,
            "max_width": null,
            "min_height": null,
            "min_width": null,
            "object_fit": null,
            "object_position": null,
            "order": null,
            "overflow": null,
            "overflow_x": null,
            "overflow_y": null,
            "padding": null,
            "right": null,
            "top": null,
            "visibility": null,
            "width": null
          }
        },
        "ba03cc04d3bf49fabff53c30d5afa3db": {
          "model_module": "@jupyter-widgets/base",
          "model_name": "LayoutModel",
          "model_module_version": "1.2.0",
          "state": {
            "_model_module": "@jupyter-widgets/base",
            "_model_module_version": "1.2.0",
            "_model_name": "LayoutModel",
            "_view_count": null,
            "_view_module": "@jupyter-widgets/base",
            "_view_module_version": "1.2.0",
            "_view_name": "LayoutView",
            "align_content": null,
            "align_items": null,
            "align_self": null,
            "border": null,
            "bottom": null,
            "display": null,
            "flex": null,
            "flex_flow": null,
            "grid_area": null,
            "grid_auto_columns": null,
            "grid_auto_flow": null,
            "grid_auto_rows": null,
            "grid_column": null,
            "grid_gap": null,
            "grid_row": null,
            "grid_template_areas": null,
            "grid_template_columns": null,
            "grid_template_rows": null,
            "height": null,
            "justify_content": null,
            "justify_items": null,
            "left": null,
            "margin": null,
            "max_height": null,
            "max_width": null,
            "min_height": null,
            "min_width": null,
            "object_fit": null,
            "object_position": null,
            "order": null,
            "overflow": null,
            "overflow_x": null,
            "overflow_y": null,
            "padding": null,
            "right": null,
            "top": null,
            "visibility": null,
            "width": null
          }
        },
        "b4472d71c4be4dc1b7e9d87e6d873627": {
          "model_module": "@jupyter-widgets/controls",
          "model_name": "DescriptionStyleModel",
          "model_module_version": "1.5.0",
          "state": {
            "_model_module": "@jupyter-widgets/controls",
            "_model_module_version": "1.5.0",
            "_model_name": "DescriptionStyleModel",
            "_view_count": null,
            "_view_module": "@jupyter-widgets/base",
            "_view_module_version": "1.2.0",
            "_view_name": "StyleView",
            "description_width": ""
          }
        },
        "de09e97bd9204c4a84d4e7cc3acf1576": {
          "model_module": "@jupyter-widgets/base",
          "model_name": "LayoutModel",
          "model_module_version": "1.2.0",
          "state": {
            "_model_module": "@jupyter-widgets/base",
            "_model_module_version": "1.2.0",
            "_model_name": "LayoutModel",
            "_view_count": null,
            "_view_module": "@jupyter-widgets/base",
            "_view_module_version": "1.2.0",
            "_view_name": "LayoutView",
            "align_content": null,
            "align_items": null,
            "align_self": null,
            "border": null,
            "bottom": null,
            "display": null,
            "flex": null,
            "flex_flow": null,
            "grid_area": null,
            "grid_auto_columns": null,
            "grid_auto_flow": null,
            "grid_auto_rows": null,
            "grid_column": null,
            "grid_gap": null,
            "grid_row": null,
            "grid_template_areas": null,
            "grid_template_columns": null,
            "grid_template_rows": null,
            "height": null,
            "justify_content": null,
            "justify_items": null,
            "left": null,
            "margin": null,
            "max_height": null,
            "max_width": null,
            "min_height": null,
            "min_width": null,
            "object_fit": null,
            "object_position": null,
            "order": null,
            "overflow": null,
            "overflow_x": null,
            "overflow_y": null,
            "padding": null,
            "right": null,
            "top": null,
            "visibility": null,
            "width": null
          }
        },
        "8a422abefa39486ab3e5f517acdbd271": {
          "model_module": "@jupyter-widgets/controls",
          "model_name": "ProgressStyleModel",
          "model_module_version": "1.5.0",
          "state": {
            "_model_module": "@jupyter-widgets/controls",
            "_model_module_version": "1.5.0",
            "_model_name": "ProgressStyleModel",
            "_view_count": null,
            "_view_module": "@jupyter-widgets/base",
            "_view_module_version": "1.2.0",
            "_view_name": "StyleView",
            "bar_color": null,
            "description_width": ""
          }
        },
        "0e0e3e02b3b34a238a9153f42681a13f": {
          "model_module": "@jupyter-widgets/base",
          "model_name": "LayoutModel",
          "model_module_version": "1.2.0",
          "state": {
            "_model_module": "@jupyter-widgets/base",
            "_model_module_version": "1.2.0",
            "_model_name": "LayoutModel",
            "_view_count": null,
            "_view_module": "@jupyter-widgets/base",
            "_view_module_version": "1.2.0",
            "_view_name": "LayoutView",
            "align_content": null,
            "align_items": null,
            "align_self": null,
            "border": null,
            "bottom": null,
            "display": null,
            "flex": null,
            "flex_flow": null,
            "grid_area": null,
            "grid_auto_columns": null,
            "grid_auto_flow": null,
            "grid_auto_rows": null,
            "grid_column": null,
            "grid_gap": null,
            "grid_row": null,
            "grid_template_areas": null,
            "grid_template_columns": null,
            "grid_template_rows": null,
            "height": null,
            "justify_content": null,
            "justify_items": null,
            "left": null,
            "margin": null,
            "max_height": null,
            "max_width": null,
            "min_height": null,
            "min_width": null,
            "object_fit": null,
            "object_position": null,
            "order": null,
            "overflow": null,
            "overflow_x": null,
            "overflow_y": null,
            "padding": null,
            "right": null,
            "top": null,
            "visibility": null,
            "width": null
          }
        },
        "e3138c41c4544f7f87022d18e88622f2": {
          "model_module": "@jupyter-widgets/controls",
          "model_name": "DescriptionStyleModel",
          "model_module_version": "1.5.0",
          "state": {
            "_model_module": "@jupyter-widgets/controls",
            "_model_module_version": "1.5.0",
            "_model_name": "DescriptionStyleModel",
            "_view_count": null,
            "_view_module": "@jupyter-widgets/base",
            "_view_module_version": "1.2.0",
            "_view_name": "StyleView",
            "description_width": ""
          }
        },
        "3de8dd9adcd54256b9c4372a887202d9": {
          "model_module": "@jupyter-widgets/controls",
          "model_name": "HBoxModel",
          "model_module_version": "1.5.0",
          "state": {
            "_dom_classes": [],
            "_model_module": "@jupyter-widgets/controls",
            "_model_module_version": "1.5.0",
            "_model_name": "HBoxModel",
            "_view_count": null,
            "_view_module": "@jupyter-widgets/controls",
            "_view_module_version": "1.5.0",
            "_view_name": "HBoxView",
            "box_style": "",
            "children": [
              "IPY_MODEL_033f42993a6145079948993246a4a3fe",
              "IPY_MODEL_a64c7ab4bc97481ca80a2b7cab6c7aee",
              "IPY_MODEL_4e1a11bd1d88438f982e44c731f6630e"
            ],
            "layout": "IPY_MODEL_99e61db0207d4e009c7e7bc3ed3504d8"
          }
        },
        "033f42993a6145079948993246a4a3fe": {
          "model_module": "@jupyter-widgets/controls",
          "model_name": "HTMLModel",
          "model_module_version": "1.5.0",
          "state": {
            "_dom_classes": [],
            "_model_module": "@jupyter-widgets/controls",
            "_model_module_version": "1.5.0",
            "_model_name": "HTMLModel",
            "_view_count": null,
            "_view_module": "@jupyter-widgets/controls",
            "_view_module_version": "1.5.0",
            "_view_name": "HTMLView",
            "description": "",
            "description_tooltip": null,
            "layout": "IPY_MODEL_4403a98448cc4714a2ff204fcb03b387",
            "placeholder": "​",
            "style": "IPY_MODEL_ecb70bd0b3424c8aa4607f0d21266972",
            "value": "Downloading (…)okenizer_config.json: 100%"
          }
        },
        "a64c7ab4bc97481ca80a2b7cab6c7aee": {
          "model_module": "@jupyter-widgets/controls",
          "model_name": "FloatProgressModel",
          "model_module_version": "1.5.0",
          "state": {
            "_dom_classes": [],
            "_model_module": "@jupyter-widgets/controls",
            "_model_module_version": "1.5.0",
            "_model_name": "FloatProgressModel",
            "_view_count": null,
            "_view_module": "@jupyter-widgets/controls",
            "_view_module_version": "1.5.0",
            "_view_name": "ProgressView",
            "bar_style": "success",
            "description": "",
            "description_tooltip": null,
            "layout": "IPY_MODEL_d72701a6dd9242b89fd44efcf1cb6db6",
            "max": 29,
            "min": 0,
            "orientation": "horizontal",
            "style": "IPY_MODEL_366afbd664014b1289d35159144c7c57",
            "value": 29
          }
        },
        "4e1a11bd1d88438f982e44c731f6630e": {
          "model_module": "@jupyter-widgets/controls",
          "model_name": "HTMLModel",
          "model_module_version": "1.5.0",
          "state": {
            "_dom_classes": [],
            "_model_module": "@jupyter-widgets/controls",
            "_model_module_version": "1.5.0",
            "_model_name": "HTMLModel",
            "_view_count": null,
            "_view_module": "@jupyter-widgets/controls",
            "_view_module_version": "1.5.0",
            "_view_name": "HTMLView",
            "description": "",
            "description_tooltip": null,
            "layout": "IPY_MODEL_a413e1a76106460ba5fac20c50a0708f",
            "placeholder": "​",
            "style": "IPY_MODEL_098f06fd83014a30a7b749af726ecead",
            "value": " 29.0/29.0 [00:00&lt;00:00, 1.05kB/s]"
          }
        },
        "99e61db0207d4e009c7e7bc3ed3504d8": {
          "model_module": "@jupyter-widgets/base",
          "model_name": "LayoutModel",
          "model_module_version": "1.2.0",
          "state": {
            "_model_module": "@jupyter-widgets/base",
            "_model_module_version": "1.2.0",
            "_model_name": "LayoutModel",
            "_view_count": null,
            "_view_module": "@jupyter-widgets/base",
            "_view_module_version": "1.2.0",
            "_view_name": "LayoutView",
            "align_content": null,
            "align_items": null,
            "align_self": null,
            "border": null,
            "bottom": null,
            "display": null,
            "flex": null,
            "flex_flow": null,
            "grid_area": null,
            "grid_auto_columns": null,
            "grid_auto_flow": null,
            "grid_auto_rows": null,
            "grid_column": null,
            "grid_gap": null,
            "grid_row": null,
            "grid_template_areas": null,
            "grid_template_columns": null,
            "grid_template_rows": null,
            "height": null,
            "justify_content": null,
            "justify_items": null,
            "left": null,
            "margin": null,
            "max_height": null,
            "max_width": null,
            "min_height": null,
            "min_width": null,
            "object_fit": null,
            "object_position": null,
            "order": null,
            "overflow": null,
            "overflow_x": null,
            "overflow_y": null,
            "padding": null,
            "right": null,
            "top": null,
            "visibility": null,
            "width": null
          }
        },
        "4403a98448cc4714a2ff204fcb03b387": {
          "model_module": "@jupyter-widgets/base",
          "model_name": "LayoutModel",
          "model_module_version": "1.2.0",
          "state": {
            "_model_module": "@jupyter-widgets/base",
            "_model_module_version": "1.2.0",
            "_model_name": "LayoutModel",
            "_view_count": null,
            "_view_module": "@jupyter-widgets/base",
            "_view_module_version": "1.2.0",
            "_view_name": "LayoutView",
            "align_content": null,
            "align_items": null,
            "align_self": null,
            "border": null,
            "bottom": null,
            "display": null,
            "flex": null,
            "flex_flow": null,
            "grid_area": null,
            "grid_auto_columns": null,
            "grid_auto_flow": null,
            "grid_auto_rows": null,
            "grid_column": null,
            "grid_gap": null,
            "grid_row": null,
            "grid_template_areas": null,
            "grid_template_columns": null,
            "grid_template_rows": null,
            "height": null,
            "justify_content": null,
            "justify_items": null,
            "left": null,
            "margin": null,
            "max_height": null,
            "max_width": null,
            "min_height": null,
            "min_width": null,
            "object_fit": null,
            "object_position": null,
            "order": null,
            "overflow": null,
            "overflow_x": null,
            "overflow_y": null,
            "padding": null,
            "right": null,
            "top": null,
            "visibility": null,
            "width": null
          }
        },
        "ecb70bd0b3424c8aa4607f0d21266972": {
          "model_module": "@jupyter-widgets/controls",
          "model_name": "DescriptionStyleModel",
          "model_module_version": "1.5.0",
          "state": {
            "_model_module": "@jupyter-widgets/controls",
            "_model_module_version": "1.5.0",
            "_model_name": "DescriptionStyleModel",
            "_view_count": null,
            "_view_module": "@jupyter-widgets/base",
            "_view_module_version": "1.2.0",
            "_view_name": "StyleView",
            "description_width": ""
          }
        },
        "d72701a6dd9242b89fd44efcf1cb6db6": {
          "model_module": "@jupyter-widgets/base",
          "model_name": "LayoutModel",
          "model_module_version": "1.2.0",
          "state": {
            "_model_module": "@jupyter-widgets/base",
            "_model_module_version": "1.2.0",
            "_model_name": "LayoutModel",
            "_view_count": null,
            "_view_module": "@jupyter-widgets/base",
            "_view_module_version": "1.2.0",
            "_view_name": "LayoutView",
            "align_content": null,
            "align_items": null,
            "align_self": null,
            "border": null,
            "bottom": null,
            "display": null,
            "flex": null,
            "flex_flow": null,
            "grid_area": null,
            "grid_auto_columns": null,
            "grid_auto_flow": null,
            "grid_auto_rows": null,
            "grid_column": null,
            "grid_gap": null,
            "grid_row": null,
            "grid_template_areas": null,
            "grid_template_columns": null,
            "grid_template_rows": null,
            "height": null,
            "justify_content": null,
            "justify_items": null,
            "left": null,
            "margin": null,
            "max_height": null,
            "max_width": null,
            "min_height": null,
            "min_width": null,
            "object_fit": null,
            "object_position": null,
            "order": null,
            "overflow": null,
            "overflow_x": null,
            "overflow_y": null,
            "padding": null,
            "right": null,
            "top": null,
            "visibility": null,
            "width": null
          }
        },
        "366afbd664014b1289d35159144c7c57": {
          "model_module": "@jupyter-widgets/controls",
          "model_name": "ProgressStyleModel",
          "model_module_version": "1.5.0",
          "state": {
            "_model_module": "@jupyter-widgets/controls",
            "_model_module_version": "1.5.0",
            "_model_name": "ProgressStyleModel",
            "_view_count": null,
            "_view_module": "@jupyter-widgets/base",
            "_view_module_version": "1.2.0",
            "_view_name": "StyleView",
            "bar_color": null,
            "description_width": ""
          }
        },
        "a413e1a76106460ba5fac20c50a0708f": {
          "model_module": "@jupyter-widgets/base",
          "model_name": "LayoutModel",
          "model_module_version": "1.2.0",
          "state": {
            "_model_module": "@jupyter-widgets/base",
            "_model_module_version": "1.2.0",
            "_model_name": "LayoutModel",
            "_view_count": null,
            "_view_module": "@jupyter-widgets/base",
            "_view_module_version": "1.2.0",
            "_view_name": "LayoutView",
            "align_content": null,
            "align_items": null,
            "align_self": null,
            "border": null,
            "bottom": null,
            "display": null,
            "flex": null,
            "flex_flow": null,
            "grid_area": null,
            "grid_auto_columns": null,
            "grid_auto_flow": null,
            "grid_auto_rows": null,
            "grid_column": null,
            "grid_gap": null,
            "grid_row": null,
            "grid_template_areas": null,
            "grid_template_columns": null,
            "grid_template_rows": null,
            "height": null,
            "justify_content": null,
            "justify_items": null,
            "left": null,
            "margin": null,
            "max_height": null,
            "max_width": null,
            "min_height": null,
            "min_width": null,
            "object_fit": null,
            "object_position": null,
            "order": null,
            "overflow": null,
            "overflow_x": null,
            "overflow_y": null,
            "padding": null,
            "right": null,
            "top": null,
            "visibility": null,
            "width": null
          }
        },
        "098f06fd83014a30a7b749af726ecead": {
          "model_module": "@jupyter-widgets/controls",
          "model_name": "DescriptionStyleModel",
          "model_module_version": "1.5.0",
          "state": {
            "_model_module": "@jupyter-widgets/controls",
            "_model_module_version": "1.5.0",
            "_model_name": "DescriptionStyleModel",
            "_view_count": null,
            "_view_module": "@jupyter-widgets/base",
            "_view_module_version": "1.2.0",
            "_view_name": "StyleView",
            "description_width": ""
          }
        },
        "684c8def9c544d7eb200918ae8a6392f": {
          "model_module": "@jupyter-widgets/controls",
          "model_name": "HBoxModel",
          "model_module_version": "1.5.0",
          "state": {
            "_dom_classes": [],
            "_model_module": "@jupyter-widgets/controls",
            "_model_module_version": "1.5.0",
            "_model_name": "HBoxModel",
            "_view_count": null,
            "_view_module": "@jupyter-widgets/controls",
            "_view_module_version": "1.5.0",
            "_view_name": "HBoxView",
            "box_style": "",
            "children": [
              "IPY_MODEL_2ac464afc1514334ac81a7be8dbe4327",
              "IPY_MODEL_4630310e370f4b728c3b8f08b38fae18",
              "IPY_MODEL_573f45b00adc4983ae9920694b3f1190"
            ],
            "layout": "IPY_MODEL_3fb3a6cfc3664a2ea1529e86bd87184b"
          }
        },
        "2ac464afc1514334ac81a7be8dbe4327": {
          "model_module": "@jupyter-widgets/controls",
          "model_name": "HTMLModel",
          "model_module_version": "1.5.0",
          "state": {
            "_dom_classes": [],
            "_model_module": "@jupyter-widgets/controls",
            "_model_module_version": "1.5.0",
            "_model_name": "HTMLModel",
            "_view_count": null,
            "_view_module": "@jupyter-widgets/controls",
            "_view_module_version": "1.5.0",
            "_view_name": "HTMLView",
            "description": "",
            "description_tooltip": null,
            "layout": "IPY_MODEL_21eec3923def4d2486e9f1ac8a664417",
            "placeholder": "​",
            "style": "IPY_MODEL_ab092e31ce8347d0aac5d77c88ed9b50",
            "value": "Downloading (…)lve/main/config.json: 100%"
          }
        },
        "4630310e370f4b728c3b8f08b38fae18": {
          "model_module": "@jupyter-widgets/controls",
          "model_name": "FloatProgressModel",
          "model_module_version": "1.5.0",
          "state": {
            "_dom_classes": [],
            "_model_module": "@jupyter-widgets/controls",
            "_model_module_version": "1.5.0",
            "_model_name": "FloatProgressModel",
            "_view_count": null,
            "_view_module": "@jupyter-widgets/controls",
            "_view_module_version": "1.5.0",
            "_view_name": "ProgressView",
            "bar_style": "success",
            "description": "",
            "description_tooltip": null,
            "layout": "IPY_MODEL_4211e0e83e3d4a99b72ec609478ae8a7",
            "max": 625,
            "min": 0,
            "orientation": "horizontal",
            "style": "IPY_MODEL_482ab3a584374320a5300430792146c0",
            "value": 625
          }
        },
        "573f45b00adc4983ae9920694b3f1190": {
          "model_module": "@jupyter-widgets/controls",
          "model_name": "HTMLModel",
          "model_module_version": "1.5.0",
          "state": {
            "_dom_classes": [],
            "_model_module": "@jupyter-widgets/controls",
            "_model_module_version": "1.5.0",
            "_model_name": "HTMLModel",
            "_view_count": null,
            "_view_module": "@jupyter-widgets/controls",
            "_view_module_version": "1.5.0",
            "_view_name": "HTMLView",
            "description": "",
            "description_tooltip": null,
            "layout": "IPY_MODEL_1a0bb2ffe0e541329e3a6b67ba426a12",
            "placeholder": "​",
            "style": "IPY_MODEL_db5fe5540f5f42ee95516e8405d3eacb",
            "value": " 625/625 [00:00&lt;00:00, 34.9kB/s]"
          }
        },
        "3fb3a6cfc3664a2ea1529e86bd87184b": {
          "model_module": "@jupyter-widgets/base",
          "model_name": "LayoutModel",
          "model_module_version": "1.2.0",
          "state": {
            "_model_module": "@jupyter-widgets/base",
            "_model_module_version": "1.2.0",
            "_model_name": "LayoutModel",
            "_view_count": null,
            "_view_module": "@jupyter-widgets/base",
            "_view_module_version": "1.2.0",
            "_view_name": "LayoutView",
            "align_content": null,
            "align_items": null,
            "align_self": null,
            "border": null,
            "bottom": null,
            "display": null,
            "flex": null,
            "flex_flow": null,
            "grid_area": null,
            "grid_auto_columns": null,
            "grid_auto_flow": null,
            "grid_auto_rows": null,
            "grid_column": null,
            "grid_gap": null,
            "grid_row": null,
            "grid_template_areas": null,
            "grid_template_columns": null,
            "grid_template_rows": null,
            "height": null,
            "justify_content": null,
            "justify_items": null,
            "left": null,
            "margin": null,
            "max_height": null,
            "max_width": null,
            "min_height": null,
            "min_width": null,
            "object_fit": null,
            "object_position": null,
            "order": null,
            "overflow": null,
            "overflow_x": null,
            "overflow_y": null,
            "padding": null,
            "right": null,
            "top": null,
            "visibility": null,
            "width": null
          }
        },
        "21eec3923def4d2486e9f1ac8a664417": {
          "model_module": "@jupyter-widgets/base",
          "model_name": "LayoutModel",
          "model_module_version": "1.2.0",
          "state": {
            "_model_module": "@jupyter-widgets/base",
            "_model_module_version": "1.2.0",
            "_model_name": "LayoutModel",
            "_view_count": null,
            "_view_module": "@jupyter-widgets/base",
            "_view_module_version": "1.2.0",
            "_view_name": "LayoutView",
            "align_content": null,
            "align_items": null,
            "align_self": null,
            "border": null,
            "bottom": null,
            "display": null,
            "flex": null,
            "flex_flow": null,
            "grid_area": null,
            "grid_auto_columns": null,
            "grid_auto_flow": null,
            "grid_auto_rows": null,
            "grid_column": null,
            "grid_gap": null,
            "grid_row": null,
            "grid_template_areas": null,
            "grid_template_columns": null,
            "grid_template_rows": null,
            "height": null,
            "justify_content": null,
            "justify_items": null,
            "left": null,
            "margin": null,
            "max_height": null,
            "max_width": null,
            "min_height": null,
            "min_width": null,
            "object_fit": null,
            "object_position": null,
            "order": null,
            "overflow": null,
            "overflow_x": null,
            "overflow_y": null,
            "padding": null,
            "right": null,
            "top": null,
            "visibility": null,
            "width": null
          }
        },
        "ab092e31ce8347d0aac5d77c88ed9b50": {
          "model_module": "@jupyter-widgets/controls",
          "model_name": "DescriptionStyleModel",
          "model_module_version": "1.5.0",
          "state": {
            "_model_module": "@jupyter-widgets/controls",
            "_model_module_version": "1.5.0",
            "_model_name": "DescriptionStyleModel",
            "_view_count": null,
            "_view_module": "@jupyter-widgets/base",
            "_view_module_version": "1.2.0",
            "_view_name": "StyleView",
            "description_width": ""
          }
        },
        "4211e0e83e3d4a99b72ec609478ae8a7": {
          "model_module": "@jupyter-widgets/base",
          "model_name": "LayoutModel",
          "model_module_version": "1.2.0",
          "state": {
            "_model_module": "@jupyter-widgets/base",
            "_model_module_version": "1.2.0",
            "_model_name": "LayoutModel",
            "_view_count": null,
            "_view_module": "@jupyter-widgets/base",
            "_view_module_version": "1.2.0",
            "_view_name": "LayoutView",
            "align_content": null,
            "align_items": null,
            "align_self": null,
            "border": null,
            "bottom": null,
            "display": null,
            "flex": null,
            "flex_flow": null,
            "grid_area": null,
            "grid_auto_columns": null,
            "grid_auto_flow": null,
            "grid_auto_rows": null,
            "grid_column": null,
            "grid_gap": null,
            "grid_row": null,
            "grid_template_areas": null,
            "grid_template_columns": null,
            "grid_template_rows": null,
            "height": null,
            "justify_content": null,
            "justify_items": null,
            "left": null,
            "margin": null,
            "max_height": null,
            "max_width": null,
            "min_height": null,
            "min_width": null,
            "object_fit": null,
            "object_position": null,
            "order": null,
            "overflow": null,
            "overflow_x": null,
            "overflow_y": null,
            "padding": null,
            "right": null,
            "top": null,
            "visibility": null,
            "width": null
          }
        },
        "482ab3a584374320a5300430792146c0": {
          "model_module": "@jupyter-widgets/controls",
          "model_name": "ProgressStyleModel",
          "model_module_version": "1.5.0",
          "state": {
            "_model_module": "@jupyter-widgets/controls",
            "_model_module_version": "1.5.0",
            "_model_name": "ProgressStyleModel",
            "_view_count": null,
            "_view_module": "@jupyter-widgets/base",
            "_view_module_version": "1.2.0",
            "_view_name": "StyleView",
            "bar_color": null,
            "description_width": ""
          }
        },
        "1a0bb2ffe0e541329e3a6b67ba426a12": {
          "model_module": "@jupyter-widgets/base",
          "model_name": "LayoutModel",
          "model_module_version": "1.2.0",
          "state": {
            "_model_module": "@jupyter-widgets/base",
            "_model_module_version": "1.2.0",
            "_model_name": "LayoutModel",
            "_view_count": null,
            "_view_module": "@jupyter-widgets/base",
            "_view_module_version": "1.2.0",
            "_view_name": "LayoutView",
            "align_content": null,
            "align_items": null,
            "align_self": null,
            "border": null,
            "bottom": null,
            "display": null,
            "flex": null,
            "flex_flow": null,
            "grid_area": null,
            "grid_auto_columns": null,
            "grid_auto_flow": null,
            "grid_auto_rows": null,
            "grid_column": null,
            "grid_gap": null,
            "grid_row": null,
            "grid_template_areas": null,
            "grid_template_columns": null,
            "grid_template_rows": null,
            "height": null,
            "justify_content": null,
            "justify_items": null,
            "left": null,
            "margin": null,
            "max_height": null,
            "max_width": null,
            "min_height": null,
            "min_width": null,
            "object_fit": null,
            "object_position": null,
            "order": null,
            "overflow": null,
            "overflow_x": null,
            "overflow_y": null,
            "padding": null,
            "right": null,
            "top": null,
            "visibility": null,
            "width": null
          }
        },
        "db5fe5540f5f42ee95516e8405d3eacb": {
          "model_module": "@jupyter-widgets/controls",
          "model_name": "DescriptionStyleModel",
          "model_module_version": "1.5.0",
          "state": {
            "_model_module": "@jupyter-widgets/controls",
            "_model_module_version": "1.5.0",
            "_model_name": "DescriptionStyleModel",
            "_view_count": null,
            "_view_module": "@jupyter-widgets/base",
            "_view_module_version": "1.2.0",
            "_view_name": "StyleView",
            "description_width": ""
          }
        },
        "3f99477fd2014155919f5f7b172a1289": {
          "model_module": "@jupyter-widgets/controls",
          "model_name": "HBoxModel",
          "model_module_version": "1.5.0",
          "state": {
            "_dom_classes": [],
            "_model_module": "@jupyter-widgets/controls",
            "_model_module_version": "1.5.0",
            "_model_name": "HBoxModel",
            "_view_count": null,
            "_view_module": "@jupyter-widgets/controls",
            "_view_module_version": "1.5.0",
            "_view_name": "HBoxView",
            "box_style": "",
            "children": [
              "IPY_MODEL_e6911760bcc94aea9b38d46c7f28bf99",
              "IPY_MODEL_9d1175e0380a48feb1430b912b36e939",
              "IPY_MODEL_3a826d12a98840b2b4ade3df2dce3702"
            ],
            "layout": "IPY_MODEL_4b75d272c3874a71a5b1269327b12cbb"
          }
        },
        "e6911760bcc94aea9b38d46c7f28bf99": {
          "model_module": "@jupyter-widgets/controls",
          "model_name": "HTMLModel",
          "model_module_version": "1.5.0",
          "state": {
            "_dom_classes": [],
            "_model_module": "@jupyter-widgets/controls",
            "_model_module_version": "1.5.0",
            "_model_name": "HTMLModel",
            "_view_count": null,
            "_view_module": "@jupyter-widgets/controls",
            "_view_module_version": "1.5.0",
            "_view_name": "HTMLView",
            "description": "",
            "description_tooltip": null,
            "layout": "IPY_MODEL_1097416189b94e978c8eb1cdc7cbd728",
            "placeholder": "​",
            "style": "IPY_MODEL_59b70726ec6a40f49a15017567dda759",
            "value": "Downloading (…)solve/main/vocab.txt: 100%"
          }
        },
        "9d1175e0380a48feb1430b912b36e939": {
          "model_module": "@jupyter-widgets/controls",
          "model_name": "FloatProgressModel",
          "model_module_version": "1.5.0",
          "state": {
            "_dom_classes": [],
            "_model_module": "@jupyter-widgets/controls",
            "_model_module_version": "1.5.0",
            "_model_name": "FloatProgressModel",
            "_view_count": null,
            "_view_module": "@jupyter-widgets/controls",
            "_view_module_version": "1.5.0",
            "_view_name": "ProgressView",
            "bar_style": "success",
            "description": "",
            "description_tooltip": null,
            "layout": "IPY_MODEL_99592696f307402e99988fa4017a9b5e",
            "max": 995526,
            "min": 0,
            "orientation": "horizontal",
            "style": "IPY_MODEL_83174fc7649d4d30b321ad982bcebdeb",
            "value": 995526
          }
        },
        "3a826d12a98840b2b4ade3df2dce3702": {
          "model_module": "@jupyter-widgets/controls",
          "model_name": "HTMLModel",
          "model_module_version": "1.5.0",
          "state": {
            "_dom_classes": [],
            "_model_module": "@jupyter-widgets/controls",
            "_model_module_version": "1.5.0",
            "_model_name": "HTMLModel",
            "_view_count": null,
            "_view_module": "@jupyter-widgets/controls",
            "_view_module_version": "1.5.0",
            "_view_name": "HTMLView",
            "description": "",
            "description_tooltip": null,
            "layout": "IPY_MODEL_1c29bb86bdde40e59cb67741b5b3f568",
            "placeholder": "​",
            "style": "IPY_MODEL_9e831c64f0da4a0e97ec903b0412cf38",
            "value": " 996k/996k [00:00&lt;00:00, 31.8MB/s]"
          }
        },
        "4b75d272c3874a71a5b1269327b12cbb": {
          "model_module": "@jupyter-widgets/base",
          "model_name": "LayoutModel",
          "model_module_version": "1.2.0",
          "state": {
            "_model_module": "@jupyter-widgets/base",
            "_model_module_version": "1.2.0",
            "_model_name": "LayoutModel",
            "_view_count": null,
            "_view_module": "@jupyter-widgets/base",
            "_view_module_version": "1.2.0",
            "_view_name": "LayoutView",
            "align_content": null,
            "align_items": null,
            "align_self": null,
            "border": null,
            "bottom": null,
            "display": null,
            "flex": null,
            "flex_flow": null,
            "grid_area": null,
            "grid_auto_columns": null,
            "grid_auto_flow": null,
            "grid_auto_rows": null,
            "grid_column": null,
            "grid_gap": null,
            "grid_row": null,
            "grid_template_areas": null,
            "grid_template_columns": null,
            "grid_template_rows": null,
            "height": null,
            "justify_content": null,
            "justify_items": null,
            "left": null,
            "margin": null,
            "max_height": null,
            "max_width": null,
            "min_height": null,
            "min_width": null,
            "object_fit": null,
            "object_position": null,
            "order": null,
            "overflow": null,
            "overflow_x": null,
            "overflow_y": null,
            "padding": null,
            "right": null,
            "top": null,
            "visibility": null,
            "width": null
          }
        },
        "1097416189b94e978c8eb1cdc7cbd728": {
          "model_module": "@jupyter-widgets/base",
          "model_name": "LayoutModel",
          "model_module_version": "1.2.0",
          "state": {
            "_model_module": "@jupyter-widgets/base",
            "_model_module_version": "1.2.0",
            "_model_name": "LayoutModel",
            "_view_count": null,
            "_view_module": "@jupyter-widgets/base",
            "_view_module_version": "1.2.0",
            "_view_name": "LayoutView",
            "align_content": null,
            "align_items": null,
            "align_self": null,
            "border": null,
            "bottom": null,
            "display": null,
            "flex": null,
            "flex_flow": null,
            "grid_area": null,
            "grid_auto_columns": null,
            "grid_auto_flow": null,
            "grid_auto_rows": null,
            "grid_column": null,
            "grid_gap": null,
            "grid_row": null,
            "grid_template_areas": null,
            "grid_template_columns": null,
            "grid_template_rows": null,
            "height": null,
            "justify_content": null,
            "justify_items": null,
            "left": null,
            "margin": null,
            "max_height": null,
            "max_width": null,
            "min_height": null,
            "min_width": null,
            "object_fit": null,
            "object_position": null,
            "order": null,
            "overflow": null,
            "overflow_x": null,
            "overflow_y": null,
            "padding": null,
            "right": null,
            "top": null,
            "visibility": null,
            "width": null
          }
        },
        "59b70726ec6a40f49a15017567dda759": {
          "model_module": "@jupyter-widgets/controls",
          "model_name": "DescriptionStyleModel",
          "model_module_version": "1.5.0",
          "state": {
            "_model_module": "@jupyter-widgets/controls",
            "_model_module_version": "1.5.0",
            "_model_name": "DescriptionStyleModel",
            "_view_count": null,
            "_view_module": "@jupyter-widgets/base",
            "_view_module_version": "1.2.0",
            "_view_name": "StyleView",
            "description_width": ""
          }
        },
        "99592696f307402e99988fa4017a9b5e": {
          "model_module": "@jupyter-widgets/base",
          "model_name": "LayoutModel",
          "model_module_version": "1.2.0",
          "state": {
            "_model_module": "@jupyter-widgets/base",
            "_model_module_version": "1.2.0",
            "_model_name": "LayoutModel",
            "_view_count": null,
            "_view_module": "@jupyter-widgets/base",
            "_view_module_version": "1.2.0",
            "_view_name": "LayoutView",
            "align_content": null,
            "align_items": null,
            "align_self": null,
            "border": null,
            "bottom": null,
            "display": null,
            "flex": null,
            "flex_flow": null,
            "grid_area": null,
            "grid_auto_columns": null,
            "grid_auto_flow": null,
            "grid_auto_rows": null,
            "grid_column": null,
            "grid_gap": null,
            "grid_row": null,
            "grid_template_areas": null,
            "grid_template_columns": null,
            "grid_template_rows": null,
            "height": null,
            "justify_content": null,
            "justify_items": null,
            "left": null,
            "margin": null,
            "max_height": null,
            "max_width": null,
            "min_height": null,
            "min_width": null,
            "object_fit": null,
            "object_position": null,
            "order": null,
            "overflow": null,
            "overflow_x": null,
            "overflow_y": null,
            "padding": null,
            "right": null,
            "top": null,
            "visibility": null,
            "width": null
          }
        },
        "83174fc7649d4d30b321ad982bcebdeb": {
          "model_module": "@jupyter-widgets/controls",
          "model_name": "ProgressStyleModel",
          "model_module_version": "1.5.0",
          "state": {
            "_model_module": "@jupyter-widgets/controls",
            "_model_module_version": "1.5.0",
            "_model_name": "ProgressStyleModel",
            "_view_count": null,
            "_view_module": "@jupyter-widgets/base",
            "_view_module_version": "1.2.0",
            "_view_name": "StyleView",
            "bar_color": null,
            "description_width": ""
          }
        },
        "1c29bb86bdde40e59cb67741b5b3f568": {
          "model_module": "@jupyter-widgets/base",
          "model_name": "LayoutModel",
          "model_module_version": "1.2.0",
          "state": {
            "_model_module": "@jupyter-widgets/base",
            "_model_module_version": "1.2.0",
            "_model_name": "LayoutModel",
            "_view_count": null,
            "_view_module": "@jupyter-widgets/base",
            "_view_module_version": "1.2.0",
            "_view_name": "LayoutView",
            "align_content": null,
            "align_items": null,
            "align_self": null,
            "border": null,
            "bottom": null,
            "display": null,
            "flex": null,
            "flex_flow": null,
            "grid_area": null,
            "grid_auto_columns": null,
            "grid_auto_flow": null,
            "grid_auto_rows": null,
            "grid_column": null,
            "grid_gap": null,
            "grid_row": null,
            "grid_template_areas": null,
            "grid_template_columns": null,
            "grid_template_rows": null,
            "height": null,
            "justify_content": null,
            "justify_items": null,
            "left": null,
            "margin": null,
            "max_height": null,
            "max_width": null,
            "min_height": null,
            "min_width": null,
            "object_fit": null,
            "object_position": null,
            "order": null,
            "overflow": null,
            "overflow_x": null,
            "overflow_y": null,
            "padding": null,
            "right": null,
            "top": null,
            "visibility": null,
            "width": null
          }
        },
        "9e831c64f0da4a0e97ec903b0412cf38": {
          "model_module": "@jupyter-widgets/controls",
          "model_name": "DescriptionStyleModel",
          "model_module_version": "1.5.0",
          "state": {
            "_model_module": "@jupyter-widgets/controls",
            "_model_module_version": "1.5.0",
            "_model_name": "DescriptionStyleModel",
            "_view_count": null,
            "_view_module": "@jupyter-widgets/base",
            "_view_module_version": "1.2.0",
            "_view_name": "StyleView",
            "description_width": ""
          }
        },
        "5ed477b1448948e2b40d83dd4e6265d6": {
          "model_module": "@jupyter-widgets/controls",
          "model_name": "HBoxModel",
          "model_module_version": "1.5.0",
          "state": {
            "_dom_classes": [],
            "_model_module": "@jupyter-widgets/controls",
            "_model_module_version": "1.5.0",
            "_model_name": "HBoxModel",
            "_view_count": null,
            "_view_module": "@jupyter-widgets/controls",
            "_view_module_version": "1.5.0",
            "_view_name": "HBoxView",
            "box_style": "",
            "children": [
              "IPY_MODEL_63f69fd9aaee4d88acb02b2ac3e06a21",
              "IPY_MODEL_16a68ed3cf3b4cd6841f3bbc2b35bd9e",
              "IPY_MODEL_ff3e08b3da8c493d99b780f019c52c30"
            ],
            "layout": "IPY_MODEL_b41694e55d4b46d1a7eaf494203307b3"
          }
        },
        "63f69fd9aaee4d88acb02b2ac3e06a21": {
          "model_module": "@jupyter-widgets/controls",
          "model_name": "HTMLModel",
          "model_module_version": "1.5.0",
          "state": {
            "_dom_classes": [],
            "_model_module": "@jupyter-widgets/controls",
            "_model_module_version": "1.5.0",
            "_model_name": "HTMLModel",
            "_view_count": null,
            "_view_module": "@jupyter-widgets/controls",
            "_view_module_version": "1.5.0",
            "_view_name": "HTMLView",
            "description": "",
            "description_tooltip": null,
            "layout": "IPY_MODEL_2a70bd972daa428c9df60c1cd3ea3436",
            "placeholder": "​",
            "style": "IPY_MODEL_77bd13e67a434ba2914e905dc3688568",
            "value": "Downloading (…)/main/tokenizer.json: 100%"
          }
        },
        "16a68ed3cf3b4cd6841f3bbc2b35bd9e": {
          "model_module": "@jupyter-widgets/controls",
          "model_name": "FloatProgressModel",
          "model_module_version": "1.5.0",
          "state": {
            "_dom_classes": [],
            "_model_module": "@jupyter-widgets/controls",
            "_model_module_version": "1.5.0",
            "_model_name": "FloatProgressModel",
            "_view_count": null,
            "_view_module": "@jupyter-widgets/controls",
            "_view_module_version": "1.5.0",
            "_view_name": "ProgressView",
            "bar_style": "success",
            "description": "",
            "description_tooltip": null,
            "layout": "IPY_MODEL_db5c6aa653cd45c0ac3688539fa17034",
            "max": 1961828,
            "min": 0,
            "orientation": "horizontal",
            "style": "IPY_MODEL_1be33f1e37fc40779ba81ba25970cb4b",
            "value": 1961828
          }
        },
        "ff3e08b3da8c493d99b780f019c52c30": {
          "model_module": "@jupyter-widgets/controls",
          "model_name": "HTMLModel",
          "model_module_version": "1.5.0",
          "state": {
            "_dom_classes": [],
            "_model_module": "@jupyter-widgets/controls",
            "_model_module_version": "1.5.0",
            "_model_name": "HTMLModel",
            "_view_count": null,
            "_view_module": "@jupyter-widgets/controls",
            "_view_module_version": "1.5.0",
            "_view_name": "HTMLView",
            "description": "",
            "description_tooltip": null,
            "layout": "IPY_MODEL_a07a1656719c43449ee263d2afcbb329",
            "placeholder": "​",
            "style": "IPY_MODEL_d71fa7d7bcd5400fa23114a156c78064",
            "value": " 1.96M/1.96M [00:00&lt;00:00, 19.7MB/s]"
          }
        },
        "b41694e55d4b46d1a7eaf494203307b3": {
          "model_module": "@jupyter-widgets/base",
          "model_name": "LayoutModel",
          "model_module_version": "1.2.0",
          "state": {
            "_model_module": "@jupyter-widgets/base",
            "_model_module_version": "1.2.0",
            "_model_name": "LayoutModel",
            "_view_count": null,
            "_view_module": "@jupyter-widgets/base",
            "_view_module_version": "1.2.0",
            "_view_name": "LayoutView",
            "align_content": null,
            "align_items": null,
            "align_self": null,
            "border": null,
            "bottom": null,
            "display": null,
            "flex": null,
            "flex_flow": null,
            "grid_area": null,
            "grid_auto_columns": null,
            "grid_auto_flow": null,
            "grid_auto_rows": null,
            "grid_column": null,
            "grid_gap": null,
            "grid_row": null,
            "grid_template_areas": null,
            "grid_template_columns": null,
            "grid_template_rows": null,
            "height": null,
            "justify_content": null,
            "justify_items": null,
            "left": null,
            "margin": null,
            "max_height": null,
            "max_width": null,
            "min_height": null,
            "min_width": null,
            "object_fit": null,
            "object_position": null,
            "order": null,
            "overflow": null,
            "overflow_x": null,
            "overflow_y": null,
            "padding": null,
            "right": null,
            "top": null,
            "visibility": null,
            "width": null
          }
        },
        "2a70bd972daa428c9df60c1cd3ea3436": {
          "model_module": "@jupyter-widgets/base",
          "model_name": "LayoutModel",
          "model_module_version": "1.2.0",
          "state": {
            "_model_module": "@jupyter-widgets/base",
            "_model_module_version": "1.2.0",
            "_model_name": "LayoutModel",
            "_view_count": null,
            "_view_module": "@jupyter-widgets/base",
            "_view_module_version": "1.2.0",
            "_view_name": "LayoutView",
            "align_content": null,
            "align_items": null,
            "align_self": null,
            "border": null,
            "bottom": null,
            "display": null,
            "flex": null,
            "flex_flow": null,
            "grid_area": null,
            "grid_auto_columns": null,
            "grid_auto_flow": null,
            "grid_auto_rows": null,
            "grid_column": null,
            "grid_gap": null,
            "grid_row": null,
            "grid_template_areas": null,
            "grid_template_columns": null,
            "grid_template_rows": null,
            "height": null,
            "justify_content": null,
            "justify_items": null,
            "left": null,
            "margin": null,
            "max_height": null,
            "max_width": null,
            "min_height": null,
            "min_width": null,
            "object_fit": null,
            "object_position": null,
            "order": null,
            "overflow": null,
            "overflow_x": null,
            "overflow_y": null,
            "padding": null,
            "right": null,
            "top": null,
            "visibility": null,
            "width": null
          }
        },
        "77bd13e67a434ba2914e905dc3688568": {
          "model_module": "@jupyter-widgets/controls",
          "model_name": "DescriptionStyleModel",
          "model_module_version": "1.5.0",
          "state": {
            "_model_module": "@jupyter-widgets/controls",
            "_model_module_version": "1.5.0",
            "_model_name": "DescriptionStyleModel",
            "_view_count": null,
            "_view_module": "@jupyter-widgets/base",
            "_view_module_version": "1.2.0",
            "_view_name": "StyleView",
            "description_width": ""
          }
        },
        "db5c6aa653cd45c0ac3688539fa17034": {
          "model_module": "@jupyter-widgets/base",
          "model_name": "LayoutModel",
          "model_module_version": "1.2.0",
          "state": {
            "_model_module": "@jupyter-widgets/base",
            "_model_module_version": "1.2.0",
            "_model_name": "LayoutModel",
            "_view_count": null,
            "_view_module": "@jupyter-widgets/base",
            "_view_module_version": "1.2.0",
            "_view_name": "LayoutView",
            "align_content": null,
            "align_items": null,
            "align_self": null,
            "border": null,
            "bottom": null,
            "display": null,
            "flex": null,
            "flex_flow": null,
            "grid_area": null,
            "grid_auto_columns": null,
            "grid_auto_flow": null,
            "grid_auto_rows": null,
            "grid_column": null,
            "grid_gap": null,
            "grid_row": null,
            "grid_template_areas": null,
            "grid_template_columns": null,
            "grid_template_rows": null,
            "height": null,
            "justify_content": null,
            "justify_items": null,
            "left": null,
            "margin": null,
            "max_height": null,
            "max_width": null,
            "min_height": null,
            "min_width": null,
            "object_fit": null,
            "object_position": null,
            "order": null,
            "overflow": null,
            "overflow_x": null,
            "overflow_y": null,
            "padding": null,
            "right": null,
            "top": null,
            "visibility": null,
            "width": null
          }
        },
        "1be33f1e37fc40779ba81ba25970cb4b": {
          "model_module": "@jupyter-widgets/controls",
          "model_name": "ProgressStyleModel",
          "model_module_version": "1.5.0",
          "state": {
            "_model_module": "@jupyter-widgets/controls",
            "_model_module_version": "1.5.0",
            "_model_name": "ProgressStyleModel",
            "_view_count": null,
            "_view_module": "@jupyter-widgets/base",
            "_view_module_version": "1.2.0",
            "_view_name": "StyleView",
            "bar_color": null,
            "description_width": ""
          }
        },
        "a07a1656719c43449ee263d2afcbb329": {
          "model_module": "@jupyter-widgets/base",
          "model_name": "LayoutModel",
          "model_module_version": "1.2.0",
          "state": {
            "_model_module": "@jupyter-widgets/base",
            "_model_module_version": "1.2.0",
            "_model_name": "LayoutModel",
            "_view_count": null,
            "_view_module": "@jupyter-widgets/base",
            "_view_module_version": "1.2.0",
            "_view_name": "LayoutView",
            "align_content": null,
            "align_items": null,
            "align_self": null,
            "border": null,
            "bottom": null,
            "display": null,
            "flex": null,
            "flex_flow": null,
            "grid_area": null,
            "grid_auto_columns": null,
            "grid_auto_flow": null,
            "grid_auto_rows": null,
            "grid_column": null,
            "grid_gap": null,
            "grid_row": null,
            "grid_template_areas": null,
            "grid_template_columns": null,
            "grid_template_rows": null,
            "height": null,
            "justify_content": null,
            "justify_items": null,
            "left": null,
            "margin": null,
            "max_height": null,
            "max_width": null,
            "min_height": null,
            "min_width": null,
            "object_fit": null,
            "object_position": null,
            "order": null,
            "overflow": null,
            "overflow_x": null,
            "overflow_y": null,
            "padding": null,
            "right": null,
            "top": null,
            "visibility": null,
            "width": null
          }
        },
        "d71fa7d7bcd5400fa23114a156c78064": {
          "model_module": "@jupyter-widgets/controls",
          "model_name": "DescriptionStyleModel",
          "model_module_version": "1.5.0",
          "state": {
            "_model_module": "@jupyter-widgets/controls",
            "_model_module_version": "1.5.0",
            "_model_name": "DescriptionStyleModel",
            "_view_count": null,
            "_view_module": "@jupyter-widgets/base",
            "_view_module_version": "1.2.0",
            "_view_name": "StyleView",
            "description_width": ""
          }
        },
        "e8d12b82fdb1439782d48a9efcc74ed3": {
          "model_module": "@jupyter-widgets/controls",
          "model_name": "HBoxModel",
          "model_module_version": "1.5.0",
          "state": {
            "_dom_classes": [],
            "_model_module": "@jupyter-widgets/controls",
            "_model_module_version": "1.5.0",
            "_model_name": "HBoxModel",
            "_view_count": null,
            "_view_module": "@jupyter-widgets/controls",
            "_view_module_version": "1.5.0",
            "_view_name": "HBoxView",
            "box_style": "",
            "children": [
              "IPY_MODEL_9831b30142234b92ae62ba014c4a5400",
              "IPY_MODEL_438c0afaf4204f9a98b05c4937b6694b",
              "IPY_MODEL_a2d351e38bc14bd4a551f20c516dd6d1"
            ],
            "layout": "IPY_MODEL_fb7737f16339472aa28cd4638cca2042"
          }
        },
        "9831b30142234b92ae62ba014c4a5400": {
          "model_module": "@jupyter-widgets/controls",
          "model_name": "HTMLModel",
          "model_module_version": "1.5.0",
          "state": {
            "_dom_classes": [],
            "_model_module": "@jupyter-widgets/controls",
            "_model_module_version": "1.5.0",
            "_model_name": "HTMLModel",
            "_view_count": null,
            "_view_module": "@jupyter-widgets/controls",
            "_view_module_version": "1.5.0",
            "_view_name": "HTMLView",
            "description": "",
            "description_tooltip": null,
            "layout": "IPY_MODEL_95ce23e35d754a5ca698af5e39161f2a",
            "placeholder": "​",
            "style": "IPY_MODEL_968741ea0233415a99b8fdf94d6e2a95",
            "value": "Downloading model.safetensors: 100%"
          }
        },
        "438c0afaf4204f9a98b05c4937b6694b": {
          "model_module": "@jupyter-widgets/controls",
          "model_name": "FloatProgressModel",
          "model_module_version": "1.5.0",
          "state": {
            "_dom_classes": [],
            "_model_module": "@jupyter-widgets/controls",
            "_model_module_version": "1.5.0",
            "_model_name": "FloatProgressModel",
            "_view_count": null,
            "_view_module": "@jupyter-widgets/controls",
            "_view_module_version": "1.5.0",
            "_view_name": "ProgressView",
            "bar_style": "success",
            "description": "",
            "description_tooltip": null,
            "layout": "IPY_MODEL_6a3b8bd53dc842edb802b9739098dd1b",
            "max": 714290682,
            "min": 0,
            "orientation": "horizontal",
            "style": "IPY_MODEL_7cd144d706864daaad949bf1778c3c46",
            "value": 714290682
          }
        },
        "a2d351e38bc14bd4a551f20c516dd6d1": {
          "model_module": "@jupyter-widgets/controls",
          "model_name": "HTMLModel",
          "model_module_version": "1.5.0",
          "state": {
            "_dom_classes": [],
            "_model_module": "@jupyter-widgets/controls",
            "_model_module_version": "1.5.0",
            "_model_name": "HTMLModel",
            "_view_count": null,
            "_view_module": "@jupyter-widgets/controls",
            "_view_module_version": "1.5.0",
            "_view_name": "HTMLView",
            "description": "",
            "description_tooltip": null,
            "layout": "IPY_MODEL_597f4c9a6579422cbc98547cc1b0b580",
            "placeholder": "​",
            "style": "IPY_MODEL_fde671fedf0a4370acf193e48bf91f69",
            "value": " 714M/714M [00:02&lt;00:00, 211MB/s]"
          }
        },
        "fb7737f16339472aa28cd4638cca2042": {
          "model_module": "@jupyter-widgets/base",
          "model_name": "LayoutModel",
          "model_module_version": "1.2.0",
          "state": {
            "_model_module": "@jupyter-widgets/base",
            "_model_module_version": "1.2.0",
            "_model_name": "LayoutModel",
            "_view_count": null,
            "_view_module": "@jupyter-widgets/base",
            "_view_module_version": "1.2.0",
            "_view_name": "LayoutView",
            "align_content": null,
            "align_items": null,
            "align_self": null,
            "border": null,
            "bottom": null,
            "display": null,
            "flex": null,
            "flex_flow": null,
            "grid_area": null,
            "grid_auto_columns": null,
            "grid_auto_flow": null,
            "grid_auto_rows": null,
            "grid_column": null,
            "grid_gap": null,
            "grid_row": null,
            "grid_template_areas": null,
            "grid_template_columns": null,
            "grid_template_rows": null,
            "height": null,
            "justify_content": null,
            "justify_items": null,
            "left": null,
            "margin": null,
            "max_height": null,
            "max_width": null,
            "min_height": null,
            "min_width": null,
            "object_fit": null,
            "object_position": null,
            "order": null,
            "overflow": null,
            "overflow_x": null,
            "overflow_y": null,
            "padding": null,
            "right": null,
            "top": null,
            "visibility": null,
            "width": null
          }
        },
        "95ce23e35d754a5ca698af5e39161f2a": {
          "model_module": "@jupyter-widgets/base",
          "model_name": "LayoutModel",
          "model_module_version": "1.2.0",
          "state": {
            "_model_module": "@jupyter-widgets/base",
            "_model_module_version": "1.2.0",
            "_model_name": "LayoutModel",
            "_view_count": null,
            "_view_module": "@jupyter-widgets/base",
            "_view_module_version": "1.2.0",
            "_view_name": "LayoutView",
            "align_content": null,
            "align_items": null,
            "align_self": null,
            "border": null,
            "bottom": null,
            "display": null,
            "flex": null,
            "flex_flow": null,
            "grid_area": null,
            "grid_auto_columns": null,
            "grid_auto_flow": null,
            "grid_auto_rows": null,
            "grid_column": null,
            "grid_gap": null,
            "grid_row": null,
            "grid_template_areas": null,
            "grid_template_columns": null,
            "grid_template_rows": null,
            "height": null,
            "justify_content": null,
            "justify_items": null,
            "left": null,
            "margin": null,
            "max_height": null,
            "max_width": null,
            "min_height": null,
            "min_width": null,
            "object_fit": null,
            "object_position": null,
            "order": null,
            "overflow": null,
            "overflow_x": null,
            "overflow_y": null,
            "padding": null,
            "right": null,
            "top": null,
            "visibility": null,
            "width": null
          }
        },
        "968741ea0233415a99b8fdf94d6e2a95": {
          "model_module": "@jupyter-widgets/controls",
          "model_name": "DescriptionStyleModel",
          "model_module_version": "1.5.0",
          "state": {
            "_model_module": "@jupyter-widgets/controls",
            "_model_module_version": "1.5.0",
            "_model_name": "DescriptionStyleModel",
            "_view_count": null,
            "_view_module": "@jupyter-widgets/base",
            "_view_module_version": "1.2.0",
            "_view_name": "StyleView",
            "description_width": ""
          }
        },
        "6a3b8bd53dc842edb802b9739098dd1b": {
          "model_module": "@jupyter-widgets/base",
          "model_name": "LayoutModel",
          "model_module_version": "1.2.0",
          "state": {
            "_model_module": "@jupyter-widgets/base",
            "_model_module_version": "1.2.0",
            "_model_name": "LayoutModel",
            "_view_count": null,
            "_view_module": "@jupyter-widgets/base",
            "_view_module_version": "1.2.0",
            "_view_name": "LayoutView",
            "align_content": null,
            "align_items": null,
            "align_self": null,
            "border": null,
            "bottom": null,
            "display": null,
            "flex": null,
            "flex_flow": null,
            "grid_area": null,
            "grid_auto_columns": null,
            "grid_auto_flow": null,
            "grid_auto_rows": null,
            "grid_column": null,
            "grid_gap": null,
            "grid_row": null,
            "grid_template_areas": null,
            "grid_template_columns": null,
            "grid_template_rows": null,
            "height": null,
            "justify_content": null,
            "justify_items": null,
            "left": null,
            "margin": null,
            "max_height": null,
            "max_width": null,
            "min_height": null,
            "min_width": null,
            "object_fit": null,
            "object_position": null,
            "order": null,
            "overflow": null,
            "overflow_x": null,
            "overflow_y": null,
            "padding": null,
            "right": null,
            "top": null,
            "visibility": null,
            "width": null
          }
        },
        "7cd144d706864daaad949bf1778c3c46": {
          "model_module": "@jupyter-widgets/controls",
          "model_name": "ProgressStyleModel",
          "model_module_version": "1.5.0",
          "state": {
            "_model_module": "@jupyter-widgets/controls",
            "_model_module_version": "1.5.0",
            "_model_name": "ProgressStyleModel",
            "_view_count": null,
            "_view_module": "@jupyter-widgets/base",
            "_view_module_version": "1.2.0",
            "_view_name": "StyleView",
            "bar_color": null,
            "description_width": ""
          }
        },
        "597f4c9a6579422cbc98547cc1b0b580": {
          "model_module": "@jupyter-widgets/base",
          "model_name": "LayoutModel",
          "model_module_version": "1.2.0",
          "state": {
            "_model_module": "@jupyter-widgets/base",
            "_model_module_version": "1.2.0",
            "_model_name": "LayoutModel",
            "_view_count": null,
            "_view_module": "@jupyter-widgets/base",
            "_view_module_version": "1.2.0",
            "_view_name": "LayoutView",
            "align_content": null,
            "align_items": null,
            "align_self": null,
            "border": null,
            "bottom": null,
            "display": null,
            "flex": null,
            "flex_flow": null,
            "grid_area": null,
            "grid_auto_columns": null,
            "grid_auto_flow": null,
            "grid_auto_rows": null,
            "grid_column": null,
            "grid_gap": null,
            "grid_row": null,
            "grid_template_areas": null,
            "grid_template_columns": null,
            "grid_template_rows": null,
            "height": null,
            "justify_content": null,
            "justify_items": null,
            "left": null,
            "margin": null,
            "max_height": null,
            "max_width": null,
            "min_height": null,
            "min_width": null,
            "object_fit": null,
            "object_position": null,
            "order": null,
            "overflow": null,
            "overflow_x": null,
            "overflow_y": null,
            "padding": null,
            "right": null,
            "top": null,
            "visibility": null,
            "width": null
          }
        },
        "fde671fedf0a4370acf193e48bf91f69": {
          "model_module": "@jupyter-widgets/controls",
          "model_name": "DescriptionStyleModel",
          "model_module_version": "1.5.0",
          "state": {
            "_model_module": "@jupyter-widgets/controls",
            "_model_module_version": "1.5.0",
            "_model_name": "DescriptionStyleModel",
            "_view_count": null,
            "_view_module": "@jupyter-widgets/base",
            "_view_module_version": "1.2.0",
            "_view_name": "StyleView",
            "description_width": ""
          }
        },
        "078eef429d7e4d9a9f7728ef44aa48c6": {
          "model_module": "@jupyter-widgets/controls",
          "model_name": "HBoxModel",
          "model_module_version": "1.5.0",
          "state": {
            "_dom_classes": [],
            "_model_module": "@jupyter-widgets/controls",
            "_model_module_version": "1.5.0",
            "_model_name": "HBoxModel",
            "_view_count": null,
            "_view_module": "@jupyter-widgets/controls",
            "_view_module_version": "1.5.0",
            "_view_name": "HBoxView",
            "box_style": "",
            "children": [
              "IPY_MODEL_df41f140754f4ebe9551b751ee5ea51d",
              "IPY_MODEL_d2d8176426864ec38de67adfd32a7d5e",
              "IPY_MODEL_be8cb95116434a0da13d957066124211"
            ],
            "layout": "IPY_MODEL_e1a5acd836a6433aae5d68df06e0f78e"
          }
        },
        "df41f140754f4ebe9551b751ee5ea51d": {
          "model_module": "@jupyter-widgets/controls",
          "model_name": "HTMLModel",
          "model_module_version": "1.5.0",
          "state": {
            "_dom_classes": [],
            "_model_module": "@jupyter-widgets/controls",
            "_model_module_version": "1.5.0",
            "_model_name": "HTMLModel",
            "_view_count": null,
            "_view_module": "@jupyter-widgets/controls",
            "_view_module_version": "1.5.0",
            "_view_name": "HTMLView",
            "description": "",
            "description_tooltip": null,
            "layout": "IPY_MODEL_ee915f2cc1b84b5387efcba2d5b0dd58",
            "placeholder": "​",
            "style": "IPY_MODEL_e560ed9c971349f7831d00582d8549dc",
            "value": "Map: 100%"
          }
        },
        "d2d8176426864ec38de67adfd32a7d5e": {
          "model_module": "@jupyter-widgets/controls",
          "model_name": "FloatProgressModel",
          "model_module_version": "1.5.0",
          "state": {
            "_dom_classes": [],
            "_model_module": "@jupyter-widgets/controls",
            "_model_module_version": "1.5.0",
            "_model_name": "FloatProgressModel",
            "_view_count": null,
            "_view_module": "@jupyter-widgets/controls",
            "_view_module_version": "1.5.0",
            "_view_name": "ProgressView",
            "bar_style": "success",
            "description": "",
            "description_tooltip": null,
            "layout": "IPY_MODEL_83c434c613404475ba463d0ff2c1d027",
            "max": 500,
            "min": 0,
            "orientation": "horizontal",
            "style": "IPY_MODEL_5091f08b82834c7f8d4eadcb6dcaa8c4",
            "value": 500
          }
        },
        "be8cb95116434a0da13d957066124211": {
          "model_module": "@jupyter-widgets/controls",
          "model_name": "HTMLModel",
          "model_module_version": "1.5.0",
          "state": {
            "_dom_classes": [],
            "_model_module": "@jupyter-widgets/controls",
            "_model_module_version": "1.5.0",
            "_model_name": "HTMLModel",
            "_view_count": null,
            "_view_module": "@jupyter-widgets/controls",
            "_view_module_version": "1.5.0",
            "_view_name": "HTMLView",
            "description": "",
            "description_tooltip": null,
            "layout": "IPY_MODEL_cdb4be352146454aaf8b9b12520195e8",
            "placeholder": "​",
            "style": "IPY_MODEL_77d5145919094d15b045620f9a984001",
            "value": " 500/500 [00:00&lt;00:00, 3780.36 examples/s]"
          }
        },
        "e1a5acd836a6433aae5d68df06e0f78e": {
          "model_module": "@jupyter-widgets/base",
          "model_name": "LayoutModel",
          "model_module_version": "1.2.0",
          "state": {
            "_model_module": "@jupyter-widgets/base",
            "_model_module_version": "1.2.0",
            "_model_name": "LayoutModel",
            "_view_count": null,
            "_view_module": "@jupyter-widgets/base",
            "_view_module_version": "1.2.0",
            "_view_name": "LayoutView",
            "align_content": null,
            "align_items": null,
            "align_self": null,
            "border": null,
            "bottom": null,
            "display": null,
            "flex": null,
            "flex_flow": null,
            "grid_area": null,
            "grid_auto_columns": null,
            "grid_auto_flow": null,
            "grid_auto_rows": null,
            "grid_column": null,
            "grid_gap": null,
            "grid_row": null,
            "grid_template_areas": null,
            "grid_template_columns": null,
            "grid_template_rows": null,
            "height": null,
            "justify_content": null,
            "justify_items": null,
            "left": null,
            "margin": null,
            "max_height": null,
            "max_width": null,
            "min_height": null,
            "min_width": null,
            "object_fit": null,
            "object_position": null,
            "order": null,
            "overflow": null,
            "overflow_x": null,
            "overflow_y": null,
            "padding": null,
            "right": null,
            "top": null,
            "visibility": null,
            "width": null
          }
        },
        "ee915f2cc1b84b5387efcba2d5b0dd58": {
          "model_module": "@jupyter-widgets/base",
          "model_name": "LayoutModel",
          "model_module_version": "1.2.0",
          "state": {
            "_model_module": "@jupyter-widgets/base",
            "_model_module_version": "1.2.0",
            "_model_name": "LayoutModel",
            "_view_count": null,
            "_view_module": "@jupyter-widgets/base",
            "_view_module_version": "1.2.0",
            "_view_name": "LayoutView",
            "align_content": null,
            "align_items": null,
            "align_self": null,
            "border": null,
            "bottom": null,
            "display": null,
            "flex": null,
            "flex_flow": null,
            "grid_area": null,
            "grid_auto_columns": null,
            "grid_auto_flow": null,
            "grid_auto_rows": null,
            "grid_column": null,
            "grid_gap": null,
            "grid_row": null,
            "grid_template_areas": null,
            "grid_template_columns": null,
            "grid_template_rows": null,
            "height": null,
            "justify_content": null,
            "justify_items": null,
            "left": null,
            "margin": null,
            "max_height": null,
            "max_width": null,
            "min_height": null,
            "min_width": null,
            "object_fit": null,
            "object_position": null,
            "order": null,
            "overflow": null,
            "overflow_x": null,
            "overflow_y": null,
            "padding": null,
            "right": null,
            "top": null,
            "visibility": null,
            "width": null
          }
        },
        "e560ed9c971349f7831d00582d8549dc": {
          "model_module": "@jupyter-widgets/controls",
          "model_name": "DescriptionStyleModel",
          "model_module_version": "1.5.0",
          "state": {
            "_model_module": "@jupyter-widgets/controls",
            "_model_module_version": "1.5.0",
            "_model_name": "DescriptionStyleModel",
            "_view_count": null,
            "_view_module": "@jupyter-widgets/base",
            "_view_module_version": "1.2.0",
            "_view_name": "StyleView",
            "description_width": ""
          }
        },
        "83c434c613404475ba463d0ff2c1d027": {
          "model_module": "@jupyter-widgets/base",
          "model_name": "LayoutModel",
          "model_module_version": "1.2.0",
          "state": {
            "_model_module": "@jupyter-widgets/base",
            "_model_module_version": "1.2.0",
            "_model_name": "LayoutModel",
            "_view_count": null,
            "_view_module": "@jupyter-widgets/base",
            "_view_module_version": "1.2.0",
            "_view_name": "LayoutView",
            "align_content": null,
            "align_items": null,
            "align_self": null,
            "border": null,
            "bottom": null,
            "display": null,
            "flex": null,
            "flex_flow": null,
            "grid_area": null,
            "grid_auto_columns": null,
            "grid_auto_flow": null,
            "grid_auto_rows": null,
            "grid_column": null,
            "grid_gap": null,
            "grid_row": null,
            "grid_template_areas": null,
            "grid_template_columns": null,
            "grid_template_rows": null,
            "height": null,
            "justify_content": null,
            "justify_items": null,
            "left": null,
            "margin": null,
            "max_height": null,
            "max_width": null,
            "min_height": null,
            "min_width": null,
            "object_fit": null,
            "object_position": null,
            "order": null,
            "overflow": null,
            "overflow_x": null,
            "overflow_y": null,
            "padding": null,
            "right": null,
            "top": null,
            "visibility": null,
            "width": null
          }
        },
        "5091f08b82834c7f8d4eadcb6dcaa8c4": {
          "model_module": "@jupyter-widgets/controls",
          "model_name": "ProgressStyleModel",
          "model_module_version": "1.5.0",
          "state": {
            "_model_module": "@jupyter-widgets/controls",
            "_model_module_version": "1.5.0",
            "_model_name": "ProgressStyleModel",
            "_view_count": null,
            "_view_module": "@jupyter-widgets/base",
            "_view_module_version": "1.2.0",
            "_view_name": "StyleView",
            "bar_color": null,
            "description_width": ""
          }
        },
        "cdb4be352146454aaf8b9b12520195e8": {
          "model_module": "@jupyter-widgets/base",
          "model_name": "LayoutModel",
          "model_module_version": "1.2.0",
          "state": {
            "_model_module": "@jupyter-widgets/base",
            "_model_module_version": "1.2.0",
            "_model_name": "LayoutModel",
            "_view_count": null,
            "_view_module": "@jupyter-widgets/base",
            "_view_module_version": "1.2.0",
            "_view_name": "LayoutView",
            "align_content": null,
            "align_items": null,
            "align_self": null,
            "border": null,
            "bottom": null,
            "display": null,
            "flex": null,
            "flex_flow": null,
            "grid_area": null,
            "grid_auto_columns": null,
            "grid_auto_flow": null,
            "grid_auto_rows": null,
            "grid_column": null,
            "grid_gap": null,
            "grid_row": null,
            "grid_template_areas": null,
            "grid_template_columns": null,
            "grid_template_rows": null,
            "height": null,
            "justify_content": null,
            "justify_items": null,
            "left": null,
            "margin": null,
            "max_height": null,
            "max_width": null,
            "min_height": null,
            "min_width": null,
            "object_fit": null,
            "object_position": null,
            "order": null,
            "overflow": null,
            "overflow_x": null,
            "overflow_y": null,
            "padding": null,
            "right": null,
            "top": null,
            "visibility": null,
            "width": null
          }
        },
        "77d5145919094d15b045620f9a984001": {
          "model_module": "@jupyter-widgets/controls",
          "model_name": "DescriptionStyleModel",
          "model_module_version": "1.5.0",
          "state": {
            "_model_module": "@jupyter-widgets/controls",
            "_model_module_version": "1.5.0",
            "_model_name": "DescriptionStyleModel",
            "_view_count": null,
            "_view_module": "@jupyter-widgets/base",
            "_view_module_version": "1.2.0",
            "_view_name": "StyleView",
            "description_width": ""
          }
        },
        "05bd4c9c56df434aa54b8111b617c87f": {
          "model_module": "@jupyter-widgets/controls",
          "model_name": "HBoxModel",
          "model_module_version": "1.5.0",
          "state": {
            "_dom_classes": [],
            "_model_module": "@jupyter-widgets/controls",
            "_model_module_version": "1.5.0",
            "_model_name": "HBoxModel",
            "_view_count": null,
            "_view_module": "@jupyter-widgets/controls",
            "_view_module_version": "1.5.0",
            "_view_name": "HBoxView",
            "box_style": "",
            "children": [
              "IPY_MODEL_b46411ee773f4704b0d44168b2e7ae76",
              "IPY_MODEL_5dfcc73d96a9403cb5d7fc3199e1a6a5",
              "IPY_MODEL_728b7a6656e54c06af1e559cdf1b7d66"
            ],
            "layout": "IPY_MODEL_776d05f33c1b491ab972af6e3446c955"
          }
        },
        "b46411ee773f4704b0d44168b2e7ae76": {
          "model_module": "@jupyter-widgets/controls",
          "model_name": "HTMLModel",
          "model_module_version": "1.5.0",
          "state": {
            "_dom_classes": [],
            "_model_module": "@jupyter-widgets/controls",
            "_model_module_version": "1.5.0",
            "_model_name": "HTMLModel",
            "_view_count": null,
            "_view_module": "@jupyter-widgets/controls",
            "_view_module_version": "1.5.0",
            "_view_name": "HTMLView",
            "description": "",
            "description_tooltip": null,
            "layout": "IPY_MODEL_f8ccefdcfdad47b484e350c79078bb58",
            "placeholder": "​",
            "style": "IPY_MODEL_4e4df796c2e94ee8b77df3e1c72cb9ab",
            "value": "Downloading builder script: 100%"
          }
        },
        "5dfcc73d96a9403cb5d7fc3199e1a6a5": {
          "model_module": "@jupyter-widgets/controls",
          "model_name": "FloatProgressModel",
          "model_module_version": "1.5.0",
          "state": {
            "_dom_classes": [],
            "_model_module": "@jupyter-widgets/controls",
            "_model_module_version": "1.5.0",
            "_model_name": "FloatProgressModel",
            "_view_count": null,
            "_view_module": "@jupyter-widgets/controls",
            "_view_module_version": "1.5.0",
            "_view_name": "ProgressView",
            "bar_style": "success",
            "description": "",
            "description_tooltip": null,
            "layout": "IPY_MODEL_47c58afd6e9540478b45e7271b5183f4",
            "max": 5937,
            "min": 0,
            "orientation": "horizontal",
            "style": "IPY_MODEL_0540d3b8be8c4aa1b2fcebb990c0cd20",
            "value": 5937
          }
        },
        "728b7a6656e54c06af1e559cdf1b7d66": {
          "model_module": "@jupyter-widgets/controls",
          "model_name": "HTMLModel",
          "model_module_version": "1.5.0",
          "state": {
            "_dom_classes": [],
            "_model_module": "@jupyter-widgets/controls",
            "_model_module_version": "1.5.0",
            "_model_name": "HTMLModel",
            "_view_count": null,
            "_view_module": "@jupyter-widgets/controls",
            "_view_module_version": "1.5.0",
            "_view_name": "HTMLView",
            "description": "",
            "description_tooltip": null,
            "layout": "IPY_MODEL_9964f0e247104209a2aaae40f00cea6b",
            "placeholder": "​",
            "style": "IPY_MODEL_13d850eab61c4df4b609e71d89d6889d",
            "value": " 5.94k/5.94k [00:00&lt;00:00, 310kB/s]"
          }
        },
        "776d05f33c1b491ab972af6e3446c955": {
          "model_module": "@jupyter-widgets/base",
          "model_name": "LayoutModel",
          "model_module_version": "1.2.0",
          "state": {
            "_model_module": "@jupyter-widgets/base",
            "_model_module_version": "1.2.0",
            "_model_name": "LayoutModel",
            "_view_count": null,
            "_view_module": "@jupyter-widgets/base",
            "_view_module_version": "1.2.0",
            "_view_name": "LayoutView",
            "align_content": null,
            "align_items": null,
            "align_self": null,
            "border": null,
            "bottom": null,
            "display": null,
            "flex": null,
            "flex_flow": null,
            "grid_area": null,
            "grid_auto_columns": null,
            "grid_auto_flow": null,
            "grid_auto_rows": null,
            "grid_column": null,
            "grid_gap": null,
            "grid_row": null,
            "grid_template_areas": null,
            "grid_template_columns": null,
            "grid_template_rows": null,
            "height": null,
            "justify_content": null,
            "justify_items": null,
            "left": null,
            "margin": null,
            "max_height": null,
            "max_width": null,
            "min_height": null,
            "min_width": null,
            "object_fit": null,
            "object_position": null,
            "order": null,
            "overflow": null,
            "overflow_x": null,
            "overflow_y": null,
            "padding": null,
            "right": null,
            "top": null,
            "visibility": null,
            "width": null
          }
        },
        "f8ccefdcfdad47b484e350c79078bb58": {
          "model_module": "@jupyter-widgets/base",
          "model_name": "LayoutModel",
          "model_module_version": "1.2.0",
          "state": {
            "_model_module": "@jupyter-widgets/base",
            "_model_module_version": "1.2.0",
            "_model_name": "LayoutModel",
            "_view_count": null,
            "_view_module": "@jupyter-widgets/base",
            "_view_module_version": "1.2.0",
            "_view_name": "LayoutView",
            "align_content": null,
            "align_items": null,
            "align_self": null,
            "border": null,
            "bottom": null,
            "display": null,
            "flex": null,
            "flex_flow": null,
            "grid_area": null,
            "grid_auto_columns": null,
            "grid_auto_flow": null,
            "grid_auto_rows": null,
            "grid_column": null,
            "grid_gap": null,
            "grid_row": null,
            "grid_template_areas": null,
            "grid_template_columns": null,
            "grid_template_rows": null,
            "height": null,
            "justify_content": null,
            "justify_items": null,
            "left": null,
            "margin": null,
            "max_height": null,
            "max_width": null,
            "min_height": null,
            "min_width": null,
            "object_fit": null,
            "object_position": null,
            "order": null,
            "overflow": null,
            "overflow_x": null,
            "overflow_y": null,
            "padding": null,
            "right": null,
            "top": null,
            "visibility": null,
            "width": null
          }
        },
        "4e4df796c2e94ee8b77df3e1c72cb9ab": {
          "model_module": "@jupyter-widgets/controls",
          "model_name": "DescriptionStyleModel",
          "model_module_version": "1.5.0",
          "state": {
            "_model_module": "@jupyter-widgets/controls",
            "_model_module_version": "1.5.0",
            "_model_name": "DescriptionStyleModel",
            "_view_count": null,
            "_view_module": "@jupyter-widgets/base",
            "_view_module_version": "1.2.0",
            "_view_name": "StyleView",
            "description_width": ""
          }
        },
        "47c58afd6e9540478b45e7271b5183f4": {
          "model_module": "@jupyter-widgets/base",
          "model_name": "LayoutModel",
          "model_module_version": "1.2.0",
          "state": {
            "_model_module": "@jupyter-widgets/base",
            "_model_module_version": "1.2.0",
            "_model_name": "LayoutModel",
            "_view_count": null,
            "_view_module": "@jupyter-widgets/base",
            "_view_module_version": "1.2.0",
            "_view_name": "LayoutView",
            "align_content": null,
            "align_items": null,
            "align_self": null,
            "border": null,
            "bottom": null,
            "display": null,
            "flex": null,
            "flex_flow": null,
            "grid_area": null,
            "grid_auto_columns": null,
            "grid_auto_flow": null,
            "grid_auto_rows": null,
            "grid_column": null,
            "grid_gap": null,
            "grid_row": null,
            "grid_template_areas": null,
            "grid_template_columns": null,
            "grid_template_rows": null,
            "height": null,
            "justify_content": null,
            "justify_items": null,
            "left": null,
            "margin": null,
            "max_height": null,
            "max_width": null,
            "min_height": null,
            "min_width": null,
            "object_fit": null,
            "object_position": null,
            "order": null,
            "overflow": null,
            "overflow_x": null,
            "overflow_y": null,
            "padding": null,
            "right": null,
            "top": null,
            "visibility": null,
            "width": null
          }
        },
        "0540d3b8be8c4aa1b2fcebb990c0cd20": {
          "model_module": "@jupyter-widgets/controls",
          "model_name": "ProgressStyleModel",
          "model_module_version": "1.5.0",
          "state": {
            "_model_module": "@jupyter-widgets/controls",
            "_model_module_version": "1.5.0",
            "_model_name": "ProgressStyleModel",
            "_view_count": null,
            "_view_module": "@jupyter-widgets/base",
            "_view_module_version": "1.2.0",
            "_view_name": "StyleView",
            "bar_color": null,
            "description_width": ""
          }
        },
        "9964f0e247104209a2aaae40f00cea6b": {
          "model_module": "@jupyter-widgets/base",
          "model_name": "LayoutModel",
          "model_module_version": "1.2.0",
          "state": {
            "_model_module": "@jupyter-widgets/base",
            "_model_module_version": "1.2.0",
            "_model_name": "LayoutModel",
            "_view_count": null,
            "_view_module": "@jupyter-widgets/base",
            "_view_module_version": "1.2.0",
            "_view_name": "LayoutView",
            "align_content": null,
            "align_items": null,
            "align_self": null,
            "border": null,
            "bottom": null,
            "display": null,
            "flex": null,
            "flex_flow": null,
            "grid_area": null,
            "grid_auto_columns": null,
            "grid_auto_flow": null,
            "grid_auto_rows": null,
            "grid_column": null,
            "grid_gap": null,
            "grid_row": null,
            "grid_template_areas": null,
            "grid_template_columns": null,
            "grid_template_rows": null,
            "height": null,
            "justify_content": null,
            "justify_items": null,
            "left": null,
            "margin": null,
            "max_height": null,
            "max_width": null,
            "min_height": null,
            "min_width": null,
            "object_fit": null,
            "object_position": null,
            "order": null,
            "overflow": null,
            "overflow_x": null,
            "overflow_y": null,
            "padding": null,
            "right": null,
            "top": null,
            "visibility": null,
            "width": null
          }
        },
        "13d850eab61c4df4b609e71d89d6889d": {
          "model_module": "@jupyter-widgets/controls",
          "model_name": "DescriptionStyleModel",
          "model_module_version": "1.5.0",
          "state": {
            "_model_module": "@jupyter-widgets/controls",
            "_model_module_version": "1.5.0",
            "_model_name": "DescriptionStyleModel",
            "_view_count": null,
            "_view_module": "@jupyter-widgets/base",
            "_view_module_version": "1.2.0",
            "_view_name": "StyleView",
            "description_width": ""
          }
        },
        "d0d20dfc673d4e53b4c6a70985576f29": {
          "model_module": "@jupyter-widgets/controls",
          "model_name": "HBoxModel",
          "model_module_version": "1.5.0",
          "state": {
            "_dom_classes": [],
            "_model_module": "@jupyter-widgets/controls",
            "_model_module_version": "1.5.0",
            "_model_name": "HBoxModel",
            "_view_count": null,
            "_view_module": "@jupyter-widgets/controls",
            "_view_module_version": "1.5.0",
            "_view_name": "HBoxView",
            "box_style": "",
            "children": [
              "IPY_MODEL_9137753ab5b140a29b387d386c167b1e",
              "IPY_MODEL_5e80fcbb205643dfbc7449d6ab0b1c61",
              "IPY_MODEL_42fb05d8d7a0412c86b86b8b65a97b77"
            ],
            "layout": "IPY_MODEL_0d38422a536e47cdbca9c55911e0ed87"
          }
        },
        "9137753ab5b140a29b387d386c167b1e": {
          "model_module": "@jupyter-widgets/controls",
          "model_name": "HTMLModel",
          "model_module_version": "1.5.0",
          "state": {
            "_dom_classes": [],
            "_model_module": "@jupyter-widgets/controls",
            "_model_module_version": "1.5.0",
            "_model_name": "HTMLModel",
            "_view_count": null,
            "_view_module": "@jupyter-widgets/controls",
            "_view_module_version": "1.5.0",
            "_view_name": "HTMLView",
            "description": "",
            "description_tooltip": null,
            "layout": "IPY_MODEL_f584968e76544515b21d3d84f213c817",
            "placeholder": "​",
            "style": "IPY_MODEL_f27342ccd5774c188b65e6ba3e80ea3f",
            "value": "Downloading extra modules: "
          }
        },
        "5e80fcbb205643dfbc7449d6ab0b1c61": {
          "model_module": "@jupyter-widgets/controls",
          "model_name": "FloatProgressModel",
          "model_module_version": "1.5.0",
          "state": {
            "_dom_classes": [],
            "_model_module": "@jupyter-widgets/controls",
            "_model_module_version": "1.5.0",
            "_model_name": "FloatProgressModel",
            "_view_count": null,
            "_view_module": "@jupyter-widgets/controls",
            "_view_module_version": "1.5.0",
            "_view_name": "ProgressView",
            "bar_style": "success",
            "description": "",
            "description_tooltip": null,
            "layout": "IPY_MODEL_242b2d6c6e914125a9db1dbb2ced190d",
            "max": 1554,
            "min": 0,
            "orientation": "horizontal",
            "style": "IPY_MODEL_700e0a4e71c8406d846e34d8c0689545",
            "value": 1554
          }
        },
        "42fb05d8d7a0412c86b86b8b65a97b77": {
          "model_module": "@jupyter-widgets/controls",
          "model_name": "HTMLModel",
          "model_module_version": "1.5.0",
          "state": {
            "_dom_classes": [],
            "_model_module": "@jupyter-widgets/controls",
            "_model_module_version": "1.5.0",
            "_model_name": "HTMLModel",
            "_view_count": null,
            "_view_module": "@jupyter-widgets/controls",
            "_view_module_version": "1.5.0",
            "_view_name": "HTMLView",
            "description": "",
            "description_tooltip": null,
            "layout": "IPY_MODEL_8c099cfa1c0b4b928d335bcb4874b38d",
            "placeholder": "​",
            "style": "IPY_MODEL_d860f67e09ff4c2a9e40389e3722e354",
            "value": " 4.07k/? [00:00&lt;00:00, 325kB/s]"
          }
        },
        "0d38422a536e47cdbca9c55911e0ed87": {
          "model_module": "@jupyter-widgets/base",
          "model_name": "LayoutModel",
          "model_module_version": "1.2.0",
          "state": {
            "_model_module": "@jupyter-widgets/base",
            "_model_module_version": "1.2.0",
            "_model_name": "LayoutModel",
            "_view_count": null,
            "_view_module": "@jupyter-widgets/base",
            "_view_module_version": "1.2.0",
            "_view_name": "LayoutView",
            "align_content": null,
            "align_items": null,
            "align_self": null,
            "border": null,
            "bottom": null,
            "display": null,
            "flex": null,
            "flex_flow": null,
            "grid_area": null,
            "grid_auto_columns": null,
            "grid_auto_flow": null,
            "grid_auto_rows": null,
            "grid_column": null,
            "grid_gap": null,
            "grid_row": null,
            "grid_template_areas": null,
            "grid_template_columns": null,
            "grid_template_rows": null,
            "height": null,
            "justify_content": null,
            "justify_items": null,
            "left": null,
            "margin": null,
            "max_height": null,
            "max_width": null,
            "min_height": null,
            "min_width": null,
            "object_fit": null,
            "object_position": null,
            "order": null,
            "overflow": null,
            "overflow_x": null,
            "overflow_y": null,
            "padding": null,
            "right": null,
            "top": null,
            "visibility": null,
            "width": null
          }
        },
        "f584968e76544515b21d3d84f213c817": {
          "model_module": "@jupyter-widgets/base",
          "model_name": "LayoutModel",
          "model_module_version": "1.2.0",
          "state": {
            "_model_module": "@jupyter-widgets/base",
            "_model_module_version": "1.2.0",
            "_model_name": "LayoutModel",
            "_view_count": null,
            "_view_module": "@jupyter-widgets/base",
            "_view_module_version": "1.2.0",
            "_view_name": "LayoutView",
            "align_content": null,
            "align_items": null,
            "align_self": null,
            "border": null,
            "bottom": null,
            "display": null,
            "flex": null,
            "flex_flow": null,
            "grid_area": null,
            "grid_auto_columns": null,
            "grid_auto_flow": null,
            "grid_auto_rows": null,
            "grid_column": null,
            "grid_gap": null,
            "grid_row": null,
            "grid_template_areas": null,
            "grid_template_columns": null,
            "grid_template_rows": null,
            "height": null,
            "justify_content": null,
            "justify_items": null,
            "left": null,
            "margin": null,
            "max_height": null,
            "max_width": null,
            "min_height": null,
            "min_width": null,
            "object_fit": null,
            "object_position": null,
            "order": null,
            "overflow": null,
            "overflow_x": null,
            "overflow_y": null,
            "padding": null,
            "right": null,
            "top": null,
            "visibility": null,
            "width": null
          }
        },
        "f27342ccd5774c188b65e6ba3e80ea3f": {
          "model_module": "@jupyter-widgets/controls",
          "model_name": "DescriptionStyleModel",
          "model_module_version": "1.5.0",
          "state": {
            "_model_module": "@jupyter-widgets/controls",
            "_model_module_version": "1.5.0",
            "_model_name": "DescriptionStyleModel",
            "_view_count": null,
            "_view_module": "@jupyter-widgets/base",
            "_view_module_version": "1.2.0",
            "_view_name": "StyleView",
            "description_width": ""
          }
        },
        "242b2d6c6e914125a9db1dbb2ced190d": {
          "model_module": "@jupyter-widgets/base",
          "model_name": "LayoutModel",
          "model_module_version": "1.2.0",
          "state": {
            "_model_module": "@jupyter-widgets/base",
            "_model_module_version": "1.2.0",
            "_model_name": "LayoutModel",
            "_view_count": null,
            "_view_module": "@jupyter-widgets/base",
            "_view_module_version": "1.2.0",
            "_view_name": "LayoutView",
            "align_content": null,
            "align_items": null,
            "align_self": null,
            "border": null,
            "bottom": null,
            "display": null,
            "flex": null,
            "flex_flow": null,
            "grid_area": null,
            "grid_auto_columns": null,
            "grid_auto_flow": null,
            "grid_auto_rows": null,
            "grid_column": null,
            "grid_gap": null,
            "grid_row": null,
            "grid_template_areas": null,
            "grid_template_columns": null,
            "grid_template_rows": null,
            "height": null,
            "justify_content": null,
            "justify_items": null,
            "left": null,
            "margin": null,
            "max_height": null,
            "max_width": null,
            "min_height": null,
            "min_width": null,
            "object_fit": null,
            "object_position": null,
            "order": null,
            "overflow": null,
            "overflow_x": null,
            "overflow_y": null,
            "padding": null,
            "right": null,
            "top": null,
            "visibility": null,
            "width": null
          }
        },
        "700e0a4e71c8406d846e34d8c0689545": {
          "model_module": "@jupyter-widgets/controls",
          "model_name": "ProgressStyleModel",
          "model_module_version": "1.5.0",
          "state": {
            "_model_module": "@jupyter-widgets/controls",
            "_model_module_version": "1.5.0",
            "_model_name": "ProgressStyleModel",
            "_view_count": null,
            "_view_module": "@jupyter-widgets/base",
            "_view_module_version": "1.2.0",
            "_view_name": "StyleView",
            "bar_color": null,
            "description_width": ""
          }
        },
        "8c099cfa1c0b4b928d335bcb4874b38d": {
          "model_module": "@jupyter-widgets/base",
          "model_name": "LayoutModel",
          "model_module_version": "1.2.0",
          "state": {
            "_model_module": "@jupyter-widgets/base",
            "_model_module_version": "1.2.0",
            "_model_name": "LayoutModel",
            "_view_count": null,
            "_view_module": "@jupyter-widgets/base",
            "_view_module_version": "1.2.0",
            "_view_name": "LayoutView",
            "align_content": null,
            "align_items": null,
            "align_self": null,
            "border": null,
            "bottom": null,
            "display": null,
            "flex": null,
            "flex_flow": null,
            "grid_area": null,
            "grid_auto_columns": null,
            "grid_auto_flow": null,
            "grid_auto_rows": null,
            "grid_column": null,
            "grid_gap": null,
            "grid_row": null,
            "grid_template_areas": null,
            "grid_template_columns": null,
            "grid_template_rows": null,
            "height": null,
            "justify_content": null,
            "justify_items": null,
            "left": null,
            "margin": null,
            "max_height": null,
            "max_width": null,
            "min_height": null,
            "min_width": null,
            "object_fit": null,
            "object_position": null,
            "order": null,
            "overflow": null,
            "overflow_x": null,
            "overflow_y": null,
            "padding": null,
            "right": null,
            "top": null,
            "visibility": null,
            "width": null
          }
        },
        "d860f67e09ff4c2a9e40389e3722e354": {
          "model_module": "@jupyter-widgets/controls",
          "model_name": "DescriptionStyleModel",
          "model_module_version": "1.5.0",
          "state": {
            "_model_module": "@jupyter-widgets/controls",
            "_model_module_version": "1.5.0",
            "_model_name": "DescriptionStyleModel",
            "_view_count": null,
            "_view_module": "@jupyter-widgets/base",
            "_view_module_version": "1.2.0",
            "_view_name": "StyleView",
            "description_width": ""
          }
        },
        "2251fa909ee149db88a68e46c2ba8e0d": {
          "model_module": "@jupyter-widgets/controls",
          "model_name": "HBoxModel",
          "model_module_version": "1.5.0",
          "state": {
            "_dom_classes": [],
            "_model_module": "@jupyter-widgets/controls",
            "_model_module_version": "1.5.0",
            "_model_name": "HBoxModel",
            "_view_count": null,
            "_view_module": "@jupyter-widgets/controls",
            "_view_module_version": "1.5.0",
            "_view_name": "HBoxView",
            "box_style": "",
            "children": [
              "IPY_MODEL_5046c389f3a5472bb130dfcdb6e5179c",
              "IPY_MODEL_8787f3a70c8b419a9fd8c7ddbfbd59d4",
              "IPY_MODEL_9ca79563027145558d8185e8a7ec53f1"
            ],
            "layout": "IPY_MODEL_0db882b9b0f4472da82ded1e2067dba6"
          }
        },
        "5046c389f3a5472bb130dfcdb6e5179c": {
          "model_module": "@jupyter-widgets/controls",
          "model_name": "HTMLModel",
          "model_module_version": "1.5.0",
          "state": {
            "_dom_classes": [],
            "_model_module": "@jupyter-widgets/controls",
            "_model_module_version": "1.5.0",
            "_model_name": "HTMLModel",
            "_view_count": null,
            "_view_module": "@jupyter-widgets/controls",
            "_view_module_version": "1.5.0",
            "_view_name": "HTMLView",
            "description": "",
            "description_tooltip": null,
            "layout": "IPY_MODEL_1e3c9ec1dbd34bc39d726fa2f683a2c8",
            "placeholder": "​",
            "style": "IPY_MODEL_8ad5f31da886409c9eb72eda468c6205",
            "value": "Downloading extra modules: 100%"
          }
        },
        "8787f3a70c8b419a9fd8c7ddbfbd59d4": {
          "model_module": "@jupyter-widgets/controls",
          "model_name": "FloatProgressModel",
          "model_module_version": "1.5.0",
          "state": {
            "_dom_classes": [],
            "_model_module": "@jupyter-widgets/controls",
            "_model_module_version": "1.5.0",
            "_model_name": "FloatProgressModel",
            "_view_count": null,
            "_view_module": "@jupyter-widgets/controls",
            "_view_module_version": "1.5.0",
            "_view_name": "ProgressView",
            "bar_style": "success",
            "description": "",
            "description_tooltip": null,
            "layout": "IPY_MODEL_44fb3f77d1d14faebb44e577fae0c3fc",
            "max": 3344,
            "min": 0,
            "orientation": "horizontal",
            "style": "IPY_MODEL_edbcf3b9638645a5a8a80bf64c98fa3b",
            "value": 3344
          }
        },
        "9ca79563027145558d8185e8a7ec53f1": {
          "model_module": "@jupyter-widgets/controls",
          "model_name": "HTMLModel",
          "model_module_version": "1.5.0",
          "state": {
            "_dom_classes": [],
            "_model_module": "@jupyter-widgets/controls",
            "_model_module_version": "1.5.0",
            "_model_name": "HTMLModel",
            "_view_count": null,
            "_view_module": "@jupyter-widgets/controls",
            "_view_module_version": "1.5.0",
            "_view_name": "HTMLView",
            "description": "",
            "description_tooltip": null,
            "layout": "IPY_MODEL_60ffb5b1d82844fca209ed08c4d8f18f",
            "placeholder": "​",
            "style": "IPY_MODEL_887c8cfa31c54c62aac30da076d84a74",
            "value": " 3.34k/3.34k [00:00&lt;00:00, 226kB/s]"
          }
        },
        "0db882b9b0f4472da82ded1e2067dba6": {
          "model_module": "@jupyter-widgets/base",
          "model_name": "LayoutModel",
          "model_module_version": "1.2.0",
          "state": {
            "_model_module": "@jupyter-widgets/base",
            "_model_module_version": "1.2.0",
            "_model_name": "LayoutModel",
            "_view_count": null,
            "_view_module": "@jupyter-widgets/base",
            "_view_module_version": "1.2.0",
            "_view_name": "LayoutView",
            "align_content": null,
            "align_items": null,
            "align_self": null,
            "border": null,
            "bottom": null,
            "display": null,
            "flex": null,
            "flex_flow": null,
            "grid_area": null,
            "grid_auto_columns": null,
            "grid_auto_flow": null,
            "grid_auto_rows": null,
            "grid_column": null,
            "grid_gap": null,
            "grid_row": null,
            "grid_template_areas": null,
            "grid_template_columns": null,
            "grid_template_rows": null,
            "height": null,
            "justify_content": null,
            "justify_items": null,
            "left": null,
            "margin": null,
            "max_height": null,
            "max_width": null,
            "min_height": null,
            "min_width": null,
            "object_fit": null,
            "object_position": null,
            "order": null,
            "overflow": null,
            "overflow_x": null,
            "overflow_y": null,
            "padding": null,
            "right": null,
            "top": null,
            "visibility": null,
            "width": null
          }
        },
        "1e3c9ec1dbd34bc39d726fa2f683a2c8": {
          "model_module": "@jupyter-widgets/base",
          "model_name": "LayoutModel",
          "model_module_version": "1.2.0",
          "state": {
            "_model_module": "@jupyter-widgets/base",
            "_model_module_version": "1.2.0",
            "_model_name": "LayoutModel",
            "_view_count": null,
            "_view_module": "@jupyter-widgets/base",
            "_view_module_version": "1.2.0",
            "_view_name": "LayoutView",
            "align_content": null,
            "align_items": null,
            "align_self": null,
            "border": null,
            "bottom": null,
            "display": null,
            "flex": null,
            "flex_flow": null,
            "grid_area": null,
            "grid_auto_columns": null,
            "grid_auto_flow": null,
            "grid_auto_rows": null,
            "grid_column": null,
            "grid_gap": null,
            "grid_row": null,
            "grid_template_areas": null,
            "grid_template_columns": null,
            "grid_template_rows": null,
            "height": null,
            "justify_content": null,
            "justify_items": null,
            "left": null,
            "margin": null,
            "max_height": null,
            "max_width": null,
            "min_height": null,
            "min_width": null,
            "object_fit": null,
            "object_position": null,
            "order": null,
            "overflow": null,
            "overflow_x": null,
            "overflow_y": null,
            "padding": null,
            "right": null,
            "top": null,
            "visibility": null,
            "width": null
          }
        },
        "8ad5f31da886409c9eb72eda468c6205": {
          "model_module": "@jupyter-widgets/controls",
          "model_name": "DescriptionStyleModel",
          "model_module_version": "1.5.0",
          "state": {
            "_model_module": "@jupyter-widgets/controls",
            "_model_module_version": "1.5.0",
            "_model_name": "DescriptionStyleModel",
            "_view_count": null,
            "_view_module": "@jupyter-widgets/base",
            "_view_module_version": "1.2.0",
            "_view_name": "StyleView",
            "description_width": ""
          }
        },
        "44fb3f77d1d14faebb44e577fae0c3fc": {
          "model_module": "@jupyter-widgets/base",
          "model_name": "LayoutModel",
          "model_module_version": "1.2.0",
          "state": {
            "_model_module": "@jupyter-widgets/base",
            "_model_module_version": "1.2.0",
            "_model_name": "LayoutModel",
            "_view_count": null,
            "_view_module": "@jupyter-widgets/base",
            "_view_module_version": "1.2.0",
            "_view_name": "LayoutView",
            "align_content": null,
            "align_items": null,
            "align_self": null,
            "border": null,
            "bottom": null,
            "display": null,
            "flex": null,
            "flex_flow": null,
            "grid_area": null,
            "grid_auto_columns": null,
            "grid_auto_flow": null,
            "grid_auto_rows": null,
            "grid_column": null,
            "grid_gap": null,
            "grid_row": null,
            "grid_template_areas": null,
            "grid_template_columns": null,
            "grid_template_rows": null,
            "height": null,
            "justify_content": null,
            "justify_items": null,
            "left": null,
            "margin": null,
            "max_height": null,
            "max_width": null,
            "min_height": null,
            "min_width": null,
            "object_fit": null,
            "object_position": null,
            "order": null,
            "overflow": null,
            "overflow_x": null,
            "overflow_y": null,
            "padding": null,
            "right": null,
            "top": null,
            "visibility": null,
            "width": null
          }
        },
        "edbcf3b9638645a5a8a80bf64c98fa3b": {
          "model_module": "@jupyter-widgets/controls",
          "model_name": "ProgressStyleModel",
          "model_module_version": "1.5.0",
          "state": {
            "_model_module": "@jupyter-widgets/controls",
            "_model_module_version": "1.5.0",
            "_model_name": "ProgressStyleModel",
            "_view_count": null,
            "_view_module": "@jupyter-widgets/base",
            "_view_module_version": "1.2.0",
            "_view_name": "StyleView",
            "bar_color": null,
            "description_width": ""
          }
        },
        "60ffb5b1d82844fca209ed08c4d8f18f": {
          "model_module": "@jupyter-widgets/base",
          "model_name": "LayoutModel",
          "model_module_version": "1.2.0",
          "state": {
            "_model_module": "@jupyter-widgets/base",
            "_model_module_version": "1.2.0",
            "_model_name": "LayoutModel",
            "_view_count": null,
            "_view_module": "@jupyter-widgets/base",
            "_view_module_version": "1.2.0",
            "_view_name": "LayoutView",
            "align_content": null,
            "align_items": null,
            "align_self": null,
            "border": null,
            "bottom": null,
            "display": null,
            "flex": null,
            "flex_flow": null,
            "grid_area": null,
            "grid_auto_columns": null,
            "grid_auto_flow": null,
            "grid_auto_rows": null,
            "grid_column": null,
            "grid_gap": null,
            "grid_row": null,
            "grid_template_areas": null,
            "grid_template_columns": null,
            "grid_template_rows": null,
            "height": null,
            "justify_content": null,
            "justify_items": null,
            "left": null,
            "margin": null,
            "max_height": null,
            "max_width": null,
            "min_height": null,
            "min_width": null,
            "object_fit": null,
            "object_position": null,
            "order": null,
            "overflow": null,
            "overflow_x": null,
            "overflow_y": null,
            "padding": null,
            "right": null,
            "top": null,
            "visibility": null,
            "width": null
          }
        },
        "887c8cfa31c54c62aac30da076d84a74": {
          "model_module": "@jupyter-widgets/controls",
          "model_name": "DescriptionStyleModel",
          "model_module_version": "1.5.0",
          "state": {
            "_model_module": "@jupyter-widgets/controls",
            "_model_module_version": "1.5.0",
            "_model_name": "DescriptionStyleModel",
            "_view_count": null,
            "_view_module": "@jupyter-widgets/base",
            "_view_module_version": "1.2.0",
            "_view_name": "StyleView",
            "description_width": ""
          }
        }
      }
    }
  },
  "nbformat": 4,
  "nbformat_minor": 5
}