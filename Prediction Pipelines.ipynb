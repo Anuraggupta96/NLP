{
  "cells": [
    {
      "cell_type": "markdown",
      "id": "7cde75b6",
      "metadata": {
        "id": "7cde75b6"
      },
      "source": [
        "\n",
        "# <font color = 'indianred'> **Outline** </font>\n",
        "\n",
        "\n",
        "1. **Setting up the Environment**: Installing necessary libraries and setting up paths.\n",
        "2. **Creating Huggingface Dataset for Custom Dataset**: Understanding the structure and content of the dataset.\n",
        "\n",
        "3. **Data Preprocessing**: Techniques to prepare the data for training, including handling different data splits and tokenization\n",
        "4. **Training the Model**: Feeding data and adjusting weights.\n",
        "5. **Inference**: Evaluate model on test set and making predictions.\n",
        "6. **Experiment**: Experimenting with different tokenizer and models\n",
        "\n"
      ]
    },
    {
      "cell_type": "markdown",
      "id": "fj41POPjrtzA",
      "metadata": {
        "id": "fj41POPjrtzA"
      },
      "source": [
        "# <font color = 'indianred'> **Setting up the Environment** </font>\n",
        "\n"
      ]
    },
    {
      "cell_type": "code",
      "execution_count": null,
      "id": "65ec14df",
      "metadata": {
        "colab": {
          "base_uri": "https://localhost:8080/"
        },
        "id": "65ec14df",
        "outputId": "154823ca-0a82-4411-b5fc-1e42f5a8944e"
      },
      "outputs": [
        {
          "output_type": "stream",
          "name": "stdout",
          "text": [
            "Drive already mounted at /content/drive; to attempt to forcibly remount, call drive.mount(\"/content/drive\", force_remount=True).\n"
          ]
        }
      ],
      "source": [
        "\n",
        "from pathlib import Path\n",
        "if 'google.colab' in str(get_ipython()):\n",
        "    from google.colab import drive\n",
        "    drive.mount(\"/content/drive\")\n",
        "    !pip install datasets transformers evaluate wandb accelerate seqeval -U -qq\n",
        "    base_folder = Path(\"/content/drive/MyDrive/Google colab NLP\")\n",
        "else:\n",
        "  pass\n",
        "\n",
        "import pandas as pd\n",
        "import numpy as np\n",
        "from transformers import AutoConfig, AutoModelForTokenClassification, AutoTokenizer, Trainer, TrainingArguments\n",
        "from transformers import AutoTokenizer, DataCollatorForTokenClassification, pipeline\n",
        "from datasets import load_dataset, DatasetDict, Dataset, ClassLabel, Sequence\n",
        "import evaluate\n",
        "import wandb\n",
        "from sklearn.metrics import confusion_matrix\n",
        "import seaborn as sns\n",
        "import matplotlib.pyplot as plt\n",
        "import textwrap"
      ]
    },
    {
      "cell_type": "code",
      "execution_count": null,
      "id": "6bc8a889",
      "metadata": {
        "id": "6bc8a889"
      },
      "outputs": [],
      "source": [
        "# CHANGE FOLDERS TO WHERE YOU WANT TO SAVE DATA AND MODELS\n",
        "data_folder = base_folder\n",
        "model_folder = base_folder\n",
        "model_folder.mkdir(exist_ok=True)\n",
        "data_folder.mkdir(exist_ok=True)"
      ]
    },
    {
      "cell_type": "code",
      "execution_count": null,
      "id": "70895763",
      "metadata": {
        "id": "70895763"
      },
      "outputs": [],
      "source": [
        "def print_wrap(text, d):\n",
        "    # If the text is a list, convert it to a string\n",
        "    if isinstance(text, list):\n",
        "        # Convert None values to a default string (e.g., \"None\" or an empty string)\n",
        "        text = ' '.join(str(item) if item is not None else \"None\" for item in text)\n",
        "\n",
        "    # Wrap the text to limit the width to 'd'\n",
        "    wrapped_text = textwrap.fill(text, width=d)\n",
        "\n",
        "    # Print the wrapped text\n",
        "    print(wrapped_text)\n"
      ]
    },
    {
      "cell_type": "markdown",
      "id": "O_xxXoyw_2x1",
      "metadata": {
        "id": "O_xxXoyw_2x1"
      },
      "source": [
        "# <font color = 'indianred'> **Exploring and Understanding Dataset**"
      ]
    },
    {
      "cell_type": "markdown",
      "id": "7ae39760-8c90-4bef-a1c9-66a302b29da3",
      "metadata": {
        "id": "7ae39760-8c90-4bef-a1c9-66a302b29da3",
        "tags": []
      },
      "source": [
        "## <font color = 'indianred'> **conll2003 Dataset**</font>\n",
        "\n"
      ]
    },
    {
      "cell_type": "markdown",
      "id": "b906904c-8f24-4de0-8e07-720863e8cd99",
      "metadata": {
        "id": "b906904c-8f24-4de0-8e07-720863e8cd99"
      },
      "source": [
        "## <font color = 'indianred'> **Load Data set**\n",
        "    \n"
      ]
    },
    {
      "cell_type": "code",
      "execution_count": null,
      "id": "1JpTLLoCvuAY",
      "metadata": {
        "id": "1JpTLLoCvuAY"
      },
      "outputs": [],
      "source": [
        "conll_dataset = load_dataset('conll2003')"
      ]
    },
    {
      "cell_type": "markdown",
      "id": "z80MwfKWSuxn",
      "metadata": {
        "id": "z80MwfKWSuxn"
      },
      "source": [
        "## <font color = 'indianred'> **Acess indivdual element** </font>\n"
      ]
    },
    {
      "cell_type": "code",
      "execution_count": null,
      "id": "McaQFKL94fff",
      "metadata": {
        "colab": {
          "base_uri": "https://localhost:8080/"
        },
        "id": "McaQFKL94fff",
        "outputId": "608c695f-3a3b-469b-ceda-1e45cc9c87b9"
      },
      "outputs": [
        {
          "output_type": "execute_result",
          "data": {
            "text/plain": [
              "{'id': '0',\n",
              " 'tokens': ['EU',\n",
              "  'rejects',\n",
              "  'German',\n",
              "  'call',\n",
              "  'to',\n",
              "  'boycott',\n",
              "  'British',\n",
              "  'lamb',\n",
              "  '.'],\n",
              " 'pos_tags': [22, 42, 16, 21, 35, 37, 16, 21, 7],\n",
              " 'chunk_tags': [11, 21, 11, 12, 21, 22, 11, 12, 0],\n",
              " 'ner_tags': [3, 0, 7, 0, 0, 0, 7, 0, 0]}"
            ]
          },
          "metadata": {},
          "execution_count": 5
        }
      ],
      "source": [
        "# get the first example of the dataset\n",
        "conll_dataset['train'][0]"
      ]
    },
    {
      "cell_type": "markdown",
      "id": "cWJBOfEj4_lE",
      "metadata": {
        "id": "cWJBOfEj4_lE"
      },
      "source": [
        "### <font color = 'indianred'> **Change dataset format to Pandas**  </font>\n"
      ]
    },
    {
      "cell_type": "code",
      "execution_count": null,
      "id": "HjQ2Q-3d14UL",
      "metadata": {
        "id": "HjQ2Q-3d14UL"
      },
      "outputs": [],
      "source": [
        "# Set the format to Pandas\n",
        "conll_dataset.set_format(type='pandas')"
      ]
    },
    {
      "cell_type": "code",
      "execution_count": null,
      "id": "nM-OqQ493Io9",
      "metadata": {
        "id": "nM-OqQ493Io9"
      },
      "outputs": [],
      "source": [
        "# get all rows the dataset\n",
        "df = conll_dataset['train'][:]"
      ]
    },
    {
      "cell_type": "markdown",
      "id": "FYl8PoBim3kC",
      "metadata": {
        "id": "FYl8PoBim3kC"
      },
      "source": [
        "### <font color = 'indianred'> **Check length of the reviews** </font>\n"
      ]
    },
    {
      "cell_type": "code",
      "execution_count": null,
      "id": "WOF_nrp2oBvT",
      "metadata": {
        "id": "WOF_nrp2oBvT"
      },
      "outputs": [],
      "source": [
        "# Calculate words per review\n",
        "df['words_per_sentence'] = df['tokens'].apply(len)"
      ]
    },
    {
      "cell_type": "code",
      "execution_count": null,
      "id": "C9kGUd0X0Tle",
      "metadata": {
        "colab": {
          "base_uri": "https://localhost:8080/",
          "height": 206
        },
        "id": "C9kGUd0X0Tle",
        "outputId": "462ea60b-6ed8-46d4-c129-bb8d3e13638b"
      },
      "outputs": [
        {
          "output_type": "execute_result",
          "data": {
            "text/plain": [
              "  id                                             tokens  \\\n",
              "0  0  [EU, rejects, German, call, to, boycott, Briti...   \n",
              "1  1                                 [Peter, Blackburn]   \n",
              "2  2                             [BRUSSELS, 1996-08-22]   \n",
              "3  3  [The, European, Commission, said, on, Thursday...   \n",
              "4  4  [Germany, 's, representative, to, the, Europea...   \n",
              "\n",
              "                                            pos_tags  \\\n",
              "0                [22, 42, 16, 21, 35, 37, 16, 21, 7]   \n",
              "1                                           [22, 22]   \n",
              "2                                           [22, 11]   \n",
              "3  [12, 22, 22, 38, 15, 22, 28, 38, 15, 16, 21, 3...   \n",
              "4  [22, 27, 21, 35, 12, 22, 22, 27, 16, 21, 22, 2...   \n",
              "\n",
              "                                          chunk_tags  \\\n",
              "0                [11, 21, 11, 12, 21, 22, 11, 12, 0]   \n",
              "1                                           [11, 12]   \n",
              "2                                           [11, 12]   \n",
              "3  [11, 12, 12, 21, 13, 11, 11, 21, 13, 11, 12, 1...   \n",
              "4  [11, 11, 12, 13, 11, 12, 12, 11, 12, 12, 12, 1...   \n",
              "\n",
              "                                            ner_tags  words_per_sentence  \n",
              "0                        [3, 0, 7, 0, 0, 0, 7, 0, 0]                   9  \n",
              "1                                             [1, 2]                   2  \n",
              "2                                             [5, 0]                   2  \n",
              "3  [0, 3, 4, 0, 0, 0, 0, 0, 0, 7, 0, 0, 0, 0, 0, ...                  30  \n",
              "4  [5, 0, 0, 0, 0, 3, 4, 0, 0, 0, 1, 2, 0, 0, 0, ...                  31  "
            ],
            "text/html": [
              "\n",
              "  <div id=\"df-7296d724-4344-4cdf-b18e-cd6a483c647e\" class=\"colab-df-container\">\n",
              "    <div>\n",
              "<style scoped>\n",
              "    .dataframe tbody tr th:only-of-type {\n",
              "        vertical-align: middle;\n",
              "    }\n",
              "\n",
              "    .dataframe tbody tr th {\n",
              "        vertical-align: top;\n",
              "    }\n",
              "\n",
              "    .dataframe thead th {\n",
              "        text-align: right;\n",
              "    }\n",
              "</style>\n",
              "<table border=\"1\" class=\"dataframe\">\n",
              "  <thead>\n",
              "    <tr style=\"text-align: right;\">\n",
              "      <th></th>\n",
              "      <th>id</th>\n",
              "      <th>tokens</th>\n",
              "      <th>pos_tags</th>\n",
              "      <th>chunk_tags</th>\n",
              "      <th>ner_tags</th>\n",
              "      <th>words_per_sentence</th>\n",
              "    </tr>\n",
              "  </thead>\n",
              "  <tbody>\n",
              "    <tr>\n",
              "      <th>0</th>\n",
              "      <td>0</td>\n",
              "      <td>[EU, rejects, German, call, to, boycott, Briti...</td>\n",
              "      <td>[22, 42, 16, 21, 35, 37, 16, 21, 7]</td>\n",
              "      <td>[11, 21, 11, 12, 21, 22, 11, 12, 0]</td>\n",
              "      <td>[3, 0, 7, 0, 0, 0, 7, 0, 0]</td>\n",
              "      <td>9</td>\n",
              "    </tr>\n",
              "    <tr>\n",
              "      <th>1</th>\n",
              "      <td>1</td>\n",
              "      <td>[Peter, Blackburn]</td>\n",
              "      <td>[22, 22]</td>\n",
              "      <td>[11, 12]</td>\n",
              "      <td>[1, 2]</td>\n",
              "      <td>2</td>\n",
              "    </tr>\n",
              "    <tr>\n",
              "      <th>2</th>\n",
              "      <td>2</td>\n",
              "      <td>[BRUSSELS, 1996-08-22]</td>\n",
              "      <td>[22, 11]</td>\n",
              "      <td>[11, 12]</td>\n",
              "      <td>[5, 0]</td>\n",
              "      <td>2</td>\n",
              "    </tr>\n",
              "    <tr>\n",
              "      <th>3</th>\n",
              "      <td>3</td>\n",
              "      <td>[The, European, Commission, said, on, Thursday...</td>\n",
              "      <td>[12, 22, 22, 38, 15, 22, 28, 38, 15, 16, 21, 3...</td>\n",
              "      <td>[11, 12, 12, 21, 13, 11, 11, 21, 13, 11, 12, 1...</td>\n",
              "      <td>[0, 3, 4, 0, 0, 0, 0, 0, 0, 7, 0, 0, 0, 0, 0, ...</td>\n",
              "      <td>30</td>\n",
              "    </tr>\n",
              "    <tr>\n",
              "      <th>4</th>\n",
              "      <td>4</td>\n",
              "      <td>[Germany, 's, representative, to, the, Europea...</td>\n",
              "      <td>[22, 27, 21, 35, 12, 22, 22, 27, 16, 21, 22, 2...</td>\n",
              "      <td>[11, 11, 12, 13, 11, 12, 12, 11, 12, 12, 12, 1...</td>\n",
              "      <td>[5, 0, 0, 0, 0, 3, 4, 0, 0, 0, 1, 2, 0, 0, 0, ...</td>\n",
              "      <td>31</td>\n",
              "    </tr>\n",
              "  </tbody>\n",
              "</table>\n",
              "</div>\n",
              "    <div class=\"colab-df-buttons\">\n",
              "\n",
              "  <div class=\"colab-df-container\">\n",
              "    <button class=\"colab-df-convert\" onclick=\"convertToInteractive('df-7296d724-4344-4cdf-b18e-cd6a483c647e')\"\n",
              "            title=\"Convert this dataframe to an interactive table.\"\n",
              "            style=\"display:none;\">\n",
              "\n",
              "  <svg xmlns=\"http://www.w3.org/2000/svg\" height=\"24px\" viewBox=\"0 -960 960 960\">\n",
              "    <path d=\"M120-120v-720h720v720H120Zm60-500h600v-160H180v160Zm220 220h160v-160H400v160Zm0 220h160v-160H400v160ZM180-400h160v-160H180v160Zm440 0h160v-160H620v160ZM180-180h160v-160H180v160Zm440 0h160v-160H620v160Z\"/>\n",
              "  </svg>\n",
              "    </button>\n",
              "\n",
              "  <style>\n",
              "    .colab-df-container {\n",
              "      display:flex;\n",
              "      gap: 12px;\n",
              "    }\n",
              "\n",
              "    .colab-df-convert {\n",
              "      background-color: #E8F0FE;\n",
              "      border: none;\n",
              "      border-radius: 50%;\n",
              "      cursor: pointer;\n",
              "      display: none;\n",
              "      fill: #1967D2;\n",
              "      height: 32px;\n",
              "      padding: 0 0 0 0;\n",
              "      width: 32px;\n",
              "    }\n",
              "\n",
              "    .colab-df-convert:hover {\n",
              "      background-color: #E2EBFA;\n",
              "      box-shadow: 0px 1px 2px rgba(60, 64, 67, 0.3), 0px 1px 3px 1px rgba(60, 64, 67, 0.15);\n",
              "      fill: #174EA6;\n",
              "    }\n",
              "\n",
              "    .colab-df-buttons div {\n",
              "      margin-bottom: 4px;\n",
              "    }\n",
              "\n",
              "    [theme=dark] .colab-df-convert {\n",
              "      background-color: #3B4455;\n",
              "      fill: #D2E3FC;\n",
              "    }\n",
              "\n",
              "    [theme=dark] .colab-df-convert:hover {\n",
              "      background-color: #434B5C;\n",
              "      box-shadow: 0px 1px 3px 1px rgba(0, 0, 0, 0.15);\n",
              "      filter: drop-shadow(0px 1px 2px rgba(0, 0, 0, 0.3));\n",
              "      fill: #FFFFFF;\n",
              "    }\n",
              "  </style>\n",
              "\n",
              "    <script>\n",
              "      const buttonEl =\n",
              "        document.querySelector('#df-7296d724-4344-4cdf-b18e-cd6a483c647e button.colab-df-convert');\n",
              "      buttonEl.style.display =\n",
              "        google.colab.kernel.accessAllowed ? 'block' : 'none';\n",
              "\n",
              "      async function convertToInteractive(key) {\n",
              "        const element = document.querySelector('#df-7296d724-4344-4cdf-b18e-cd6a483c647e');\n",
              "        const dataTable =\n",
              "          await google.colab.kernel.invokeFunction('convertToInteractive',\n",
              "                                                    [key], {});\n",
              "        if (!dataTable) return;\n",
              "\n",
              "        const docLinkHtml = 'Like what you see? Visit the ' +\n",
              "          '<a target=\"_blank\" href=https://colab.research.google.com/notebooks/data_table.ipynb>data table notebook</a>'\n",
              "          + ' to learn more about interactive tables.';\n",
              "        element.innerHTML = '';\n",
              "        dataTable['output_type'] = 'display_data';\n",
              "        await google.colab.output.renderOutput(dataTable, element);\n",
              "        const docLink = document.createElement('div');\n",
              "        docLink.innerHTML = docLinkHtml;\n",
              "        element.appendChild(docLink);\n",
              "      }\n",
              "    </script>\n",
              "  </div>\n",
              "\n",
              "\n",
              "<div id=\"df-933c261b-ea01-4e08-8da9-d6a26a0017b9\">\n",
              "  <button class=\"colab-df-quickchart\" onclick=\"quickchart('df-933c261b-ea01-4e08-8da9-d6a26a0017b9')\"\n",
              "            title=\"Suggest charts.\"\n",
              "            style=\"display:none;\">\n",
              "\n",
              "<svg xmlns=\"http://www.w3.org/2000/svg\" height=\"24px\"viewBox=\"0 0 24 24\"\n",
              "     width=\"24px\">\n",
              "    <g>\n",
              "        <path d=\"M19 3H5c-1.1 0-2 .9-2 2v14c0 1.1.9 2 2 2h14c1.1 0 2-.9 2-2V5c0-1.1-.9-2-2-2zM9 17H7v-7h2v7zm4 0h-2V7h2v10zm4 0h-2v-4h2v4z\"/>\n",
              "    </g>\n",
              "</svg>\n",
              "  </button>\n",
              "\n",
              "<style>\n",
              "  .colab-df-quickchart {\n",
              "      --bg-color: #E8F0FE;\n",
              "      --fill-color: #1967D2;\n",
              "      --hover-bg-color: #E2EBFA;\n",
              "      --hover-fill-color: #174EA6;\n",
              "      --disabled-fill-color: #AAA;\n",
              "      --disabled-bg-color: #DDD;\n",
              "  }\n",
              "\n",
              "  [theme=dark] .colab-df-quickchart {\n",
              "      --bg-color: #3B4455;\n",
              "      --fill-color: #D2E3FC;\n",
              "      --hover-bg-color: #434B5C;\n",
              "      --hover-fill-color: #FFFFFF;\n",
              "      --disabled-bg-color: #3B4455;\n",
              "      --disabled-fill-color: #666;\n",
              "  }\n",
              "\n",
              "  .colab-df-quickchart {\n",
              "    background-color: var(--bg-color);\n",
              "    border: none;\n",
              "    border-radius: 50%;\n",
              "    cursor: pointer;\n",
              "    display: none;\n",
              "    fill: var(--fill-color);\n",
              "    height: 32px;\n",
              "    padding: 0;\n",
              "    width: 32px;\n",
              "  }\n",
              "\n",
              "  .colab-df-quickchart:hover {\n",
              "    background-color: var(--hover-bg-color);\n",
              "    box-shadow: 0 1px 2px rgba(60, 64, 67, 0.3), 0 1px 3px 1px rgba(60, 64, 67, 0.15);\n",
              "    fill: var(--button-hover-fill-color);\n",
              "  }\n",
              "\n",
              "  .colab-df-quickchart-complete:disabled,\n",
              "  .colab-df-quickchart-complete:disabled:hover {\n",
              "    background-color: var(--disabled-bg-color);\n",
              "    fill: var(--disabled-fill-color);\n",
              "    box-shadow: none;\n",
              "  }\n",
              "\n",
              "  .colab-df-spinner {\n",
              "    border: 2px solid var(--fill-color);\n",
              "    border-color: transparent;\n",
              "    border-bottom-color: var(--fill-color);\n",
              "    animation:\n",
              "      spin 1s steps(1) infinite;\n",
              "  }\n",
              "\n",
              "  @keyframes spin {\n",
              "    0% {\n",
              "      border-color: transparent;\n",
              "      border-bottom-color: var(--fill-color);\n",
              "      border-left-color: var(--fill-color);\n",
              "    }\n",
              "    20% {\n",
              "      border-color: transparent;\n",
              "      border-left-color: var(--fill-color);\n",
              "      border-top-color: var(--fill-color);\n",
              "    }\n",
              "    30% {\n",
              "      border-color: transparent;\n",
              "      border-left-color: var(--fill-color);\n",
              "      border-top-color: var(--fill-color);\n",
              "      border-right-color: var(--fill-color);\n",
              "    }\n",
              "    40% {\n",
              "      border-color: transparent;\n",
              "      border-right-color: var(--fill-color);\n",
              "      border-top-color: var(--fill-color);\n",
              "    }\n",
              "    60% {\n",
              "      border-color: transparent;\n",
              "      border-right-color: var(--fill-color);\n",
              "    }\n",
              "    80% {\n",
              "      border-color: transparent;\n",
              "      border-right-color: var(--fill-color);\n",
              "      border-bottom-color: var(--fill-color);\n",
              "    }\n",
              "    90% {\n",
              "      border-color: transparent;\n",
              "      border-bottom-color: var(--fill-color);\n",
              "    }\n",
              "  }\n",
              "</style>\n",
              "\n",
              "  <script>\n",
              "    async function quickchart(key) {\n",
              "      const quickchartButtonEl =\n",
              "        document.querySelector('#' + key + ' button');\n",
              "      quickchartButtonEl.disabled = true;  // To prevent multiple clicks.\n",
              "      quickchartButtonEl.classList.add('colab-df-spinner');\n",
              "      try {\n",
              "        const charts = await google.colab.kernel.invokeFunction(\n",
              "            'suggestCharts', [key], {});\n",
              "      } catch (error) {\n",
              "        console.error('Error during call to suggestCharts:', error);\n",
              "      }\n",
              "      quickchartButtonEl.classList.remove('colab-df-spinner');\n",
              "      quickchartButtonEl.classList.add('colab-df-quickchart-complete');\n",
              "    }\n",
              "    (() => {\n",
              "      let quickchartButtonEl =\n",
              "        document.querySelector('#df-933c261b-ea01-4e08-8da9-d6a26a0017b9 button');\n",
              "      quickchartButtonEl.style.display =\n",
              "        google.colab.kernel.accessAllowed ? 'block' : 'none';\n",
              "    })();\n",
              "  </script>\n",
              "</div>\n",
              "    </div>\n",
              "  </div>\n"
            ]
          },
          "metadata": {},
          "execution_count": 9
        }
      ],
      "source": [
        "df.head()"
      ]
    },
    {
      "cell_type": "markdown",
      "id": "YhePLup4AuDo",
      "metadata": {
        "id": "YhePLup4AuDo"
      },
      "source": [
        "#### <font color = 'indianred'> **Plot the distribution of review length** </font>"
      ]
    },
    {
      "cell_type": "code",
      "execution_count": null,
      "id": "6m_e5NU7pOr_",
      "metadata": {
        "id": "6m_e5NU7pOr_",
        "colab": {
          "base_uri": "https://localhost:8080/",
          "height": 472
        },
        "outputId": "fdd36933-c6c0-4b4b-93e3-5cd0738c7f6e"
      },
      "outputs": [
        {
          "output_type": "display_data",
          "data": {
            "text/plain": [
              "<Figure size 640x480 with 1 Axes>"
            ],
            "image/png": "[encoded data removed]"
          },
          "metadata": {}
        }
      ],
      "source": [
        "# Plot a histogram of the 'words_per_review' column\n",
        "df['words_per_sentence'].hist(bins=50, edgecolor='black')\n",
        "\n",
        "# Adding labels and a title for clarity\n",
        "plt.xlabel('Number of Words')\n",
        "plt.ylabel('Frequency')\n",
        "plt.title('Distribution of Words per Review')\n",
        "\n",
        "# Display the plot\n",
        "plt.show()\n"
      ]
    },
    {
      "cell_type": "code",
      "execution_count": null,
      "id": "yTYJqPgEpPQV",
      "metadata": {
        "colab": {
          "base_uri": "https://localhost:8080/"
        },
        "id": "yTYJqPgEpPQV",
        "outputId": "ee38f73d-61e3-4acf-e2d8-d201b65fd558"
      },
      "outputs": [
        {
          "output_type": "stream",
          "name": "stdout",
          "text": [
            "Number of reviews with more than 500 words: 0\n"
          ]
        }
      ],
      "source": [
        "# The model we are going to use has token (subwords) limit of 512.\n",
        "# Let us check how many reviews has more than 500 words\n",
        "\n",
        "count = (df['words_per_sentence'] > 500).sum()\n",
        "print(f\"Number of reviews with more than 500 words: {count}\")"
      ]
    },
    {
      "cell_type": "code",
      "execution_count": null,
      "id": "f436b258",
      "metadata": {
        "colab": {
          "base_uri": "https://localhost:8080/"
        },
        "id": "f436b258",
        "outputId": "047cc9d2-ef9e-4104-c151-6c96ebd4b978"
      },
      "outputs": [
        {
          "output_type": "stream",
          "name": "stdout",
          "text": [
            "Number of reviews with less than 1 word: 179\n"
          ]
        }
      ],
      "source": [
        "# check the rows that have one word\n",
        "count = (df['words_per_sentence'] < 2).sum()\n",
        "print(f\"Number of reviews with less than 1 word: {count}\")"
      ]
    },
    {
      "cell_type": "code",
      "execution_count": null,
      "id": "c0fcbb78",
      "metadata": {
        "colab": {
          "base_uri": "https://localhost:8080/",
          "height": 424
        },
        "id": "c0fcbb78",
        "outputId": "c3b90821-046a-441e-df8a-b717d3281582"
      },
      "outputs": [
        {
          "output_type": "execute_result",
          "data": {
            "text/plain": [
              "          id        tokens pos_tags chunk_tags ner_tags  words_per_sentence\n",
              "11        11           [.]      [7]        [0]      [0]                   1\n",
              "200      200      [THAWRA]     [38]       [11]      [3]                   1\n",
              "203      203        [IRAQ]     [21]       [11]      [5]                   1\n",
              "209      209    [AN-NAHAR]     [22]       [11]      [3]                   1\n",
              "212      212    [AS-SAFIR]     [22]       [11]      [3]                   1\n",
              "...      ...           ...      ...        ...      ...                 ...\n",
              "13751  13751  [Jul-18.Jul]     [21]       [11]      [0]                   1\n",
              "13855  13855         [GDP]     [22]       [11]      [0]                   1\n",
              "13879  13879         [ABC]     [22]       [11]      [3]                   1\n",
              "13883  13883   [EXPANSION]     [21]       [11]      [3]                   1\n",
              "13907  13907           [*]     [34]        [0]      [0]                   1\n",
              "\n",
              "[179 rows x 6 columns]"
            ],
            "text/html": [
              "\n",
              "  <div id=\"df-6da0d836-8557-44ad-a6c7-ae3b3f5c24de\" class=\"colab-df-container\">\n",
              "    <div>\n",
              "<style scoped>\n",
              "    .dataframe tbody tr th:only-of-type {\n",
              "        vertical-align: middle;\n",
              "    }\n",
              "\n",
              "    .dataframe tbody tr th {\n",
              "        vertical-align: top;\n",
              "    }\n",
              "\n",
              "    .dataframe thead th {\n",
              "        text-align: right;\n",
              "    }\n",
              "</style>\n",
              "<table border=\"1\" class=\"dataframe\">\n",
              "  <thead>\n",
              "    <tr style=\"text-align: right;\">\n",
              "      <th></th>\n",
              "      <th>id</th>\n",
              "      <th>tokens</th>\n",
              "      <th>pos_tags</th>\n",
              "      <th>chunk_tags</th>\n",
              "      <th>ner_tags</th>\n",
              "      <th>words_per_sentence</th>\n",
              "    </tr>\n",
              "  </thead>\n",
              "  <tbody>\n",
              "    <tr>\n",
              "      <th>11</th>\n",
              "      <td>11</td>\n",
              "      <td>[.]</td>\n",
              "      <td>[7]</td>\n",
              "      <td>[0]</td>\n",
              "      <td>[0]</td>\n",
              "      <td>1</td>\n",
              "    </tr>\n",
              "    <tr>\n",
              "      <th>200</th>\n",
              "      <td>200</td>\n",
              "      <td>[THAWRA]</td>\n",
              "      <td>[38]</td>\n",
              "      <td>[11]</td>\n",
              "      <td>[3]</td>\n",
              "      <td>1</td>\n",
              "    </tr>\n",
              "    <tr>\n",
              "      <th>203</th>\n",
              "      <td>203</td>\n",
              "      <td>[IRAQ]</td>\n",
              "      <td>[21]</td>\n",
              "      <td>[11]</td>\n",
              "      <td>[5]</td>\n",
              "      <td>1</td>\n",
              "    </tr>\n",
              "    <tr>\n",
              "      <th>209</th>\n",
              "      <td>209</td>\n",
              "      <td>[AN-NAHAR]</td>\n",
              "      <td>[22]</td>\n",
              "      <td>[11]</td>\n",
              "      <td>[3]</td>\n",
              "      <td>1</td>\n",
              "    </tr>\n",
              "    <tr>\n",
              "      <th>212</th>\n",
              "      <td>212</td>\n",
              "      <td>[AS-SAFIR]</td>\n",
              "      <td>[22]</td>\n",
              "      <td>[11]</td>\n",
              "      <td>[3]</td>\n",
              "      <td>1</td>\n",
              "    </tr>\n",
              "    <tr>\n",
              "      <th>...</th>\n",
              "      <td>...</td>\n",
              "      <td>...</td>\n",
              "      <td>...</td>\n",
              "      <td>...</td>\n",
              "      <td>...</td>\n",
              "      <td>...</td>\n",
              "    </tr>\n",
              "    <tr>\n",
              "      <th>13751</th>\n",
              "      <td>13751</td>\n",
              "      <td>[Jul-18.Jul]</td>\n",
              "      <td>[21]</td>\n",
              "      <td>[11]</td>\n",
              "      <td>[0]</td>\n",
              "      <td>1</td>\n",
              "    </tr>\n",
              "    <tr>\n",
              "      <th>13855</th>\n",
              "      <td>13855</td>\n",
              "      <td>[GDP]</td>\n",
              "      <td>[22]</td>\n",
              "      <td>[11]</td>\n",
              "      <td>[0]</td>\n",
              "      <td>1</td>\n",
              "    </tr>\n",
              "    <tr>\n",
              "      <th>13879</th>\n",
              "      <td>13879</td>\n",
              "      <td>[ABC]</td>\n",
              "      <td>[22]</td>\n",
              "      <td>[11]</td>\n",
              "      <td>[3]</td>\n",
              "      <td>1</td>\n",
              "    </tr>\n",
              "    <tr>\n",
              "      <th>13883</th>\n",
              "      <td>13883</td>\n",
              "      <td>[EXPANSION]</td>\n",
              "      <td>[21]</td>\n",
              "      <td>[11]</td>\n",
              "      <td>[3]</td>\n",
              "      <td>1</td>\n",
              "    </tr>\n",
              "    <tr>\n",
              "      <th>13907</th>\n",
              "      <td>13907</td>\n",
              "      <td>[*]</td>\n",
              "      <td>[34]</td>\n",
              "      <td>[0]</td>\n",
              "      <td>[0]</td>\n",
              "      <td>1</td>\n",
              "    </tr>\n",
              "  </tbody>\n",
              "</table>\n",
              "<p>179 rows × 6 columns</p>\n",
              "</div>\n",
              "    <div class=\"colab-df-buttons\">\n",
              "\n",
              "  <div class=\"colab-df-container\">\n",
              "    <button class=\"colab-df-convert\" onclick=\"convertToInteractive('df-6da0d836-8557-44ad-a6c7-ae3b3f5c24de')\"\n",
              "            title=\"Convert this dataframe to an interactive table.\"\n",
              "            style=\"display:none;\">\n",
              "\n",
              "  <svg xmlns=\"http://www.w3.org/2000/svg\" height=\"24px\" viewBox=\"0 -960 960 960\">\n",
              "    <path d=\"M120-120v-720h720v720H120Zm60-500h600v-160H180v160Zm220 220h160v-160H400v160Zm0 220h160v-160H400v160ZM180-400h160v-160H180v160Zm440 0h160v-160H620v160ZM180-180h160v-160H180v160Zm440 0h160v-160H620v160Z\"/>\n",
              "  </svg>\n",
              "    </button>\n",
              "\n",
              "  <style>\n",
              "    .colab-df-container {\n",
              "      display:flex;\n",
              "      gap: 12px;\n",
              "    }\n",
              "\n",
              "    .colab-df-convert {\n",
              "      background-color: #E8F0FE;\n",
              "      border: none;\n",
              "      border-radius: 50%;\n",
              "      cursor: pointer;\n",
              "      display: none;\n",
              "      fill: #1967D2;\n",
              "      height: 32px;\n",
              "      padding: 0 0 0 0;\n",
              "      width: 32px;\n",
              "    }\n",
              "\n",
              "    .colab-df-convert:hover {\n",
              "      background-color: #E2EBFA;\n",
              "      box-shadow: 0px 1px 2px rgba(60, 64, 67, 0.3), 0px 1px 3px 1px rgba(60, 64, 67, 0.15);\n",
              "      fill: #174EA6;\n",
              "    }\n",
              "\n",
              "    .colab-df-buttons div {\n",
              "      margin-bottom: 4px;\n",
              "    }\n",
              "\n",
              "    [theme=dark] .colab-df-convert {\n",
              "      background-color: #3B4455;\n",
              "      fill: #D2E3FC;\n",
              "    }\n",
              "\n",
              "    [theme=dark] .colab-df-convert:hover {\n",
              "      background-color: #434B5C;\n",
              "      box-shadow: 0px 1px 3px 1px rgba(0, 0, 0, 0.15);\n",
              "      filter: drop-shadow(0px 1px 2px rgba(0, 0, 0, 0.3));\n",
              "      fill: #FFFFFF;\n",
              "    }\n",
              "  </style>\n",
              "\n",
              "    <script>\n",
              "      const buttonEl =\n",
              "        document.querySelector('#df-6da0d836-8557-44ad-a6c7-ae3b3f5c24de button.colab-df-convert');\n",
              "      buttonEl.style.display =\n",
              "        google.colab.kernel.accessAllowed ? 'block' : 'none';\n",
              "\n",
              "      async function convertToInteractive(key) {\n",
              "        const element = document.querySelector('#df-6da0d836-8557-44ad-a6c7-ae3b3f5c24de');\n",
              "        const dataTable =\n",
              "          await google.colab.kernel.invokeFunction('convertToInteractive',\n",
              "                                                    [key], {});\n",
              "        if (!dataTable) return;\n",
              "\n",
              "        const docLinkHtml = 'Like what you see? Visit the ' +\n",
              "          '<a target=\"_blank\" href=https://colab.research.google.com/notebooks/data_table.ipynb>data table notebook</a>'\n",
              "          + ' to learn more about interactive tables.';\n",
              "        element.innerHTML = '';\n",
              "        dataTable['output_type'] = 'display_data';\n",
              "        await google.colab.output.renderOutput(dataTable, element);\n",
              "        const docLink = document.createElement('div');\n",
              "        docLink.innerHTML = docLinkHtml;\n",
              "        element.appendChild(docLink);\n",
              "      }\n",
              "    </script>\n",
              "  </div>\n",
              "\n",
              "\n",
              "<div id=\"df-57182388-7b27-48a4-906c-888c04dc472b\">\n",
              "  <button class=\"colab-df-quickchart\" onclick=\"quickchart('df-57182388-7b27-48a4-906c-888c04dc472b')\"\n",
              "            title=\"Suggest charts.\"\n",
              "            style=\"display:none;\">\n",
              "\n",
              "<svg xmlns=\"http://www.w3.org/2000/svg\" height=\"24px\"viewBox=\"0 0 24 24\"\n",
              "     width=\"24px\">\n",
              "    <g>\n",
              "        <path d=\"M19 3H5c-1.1 0-2 .9-2 2v14c0 1.1.9 2 2 2h14c1.1 0 2-.9 2-2V5c0-1.1-.9-2-2-2zM9 17H7v-7h2v7zm4 0h-2V7h2v10zm4 0h-2v-4h2v4z\"/>\n",
              "    </g>\n",
              "</svg>\n",
              "  </button>\n",
              "\n",
              "<style>\n",
              "  .colab-df-quickchart {\n",
              "      --bg-color: #E8F0FE;\n",
              "      --fill-color: #1967D2;\n",
              "      --hover-bg-color: #E2EBFA;\n",
              "      --hover-fill-color: #174EA6;\n",
              "      --disabled-fill-color: #AAA;\n",
              "      --disabled-bg-color: #DDD;\n",
              "  }\n",
              "\n",
              "  [theme=dark] .colab-df-quickchart {\n",
              "      --bg-color: #3B4455;\n",
              "      --fill-color: #D2E3FC;\n",
              "      --hover-bg-color: #434B5C;\n",
              "      --hover-fill-color: #FFFFFF;\n",
              "      --disabled-bg-color: #3B4455;\n",
              "      --disabled-fill-color: #666;\n",
              "  }\n",
              "\n",
              "  .colab-df-quickchart {\n",
              "    background-color: var(--bg-color);\n",
              "    border: none;\n",
              "    border-radius: 50%;\n",
              "    cursor: pointer;\n",
              "    display: none;\n",
              "    fill: var(--fill-color);\n",
              "    height: 32px;\n",
              "    padding: 0;\n",
              "    width: 32px;\n",
              "  }\n",
              "\n",
              "  .colab-df-quickchart:hover {\n",
              "    background-color: var(--hover-bg-color);\n",
              "    box-shadow: 0 1px 2px rgba(60, 64, 67, 0.3), 0 1px 3px 1px rgba(60, 64, 67, 0.15);\n",
              "    fill: var(--button-hover-fill-color);\n",
              "  }\n",
              "\n",
              "  .colab-df-quickchart-complete:disabled,\n",
              "  .colab-df-quickchart-complete:disabled:hover {\n",
              "    background-color: var(--disabled-bg-color);\n",
              "    fill: var(--disabled-fill-color);\n",
              "    box-shadow: none;\n",
              "  }\n",
              "\n",
              "  .colab-df-spinner {\n",
              "    border: 2px solid var(--fill-color);\n",
              "    border-color: transparent;\n",
              "    border-bottom-color: var(--fill-color);\n",
              "    animation:\n",
              "      spin 1s steps(1) infinite;\n",
              "  }\n",
              "\n",
              "  @keyframes spin {\n",
              "    0% {\n",
              "      border-color: transparent;\n",
              "      border-bottom-color: var(--fill-color);\n",
              "      border-left-color: var(--fill-color);\n",
              "    }\n",
              "    20% {\n",
              "      border-color: transparent;\n",
              "      border-left-color: var(--fill-color);\n",
              "      border-top-color: var(--fill-color);\n",
              "    }\n",
              "    30% {\n",
              "      border-color: transparent;\n",
              "      border-left-color: var(--fill-color);\n",
              "      border-top-color: var(--fill-color);\n",
              "      border-right-color: var(--fill-color);\n",
              "    }\n",
              "    40% {\n",
              "      border-color: transparent;\n",
              "      border-right-color: var(--fill-color);\n",
              "      border-top-color: var(--fill-color);\n",
              "    }\n",
              "    60% {\n",
              "      border-color: transparent;\n",
              "      border-right-color: var(--fill-color);\n",
              "    }\n",
              "    80% {\n",
              "      border-color: transparent;\n",
              "      border-right-color: var(--fill-color);\n",
              "      border-bottom-color: var(--fill-color);\n",
              "    }\n",
              "    90% {\n",
              "      border-color: transparent;\n",
              "      border-bottom-color: var(--fill-color);\n",
              "    }\n",
              "  }\n",
              "</style>\n",
              "\n",
              "  <script>\n",
              "    async function quickchart(key) {\n",
              "      const quickchartButtonEl =\n",
              "        document.querySelector('#' + key + ' button');\n",
              "      quickchartButtonEl.disabled = true;  // To prevent multiple clicks.\n",
              "      quickchartButtonEl.classList.add('colab-df-spinner');\n",
              "      try {\n",
              "        const charts = await google.colab.kernel.invokeFunction(\n",
              "            'suggestCharts', [key], {});\n",
              "      } catch (error) {\n",
              "        console.error('Error during call to suggestCharts:', error);\n",
              "      }\n",
              "      quickchartButtonEl.classList.remove('colab-df-spinner');\n",
              "      quickchartButtonEl.classList.add('colab-df-quickchart-complete');\n",
              "    }\n",
              "    (() => {\n",
              "      let quickchartButtonEl =\n",
              "        document.querySelector('#df-57182388-7b27-48a4-906c-888c04dc472b button');\n",
              "      quickchartButtonEl.style.display =\n",
              "        google.colab.kernel.accessAllowed ? 'block' : 'none';\n",
              "    })();\n",
              "  </script>\n",
              "</div>\n",
              "    </div>\n",
              "  </div>\n"
            ]
          },
          "metadata": {},
          "execution_count": 13
        }
      ],
      "source": [
        "df[df['words_per_sentence'] < 2]"
      ]
    },
    {
      "cell_type": "markdown",
      "id": "QuV3BOnD1GjF",
      "metadata": {
        "id": "QuV3BOnD1GjF"
      },
      "source": [
        "### <font color = 'indianred'> **Reset dataset format** </font>\n"
      ]
    },
    {
      "cell_type": "code",
      "execution_count": null,
      "id": "S2XAL-2PyI-3",
      "metadata": {
        "id": "S2XAL-2PyI-3"
      },
      "outputs": [],
      "source": [
        "# reset the format back to huggingface dataset\n",
        "conll_dataset.reset_format()"
      ]
    },
    {
      "cell_type": "code",
      "execution_count": null,
      "id": "uFO6-IFVyOtE",
      "metadata": {
        "colab": {
          "base_uri": "https://localhost:8080/"
        },
        "id": "uFO6-IFVyOtE",
        "outputId": "43462e27-78d2-4da4-9f98-887e784a325a"
      },
      "outputs": [
        {
          "output_type": "execute_result",
          "data": {
            "text/plain": [
              "DatasetDict({\n",
              "    train: Dataset({\n",
              "        features: ['id', 'tokens', 'pos_tags', 'chunk_tags', 'ner_tags'],\n",
              "        num_rows: 14041\n",
              "    })\n",
              "    validation: Dataset({\n",
              "        features: ['id', 'tokens', 'pos_tags', 'chunk_tags', 'ner_tags'],\n",
              "        num_rows: 3250\n",
              "    })\n",
              "    test: Dataset({\n",
              "        features: ['id', 'tokens', 'pos_tags', 'chunk_tags', 'ner_tags'],\n",
              "        num_rows: 3453\n",
              "    })\n",
              "})"
            ]
          },
          "metadata": {},
          "execution_count": 15
        }
      ],
      "source": [
        "conll_dataset"
      ]
    },
    {
      "cell_type": "markdown",
      "id": "olD42nSSAwrM",
      "metadata": {
        "id": "olD42nSSAwrM"
      },
      "source": [
        "# <font color = 'indianred'> **Data Pre-processing**</font>"
      ]
    },
    {
      "cell_type": "code",
      "source": [
        "train_split_small = conll_dataset['train'].shuffle(seed=42).select(range(5000))\n",
        "val_split_small = conll_dataset['validation'].shuffle(seed=42).select(range(1000))\n",
        "test_split_small = conll_dataset['test'].shuffle(seed=42).select(range(1000))"
      ],
      "metadata": {
        "id": "ikiQDHLSp0Et"
      },
      "id": "ikiQDHLSp0Et",
      "execution_count": null,
      "outputs": []
    },
    {
      "cell_type": "code",
      "source": [
        "# combine train, val splits into one dataset\n",
        "train_val_subset = DatasetDict({'train': train_split_small, 'val': val_split_small})\n",
        "\n",
        "# create test dataset from test split\n",
        "test_subset= DatasetDict({'test': test_split_small})"
      ],
      "metadata": {
        "id": "u_d2s0jyp3Kb"
      },
      "id": "u_d2s0jyp3Kb",
      "execution_count": null,
      "outputs": []
    },
    {
      "cell_type": "markdown",
      "id": "4fc39b2b",
      "metadata": {
        "id": "4fc39b2b"
      },
      "source": [
        "### <font color = 'indianred'> **Map Targets to integers** </font>"
      ]
    },
    {
      "cell_type": "code",
      "execution_count": null,
      "id": "1784e3d0",
      "metadata": {
        "id": "1784e3d0"
      },
      "outputs": [],
      "source": [
        "class_names = conll_dataset['train'].features['ner_tags'].feature.names"
      ]
    },
    {
      "cell_type": "code",
      "execution_count": null,
      "id": "7c5b8322",
      "metadata": {
        "colab": {
          "base_uri": "https://localhost:8080/"
        },
        "id": "7c5b8322",
        "outputId": "aced4bec-e644-4709-afc3-141b742679ae"
      },
      "outputs": [
        {
          "output_type": "execute_result",
          "data": {
            "text/plain": [
              "['O', 'B-PER', 'I-PER', 'B-ORG', 'I-ORG', 'B-LOC', 'I-LOC', 'B-MISC', 'I-MISC']"
            ]
          },
          "metadata": {},
          "execution_count": 19
        }
      ],
      "source": [
        "class_names"
      ]
    },
    {
      "cell_type": "markdown",
      "id": "2efadccc",
      "metadata": {
        "id": "2efadccc"
      },
      "source": [
        "##  <font color = 'indianred'> **Exp- 1: Distil-BERT**"
      ]
    },
    {
      "cell_type": "markdown",
      "id": "150ee1e9-7371-40b1-a526-30ec37cf0654",
      "metadata": {
        "id": "150ee1e9-7371-40b1-a526-30ec37cf0654"
      },
      "source": [
        "## <font color = 'indianred'> **Tokenization**</font>\n",
        "\n"
      ]
    },
    {
      "cell_type": "code",
      "execution_count": null,
      "id": "hzUiqZR6hI4o",
      "metadata": {
        "execution": {
          "iopub.execute_input": "2022-12-23T23:14:07.903271Z",
          "iopub.status.busy": "2022-12-23T23:14:07.902958Z",
          "iopub.status.idle": "2022-12-23T23:14:07.955695Z",
          "shell.execute_reply": "2022-12-23T23:14:07.955154Z",
          "shell.execute_reply.started": "2022-12-23T23:14:07.903251Z"
        },
        "id": "hzUiqZR6hI4o",
        "tags": []
      },
      "outputs": [],
      "source": [
        "# Define a checkpoint for the DistilBERT model with an uncased vocabulary.\n",
        "# Instantiate the tokenizer for this model using the specified checkpoint.\n",
        "checkpoint = \"distilbert-base-uncased\"\n",
        "tokenizer = AutoTokenizer.from_pretrained(checkpoint)"
      ]
    },
    {
      "cell_type": "code",
      "source": [
        "idx = 0\n",
        "encoded_text = tokenizer(train_val_subset['train']['tokens'][idx], is_split_into_words=True) ####### NEW ############\n",
        "tokens = tokenizer.convert_ids_to_tokens(encoded_text.input_ids)"
      ],
      "metadata": {
        "id": "x-YQ4r7NpSI7"
      },
      "id": "x-YQ4r7NpSI7",
      "execution_count": null,
      "outputs": []
    },
    {
      "cell_type": "markdown",
      "id": "2b4ce3b9-904f-42bd-9c3f-163328f47051",
      "metadata": {
        "execution": {
          "iopub.execute_input": "2022-12-20T11:22:33.679936Z",
          "iopub.status.busy": "2022-12-20T11:22:33.679764Z",
          "iopub.status.idle": "2022-12-20T11:22:33.723366Z",
          "shell.execute_reply": "2022-12-20T11:22:33.722847Z",
          "shell.execute_reply.started": "2022-12-20T11:22:33.679918Z"
        },
        "id": "2b4ce3b9-904f-42bd-9c3f-163328f47051"
      },
      "source": [
        "###  <font color = 'indianred'> **Create function for Tokenizer**"
      ]
    },
    {
      "cell_type": "code",
      "execution_count": null,
      "id": "008ada04",
      "metadata": {
        "id": "008ada04"
      },
      "outputs": [],
      "source": [
        "def align_targets(labels, word_ids):\n",
        "\n",
        "  begin2inside = {1:2, 3:4, 5:6, 7:8}\n",
        "  aligned_labels = []\n",
        "\n",
        "  last_id = None\n",
        "\n",
        "  for word_id in word_ids:\n",
        "    if word_id is None:\n",
        "      label = -100\n",
        "    elif word_id != last_id:\n",
        "      label = labels[word_id]\n",
        "    else:\n",
        "      label = labels[word_id]\n",
        "      if label in begin2inside:\n",
        "        label = begin2inside[label]\n",
        "    aligned_labels.append(label)\n",
        "    last_id = word_id\n",
        "\n",
        "  return aligned_labels"
      ]
    },
    {
      "cell_type": "code",
      "execution_count": null,
      "id": "1a9104ec",
      "metadata": {
        "id": "1a9104ec"
      },
      "outputs": [],
      "source": [
        "def tokenize_fn(batch):\n",
        "\n",
        "  tokenized_inputs = tokenizer(batch['tokens'], truncation=True, is_split_into_words=True)\n",
        "\n",
        "  # Extract the original labels/tags from the batch.\n",
        "  labels_batch = batch['ner_tags']\n",
        "\n",
        "  # This list will store the labels aligned with the tokenized input.\n",
        "  aligned_labels_batch = []\n",
        "\n",
        "  # Iterate over each example in the batch.\n",
        "  for i, labels in enumerate(labels_batch):\n",
        "    # Obtain the word IDs for the tokenized example. This helps in aligning the original labels with the tokens.\n",
        "    word_ids = tokenized_inputs.word_ids(i)\n",
        "\n",
        "    # Align the original labels with the tokenized example and append to the aligned_labels_batch list.\n",
        "    aligned_labels_batch.append(align_targets(labels, word_ids))\n",
        "\n",
        "  # The HuggingFace trainer expects the labels for token classification tasks to be under the key 'labels'.\n",
        "  # Store the aligned labels in the 'labels' key of the tokenized_inputs dictionary.\n",
        "  tokenized_inputs['labels'] = aligned_labels_batch\n",
        "\n",
        "  return tokenized_inputs"
      ]
    },
    {
      "cell_type": "markdown",
      "id": "1f09c889-c3fd-4b12-a544-0772594a3899",
      "metadata": {
        "id": "1f09c889-c3fd-4b12-a544-0772594a3899"
      },
      "source": [
        "###  <font color = 'indianred'> **Use map function to apply tokenization to all splits**"
      ]
    },
    {
      "cell_type": "code",
      "execution_count": null,
      "id": "ET6ioH_-iCW2",
      "metadata": {
        "colab": {
          "base_uri": "https://localhost:8080/",
          "height": 49,
          "referenced_widgets": [
            "bfdc77188cf14ccca9ebef61f64b5f92",
            "380bf296998b40a4b7a28063ebfecf54",
            "e07939f3052240afa6132355ab8d4235",
            "a04cfc40ac354fba8d849ec388b4f254",
            "a0b8c78c32f94889bf402a772dd3c9a0",
            "3502e1d6995743f6bb8683b1e25d4f8a",
            "c6b4c5eb039e412cb46138ca4b74a62a",
            "6cfee37366b8442aac2cd91e7e0f5fa3",
            "6e918fc3ce514f79855f3a7a31c56022",
            "7ee9a91e35bf43dca1dabaf1b0253e87",
            "211b5af220a8440d93749449bf9fdcfe"
          ]
        },
        "execution": {
          "iopub.execute_input": "2022-12-23T23:14:13.918317Z",
          "iopub.status.busy": "2022-12-23T23:14:13.917908Z",
          "iopub.status.idle": "2022-12-23T23:14:15.785940Z",
          "shell.execute_reply": "2022-12-23T23:14:15.785447Z",
          "shell.execute_reply.started": "2022-12-23T23:14:13.918288Z"
        },
        "id": "ET6ioH_-iCW2",
        "outputId": "9d1090e1-1588-4c0d-a665-665e4500ba0b",
        "tags": []
      },
      "outputs": [
        {
          "output_type": "display_data",
          "data": {
            "text/plain": [
              "Map:   0%|          | 0/1000 [00:00<?, ? examples/s]"
            ],
            "application/vnd.jupyter.widget-view+json": {
              "version_major": 2,
              "version_minor": 0,
              "model_id": "bfdc77188cf14ccca9ebef61f64b5f92"
            }
          },
          "metadata": {}
        }
      ],
      "source": [
        "# Map the tokenize_fn function over the entire train_val_subset dataset in batches.\n",
        "# This will tokenize the text data in each batch and return a new dataset with tokenized data.\n",
        "tokenized_dataset = train_val_subset.map(tokenize_fn, batched=True)"
      ]
    },
    {
      "cell_type": "code",
      "execution_count": null,
      "id": "AWdOVuxmNTF5",
      "metadata": {
        "colab": {
          "base_uri": "https://localhost:8080/"
        },
        "id": "AWdOVuxmNTF5",
        "outputId": "201049e8-e831-46ef-bf68-c77f1f7ede50"
      },
      "outputs": [
        {
          "output_type": "execute_result",
          "data": {
            "text/plain": [
              "Dataset({\n",
              "    features: ['id', 'tokens', 'pos_tags', 'chunk_tags', 'ner_tags', 'input_ids', 'attention_mask', 'labels'],\n",
              "    num_rows: 5000\n",
              "})"
            ]
          },
          "metadata": {},
          "execution_count": 25
        }
      ],
      "source": [
        "tokenized_dataset['train']"
      ]
    },
    {
      "cell_type": "code",
      "source": [
        "tokenized_dataset = tokenized_dataset.remove_columns(['tokens', 'ner_tags', 'pos_tags','chunk_tags', 'id'])\n",
        "tokenized_dataset.set_format(type='torch')"
      ],
      "metadata": {
        "id": "j3_aRUrBukZh"
      },
      "id": "j3_aRUrBukZh",
      "execution_count": null,
      "outputs": []
    },
    {
      "cell_type": "markdown",
      "id": "O7-5sm2uBTN_",
      "metadata": {
        "id": "O7-5sm2uBTN_"
      },
      "source": [
        "#  <font color = 'indianred'> **Model Training**"
      ]
    },
    {
      "cell_type": "code",
      "source": [
        "def initialize_model(checkpoint, class_names):\n",
        "    config = AutoConfig.from_pretrained(checkpoint)\n",
        "    id2label = {}\n",
        "    for id_, label_ in enumerate(class_names):\n",
        "        id2label[str(id_)] = label_\n",
        "\n",
        "    label2id = {}\n",
        "    for id_, label_ in enumerate(class_names):\n",
        "        label2id[label_] = id_\n",
        "\n",
        "    config.id2label = id2label\n",
        "    config.label2id = label2id\n",
        "\n",
        "    model = AutoModelForTokenClassification.from_pretrained(checkpoint, config=config)\n",
        "    return model"
      ],
      "metadata": {
        "id": "Vt1SrnfWmhi-"
      },
      "id": "Vt1SrnfWmhi-",
      "execution_count": null,
      "outputs": []
    },
    {
      "cell_type": "code",
      "source": [
        "model = initialize_model(checkpoint, class_names)"
      ],
      "metadata": {
        "colab": {
          "base_uri": "https://localhost:8080/"
        },
        "id": "---sg4wxrTM2",
        "outputId": "03c4a39e-00e1-42a0-fb2e-4cee9b93658d"
      },
      "id": "---sg4wxrTM2",
      "execution_count": null,
      "outputs": [
        {
          "output_type": "stream",
          "name": "stderr",
          "text": [
            "Some weights of DistilBertForTokenClassification were not initialized from the model checkpoint at distilbert-base-uncased and are newly initialized: ['classifier.bias', 'classifier.weight']\n",
            "You should probably TRAIN this model on a down-stream task to be able to use it for predictions and inference.\n"
          ]
        }
      ]
    },
    {
      "cell_type": "code",
      "source": [
        "model.config"
      ],
      "metadata": {
        "colab": {
          "base_uri": "https://localhost:8080/"
        },
        "id": "hz2tMt7Usrb2",
        "outputId": "eb2987a6-76e6-4d34-af52-09fe83cf3a93"
      },
      "id": "hz2tMt7Usrb2",
      "execution_count": null,
      "outputs": [
        {
          "output_type": "execute_result",
          "data": {
            "text/plain": [
              "DistilBertConfig {\n",
              "  \"_name_or_path\": \"distilbert-base-uncased\",\n",
              "  \"activation\": \"gelu\",\n",
              "  \"architectures\": [\n",
              "    \"DistilBertForMaskedLM\"\n",
              "  ],\n",
              "  \"attention_dropout\": 0.1,\n",
              "  \"dim\": 768,\n",
              "  \"dropout\": 0.1,\n",
              "  \"hidden_dim\": 3072,\n",
              "  \"id2label\": {\n",
              "    \"0\": \"O\",\n",
              "    \"1\": \"B-PER\",\n",
              "    \"2\": \"I-PER\",\n",
              "    \"3\": \"B-ORG\",\n",
              "    \"4\": \"I-ORG\",\n",
              "    \"5\": \"B-LOC\",\n",
              "    \"6\": \"I-LOC\",\n",
              "    \"7\": \"B-MISC\",\n",
              "    \"8\": \"I-MISC\"\n",
              "  },\n",
              "  \"initializer_range\": 0.02,\n",
              "  \"label2id\": {\n",
              "    \"B-LOC\": 5,\n",
              "    \"B-MISC\": 7,\n",
              "    \"B-ORG\": 3,\n",
              "    \"B-PER\": 1,\n",
              "    \"I-LOC\": 6,\n",
              "    \"I-MISC\": 8,\n",
              "    \"I-ORG\": 4,\n",
              "    \"I-PER\": 2,\n",
              "    \"O\": 0\n",
              "  },\n",
              "  \"max_position_embeddings\": 512,\n",
              "  \"model_type\": \"distilbert\",\n",
              "  \"n_heads\": 12,\n",
              "  \"n_layers\": 6,\n",
              "  \"pad_token_id\": 0,\n",
              "  \"qa_dropout\": 0.1,\n",
              "  \"seq_classif_dropout\": 0.2,\n",
              "  \"sinusoidal_pos_embds\": false,\n",
              "  \"tie_weights_\": true,\n",
              "  \"transformers_version\": \"4.34.1\",\n",
              "  \"vocab_size\": 30522\n",
              "}"
            ]
          },
          "metadata": {},
          "execution_count": 29
        }
      ]
    },
    {
      "cell_type": "markdown",
      "id": "GTVu1FaL8H6m",
      "metadata": {
        "id": "GTVu1FaL8H6m"
      },
      "source": [
        "## <font color = 'indianred'> **Model Input/Collate Function** </font>"
      ]
    },
    {
      "cell_type": "code",
      "execution_count": null,
      "id": "EFpsqlHeMvkg",
      "metadata": {
        "id": "EFpsqlHeMvkg",
        "colab": {
          "base_uri": "https://localhost:8080/"
        },
        "outputId": "dbac314a-3925-4836-a694-056d35a46de4"
      },
      "outputs": [
        {
          "output_type": "stream",
          "name": "stderr",
          "text": [
            "You're using a DistilBertTokenizerFast tokenizer. Please note that with a fast tokenizer, using the `__call__` method is faster than using a method to encode the text followed by a call to the `pad` method to get a padded encoding.\n"
          ]
        },
        {
          "output_type": "execute_result",
          "data": {
            "text/plain": [
              "dict_keys(['input_ids', 'attention_mask', 'labels'])"
            ]
          },
          "metadata": {},
          "execution_count": 30
        }
      ],
      "source": [
        "data_collator = DataCollatorForTokenClassification(tokenizer = tokenizer, padding=True, label_pad_token_id=-100, return_tensors='pt')\n",
        "features = [tokenized_dataset[\"train\"][i] for i in range(2)]\n",
        "model_input = data_collator(features)\n",
        "model_input.keys()"
      ]
    },
    {
      "cell_type": "markdown",
      "id": "4c2cd6ba",
      "metadata": {
        "id": "4c2cd6ba"
      },
      "source": [
        "##  <font color = 'indianred'> **Evaluation metric(s)** </font>"
      ]
    },
    {
      "cell_type": "markdown",
      "id": "9E1NyeL08iPA",
      "metadata": {
        "id": "9E1NyeL08iPA"
      },
      "source": [
        "### <font color = 'indianred'> **Function to compute metric** </font>\n",
        "\n"
      ]
    },
    {
      "cell_type": "code",
      "execution_count": null,
      "id": "fd42264b",
      "metadata": {
        "id": "fd42264b"
      },
      "outputs": [],
      "source": [
        "seqeval_metric = evaluate.load('seqeval')\n",
        "\n",
        "def compute_metrics(logits_and_labels):\n",
        "\n",
        "    logits, true_labels = logits_and_labels\n",
        "\n",
        "    # Obtain predicted label indices by selecting the label with the highest logit value for each token\n",
        "    predicted_indices = np.argmax(logits, axis=-1)  # Shape: (batch_size, sequence_length)\n",
        "\n",
        "    # Convert label indices to their string representation, ignoring special tokens (label index = -100)\n",
        "    string_true_labels = [[class_names[label_id] for label_id in sequence if label_id != -100] for sequence in true_labels]\n",
        "\n",
        "    # for pred_sequence, true_sequence in zip(predicted_indices, true_labels):\n",
        "    #   for pred_id, true_label_id in zip(pred_sequence, true_sequence):\n",
        "    #     if true_label_id != -100:\n",
        "    #       print(class_names[pred_id])\n",
        "\n",
        "    # Convert predicted indices to their string representation, but only for tokens where the true label isn't -100\n",
        "    string_predictions = [[class_names[pred_id] for pred_id, true_label_id in zip(pred_sequence, true_sequence) if true_label_id != -100]\n",
        "        for pred_sequence, true_sequence in zip(predicted_indices, true_labels)]\n",
        "\n",
        "\n",
        "    # print('Length of predicted_indices = ', len(predicted_indices))\n",
        "    # print('Length of predicted_indices = ', len(true_labels))\n",
        "\n",
        "    # Compute the metrics using seqeval\n",
        "    metrics_results = seqeval_metric.compute(predictions=string_predictions, references=string_true_labels)\n",
        "\n",
        "    return {\n",
        "        'precision': metrics_results['overall_precision'],\n",
        "        'recall': metrics_results['overall_recall'],\n",
        "        'f1': metrics_results['overall_f1'],\n",
        "        'accuracy': metrics_results['overall_accuracy']\n",
        "    }"
      ]
    },
    {
      "cell_type": "code",
      "execution_count": null,
      "id": "90b1e065",
      "metadata": {
        "id": "90b1e065"
      },
      "outputs": [],
      "source": [
        "# compute_metrics((logits, true_labels))"
      ]
    },
    {
      "cell_type": "markdown",
      "id": "IGDxeCI38uqm",
      "metadata": {
        "id": "IGDxeCI38uqm"
      },
      "source": [
        "## <font color = 'indianred'> **Set up Logger for experiments**</font>"
      ]
    },
    {
      "cell_type": "markdown",
      "id": "87d39177",
      "metadata": {
        "id": "87d39177"
      },
      "source": []
    },
    {
      "cell_type": "code",
      "execution_count": null,
      "id": "S8CaRySh81mi",
      "metadata": {
        "id": "S8CaRySh81mi",
        "colab": {
          "base_uri": "https://localhost:8080/"
        },
        "outputId": "57a9f2b8-525f-42a6-da26-4e0a2b52dee3"
      },
      "outputs": [
        {
          "output_type": "stream",
          "name": "stderr",
          "text": [
            "\u001b[34m\u001b[1mwandb\u001b[0m: Currently logged in as: \u001b[33manurag96\u001b[0m. Use \u001b[1m`wandb login --relogin`\u001b[0m to force relogin\n"
          ]
        },
        {
          "output_type": "stream",
          "name": "stdout",
          "text": [
            "env: WANDB_PROJECT=nlp_course_fall_2023-ner\n"
          ]
        }
      ],
      "source": [
        "# YOU WILL NEED TO CREATE AN ACCOUNT FOR WANDB\n",
        "# It may provide a link for token , copy paste the token following instructions\n",
        "# setup wandb\n",
        "wandb.login()  # you will need to create wandb account first\n",
        "# Set project name for logging\n",
        "%env WANDB_PROJECT = nlp_course_fall_2023-ner"
      ]
    },
    {
      "cell_type": "markdown",
      "id": "Jwwp80UgmLjr",
      "metadata": {
        "id": "Jwwp80UgmLjr"
      },
      "source": [
        "## <font color = 'indianred'> **Hyperparameters and Checkpointing**</font>"
      ]
    },
    {
      "cell_type": "code",
      "execution_count": null,
      "id": "hIXDbzK8O4x9",
      "metadata": {
        "id": "hIXDbzK8O4x9"
      },
      "outputs": [],
      "source": [
        "# Define the directory where model checkpoints will be saved\n",
        "model_folder = base_folder / \"Models\"\n",
        "# Create the directory if it doesn't exist\n",
        "model_folder.mkdir(exist_ok=True, parents=True)\n",
        "\n",
        "# Configure training parameters\n",
        "training_args = TrainingArguments(\n",
        "    # Training-specific configurations\n",
        "    num_train_epochs=2,  # Total number of training epochs\n",
        "    # Number of samples per training batch for each device\n",
        "    per_device_train_batch_size = 64,\n",
        "    # Number of samples per evaluation batch for each device\n",
        "    per_device_eval_batch_size = 64,\n",
        "    weight_decay=0.01,  # Apply L2 regularization to prevent overfitting\n",
        "    learning_rate=2e-5,  # Step size for the optimizer during training\n",
        "    optim='adamw_torch',  # Optimizer,\n",
        "\n",
        "    # Checkpoint saving and model evaluation settings\n",
        "    output_dir=str(model_folder),  # Directory to save model checkpoints\n",
        "    evaluation_strategy='steps',  # Evaluate model at specified step intervals\n",
        "    eval_steps=20,  # Perform evaluation every 20 training steps\n",
        "    save_strategy=\"steps\",  # Save model checkpoint at specified step intervals\n",
        "    save_steps= 20,  # Save a model checkpoint every 20 training steps\n",
        "    load_best_model_at_end=True,  # Reload the best model at the end of training\n",
        "    save_total_limit=2,  # Retain only the best and the most recent model checkpoints\n",
        "    # Use 'accuracy' as the metric to determine the best model\n",
        "    metric_for_best_model=\"accuracy\",\n",
        "    greater_is_better=True,  # A model is 'better' if its accuracy is higher\n",
        "\n",
        "\n",
        "    # Experiment logging configurations (commented out in this example)\n",
        "    logging_strategy='steps',\n",
        "    logging_steps=20,\n",
        "    report_to='wandb',  # Log metrics and results to Weights & Biases platform\n",
        "    run_name= 'ner_exp1',  # Experiment name for Weights & Biases\n",
        ")\n"
      ]
    },
    {
      "cell_type": "markdown",
      "id": "J_hMcxgrFNyT",
      "metadata": {
        "id": "J_hMcxgrFNyT"
      },
      "source": [
        "##  <font color = 'indianred'> **Initialize Trainer**</font>"
      ]
    },
    {
      "cell_type": "code",
      "execution_count": null,
      "id": "syJ7458-On05",
      "metadata": {
        "id": "syJ7458-On05"
      },
      "outputs": [],
      "source": [
        "# initialize trainer\n",
        "trainer = Trainer(\n",
        "    model=model,\n",
        "    args=training_args,\n",
        "    train_dataset=tokenized_dataset[\"train\"],\n",
        "    eval_dataset=tokenized_dataset[\"val\"],\n",
        "    compute_metrics=compute_metrics,\n",
        "    tokenizer=tokenizer,\n",
        "    data_collator=data_collator,\n",
        ")\n"
      ]
    },
    {
      "cell_type": "markdown",
      "id": "ty027fT4DFGn",
      "metadata": {
        "id": "ty027fT4DFGn"
      },
      "source": [
        "##  <font color = 'indianred'> **Start Training**"
      ]
    },
    {
      "cell_type": "code",
      "source": [
        "#!pip install --upgrade transformers accelerate\n"
      ],
      "metadata": {
        "id": "xCeTuaVdsIrC"
      },
      "id": "xCeTuaVdsIrC",
      "execution_count": null,
      "outputs": []
    },
    {
      "cell_type": "code",
      "execution_count": null,
      "id": "WQj1TJRPMbJe",
      "metadata": {
        "colab": {
          "base_uri": "https://localhost:8080/"
        },
        "id": "WQj1TJRPMbJe",
        "outputId": "168463c0-8e63-4572-9da6-e17368b40226"
      },
      "outputs": [
        {
          "output_type": "execute_result",
          "data": {
            "text/plain": [
              "DataCollatorForTokenClassification(tokenizer=DistilBertTokenizerFast(name_or_path='distilbert-base-uncased', vocab_size=30522, model_max_length=512, is_fast=True, padding_side='right', truncation_side='right', special_tokens={'unk_token': '[UNK]', 'sep_token': '[SEP]', 'pad_token': '[PAD]', 'cls_token': '[CLS]', 'mask_token': '[MASK]'}, clean_up_tokenization_spaces=True),  added_tokens_decoder={\n",
              "\t0: AddedToken(\"[PAD]\", rstrip=False, lstrip=False, single_word=False, normalized=False, special=True),\n",
              "\t100: AddedToken(\"[UNK]\", rstrip=False, lstrip=False, single_word=False, normalized=False, special=True),\n",
              "\t101: AddedToken(\"[CLS]\", rstrip=False, lstrip=False, single_word=False, normalized=False, special=True),\n",
              "\t102: AddedToken(\"[SEP]\", rstrip=False, lstrip=False, single_word=False, normalized=False, special=True),\n",
              "\t103: AddedToken(\"[MASK]\", rstrip=False, lstrip=False, single_word=False, normalized=False, special=True),\n",
              "}, padding=True, max_length=None, pad_to_multiple_of=None, label_pad_token_id=-100, return_tensors='pt')"
            ]
          },
          "metadata": {},
          "execution_count": 42
        }
      ],
      "source": [
        "trainer.data_collator"
      ]
    },
    {
      "cell_type": "code",
      "execution_count": null,
      "id": "MHNSotl_CyW7",
      "metadata": {
        "colab": {
          "base_uri": "https://localhost:8080/",
          "height": 384
        },
        "id": "MHNSotl_CyW7",
        "outputId": "5e84cf8d-de2e-47e2-b408-a3d8dae85ae8"
      },
      "outputs": [
        {
          "output_type": "display_data",
          "data": {
            "text/plain": [
              "<IPython.core.display.HTML object>"
            ],
            "text/html": [
              "\n",
              "    <div>\n",
              "      \n",
              "      <progress value='158' max='158' style='width:300px; height:20px; vertical-align: middle;'></progress>\n",
              "      [158/158 02:31, Epoch 2/2]\n",
              "    </div>\n",
              "    <table border=\"1\" class=\"dataframe\">\n",
              "  <thead>\n",
              " <tr style=\"text-align: left;\">\n",
              "      <th>Step</th>\n",
              "      <th>Training Loss</th>\n",
              "      <th>Validation Loss</th>\n",
              "      <th>Precision</th>\n",
              "      <th>Recall</th>\n",
              "      <th>F1</th>\n",
              "      <th>Accuracy</th>\n",
              "    </tr>\n",
              "  </thead>\n",
              "  <tbody>\n",
              "    <tr>\n",
              "      <td>20</td>\n",
              "      <td>0.609000</td>\n",
              "      <td>0.440897</td>\n",
              "      <td>0.667961</td>\n",
              "      <td>0.383501</td>\n",
              "      <td>0.487252</td>\n",
              "      <td>0.867902</td>\n",
              "    </tr>\n",
              "    <tr>\n",
              "      <td>40</td>\n",
              "      <td>0.398800</td>\n",
              "      <td>0.306997</td>\n",
              "      <td>0.507396</td>\n",
              "      <td>0.573579</td>\n",
              "      <td>0.538462</td>\n",
              "      <td>0.913794</td>\n",
              "    </tr>\n",
              "    <tr>\n",
              "      <td>60</td>\n",
              "      <td>0.295800</td>\n",
              "      <td>0.234407</td>\n",
              "      <td>0.562376</td>\n",
              "      <td>0.633222</td>\n",
              "      <td>0.595700</td>\n",
              "      <td>0.931425</td>\n",
              "    </tr>\n",
              "    <tr>\n",
              "      <td>80</td>\n",
              "      <td>0.242000</td>\n",
              "      <td>0.189141</td>\n",
              "      <td>0.653904</td>\n",
              "      <td>0.723523</td>\n",
              "      <td>0.686954</td>\n",
              "      <td>0.946161</td>\n",
              "    </tr>\n",
              "    <tr>\n",
              "      <td>100</td>\n",
              "      <td>0.197100</td>\n",
              "      <td>0.162526</td>\n",
              "      <td>0.689690</td>\n",
              "      <td>0.756968</td>\n",
              "      <td>0.721765</td>\n",
              "      <td>0.953897</td>\n",
              "    </tr>\n",
              "    <tr>\n",
              "      <td>120</td>\n",
              "      <td>0.165300</td>\n",
              "      <td>0.145511</td>\n",
              "      <td>0.760904</td>\n",
              "      <td>0.807135</td>\n",
              "      <td>0.783338</td>\n",
              "      <td>0.958950</td>\n",
              "    </tr>\n",
              "    <tr>\n",
              "      <td>140</td>\n",
              "      <td>0.165600</td>\n",
              "      <td>0.138317</td>\n",
              "      <td>0.754531</td>\n",
              "      <td>0.812152</td>\n",
              "      <td>0.782282</td>\n",
              "      <td>0.960739</td>\n",
              "    </tr>\n",
              "  </tbody>\n",
              "</table><p>"
            ]
          },
          "metadata": {}
        },
        {
          "output_type": "stream",
          "name": "stderr",
          "text": [
            "/usr/local/lib/python3.10/dist-packages/seqeval/metrics/v1.py:57: UndefinedMetricWarning: Precision and F-score are ill-defined and being set to 0.0 in labels with no predicted samples. Use `zero_division` parameter to control this behavior.\n",
            "  _warn_prf(average, modifier, msg_start, len(result))\n"
          ]
        },
        {
          "output_type": "execute_result",
          "data": {
            "text/plain": [
              "TrainOutput(global_step=158, training_loss=0.2795973110802566, metrics={'train_runtime': 152.8142, 'train_samples_per_second': 65.439, 'train_steps_per_second': 1.034, 'total_flos': 148032364572288.0, 'train_loss': 0.2795973110802566, 'epoch': 2.0})"
            ]
          },
          "metadata": {},
          "execution_count": 43
        }
      ],
      "source": [
        "trainer.train()  # start training"
      ]
    },
    {
      "cell_type": "markdown",
      "id": "42c32c3f",
      "metadata": {
        "id": "42c32c3f"
      },
      "source": [
        "## <font color = 'indianred'> **Evaluation**\n"
      ]
    },
    {
      "cell_type": "markdown",
      "id": "ade3b145",
      "metadata": {
        "id": "ade3b145"
      },
      "source": [
        "### <font color = 'indianred'> **Check performance on validation set**</font>\n"
      ]
    },
    {
      "cell_type": "code",
      "execution_count": null,
      "id": "a44ccd78",
      "metadata": {
        "id": "a44ccd78",
        "colab": {
          "base_uri": "https://localhost:8080/",
          "height": 193
        },
        "outputId": "ba50b62d-1998-4537-bf5b-e93aab506d8a"
      },
      "outputs": [
        {
          "output_type": "display_data",
          "data": {
            "text/plain": [
              "<IPython.core.display.HTML object>"
            ],
            "text/html": [
              "\n",
              "    <div>\n",
              "      \n",
              "      <progress value='16' max='16' style='width:300px; height:20px; vertical-align: middle;'></progress>\n",
              "      [16/16 00:02]\n",
              "    </div>\n",
              "    "
            ]
          },
          "metadata": {}
        },
        {
          "output_type": "execute_result",
          "data": {
            "text/plain": [
              "{'eval_loss': 0.13831667602062225,\n",
              " 'eval_precision': 0.7545313309166235,\n",
              " 'eval_recall': 0.8121516164994426,\n",
              " 'eval_f1': 0.7822818791946309,\n",
              " 'eval_accuracy': 0.9607389084785012,\n",
              " 'eval_runtime': 5.155,\n",
              " 'eval_samples_per_second': 193.988,\n",
              " 'eval_steps_per_second': 3.104,\n",
              " 'epoch': 2.0}"
            ]
          },
          "metadata": {},
          "execution_count": 46
        }
      ],
      "source": [
        "# Evaluate the trained model on the tokenized validation dataset.\n",
        "# This will provide metrics like loss, accuracy, etc. based on the model's performance on the validation set.\n",
        "trainer.evaluate(tokenized_dataset[\"val\"])"
      ]
    },
    {
      "cell_type": "markdown",
      "id": "ad1672b2",
      "metadata": {
        "id": "ad1672b2"
      },
      "source": [
        "###  <font color = 'indianred'> **Check Confusion Matrix**</font>\n",
        "\n",
        "\n"
      ]
    },
    {
      "cell_type": "code",
      "execution_count": null,
      "id": "bacbb4f0",
      "metadata": {
        "id": "bacbb4f0",
        "colab": {
          "base_uri": "https://localhost:8080/",
          "height": 17
        },
        "outputId": "ce7c5336-1971-4cf5-bfa5-accf8921c188"
      },
      "outputs": [
        {
          "output_type": "display_data",
          "data": {
            "text/plain": [
              "<IPython.core.display.HTML object>"
            ],
            "text/html": []
          },
          "metadata": {}
        }
      ],
      "source": [
        "# Use the trainer to generate predictions on the tokenized validation dataset.\n",
        "# The resulting object, valid_output, will contain the model's logits (raw prediction scores) for each input in the validation set.\n",
        "val_out = trainer.predict(tokenized_dataset[\"val\"])\n",
        "val_pred = np.argmax(val_out.predictions, axis=2)\n",
        "val_lab = np.array(val_out.label_ids)\n",
        "mask = val_lab != -100\n",
        "filter_pred = val_pred[mask]\n",
        "filter_lab = val_lab[mask]"
      ]
    },
    {
      "cell_type": "code",
      "execution_count": null,
      "id": "82a8eaa0",
      "metadata": {
        "id": "82a8eaa0",
        "colab": {
          "base_uri": "https://localhost:8080/",
          "height": 595
        },
        "outputId": "694fcf06-839a-4c59-9502-e5e39f49025d"
      },
      "outputs": [
        {
          "output_type": "display_data",
          "data": {
            "text/plain": [
              "<Figure size 800x600 with 2 Axes>"
            ],
            "image/png": "[encoded data removed]"
          },
          "metadata": {}
        }
      ],
      "source": [
        "#  Generate the confusion matrix\n",
        "cm = confusion_matrix(filter_lab, filter_pred,normalize='true')\n",
        "\n",
        "# Plotting the confusion matrix\n",
        "plt.figure(figsize=(8, 6))\n",
        "ax= sns.heatmap(cm, annot=True, fmt=\".2f\", cmap=\"Blues\", xticklabels=class_names, yticklabels=class_names)\n",
        "# Ensure x-labels are vertical\n",
        "ax.set_xticklabels(ax.get_xticklabels(), rotation=45)\n",
        "\n",
        "# Ensure y-labels are horizontal\n",
        "ax.set_yticklabels(ax.get_yticklabels(), rotation=0)\n",
        "plt.xlabel('Predicted Labels')\n",
        "plt.ylabel('True Labels')\n",
        "plt.title('Confusion Matrix')\n",
        "plt.show()"
      ]
    },
    {
      "cell_type": "code",
      "execution_count": null,
      "id": "a61cd63e",
      "metadata": {
        "id": "a61cd63e"
      },
      "outputs": [],
      "source": [
        "# Log the confusion matrix to the Weights & Biases (Wandb) platform for monitoring and visualization.\n",
        "# This allows for tracking the model's classification performance across different runs or iterations.\n",
        "\n",
        "# log the Confusion Matrix to Wandb\n",
        "wandb.log({\n",
        "    \"conf_mat\": wandb.plot.confusion_matrix(\n",
        "        preds=filter_pred,        # Model's predicted class labels.\n",
        "        y_true=filter_lab,      # Actual labels from the validation set.\n",
        "        class_names=class_names   # Custom class names for display in the confusion matrix.\n",
        "    )\n",
        "})"
      ]
    },
    {
      "cell_type": "code",
      "execution_count": null,
      "id": "573785ef",
      "metadata": {
        "id": "573785ef",
        "colab": {
          "base_uri": "https://localhost:8080/",
          "height": 611,
          "referenced_widgets": [
            "7e81cb357c9a4d3e853a15ef31ad68e7",
            "d9f24063f34f49c5badaed53a888b3f9",
            "9c4ab078a0844a07b6eb4677b1e629b1",
            "0c0052b9f2ed4f9db6cb3dc0c4308005",
            "a698175c562443b5b39e9facc4398b79",
            "5c6e2e4e1053408d8adea3f99e814664",
            "7ca5e7bde63946528fa596116c18eb2b",
            "17bb1dd8e3774812b27e2015fa4d90fd"
          ]
        },
        "outputId": "f796a73d-995f-46f0-f3c8-83e178639c8a"
      },
      "outputs": [
        {
          "output_type": "display_data",
          "data": {
            "text/plain": [
              "<IPython.core.display.HTML object>"
            ],
            "text/html": [
              "Waiting for W&B process to finish... <strong style=\"color:green\">(success).</strong>"
            ]
          },
          "metadata": {}
        },
        {
          "output_type": "display_data",
          "data": {
            "text/plain": [
              "VBox(children=(Label(value='0.006 MB of 0.006 MB uploaded (0.000 MB deduped)\\r'), FloatProgress(value=1.0, max…"
            ],
            "application/vnd.jupyter.widget-view+json": {
              "version_major": 2,
              "version_minor": 0,
              "model_id": "7e81cb357c9a4d3e853a15ef31ad68e7"
            }
          },
          "metadata": {}
        },
        {
          "output_type": "display_data",
          "data": {
            "text/plain": [
              "<IPython.core.display.HTML object>"
            ],
            "text/html": [
              "<style>\n",
              "    table.wandb td:nth-child(1) { padding: 0 10px; text-align: left ; width: auto;} td:nth-child(2) {text-align: left ; width: 100%}\n",
              "    .wandb-row { display: flex; flex-direction: row; flex-wrap: wrap; justify-content: flex-start; width: 100% }\n",
              "    .wandb-col { display: flex; flex-direction: column; flex-basis: 100%; flex: 1; padding: 10px; }\n",
              "    </style>\n",
              "<div class=\"wandb-row\"><div class=\"wandb-col\"><h3>Run history:</h3><br/><table class=\"wandb\"><tr><td>eval/accuracy</td><td>▁▄▆▇▇████</td></tr><tr><td>eval/f1</td><td>▁▅▆▆▇▇███</td></tr><tr><td>eval/loss</td><td>█▄▃▂▂▁▁▁▁</td></tr><tr><td>eval/precision</td><td>▁▇▆▆▇▇███</td></tr><tr><td>eval/recall</td><td>▁▄▆▆▇████</td></tr><tr><td>eval/runtime</td><td>▄▄█▃▄▃▂▁▃</td></tr><tr><td>eval/samples_per_second</td><td>▃▃▁▄▃▅▆█▄</td></tr><tr><td>eval/steps_per_second</td><td>▃▃▁▄▃▅▆█▄</td></tr><tr><td>train/epoch</td><td>▁▁▁▂▂▃▃▄▄▅▅▆▆▇▇██</td></tr><tr><td>train/global_step</td><td>▁▁▁▂▂▃▃▄▄▅▅▆▆▇▇███</td></tr><tr><td>train/learning_rate</td><td>█▇▆▅▃▂▁</td></tr><tr><td>train/loss</td><td>█▅▃▂▂▁▁</td></tr><tr><td>train/total_flos</td><td>▁</td></tr><tr><td>train/train_loss</td><td>▁</td></tr><tr><td>train/train_runtime</td><td>▁</td></tr><tr><td>train/train_samples_per_second</td><td>▁</td></tr><tr><td>train/train_steps_per_second</td><td>▁</td></tr></table><br/></div><div class=\"wandb-col\"><h3>Run summary:</h3><br/><table class=\"wandb\"><tr><td>eval/accuracy</td><td>0.96074</td></tr><tr><td>eval/f1</td><td>0.78228</td></tr><tr><td>eval/loss</td><td>0.13832</td></tr><tr><td>eval/precision</td><td>0.75453</td></tr><tr><td>eval/recall</td><td>0.81215</td></tr><tr><td>eval/runtime</td><td>5.155</td></tr><tr><td>eval/samples_per_second</td><td>193.988</td></tr><tr><td>eval/steps_per_second</td><td>3.104</td></tr><tr><td>train/epoch</td><td>2.0</td></tr><tr><td>train/global_step</td><td>158</td></tr><tr><td>train/learning_rate</td><td>0.0</td></tr><tr><td>train/loss</td><td>0.1656</td></tr><tr><td>train/total_flos</td><td>148032364572288.0</td></tr><tr><td>train/train_loss</td><td>0.2796</td></tr><tr><td>train/train_runtime</td><td>152.8142</td></tr><tr><td>train/train_samples_per_second</td><td>65.439</td></tr><tr><td>train/train_steps_per_second</td><td>1.034</td></tr></table><br/></div></div>"
            ]
          },
          "metadata": {}
        },
        {
          "output_type": "display_data",
          "data": {
            "text/plain": [
              "<IPython.core.display.HTML object>"
            ],
            "text/html": [
              " View run <strong style=\"color:#cdcd00\">ner_exp1</strong> at: <a href='https://wandb.ai/anurag96/nlp_course_fall_2023-ner/runs/mim7lzuj' target=\"_blank\">https://wandb.ai/anurag96/nlp_course_fall_2023-ner/runs/mim7lzuj</a><br/>Synced 5 W&B file(s), 1 media file(s), 1 artifact file(s) and 0 other file(s)"
            ]
          },
          "metadata": {}
        },
        {
          "output_type": "display_data",
          "data": {
            "text/plain": [
              "<IPython.core.display.HTML object>"
            ],
            "text/html": [
              "Find logs at: <code>./wandb/run-20231101_210814-mim7lzuj/logs</code>"
            ]
          },
          "metadata": {}
        }
      ],
      "source": [
        "wandb.finish()"
      ]
    },
    {
      "cell_type": "markdown",
      "id": "ef42e718",
      "metadata": {
        "id": "ef42e718"
      },
      "source": [
        "### <font color = 'indianred'> **Check the best saved model**</font>\n"
      ]
    },
    {
      "cell_type": "code",
      "execution_count": null,
      "id": "42a722fd",
      "metadata": {
        "id": "42a722fd",
        "colab": {
          "base_uri": "https://localhost:8080/"
        },
        "outputId": "6d9e2a06-7cc2-47a9-c0df-ffadf7f7281d"
      },
      "outputs": [
        {
          "output_type": "stream",
          "name": "stdout",
          "text": [
            "The best model was saved at step 140.\n"
          ]
        }
      ],
      "source": [
        "# After training, let us check the best checkpoint\n",
        "# We need this for Predictions and Evaluations\n",
        "best_model_checkpoint_step = trainer.state.best_model_checkpoint.split('-')[-1]\n",
        "print(f\"The best model was saved at step {best_model_checkpoint_step}.\")"
      ]
    },
    {
      "cell_type": "markdown",
      "id": "d013dd3d-bcee-45d8-a371-80daebd910de",
      "metadata": {
        "id": "d013dd3d-bcee-45d8-a371-80daebd910de"
      },
      "source": [
        "#  <font color = 'indianred'> **Inference**"
      ]
    },
    {
      "cell_type": "markdown",
      "id": "6d83e325",
      "metadata": {
        "id": "6d83e325"
      },
      "source": [
        "##  <font color = 'indianred'> **Pipeline for Predictions**"
      ]
    },
    {
      "cell_type": "markdown",
      "id": "d78ff0e6",
      "metadata": {
        "id": "d78ff0e6"
      },
      "source": [
        "## <font color = 'indianred'> **Create pipelne for inference**"
      ]
    },
    {
      "cell_type": "code",
      "execution_count": null,
      "id": "bc8f787e",
      "metadata": {
        "id": "bc8f787e"
      },
      "outputs": [],
      "source": [
        "checkpoint = str(model_folder / \"checkpoint-120\")\n",
        "checkpoint\n",
        "# Create a text classification pipeline using the Hugging Face's pipeline method.\n",
        "# The pipeline is initialized with:\n",
        "# - The task set to \"text-classification\".\n",
        "# - Model and tokenizer both loaded from the specified checkpoint path.\n",
        "# - Execution set to the primary device (typically the first GPU).\n",
        "\n",
        "custom_pipeline = pipeline(\n",
        "    task=\"token-classification\",\n",
        "    model=checkpoint,\n",
        "    tokenizer=checkpoint,\n",
        "    device='cpu',\n",
        "    aggregation_strategy=\"simple\",\n",
        "    framework=\"pt\")\n"
      ]
    },
    {
      "cell_type": "markdown",
      "id": "a88a2ec4",
      "metadata": {
        "id": "a88a2ec4"
      },
      "source": [
        "## <font color = 'indianred'> **Prediction for large dataset**"
      ]
    },
    {
      "cell_type": "code",
      "execution_count": null,
      "id": "2a229397",
      "metadata": {
        "colab": {
          "base_uri": "https://localhost:8080/",
          "height": 49,
          "referenced_widgets": [
            "82835795c6014947a63ee02d0aaaf898",
            "0f9169f7779d4fc6ad0ffd036cc54980",
            "3e5149bc33db4367ba183997fa955ecd",
            "4e9522e5af50462f8a8e6963864ac15e",
            "4e4f32f9864545538612be96c0cdae6a",
            "76a5c87eaf3141e197a224292a35d58a",
            "f84f94327287483aa98bd939699661e7",
            "0679764063454d37b077e813063775a8",
            "b1acbe59ac0f4bf397aebd6847623165",
            "bd1898684afb415a81adce653f96eae0",
            "fa31363f146b4e0cac5e026c30dfbc62"
          ]
        },
        "id": "2a229397",
        "outputId": "5fa2201d-14b2-40a3-b5a8-c1493cd617a3"
      },
      "outputs": [
        {
          "output_type": "display_data",
          "data": {
            "text/plain": [
              "Map:   0%|          | 0/1000 [00:00<?, ? examples/s]"
            ],
            "application/vnd.jupyter.widget-view+json": {
              "version_major": 2,
              "version_minor": 0,
              "model_id": "82835795c6014947a63ee02d0aaaf898"
            }
          },
          "metadata": {}
        }
      ],
      "source": [
        "def preprocess_for_pipeline(example):\n",
        "    return {\"processed_text\": \" \".join(example['tokens'])}\n",
        "\n",
        "test_subset['test'] = test_subset['test'].map(preprocess_for_pipeline)"
      ]
    },
    {
      "cell_type": "code",
      "execution_count": null,
      "id": "94f519e3",
      "metadata": {
        "id": "94f519e3"
      },
      "outputs": [],
      "source": [
        "custom_pipeline = pipeline(\n",
        "    task=\"token-classification\",\n",
        "    model=checkpoint,\n",
        "    tokenizer=checkpoint,\n",
        "    device=0,\n",
        "    aggregation_strategy=\"simple\",\n",
        "    framework=\"pt\")\n",
        "\n",
        "predictions = custom_pipeline(test_subset['test']['processed_text'], batch_size=16)"
      ]
    },
    {
      "cell_type": "code",
      "execution_count": null,
      "id": "26997a19",
      "metadata": {
        "colab": {
          "base_uri": "https://localhost:8080/"
        },
        "id": "26997a19",
        "outputId": "bdb3a2c7-cb55-4388-b229-c9192ccaa300"
      },
      "outputs": [
        {
          "output_type": "execute_result",
          "data": {
            "text/plain": [
              "[[{'entity_group': 'PER',\n",
              "   'score': 0.90970343,\n",
              "   'word': 's. doull',\n",
              "   'start': 0,\n",
              "   'end': 8},\n",
              "  {'entity_group': 'PER',\n",
              "   'score': 0.88592875,\n",
              "   'word': 'm. wasim',\n",
              "   'start': 18,\n",
              "   'end': 26},\n",
              "  {'entity_group': 'PER',\n",
              "   'score': 0.8496542,\n",
              "   'word': 'waqar',\n",
              "   'start': 31,\n",
              "   'end': 36}],\n",
              " [{'entity_group': 'PER',\n",
              "   'score': 0.9597075,\n",
              "   'word': 'camilla martin',\n",
              "   'start': 0,\n",
              "   'end': 14},\n",
              "  {'entity_group': 'LOC',\n",
              "   'score': 0.90017176,\n",
              "   'word': 'denmark',\n",
              "   'start': 17,\n",
              "   'end': 24},\n",
              "  {'entity_group': 'PER',\n",
              "   'score': 0.9462771,\n",
              "   'word': 'wang chen',\n",
              "   'start': 32,\n",
              "   'end': 41},\n",
              "  {'entity_group': 'LOC',\n",
              "   'score': 0.9158159,\n",
              "   'word': 'china',\n",
              "   'start': 44,\n",
              "   'end': 49}],\n",
              " [{'entity_group': 'MISC',\n",
              "   'score': 0.543991,\n",
              "   'word': 'swiss',\n",
              "   'start': 0,\n",
              "   'end': 5},\n",
              "  {'entity_group': 'PER',\n",
              "   'score': 0.9605815,\n",
              "   'word': 'karin kuster',\n",
              "   'start': 59,\n",
              "   'end': 71},\n",
              "  {'entity_group': 'PER',\n",
              "   'score': 0.9581586,\n",
              "   'word': 'evelyne leu',\n",
              "   'start': 116,\n",
              "   'end': 127}],\n",
              " [{'entity_group': 'ORG',\n",
              "   'score': 0.85439855,\n",
              "   'word': 'montpellier',\n",
              "   'start': 0,\n",
              "   'end': 11}],\n",
              " [],\n",
              " [{'entity_group': 'ORG',\n",
              "   'score': 0.8350618,\n",
              "   'word': 'cambridge united',\n",
              "   'start': 0,\n",
              "   'end': 16},\n",
              "  {'entity_group': 'ORG',\n",
              "   'score': 0.78737086,\n",
              "   'word': 'woking',\n",
              "   'start': 19,\n",
              "   'end': 25}]]"
            ]
          },
          "metadata": {},
          "execution_count": 56
        }
      ],
      "source": [
        "predictions[1:7]"
      ]
    },
    {
      "cell_type": "markdown",
      "id": "e9bd4835",
      "metadata": {
        "id": "e9bd4835"
      },
      "source": [
        "##  <font color = 'indianred'> **Test Set Evaluations**"
      ]
    },
    {
      "cell_type": "code",
      "execution_count": null,
      "id": "e5904d33",
      "metadata": {
        "colab": {
          "base_uri": "https://localhost:8080/",
          "height": 49,
          "referenced_widgets": [
            "c0114a2cace948f9963dfaeb6c33477d",
            "73e7dd27241d492b834d8a18b5416acf",
            "bdeff636890b47fbad2c33e140f1a148",
            "4b9d03f03d1049b98a6376c2423d1005",
            "427c554520dd49c1aea638f980b52290",
            "91c4e56b40c24f27a53f84cab19d2084",
            "5f90d3f8a3e748278e432edde621804e",
            "bb7bfda43a2c4d2fb586d5e6aa882d76",
            "ed772db354a2493b9524c8e6fed1eddb",
            "2b674e01766c41238c7ee7532ea3cdb2",
            "c09c7f71b0174c9a91b60afce6684a7d"
          ]
        },
        "id": "e5904d33",
        "outputId": "c28ae43b-d7fe-46cd-b6f5-7ae325db8b9b"
      },
      "outputs": [
        {
          "output_type": "display_data",
          "data": {
            "text/plain": [
              "Map:   0%|          | 0/1000 [00:00<?, ? examples/s]"
            ],
            "application/vnd.jupyter.widget-view+json": {
              "version_major": 2,
              "version_minor": 0,
              "model_id": "c0114a2cace948f9963dfaeb6c33477d"
            }
          },
          "metadata": {}
        }
      ],
      "source": [
        "test_subset_tokenized = test_subset.map(tokenize_fn, batched=True)\n",
        "test_subset_tokenized = test_subset_tokenized.remove_columns(['tokens', 'ner_tags', 'pos_tags','chunk_tags', 'id', 'processed_text'])"
      ]
    },
    {
      "cell_type": "code",
      "execution_count": null,
      "id": "bd581447",
      "metadata": {
        "colab": {
          "base_uri": "https://localhost:8080/",
          "height": 37
        },
        "id": "bd581447",
        "outputId": "60aa1e66-5595-4323-d8e4-c5901679a86c"
      },
      "outputs": [
        {
          "output_type": "display_data",
          "data": {
            "text/plain": [
              "<IPython.core.display.HTML object>"
            ],
            "text/html": [
              "\n",
              "    <div>\n",
              "      \n",
              "      <progress value='50' max='50' style='width:300px; height:20px; vertical-align: middle;'></progress>\n",
              "      [50/50 00:01]\n",
              "    </div>\n",
              "    "
            ]
          },
          "metadata": {}
        }
      ],
      "source": [
        "# tokenizer = AutoTokenizer.from_pretrained(checkpoint)\n",
        "# model = AutoModelForTokenClassification.from_pretrained(checkpoint)\n",
        "\n",
        "training_args = TrainingArguments(\n",
        "    output_dir=\"./results\",\n",
        "    per_device_eval_batch_size = 20,  # adjust based on your GPU memory\n",
        "    do_train = False,\n",
        "    do_eval=True,\n",
        "    report_to=[]  # disable logging\n",
        ")\n",
        "\n",
        "trainer = Trainer(\n",
        "    model=model,\n",
        "    args=training_args,\n",
        "    eval_dataset=test_subset_tokenized['test'],  # Make sure this dataset is tokenized!\n",
        "    tokenizer=tokenizer,\n",
        "    data_collator=data_collator,\n",
        "    compute_metrics=compute_metrics,\n",
        ")\n",
        "\n",
        "results = trainer.evaluate()"
      ]
    },
    {
      "cell_type": "code",
      "execution_count": null,
      "id": "e9caa5b7",
      "metadata": {
        "colab": {
          "base_uri": "https://localhost:8080/"
        },
        "id": "e9caa5b7",
        "outputId": "2a154507-1958-47fa-c55b-5c813175b491"
      },
      "outputs": [
        {
          "output_type": "execute_result",
          "data": {
            "text/plain": [
              "{'eval_loss': 0.16403375566005707,\n",
              " 'eval_precision': 0.7300884955752213,\n",
              " 'eval_recall': 0.8068459657701712,\n",
              " 'eval_f1': 0.7665505226480837,\n",
              " 'eval_accuracy': 0.9538461538461539,\n",
              " 'eval_runtime': 2.0936,\n",
              " 'eval_samples_per_second': 477.65,\n",
              " 'eval_steps_per_second': 23.883}"
            ]
          },
          "metadata": {},
          "execution_count": 59
        }
      ],
      "source": [
        "results"
      ]
    },
    {
      "cell_type": "markdown",
      "source": [
        "##  <font color = 'indianred'> **Exp- 2: ALBERTA**"
      ],
      "metadata": {
        "id": "f69uKBa9jPGJ"
      },
      "id": "f69uKBa9jPGJ"
    },
    {
      "cell_type": "markdown",
      "metadata": {
        "id": "sClEEfwFwDTj"
      },
      "source": [
        "## <font color = 'indianred'> **Tokenization**</font>\n",
        "\n"
      ],
      "id": "sClEEfwFwDTj"
    },
    {
      "cell_type": "code",
      "source": [
        "from transformers import AlbertForTokenClassification, AlbertTokenizer"
      ],
      "metadata": {
        "id": "zG42kLKyxut6"
      },
      "id": "zG42kLKyxut6",
      "execution_count": null,
      "outputs": []
    },
    {
      "cell_type": "code",
      "execution_count": null,
      "metadata": {
        "execution": {
          "iopub.execute_input": "2022-12-23T23:14:07.903271Z",
          "iopub.status.busy": "2022-12-23T23:14:07.902958Z",
          "iopub.status.idle": "2022-12-23T23:14:07.955695Z",
          "shell.execute_reply": "2022-12-23T23:14:07.955154Z",
          "shell.execute_reply.started": "2022-12-23T23:14:07.903251Z"
        },
        "tags": [],
        "colab": {
          "base_uri": "https://localhost:8080/",
          "height": 113,
          "referenced_widgets": [
            "571035b1c10846abb95c278425b83c0e",
            "543540c73c88444ba7433c23732dfaae",
            "0f48d4ee0970449f8890e9c01eedad27",
            "db1d5a7fe98c4b748b507287ab7ef989",
            "f62a89afec08484a9ac2cf3c9e2e33c1",
            "c7330567e085420e9b945c86e5b02c05",
            "3601b5ead2bd47f98c60fcb3f1f870c8",
            "84038cfb4baa4e4f9f314ba3c518272a",
            "a292d1d28bc64bcaba915fe6a7ff7ddb",
            "1542fb9eb509459585f814e7e674765f",
            "0f5dcd367b1445568023d6465e9f9b4d",
            "86b3d71633394f0488513ee9659b8fdb",
            "ac24f8ef7b8a4e51888280011b91cb24",
            "00c0cc636700498db3afd3dff9e8e045",
            "68cedde266fe4680b23d0cd97a0e1363",
            "c905a298bf714b79ad352ab5014cf3c7",
            "e7c1412cc0dc411c8d08d673fafe86a7",
            "f923e832a30b4068969fefb62612e0bb",
            "4202c20ad8bd4b779a3cd5e5a2a1bc0d",
            "97175c5c1fff4902920c3a367c2ffa62",
            "695d44e65b024198b2d2566cd1d5eb48",
            "c45b7127df134e63954337a77829fbb6",
            "def6edb2504949b5817e54633b83fe78",
            "b6ac2938eac5428684b3c72239787264",
            "ec3c993bc3984817b99a4e314466ae84",
            "241293bc44b242e4aa6207aaeb28046c",
            "2e1e3a29e472439493b0939cec5d4842",
            "d4838e19d40548a9b575774321e7fa8b",
            "db8c9f161b62495493d2e60d0f6fc3fd",
            "eca452396b0149f582f3fa8bfae7df46",
            "c9d7836da5b54731827dcdaecf280684",
            "c1a8b8e5150248fe81137ed97d5941db",
            "3210f2cb48254f7a91024208da263cb6"
          ]
        },
        "id": "1J6qjFmMwDTw",
        "outputId": "f4c25bbc-ea8c-4af9-e3f5-45748ba096d2"
      },
      "outputs": [
        {
          "output_type": "display_data",
          "data": {
            "text/plain": [
              "Downloading (…)lve/main/config.json:   0%|          | 0.00/684 [00:00<?, ?B/s]"
            ],
            "application/vnd.jupyter.widget-view+json": {
              "version_major": 2,
              "version_minor": 0,
              "model_id": "571035b1c10846abb95c278425b83c0e"
            }
          },
          "metadata": {}
        },
        {
          "output_type": "display_data",
          "data": {
            "text/plain": [
              "Downloading (…)ve/main/spiece.model:   0%|          | 0.00/760k [00:00<?, ?B/s]"
            ],
            "application/vnd.jupyter.widget-view+json": {
              "version_major": 2,
              "version_minor": 0,
              "model_id": "86b3d71633394f0488513ee9659b8fdb"
            }
          },
          "metadata": {}
        },
        {
          "output_type": "display_data",
          "data": {
            "text/plain": [
              "Downloading (…)/main/tokenizer.json:   0%|          | 0.00/1.31M [00:00<?, ?B/s]"
            ],
            "application/vnd.jupyter.widget-view+json": {
              "version_major": 2,
              "version_minor": 0,
              "model_id": "def6edb2504949b5817e54633b83fe78"
            }
          },
          "metadata": {}
        }
      ],
      "source": [
        "# Define a checkpoint for the DistilBERT model with an uncased vocabulary.\n",
        "# Instantiate the tokenizer for this model using the specified checkpoint.\n",
        "checkpoint = \"albert-base-v2\"\n",
        "tokenizer = AutoTokenizer.from_pretrained(checkpoint)"
      ],
      "id": "1J6qjFmMwDTw"
    },
    {
      "cell_type": "code",
      "source": [
        "idx = 0\n",
        "encoded_text = tokenizer(train_val_subset['train']['tokens'][idx], is_split_into_words=True) ####### NEW ############\n",
        "tokens = tokenizer.convert_ids_to_tokens(encoded_text.input_ids)"
      ],
      "metadata": {
        "id": "QErT8cyswDTw"
      },
      "execution_count": null,
      "outputs": [],
      "id": "QErT8cyswDTw"
    },
    {
      "cell_type": "markdown",
      "metadata": {
        "id": "ZQ8hC8E6wDTx"
      },
      "source": [
        "###  <font color = 'indianred'> **Use map function to apply tokenization to all splits**"
      ],
      "id": "ZQ8hC8E6wDTx"
    },
    {
      "cell_type": "code",
      "execution_count": null,
      "metadata": {
        "colab": {
          "base_uri": "https://localhost:8080/",
          "height": 81,
          "referenced_widgets": [
            "7784c97312984a6d84b4bad164c3adf2",
            "562f9dac5b3143bc81577ed6af9d7c0e",
            "2071e8e09ce14df7947a0f6dcad8dc00",
            "a1dab49c199e4ef7a9f2a31395c1ae7b",
            "3252e70e645c4177b273aeb6badbdce7",
            "3a468f88040545be8191a0a10b8f7b68",
            "940bd42bf5194ce99c80f00a4dea3139",
            "c22d8fbd9da44e1fb62ebe0b883cc5d1",
            "b01ef32ac88a47a48c24c95c8de43ca7",
            "3ea922b8b37a4dc8b1553e964f64b6d1",
            "61056031b60943c6a18b4949bbb7ec53",
            "f16ee1f3a0f24967baaa1cb756ed3c45",
            "c2c65b5eaf9a45d4b8ba487722775f1f",
            "7b99097497e248028711deba979b556c",
            "2de78ff827114af5b8558ab274f4115e",
            "f65ffebc8eba4e6da28b0312ebfa0745",
            "5c1cdb777bd24548bd2056a53d11f817",
            "0374d4cacd694cc79642f6a9e790e1cf",
            "204c89e7b3c94e77955502895925ef70",
            "5398776ddf144a3e8a5c8fc0798694c7",
            "2264e23e7bd64848b09ff60b82baca31",
            "edb8dd574034421e86af702095e008da"
          ]
        },
        "execution": {
          "iopub.execute_input": "2022-12-23T23:14:13.918317Z",
          "iopub.status.busy": "2022-12-23T23:14:13.917908Z",
          "iopub.status.idle": "2022-12-23T23:14:15.785940Z",
          "shell.execute_reply": "2022-12-23T23:14:15.785447Z",
          "shell.execute_reply.started": "2022-12-23T23:14:13.918288Z"
        },
        "outputId": "383e4616-0479-4adc-e803-bae40c3ba3b6",
        "tags": [],
        "id": "tCbxFIc_wDTx"
      },
      "outputs": [
        {
          "output_type": "display_data",
          "data": {
            "text/plain": [
              "Map:   0%|          | 0/5000 [00:00<?, ? examples/s]"
            ],
            "application/vnd.jupyter.widget-view+json": {
              "version_major": 2,
              "version_minor": 0,
              "model_id": "7784c97312984a6d84b4bad164c3adf2"
            }
          },
          "metadata": {}
        },
        {
          "output_type": "display_data",
          "data": {
            "text/plain": [
              "Map:   0%|          | 0/1000 [00:00<?, ? examples/s]"
            ],
            "application/vnd.jupyter.widget-view+json": {
              "version_major": 2,
              "version_minor": 0,
              "model_id": "f16ee1f3a0f24967baaa1cb756ed3c45"
            }
          },
          "metadata": {}
        }
      ],
      "source": [
        "# Map the tokenize_fn function over the entire train_val_subset dataset in batches.\n",
        "# This will tokenize the text data in each batch and return a new dataset with tokenized data.\n",
        "tokenized_dataset_bert = train_val_subset.map(tokenize_fn, batched=True)\n",
        "tokenized_dataset_bert = tokenized_dataset_bert.remove_columns(['tokens', 'ner_tags', 'pos_tags','chunk_tags', 'id'])\n",
        "tokenized_dataset_bert.set_format(type='torch')"
      ],
      "id": "tCbxFIc_wDTx"
    },
    {
      "cell_type": "markdown",
      "metadata": {
        "id": "oBAQdk4TwDTx"
      },
      "source": [
        "#  <font color = 'indianred'> **Model Training**"
      ],
      "id": "oBAQdk4TwDTx"
    },
    {
      "cell_type": "code",
      "source": [
        "model = initialize_model(checkpoint, class_names)\n",
        "model.config"
      ],
      "metadata": {
        "colab": {
          "base_uri": "https://localhost:8080/",
          "height": 1021,
          "referenced_widgets": [
            "4626b235c5f743f2ac16f99d5c5040d1",
            "9376dc9f643642ba8bb64838db3119d0",
            "5ed874e00b2345dda60ee89c080bdf71",
            "d9a8a7d5cff84d6ea164c784718f2825",
            "66a920b28c1d4b2db42cef3cf3d07e9e",
            "2882c54fbd5e4650a8ea64fc26ec7cb5",
            "62a614f5da0846d3977b0693b2735ae6",
            "ff8fe1c90da74ff6bcfdb4ac10f094be",
            "25ebfb2c13964632badb8b455423e46e",
            "1dbbc303e6d247cc901763d97ee55e83",
            "0e049a9a4d004b36a36947eca24f578b"
          ]
        },
        "outputId": "334e756e-d5d8-4403-fe9e-2552ddf70143",
        "id": "W_2gSzUOwDTz"
      },
      "execution_count": null,
      "outputs": [
        {
          "output_type": "display_data",
          "data": {
            "text/plain": [
              "Downloading model.safetensors:   0%|          | 0.00/47.4M [00:00<?, ?B/s]"
            ],
            "application/vnd.jupyter.widget-view+json": {
              "version_major": 2,
              "version_minor": 0,
              "model_id": "4626b235c5f743f2ac16f99d5c5040d1"
            }
          },
          "metadata": {}
        },
        {
          "output_type": "stream",
          "name": "stderr",
          "text": [
            "Some weights of AlbertForTokenClassification were not initialized from the model checkpoint at albert-base-v2 and are newly initialized: ['classifier.bias', 'classifier.weight']\n",
            "You should probably TRAIN this model on a down-stream task to be able to use it for predictions and inference.\n"
          ]
        },
        {
          "output_type": "execute_result",
          "data": {
            "text/plain": [
              "AlbertConfig {\n",
              "  \"_name_or_path\": \"albert-base-v2\",\n",
              "  \"architectures\": [\n",
              "    \"AlbertForMaskedLM\"\n",
              "  ],\n",
              "  \"attention_probs_dropout_prob\": 0,\n",
              "  \"bos_token_id\": 2,\n",
              "  \"classifier_dropout_prob\": 0.1,\n",
              "  \"down_scale_factor\": 1,\n",
              "  \"embedding_size\": 128,\n",
              "  \"eos_token_id\": 3,\n",
              "  \"gap_size\": 0,\n",
              "  \"hidden_act\": \"gelu_new\",\n",
              "  \"hidden_dropout_prob\": 0,\n",
              "  \"hidden_size\": 768,\n",
              "  \"id2label\": {\n",
              "    \"0\": \"O\",\n",
              "    \"1\": \"B-PER\",\n",
              "    \"2\": \"I-PER\",\n",
              "    \"3\": \"B-ORG\",\n",
              "    \"4\": \"I-ORG\",\n",
              "    \"5\": \"B-LOC\",\n",
              "    \"6\": \"I-LOC\",\n",
              "    \"7\": \"B-MISC\",\n",
              "    \"8\": \"I-MISC\"\n",
              "  },\n",
              "  \"initializer_range\": 0.02,\n",
              "  \"inner_group_num\": 1,\n",
              "  \"intermediate_size\": 3072,\n",
              "  \"label2id\": {\n",
              "    \"B-LOC\": 5,\n",
              "    \"B-MISC\": 7,\n",
              "    \"B-ORG\": 3,\n",
              "    \"B-PER\": 1,\n",
              "    \"I-LOC\": 6,\n",
              "    \"I-MISC\": 8,\n",
              "    \"I-ORG\": 4,\n",
              "    \"I-PER\": 2,\n",
              "    \"O\": 0\n",
              "  },\n",
              "  \"layer_norm_eps\": 1e-12,\n",
              "  \"max_position_embeddings\": 512,\n",
              "  \"model_type\": \"albert\",\n",
              "  \"net_structure_type\": 0,\n",
              "  \"num_attention_heads\": 12,\n",
              "  \"num_hidden_groups\": 1,\n",
              "  \"num_hidden_layers\": 12,\n",
              "  \"num_memory_blocks\": 0,\n",
              "  \"pad_token_id\": 0,\n",
              "  \"position_embedding_type\": \"absolute\",\n",
              "  \"transformers_version\": \"4.34.1\",\n",
              "  \"type_vocab_size\": 2,\n",
              "  \"vocab_size\": 30000\n",
              "}"
            ]
          },
          "metadata": {},
          "execution_count": 64
        }
      ],
      "id": "W_2gSzUOwDTz"
    },
    {
      "cell_type": "markdown",
      "metadata": {
        "id": "ZJMgG56-wDTz"
      },
      "source": [
        "## <font color = 'indianred'> **Model Input/Collate Function** </font>"
      ],
      "id": "ZJMgG56-wDTz"
    },
    {
      "cell_type": "code",
      "execution_count": null,
      "metadata": {
        "colab": {
          "base_uri": "https://localhost:8080/"
        },
        "id": "5D49r6mmwDT0",
        "outputId": "9174ab38-b1b1-40cc-b807-0387d4c3fba0"
      },
      "outputs": [
        {
          "output_type": "stream",
          "name": "stderr",
          "text": [
            "You're using a AlbertTokenizerFast tokenizer. Please note that with a fast tokenizer, using the `__call__` method is faster than using a method to encode the text followed by a call to the `pad` method to get a padded encoding.\n"
          ]
        },
        {
          "output_type": "execute_result",
          "data": {
            "text/plain": [
              "dict_keys(['input_ids', 'token_type_ids', 'attention_mask', 'labels'])"
            ]
          },
          "metadata": {},
          "execution_count": 65
        }
      ],
      "source": [
        "data_collator = DataCollatorForTokenClassification(tokenizer = tokenizer, padding=True, label_pad_token_id=-100, return_tensors='pt')\n",
        "features = [tokenized_dataset_bert[\"train\"][i] for i in range(2)]\n",
        "model_input = data_collator(features)\n",
        "model_input.keys()"
      ],
      "id": "5D49r6mmwDT0"
    },
    {
      "cell_type": "markdown",
      "metadata": {
        "id": "n4oxyQmpwDT1"
      },
      "source": [
        "## <font color = 'indianred'> **Set up Logger for experiments**</font>"
      ],
      "id": "n4oxyQmpwDT1"
    },
    {
      "cell_type": "code",
      "execution_count": null,
      "metadata": {
        "id": "SLVLiav6wDT1"
      },
      "outputs": [],
      "source": [
        "# # YOU WILL NEED TO CREATE AN ACCOUNT FOR WANDB\n",
        "# # It may provide a link for token , copy paste the token following instructions\n",
        "# # setup wandb\n",
        "# wandb.init()\n",
        "# wandb.login()  # you will need to create wandb account first\n",
        "# # Set project name for logging\n",
        "# %env WANDB_PROJECT = nlp_course_fall_2023-ner"
      ],
      "id": "SLVLiav6wDT1"
    },
    {
      "cell_type": "markdown",
      "metadata": {
        "id": "t8mGRAwrwDT1"
      },
      "source": [
        "## <font color = 'indianred'> **Hyperparameters and Checkpointing**</font>"
      ],
      "id": "t8mGRAwrwDT1"
    },
    {
      "cell_type": "code",
      "execution_count": null,
      "metadata": {
        "id": "Zel1-zXJwDT1"
      },
      "outputs": [],
      "source": [
        "# Define the directory where model checkpoints will be saved\n",
        "model_folder = base_folder/\"Models\"\n",
        "# Create the directory if it doesn't exist\n",
        "model_folder.mkdir(exist_ok=True, parents=True)\n",
        "\n",
        "# Configure training parameters\n",
        "training_args = TrainingArguments(\n",
        "    # Training-specific configurations\n",
        "    num_train_epochs=2,  # Total number of training epochs\n",
        "    # Number of samples per training batch for each device\n",
        "    per_device_train_batch_size = 32,\n",
        "    # Number of samples per evaluation batch for each device\n",
        "    per_device_eval_batch_size = 32,\n",
        "    weight_decay=0.01,  # Apply L2 regularization to prevent overfitting\n",
        "    learning_rate=2e-5,  # Step size for the optimizer during training\n",
        "    optim='adamw_torch',  # Optimizer,\n",
        "\n",
        "    # Checkpoint saving and model evaluation settings\n",
        "    output_dir=str(model_folder),  # Directory to save model checkpoints\n",
        "    evaluation_strategy='steps',  # Evaluate model at specified step intervals\n",
        "    eval_steps=20,  # Perform evaluation every 10 training steps\n",
        "    save_strategy=\"steps\",  # Save model checkpoint at specified step intervals\n",
        "    save_steps=20,  # Save a model checkpoint every 10 training steps\n",
        "    load_best_model_at_end=True,  # Reload the best model at the end of training\n",
        "    save_total_limit=2,  # Retain only the best and the most recent model checkpoints\n",
        "    # Use 'accuracy' as the metric to determine the best model\n",
        "    metric_for_best_model=\"accuracy\",\n",
        "    greater_is_better=True,  # A model is 'better' if its accuracy is higher\n",
        "\n",
        "\n",
        "    # Experiment logging configurations (commented out in this example)\n",
        "    logging_strategy='steps',\n",
        "    logging_steps=20,\n",
        "    report_to='wandb',  # Log metrics and results to Weights & Biases platform\n",
        "    run_name= 'ner_exp1',  # Experiment name for Weights & Biases\n",
        ")\n"
      ],
      "id": "Zel1-zXJwDT1"
    },
    {
      "cell_type": "markdown",
      "metadata": {
        "id": "B8TUPoDMwDT1"
      },
      "source": [
        "##  <font color = 'indianred'> **Initialize Trainer**</font>"
      ],
      "id": "B8TUPoDMwDT1"
    },
    {
      "cell_type": "code",
      "execution_count": null,
      "metadata": {
        "id": "nakkttqrwDT1"
      },
      "outputs": [],
      "source": [
        "# initialize trainer\n",
        "trainer = Trainer(\n",
        "    model=model,\n",
        "    args=training_args,\n",
        "    train_dataset=tokenized_dataset_bert[\"train\"],\n",
        "    eval_dataset=tokenized_dataset_bert[\"val\"],\n",
        "    compute_metrics=compute_metrics,\n",
        "    tokenizer=tokenizer,\n",
        "    data_collator=data_collator,\n",
        ")"
      ],
      "id": "nakkttqrwDT1"
    },
    {
      "cell_type": "markdown",
      "metadata": {
        "id": "oxbOM4BPwDT1"
      },
      "source": [
        "##  <font color = 'indianred'> **Start Training**"
      ],
      "id": "oxbOM4BPwDT1"
    },
    {
      "cell_type": "code",
      "execution_count": null,
      "metadata": {
        "colab": {
          "base_uri": "https://localhost:8080/"
        },
        "outputId": "3106ab8a-bc6a-48bd-ad60-b01297dafc69",
        "id": "5dDCOq5DwDT1"
      },
      "outputs": [
        {
          "output_type": "execute_result",
          "data": {
            "text/plain": [
              "DataCollatorForTokenClassification(tokenizer=AlbertTokenizerFast(name_or_path='albert-base-v2', vocab_size=30000, model_max_length=512, is_fast=True, padding_side='right', truncation_side='right', special_tokens={'bos_token': '[CLS]', 'eos_token': '[SEP]', 'unk_token': '<unk>', 'sep_token': '[SEP]', 'pad_token': '<pad>', 'cls_token': '[CLS]', 'mask_token': '[MASK]'}, clean_up_tokenization_spaces=True),  added_tokens_decoder={\n",
              "\t0: AddedToken(\"<pad>\", rstrip=False, lstrip=False, single_word=False, normalized=False, special=True),\n",
              "\t1: AddedToken(\"<unk>\", rstrip=False, lstrip=False, single_word=False, normalized=False, special=True),\n",
              "\t2: AddedToken(\"[CLS]\", rstrip=False, lstrip=False, single_word=False, normalized=False, special=True),\n",
              "\t3: AddedToken(\"[SEP]\", rstrip=False, lstrip=False, single_word=False, normalized=False, special=True),\n",
              "\t4: AddedToken(\"[MASK]\", rstrip=False, lstrip=True, single_word=False, normalized=False, special=True),\n",
              "}, padding=True, max_length=None, pad_to_multiple_of=None, label_pad_token_id=-100, return_tensors='pt')"
            ]
          },
          "metadata": {},
          "execution_count": 69
        }
      ],
      "source": [
        "trainer.data_collator"
      ],
      "id": "5dDCOq5DwDT1"
    },
    {
      "cell_type": "code",
      "execution_count": null,
      "metadata": {
        "colab": {
          "base_uri": "https://localhost:8080/",
          "height": 685
        },
        "outputId": "9a7cdba6-eb8f-420b-a21e-08bb7c66638b",
        "id": "U1GfODHlwDT1"
      },
      "outputs": [
        {
          "output_type": "display_data",
          "data": {
            "text/plain": [
              "<IPython.core.display.HTML object>"
            ],
            "text/html": [
              "Changes to your `wandb` environment variables will be ignored because your `wandb` session has already started. For more information on how to modify your settings with `wandb.init()` arguments, please refer to <a href='https://wandb.me/wandb-init' target=\"_blank\">the W&B docs</a>."
            ]
          },
          "metadata": {}
        },
        {
          "output_type": "display_data",
          "data": {
            "text/plain": [
              "<IPython.core.display.HTML object>"
            ],
            "text/html": [
              "Tracking run with wandb version 0.15.12"
            ]
          },
          "metadata": {}
        },
        {
          "output_type": "display_data",
          "data": {
            "text/plain": [
              "<IPython.core.display.HTML object>"
            ],
            "text/html": [
              "Run data is saved locally in <code>/content/wandb/run-20231101_212729-ywhm1wvz</code>"
            ]
          },
          "metadata": {}
        },
        {
          "output_type": "display_data",
          "data": {
            "text/plain": [
              "<IPython.core.display.HTML object>"
            ],
            "text/html": [
              "Syncing run <strong><a href='https://wandb.ai/anurag96/nlp_course_fall_2023-ner/runs/ywhm1wvz' target=\"_blank\">ner_exp1</a></strong> to <a href='https://wandb.ai/anurag96/nlp_course_fall_2023-ner' target=\"_blank\">Weights & Biases</a> (<a href='https://wandb.me/run' target=\"_blank\">docs</a>)<br/>"
            ]
          },
          "metadata": {}
        },
        {
          "output_type": "display_data",
          "data": {
            "text/plain": [
              "<IPython.core.display.HTML object>"
            ],
            "text/html": [
              " View project at <a href='https://wandb.ai/anurag96/nlp_course_fall_2023-ner' target=\"_blank\">https://wandb.ai/anurag96/nlp_course_fall_2023-ner</a>"
            ]
          },
          "metadata": {}
        },
        {
          "output_type": "display_data",
          "data": {
            "text/plain": [
              "<IPython.core.display.HTML object>"
            ],
            "text/html": [
              " View run at <a href='https://wandb.ai/anurag96/nlp_course_fall_2023-ner/runs/ywhm1wvz' target=\"_blank\">https://wandb.ai/anurag96/nlp_course_fall_2023-ner/runs/ywhm1wvz</a>"
            ]
          },
          "metadata": {}
        },
        {
          "output_type": "display_data",
          "data": {
            "text/plain": [
              "<IPython.core.display.HTML object>"
            ],
            "text/html": [
              "\n",
              "    <div>\n",
              "      \n",
              "      <progress value='314' max='314' style='width:300px; height:20px; vertical-align: middle;'></progress>\n",
              "      [314/314 03:13, Epoch 2/2]\n",
              "    </div>\n",
              "    <table border=\"1\" class=\"dataframe\">\n",
              "  <thead>\n",
              " <tr style=\"text-align: left;\">\n",
              "      <th>Step</th>\n",
              "      <th>Training Loss</th>\n",
              "      <th>Validation Loss</th>\n",
              "      <th>Precision</th>\n",
              "      <th>Recall</th>\n",
              "      <th>F1</th>\n",
              "      <th>Accuracy</th>\n",
              "    </tr>\n",
              "  </thead>\n",
              "  <tbody>\n",
              "    <tr>\n",
              "      <td>20</td>\n",
              "      <td>0.873000</td>\n",
              "      <td>0.401161</td>\n",
              "      <td>0.407813</td>\n",
              "      <td>0.436455</td>\n",
              "      <td>0.421648</td>\n",
              "      <td>0.898338</td>\n",
              "    </tr>\n",
              "    <tr>\n",
              "      <td>40</td>\n",
              "      <td>0.315400</td>\n",
              "      <td>0.256254</td>\n",
              "      <td>0.609524</td>\n",
              "      <td>0.642140</td>\n",
              "      <td>0.625407</td>\n",
              "      <td>0.934197</td>\n",
              "    </tr>\n",
              "    <tr>\n",
              "      <td>60</td>\n",
              "      <td>0.210900</td>\n",
              "      <td>0.163096</td>\n",
              "      <td>0.744124</td>\n",
              "      <td>0.776477</td>\n",
              "      <td>0.759956</td>\n",
              "      <td>0.958791</td>\n",
              "    </tr>\n",
              "    <tr>\n",
              "      <td>80</td>\n",
              "      <td>0.189000</td>\n",
              "      <td>0.145443</td>\n",
              "      <td>0.774436</td>\n",
              "      <td>0.803790</td>\n",
              "      <td>0.788840</td>\n",
              "      <td>0.963578</td>\n",
              "    </tr>\n",
              "    <tr>\n",
              "      <td>100</td>\n",
              "      <td>0.148800</td>\n",
              "      <td>0.129446</td>\n",
              "      <td>0.803324</td>\n",
              "      <td>0.808250</td>\n",
              "      <td>0.805779</td>\n",
              "      <td>0.964001</td>\n",
              "    </tr>\n",
              "    <tr>\n",
              "      <td>120</td>\n",
              "      <td>0.135900</td>\n",
              "      <td>0.107705</td>\n",
              "      <td>0.831148</td>\n",
              "      <td>0.847826</td>\n",
              "      <td>0.839404</td>\n",
              "      <td>0.973951</td>\n",
              "    </tr>\n",
              "    <tr>\n",
              "      <td>140</td>\n",
              "      <td>0.142600</td>\n",
              "      <td>0.103888</td>\n",
              "      <td>0.828025</td>\n",
              "      <td>0.869565</td>\n",
              "      <td>0.848287</td>\n",
              "      <td>0.972637</td>\n",
              "    </tr>\n",
              "    <tr>\n",
              "      <td>160</td>\n",
              "      <td>0.096000</td>\n",
              "      <td>0.090123</td>\n",
              "      <td>0.834402</td>\n",
              "      <td>0.870680</td>\n",
              "      <td>0.852155</td>\n",
              "      <td>0.975265</td>\n",
              "    </tr>\n",
              "    <tr>\n",
              "      <td>180</td>\n",
              "      <td>0.083600</td>\n",
              "      <td>0.089110</td>\n",
              "      <td>0.842418</td>\n",
              "      <td>0.870123</td>\n",
              "      <td>0.856046</td>\n",
              "      <td>0.974233</td>\n",
              "    </tr>\n",
              "    <tr>\n",
              "      <td>200</td>\n",
              "      <td>0.076100</td>\n",
              "      <td>0.085150</td>\n",
              "      <td>0.856524</td>\n",
              "      <td>0.881828</td>\n",
              "      <td>0.868992</td>\n",
              "      <td>0.977190</td>\n",
              "    </tr>\n",
              "    <tr>\n",
              "      <td>220</td>\n",
              "      <td>0.067400</td>\n",
              "      <td>0.086864</td>\n",
              "      <td>0.853830</td>\n",
              "      <td>0.882386</td>\n",
              "      <td>0.867873</td>\n",
              "      <td>0.976532</td>\n",
              "    </tr>\n",
              "    <tr>\n",
              "      <td>240</td>\n",
              "      <td>0.088900</td>\n",
              "      <td>0.083725</td>\n",
              "      <td>0.860022</td>\n",
              "      <td>0.880156</td>\n",
              "      <td>0.869972</td>\n",
              "      <td>0.977143</td>\n",
              "    </tr>\n",
              "    <tr>\n",
              "      <td>260</td>\n",
              "      <td>0.085100</td>\n",
              "      <td>0.083051</td>\n",
              "      <td>0.841994</td>\n",
              "      <td>0.885173</td>\n",
              "      <td>0.863043</td>\n",
              "      <td>0.976251</td>\n",
              "    </tr>\n",
              "    <tr>\n",
              "      <td>280</td>\n",
              "      <td>0.081200</td>\n",
              "      <td>0.077123</td>\n",
              "      <td>0.851634</td>\n",
              "      <td>0.886288</td>\n",
              "      <td>0.868615</td>\n",
              "      <td>0.978175</td>\n",
              "    </tr>\n",
              "    <tr>\n",
              "      <td>300</td>\n",
              "      <td>0.082900</td>\n",
              "      <td>0.078089</td>\n",
              "      <td>0.856911</td>\n",
              "      <td>0.884615</td>\n",
              "      <td>0.870543</td>\n",
              "      <td>0.977847</td>\n",
              "    </tr>\n",
              "  </tbody>\n",
              "</table><p>"
            ]
          },
          "metadata": {}
        },
        {
          "output_type": "execute_result",
          "data": {
            "text/plain": [
              "TrainOutput(global_step=314, training_loss=0.17440855882729694, metrics={'train_runtime': 195.1554, 'train_samples_per_second': 51.241, 'train_steps_per_second': 1.609, 'total_flos': 24828005077392.0, 'train_loss': 0.17440855882729694, 'epoch': 2.0})"
            ]
          },
          "metadata": {},
          "execution_count": 70
        }
      ],
      "source": [
        "trainer.train()  # start training"
      ],
      "id": "U1GfODHlwDT1"
    },
    {
      "cell_type": "markdown",
      "metadata": {
        "id": "vEFyBGSywDT2"
      },
      "source": [
        "## <font color = 'indianred'> **Evaluation**\n"
      ],
      "id": "vEFyBGSywDT2"
    },
    {
      "cell_type": "markdown",
      "metadata": {
        "id": "mBesLaNQwDT2"
      },
      "source": [
        "### <font color = 'indianred'> **Check performance on validation set**</font>\n"
      ],
      "id": "mBesLaNQwDT2"
    },
    {
      "cell_type": "code",
      "execution_count": null,
      "metadata": {
        "colab": {
          "base_uri": "https://localhost:8080/",
          "height": 193
        },
        "id": "3Lrr3iq2wDT2",
        "outputId": "7b0006f3-d44b-4011-b62c-af83c72f8a0f"
      },
      "outputs": [
        {
          "output_type": "display_data",
          "data": {
            "text/plain": [
              "<IPython.core.display.HTML object>"
            ],
            "text/html": [
              "\n",
              "    <div>\n",
              "      \n",
              "      <progress value='32' max='32' style='width:300px; height:20px; vertical-align: middle;'></progress>\n",
              "      [32/32 00:04]\n",
              "    </div>\n",
              "    "
            ]
          },
          "metadata": {}
        },
        {
          "output_type": "execute_result",
          "data": {
            "text/plain": [
              "{'eval_loss': 0.07712288200855255,\n",
              " 'eval_precision': 0.8516336368505624,\n",
              " 'eval_recall': 0.8862876254180602,\n",
              " 'eval_f1': 0.8686151324774652,\n",
              " 'eval_accuracy': 0.978175161926218,\n",
              " 'eval_runtime': 5.1922,\n",
              " 'eval_samples_per_second': 192.598,\n",
              " 'eval_steps_per_second': 6.163,\n",
              " 'epoch': 2.0}"
            ]
          },
          "metadata": {},
          "execution_count": 71
        }
      ],
      "source": [
        "# Evaluate the trained model on the tokenized validation dataset.\n",
        "# This will provide metrics like loss, accuracy, etc. based on the model's performance on the validation set.\n",
        "trainer.evaluate(tokenized_dataset_bert[\"val\"])"
      ],
      "id": "3Lrr3iq2wDT2"
    },
    {
      "cell_type": "markdown",
      "metadata": {
        "id": "g_EypqkQwDT2"
      },
      "source": [
        "###  <font color = 'indianred'> **Check Confusion Matrix**</font>\n",
        "\n",
        "\n"
      ],
      "id": "g_EypqkQwDT2"
    },
    {
      "cell_type": "code",
      "execution_count": null,
      "metadata": {
        "colab": {
          "base_uri": "https://localhost:8080/",
          "height": 17
        },
        "id": "THCc7xOXwDT2",
        "outputId": "d1c9ec5d-32e5-43ea-c57a-3909d4cd2a8e"
      },
      "outputs": [
        {
          "output_type": "display_data",
          "data": {
            "text/plain": [
              "<IPython.core.display.HTML object>"
            ],
            "text/html": []
          },
          "metadata": {}
        }
      ],
      "source": [
        "# Use the trainer to generate predictions on the tokenized validation dataset.\n",
        "# The resulting object, valid_output, will contain the model's logits (raw prediction scores) for each input in the validation set.\n",
        "valid_output = trainer.predict(tokenized_dataset_bert[\"val\"])\n",
        "valid_predictions = np.argmax(valid_output.predictions, axis=2)\n",
        "valid_labels = np.array(valid_output.label_ids)\n",
        "mask = valid_labels != -100\n",
        "filtered_predictions = valid_predictions[mask]\n",
        "filtered_labels = valid_labels[mask]"
      ],
      "id": "THCc7xOXwDT2"
    },
    {
      "cell_type": "code",
      "execution_count": null,
      "metadata": {
        "colab": {
          "base_uri": "https://localhost:8080/",
          "height": 595
        },
        "id": "F_lipUkowDT2",
        "outputId": "1e3e4ab0-8863-48ff-82d5-5e0d7e9d7639"
      },
      "outputs": [
        {
          "output_type": "display_data",
          "data": {
            "text/plain": [
              "<Figure size 800x600 with 2 Axes>"
            ],
            "image/png": "[encoded data removed]"
          },
          "metadata": {}
        }
      ],
      "source": [
        "#  Generate the confusion matrix\n",
        "cm = confusion_matrix(filtered_labels, filtered_predictions,normalize='true')\n",
        "\n",
        "# Plotting the confusion matrix\n",
        "plt.figure(figsize=(8, 6))\n",
        "ax= sns.heatmap(cm, annot=True, fmt=\".2f\", cmap=\"Blues\", xticklabels=class_names, yticklabels=class_names)\n",
        "# Ensure x-labels are vertical\n",
        "ax.set_xticklabels(ax.get_xticklabels(), rotation=45)\n",
        "\n",
        "# Ensure y-labels are horizontal\n",
        "ax.set_yticklabels(ax.get_yticklabels(), rotation=0)\n",
        "plt.xlabel('Predicted Labels')\n",
        "plt.ylabel('True Labels')\n",
        "plt.title('Confusion Matrix')\n",
        "plt.show()"
      ],
      "id": "F_lipUkowDT2"
    },
    {
      "cell_type": "code",
      "execution_count": null,
      "metadata": {
        "id": "I_FnMyiJwDT2"
      },
      "outputs": [],
      "source": [
        "# Log the confusion matrix to the Weights & Biases (Wandb) platform for monitoring and visualization.\n",
        "# This allows for tracking the model's classification performance across different runs or iterations.\n",
        "\n",
        "# log the Confusion Matrix to Wandb\n",
        "wandb.log({\n",
        "    \"conf_mat\": wandb.plot.confusion_matrix(\n",
        "        preds=filtered_predictions,        # Model's predicted class labels.\n",
        "        y_true=filtered_labels,      # Actual labels from the validation set.\n",
        "        class_names=class_names   # Custom class names for display in the confusion matrix.\n",
        "    )\n",
        "})"
      ],
      "id": "I_FnMyiJwDT2"
    },
    {
      "cell_type": "code",
      "execution_count": null,
      "metadata": {
        "colab": {
          "base_uri": "https://localhost:8080/",
          "height": 547
        },
        "id": "o5B4E-DfwDT2",
        "outputId": "f60c14c7-428e-4401-9ac0-4af827a021d2"
      },
      "outputs": [
        {
          "output_type": "display_data",
          "data": {
            "text/plain": [
              "<IPython.core.display.HTML object>"
            ],
            "text/html": [
              "Waiting for W&B process to finish... <strong style=\"color:green\">(success).</strong>"
            ]
          },
          "metadata": {}
        },
        {
          "output_type": "display_data",
          "data": {
            "text/plain": [
              "<IPython.core.display.HTML object>"
            ],
            "text/html": [
              "<style>\n",
              "    table.wandb td:nth-child(1) { padding: 0 10px; text-align: left ; width: auto;} td:nth-child(2) {text-align: left ; width: 100%}\n",
              "    .wandb-row { display: flex; flex-direction: row; flex-wrap: wrap; justify-content: flex-start; width: 100% }\n",
              "    .wandb-col { display: flex; flex-direction: column; flex-basis: 100%; flex: 1; padding: 10px; }\n",
              "    </style>\n",
              "<div class=\"wandb-row\"><div class=\"wandb-col\"><h3>Run history:</h3><br/><table class=\"wandb\"><tr><td>eval/accuracy</td><td>▁▄▆▇▇███████████</td></tr><tr><td>eval/f1</td><td>▁▄▆▇▇███████████</td></tr><tr><td>eval/loss</td><td>█▅▃▂▂▂▂▁▁▁▁▁▁▁▁▁</td></tr><tr><td>eval/precision</td><td>▁▄▆▇▇███████████</td></tr><tr><td>eval/recall</td><td>▁▄▆▇▇▇██████████</td></tr><tr><td>eval/runtime</td><td>▄▃▅▇▁▄█▂▂▃▇▂▂▃▇▁</td></tr><tr><td>eval/samples_per_second</td><td>▅▆▄▂█▅▁▇▇▆▂▇▇▆▁█</td></tr><tr><td>eval/steps_per_second</td><td>▅▆▄▂█▅▁▇▇▆▂▇▇▆▁█</td></tr><tr><td>train/epoch</td><td>▁▁▁▁▂▂▂▂▃▃▃▃▄▄▄▄▅▅▅▅▆▆▆▆▇▇▇▇████</td></tr><tr><td>train/global_step</td><td>▁▁▁▁▂▂▂▂▃▃▃▃▄▄▄▄▅▅▅▅▆▆▆▆▇▇▇▇█████</td></tr><tr><td>train/learning_rate</td><td>██▇▇▆▆▅▅▄▄▃▃▂▂▁</td></tr><tr><td>train/loss</td><td>█▃▂▂▂▂▂▁▁▁▁▁▁▁▁</td></tr><tr><td>train/total_flos</td><td>▁</td></tr><tr><td>train/train_loss</td><td>▁</td></tr><tr><td>train/train_runtime</td><td>▁</td></tr><tr><td>train/train_samples_per_second</td><td>▁</td></tr><tr><td>train/train_steps_per_second</td><td>▁</td></tr></table><br/></div><div class=\"wandb-col\"><h3>Run summary:</h3><br/><table class=\"wandb\"><tr><td>eval/accuracy</td><td>0.97818</td></tr><tr><td>eval/f1</td><td>0.86862</td></tr><tr><td>eval/loss</td><td>0.07712</td></tr><tr><td>eval/precision</td><td>0.85163</td></tr><tr><td>eval/recall</td><td>0.88629</td></tr><tr><td>eval/runtime</td><td>5.1922</td></tr><tr><td>eval/samples_per_second</td><td>192.598</td></tr><tr><td>eval/steps_per_second</td><td>6.163</td></tr><tr><td>train/epoch</td><td>2.0</td></tr><tr><td>train/global_step</td><td>314</td></tr><tr><td>train/learning_rate</td><td>0.0</td></tr><tr><td>train/loss</td><td>0.0829</td></tr><tr><td>train/total_flos</td><td>24828005077392.0</td></tr><tr><td>train/train_loss</td><td>0.17441</td></tr><tr><td>train/train_runtime</td><td>195.1554</td></tr><tr><td>train/train_samples_per_second</td><td>51.241</td></tr><tr><td>train/train_steps_per_second</td><td>1.609</td></tr></table><br/></div></div>"
            ]
          },
          "metadata": {}
        },
        {
          "output_type": "display_data",
          "data": {
            "text/plain": [
              "<IPython.core.display.HTML object>"
            ],
            "text/html": [
              " View run <strong style=\"color:#cdcd00\">ner_exp1</strong> at: <a href='https://wandb.ai/anurag96/nlp_course_fall_2023-ner/runs/ywhm1wvz' target=\"_blank\">https://wandb.ai/anurag96/nlp_course_fall_2023-ner/runs/ywhm1wvz</a><br/>Synced 4 W&B file(s), 1 media file(s), 1 artifact file(s) and 0 other file(s)"
            ]
          },
          "metadata": {}
        },
        {
          "output_type": "display_data",
          "data": {
            "text/plain": [
              "<IPython.core.display.HTML object>"
            ],
            "text/html": [
              "Find logs at: <code>./wandb/run-20231101_212729-ywhm1wvz/logs</code>"
            ]
          },
          "metadata": {}
        }
      ],
      "source": [
        "wandb.finish()"
      ],
      "id": "o5B4E-DfwDT2"
    },
    {
      "cell_type": "markdown",
      "metadata": {
        "id": "ZAzZp3ACwDT2"
      },
      "source": [
        "### <font color = 'indianred'> **Check the best saved model**</font>\n"
      ],
      "id": "ZAzZp3ACwDT2"
    },
    {
      "cell_type": "code",
      "execution_count": null,
      "metadata": {
        "colab": {
          "base_uri": "https://localhost:8080/"
        },
        "id": "8Khs6sB8wDT2",
        "outputId": "14cb0513-1a1c-4f98-e0ca-567cbe950f86"
      },
      "outputs": [
        {
          "output_type": "stream",
          "name": "stdout",
          "text": [
            "The best model was saved at step 280.\n"
          ]
        }
      ],
      "source": [
        "# After training, let us check the best checkpoint\n",
        "# We need this for Predictions and Evaluations\n",
        "best_model_checkpoint_step = trainer.state.best_model_checkpoint.split('-')[-1]\n",
        "print(f\"The best model was saved at step {best_model_checkpoint_step}.\")"
      ],
      "id": "8Khs6sB8wDT2"
    },
    {
      "cell_type": "markdown",
      "metadata": {
        "id": "WrcLJ0DOwDT2"
      },
      "source": [
        "#  <font color = 'indianred'> **Inference**"
      ],
      "id": "WrcLJ0DOwDT2"
    },
    {
      "cell_type": "markdown",
      "metadata": {
        "id": "iQ1MJoGNwDT2"
      },
      "source": [
        "##  <font color = 'indianred'> **Pipeline for Predictions**"
      ],
      "id": "iQ1MJoGNwDT2"
    },
    {
      "cell_type": "markdown",
      "metadata": {
        "id": "mt38ErtDwDT2"
      },
      "source": [
        "## <font color = 'indianred'> **Create pipelne for inference**"
      ],
      "id": "mt38ErtDwDT2"
    },
    {
      "cell_type": "code",
      "execution_count": null,
      "metadata": {
        "id": "-wQgoqHEwDT2"
      },
      "outputs": [],
      "source": [
        "checkpoint = str(model_folder / \"checkpoint-280\")\n",
        "checkpoint\n",
        "# Create a text classification pipeline using the Hugging Face's pipeline method.\n",
        "# The pipeline is initialized with:\n",
        "# - The task set to \"text-classification\".\n",
        "# - Model and tokenizer both loaded from the specified checkpoint path.\n",
        "# - Execution set to the primary device (typically the first GPU).\n",
        "\n",
        "custom_pipeline = pipeline(\n",
        "    task=\"token-classification\",\n",
        "    model=checkpoint,\n",
        "    tokenizer=checkpoint,\n",
        "    device='cpu',\n",
        "    aggregation_strategy=\"simple\",\n",
        "    framework=\"pt\")"
      ],
      "id": "-wQgoqHEwDT2"
    },
    {
      "cell_type": "markdown",
      "metadata": {
        "id": "SShLCL4uwDT3"
      },
      "source": [
        "## <font color = 'indianred'> **Prediction for large dataset**"
      ],
      "id": "SShLCL4uwDT3"
    },
    {
      "cell_type": "code",
      "execution_count": null,
      "metadata": {
        "colab": {
          "base_uri": "https://localhost:8080/",
          "height": 49,
          "referenced_widgets": [
            "f8c18aa6a4624a19a37166b032c04991",
            "f1017fbb24564be69286c34a23b585d4",
            "d90a0ce815394e5e8cbfe02efb7d860e",
            "230ab0ac9b444dc4812ecad6b41cc21b",
            "37e18b47654e4bab9852ea021b087034",
            "5ae2b13838e54b8eaa5e45ccb07de7cb",
            "229c790ce5434844b824733e308d8141",
            "4cc1fef36c47459685b3ba96f9e85abe",
            "2de6b3eb121c4dba8d8550f4fb4f2017",
            "b516e5f908ff4cad9fc00b482dcaa15f",
            "04724b225f8740809c5f1b8b51d6e3f2"
          ]
        },
        "outputId": "d0fd2aad-ec03-40c8-8e5e-968333a2ca4f",
        "id": "SRJIehstwDT3"
      },
      "outputs": [
        {
          "output_type": "display_data",
          "data": {
            "text/plain": [
              "Map:   0%|          | 0/1000 [00:00<?, ? examples/s]"
            ],
            "application/vnd.jupyter.widget-view+json": {
              "version_major": 2,
              "version_minor": 0,
              "model_id": "f8c18aa6a4624a19a37166b032c04991"
            }
          },
          "metadata": {}
        }
      ],
      "source": [
        "test_subset['test'] = test_subset['test'].map(preprocess_for_pipeline)\n",
        "predictions = custom_pipeline(test_subset['test']['processed_text'], batch_size=16)"
      ],
      "id": "SRJIehstwDT3"
    },
    {
      "cell_type": "code",
      "execution_count": null,
      "metadata": {
        "colab": {
          "base_uri": "https://localhost:8080/"
        },
        "outputId": "777b8828-4de1-47da-ebed-15eea645d3a5",
        "id": "fYBQ4TVQwDT3"
      },
      "outputs": [
        {
          "output_type": "execute_result",
          "data": {
            "text/plain": [
              "[[{'entity_group': 'ORG',\n",
              "   'score': 0.97294563,\n",
              "   'word': 'hartford',\n",
              "   'start': 0,\n",
              "   'end': 8},\n",
              "  {'entity_group': 'ORG',\n",
              "   'score': 0.9694006,\n",
              "   'word': 'boston',\n",
              "   'start': 11,\n",
              "   'end': 17}],\n",
              " [{'entity_group': 'PER',\n",
              "   'score': 0.9719092,\n",
              "   'word': 's. doull',\n",
              "   'start': 0,\n",
              "   'end': 8},\n",
              "  {'entity_group': 'PER',\n",
              "   'score': 0.9068483,\n",
              "   'word': 'subs',\n",
              "   'start': 11,\n",
              "   'end': 15},\n",
              "  {'entity_group': 'PER',\n",
              "   'score': 0.98009205,\n",
              "   'word': 'm. wasim',\n",
              "   'start': 18,\n",
              "   'end': 26},\n",
              "  {'entity_group': 'ORG',\n",
              "   'score': 0.74675465,\n",
              "   'word': 'waqar',\n",
              "   'start': 31,\n",
              "   'end': 36}],\n",
              " [{'entity_group': 'PER',\n",
              "   'score': 0.98890793,\n",
              "   'word': 'camilla martin',\n",
              "   'start': 0,\n",
              "   'end': 14},\n",
              "  {'entity_group': 'LOC',\n",
              "   'score': 0.98990345,\n",
              "   'word': 'denmark',\n",
              "   'start': 17,\n",
              "   'end': 24},\n",
              "  {'entity_group': 'PER',\n",
              "   'score': 0.9865329,\n",
              "   'word': 'wang chen',\n",
              "   'start': 32,\n",
              "   'end': 41},\n",
              "  {'entity_group': 'LOC',\n",
              "   'score': 0.9913237,\n",
              "   'word': 'china',\n",
              "   'start': 44,\n",
              "   'end': 49}],\n",
              " [{'entity_group': 'MISC',\n",
              "   'score': 0.9579948,\n",
              "   'word': 'swiss',\n",
              "   'start': 0,\n",
              "   'end': 5},\n",
              "  {'entity_group': 'PER',\n",
              "   'score': 0.98644,\n",
              "   'word': 'karin kuster',\n",
              "   'start': 59,\n",
              "   'end': 71},\n",
              "  {'entity_group': 'PER',\n",
              "   'score': 0.98676866,\n",
              "   'word': 'evelyne leu',\n",
              "   'start': 116,\n",
              "   'end': 127}],\n",
              " [{'entity_group': 'ORG',\n",
              "   'score': 0.9712326,\n",
              "   'word': 'montpellier',\n",
              "   'start': 0,\n",
              "   'end': 11}]]"
            ]
          },
          "metadata": {},
          "execution_count": 80
        }
      ],
      "source": [
        "predictions[:5]"
      ],
      "id": "fYBQ4TVQwDT3"
    },
    {
      "cell_type": "markdown",
      "metadata": {
        "id": "tFU-8Xl0wDT3"
      },
      "source": [
        "##  <font color = 'indianred'> **Test Set Evaluations**"
      ],
      "id": "tFU-8Xl0wDT3"
    },
    {
      "cell_type": "code",
      "execution_count": null,
      "metadata": {
        "id": "Z-zV_ABJwDT3",
        "colab": {
          "base_uri": "https://localhost:8080/",
          "height": 49,
          "referenced_widgets": [
            "a7aaa2f0e4c64df09bd2dac4e6bbcd31",
            "3b6f4a6850164e349d50852ca0c2832d",
            "12914b8752eb44e3861c3ebc0a1c51fd",
            "c6edb258266d4523a0749a0ec958ae28",
            "22fef8e574464a4184c699772251113f",
            "960db72e1f0c4e6ebfee54f1df380232",
            "907feebe68b5479b853cb4225081dea2",
            "d2cc4707480c48598dda5a21a9d5cee6",
            "fa56b64a142445269d0107831b01a8f7",
            "2edcd2b54b114aee8884285dc26cff6c",
            "08844f388a684625817cbfdd0b45c3ea"
          ]
        },
        "outputId": "1049f8dd-7eaa-45b0-e966-fa04f333efcb"
      },
      "outputs": [
        {
          "output_type": "display_data",
          "data": {
            "text/plain": [
              "Map:   0%|          | 0/1000 [00:00<?, ? examples/s]"
            ],
            "application/vnd.jupyter.widget-view+json": {
              "version_major": 2,
              "version_minor": 0,
              "model_id": "a7aaa2f0e4c64df09bd2dac4e6bbcd31"
            }
          },
          "metadata": {}
        }
      ],
      "source": [
        "test_subset_tokenized = test_subset.map(tokenize_fn, batched=True)\n",
        "test_subset_tokenized = test_subset_tokenized.remove_columns(['tokens', 'ner_tags', 'pos_tags','chunk_tags', 'id', 'processed_text'])"
      ],
      "id": "Z-zV_ABJwDT3"
    },
    {
      "cell_type": "code",
      "execution_count": null,
      "metadata": {
        "colab": {
          "base_uri": "https://localhost:8080/",
          "height": 37
        },
        "outputId": "06c35550-fa38-4fa1-b8ce-aadb0f44c735",
        "id": "cGBX--2dwDT3"
      },
      "outputs": [
        {
          "output_type": "display_data",
          "data": {
            "text/plain": [
              "<IPython.core.display.HTML object>"
            ],
            "text/html": [
              "\n",
              "    <div>\n",
              "      \n",
              "      <progress value='50' max='50' style='width:300px; height:20px; vertical-align: middle;'></progress>\n",
              "      [50/50 00:03]\n",
              "    </div>\n",
              "    "
            ]
          },
          "metadata": {}
        }
      ],
      "source": [
        "training_args = TrainingArguments(\n",
        "    output_dir=\"./results\",\n",
        "    per_device_eval_batch_size = 20,  # adjust based on your GPU memory\n",
        "    do_train = False,\n",
        "    do_eval=True,\n",
        "    report_to=[]  # disable logging\n",
        ")\n",
        "\n",
        "trainer = Trainer(\n",
        "    model=model,\n",
        "    args=training_args,\n",
        "    eval_dataset=test_subset_tokenized['test'],  # Make sure this dataset is tokenized!\n",
        "    tokenizer=tokenizer,\n",
        "    data_collator=data_collator,\n",
        "    compute_metrics=compute_metrics,\n",
        ")\n",
        "\n",
        "results = trainer.evaluate()"
      ],
      "id": "cGBX--2dwDT3"
    },
    {
      "cell_type": "code",
      "execution_count": null,
      "metadata": {
        "colab": {
          "base_uri": "https://localhost:8080/"
        },
        "outputId": "8183226a-f86b-46bc-ef21-2edbb07c5318",
        "id": "NbppugX3wDT3"
      },
      "outputs": [
        {
          "output_type": "execute_result",
          "data": {
            "text/plain": [
              "{'eval_loss': 0.11327874660491943,\n",
              " 'eval_precision': 0.8158803222094362,\n",
              " 'eval_recall': 0.8667481662591687,\n",
              " 'eval_f1': 0.8405453467694132,\n",
              " 'eval_accuracy': 0.9666036206430695,\n",
              " 'eval_runtime': 4.8055,\n",
              " 'eval_samples_per_second': 208.096,\n",
              " 'eval_steps_per_second': 10.405}"
            ]
          },
          "metadata": {},
          "execution_count": 83
        }
      ],
      "source": [
        "results"
      ],
      "id": "NbppugX3wDT3"
    },
    {
      "cell_type": "markdown",
      "source": [
        "##  <font color = 'indianred'> **Exp- 3: ELECTRA**"
      ],
      "metadata": {
        "id": "wjo2em1EwDT4"
      },
      "id": "wjo2em1EwDT4"
    },
    {
      "cell_type": "code",
      "source": [
        "from transformers import ElectraForTokenClassification, ElectraTokenizer"
      ],
      "metadata": {
        "id": "Y_I9NVIh2vcK"
      },
      "id": "Y_I9NVIh2vcK",
      "execution_count": null,
      "outputs": []
    },
    {
      "cell_type": "code",
      "execution_count": null,
      "metadata": {
        "execution": {
          "iopub.execute_input": "2022-12-23T23:14:07.903271Z",
          "iopub.status.busy": "2022-12-23T23:14:07.902958Z",
          "iopub.status.idle": "2022-12-23T23:14:07.955695Z",
          "shell.execute_reply": "2022-12-23T23:14:07.955154Z",
          "shell.execute_reply.started": "2022-12-23T23:14:07.903251Z"
        },
        "tags": [],
        "id": "Tpfl2LoT2iQM",
        "colab": {
          "base_uri": "https://localhost:8080/",
          "height": 145,
          "referenced_widgets": [
            "506b63d987e548919ede9d4669db0747",
            "a32eb215f436481ab639b28c6a59264f",
            "6668740fee6745f9ab91fa5468ccb527",
            "09bc23fc68bd41efa5d9ba130307c63d",
            "be7ae42824704dcea9bf2535a8a62e3f",
            "1d4579828a514aedbff0a470b03902c8",
            "46776a72639b45e79989f5ef74f17c77",
            "81e9532671e24bc889ae8c1b18d5dc01",
            "9e61c9c2f54f4b4e87a8d849f0144c51",
            "c9a2f15dc3d649c0b84bcd359871c1fd",
            "995dccfcbc9b4dac87ff7531c9588176",
            "fc3fb89fd17a452a97a5ccd272c22dce",
            "e277d3f1ae2b40a983f11059948bb6d6",
            "103e9e9fafb44710b2ea5d32e95646b0",
            "b31151c7ae3c403bb056e145d23362f1",
            "845e91b443ce45b8b29110fd63898ba1",
            "12819cd50d97473691bf996b927a7890",
            "e058b792aa254441a259e9bfff30cc63",
            "24335ff3087f46748a7fb44b792e8193",
            "3761dc4dffc14ade898bfe1c3858ef41",
            "288621029cd143f48a823104114d7bd8",
            "4e8feb76449146eb871d55de658bfc67",
            "a2cbe651397641b1b533544712005a85",
            "b279df2471b6419f9cec31c63a3814b6",
            "952dbd3f97934b8d81ef539e6c077e40",
            "683cbc9570104dd6a5834057ce9f6827",
            "c8e0e6472bc743228f07786894593438",
            "1349c80e2d9343a680bbe72ef2dcbc53",
            "64da63871cab47599f7b375b47486a04",
            "38932a268d6c4eb69fbee90af99bd3e2",
            "2e73d945260f4c4291a17c48da075a51",
            "3ee4939ac11d478baf44de78cddafd72",
            "eba092c6987844f5b7acb0d80a4d799f",
            "87dba8d2bd4549a496f131807e254cc4",
            "1b5a76004ebf48fa940b4ce6dd5a66c2",
            "6b2097a060ff440686f84a28d493021c",
            "d6929d8155884138b6f18a537a63b64e",
            "1b906f983edb4fecaf087b53969a1399",
            "d41d17f6685e43e98951f24715f650bf",
            "33f42f60bb464d439afe1426e725aa7c",
            "8f5481677d4944e8b1bb7e98ada4fcfe",
            "dba481ae674c4711a266c8dcc99359ae",
            "754f9f56bc5b4a43ab518ea8664a4434",
            "4d38fdb1380a442fac5ce5b40e0a6a3e"
          ]
        },
        "outputId": "74a50965-26bc-42a9-8d0e-f8b02f2dbc2a"
      },
      "outputs": [
        {
          "output_type": "display_data",
          "data": {
            "text/plain": [
              "Downloading (…)okenizer_config.json:   0%|          | 0.00/27.0 [00:00<?, ?B/s]"
            ],
            "application/vnd.jupyter.widget-view+json": {
              "version_major": 2,
              "version_minor": 0,
              "model_id": "506b63d987e548919ede9d4669db0747"
            }
          },
          "metadata": {}
        },
        {
          "output_type": "display_data",
          "data": {
            "text/plain": [
              "Downloading (…)lve/main/config.json:   0%|          | 0.00/666 [00:00<?, ?B/s]"
            ],
            "application/vnd.jupyter.widget-view+json": {
              "version_major": 2,
              "version_minor": 0,
              "model_id": "fc3fb89fd17a452a97a5ccd272c22dce"
            }
          },
          "metadata": {}
        },
        {
          "output_type": "display_data",
          "data": {
            "text/plain": [
              "Downloading (…)solve/main/vocab.txt:   0%|          | 0.00/232k [00:00<?, ?B/s]"
            ],
            "application/vnd.jupyter.widget-view+json": {
              "version_major": 2,
              "version_minor": 0,
              "model_id": "a2cbe651397641b1b533544712005a85"
            }
          },
          "metadata": {}
        },
        {
          "output_type": "display_data",
          "data": {
            "text/plain": [
              "Downloading (…)/main/tokenizer.json:   0%|          | 0.00/466k [00:00<?, ?B/s]"
            ],
            "application/vnd.jupyter.widget-view+json": {
              "version_major": 2,
              "version_minor": 0,
              "model_id": "87dba8d2bd4549a496f131807e254cc4"
            }
          },
          "metadata": {}
        }
      ],
      "source": [
        "# Define a checkpoint for the DistilBERT model with an uncased vocabulary.\n",
        "# Instantiate the tokenizer for this model using the specified checkpoint.\n",
        "checkpoint = \"google/electra-base-discriminator\"\n",
        "tokenizer = AutoTokenizer.from_pretrained(checkpoint, add_prefix_space=True)"
      ],
      "id": "Tpfl2LoT2iQM"
    },
    {
      "cell_type": "code",
      "source": [
        "idx = 0\n",
        "encoded_text = tokenizer(train_val_subset['train']['tokens'][idx], is_split_into_words=True) ####### NEW ############\n",
        "tokens = tokenizer.convert_ids_to_tokens(encoded_text.input_ids)"
      ],
      "metadata": {
        "id": "XFbKESO62iQN"
      },
      "execution_count": null,
      "outputs": [],
      "id": "XFbKESO62iQN"
    },
    {
      "cell_type": "markdown",
      "metadata": {
        "id": "NUJJeuc82iQN"
      },
      "source": [
        "###  <font color = 'indianred'> **Use map function to apply tokenization to all splits**"
      ],
      "id": "NUJJeuc82iQN"
    },
    {
      "cell_type": "code",
      "execution_count": null,
      "metadata": {
        "colab": {
          "base_uri": "https://localhost:8080/",
          "height": 81,
          "referenced_widgets": [
            "4893654c564541899e94a8cb8e95c041",
            "7d2065722bdc45d9b47c007b1dcd2f43",
            "9eb4390c50554047884c226a3523adcd",
            "acef8214d9ed42d7b6f800cd22ec1351",
            "653738f0bfc346be8543da07b5f548c3",
            "db7344d4fb6f486896533b4a394053e0",
            "ae95c2b336b64ec798e4652809106c12",
            "d4ab92b0037f415bb8078ad6a73c471a",
            "82f60f53c1d149408d49ed8b9959e623",
            "0de9167a099e44bda28d938210ee61a8",
            "339dcacab05d4747ac117dc9c8749402",
            "c0036299ac2d4630b373ae8b21ce444d",
            "9544fecc93e1428cb93badca224706f5",
            "e70f1cc001464d64a3e9abfe35170723",
            "b3bcb3a63438475e8fccd274f9daf880",
            "c5115270240d4b1e8e352e3d61d39fc6",
            "bbcec3a0c3a64bd0b6e8adef1c382206",
            "24e9b151bb0b438aa4e74fbe52a70189",
            "77133c101b1b4394bac581e387a64de7",
            "32bec571ebb54a5ea4c93c94879a2089",
            "b8bf60eadd7d4b89a173a745e2da08dd",
            "c933736fbecf40209f9d778ac061427f"
          ]
        },
        "execution": {
          "iopub.execute_input": "2022-12-23T23:14:13.918317Z",
          "iopub.status.busy": "2022-12-23T23:14:13.917908Z",
          "iopub.status.idle": "2022-12-23T23:14:15.785940Z",
          "shell.execute_reply": "2022-12-23T23:14:15.785447Z",
          "shell.execute_reply.started": "2022-12-23T23:14:13.918288Z"
        },
        "outputId": "dba39d38-3b29-4123-80a5-8e1fdd9b111d",
        "tags": [],
        "id": "j8ajEfJH2iQO"
      },
      "outputs": [
        {
          "output_type": "display_data",
          "data": {
            "text/plain": [
              "Map:   0%|          | 0/5000 [00:00<?, ? examples/s]"
            ],
            "application/vnd.jupyter.widget-view+json": {
              "version_major": 2,
              "version_minor": 0,
              "model_id": "4893654c564541899e94a8cb8e95c041"
            }
          },
          "metadata": {}
        },
        {
          "output_type": "display_data",
          "data": {
            "text/plain": [
              "Map:   0%|          | 0/1000 [00:00<?, ? examples/s]"
            ],
            "application/vnd.jupyter.widget-view+json": {
              "version_major": 2,
              "version_minor": 0,
              "model_id": "c0036299ac2d4630b373ae8b21ce444d"
            }
          },
          "metadata": {}
        }
      ],
      "source": [
        "# Map the tokenize_fn function over the entire train_val_subset dataset in batches.\n",
        "# This will tokenize the text data in each batch and return a new dataset with tokenized data.\n",
        "tokenized_dataset_roberta = train_val_subset.map(tokenize_fn, batched=True)\n",
        "tokenized_dataset_roberta = tokenized_dataset_roberta.remove_columns(['tokens', 'ner_tags', 'pos_tags','chunk_tags', 'id'])\n",
        "tokenized_dataset_roberta.set_format(type='torch')"
      ],
      "id": "j8ajEfJH2iQO"
    },
    {
      "cell_type": "markdown",
      "metadata": {
        "id": "z5NxuSA72iQO"
      },
      "source": [
        "#  <font color = 'indianred'> **Model Training**"
      ],
      "id": "z5NxuSA72iQO"
    },
    {
      "cell_type": "markdown",
      "source": [],
      "metadata": {
        "id": "ZCXLCEcm5JK-"
      },
      "id": "ZCXLCEcm5JK-"
    },
    {
      "cell_type": "code",
      "source": [
        "model = initialize_model(checkpoint, class_names)\n",
        "model.config"
      ],
      "metadata": {
        "colab": {
          "base_uri": "https://localhost:8080/",
          "height": 969,
          "referenced_widgets": [
            "7928d35e1e984603a17fdcf137cbd27a",
            "8e7b1017b07b4574a57cb5faebd681d0",
            "50a2333d136141459a79d7acdc443339",
            "612aa8a8b6eb4ebead8659f4667eae5b",
            "5a177106205443f3819f4aa6101448ee",
            "6fc600a84e5e4bc9ae2c14ea77c93700",
            "5fbd6d4fb218456c8a9d57a3f67ab63e",
            "32aa88d56850428ab62fcf1f310b0fe0",
            "cddf869fdc7a4b328ea0a30bb448c847",
            "bd393388e82b4ce7a98b1f444276f42c",
            "abe87de153cf49a29f4c91ea1daff56c"
          ]
        },
        "outputId": "8b587aec-6c6b-4687-b7ed-de837c60e6e6",
        "id": "4OKNuFo22iQO"
      },
      "execution_count": null,
      "outputs": [
        {
          "output_type": "display_data",
          "data": {
            "text/plain": [
              "Downloading pytorch_model.bin:   0%|          | 0.00/440M [00:00<?, ?B/s]"
            ],
            "application/vnd.jupyter.widget-view+json": {
              "version_major": 2,
              "version_minor": 0,
              "model_id": "7928d35e1e984603a17fdcf137cbd27a"
            }
          },
          "metadata": {}
        },
        {
          "output_type": "stream",
          "name": "stderr",
          "text": [
            "Some weights of ElectraForTokenClassification were not initialized from the model checkpoint at google/electra-base-discriminator and are newly initialized: ['classifier.bias', 'classifier.weight']\n",
            "You should probably TRAIN this model on a down-stream task to be able to use it for predictions and inference.\n"
          ]
        },
        {
          "output_type": "execute_result",
          "data": {
            "text/plain": [
              "ElectraConfig {\n",
              "  \"_name_or_path\": \"google/electra-base-discriminator\",\n",
              "  \"architectures\": [\n",
              "    \"ElectraForPreTraining\"\n",
              "  ],\n",
              "  \"attention_probs_dropout_prob\": 0.1,\n",
              "  \"classifier_dropout\": null,\n",
              "  \"embedding_size\": 768,\n",
              "  \"hidden_act\": \"gelu\",\n",
              "  \"hidden_dropout_prob\": 0.1,\n",
              "  \"hidden_size\": 768,\n",
              "  \"id2label\": {\n",
              "    \"0\": \"O\",\n",
              "    \"1\": \"B-PER\",\n",
              "    \"2\": \"I-PER\",\n",
              "    \"3\": \"B-ORG\",\n",
              "    \"4\": \"I-ORG\",\n",
              "    \"5\": \"B-LOC\",\n",
              "    \"6\": \"I-LOC\",\n",
              "    \"7\": \"B-MISC\",\n",
              "    \"8\": \"I-MISC\"\n",
              "  },\n",
              "  \"initializer_range\": 0.02,\n",
              "  \"intermediate_size\": 3072,\n",
              "  \"label2id\": {\n",
              "    \"B-LOC\": 5,\n",
              "    \"B-MISC\": 7,\n",
              "    \"B-ORG\": 3,\n",
              "    \"B-PER\": 1,\n",
              "    \"I-LOC\": 6,\n",
              "    \"I-MISC\": 8,\n",
              "    \"I-ORG\": 4,\n",
              "    \"I-PER\": 2,\n",
              "    \"O\": 0\n",
              "  },\n",
              "  \"layer_norm_eps\": 1e-12,\n",
              "  \"max_position_embeddings\": 512,\n",
              "  \"model_type\": \"electra\",\n",
              "  \"num_attention_heads\": 12,\n",
              "  \"num_hidden_layers\": 12,\n",
              "  \"pad_token_id\": 0,\n",
              "  \"position_embedding_type\": \"absolute\",\n",
              "  \"summary_activation\": \"gelu\",\n",
              "  \"summary_last_dropout\": 0.1,\n",
              "  \"summary_type\": \"first\",\n",
              "  \"summary_use_proj\": true,\n",
              "  \"transformers_version\": \"4.34.1\",\n",
              "  \"type_vocab_size\": 2,\n",
              "  \"use_cache\": true,\n",
              "  \"vocab_size\": 30522\n",
              "}"
            ]
          },
          "metadata": {},
          "execution_count": 88
        }
      ],
      "id": "4OKNuFo22iQO"
    },
    {
      "cell_type": "markdown",
      "metadata": {
        "id": "5JV3flcx2iQP"
      },
      "source": [
        "## <font color = 'indianred'> **Model Input/Collate Function** </font>"
      ],
      "id": "5JV3flcx2iQP"
    },
    {
      "cell_type": "code",
      "execution_count": null,
      "metadata": {
        "colab": {
          "base_uri": "https://localhost:8080/"
        },
        "outputId": "7b0140be-7c2c-4e27-86c8-af225e54ca1b",
        "id": "B59SP78R2iQP"
      },
      "outputs": [
        {
          "output_type": "stream",
          "name": "stderr",
          "text": [
            "You're using a ElectraTokenizerFast tokenizer. Please note that with a fast tokenizer, using the `__call__` method is faster than using a method to encode the text followed by a call to the `pad` method to get a padded encoding.\n"
          ]
        },
        {
          "output_type": "execute_result",
          "data": {
            "text/plain": [
              "dict_keys(['input_ids', 'token_type_ids', 'attention_mask', 'labels'])"
            ]
          },
          "metadata": {},
          "execution_count": 89
        }
      ],
      "source": [
        "data_collator = DataCollatorForTokenClassification(tokenizer = tokenizer, padding=True, label_pad_token_id=-100, return_tensors='pt')\n",
        "features = [tokenized_dataset_roberta[\"train\"][i] for i in range(2)]\n",
        "model_input = data_collator(features)\n",
        "model_input.keys()"
      ],
      "id": "B59SP78R2iQP"
    },
    {
      "cell_type": "markdown",
      "metadata": {
        "id": "YHbq-6L_2iQQ"
      },
      "source": [
        "## <font color = 'indianred'> **Hyperparameters and Checkpointing**</font>"
      ],
      "id": "YHbq-6L_2iQQ"
    },
    {
      "cell_type": "code",
      "execution_count": null,
      "metadata": {
        "id": "WQ7-InE22iQQ"
      },
      "outputs": [],
      "source": [
        "# Define the directory where model checkpoints will be saved\n",
        "model_folder = base_folder/\"Models\"\n",
        "# Create the directory if it doesn't exist\n",
        "model_folder.mkdir(exist_ok=True, parents=True)\n",
        "\n",
        "# Configure training parameters\n",
        "training_args = TrainingArguments(\n",
        "    # Training-specific configurations\n",
        "    num_train_epochs=2,  # Total number of training epochs\n",
        "    # Number of samples per training batch for each device\n",
        "    per_device_train_batch_size = 32,\n",
        "    # Number of samples per evaluation batch for each device\n",
        "    per_device_eval_batch_size = 32,\n",
        "    weight_decay=0.01,  # Apply L2 regularization to prevent overfitting\n",
        "    learning_rate=2e-5,  # Step size for the optimizer during training\n",
        "    optim='adamw_torch',  # Optimizer,\n",
        "\n",
        "    # Checkpoint saving and model evaluation settings\n",
        "    output_dir=str(model_folder),  # Directory to save model checkpoints\n",
        "    evaluation_strategy='steps',  # Evaluate model at specified step intervals\n",
        "    eval_steps=20,  # Perform evaluation every 20 training steps\n",
        "    save_strategy=\"steps\",  # Save model checkpoint at specified step intervals\n",
        "    save_steps=20,  # Save a model checkpoint every 20 training steps\n",
        "    load_best_model_at_end=True,  # Reload the best model at the end of training\n",
        "    save_total_limit=2,  # Retain only the best and the most recent model checkpoints\n",
        "    # Use 'accuracy' as the metric to determine the best model\n",
        "    metric_for_best_model=\"accuracy\",\n",
        "    greater_is_better=True,  # A model is 'better' if its accuracy is higher\n",
        "\n",
        "\n",
        "    # Experiment logging configurations (commented out in this example)\n",
        "    logging_strategy='steps',\n",
        "    logging_steps=20,\n",
        "    report_to='wandb',  # Log metrics and results to Weights & Biases platform\n",
        "    run_name= 'ner_exp1',  # Experiment name for Weights & Biases\n",
        ")\n"
      ],
      "id": "WQ7-InE22iQQ"
    },
    {
      "cell_type": "markdown",
      "metadata": {
        "id": "0G1Vs_sy2iQR"
      },
      "source": [
        "##  <font color = 'indianred'> **Initialize Trainer**</font>"
      ],
      "id": "0G1Vs_sy2iQR"
    },
    {
      "cell_type": "code",
      "execution_count": null,
      "metadata": {
        "id": "upxIrK-n2iQR"
      },
      "outputs": [],
      "source": [
        "# initialize trainer\n",
        "trainer = Trainer(\n",
        "    model=model,\n",
        "    args=training_args,\n",
        "    train_dataset= tokenized_dataset_roberta[\"train\"],\n",
        "    eval_dataset= tokenized_dataset_roberta[\"val\"],\n",
        "    compute_metrics=compute_metrics,\n",
        "    tokenizer=tokenizer,\n",
        "    data_collator=data_collator,\n",
        ")"
      ],
      "id": "upxIrK-n2iQR"
    },
    {
      "cell_type": "markdown",
      "metadata": {
        "id": "BpcJdW_U2iQR"
      },
      "source": [
        "##  <font color = 'indianred'> **Start Training**"
      ],
      "id": "BpcJdW_U2iQR"
    },
    {
      "cell_type": "code",
      "execution_count": null,
      "metadata": {
        "colab": {
          "base_uri": "https://localhost:8080/"
        },
        "outputId": "a67510c8-ad84-404a-f91c-38ba08f82bda",
        "id": "e0_5j9Ry2iQS"
      },
      "outputs": [
        {
          "output_type": "execute_result",
          "data": {
            "text/plain": [
              "DataCollatorForTokenClassification(tokenizer=ElectraTokenizerFast(name_or_path='google/electra-base-discriminator', vocab_size=30522, model_max_length=512, is_fast=True, padding_side='right', truncation_side='right', special_tokens={'unk_token': '[UNK]', 'sep_token': '[SEP]', 'pad_token': '[PAD]', 'cls_token': '[CLS]', 'mask_token': '[MASK]'}, clean_up_tokenization_spaces=True),  added_tokens_decoder={\n",
              "\t0: AddedToken(\"[PAD]\", rstrip=False, lstrip=False, single_word=False, normalized=False, special=True),\n",
              "\t100: AddedToken(\"[UNK]\", rstrip=False, lstrip=False, single_word=False, normalized=False, special=True),\n",
              "\t101: AddedToken(\"[CLS]\", rstrip=False, lstrip=False, single_word=False, normalized=False, special=True),\n",
              "\t102: AddedToken(\"[SEP]\", rstrip=False, lstrip=False, single_word=False, normalized=False, special=True),\n",
              "\t103: AddedToken(\"[MASK]\", rstrip=False, lstrip=False, single_word=False, normalized=False, special=True),\n",
              "}, padding=True, max_length=None, pad_to_multiple_of=None, label_pad_token_id=-100, return_tensors='pt')"
            ]
          },
          "metadata": {},
          "execution_count": 93
        }
      ],
      "source": [
        "trainer.data_collator"
      ],
      "id": "e0_5j9Ry2iQS"
    },
    {
      "cell_type": "code",
      "execution_count": null,
      "metadata": {
        "colab": {
          "base_uri": "https://localhost:8080/",
          "height": 844
        },
        "outputId": "a35b87a6-7d0d-4d18-d3c5-8c974a23b2ea",
        "id": "ROv0DqQR2iQS"
      },
      "outputs": [
        {
          "output_type": "display_data",
          "data": {
            "text/plain": [
              "<IPython.core.display.HTML object>"
            ],
            "text/html": [
              "Changes to your `wandb` environment variables will be ignored because your `wandb` session has already started. For more information on how to modify your settings with `wandb.init()` arguments, please refer to <a href='https://wandb.me/wandb-init' target=\"_blank\">the W&B docs</a>."
            ]
          },
          "metadata": {}
        },
        {
          "output_type": "display_data",
          "data": {
            "text/plain": [
              "<IPython.core.display.HTML object>"
            ],
            "text/html": [
              "Tracking run with wandb version 0.15.12"
            ]
          },
          "metadata": {}
        },
        {
          "output_type": "display_data",
          "data": {
            "text/plain": [
              "<IPython.core.display.HTML object>"
            ],
            "text/html": [
              "Run data is saved locally in <code>/content/wandb/run-20231101_214944-j9d1zxnq</code>"
            ]
          },
          "metadata": {}
        },
        {
          "output_type": "display_data",
          "data": {
            "text/plain": [
              "<IPython.core.display.HTML object>"
            ],
            "text/html": [
              "Syncing run <strong><a href='https://wandb.ai/anurag96/nlp_course_fall_2023-ner/runs/j9d1zxnq' target=\"_blank\">ner_exp1</a></strong> to <a href='https://wandb.ai/anurag96/nlp_course_fall_2023-ner' target=\"_blank\">Weights & Biases</a> (<a href='https://wandb.me/run' target=\"_blank\">docs</a>)<br/>"
            ]
          },
          "metadata": {}
        },
        {
          "output_type": "display_data",
          "data": {
            "text/plain": [
              "<IPython.core.display.HTML object>"
            ],
            "text/html": [
              " View project at <a href='https://wandb.ai/anurag96/nlp_course_fall_2023-ner' target=\"_blank\">https://wandb.ai/anurag96/nlp_course_fall_2023-ner</a>"
            ]
          },
          "metadata": {}
        },
        {
          "output_type": "display_data",
          "data": {
            "text/plain": [
              "<IPython.core.display.HTML object>"
            ],
            "text/html": [
              " View run at <a href='https://wandb.ai/anurag96/nlp_course_fall_2023-ner/runs/j9d1zxnq' target=\"_blank\">https://wandb.ai/anurag96/nlp_course_fall_2023-ner/runs/j9d1zxnq</a>"
            ]
          },
          "metadata": {}
        },
        {
          "output_type": "display_data",
          "data": {
            "text/plain": [
              "<IPython.core.display.HTML object>"
            ],
            "text/html": [
              "\n",
              "    <div>\n",
              "      \n",
              "      <progress value='314' max='314' style='width:300px; height:20px; vertical-align: middle;'></progress>\n",
              "      [314/314 05:05, Epoch 2/2]\n",
              "    </div>\n",
              "    <table border=\"1\" class=\"dataframe\">\n",
              "  <thead>\n",
              " <tr style=\"text-align: left;\">\n",
              "      <th>Step</th>\n",
              "      <th>Training Loss</th>\n",
              "      <th>Validation Loss</th>\n",
              "      <th>Precision</th>\n",
              "      <th>Recall</th>\n",
              "      <th>F1</th>\n",
              "      <th>Accuracy</th>\n",
              "    </tr>\n",
              "  </thead>\n",
              "  <tbody>\n",
              "    <tr>\n",
              "      <td>20</td>\n",
              "      <td>1.458000</td>\n",
              "      <td>0.697497</td>\n",
              "      <td>0.000000</td>\n",
              "      <td>0.000000</td>\n",
              "      <td>0.000000</td>\n",
              "      <td>0.793011</td>\n",
              "    </tr>\n",
              "    <tr>\n",
              "      <td>40</td>\n",
              "      <td>0.590300</td>\n",
              "      <td>0.427836</td>\n",
              "      <td>0.548183</td>\n",
              "      <td>0.386845</td>\n",
              "      <td>0.453595</td>\n",
              "      <td>0.871638</td>\n",
              "    </tr>\n",
              "    <tr>\n",
              "      <td>60</td>\n",
              "      <td>0.389700</td>\n",
              "      <td>0.312961</td>\n",
              "      <td>0.521332</td>\n",
              "      <td>0.558528</td>\n",
              "      <td>0.539290</td>\n",
              "      <td>0.900058</td>\n",
              "    </tr>\n",
              "    <tr>\n",
              "      <td>80</td>\n",
              "      <td>0.332800</td>\n",
              "      <td>0.237565</td>\n",
              "      <td>0.635696</td>\n",
              "      <td>0.675028</td>\n",
              "      <td>0.654772</td>\n",
              "      <td>0.940372</td>\n",
              "    </tr>\n",
              "    <tr>\n",
              "      <td>100</td>\n",
              "      <td>0.260600</td>\n",
              "      <td>0.187528</td>\n",
              "      <td>0.700319</td>\n",
              "      <td>0.734671</td>\n",
              "      <td>0.717084</td>\n",
              "      <td>0.951845</td>\n",
              "    </tr>\n",
              "    <tr>\n",
              "      <td>120</td>\n",
              "      <td>0.215200</td>\n",
              "      <td>0.158847</td>\n",
              "      <td>0.738283</td>\n",
              "      <td>0.781494</td>\n",
              "      <td>0.759274</td>\n",
              "      <td>0.960265</td>\n",
              "    </tr>\n",
              "    <tr>\n",
              "      <td>140</td>\n",
              "      <td>0.196500</td>\n",
              "      <td>0.139588</td>\n",
              "      <td>0.773201</td>\n",
              "      <td>0.826644</td>\n",
              "      <td>0.799030</td>\n",
              "      <td>0.966528</td>\n",
              "    </tr>\n",
              "    <tr>\n",
              "      <td>160</td>\n",
              "      <td>0.145000</td>\n",
              "      <td>0.120163</td>\n",
              "      <td>0.831545</td>\n",
              "      <td>0.863991</td>\n",
              "      <td>0.847458</td>\n",
              "      <td>0.974475</td>\n",
              "    </tr>\n",
              "    <tr>\n",
              "      <td>180</td>\n",
              "      <td>0.136200</td>\n",
              "      <td>0.122150</td>\n",
              "      <td>0.805249</td>\n",
              "      <td>0.855072</td>\n",
              "      <td>0.829413</td>\n",
              "      <td>0.969212</td>\n",
              "    </tr>\n",
              "    <tr>\n",
              "      <td>200</td>\n",
              "      <td>0.126900</td>\n",
              "      <td>0.109425</td>\n",
              "      <td>0.841993</td>\n",
              "      <td>0.876254</td>\n",
              "      <td>0.858782</td>\n",
              "      <td>0.974580</td>\n",
              "    </tr>\n",
              "    <tr>\n",
              "      <td>220</td>\n",
              "      <td>0.123700</td>\n",
              "      <td>0.101295</td>\n",
              "      <td>0.860766</td>\n",
              "      <td>0.889075</td>\n",
              "      <td>0.874692</td>\n",
              "      <td>0.977791</td>\n",
              "    </tr>\n",
              "    <tr>\n",
              "      <td>240</td>\n",
              "      <td>0.130600</td>\n",
              "      <td>0.101669</td>\n",
              "      <td>0.849520</td>\n",
              "      <td>0.887402</td>\n",
              "      <td>0.868048</td>\n",
              "      <td>0.976528</td>\n",
              "    </tr>\n",
              "    <tr>\n",
              "      <td>260</td>\n",
              "      <td>0.117400</td>\n",
              "      <td>0.095208</td>\n",
              "      <td>0.854322</td>\n",
              "      <td>0.892419</td>\n",
              "      <td>0.872955</td>\n",
              "      <td>0.977475</td>\n",
              "    </tr>\n",
              "    <tr>\n",
              "      <td>280</td>\n",
              "      <td>0.134800</td>\n",
              "      <td>0.092991</td>\n",
              "      <td>0.855919</td>\n",
              "      <td>0.890747</td>\n",
              "      <td>0.872986</td>\n",
              "      <td>0.978106</td>\n",
              "    </tr>\n",
              "    <tr>\n",
              "      <td>300</td>\n",
              "      <td>0.117300</td>\n",
              "      <td>0.092050</td>\n",
              "      <td>0.862292</td>\n",
              "      <td>0.893534</td>\n",
              "      <td>0.877635</td>\n",
              "      <td>0.978475</td>\n",
              "    </tr>\n",
              "  </tbody>\n",
              "</table><p>"
            ]
          },
          "metadata": {}
        },
        {
          "output_type": "stream",
          "name": "stderr",
          "text": [
            "/usr/local/lib/python3.10/dist-packages/seqeval/metrics/v1.py:57: UndefinedMetricWarning: Precision and F-score are ill-defined and being set to 0.0 in labels with no predicted samples. Use `zero_division` parameter to control this behavior.\n",
            "  _warn_prf(average, modifier, msg_start, len(result))\n",
            "/usr/local/lib/python3.10/dist-packages/seqeval/metrics/v1.py:57: UndefinedMetricWarning: Precision and F-score are ill-defined and being set to 0.0 in labels with no predicted samples. Use `zero_division` parameter to control this behavior.\n",
            "  _warn_prf(average, modifier, msg_start, len(result))\n",
            "/usr/local/lib/python3.10/dist-packages/seqeval/metrics/v1.py:57: UndefinedMetricWarning: Precision and F-score are ill-defined and being set to 0.0 in labels with no predicted samples. Use `zero_division` parameter to control this behavior.\n",
            "  _warn_prf(average, modifier, msg_start, len(result))\n",
            "/usr/local/lib/python3.10/dist-packages/seqeval/metrics/v1.py:57: UndefinedMetricWarning: Precision and F-score are ill-defined and being set to 0.0 in labels with no predicted samples. Use `zero_division` parameter to control this behavior.\n",
            "  _warn_prf(average, modifier, msg_start, len(result))\n"
          ]
        },
        {
          "output_type": "execute_result",
          "data": {
            "text/plain": [
              "TrainOutput(global_step=314, training_loss=0.29056842577685216, metrics={'train_runtime': 307.1328, 'train_samples_per_second': 32.559, 'train_steps_per_second': 1.022, 'total_flos': 266788623410928.0, 'train_loss': 0.29056842577685216, 'epoch': 2.0})"
            ]
          },
          "metadata": {},
          "execution_count": 94
        }
      ],
      "source": [
        "trainer.train()  # start training"
      ],
      "id": "ROv0DqQR2iQS"
    },
    {
      "cell_type": "markdown",
      "metadata": {
        "id": "jlMw6wQR2iQS"
      },
      "source": [
        "## <font color = 'indianred'> **Evaluation**\n"
      ],
      "id": "jlMw6wQR2iQS"
    },
    {
      "cell_type": "markdown",
      "metadata": {
        "id": "lgazi1OH2iQT"
      },
      "source": [
        "### <font color = 'indianred'> **Check performance on validation set**</font>\n"
      ],
      "id": "lgazi1OH2iQT"
    },
    {
      "cell_type": "code",
      "execution_count": null,
      "metadata": {
        "colab": {
          "base_uri": "https://localhost:8080/",
          "height": 193
        },
        "outputId": "5c9f6802-6c32-43e7-fdf8-70297d169865",
        "id": "NbmPM-wr2iQT"
      },
      "outputs": [
        {
          "output_type": "display_data",
          "data": {
            "text/plain": [
              "<IPython.core.display.HTML object>"
            ],
            "text/html": [
              "\n",
              "    <div>\n",
              "      \n",
              "      <progress value='32' max='32' style='width:300px; height:20px; vertical-align: middle;'></progress>\n",
              "      [32/32 00:03]\n",
              "    </div>\n",
              "    "
            ]
          },
          "metadata": {}
        },
        {
          "output_type": "execute_result",
          "data": {
            "text/plain": [
              "{'eval_loss': 0.09205028414726257,\n",
              " 'eval_precision': 0.8622915545992469,\n",
              " 'eval_recall': 0.8935340022296544,\n",
              " 'eval_f1': 0.8776348206953188,\n",
              " 'eval_accuracy': 0.9784748171148887,\n",
              " 'eval_runtime': 5.3406,\n",
              " 'eval_samples_per_second': 187.246,\n",
              " 'eval_steps_per_second': 5.992,\n",
              " 'epoch': 2.0}"
            ]
          },
          "metadata": {},
          "execution_count": 95
        }
      ],
      "source": [
        "# Evaluate the trained model on the tokenized validation dataset.\n",
        "# This will provide metrics like loss, accuracy, etc. based on the model's performance on the validation set.\n",
        "trainer.evaluate(tokenized_dataset_roberta[\"val\"])"
      ],
      "id": "NbmPM-wr2iQT"
    },
    {
      "cell_type": "markdown",
      "metadata": {
        "id": "ZrZjOgqW2iQT"
      },
      "source": [
        "###  <font color = 'indianred'> **Check Confusion Matrix**</font>\n",
        "\n",
        "\n"
      ],
      "id": "ZrZjOgqW2iQT"
    },
    {
      "cell_type": "code",
      "execution_count": null,
      "metadata": {
        "colab": {
          "base_uri": "https://localhost:8080/",
          "height": 17
        },
        "outputId": "89677e00-4ddb-442b-877b-37f40d869d9a",
        "id": "3GtJWW_S2iQU"
      },
      "outputs": [
        {
          "output_type": "display_data",
          "data": {
            "text/plain": [
              "<IPython.core.display.HTML object>"
            ],
            "text/html": []
          },
          "metadata": {}
        }
      ],
      "source": [
        "# Use the trainer to generate predictions on the tokenized validation dataset.\n",
        "# The resulting object, valid_output, will contain the model's logits (raw prediction scores) for each input in the validation set.\n",
        "valid_output = trainer.predict(tokenized_dataset_roberta[\"val\"])\n",
        "valid_predictions = np.argmax(valid_output.predictions, axis=2)\n",
        "valid_labels = np.array(valid_output.label_ids)\n",
        "mask = valid_labels != -100\n",
        "filtered_predictions = valid_predictions[mask]\n",
        "filtered_labels = valid_labels[mask]"
      ],
      "id": "3GtJWW_S2iQU"
    },
    {
      "cell_type": "code",
      "execution_count": null,
      "metadata": {
        "colab": {
          "base_uri": "https://localhost:8080/",
          "height": 595
        },
        "outputId": "d23a4c9c-f9c4-4b62-caca-3ddaccf26c65",
        "id": "kzqQZmCr2iQU"
      },
      "outputs": [
        {
          "output_type": "display_data",
          "data": {
            "text/plain": [
              "<Figure size 800x600 with 2 Axes>"
            ],
            "image/png": "[encoded data removed]"
          },
          "metadata": {}
        }
      ],
      "source": [
        "#  Generate the confusion matrix\n",
        "cm = confusion_matrix(filtered_labels, filtered_predictions,normalize='true')\n",
        "\n",
        "# Plotting the confusion matrix\n",
        "plt.figure(figsize=(8, 6))\n",
        "ax= sns.heatmap(cm, annot=True, fmt=\".2f\", cmap=\"Blues\", xticklabels=class_names, yticklabels=class_names)\n",
        "# Ensure x-labels are vertical\n",
        "ax.set_xticklabels(ax.get_xticklabels(), rotation=45)\n",
        "\n",
        "# Ensure y-labels are horizontal\n",
        "ax.set_yticklabels(ax.get_yticklabels(), rotation=0)\n",
        "plt.xlabel('Predicted Labels')\n",
        "plt.ylabel('True Labels')\n",
        "plt.title('Confusion Matrix')\n",
        "plt.show()"
      ],
      "id": "kzqQZmCr2iQU"
    },
    {
      "cell_type": "code",
      "execution_count": null,
      "metadata": {
        "id": "UVLyQLED2iQU"
      },
      "outputs": [],
      "source": [
        "# Log the confusion matrix to the Weights & Biases (Wandb) platform for monitoring and visualization.\n",
        "# This allows for tracking the model's classification performance across different runs or iterations.\n",
        "\n",
        "# log the Confusion Matrix to Wandb\n",
        "wandb.log({\n",
        "    \"conf_mat\": wandb.plot.confusion_matrix(\n",
        "        preds=filtered_predictions,        # Model's predicted class labels.\n",
        "        y_true=filtered_labels,      # Actual labels from the validation set.\n",
        "        class_names=class_names   # Custom class names for display in the confusion matrix.\n",
        "    )\n",
        "})"
      ],
      "id": "UVLyQLED2iQU"
    },
    {
      "cell_type": "code",
      "execution_count": null,
      "metadata": {
        "colab": {
          "base_uri": "https://localhost:8080/",
          "height": 611,
          "referenced_widgets": [
            "24e11d5370e248daa1ea9bddc57b8cab",
            "f19be08feb924c649241d57d9b348bae",
            "5e04d14e3a3e4ec2bc720b745a43c0f7",
            "7e2f9cc7b01e4d1d923c5dcf4eb3ffc0",
            "26379b2b80dc46afb6d00c0fb6a83345",
            "dbc7c1705aa64158b196a22f84877ccf",
            "b428a68e748240bc86bd09af65455b3a",
            "9986d8e6e0134e6c98d1460623913646"
          ]
        },
        "outputId": "6064109a-3480-426d-ae50-60d28221d89c",
        "id": "QixdKhcq2iQV"
      },
      "outputs": [
        {
          "output_type": "display_data",
          "data": {
            "text/plain": [
              "<IPython.core.display.HTML object>"
            ],
            "text/html": [
              "Waiting for W&B process to finish... <strong style=\"color:green\">(success).</strong>"
            ]
          },
          "metadata": {}
        },
        {
          "output_type": "display_data",
          "data": {
            "text/plain": [
              "VBox(children=(Label(value='0.006 MB of 0.028 MB uploaded (0.000 MB deduped)\\r'), FloatProgress(value=0.201196…"
            ],
            "application/vnd.jupyter.widget-view+json": {
              "version_major": 2,
              "version_minor": 0,
              "model_id": "24e11d5370e248daa1ea9bddc57b8cab"
            }
          },
          "metadata": {}
        },
        {
          "output_type": "display_data",
          "data": {
            "text/plain": [
              "<IPython.core.display.HTML object>"
            ],
            "text/html": [
              "<style>\n",
              "    table.wandb td:nth-child(1) { padding: 0 10px; text-align: left ; width: auto;} td:nth-child(2) {text-align: left ; width: 100%}\n",
              "    .wandb-row { display: flex; flex-direction: row; flex-wrap: wrap; justify-content: flex-start; width: 100% }\n",
              "    .wandb-col { display: flex; flex-direction: column; flex-basis: 100%; flex: 1; padding: 10px; }\n",
              "    </style>\n",
              "<div class=\"wandb-row\"><div class=\"wandb-col\"><h3>Run history:</h3><br/><table class=\"wandb\"><tr><td>eval/accuracy</td><td>▁▄▅▇▇▇██████████</td></tr><tr><td>eval/f1</td><td>▁▅▅▆▇▇▇█████████</td></tr><tr><td>eval/loss</td><td>█▅▄▃▂▂▂▁▁▁▁▁▁▁▁▁</td></tr><tr><td>eval/precision</td><td>▁▅▅▆▇▇▇█████████</td></tr><tr><td>eval/recall</td><td>▁▄▅▆▇▇▇█████████</td></tr><tr><td>eval/runtime</td><td>▁▃▄▃▆▃▂▂▄▂▃▂█▆▄▆</td></tr><tr><td>eval/samples_per_second</td><td>█▅▄▅▃▅▇▇▄▇▅▆▁▂▄▂</td></tr><tr><td>eval/steps_per_second</td><td>█▅▄▅▃▅▇▇▄▇▅▆▁▂▄▂</td></tr><tr><td>train/epoch</td><td>▁▁▁▁▂▂▂▂▃▃▃▃▄▄▄▄▅▅▅▅▆▆▆▆▇▇▇▇████</td></tr><tr><td>train/global_step</td><td>▁▁▁▁▂▂▂▂▃▃▃▃▄▄▄▄▅▅▅▅▆▆▆▆▇▇▇▇█████</td></tr><tr><td>train/learning_rate</td><td>██▇▇▆▆▅▅▄▄▃▃▂▂▁</td></tr><tr><td>train/loss</td><td>█▃▂▂▂▂▁▁▁▁▁▁▁▁▁</td></tr><tr><td>train/total_flos</td><td>▁</td></tr><tr><td>train/train_loss</td><td>▁</td></tr><tr><td>train/train_runtime</td><td>▁</td></tr><tr><td>train/train_samples_per_second</td><td>▁</td></tr><tr><td>train/train_steps_per_second</td><td>▁</td></tr></table><br/></div><div class=\"wandb-col\"><h3>Run summary:</h3><br/><table class=\"wandb\"><tr><td>eval/accuracy</td><td>0.97847</td></tr><tr><td>eval/f1</td><td>0.87763</td></tr><tr><td>eval/loss</td><td>0.09205</td></tr><tr><td>eval/precision</td><td>0.86229</td></tr><tr><td>eval/recall</td><td>0.89353</td></tr><tr><td>eval/runtime</td><td>5.3406</td></tr><tr><td>eval/samples_per_second</td><td>187.246</td></tr><tr><td>eval/steps_per_second</td><td>5.992</td></tr><tr><td>train/epoch</td><td>2.0</td></tr><tr><td>train/global_step</td><td>314</td></tr><tr><td>train/learning_rate</td><td>0.0</td></tr><tr><td>train/loss</td><td>0.1173</td></tr><tr><td>train/total_flos</td><td>266788623410928.0</td></tr><tr><td>train/train_loss</td><td>0.29057</td></tr><tr><td>train/train_runtime</td><td>307.1328</td></tr><tr><td>train/train_samples_per_second</td><td>32.559</td></tr><tr><td>train/train_steps_per_second</td><td>1.022</td></tr></table><br/></div></div>"
            ]
          },
          "metadata": {}
        },
        {
          "output_type": "display_data",
          "data": {
            "text/plain": [
              "<IPython.core.display.HTML object>"
            ],
            "text/html": [
              " View run <strong style=\"color:#cdcd00\">ner_exp1</strong> at: <a href='https://wandb.ai/anurag96/nlp_course_fall_2023-ner/runs/j9d1zxnq' target=\"_blank\">https://wandb.ai/anurag96/nlp_course_fall_2023-ner/runs/j9d1zxnq</a><br/>Synced 5 W&B file(s), 1 media file(s), 1 artifact file(s) and 0 other file(s)"
            ]
          },
          "metadata": {}
        },
        {
          "output_type": "display_data",
          "data": {
            "text/plain": [
              "<IPython.core.display.HTML object>"
            ],
            "text/html": [
              "Find logs at: <code>./wandb/run-20231101_214944-j9d1zxnq/logs</code>"
            ]
          },
          "metadata": {}
        }
      ],
      "source": [
        "wandb.finish()"
      ],
      "id": "QixdKhcq2iQV"
    },
    {
      "cell_type": "markdown",
      "metadata": {
        "id": "txreUxYZ2iQV"
      },
      "source": [
        "### <font color = 'indianred'> **Check the best saved model**</font>\n"
      ],
      "id": "txreUxYZ2iQV"
    },
    {
      "cell_type": "code",
      "execution_count": null,
      "metadata": {
        "colab": {
          "base_uri": "https://localhost:8080/"
        },
        "outputId": "18e7679a-ace8-4a47-e397-d8c14716348e",
        "id": "mB0CyM2R2iQV"
      },
      "outputs": [
        {
          "output_type": "stream",
          "name": "stdout",
          "text": [
            "The best model was saved at step 300.\n"
          ]
        }
      ],
      "source": [
        "# After training, let us check the best checkpoint\n",
        "# We need this for Predictions and Evaluations\n",
        "best_model_checkpoint_step = trainer.state.best_model_checkpoint.split('-')[-1]\n",
        "print(f\"The best model was saved at step {best_model_checkpoint_step}.\")"
      ],
      "id": "mB0CyM2R2iQV"
    },
    {
      "cell_type": "markdown",
      "metadata": {
        "id": "DqRSRuxX2iQV"
      },
      "source": [
        "#  <font color = 'indianred'> **Inference**"
      ],
      "id": "DqRSRuxX2iQV"
    },
    {
      "cell_type": "markdown",
      "metadata": {
        "id": "GgHEQrDn2iQV"
      },
      "source": [
        "##  <font color = 'indianred'> **Pipeline for Predictions**"
      ],
      "id": "GgHEQrDn2iQV"
    },
    {
      "cell_type": "markdown",
      "metadata": {
        "id": "BA-m2fDv2iQV"
      },
      "source": [
        "## <font color = 'indianred'> **Create pipelne for inference**"
      ],
      "id": "BA-m2fDv2iQV"
    },
    {
      "cell_type": "code",
      "execution_count": null,
      "metadata": {
        "id": "JXMJPk442iQV"
      },
      "outputs": [],
      "source": [
        "checkpoint = str(model_folder / \"checkpoint-300\")\n",
        "checkpoint\n",
        "# Create a text classification pipeline using the Hugging Face's pipeline method.\n",
        "# The pipeline is initialized with:\n",
        "# - The task set to \"text-classification\".\n",
        "# - Model and tokenizer both loaded from the specified checkpoint path.\n",
        "# - Execution set to the primary device (typically the first GPU).\n",
        "\n",
        "custom_pipeline = pipeline(\n",
        "    task=\"token-classification\",\n",
        "    model=checkpoint,\n",
        "    tokenizer=checkpoint,\n",
        "    device='cpu',\n",
        "    aggregation_strategy=\"simple\",\n",
        "    framework=\"pt\")"
      ],
      "id": "JXMJPk442iQV"
    },
    {
      "cell_type": "markdown",
      "metadata": {
        "id": "qjTcJc5a2iQW"
      },
      "source": [
        "## <font color = 'indianred'> **Prediction for large dataset**"
      ],
      "id": "qjTcJc5a2iQW"
    },
    {
      "cell_type": "code",
      "execution_count": null,
      "metadata": {
        "colab": {
          "base_uri": "https://localhost:8080/",
          "height": 49,
          "referenced_widgets": [
            "13f22d009e1045b1a4bffd464e0e00a5",
            "4d1fff3887354f47992c0acb369ed284",
            "13ee8b5581254786a9a4e42f36157275",
            "b67c4c11608f4885913b07413ffe0944",
            "df5999e31dc447edbb6b54b90de699a5",
            "d1477b9f654647e39f7f0c77c89a0c47",
            "3c97540cb22a49df94afdc20f0e4998f",
            "7d7dc7e4533048f28477e48eaaee3777",
            "a7d4d1dbc0374245a6cfaf03153a9778",
            "1229dc6acd56429bab84165837701d82",
            "aac9441c190c4f06a30ce0d6d53f6f2a"
          ]
        },
        "outputId": "8e168824-d65c-4d86-a194-b5a78a812bdc",
        "id": "MoYJ8Seq2iQW"
      },
      "outputs": [
        {
          "output_type": "display_data",
          "data": {
            "text/plain": [
              "Map:   0%|          | 0/1000 [00:00<?, ? examples/s]"
            ],
            "application/vnd.jupyter.widget-view+json": {
              "version_major": 2,
              "version_minor": 0,
              "model_id": "13f22d009e1045b1a4bffd464e0e00a5"
            }
          },
          "metadata": {}
        }
      ],
      "source": [
        "test_subset['test'] = test_subset['test'].map(preprocess_for_pipeline)\n",
        "predictions = custom_pipeline(test_subset['test']['processed_text'], batch_size=16)"
      ],
      "id": "MoYJ8Seq2iQW"
    },
    {
      "cell_type": "code",
      "execution_count": null,
      "metadata": {
        "colab": {
          "base_uri": "https://localhost:8080/"
        },
        "outputId": "baef342a-70bd-4896-aa52-1f9a89c22ccd",
        "id": "26vfv2rr2iQW"
      },
      "outputs": [
        {
          "output_type": "execute_result",
          "data": {
            "text/plain": [
              "[[{'entity_group': 'PER',\n",
              "   'score': 0.9706114,\n",
              "   'word': 'camilla martin',\n",
              "   'start': 0,\n",
              "   'end': 14},\n",
              "  {'entity_group': 'LOC',\n",
              "   'score': 0.94073457,\n",
              "   'word': 'denmark',\n",
              "   'start': 17,\n",
              "   'end': 24},\n",
              "  {'entity_group': 'PER',\n",
              "   'score': 0.9664526,\n",
              "   'word': 'wang chen',\n",
              "   'start': 32,\n",
              "   'end': 41},\n",
              "  {'entity_group': 'LOC',\n",
              "   'score': 0.94344604,\n",
              "   'word': 'china',\n",
              "   'start': 44,\n",
              "   'end': 49}],\n",
              " [{'entity_group': 'MISC',\n",
              "   'score': 0.79070413,\n",
              "   'word': 'swiss',\n",
              "   'start': 0,\n",
              "   'end': 5},\n",
              "  {'entity_group': 'PER',\n",
              "   'score': 0.9751811,\n",
              "   'word': 'karin kuster',\n",
              "   'start': 59,\n",
              "   'end': 71},\n",
              "  {'entity_group': 'PER',\n",
              "   'score': 0.9711406,\n",
              "   'word': 'evelyne leu',\n",
              "   'start': 116,\n",
              "   'end': 127}],\n",
              " [{'entity_group': 'ORG',\n",
              "   'score': 0.93300307,\n",
              "   'word': 'montpellier',\n",
              "   'start': 0,\n",
              "   'end': 11}],\n",
              " [],\n",
              " [{'entity_group': 'ORG',\n",
              "   'score': 0.92683417,\n",
              "   'word': 'cambridge united',\n",
              "   'start': 0,\n",
              "   'end': 16},\n",
              "  {'entity_group': 'ORG',\n",
              "   'score': 0.92804694,\n",
              "   'word': 'woking',\n",
              "   'start': 19,\n",
              "   'end': 25}],\n",
              " []]"
            ]
          },
          "metadata": {},
          "execution_count": 105
        }
      ],
      "source": [
        "predictions[2:8]"
      ],
      "id": "26vfv2rr2iQW"
    },
    {
      "cell_type": "markdown",
      "metadata": {
        "id": "MhcRuuad2iQW"
      },
      "source": [
        "##  <font color = 'indianred'> **Test Set Evaluations**"
      ],
      "id": "MhcRuuad2iQW"
    },
    {
      "cell_type": "code",
      "execution_count": null,
      "metadata": {
        "colab": {
          "base_uri": "https://localhost:8080/",
          "height": 49,
          "referenced_widgets": [
            "4264e68c4f3f4d5f9c5c4f4f50d1b782",
            "424b82c5c54147d692aee9986387f958",
            "ca1978c2c8ec436baade1a15c6579dd1",
            "add38ad7bb3e4a7998bbfe5c56e678d2",
            "e80fe9e87c524a0499159209a71981ce",
            "405d1e1af32244029f7a852d790cf65a",
            "23e88b80c01d474d8c438727d97234bf",
            "c9e53b1de0b6469f90017d1980c042dd",
            "f40bcd0bd3984cc1ac2ad1b1c6a5de19",
            "5260344051064bdfb1e7dba30d165c7f",
            "31f5b20888a04d0a8aa64347e4bc1d14"
          ]
        },
        "id": "M1Vl4wQ42iQW",
        "outputId": "ed1e11d7-1e52-4c07-c5ee-8412c77c845f"
      },
      "outputs": [
        {
          "output_type": "display_data",
          "data": {
            "text/plain": [
              "Map:   0%|          | 0/1000 [00:00<?, ? examples/s]"
            ],
            "application/vnd.jupyter.widget-view+json": {
              "version_major": 2,
              "version_minor": 0,
              "model_id": "4264e68c4f3f4d5f9c5c4f4f50d1b782"
            }
          },
          "metadata": {}
        }
      ],
      "source": [
        "test_subset_tokenized = test_subset.map(tokenize_fn, batched=True)\n",
        "test_subset_tokenized = test_subset_tokenized.remove_columns(['tokens', 'ner_tags', 'pos_tags','chunk_tags', 'id', 'processed_text'])"
      ],
      "id": "M1Vl4wQ42iQW"
    },
    {
      "cell_type": "code",
      "execution_count": null,
      "metadata": {
        "colab": {
          "base_uri": "https://localhost:8080/",
          "height": 37
        },
        "outputId": "38dbb8d9-48a2-4c42-c2e8-f537ee44c7eb",
        "id": "Q_g_2gTt2iQW"
      },
      "outputs": [
        {
          "output_type": "display_data",
          "data": {
            "text/plain": [
              "<IPython.core.display.HTML object>"
            ],
            "text/html": [
              "\n",
              "    <div>\n",
              "      \n",
              "      <progress value='32' max='32' style='width:300px; height:20px; vertical-align: middle;'></progress>\n",
              "      [32/32 00:03]\n",
              "    </div>\n",
              "    "
            ]
          },
          "metadata": {}
        }
      ],
      "source": [
        "training_args = TrainingArguments(\n",
        "    output_dir=\"./results\",\n",
        "    per_device_eval_batch_size = 32,  # adjust based on your GPU memory\n",
        "    do_train = False,\n",
        "    do_eval=True,\n",
        "    report_to=[]  # disable logging\n",
        ")\n",
        "\n",
        "trainer = Trainer(\n",
        "    model=model,\n",
        "    args=training_args,\n",
        "    eval_dataset=test_subset_tokenized['test'],  # Make sure this dataset is tokenized!\n",
        "    tokenizer=tokenizer,\n",
        "    data_collator=data_collator,\n",
        "    compute_metrics=compute_metrics,\n",
        ")\n",
        "\n",
        "results = trainer.evaluate()"
      ],
      "id": "Q_g_2gTt2iQW"
    },
    {
      "cell_type": "code",
      "execution_count": null,
      "metadata": {
        "colab": {
          "base_uri": "https://localhost:8080/"
        },
        "outputId": "807bec89-42f3-4b80-966d-38277a1bac28",
        "id": "O1uCST7g2iQW"
      },
      "outputs": [
        {
          "output_type": "execute_result",
          "data": {
            "text/plain": [
              "{'eval_loss': 0.12219276279211044,\n",
              " 'eval_precision': 0.8190201729106629,\n",
              " 'eval_recall': 0.8685819070904646,\n",
              " 'eval_f1': 0.8430732720261049,\n",
              " 'eval_accuracy': 0.9673076923076923,\n",
              " 'eval_runtime': 4.0693,\n",
              " 'eval_samples_per_second': 245.741,\n",
              " 'eval_steps_per_second': 7.864}"
            ]
          },
          "metadata": {},
          "execution_count": 108
        }
      ],
      "source": [
        "results"
      ],
      "id": "O1uCST7g2iQW"
    },
    {
      "cell_type": "markdown",
      "source": [
        "##  <font color = 'indianred'> **Key Comparison and Findings:**\n",
        "In evaluating Named Entity Recognition (NER) models, DistilBERT, ALBERT, and Electra were compared based on their performance metrics,specifically F1-score and recall, using a standardized set of 9 tokens ('O', 'B-PER', 'I-PER', 'B-ORG', 'I-ORG', 'B-LOC', 'I-LOC', 'B-MISC', 'I-MISC'). DistilBERT achieved an F1-score of 0.767 and a recall of 0.807. In contrast, ALBERT displayed an improved performance with an F1-score of 0.841 and a recall of 0.867, while Electra demonstrated slightly higher results with an F1-score of 0.843 and a recall of 0.869. Both ALBERT and Electra surpassed DistilBERT in terms of performance, with Electra showing a slight advantage in F1-score and recall metrics. These findings indicate that both ALBERT and Electra exhibit superior capabilities in entity recognition when compared to DistilBERT, with Electra showcasing a marginal performance edge over ALBERT in these specific evaluation criteria.\n",
        "\n",
        "\n"
      ],
      "metadata": {
        "id": "SQss6SSc96na"
      },
      "id": "SQss6SSc96na"
    },
    {
      "cell_type": "code",
      "source": [],
      "metadata": {
        "id": "gNfiwzIp8Juk"
      },
      "id": "gNfiwzIp8Juk",
      "execution_count": null,
      "outputs": []
    }
  ],
  "metadata": {
    "accelerator": "GPU",
    "colab": {
      "gpuType": "T4",
      "provenance": []
    },
    "kernelspec": {
      "display_name": "Python 3",
      "name": "python3"
    },
    "language_info": {
      "codemirror_mode": {
        "name": "ipython",
        "version": 3
      },
      "file_extension": ".py",
      "mimetype": "text/x-python",
      "name": "python",
      "nbconvert_exporter": "python",
      "pygments_lexer": "ipython3",
      "version": "3.9.13"
    },
    "widgets": {
      "application/vnd.jupyter.widget-state+json": {
        "bfdc77188cf14ccca9ebef61f64b5f92": {
          "model_module": "@jupyter-widgets/controls",
          "model_name": "HBoxModel",
          "model_module_version": "1.5.0",
          "state": {
            "_dom_classes": [],
            "_model_module": "@jupyter-widgets/controls",
            "_model_module_version": "1.5.0",
            "_model_name": "HBoxModel",
            "_view_count": null,
            "_view_module": "@jupyter-widgets/controls",
            "_view_module_version": "1.5.0",
            "_view_name": "HBoxView",
            "box_style": "",
            "children": [
              "IPY_MODEL_380bf296998b40a4b7a28063ebfecf54",
              "IPY_MODEL_e07939f3052240afa6132355ab8d4235",
              "IPY_MODEL_a04cfc40ac354fba8d849ec388b4f254"
            ],
            "layout": "IPY_MODEL_a0b8c78c32f94889bf402a772dd3c9a0"
          }
        },
        "380bf296998b40a4b7a28063ebfecf54": {
          "model_module": "@jupyter-widgets/controls",
          "model_name": "HTMLModel",
          "model_module_version": "1.5.0",
          "state": {
            "_dom_classes": [],
            "_model_module": "@jupyter-widgets/controls",
            "_model_module_version": "1.5.0",
            "_model_name": "HTMLModel",
            "_view_count": null,
            "_view_module": "@jupyter-widgets/controls",
            "_view_module_version": "1.5.0",
            "_view_name": "HTMLView",
            "description": "",
            "description_tooltip": null,
            "layout": "IPY_MODEL_3502e1d6995743f6bb8683b1e25d4f8a",
            "placeholder": "​",
            "style": "IPY_MODEL_c6b4c5eb039e412cb46138ca4b74a62a",
            "value": "Map: 100%"
          }
        },
        "e07939f3052240afa6132355ab8d4235": {
          "model_module": "@jupyter-widgets/controls",
          "model_name": "FloatProgressModel",
          "model_module_version": "1.5.0",
          "state": {
            "_dom_classes": [],
            "_model_module": "@jupyter-widgets/controls",
            "_model_module_version": "1.5.0",
            "_model_name": "FloatProgressModel",
            "_view_count": null,
            "_view_module": "@jupyter-widgets/controls",
            "_view_module_version": "1.5.0",
            "_view_name": "ProgressView",
            "bar_style": "success",
            "description": "",
            "description_tooltip": null,
            "layout": "IPY_MODEL_6cfee37366b8442aac2cd91e7e0f5fa3",
            "max": 1000,
            "min": 0,
            "orientation": "horizontal",
            "style": "IPY_MODEL_6e918fc3ce514f79855f3a7a31c56022",
            "value": 1000
          }
        },
        "a04cfc40ac354fba8d849ec388b4f254": {
          "model_module": "@jupyter-widgets/controls",
          "model_name": "HTMLModel",
          "model_module_version": "1.5.0",
          "state": {
            "_dom_classes": [],
            "_model_module": "@jupyter-widgets/controls",
            "_model_module_version": "1.5.0",
            "_model_name": "HTMLModel",
            "_view_count": null,
            "_view_module": "@jupyter-widgets/controls",
            "_view_module_version": "1.5.0",
            "_view_name": "HTMLView",
            "description": "",
            "description_tooltip": null,
            "layout": "IPY_MODEL_7ee9a91e35bf43dca1dabaf1b0253e87",
            "placeholder": "​",
            "style": "IPY_MODEL_211b5af220a8440d93749449bf9fdcfe",
            "value": " 1000/1000 [00:00&lt;00:00, 1307.64 examples/s]"
          }
        },
        "a0b8c78c32f94889bf402a772dd3c9a0": {
          "model_module": "@jupyter-widgets/base",
          "model_name": "LayoutModel",
          "model_module_version": "1.2.0",
          "state": {
            "_model_module": "@jupyter-widgets/base",
            "_model_module_version": "1.2.0",
            "_model_name": "LayoutModel",
            "_view_count": null,
            "_view_module": "@jupyter-widgets/base",
            "_view_module_version": "1.2.0",
            "_view_name": "LayoutView",
            "align_content": null,
            "align_items": null,
            "align_self": null,
            "border": null,
            "bottom": null,
            "display": null,
            "flex": null,
            "flex_flow": null,
            "grid_area": null,
            "grid_auto_columns": null,
            "grid_auto_flow": null,
            "grid_auto_rows": null,
            "grid_column": null,
            "grid_gap": null,
            "grid_row": null,
            "grid_template_areas": null,
            "grid_template_columns": null,
            "grid_template_rows": null,
            "height": null,
            "justify_content": null,
            "justify_items": null,
            "left": null,
            "margin": null,
            "max_height": null,
            "max_width": null,
            "min_height": null,
            "min_width": null,
            "object_fit": null,
            "object_position": null,
            "order": null,
            "overflow": null,
            "overflow_x": null,
            "overflow_y": null,
            "padding": null,
            "right": null,
            "top": null,
            "visibility": null,
            "width": null
          }
        },
        "3502e1d6995743f6bb8683b1e25d4f8a": {
          "model_module": "@jupyter-widgets/base",
          "model_name": "LayoutModel",
          "model_module_version": "1.2.0",
          "state": {
            "_model_module": "@jupyter-widgets/base",
            "_model_module_version": "1.2.0",
            "_model_name": "LayoutModel",
            "_view_count": null,
            "_view_module": "@jupyter-widgets/base",
            "_view_module_version": "1.2.0",
            "_view_name": "LayoutView",
            "align_content": null,
            "align_items": null,
            "align_self": null,
            "border": null,
            "bottom": null,
            "display": null,
            "flex": null,
            "flex_flow": null,
            "grid_area": null,
            "grid_auto_columns": null,
            "grid_auto_flow": null,
            "grid_auto_rows": null,
            "grid_column": null,
            "grid_gap": null,
            "grid_row": null,
            "grid_template_areas": null,
            "grid_template_columns": null,
            "grid_template_rows": null,
            "height": null,
            "justify_content": null,
            "justify_items": null,
            "left": null,
            "margin": null,
            "max_height": null,
            "max_width": null,
            "min_height": null,
            "min_width": null,
            "object_fit": null,
            "object_position": null,
            "order": null,
            "overflow": null,
            "overflow_x": null,
            "overflow_y": null,
            "padding": null,
            "right": null,
            "top": null,
            "visibility": null,
            "width": null
          }
        },
        "c6b4c5eb039e412cb46138ca4b74a62a": {
          "model_module": "@jupyter-widgets/controls",
          "model_name": "DescriptionStyleModel",
          "model_module_version": "1.5.0",
          "state": {
            "_model_module": "@jupyter-widgets/controls",
            "_model_module_version": "1.5.0",
            "_model_name": "DescriptionStyleModel",
            "_view_count": null,
            "_view_module": "@jupyter-widgets/base",
            "_view_module_version": "1.2.0",
            "_view_name": "StyleView",
            "description_width": ""
          }
        },
        "6cfee37366b8442aac2cd91e7e0f5fa3": {
          "model_module": "@jupyter-widgets/base",
          "model_name": "LayoutModel",
          "model_module_version": "1.2.0",
          "state": {
            "_model_module": "@jupyter-widgets/base",
            "_model_module_version": "1.2.0",
            "_model_name": "LayoutModel",
            "_view_count": null,
            "_view_module": "@jupyter-widgets/base",
            "_view_module_version": "1.2.0",
            "_view_name": "LayoutView",
            "align_content": null,
            "align_items": null,
            "align_self": null,
            "border": null,
            "bottom": null,
            "display": null,
            "flex": null,
            "flex_flow": null,
            "grid_area": null,
            "grid_auto_columns": null,
            "grid_auto_flow": null,
            "grid_auto_rows": null,
            "grid_column": null,
            "grid_gap": null,
            "grid_row": null,
            "grid_template_areas": null,
            "grid_template_columns": null,
            "grid_template_rows": null,
            "height": null,
            "justify_content": null,
            "justify_items": null,
            "left": null,
            "margin": null,
            "max_height": null,
            "max_width": null,
            "min_height": null,
            "min_width": null,
            "object_fit": null,
            "object_position": null,
            "order": null,
            "overflow": null,
            "overflow_x": null,
            "overflow_y": null,
            "padding": null,
            "right": null,
            "top": null,
            "visibility": null,
            "width": null
          }
        },
        "6e918fc3ce514f79855f3a7a31c56022": {
          "model_module": "@jupyter-widgets/controls",
          "model_name": "ProgressStyleModel",
          "model_module_version": "1.5.0",
          "state": {
            "_model_module": "@jupyter-widgets/controls",
            "_model_module_version": "1.5.0",
            "_model_name": "ProgressStyleModel",
            "_view_count": null,
            "_view_module": "@jupyter-widgets/base",
            "_view_module_version": "1.2.0",
            "_view_name": "StyleView",
            "bar_color": null,
            "description_width": ""
          }
        },
        "7ee9a91e35bf43dca1dabaf1b0253e87": {
          "model_module": "@jupyter-widgets/base",
          "model_name": "LayoutModel",
          "model_module_version": "1.2.0",
          "state": {
            "_model_module": "@jupyter-widgets/base",
            "_model_module_version": "1.2.0",
            "_model_name": "LayoutModel",
            "_view_count": null,
            "_view_module": "@jupyter-widgets/base",
            "_view_module_version": "1.2.0",
            "_view_name": "LayoutView",
            "align_content": null,
            "align_items": null,
            "align_self": null,
            "border": null,
            "bottom": null,
            "display": null,
            "flex": null,
            "flex_flow": null,
            "grid_area": null,
            "grid_auto_columns": null,
            "grid_auto_flow": null,
            "grid_auto_rows": null,
            "grid_column": null,
            "grid_gap": null,
            "grid_row": null,
            "grid_template_areas": null,
            "grid_template_columns": null,
            "grid_template_rows": null,
            "height": null,
            "justify_content": null,
            "justify_items": null,
            "left": null,
            "margin": null,
            "max_height": null,
            "max_width": null,
            "min_height": null,
            "min_width": null,
            "object_fit": null,
            "object_position": null,
            "order": null,
            "overflow": null,
            "overflow_x": null,
            "overflow_y": null,
            "padding": null,
            "right": null,
            "top": null,
            "visibility": null,
            "width": null
          }
        },
        "211b5af220a8440d93749449bf9fdcfe": {
          "model_module": "@jupyter-widgets/controls",
          "model_name": "DescriptionStyleModel",
          "model_module_version": "1.5.0",
          "state": {
            "_model_module": "@jupyter-widgets/controls",
            "_model_module_version": "1.5.0",
            "_model_name": "DescriptionStyleModel",
            "_view_count": null,
            "_view_module": "@jupyter-widgets/base",
            "_view_module_version": "1.2.0",
            "_view_name": "StyleView",
            "description_width": ""
          }
        },
        "7e81cb357c9a4d3e853a15ef31ad68e7": {
          "model_module": "@jupyter-widgets/controls",
          "model_name": "VBoxModel",
          "model_module_version": "1.5.0",
          "state": {
            "_dom_classes": [],
            "_model_module": "@jupyter-widgets/controls",
            "_model_module_version": "1.5.0",
            "_model_name": "VBoxModel",
            "_view_count": null,
            "_view_module": "@jupyter-widgets/controls",
            "_view_module_version": "1.5.0",
            "_view_name": "VBoxView",
            "box_style": "",
            "children": [
              "IPY_MODEL_d9f24063f34f49c5badaed53a888b3f9",
              "IPY_MODEL_9c4ab078a0844a07b6eb4677b1e629b1"
            ],
            "layout": "IPY_MODEL_0c0052b9f2ed4f9db6cb3dc0c4308005"
          }
        },
        "d9f24063f34f49c5badaed53a888b3f9": {
          "model_module": "@jupyter-widgets/controls",
          "model_name": "LabelModel",
          "model_module_version": "1.5.0",
          "state": {
            "_dom_classes": [],
            "_model_module": "@jupyter-widgets/controls",
            "_model_module_version": "1.5.0",
            "_model_name": "LabelModel",
            "_view_count": null,
            "_view_module": "@jupyter-widgets/controls",
            "_view_module_version": "1.5.0",
            "_view_name": "LabelView",
            "description": "",
            "description_tooltip": null,
            "layout": "IPY_MODEL_a698175c562443b5b39e9facc4398b79",
            "placeholder": "​",
            "style": "IPY_MODEL_5c6e2e4e1053408d8adea3f99e814664",
            "value": "0.006 MB of 0.006 MB uploaded (0.000 MB deduped)\r"
          }
        },
        "9c4ab078a0844a07b6eb4677b1e629b1": {
          "model_module": "@jupyter-widgets/controls",
          "model_name": "FloatProgressModel",
          "model_module_version": "1.5.0",
          "state": {
            "_dom_classes": [],
            "_model_module": "@jupyter-widgets/controls",
            "_model_module_version": "1.5.0",
            "_model_name": "FloatProgressModel",
            "_view_count": null,
            "_view_module": "@jupyter-widgets/controls",
            "_view_module_version": "1.5.0",
            "_view_name": "ProgressView",
            "bar_style": "",
            "description": "",
            "description_tooltip": null,
            "layout": "IPY_MODEL_7ca5e7bde63946528fa596116c18eb2b",
            "max": 1,
            "min": 0,
            "orientation": "horizontal",
            "style": "IPY_MODEL_17bb1dd8e3774812b27e2015fa4d90fd",
            "value": 1
          }
        },
        "0c0052b9f2ed4f9db6cb3dc0c4308005": {
          "model_module": "@jupyter-widgets/base",
          "model_name": "LayoutModel",
          "model_module_version": "1.2.0",
          "state": {
            "_model_module": "@jupyter-widgets/base",
            "_model_module_version": "1.2.0",
            "_model_name": "LayoutModel",
            "_view_count": null,
            "_view_module": "@jupyter-widgets/base",
            "_view_module_version": "1.2.0",
            "_view_name": "LayoutView",
            "align_content": null,
            "align_items": null,
            "align_self": null,
            "border": null,
            "bottom": null,
            "display": null,
            "flex": null,
            "flex_flow": null,
            "grid_area": null,
            "grid_auto_columns": null,
            "grid_auto_flow": null,
            "grid_auto_rows": null,
            "grid_column": null,
            "grid_gap": null,
            "grid_row": null,
            "grid_template_areas": null,
            "grid_template_columns": null,
            "grid_template_rows": null,
            "height": null,
            "justify_content": null,
            "justify_items": null,
            "left": null,
            "margin": null,
            "max_height": null,
            "max_width": null,
            "min_height": null,
            "min_width": null,
            "object_fit": null,
            "object_position": null,
            "order": null,
            "overflow": null,
            "overflow_x": null,
            "overflow_y": null,
            "padding": null,
            "right": null,
            "top": null,
            "visibility": null,
            "width": null
          }
        },
        "a698175c562443b5b39e9facc4398b79": {
          "model_module": "@jupyter-widgets/base",
          "model_name": "LayoutModel",
          "model_module_version": "1.2.0",
          "state": {
            "_model_module": "@jupyter-widgets/base",
            "_model_module_version": "1.2.0",
            "_model_name": "LayoutModel",
            "_view_count": null,
            "_view_module": "@jupyter-widgets/base",
            "_view_module_version": "1.2.0",
            "_view_name": "LayoutView",
            "align_content": null,
            "align_items": null,
            "align_self": null,
            "border": null,
            "bottom": null,
            "display": null,
            "flex": null,
            "flex_flow": null,
            "grid_area": null,
            "grid_auto_columns": null,
            "grid_auto_flow": null,
            "grid_auto_rows": null,
            "grid_column": null,
            "grid_gap": null,
            "grid_row": null,
            "grid_template_areas": null,
            "grid_template_columns": null,
            "grid_template_rows": null,
            "height": null,
            "justify_content": null,
            "justify_items": null,
            "left": null,
            "margin": null,
            "max_height": null,
            "max_width": null,
            "min_height": null,
            "min_width": null,
            "object_fit": null,
            "object_position": null,
            "order": null,
            "overflow": null,
            "overflow_x": null,
            "overflow_y": null,
            "padding": null,
            "right": null,
            "top": null,
            "visibility": null,
            "width": null
          }
        },
        "5c6e2e4e1053408d8adea3f99e814664": {
          "model_module": "@jupyter-widgets/controls",
          "model_name": "DescriptionStyleModel",
          "model_module_version": "1.5.0",
          "state": {
            "_model_module": "@jupyter-widgets/controls",
            "_model_module_version": "1.5.0",
            "_model_name": "DescriptionStyleModel",
            "_view_count": null,
            "_view_module": "@jupyter-widgets/base",
            "_view_module_version": "1.2.0",
            "_view_name": "StyleView",
            "description_width": ""
          }
        },
        "7ca5e7bde63946528fa596116c18eb2b": {
          "model_module": "@jupyter-widgets/base",
          "model_name": "LayoutModel",
          "model_module_version": "1.2.0",
          "state": {
            "_model_module": "@jupyter-widgets/base",
            "_model_module_version": "1.2.0",
            "_model_name": "LayoutModel",
            "_view_count": null,
            "_view_module": "@jupyter-widgets/base",
            "_view_module_version": "1.2.0",
            "_view_name": "LayoutView",
            "align_content": null,
            "align_items": null,
            "align_self": null,
            "border": null,
            "bottom": null,
            "display": null,
            "flex": null,
            "flex_flow": null,
            "grid_area": null,
            "grid_auto_columns": null,
            "grid_auto_flow": null,
            "grid_auto_rows": null,
            "grid_column": null,
            "grid_gap": null,
            "grid_row": null,
            "grid_template_areas": null,
            "grid_template_columns": null,
            "grid_template_rows": null,
            "height": null,
            "justify_content": null,
            "justify_items": null,
            "left": null,
            "margin": null,
            "max_height": null,
            "max_width": null,
            "min_height": null,
            "min_width": null,
            "object_fit": null,
            "object_position": null,
            "order": null,
            "overflow": null,
            "overflow_x": null,
            "overflow_y": null,
            "padding": null,
            "right": null,
            "top": null,
            "visibility": null,
            "width": null
          }
        },
        "17bb1dd8e3774812b27e2015fa4d90fd": {
          "model_module": "@jupyter-widgets/controls",
          "model_name": "ProgressStyleModel",
          "model_module_version": "1.5.0",
          "state": {
            "_model_module": "@jupyter-widgets/controls",
            "_model_module_version": "1.5.0",
            "_model_name": "ProgressStyleModel",
            "_view_count": null,
            "_view_module": "@jupyter-widgets/base",
            "_view_module_version": "1.2.0",
            "_view_name": "StyleView",
            "bar_color": null,
            "description_width": ""
          }
        },
        "82835795c6014947a63ee02d0aaaf898": {
          "model_module": "@jupyter-widgets/controls",
          "model_name": "HBoxModel",
          "model_module_version": "1.5.0",
          "state": {
            "_dom_classes": [],
            "_model_module": "@jupyter-widgets/controls",
            "_model_module_version": "1.5.0",
            "_model_name": "HBoxModel",
            "_view_count": null,
            "_view_module": "@jupyter-widgets/controls",
            "_view_module_version": "1.5.0",
            "_view_name": "HBoxView",
            "box_style": "",
            "children": [
              "IPY_MODEL_0f9169f7779d4fc6ad0ffd036cc54980",
              "IPY_MODEL_3e5149bc33db4367ba183997fa955ecd",
              "IPY_MODEL_4e9522e5af50462f8a8e6963864ac15e"
            ],
            "layout": "IPY_MODEL_4e4f32f9864545538612be96c0cdae6a"
          }
        },
        "0f9169f7779d4fc6ad0ffd036cc54980": {
          "model_module": "@jupyter-widgets/controls",
          "model_name": "HTMLModel",
          "model_module_version": "1.5.0",
          "state": {
            "_dom_classes": [],
            "_model_module": "@jupyter-widgets/controls",
            "_model_module_version": "1.5.0",
            "_model_name": "HTMLModel",
            "_view_count": null,
            "_view_module": "@jupyter-widgets/controls",
            "_view_module_version": "1.5.0",
            "_view_name": "HTMLView",
            "description": "",
            "description_tooltip": null,
            "layout": "IPY_MODEL_76a5c87eaf3141e197a224292a35d58a",
            "placeholder": "​",
            "style": "IPY_MODEL_f84f94327287483aa98bd939699661e7",
            "value": "Map: 100%"
          }
        },
        "3e5149bc33db4367ba183997fa955ecd": {
          "model_module": "@jupyter-widgets/controls",
          "model_name": "FloatProgressModel",
          "model_module_version": "1.5.0",
          "state": {
            "_dom_classes": [],
            "_model_module": "@jupyter-widgets/controls",
            "_model_module_version": "1.5.0",
            "_model_name": "FloatProgressModel",
            "_view_count": null,
            "_view_module": "@jupyter-widgets/controls",
            "_view_module_version": "1.5.0",
            "_view_name": "ProgressView",
            "bar_style": "success",
            "description": "",
            "description_tooltip": null,
            "layout": "IPY_MODEL_0679764063454d37b077e813063775a8",
            "max": 1000,
            "min": 0,
            "orientation": "horizontal",
            "style": "IPY_MODEL_b1acbe59ac0f4bf397aebd6847623165",
            "value": 1000
          }
        },
        "4e9522e5af50462f8a8e6963864ac15e": {
          "model_module": "@jupyter-widgets/controls",
          "model_name": "HTMLModel",
          "model_module_version": "1.5.0",
          "state": {
            "_dom_classes": [],
            "_model_module": "@jupyter-widgets/controls",
            "_model_module_version": "1.5.0",
            "_model_name": "HTMLModel",
            "_view_count": null,
            "_view_module": "@jupyter-widgets/controls",
            "_view_module_version": "1.5.0",
            "_view_name": "HTMLView",
            "description": "",
            "description_tooltip": null,
            "layout": "IPY_MODEL_bd1898684afb415a81adce653f96eae0",
            "placeholder": "​",
            "style": "IPY_MODEL_fa31363f146b4e0cac5e026c30dfbc62",
            "value": " 1000/1000 [00:00&lt;00:00, 6689.82 examples/s]"
          }
        },
        "4e4f32f9864545538612be96c0cdae6a": {
          "model_module": "@jupyter-widgets/base",
          "model_name": "LayoutModel",
          "model_module_version": "1.2.0",
          "state": {
            "_model_module": "@jupyter-widgets/base",
            "_model_module_version": "1.2.0",
            "_model_name": "LayoutModel",
            "_view_count": null,
            "_view_module": "@jupyter-widgets/base",
            "_view_module_version": "1.2.0",
            "_view_name": "LayoutView",
            "align_content": null,
            "align_items": null,
            "align_self": null,
            "border": null,
            "bottom": null,
            "display": null,
            "flex": null,
            "flex_flow": null,
            "grid_area": null,
            "grid_auto_columns": null,
            "grid_auto_flow": null,
            "grid_auto_rows": null,
            "grid_column": null,
            "grid_gap": null,
            "grid_row": null,
            "grid_template_areas": null,
            "grid_template_columns": null,
            "grid_template_rows": null,
            "height": null,
            "justify_content": null,
            "justify_items": null,
            "left": null,
            "margin": null,
            "max_height": null,
            "max_width": null,
            "min_height": null,
            "min_width": null,
            "object_fit": null,
            "object_position": null,
            "order": null,
            "overflow": null,
            "overflow_x": null,
            "overflow_y": null,
            "padding": null,
            "right": null,
            "top": null,
            "visibility": null,
            "width": null
          }
        },
        "76a5c87eaf3141e197a224292a35d58a": {
          "model_module": "@jupyter-widgets/base",
          "model_name": "LayoutModel",
          "model_module_version": "1.2.0",
          "state": {
            "_model_module": "@jupyter-widgets/base",
            "_model_module_version": "1.2.0",
            "_model_name": "LayoutModel",
            "_view_count": null,
            "_view_module": "@jupyter-widgets/base",
            "_view_module_version": "1.2.0",
            "_view_name": "LayoutView",
            "align_content": null,
            "align_items": null,
            "align_self": null,
            "border": null,
            "bottom": null,
            "display": null,
            "flex": null,
            "flex_flow": null,
            "grid_area": null,
            "grid_auto_columns": null,
            "grid_auto_flow": null,
            "grid_auto_rows": null,
            "grid_column": null,
            "grid_gap": null,
            "grid_row": null,
            "grid_template_areas": null,
            "grid_template_columns": null,
            "grid_template_rows": null,
            "height": null,
            "justify_content": null,
            "justify_items": null,
            "left": null,
            "margin": null,
            "max_height": null,
            "max_width": null,
            "min_height": null,
            "min_width": null,
            "object_fit": null,
            "object_position": null,
            "order": null,
            "overflow": null,
            "overflow_x": null,
            "overflow_y": null,
            "padding": null,
            "right": null,
            "top": null,
            "visibility": null,
            "width": null
          }
        },
        "f84f94327287483aa98bd939699661e7": {
          "model_module": "@jupyter-widgets/controls",
          "model_name": "DescriptionStyleModel",
          "model_module_version": "1.5.0",
          "state": {
            "_model_module": "@jupyter-widgets/controls",
            "_model_module_version": "1.5.0",
            "_model_name": "DescriptionStyleModel",
            "_view_count": null,
            "_view_module": "@jupyter-widgets/base",
            "_view_module_version": "1.2.0",
            "_view_name": "StyleView",
            "description_width": ""
          }
        },
        "0679764063454d37b077e813063775a8": {
          "model_module": "@jupyter-widgets/base",
          "model_name": "LayoutModel",
          "model_module_version": "1.2.0",
          "state": {
            "_model_module": "@jupyter-widgets/base",
            "_model_module_version": "1.2.0",
            "_model_name": "LayoutModel",
            "_view_count": null,
            "_view_module": "@jupyter-widgets/base",
            "_view_module_version": "1.2.0",
            "_view_name": "LayoutView",
            "align_content": null,
            "align_items": null,
            "align_self": null,
            "border": null,
            "bottom": null,
            "display": null,
            "flex": null,
            "flex_flow": null,
            "grid_area": null,
            "grid_auto_columns": null,
            "grid_auto_flow": null,
            "grid_auto_rows": null,
            "grid_column": null,
            "grid_gap": null,
            "grid_row": null,
            "grid_template_areas": null,
            "grid_template_columns": null,
            "grid_template_rows": null,
            "height": null,
            "justify_content": null,
            "justify_items": null,
            "left": null,
            "margin": null,
            "max_height": null,
            "max_width": null,
            "min_height": null,
            "min_width": null,
            "object_fit": null,
            "object_position": null,
            "order": null,
            "overflow": null,
            "overflow_x": null,
            "overflow_y": null,
            "padding": null,
            "right": null,
            "top": null,
            "visibility": null,
            "width": null
          }
        },
        "b1acbe59ac0f4bf397aebd6847623165": {
          "model_module": "@jupyter-widgets/controls",
          "model_name": "ProgressStyleModel",
          "model_module_version": "1.5.0",
          "state": {
            "_model_module": "@jupyter-widgets/controls",
            "_model_module_version": "1.5.0",
            "_model_name": "ProgressStyleModel",
            "_view_count": null,
            "_view_module": "@jupyter-widgets/base",
            "_view_module_version": "1.2.0",
            "_view_name": "StyleView",
            "bar_color": null,
            "description_width": ""
          }
        },
        "bd1898684afb415a81adce653f96eae0": {
          "model_module": "@jupyter-widgets/base",
          "model_name": "LayoutModel",
          "model_module_version": "1.2.0",
          "state": {
            "_model_module": "@jupyter-widgets/base",
            "_model_module_version": "1.2.0",
            "_model_name": "LayoutModel",
            "_view_count": null,
            "_view_module": "@jupyter-widgets/base",
            "_view_module_version": "1.2.0",
            "_view_name": "LayoutView",
            "align_content": null,
            "align_items": null,
            "align_self": null,
            "border": null,
            "bottom": null,
            "display": null,
            "flex": null,
            "flex_flow": null,
            "grid_area": null,
            "grid_auto_columns": null,
            "grid_auto_flow": null,
            "grid_auto_rows": null,
            "grid_column": null,
            "grid_gap": null,
            "grid_row": null,
            "grid_template_areas": null,
            "grid_template_columns": null,
            "grid_template_rows": null,
            "height": null,
            "justify_content": null,
            "justify_items": null,
            "left": null,
            "margin": null,
            "max_height": null,
            "max_width": null,
            "min_height": null,
            "min_width": null,
            "object_fit": null,
            "object_position": null,
            "order": null,
            "overflow": null,
            "overflow_x": null,
            "overflow_y": null,
            "padding": null,
            "right": null,
            "top": null,
            "visibility": null,
            "width": null
          }
        },
        "fa31363f146b4e0cac5e026c30dfbc62": {
          "model_module": "@jupyter-widgets/controls",
          "model_name": "DescriptionStyleModel",
          "model_module_version": "1.5.0",
          "state": {
            "_model_module": "@jupyter-widgets/controls",
            "_model_module_version": "1.5.0",
            "_model_name": "DescriptionStyleModel",
            "_view_count": null,
            "_view_module": "@jupyter-widgets/base",
            "_view_module_version": "1.2.0",
            "_view_name": "StyleView",
            "description_width": ""
          }
        },
        "c0114a2cace948f9963dfaeb6c33477d": {
          "model_module": "@jupyter-widgets/controls",
          "model_name": "HBoxModel",
          "model_module_version": "1.5.0",
          "state": {
            "_dom_classes": [],
            "_model_module": "@jupyter-widgets/controls",
            "_model_module_version": "1.5.0",
            "_model_name": "HBoxModel",
            "_view_count": null,
            "_view_module": "@jupyter-widgets/controls",
            "_view_module_version": "1.5.0",
            "_view_name": "HBoxView",
            "box_style": "",
            "children": [
              "IPY_MODEL_73e7dd27241d492b834d8a18b5416acf",
              "IPY_MODEL_bdeff636890b47fbad2c33e140f1a148",
              "IPY_MODEL_4b9d03f03d1049b98a6376c2423d1005"
            ],
            "layout": "IPY_MODEL_427c554520dd49c1aea638f980b52290"
          }
        },
        "73e7dd27241d492b834d8a18b5416acf": {
          "model_module": "@jupyter-widgets/controls",
          "model_name": "HTMLModel",
          "model_module_version": "1.5.0",
          "state": {
            "_dom_classes": [],
            "_model_module": "@jupyter-widgets/controls",
            "_model_module_version": "1.5.0",
            "_model_name": "HTMLModel",
            "_view_count": null,
            "_view_module": "@jupyter-widgets/controls",
            "_view_module_version": "1.5.0",
            "_view_name": "HTMLView",
            "description": "",
            "description_tooltip": null,
            "layout": "IPY_MODEL_91c4e56b40c24f27a53f84cab19d2084",
            "placeholder": "​",
            "style": "IPY_MODEL_5f90d3f8a3e748278e432edde621804e",
            "value": "Map: 100%"
          }
        },
        "bdeff636890b47fbad2c33e140f1a148": {
          "model_module": "@jupyter-widgets/controls",
          "model_name": "FloatProgressModel",
          "model_module_version": "1.5.0",
          "state": {
            "_dom_classes": [],
            "_model_module": "@jupyter-widgets/controls",
            "_model_module_version": "1.5.0",
            "_model_name": "FloatProgressModel",
            "_view_count": null,
            "_view_module": "@jupyter-widgets/controls",
            "_view_module_version": "1.5.0",
            "_view_name": "ProgressView",
            "bar_style": "success",
            "description": "",
            "description_tooltip": null,
            "layout": "IPY_MODEL_bb7bfda43a2c4d2fb586d5e6aa882d76",
            "max": 1000,
            "min": 0,
            "orientation": "horizontal",
            "style": "IPY_MODEL_ed772db354a2493b9524c8e6fed1eddb",
            "value": 1000
          }
        },
        "4b9d03f03d1049b98a6376c2423d1005": {
          "model_module": "@jupyter-widgets/controls",
          "model_name": "HTMLModel",
          "model_module_version": "1.5.0",
          "state": {
            "_dom_classes": [],
            "_model_module": "@jupyter-widgets/controls",
            "_model_module_version": "1.5.0",
            "_model_name": "HTMLModel",
            "_view_count": null,
            "_view_module": "@jupyter-widgets/controls",
            "_view_module_version": "1.5.0",
            "_view_name": "HTMLView",
            "description": "",
            "description_tooltip": null,
            "layout": "IPY_MODEL_2b674e01766c41238c7ee7532ea3cdb2",
            "placeholder": "​",
            "style": "IPY_MODEL_c09c7f71b0174c9a91b60afce6684a7d",
            "value": " 1000/1000 [00:00&lt;00:00, 3949.97 examples/s]"
          }
        },
        "427c554520dd49c1aea638f980b52290": {
          "model_module": "@jupyter-widgets/base",
          "model_name": "LayoutModel",
          "model_module_version": "1.2.0",
          "state": {
            "_model_module": "@jupyter-widgets/base",
            "_model_module_version": "1.2.0",
            "_model_name": "LayoutModel",
            "_view_count": null,
            "_view_module": "@jupyter-widgets/base",
            "_view_module_version": "1.2.0",
            "_view_name": "LayoutView",
            "align_content": null,
            "align_items": null,
            "align_self": null,
            "border": null,
            "bottom": null,
            "display": null,
            "flex": null,
            "flex_flow": null,
            "grid_area": null,
            "grid_auto_columns": null,
            "grid_auto_flow": null,
            "grid_auto_rows": null,
            "grid_column": null,
            "grid_gap": null,
            "grid_row": null,
            "grid_template_areas": null,
            "grid_template_columns": null,
            "grid_template_rows": null,
            "height": null,
            "justify_content": null,
            "justify_items": null,
            "left": null,
            "margin": null,
            "max_height": null,
            "max_width": null,
            "min_height": null,
            "min_width": null,
            "object_fit": null,
            "object_position": null,
            "order": null,
            "overflow": null,
            "overflow_x": null,
            "overflow_y": null,
            "padding": null,
            "right": null,
            "top": null,
            "visibility": null,
            "width": null
          }
        },
        "91c4e56b40c24f27a53f84cab19d2084": {
          "model_module": "@jupyter-widgets/base",
          "model_name": "LayoutModel",
          "model_module_version": "1.2.0",
          "state": {
            "_model_module": "@jupyter-widgets/base",
            "_model_module_version": "1.2.0",
            "_model_name": "LayoutModel",
            "_view_count": null,
            "_view_module": "@jupyter-widgets/base",
            "_view_module_version": "1.2.0",
            "_view_name": "LayoutView",
            "align_content": null,
            "align_items": null,
            "align_self": null,
            "border": null,
            "bottom": null,
            "display": null,
            "flex": null,
            "flex_flow": null,
            "grid_area": null,
            "grid_auto_columns": null,
            "grid_auto_flow": null,
            "grid_auto_rows": null,
            "grid_column": null,
            "grid_gap": null,
            "grid_row": null,
            "grid_template_areas": null,
            "grid_template_columns": null,
            "grid_template_rows": null,
            "height": null,
            "justify_content": null,
            "justify_items": null,
            "left": null,
            "margin": null,
            "max_height": null,
            "max_width": null,
            "min_height": null,
            "min_width": null,
            "object_fit": null,
            "object_position": null,
            "order": null,
            "overflow": null,
            "overflow_x": null,
            "overflow_y": null,
            "padding": null,
            "right": null,
            "top": null,
            "visibility": null,
            "width": null
          }
        },
        "5f90d3f8a3e748278e432edde621804e": {
          "model_module": "@jupyter-widgets/controls",
          "model_name": "DescriptionStyleModel",
          "model_module_version": "1.5.0",
          "state": {
            "_model_module": "@jupyter-widgets/controls",
            "_model_module_version": "1.5.0",
            "_model_name": "DescriptionStyleModel",
            "_view_count": null,
            "_view_module": "@jupyter-widgets/base",
            "_view_module_version": "1.2.0",
            "_view_name": "StyleView",
            "description_width": ""
          }
        },
        "bb7bfda43a2c4d2fb586d5e6aa882d76": {
          "model_module": "@jupyter-widgets/base",
          "model_name": "LayoutModel",
          "model_module_version": "1.2.0",
          "state": {
            "_model_module": "@jupyter-widgets/base",
            "_model_module_version": "1.2.0",
            "_model_name": "LayoutModel",
            "_view_count": null,
            "_view_module": "@jupyter-widgets/base",
            "_view_module_version": "1.2.0",
            "_view_name": "LayoutView",
            "align_content": null,
            "align_items": null,
            "align_self": null,
            "border": null,
            "bottom": null,
            "display": null,
            "flex": null,
            "flex_flow": null,
            "grid_area": null,
            "grid_auto_columns": null,
            "grid_auto_flow": null,
            "grid_auto_rows": null,
            "grid_column": null,
            "grid_gap": null,
            "grid_row": null,
            "grid_template_areas": null,
            "grid_template_columns": null,
            "grid_template_rows": null,
            "height": null,
            "justify_content": null,
            "justify_items": null,
            "left": null,
            "margin": null,
            "max_height": null,
            "max_width": null,
            "min_height": null,
            "min_width": null,
            "object_fit": null,
            "object_position": null,
            "order": null,
            "overflow": null,
            "overflow_x": null,
            "overflow_y": null,
            "padding": null,
            "right": null,
            "top": null,
            "visibility": null,
            "width": null
          }
        },
        "ed772db354a2493b9524c8e6fed1eddb": {
          "model_module": "@jupyter-widgets/controls",
          "model_name": "ProgressStyleModel",
          "model_module_version": "1.5.0",
          "state": {
            "_model_module": "@jupyter-widgets/controls",
            "_model_module_version": "1.5.0",
            "_model_name": "ProgressStyleModel",
            "_view_count": null,
            "_view_module": "@jupyter-widgets/base",
            "_view_module_version": "1.2.0",
            "_view_name": "StyleView",
            "bar_color": null,
            "description_width": ""
          }
        },
        "2b674e01766c41238c7ee7532ea3cdb2": {
          "model_module": "@jupyter-widgets/base",
          "model_name": "LayoutModel",
          "model_module_version": "1.2.0",
          "state": {
            "_model_module": "@jupyter-widgets/base",
            "_model_module_version": "1.2.0",
            "_model_name": "LayoutModel",
            "_view_count": null,
            "_view_module": "@jupyter-widgets/base",
            "_view_module_version": "1.2.0",
            "_view_name": "LayoutView",
            "align_content": null,
            "align_items": null,
            "align_self": null,
            "border": null,
            "bottom": null,
            "display": null,
            "flex": null,
            "flex_flow": null,
            "grid_area": null,
            "grid_auto_columns": null,
            "grid_auto_flow": null,
            "grid_auto_rows": null,
            "grid_column": null,
            "grid_gap": null,
            "grid_row": null,
            "grid_template_areas": null,
            "grid_template_columns": null,
            "grid_template_rows": null,
            "height": null,
            "justify_content": null,
            "justify_items": null,
            "left": null,
            "margin": null,
            "max_height": null,
            "max_width": null,
            "min_height": null,
            "min_width": null,
            "object_fit": null,
            "object_position": null,
            "order": null,
            "overflow": null,
            "overflow_x": null,
            "overflow_y": null,
            "padding": null,
            "right": null,
            "top": null,
            "visibility": null,
            "width": null
          }
        },
        "c09c7f71b0174c9a91b60afce6684a7d": {
          "model_module": "@jupyter-widgets/controls",
          "model_name": "DescriptionStyleModel",
          "model_module_version": "1.5.0",
          "state": {
            "_model_module": "@jupyter-widgets/controls",
            "_model_module_version": "1.5.0",
            "_model_name": "DescriptionStyleModel",
            "_view_count": null,
            "_view_module": "@jupyter-widgets/base",
            "_view_module_version": "1.2.0",
            "_view_name": "StyleView",
            "description_width": ""
          }
        },
        "571035b1c10846abb95c278425b83c0e": {
          "model_module": "@jupyter-widgets/controls",
          "model_name": "HBoxModel",
          "model_module_version": "1.5.0",
          "state": {
            "_dom_classes": [],
            "_model_module": "@jupyter-widgets/controls",
            "_model_module_version": "1.5.0",
            "_model_name": "HBoxModel",
            "_view_count": null,
            "_view_module": "@jupyter-widgets/controls",
            "_view_module_version": "1.5.0",
            "_view_name": "HBoxView",
            "box_style": "",
            "children": [
              "IPY_MODEL_543540c73c88444ba7433c23732dfaae",
              "IPY_MODEL_0f48d4ee0970449f8890e9c01eedad27",
              "IPY_MODEL_db1d5a7fe98c4b748b507287ab7ef989"
            ],
            "layout": "IPY_MODEL_f62a89afec08484a9ac2cf3c9e2e33c1"
          }
        },
        "543540c73c88444ba7433c23732dfaae": {
          "model_module": "@jupyter-widgets/controls",
          "model_name": "HTMLModel",
          "model_module_version": "1.5.0",
          "state": {
            "_dom_classes": [],
            "_model_module": "@jupyter-widgets/controls",
            "_model_module_version": "1.5.0",
            "_model_name": "HTMLModel",
            "_view_count": null,
            "_view_module": "@jupyter-widgets/controls",
            "_view_module_version": "1.5.0",
            "_view_name": "HTMLView",
            "description": "",
            "description_tooltip": null,
            "layout": "IPY_MODEL_c7330567e085420e9b945c86e5b02c05",
            "placeholder": "​",
            "style": "IPY_MODEL_3601b5ead2bd47f98c60fcb3f1f870c8",
            "value": "Downloading (…)lve/main/config.json: 100%"
          }
        },
        "0f48d4ee0970449f8890e9c01eedad27": {
          "model_module": "@jupyter-widgets/controls",
          "model_name": "FloatProgressModel",
          "model_module_version": "1.5.0",
          "state": {
            "_dom_classes": [],
            "_model_module": "@jupyter-widgets/controls",
            "_model_module_version": "1.5.0",
            "_model_name": "FloatProgressModel",
            "_view_count": null,
            "_view_module": "@jupyter-widgets/controls",
            "_view_module_version": "1.5.0",
            "_view_name": "ProgressView",
            "bar_style": "success",
            "description": "",
            "description_tooltip": null,
            "layout": "IPY_MODEL_84038cfb4baa4e4f9f314ba3c518272a",
            "max": 684,
            "min": 0,
            "orientation": "horizontal",
            "style": "IPY_MODEL_a292d1d28bc64bcaba915fe6a7ff7ddb",
            "value": 684
          }
        },
        "db1d5a7fe98c4b748b507287ab7ef989": {
          "model_module": "@jupyter-widgets/controls",
          "model_name": "HTMLModel",
          "model_module_version": "1.5.0",
          "state": {
            "_dom_classes": [],
            "_model_module": "@jupyter-widgets/controls",
            "_model_module_version": "1.5.0",
            "_model_name": "HTMLModel",
            "_view_count": null,
            "_view_module": "@jupyter-widgets/controls",
            "_view_module_version": "1.5.0",
            "_view_name": "HTMLView",
            "description": "",
            "description_tooltip": null,
            "layout": "IPY_MODEL_1542fb9eb509459585f814e7e674765f",
            "placeholder": "​",
            "style": "IPY_MODEL_0f5dcd367b1445568023d6465e9f9b4d",
            "value": " 684/684 [00:00&lt;00:00, 17.2kB/s]"
          }
        },
        "f62a89afec08484a9ac2cf3c9e2e33c1": {
          "model_module": "@jupyter-widgets/base",
          "model_name": "LayoutModel",
          "model_module_version": "1.2.0",
          "state": {
            "_model_module": "@jupyter-widgets/base",
            "_model_module_version": "1.2.0",
            "_model_name": "LayoutModel",
            "_view_count": null,
            "_view_module": "@jupyter-widgets/base",
            "_view_module_version": "1.2.0",
            "_view_name": "LayoutView",
            "align_content": null,
            "align_items": null,
            "align_self": null,
            "border": null,
            "bottom": null,
            "display": null,
            "flex": null,
            "flex_flow": null,
            "grid_area": null,
            "grid_auto_columns": null,
            "grid_auto_flow": null,
            "grid_auto_rows": null,
            "grid_column": null,
            "grid_gap": null,
            "grid_row": null,
            "grid_template_areas": null,
            "grid_template_columns": null,
            "grid_template_rows": null,
            "height": null,
            "justify_content": null,
            "justify_items": null,
            "left": null,
            "margin": null,
            "max_height": null,
            "max_width": null,
            "min_height": null,
            "min_width": null,
            "object_fit": null,
            "object_position": null,
            "order": null,
            "overflow": null,
            "overflow_x": null,
            "overflow_y": null,
            "padding": null,
            "right": null,
            "top": null,
            "visibility": null,
            "width": null
          }
        },
        "c7330567e085420e9b945c86e5b02c05": {
          "model_module": "@jupyter-widgets/base",
          "model_name": "LayoutModel",
          "model_module_version": "1.2.0",
          "state": {
            "_model_module": "@jupyter-widgets/base",
            "_model_module_version": "1.2.0",
            "_model_name": "LayoutModel",
            "_view_count": null,
            "_view_module": "@jupyter-widgets/base",
            "_view_module_version": "1.2.0",
            "_view_name": "LayoutView",
            "align_content": null,
            "align_items": null,
            "align_self": null,
            "border": null,
            "bottom": null,
            "display": null,
            "flex": null,
            "flex_flow": null,
            "grid_area": null,
            "grid_auto_columns": null,
            "grid_auto_flow": null,
            "grid_auto_rows": null,
            "grid_column": null,
            "grid_gap": null,
            "grid_row": null,
            "grid_template_areas": null,
            "grid_template_columns": null,
            "grid_template_rows": null,
            "height": null,
            "justify_content": null,
            "justify_items": null,
            "left": null,
            "margin": null,
            "max_height": null,
            "max_width": null,
            "min_height": null,
            "min_width": null,
            "object_fit": null,
            "object_position": null,
            "order": null,
            "overflow": null,
            "overflow_x": null,
            "overflow_y": null,
            "padding": null,
            "right": null,
            "top": null,
            "visibility": null,
            "width": null
          }
        },
        "3601b5ead2bd47f98c60fcb3f1f870c8": {
          "model_module": "@jupyter-widgets/controls",
          "model_name": "DescriptionStyleModel",
          "model_module_version": "1.5.0",
          "state": {
            "_model_module": "@jupyter-widgets/controls",
            "_model_module_version": "1.5.0",
            "_model_name": "DescriptionStyleModel",
            "_view_count": null,
            "_view_module": "@jupyter-widgets/base",
            "_view_module_version": "1.2.0",
            "_view_name": "StyleView",
            "description_width": ""
          }
        },
        "84038cfb4baa4e4f9f314ba3c518272a": {
          "model_module": "@jupyter-widgets/base",
          "model_name": "LayoutModel",
          "model_module_version": "1.2.0",
          "state": {
            "_model_module": "@jupyter-widgets/base",
            "_model_module_version": "1.2.0",
            "_model_name": "LayoutModel",
            "_view_count": null,
            "_view_module": "@jupyter-widgets/base",
            "_view_module_version": "1.2.0",
            "_view_name": "LayoutView",
            "align_content": null,
            "align_items": null,
            "align_self": null,
            "border": null,
            "bottom": null,
            "display": null,
            "flex": null,
            "flex_flow": null,
            "grid_area": null,
            "grid_auto_columns": null,
            "grid_auto_flow": null,
            "grid_auto_rows": null,
            "grid_column": null,
            "grid_gap": null,
            "grid_row": null,
            "grid_template_areas": null,
            "grid_template_columns": null,
            "grid_template_rows": null,
            "height": null,
            "justify_content": null,
            "justify_items": null,
            "left": null,
            "margin": null,
            "max_height": null,
            "max_width": null,
            "min_height": null,
            "min_width": null,
            "object_fit": null,
            "object_position": null,
            "order": null,
            "overflow": null,
            "overflow_x": null,
            "overflow_y": null,
            "padding": null,
            "right": null,
            "top": null,
            "visibility": null,
            "width": null
          }
        },
        "a292d1d28bc64bcaba915fe6a7ff7ddb": {
          "model_module": "@jupyter-widgets/controls",
          "model_name": "ProgressStyleModel",
          "model_module_version": "1.5.0",
          "state": {
            "_model_module": "@jupyter-widgets/controls",
            "_model_module_version": "1.5.0",
            "_model_name": "ProgressStyleModel",
            "_view_count": null,
            "_view_module": "@jupyter-widgets/base",
            "_view_module_version": "1.2.0",
            "_view_name": "StyleView",
            "bar_color": null,
            "description_width": ""
          }
        },
        "1542fb9eb509459585f814e7e674765f": {
          "model_module": "@jupyter-widgets/base",
          "model_name": "LayoutModel",
          "model_module_version": "1.2.0",
          "state": {
            "_model_module": "@jupyter-widgets/base",
            "_model_module_version": "1.2.0",
            "_model_name": "LayoutModel",
            "_view_count": null,
            "_view_module": "@jupyter-widgets/base",
            "_view_module_version": "1.2.0",
            "_view_name": "LayoutView",
            "align_content": null,
            "align_items": null,
            "align_self": null,
            "border": null,
            "bottom": null,
            "display": null,
            "flex": null,
            "flex_flow": null,
            "grid_area": null,
            "grid_auto_columns": null,
            "grid_auto_flow": null,
            "grid_auto_rows": null,
            "grid_column": null,
            "grid_gap": null,
            "grid_row": null,
            "grid_template_areas": null,
            "grid_template_columns": null,
            "grid_template_rows": null,
            "height": null,
            "justify_content": null,
            "justify_items": null,
            "left": null,
            "margin": null,
            "max_height": null,
            "max_width": null,
            "min_height": null,
            "min_width": null,
            "object_fit": null,
            "object_position": null,
            "order": null,
            "overflow": null,
            "overflow_x": null,
            "overflow_y": null,
            "padding": null,
            "right": null,
            "top": null,
            "visibility": null,
            "width": null
          }
        },
        "0f5dcd367b1445568023d6465e9f9b4d": {
          "model_module": "@jupyter-widgets/controls",
          "model_name": "DescriptionStyleModel",
          "model_module_version": "1.5.0",
          "state": {
            "_model_module": "@jupyter-widgets/controls",
            "_model_module_version": "1.5.0",
            "_model_name": "DescriptionStyleModel",
            "_view_count": null,
            "_view_module": "@jupyter-widgets/base",
            "_view_module_version": "1.2.0",
            "_view_name": "StyleView",
            "description_width": ""
          }
        },
        "86b3d71633394f0488513ee9659b8fdb": {
          "model_module": "@jupyter-widgets/controls",
          "model_name": "HBoxModel",
          "model_module_version": "1.5.0",
          "state": {
            "_dom_classes": [],
            "_model_module": "@jupyter-widgets/controls",
            "_model_module_version": "1.5.0",
            "_model_name": "HBoxModel",
            "_view_count": null,
            "_view_module": "@jupyter-widgets/controls",
            "_view_module_version": "1.5.0",
            "_view_name": "HBoxView",
            "box_style": "",
            "children": [
              "IPY_MODEL_ac24f8ef7b8a4e51888280011b91cb24",
              "IPY_MODEL_00c0cc636700498db3afd3dff9e8e045",
              "IPY_MODEL_68cedde266fe4680b23d0cd97a0e1363"
            ],
            "layout": "IPY_MODEL_c905a298bf714b79ad352ab5014cf3c7"
          }
        },
        "ac24f8ef7b8a4e51888280011b91cb24": {
          "model_module": "@jupyter-widgets/controls",
          "model_name": "HTMLModel",
          "model_module_version": "1.5.0",
          "state": {
            "_dom_classes": [],
            "_model_module": "@jupyter-widgets/controls",
            "_model_module_version": "1.5.0",
            "_model_name": "HTMLModel",
            "_view_count": null,
            "_view_module": "@jupyter-widgets/controls",
            "_view_module_version": "1.5.0",
            "_view_name": "HTMLView",
            "description": "",
            "description_tooltip": null,
            "layout": "IPY_MODEL_e7c1412cc0dc411c8d08d673fafe86a7",
            "placeholder": "​",
            "style": "IPY_MODEL_f923e832a30b4068969fefb62612e0bb",
            "value": "Downloading (…)ve/main/spiece.model: 100%"
          }
        },
        "00c0cc636700498db3afd3dff9e8e045": {
          "model_module": "@jupyter-widgets/controls",
          "model_name": "FloatProgressModel",
          "model_module_version": "1.5.0",
          "state": {
            "_dom_classes": [],
            "_model_module": "@jupyter-widgets/controls",
            "_model_module_version": "1.5.0",
            "_model_name": "FloatProgressModel",
            "_view_count": null,
            "_view_module": "@jupyter-widgets/controls",
            "_view_module_version": "1.5.0",
            "_view_name": "ProgressView",
            "bar_style": "success",
            "description": "",
            "description_tooltip": null,
            "layout": "IPY_MODEL_4202c20ad8bd4b779a3cd5e5a2a1bc0d",
            "max": 760289,
            "min": 0,
            "orientation": "horizontal",
            "style": "IPY_MODEL_97175c5c1fff4902920c3a367c2ffa62",
            "value": 760289
          }
        },
        "68cedde266fe4680b23d0cd97a0e1363": {
          "model_module": "@jupyter-widgets/controls",
          "model_name": "HTMLModel",
          "model_module_version": "1.5.0",
          "state": {
            "_dom_classes": [],
            "_model_module": "@jupyter-widgets/controls",
            "_model_module_version": "1.5.0",
            "_model_name": "HTMLModel",
            "_view_count": null,
            "_view_module": "@jupyter-widgets/controls",
            "_view_module_version": "1.5.0",
            "_view_name": "HTMLView",
            "description": "",
            "description_tooltip": null,
            "layout": "IPY_MODEL_695d44e65b024198b2d2566cd1d5eb48",
            "placeholder": "​",
            "style": "IPY_MODEL_c45b7127df134e63954337a77829fbb6",
            "value": " 760k/760k [00:00&lt;00:00, 9.42MB/s]"
          }
        },
        "c905a298bf714b79ad352ab5014cf3c7": {
          "model_module": "@jupyter-widgets/base",
          "model_name": "LayoutModel",
          "model_module_version": "1.2.0",
          "state": {
            "_model_module": "@jupyter-widgets/base",
            "_model_module_version": "1.2.0",
            "_model_name": "LayoutModel",
            "_view_count": null,
            "_view_module": "@jupyter-widgets/base",
            "_view_module_version": "1.2.0",
            "_view_name": "LayoutView",
            "align_content": null,
            "align_items": null,
            "align_self": null,
            "border": null,
            "bottom": null,
            "display": null,
            "flex": null,
            "flex_flow": null,
            "grid_area": null,
            "grid_auto_columns": null,
            "grid_auto_flow": null,
            "grid_auto_rows": null,
            "grid_column": null,
            "grid_gap": null,
            "grid_row": null,
            "grid_template_areas": null,
            "grid_template_columns": null,
            "grid_template_rows": null,
            "height": null,
            "justify_content": null,
            "justify_items": null,
            "left": null,
            "margin": null,
            "max_height": null,
            "max_width": null,
            "min_height": null,
            "min_width": null,
            "object_fit": null,
            "object_position": null,
            "order": null,
            "overflow": null,
            "overflow_x": null,
            "overflow_y": null,
            "padding": null,
            "right": null,
            "top": null,
            "visibility": null,
            "width": null
          }
        },
        "e7c1412cc0dc411c8d08d673fafe86a7": {
          "model_module": "@jupyter-widgets/base",
          "model_name": "LayoutModel",
          "model_module_version": "1.2.0",
          "state": {
            "_model_module": "@jupyter-widgets/base",
            "_model_module_version": "1.2.0",
            "_model_name": "LayoutModel",
            "_view_count": null,
            "_view_module": "@jupyter-widgets/base",
            "_view_module_version": "1.2.0",
            "_view_name": "LayoutView",
            "align_content": null,
            "align_items": null,
            "align_self": null,
            "border": null,
            "bottom": null,
            "display": null,
            "flex": null,
            "flex_flow": null,
            "grid_area": null,
            "grid_auto_columns": null,
            "grid_auto_flow": null,
            "grid_auto_rows": null,
            "grid_column": null,
            "grid_gap": null,
            "grid_row": null,
            "grid_template_areas": null,
            "grid_template_columns": null,
            "grid_template_rows": null,
            "height": null,
            "justify_content": null,
            "justify_items": null,
            "left": null,
            "margin": null,
            "max_height": null,
            "max_width": null,
            "min_height": null,
            "min_width": null,
            "object_fit": null,
            "object_position": null,
            "order": null,
            "overflow": null,
            "overflow_x": null,
            "overflow_y": null,
            "padding": null,
            "right": null,
            "top": null,
            "visibility": null,
            "width": null
          }
        },
        "f923e832a30b4068969fefb62612e0bb": {
          "model_module": "@jupyter-widgets/controls",
          "model_name": "DescriptionStyleModel",
          "model_module_version": "1.5.0",
          "state": {
            "_model_module": "@jupyter-widgets/controls",
            "_model_module_version": "1.5.0",
            "_model_name": "DescriptionStyleModel",
            "_view_count": null,
            "_view_module": "@jupyter-widgets/base",
            "_view_module_version": "1.2.0",
            "_view_name": "StyleView",
            "description_width": ""
          }
        },
        "4202c20ad8bd4b779a3cd5e5a2a1bc0d": {
          "model_module": "@jupyter-widgets/base",
          "model_name": "LayoutModel",
          "model_module_version": "1.2.0",
          "state": {
            "_model_module": "@jupyter-widgets/base",
            "_model_module_version": "1.2.0",
            "_model_name": "LayoutModel",
            "_view_count": null,
            "_view_module": "@jupyter-widgets/base",
            "_view_module_version": "1.2.0",
            "_view_name": "LayoutView",
            "align_content": null,
            "align_items": null,
            "align_self": null,
            "border": null,
            "bottom": null,
            "display": null,
            "flex": null,
            "flex_flow": null,
            "grid_area": null,
            "grid_auto_columns": null,
            "grid_auto_flow": null,
            "grid_auto_rows": null,
            "grid_column": null,
            "grid_gap": null,
            "grid_row": null,
            "grid_template_areas": null,
            "grid_template_columns": null,
            "grid_template_rows": null,
            "height": null,
            "justify_content": null,
            "justify_items": null,
            "left": null,
            "margin": null,
            "max_height": null,
            "max_width": null,
            "min_height": null,
            "min_width": null,
            "object_fit": null,
            "object_position": null,
            "order": null,
            "overflow": null,
            "overflow_x": null,
            "overflow_y": null,
            "padding": null,
            "right": null,
            "top": null,
            "visibility": null,
            "width": null
          }
        },
        "97175c5c1fff4902920c3a367c2ffa62": {
          "model_module": "@jupyter-widgets/controls",
          "model_name": "ProgressStyleModel",
          "model_module_version": "1.5.0",
          "state": {
            "_model_module": "@jupyter-widgets/controls",
            "_model_module_version": "1.5.0",
            "_model_name": "ProgressStyleModel",
            "_view_count": null,
            "_view_module": "@jupyter-widgets/base",
            "_view_module_version": "1.2.0",
            "_view_name": "StyleView",
            "bar_color": null,
            "description_width": ""
          }
        },
        "695d44e65b024198b2d2566cd1d5eb48": {
          "model_module": "@jupyter-widgets/base",
          "model_name": "LayoutModel",
          "model_module_version": "1.2.0",
          "state": {
            "_model_module": "@jupyter-widgets/base",
            "_model_module_version": "1.2.0",
            "_model_name": "LayoutModel",
            "_view_count": null,
            "_view_module": "@jupyter-widgets/base",
            "_view_module_version": "1.2.0",
            "_view_name": "LayoutView",
            "align_content": null,
            "align_items": null,
            "align_self": null,
            "border": null,
            "bottom": null,
            "display": null,
            "flex": null,
            "flex_flow": null,
            "grid_area": null,
            "grid_auto_columns": null,
            "grid_auto_flow": null,
            "grid_auto_rows": null,
            "grid_column": null,
            "grid_gap": null,
            "grid_row": null,
            "grid_template_areas": null,
            "grid_template_columns": null,
            "grid_template_rows": null,
            "height": null,
            "justify_content": null,
            "justify_items": null,
            "left": null,
            "margin": null,
            "max_height": null,
            "max_width": null,
            "min_height": null,
            "min_width": null,
            "object_fit": null,
            "object_position": null,
            "order": null,
            "overflow": null,
            "overflow_x": null,
            "overflow_y": null,
            "padding": null,
            "right": null,
            "top": null,
            "visibility": null,
            "width": null
          }
        },
        "c45b7127df134e63954337a77829fbb6": {
          "model_module": "@jupyter-widgets/controls",
          "model_name": "DescriptionStyleModel",
          "model_module_version": "1.5.0",
          "state": {
            "_model_module": "@jupyter-widgets/controls",
            "_model_module_version": "1.5.0",
            "_model_name": "DescriptionStyleModel",
            "_view_count": null,
            "_view_module": "@jupyter-widgets/base",
            "_view_module_version": "1.2.0",
            "_view_name": "StyleView",
            "description_width": ""
          }
        },
        "def6edb2504949b5817e54633b83fe78": {
          "model_module": "@jupyter-widgets/controls",
          "model_name": "HBoxModel",
          "model_module_version": "1.5.0",
          "state": {
            "_dom_classes": [],
            "_model_module": "@jupyter-widgets/controls",
            "_model_module_version": "1.5.0",
            "_model_name": "HBoxModel",
            "_view_count": null,
            "_view_module": "@jupyter-widgets/controls",
            "_view_module_version": "1.5.0",
            "_view_name": "HBoxView",
            "box_style": "",
            "children": [
              "IPY_MODEL_b6ac2938eac5428684b3c72239787264",
              "IPY_MODEL_ec3c993bc3984817b99a4e314466ae84",
              "IPY_MODEL_241293bc44b242e4aa6207aaeb28046c"
            ],
            "layout": "IPY_MODEL_2e1e3a29e472439493b0939cec5d4842"
          }
        },
        "b6ac2938eac5428684b3c72239787264": {
          "model_module": "@jupyter-widgets/controls",
          "model_name": "HTMLModel",
          "model_module_version": "1.5.0",
          "state": {
            "_dom_classes": [],
            "_model_module": "@jupyter-widgets/controls",
            "_model_module_version": "1.5.0",
            "_model_name": "HTMLModel",
            "_view_count": null,
            "_view_module": "@jupyter-widgets/controls",
            "_view_module_version": "1.5.0",
            "_view_name": "HTMLView",
            "description": "",
            "description_tooltip": null,
            "layout": "IPY_MODEL_d4838e19d40548a9b575774321e7fa8b",
            "placeholder": "​",
            "style": "IPY_MODEL_db8c9f161b62495493d2e60d0f6fc3fd",
            "value": "Downloading (…)/main/tokenizer.json: 100%"
          }
        },
        "ec3c993bc3984817b99a4e314466ae84": {
          "model_module": "@jupyter-widgets/controls",
          "model_name": "FloatProgressModel",
          "model_module_version": "1.5.0",
          "state": {
            "_dom_classes": [],
            "_model_module": "@jupyter-widgets/controls",
            "_model_module_version": "1.5.0",
            "_model_name": "FloatProgressModel",
            "_view_count": null,
            "_view_module": "@jupyter-widgets/controls",
            "_view_module_version": "1.5.0",
            "_view_name": "ProgressView",
            "bar_style": "success",
            "description": "",
            "description_tooltip": null,
            "layout": "IPY_MODEL_eca452396b0149f582f3fa8bfae7df46",
            "max": 1312669,
            "min": 0,
            "orientation": "horizontal",
            "style": "IPY_MODEL_c9d7836da5b54731827dcdaecf280684",
            "value": 1312669
          }
        },
        "241293bc44b242e4aa6207aaeb28046c": {
          "model_module": "@jupyter-widgets/controls",
          "model_name": "HTMLModel",
          "model_module_version": "1.5.0",
          "state": {
            "_dom_classes": [],
            "_model_module": "@jupyter-widgets/controls",
            "_model_module_version": "1.5.0",
            "_model_name": "HTMLModel",
            "_view_count": null,
            "_view_module": "@jupyter-widgets/controls",
            "_view_module_version": "1.5.0",
            "_view_name": "HTMLView",
            "description": "",
            "description_tooltip": null,
            "layout": "IPY_MODEL_c1a8b8e5150248fe81137ed97d5941db",
            "placeholder": "​",
            "style": "IPY_MODEL_3210f2cb48254f7a91024208da263cb6",
            "value": " 1.31M/1.31M [00:00&lt;00:00, 20.4MB/s]"
          }
        },
        "2e1e3a29e472439493b0939cec5d4842": {
          "model_module": "@jupyter-widgets/base",
          "model_name": "LayoutModel",
          "model_module_version": "1.2.0",
          "state": {
            "_model_module": "@jupyter-widgets/base",
            "_model_module_version": "1.2.0",
            "_model_name": "LayoutModel",
            "_view_count": null,
            "_view_module": "@jupyter-widgets/base",
            "_view_module_version": "1.2.0",
            "_view_name": "LayoutView",
            "align_content": null,
            "align_items": null,
            "align_self": null,
            "border": null,
            "bottom": null,
            "display": null,
            "flex": null,
            "flex_flow": null,
            "grid_area": null,
            "grid_auto_columns": null,
            "grid_auto_flow": null,
            "grid_auto_rows": null,
            "grid_column": null,
            "grid_gap": null,
            "grid_row": null,
            "grid_template_areas": null,
            "grid_template_columns": null,
            "grid_template_rows": null,
            "height": null,
            "justify_content": null,
            "justify_items": null,
            "left": null,
            "margin": null,
            "max_height": null,
            "max_width": null,
            "min_height": null,
            "min_width": null,
            "object_fit": null,
            "object_position": null,
            "order": null,
            "overflow": null,
            "overflow_x": null,
            "overflow_y": null,
            "padding": null,
            "right": null,
            "top": null,
            "visibility": null,
            "width": null
          }
        },
        "d4838e19d40548a9b575774321e7fa8b": {
          "model_module": "@jupyter-widgets/base",
          "model_name": "LayoutModel",
          "model_module_version": "1.2.0",
          "state": {
            "_model_module": "@jupyter-widgets/base",
            "_model_module_version": "1.2.0",
            "_model_name": "LayoutModel",
            "_view_count": null,
            "_view_module": "@jupyter-widgets/base",
            "_view_module_version": "1.2.0",
            "_view_name": "LayoutView",
            "align_content": null,
            "align_items": null,
            "align_self": null,
            "border": null,
            "bottom": null,
            "display": null,
            "flex": null,
            "flex_flow": null,
            "grid_area": null,
            "grid_auto_columns": null,
            "grid_auto_flow": null,
            "grid_auto_rows": null,
            "grid_column": null,
            "grid_gap": null,
            "grid_row": null,
            "grid_template_areas": null,
            "grid_template_columns": null,
            "grid_template_rows": null,
            "height": null,
            "justify_content": null,
            "justify_items": null,
            "left": null,
            "margin": null,
            "max_height": null,
            "max_width": null,
            "min_height": null,
            "min_width": null,
            "object_fit": null,
            "object_position": null,
            "order": null,
            "overflow": null,
            "overflow_x": null,
            "overflow_y": null,
            "padding": null,
            "right": null,
            "top": null,
            "visibility": null,
            "width": null
          }
        },
        "db8c9f161b62495493d2e60d0f6fc3fd": {
          "model_module": "@jupyter-widgets/controls",
          "model_name": "DescriptionStyleModel",
          "model_module_version": "1.5.0",
          "state": {
            "_model_module": "@jupyter-widgets/controls",
            "_model_module_version": "1.5.0",
            "_model_name": "DescriptionStyleModel",
            "_view_count": null,
            "_view_module": "@jupyter-widgets/base",
            "_view_module_version": "1.2.0",
            "_view_name": "StyleView",
            "description_width": ""
          }
        },
        "eca452396b0149f582f3fa8bfae7df46": {
          "model_module": "@jupyter-widgets/base",
          "model_name": "LayoutModel",
          "model_module_version": "1.2.0",
          "state": {
            "_model_module": "@jupyter-widgets/base",
            "_model_module_version": "1.2.0",
            "_model_name": "LayoutModel",
            "_view_count": null,
            "_view_module": "@jupyter-widgets/base",
            "_view_module_version": "1.2.0",
            "_view_name": "LayoutView",
            "align_content": null,
            "align_items": null,
            "align_self": null,
            "border": null,
            "bottom": null,
            "display": null,
            "flex": null,
            "flex_flow": null,
            "grid_area": null,
            "grid_auto_columns": null,
            "grid_auto_flow": null,
            "grid_auto_rows": null,
            "grid_column": null,
            "grid_gap": null,
            "grid_row": null,
            "grid_template_areas": null,
            "grid_template_columns": null,
            "grid_template_rows": null,
            "height": null,
            "justify_content": null,
            "justify_items": null,
            "left": null,
            "margin": null,
            "max_height": null,
            "max_width": null,
            "min_height": null,
            "min_width": null,
            "object_fit": null,
            "object_position": null,
            "order": null,
            "overflow": null,
            "overflow_x": null,
            "overflow_y": null,
            "padding": null,
            "right": null,
            "top": null,
            "visibility": null,
            "width": null
          }
        },
        "c9d7836da5b54731827dcdaecf280684": {
          "model_module": "@jupyter-widgets/controls",
          "model_name": "ProgressStyleModel",
          "model_module_version": "1.5.0",
          "state": {
            "_model_module": "@jupyter-widgets/controls",
            "_model_module_version": "1.5.0",
            "_model_name": "ProgressStyleModel",
            "_view_count": null,
            "_view_module": "@jupyter-widgets/base",
            "_view_module_version": "1.2.0",
            "_view_name": "StyleView",
            "bar_color": null,
            "description_width": ""
          }
        },
        "c1a8b8e5150248fe81137ed97d5941db": {
          "model_module": "@jupyter-widgets/base",
          "model_name": "LayoutModel",
          "model_module_version": "1.2.0",
          "state": {
            "_model_module": "@jupyter-widgets/base",
            "_model_module_version": "1.2.0",
            "_model_name": "LayoutModel",
            "_view_count": null,
            "_view_module": "@jupyter-widgets/base",
            "_view_module_version": "1.2.0",
            "_view_name": "LayoutView",
            "align_content": null,
            "align_items": null,
            "align_self": null,
            "border": null,
            "bottom": null,
            "display": null,
            "flex": null,
            "flex_flow": null,
            "grid_area": null,
            "grid_auto_columns": null,
            "grid_auto_flow": null,
            "grid_auto_rows": null,
            "grid_column": null,
            "grid_gap": null,
            "grid_row": null,
            "grid_template_areas": null,
            "grid_template_columns": null,
            "grid_template_rows": null,
            "height": null,
            "justify_content": null,
            "justify_items": null,
            "left": null,
            "margin": null,
            "max_height": null,
            "max_width": null,
            "min_height": null,
            "min_width": null,
            "object_fit": null,
            "object_position": null,
            "order": null,
            "overflow": null,
            "overflow_x": null,
            "overflow_y": null,
            "padding": null,
            "right": null,
            "top": null,
            "visibility": null,
            "width": null
          }
        },
        "3210f2cb48254f7a91024208da263cb6": {
          "model_module": "@jupyter-widgets/controls",
          "model_name": "DescriptionStyleModel",
          "model_module_version": "1.5.0",
          "state": {
            "_model_module": "@jupyter-widgets/controls",
            "_model_module_version": "1.5.0",
            "_model_name": "DescriptionStyleModel",
            "_view_count": null,
            "_view_module": "@jupyter-widgets/base",
            "_view_module_version": "1.2.0",
            "_view_name": "StyleView",
            "description_width": ""
          }
        },
        "7784c97312984a6d84b4bad164c3adf2": {
          "model_module": "@jupyter-widgets/controls",
          "model_name": "HBoxModel",
          "model_module_version": "1.5.0",
          "state": {
            "_dom_classes": [],
            "_model_module": "@jupyter-widgets/controls",
            "_model_module_version": "1.5.0",
            "_model_name": "HBoxModel",
            "_view_count": null,
            "_view_module": "@jupyter-widgets/controls",
            "_view_module_version": "1.5.0",
            "_view_name": "HBoxView",
            "box_style": "",
            "children": [
              "IPY_MODEL_562f9dac5b3143bc81577ed6af9d7c0e",
              "IPY_MODEL_2071e8e09ce14df7947a0f6dcad8dc00",
              "IPY_MODEL_a1dab49c199e4ef7a9f2a31395c1ae7b"
            ],
            "layout": "IPY_MODEL_3252e70e645c4177b273aeb6badbdce7"
          }
        },
        "562f9dac5b3143bc81577ed6af9d7c0e": {
          "model_module": "@jupyter-widgets/controls",
          "model_name": "HTMLModel",
          "model_module_version": "1.5.0",
          "state": {
            "_dom_classes": [],
            "_model_module": "@jupyter-widgets/controls",
            "_model_module_version": "1.5.0",
            "_model_name": "HTMLModel",
            "_view_count": null,
            "_view_module": "@jupyter-widgets/controls",
            "_view_module_version": "1.5.0",
            "_view_name": "HTMLView",
            "description": "",
            "description_tooltip": null,
            "layout": "IPY_MODEL_3a468f88040545be8191a0a10b8f7b68",
            "placeholder": "​",
            "style": "IPY_MODEL_940bd42bf5194ce99c80f00a4dea3139",
            "value": "Map: 100%"
          }
        },
        "2071e8e09ce14df7947a0f6dcad8dc00": {
          "model_module": "@jupyter-widgets/controls",
          "model_name": "FloatProgressModel",
          "model_module_version": "1.5.0",
          "state": {
            "_dom_classes": [],
            "_model_module": "@jupyter-widgets/controls",
            "_model_module_version": "1.5.0",
            "_model_name": "FloatProgressModel",
            "_view_count": null,
            "_view_module": "@jupyter-widgets/controls",
            "_view_module_version": "1.5.0",
            "_view_name": "ProgressView",
            "bar_style": "success",
            "description": "",
            "description_tooltip": null,
            "layout": "IPY_MODEL_c22d8fbd9da44e1fb62ebe0b883cc5d1",
            "max": 5000,
            "min": 0,
            "orientation": "horizontal",
            "style": "IPY_MODEL_b01ef32ac88a47a48c24c95c8de43ca7",
            "value": 5000
          }
        },
        "a1dab49c199e4ef7a9f2a31395c1ae7b": {
          "model_module": "@jupyter-widgets/controls",
          "model_name": "HTMLModel",
          "model_module_version": "1.5.0",
          "state": {
            "_dom_classes": [],
            "_model_module": "@jupyter-widgets/controls",
            "_model_module_version": "1.5.0",
            "_model_name": "HTMLModel",
            "_view_count": null,
            "_view_module": "@jupyter-widgets/controls",
            "_view_module_version": "1.5.0",
            "_view_name": "HTMLView",
            "description": "",
            "description_tooltip": null,
            "layout": "IPY_MODEL_3ea922b8b37a4dc8b1553e964f64b6d1",
            "placeholder": "​",
            "style": "IPY_MODEL_61056031b60943c6a18b4949bbb7ec53",
            "value": " 5000/5000 [00:01&lt;00:00, 4149.27 examples/s]"
          }
        },
        "3252e70e645c4177b273aeb6badbdce7": {
          "model_module": "@jupyter-widgets/base",
          "model_name": "LayoutModel",
          "model_module_version": "1.2.0",
          "state": {
            "_model_module": "@jupyter-widgets/base",
            "_model_module_version": "1.2.0",
            "_model_name": "LayoutModel",
            "_view_count": null,
            "_view_module": "@jupyter-widgets/base",
            "_view_module_version": "1.2.0",
            "_view_name": "LayoutView",
            "align_content": null,
            "align_items": null,
            "align_self": null,
            "border": null,
            "bottom": null,
            "display": null,
            "flex": null,
            "flex_flow": null,
            "grid_area": null,
            "grid_auto_columns": null,
            "grid_auto_flow": null,
            "grid_auto_rows": null,
            "grid_column": null,
            "grid_gap": null,
            "grid_row": null,
            "grid_template_areas": null,
            "grid_template_columns": null,
            "grid_template_rows": null,
            "height": null,
            "justify_content": null,
            "justify_items": null,
            "left": null,
            "margin": null,
            "max_height": null,
            "max_width": null,
            "min_height": null,
            "min_width": null,
            "object_fit": null,
            "object_position": null,
            "order": null,
            "overflow": null,
            "overflow_x": null,
            "overflow_y": null,
            "padding": null,
            "right": null,
            "top": null,
            "visibility": null,
            "width": null
          }
        },
        "3a468f88040545be8191a0a10b8f7b68": {
          "model_module": "@jupyter-widgets/base",
          "model_name": "LayoutModel",
          "model_module_version": "1.2.0",
          "state": {
            "_model_module": "@jupyter-widgets/base",
            "_model_module_version": "1.2.0",
            "_model_name": "LayoutModel",
            "_view_count": null,
            "_view_module": "@jupyter-widgets/base",
            "_view_module_version": "1.2.0",
            "_view_name": "LayoutView",
            "align_content": null,
            "align_items": null,
            "align_self": null,
            "border": null,
            "bottom": null,
            "display": null,
            "flex": null,
            "flex_flow": null,
            "grid_area": null,
            "grid_auto_columns": null,
            "grid_auto_flow": null,
            "grid_auto_rows": null,
            "grid_column": null,
            "grid_gap": null,
            "grid_row": null,
            "grid_template_areas": null,
            "grid_template_columns": null,
            "grid_template_rows": null,
            "height": null,
            "justify_content": null,
            "justify_items": null,
            "left": null,
            "margin": null,
            "max_height": null,
            "max_width": null,
            "min_height": null,
            "min_width": null,
            "object_fit": null,
            "object_position": null,
            "order": null,
            "overflow": null,
            "overflow_x": null,
            "overflow_y": null,
            "padding": null,
            "right": null,
            "top": null,
            "visibility": null,
            "width": null
          }
        },
        "940bd42bf5194ce99c80f00a4dea3139": {
          "model_module": "@jupyter-widgets/controls",
          "model_name": "DescriptionStyleModel",
          "model_module_version": "1.5.0",
          "state": {
            "_model_module": "@jupyter-widgets/controls",
            "_model_module_version": "1.5.0",
            "_model_name": "DescriptionStyleModel",
            "_view_count": null,
            "_view_module": "@jupyter-widgets/base",
            "_view_module_version": "1.2.0",
            "_view_name": "StyleView",
            "description_width": ""
          }
        },
        "c22d8fbd9da44e1fb62ebe0b883cc5d1": {
          "model_module": "@jupyter-widgets/base",
          "model_name": "LayoutModel",
          "model_module_version": "1.2.0",
          "state": {
            "_model_module": "@jupyter-widgets/base",
            "_model_module_version": "1.2.0",
            "_model_name": "LayoutModel",
            "_view_count": null,
            "_view_module": "@jupyter-widgets/base",
            "_view_module_version": "1.2.0",
            "_view_name": "LayoutView",
            "align_content": null,
            "align_items": null,
            "align_self": null,
            "border": null,
            "bottom": null,
            "display": null,
            "flex": null,
            "flex_flow": null,
            "grid_area": null,
            "grid_auto_columns": null,
            "grid_auto_flow": null,
            "grid_auto_rows": null,
            "grid_column": null,
            "grid_gap": null,
            "grid_row": null,
            "grid_template_areas": null,
            "grid_template_columns": null,
            "grid_template_rows": null,
            "height": null,
            "justify_content": null,
            "justify_items": null,
            "left": null,
            "margin": null,
            "max_height": null,
            "max_width": null,
            "min_height": null,
            "min_width": null,
            "object_fit": null,
            "object_position": null,
            "order": null,
            "overflow": null,
            "overflow_x": null,
            "overflow_y": null,
            "padding": null,
            "right": null,
            "top": null,
            "visibility": null,
            "width": null
          }
        },
        "b01ef32ac88a47a48c24c95c8de43ca7": {
          "model_module": "@jupyter-widgets/controls",
          "model_name": "ProgressStyleModel",
          "model_module_version": "1.5.0",
          "state": {
            "_model_module": "@jupyter-widgets/controls",
            "_model_module_version": "1.5.0",
            "_model_name": "ProgressStyleModel",
            "_view_count": null,
            "_view_module": "@jupyter-widgets/base",
            "_view_module_version": "1.2.0",
            "_view_name": "StyleView",
            "bar_color": null,
            "description_width": ""
          }
        },
        "3ea922b8b37a4dc8b1553e964f64b6d1": {
          "model_module": "@jupyter-widgets/base",
          "model_name": "LayoutModel",
          "model_module_version": "1.2.0",
          "state": {
            "_model_module": "@jupyter-widgets/base",
            "_model_module_version": "1.2.0",
            "_model_name": "LayoutModel",
            "_view_count": null,
            "_view_module": "@jupyter-widgets/base",
            "_view_module_version": "1.2.0",
            "_view_name": "LayoutView",
            "align_content": null,
            "align_items": null,
            "align_self": null,
            "border": null,
            "bottom": null,
            "display": null,
            "flex": null,
            "flex_flow": null,
            "grid_area": null,
            "grid_auto_columns": null,
            "grid_auto_flow": null,
            "grid_auto_rows": null,
            "grid_column": null,
            "grid_gap": null,
            "grid_row": null,
            "grid_template_areas": null,
            "grid_template_columns": null,
            "grid_template_rows": null,
            "height": null,
            "justify_content": null,
            "justify_items": null,
            "left": null,
            "margin": null,
            "max_height": null,
            "max_width": null,
            "min_height": null,
            "min_width": null,
            "object_fit": null,
            "object_position": null,
            "order": null,
            "overflow": null,
            "overflow_x": null,
            "overflow_y": null,
            "padding": null,
            "right": null,
            "top": null,
            "visibility": null,
            "width": null
          }
        },
        "61056031b60943c6a18b4949bbb7ec53": {
          "model_module": "@jupyter-widgets/controls",
          "model_name": "DescriptionStyleModel",
          "model_module_version": "1.5.0",
          "state": {
            "_model_module": "@jupyter-widgets/controls",
            "_model_module_version": "1.5.0",
            "_model_name": "DescriptionStyleModel",
            "_view_count": null,
            "_view_module": "@jupyter-widgets/base",
            "_view_module_version": "1.2.0",
            "_view_name": "StyleView",
            "description_width": ""
          }
        },
        "f16ee1f3a0f24967baaa1cb756ed3c45": {
          "model_module": "@jupyter-widgets/controls",
          "model_name": "HBoxModel",
          "model_module_version": "1.5.0",
          "state": {
            "_dom_classes": [],
            "_model_module": "@jupyter-widgets/controls",
            "_model_module_version": "1.5.0",
            "_model_name": "HBoxModel",
            "_view_count": null,
            "_view_module": "@jupyter-widgets/controls",
            "_view_module_version": "1.5.0",
            "_view_name": "HBoxView",
            "box_style": "",
            "children": [
              "IPY_MODEL_c2c65b5eaf9a45d4b8ba487722775f1f",
              "IPY_MODEL_7b99097497e248028711deba979b556c",
              "IPY_MODEL_2de78ff827114af5b8558ab274f4115e"
            ],
            "layout": "IPY_MODEL_f65ffebc8eba4e6da28b0312ebfa0745"
          }
        },
        "c2c65b5eaf9a45d4b8ba487722775f1f": {
          "model_module": "@jupyter-widgets/controls",
          "model_name": "HTMLModel",
          "model_module_version": "1.5.0",
          "state": {
            "_dom_classes": [],
            "_model_module": "@jupyter-widgets/controls",
            "_model_module_version": "1.5.0",
            "_model_name": "HTMLModel",
            "_view_count": null,
            "_view_module": "@jupyter-widgets/controls",
            "_view_module_version": "1.5.0",
            "_view_name": "HTMLView",
            "description": "",
            "description_tooltip": null,
            "layout": "IPY_MODEL_5c1cdb777bd24548bd2056a53d11f817",
            "placeholder": "​",
            "style": "IPY_MODEL_0374d4cacd694cc79642f6a9e790e1cf",
            "value": "Map: 100%"
          }
        },
        "7b99097497e248028711deba979b556c": {
          "model_module": "@jupyter-widgets/controls",
          "model_name": "FloatProgressModel",
          "model_module_version": "1.5.0",
          "state": {
            "_dom_classes": [],
            "_model_module": "@jupyter-widgets/controls",
            "_model_module_version": "1.5.0",
            "_model_name": "FloatProgressModel",
            "_view_count": null,
            "_view_module": "@jupyter-widgets/controls",
            "_view_module_version": "1.5.0",
            "_view_name": "ProgressView",
            "bar_style": "success",
            "description": "",
            "description_tooltip": null,
            "layout": "IPY_MODEL_204c89e7b3c94e77955502895925ef70",
            "max": 1000,
            "min": 0,
            "orientation": "horizontal",
            "style": "IPY_MODEL_5398776ddf144a3e8a5c8fc0798694c7",
            "value": 1000
          }
        },
        "2de78ff827114af5b8558ab274f4115e": {
          "model_module": "@jupyter-widgets/controls",
          "model_name": "HTMLModel",
          "model_module_version": "1.5.0",
          "state": {
            "_dom_classes": [],
            "_model_module": "@jupyter-widgets/controls",
            "_model_module_version": "1.5.0",
            "_model_name": "HTMLModel",
            "_view_count": null,
            "_view_module": "@jupyter-widgets/controls",
            "_view_module_version": "1.5.0",
            "_view_name": "HTMLView",
            "description": "",
            "description_tooltip": null,
            "layout": "IPY_MODEL_2264e23e7bd64848b09ff60b82baca31",
            "placeholder": "​",
            "style": "IPY_MODEL_edb8dd574034421e86af702095e008da",
            "value": " 1000/1000 [00:00&lt;00:00, 4714.52 examples/s]"
          }
        },
        "f65ffebc8eba4e6da28b0312ebfa0745": {
          "model_module": "@jupyter-widgets/base",
          "model_name": "LayoutModel",
          "model_module_version": "1.2.0",
          "state": {
            "_model_module": "@jupyter-widgets/base",
            "_model_module_version": "1.2.0",
            "_model_name": "LayoutModel",
            "_view_count": null,
            "_view_module": "@jupyter-widgets/base",
            "_view_module_version": "1.2.0",
            "_view_name": "LayoutView",
            "align_content": null,
            "align_items": null,
            "align_self": null,
            "border": null,
            "bottom": null,
            "display": null,
            "flex": null,
            "flex_flow": null,
            "grid_area": null,
            "grid_auto_columns": null,
            "grid_auto_flow": null,
            "grid_auto_rows": null,
            "grid_column": null,
            "grid_gap": null,
            "grid_row": null,
            "grid_template_areas": null,
            "grid_template_columns": null,
            "grid_template_rows": null,
            "height": null,
            "justify_content": null,
            "justify_items": null,
            "left": null,
            "margin": null,
            "max_height": null,
            "max_width": null,
            "min_height": null,
            "min_width": null,
            "object_fit": null,
            "object_position": null,
            "order": null,
            "overflow": null,
            "overflow_x": null,
            "overflow_y": null,
            "padding": null,
            "right": null,
            "top": null,
            "visibility": null,
            "width": null
          }
        },
        "5c1cdb777bd24548bd2056a53d11f817": {
          "model_module": "@jupyter-widgets/base",
          "model_name": "LayoutModel",
          "model_module_version": "1.2.0",
          "state": {
            "_model_module": "@jupyter-widgets/base",
            "_model_module_version": "1.2.0",
            "_model_name": "LayoutModel",
            "_view_count": null,
            "_view_module": "@jupyter-widgets/base",
            "_view_module_version": "1.2.0",
            "_view_name": "LayoutView",
            "align_content": null,
            "align_items": null,
            "align_self": null,
            "border": null,
            "bottom": null,
            "display": null,
            "flex": null,
            "flex_flow": null,
            "grid_area": null,
            "grid_auto_columns": null,
            "grid_auto_flow": null,
            "grid_auto_rows": null,
            "grid_column": null,
            "grid_gap": null,
            "grid_row": null,
            "grid_template_areas": null,
            "grid_template_columns": null,
            "grid_template_rows": null,
            "height": null,
            "justify_content": null,
            "justify_items": null,
            "left": null,
            "margin": null,
            "max_height": null,
            "max_width": null,
            "min_height": null,
            "min_width": null,
            "object_fit": null,
            "object_position": null,
            "order": null,
            "overflow": null,
            "overflow_x": null,
            "overflow_y": null,
            "padding": null,
            "right": null,
            "top": null,
            "visibility": null,
            "width": null
          }
        },
        "0374d4cacd694cc79642f6a9e790e1cf": {
          "model_module": "@jupyter-widgets/controls",
          "model_name": "DescriptionStyleModel",
          "model_module_version": "1.5.0",
          "state": {
            "_model_module": "@jupyter-widgets/controls",
            "_model_module_version": "1.5.0",
            "_model_name": "DescriptionStyleModel",
            "_view_count": null,
            "_view_module": "@jupyter-widgets/base",
            "_view_module_version": "1.2.0",
            "_view_name": "StyleView",
            "description_width": ""
          }
        },
        "204c89e7b3c94e77955502895925ef70": {
          "model_module": "@jupyter-widgets/base",
          "model_name": "LayoutModel",
          "model_module_version": "1.2.0",
          "state": {
            "_model_module": "@jupyter-widgets/base",
            "_model_module_version": "1.2.0",
            "_model_name": "LayoutModel",
            "_view_count": null,
            "_view_module": "@jupyter-widgets/base",
            "_view_module_version": "1.2.0",
            "_view_name": "LayoutView",
            "align_content": null,
            "align_items": null,
            "align_self": null,
            "border": null,
            "bottom": null,
            "display": null,
            "flex": null,
            "flex_flow": null,
            "grid_area": null,
            "grid_auto_columns": null,
            "grid_auto_flow": null,
            "grid_auto_rows": null,
            "grid_column": null,
            "grid_gap": null,
            "grid_row": null,
            "grid_template_areas": null,
            "grid_template_columns": null,
            "grid_template_rows": null,
            "height": null,
            "justify_content": null,
            "justify_items": null,
            "left": null,
            "margin": null,
            "max_height": null,
            "max_width": null,
            "min_height": null,
            "min_width": null,
            "object_fit": null,
            "object_position": null,
            "order": null,
            "overflow": null,
            "overflow_x": null,
            "overflow_y": null,
            "padding": null,
            "right": null,
            "top": null,
            "visibility": null,
            "width": null
          }
        },
        "5398776ddf144a3e8a5c8fc0798694c7": {
          "model_module": "@jupyter-widgets/controls",
          "model_name": "ProgressStyleModel",
          "model_module_version": "1.5.0",
          "state": {
            "_model_module": "@jupyter-widgets/controls",
            "_model_module_version": "1.5.0",
            "_model_name": "ProgressStyleModel",
            "_view_count": null,
            "_view_module": "@jupyter-widgets/base",
            "_view_module_version": "1.2.0",
            "_view_name": "StyleView",
            "bar_color": null,
            "description_width": ""
          }
        },
        "2264e23e7bd64848b09ff60b82baca31": {
          "model_module": "@jupyter-widgets/base",
          "model_name": "LayoutModel",
          "model_module_version": "1.2.0",
          "state": {
            "_model_module": "@jupyter-widgets/base",
            "_model_module_version": "1.2.0",
            "_model_name": "LayoutModel",
            "_view_count": null,
            "_view_module": "@jupyter-widgets/base",
            "_view_module_version": "1.2.0",
            "_view_name": "LayoutView",
            "align_content": null,
            "align_items": null,
            "align_self": null,
            "border": null,
            "bottom": null,
            "display": null,
            "flex": null,
            "flex_flow": null,
            "grid_area": null,
            "grid_auto_columns": null,
            "grid_auto_flow": null,
            "grid_auto_rows": null,
            "grid_column": null,
            "grid_gap": null,
            "grid_row": null,
            "grid_template_areas": null,
            "grid_template_columns": null,
            "grid_template_rows": null,
            "height": null,
            "justify_content": null,
            "justify_items": null,
            "left": null,
            "margin": null,
            "max_height": null,
            "max_width": null,
            "min_height": null,
            "min_width": null,
            "object_fit": null,
            "object_position": null,
            "order": null,
            "overflow": null,
            "overflow_x": null,
            "overflow_y": null,
            "padding": null,
            "right": null,
            "top": null,
            "visibility": null,
            "width": null
          }
        },
        "edb8dd574034421e86af702095e008da": {
          "model_module": "@jupyter-widgets/controls",
          "model_name": "DescriptionStyleModel",
          "model_module_version": "1.5.0",
          "state": {
            "_model_module": "@jupyter-widgets/controls",
            "_model_module_version": "1.5.0",
            "_model_name": "DescriptionStyleModel",
            "_view_count": null,
            "_view_module": "@jupyter-widgets/base",
            "_view_module_version": "1.2.0",
            "_view_name": "StyleView",
            "description_width": ""
          }
        },
        "4626b235c5f743f2ac16f99d5c5040d1": {
          "model_module": "@jupyter-widgets/controls",
          "model_name": "HBoxModel",
          "model_module_version": "1.5.0",
          "state": {
            "_dom_classes": [],
            "_model_module": "@jupyter-widgets/controls",
            "_model_module_version": "1.5.0",
            "_model_name": "HBoxModel",
            "_view_count": null,
            "_view_module": "@jupyter-widgets/controls",
            "_view_module_version": "1.5.0",
            "_view_name": "HBoxView",
            "box_style": "",
            "children": [
              "IPY_MODEL_9376dc9f643642ba8bb64838db3119d0",
              "IPY_MODEL_5ed874e00b2345dda60ee89c080bdf71",
              "IPY_MODEL_d9a8a7d5cff84d6ea164c784718f2825"
            ],
            "layout": "IPY_MODEL_66a920b28c1d4b2db42cef3cf3d07e9e"
          }
        },
        "9376dc9f643642ba8bb64838db3119d0": {
          "model_module": "@jupyter-widgets/controls",
          "model_name": "HTMLModel",
          "model_module_version": "1.5.0",
          "state": {
            "_dom_classes": [],
            "_model_module": "@jupyter-widgets/controls",
            "_model_module_version": "1.5.0",
            "_model_name": "HTMLModel",
            "_view_count": null,
            "_view_module": "@jupyter-widgets/controls",
            "_view_module_version": "1.5.0",
            "_view_name": "HTMLView",
            "description": "",
            "description_tooltip": null,
            "layout": "IPY_MODEL_2882c54fbd5e4650a8ea64fc26ec7cb5",
            "placeholder": "​",
            "style": "IPY_MODEL_62a614f5da0846d3977b0693b2735ae6",
            "value": "Downloading model.safetensors: 100%"
          }
        },
        "5ed874e00b2345dda60ee89c080bdf71": {
          "model_module": "@jupyter-widgets/controls",
          "model_name": "FloatProgressModel",
          "model_module_version": "1.5.0",
          "state": {
            "_dom_classes": [],
            "_model_module": "@jupyter-widgets/controls",
            "_model_module_version": "1.5.0",
            "_model_name": "FloatProgressModel",
            "_view_count": null,
            "_view_module": "@jupyter-widgets/controls",
            "_view_module_version": "1.5.0",
            "_view_name": "ProgressView",
            "bar_style": "success",
            "description": "",
            "description_tooltip": null,
            "layout": "IPY_MODEL_ff8fe1c90da74ff6bcfdb4ac10f094be",
            "max": 47372894,
            "min": 0,
            "orientation": "horizontal",
            "style": "IPY_MODEL_25ebfb2c13964632badb8b455423e46e",
            "value": 47372894
          }
        },
        "d9a8a7d5cff84d6ea164c784718f2825": {
          "model_module": "@jupyter-widgets/controls",
          "model_name": "HTMLModel",
          "model_module_version": "1.5.0",
          "state": {
            "_dom_classes": [],
            "_model_module": "@jupyter-widgets/controls",
            "_model_module_version": "1.5.0",
            "_model_name": "HTMLModel",
            "_view_count": null,
            "_view_module": "@jupyter-widgets/controls",
            "_view_module_version": "1.5.0",
            "_view_name": "HTMLView",
            "description": "",
            "description_tooltip": null,
            "layout": "IPY_MODEL_1dbbc303e6d247cc901763d97ee55e83",
            "placeholder": "​",
            "style": "IPY_MODEL_0e049a9a4d004b36a36947eca24f578b",
            "value": " 47.4M/47.4M [00:00&lt;00:00, 92.5MB/s]"
          }
        },
        "66a920b28c1d4b2db42cef3cf3d07e9e": {
          "model_module": "@jupyter-widgets/base",
          "model_name": "LayoutModel",
          "model_module_version": "1.2.0",
          "state": {
            "_model_module": "@jupyter-widgets/base",
            "_model_module_version": "1.2.0",
            "_model_name": "LayoutModel",
            "_view_count": null,
            "_view_module": "@jupyter-widgets/base",
            "_view_module_version": "1.2.0",
            "_view_name": "LayoutView",
            "align_content": null,
            "align_items": null,
            "align_self": null,
            "border": null,
            "bottom": null,
            "display": null,
            "flex": null,
            "flex_flow": null,
            "grid_area": null,
            "grid_auto_columns": null,
            "grid_auto_flow": null,
            "grid_auto_rows": null,
            "grid_column": null,
            "grid_gap": null,
            "grid_row": null,
            "grid_template_areas": null,
            "grid_template_columns": null,
            "grid_template_rows": null,
            "height": null,
            "justify_content": null,
            "justify_items": null,
            "left": null,
            "margin": null,
            "max_height": null,
            "max_width": null,
            "min_height": null,
            "min_width": null,
            "object_fit": null,
            "object_position": null,
            "order": null,
            "overflow": null,
            "overflow_x": null,
            "overflow_y": null,
            "padding": null,
            "right": null,
            "top": null,
            "visibility": null,
            "width": null
          }
        },
        "2882c54fbd5e4650a8ea64fc26ec7cb5": {
          "model_module": "@jupyter-widgets/base",
          "model_name": "LayoutModel",
          "model_module_version": "1.2.0",
          "state": {
            "_model_module": "@jupyter-widgets/base",
            "_model_module_version": "1.2.0",
            "_model_name": "LayoutModel",
            "_view_count": null,
            "_view_module": "@jupyter-widgets/base",
            "_view_module_version": "1.2.0",
            "_view_name": "LayoutView",
            "align_content": null,
            "align_items": null,
            "align_self": null,
            "border": null,
            "bottom": null,
            "display": null,
            "flex": null,
            "flex_flow": null,
            "grid_area": null,
            "grid_auto_columns": null,
            "grid_auto_flow": null,
            "grid_auto_rows": null,
            "grid_column": null,
            "grid_gap": null,
            "grid_row": null,
            "grid_template_areas": null,
            "grid_template_columns": null,
            "grid_template_rows": null,
            "height": null,
            "justify_content": null,
            "justify_items": null,
            "left": null,
            "margin": null,
            "max_height": null,
            "max_width": null,
            "min_height": null,
            "min_width": null,
            "object_fit": null,
            "object_position": null,
            "order": null,
            "overflow": null,
            "overflow_x": null,
            "overflow_y": null,
            "padding": null,
            "right": null,
            "top": null,
            "visibility": null,
            "width": null
          }
        },
        "62a614f5da0846d3977b0693b2735ae6": {
          "model_module": "@jupyter-widgets/controls",
          "model_name": "DescriptionStyleModel",
          "model_module_version": "1.5.0",
          "state": {
            "_model_module": "@jupyter-widgets/controls",
            "_model_module_version": "1.5.0",
            "_model_name": "DescriptionStyleModel",
            "_view_count": null,
            "_view_module": "@jupyter-widgets/base",
            "_view_module_version": "1.2.0",
            "_view_name": "StyleView",
            "description_width": ""
          }
        },
        "ff8fe1c90da74ff6bcfdb4ac10f094be": {
          "model_module": "@jupyter-widgets/base",
          "model_name": "LayoutModel",
          "model_module_version": "1.2.0",
          "state": {
            "_model_module": "@jupyter-widgets/base",
            "_model_module_version": "1.2.0",
            "_model_name": "LayoutModel",
            "_view_count": null,
            "_view_module": "@jupyter-widgets/base",
            "_view_module_version": "1.2.0",
            "_view_name": "LayoutView",
            "align_content": null,
            "align_items": null,
            "align_self": null,
            "border": null,
            "bottom": null,
            "display": null,
            "flex": null,
            "flex_flow": null,
            "grid_area": null,
            "grid_auto_columns": null,
            "grid_auto_flow": null,
            "grid_auto_rows": null,
            "grid_column": null,
            "grid_gap": null,
            "grid_row": null,
            "grid_template_areas": null,
            "grid_template_columns": null,
            "grid_template_rows": null,
            "height": null,
            "justify_content": null,
            "justify_items": null,
            "left": null,
            "margin": null,
            "max_height": null,
            "max_width": null,
            "min_height": null,
            "min_width": null,
            "object_fit": null,
            "object_position": null,
            "order": null,
            "overflow": null,
            "overflow_x": null,
            "overflow_y": null,
            "padding": null,
            "right": null,
            "top": null,
            "visibility": null,
            "width": null
          }
        },
        "25ebfb2c13964632badb8b455423e46e": {
          "model_module": "@jupyter-widgets/controls",
          "model_name": "ProgressStyleModel",
          "model_module_version": "1.5.0",
          "state": {
            "_model_module": "@jupyter-widgets/controls",
            "_model_module_version": "1.5.0",
            "_model_name": "ProgressStyleModel",
            "_view_count": null,
            "_view_module": "@jupyter-widgets/base",
            "_view_module_version": "1.2.0",
            "_view_name": "StyleView",
            "bar_color": null,
            "description_width": ""
          }
        },
        "1dbbc303e6d247cc901763d97ee55e83": {
          "model_module": "@jupyter-widgets/base",
          "model_name": "LayoutModel",
          "model_module_version": "1.2.0",
          "state": {
            "_model_module": "@jupyter-widgets/base",
            "_model_module_version": "1.2.0",
            "_model_name": "LayoutModel",
            "_view_count": null,
            "_view_module": "@jupyter-widgets/base",
            "_view_module_version": "1.2.0",
            "_view_name": "LayoutView",
            "align_content": null,
            "align_items": null,
            "align_self": null,
            "border": null,
            "bottom": null,
            "display": null,
            "flex": null,
            "flex_flow": null,
            "grid_area": null,
            "grid_auto_columns": null,
            "grid_auto_flow": null,
            "grid_auto_rows": null,
            "grid_column": null,
            "grid_gap": null,
            "grid_row": null,
            "grid_template_areas": null,
            "grid_template_columns": null,
            "grid_template_rows": null,
            "height": null,
            "justify_content": null,
            "justify_items": null,
            "left": null,
            "margin": null,
            "max_height": null,
            "max_width": null,
            "min_height": null,
            "min_width": null,
            "object_fit": null,
            "object_position": null,
            "order": null,
            "overflow": null,
            "overflow_x": null,
            "overflow_y": null,
            "padding": null,
            "right": null,
            "top": null,
            "visibility": null,
            "width": null
          }
        },
        "0e049a9a4d004b36a36947eca24f578b": {
          "model_module": "@jupyter-widgets/controls",
          "model_name": "DescriptionStyleModel",
          "model_module_version": "1.5.0",
          "state": {
            "_model_module": "@jupyter-widgets/controls",
            "_model_module_version": "1.5.0",
            "_model_name": "DescriptionStyleModel",
            "_view_count": null,
            "_view_module": "@jupyter-widgets/base",
            "_view_module_version": "1.2.0",
            "_view_name": "StyleView",
            "description_width": ""
          }
        },
        "f8c18aa6a4624a19a37166b032c04991": {
          "model_module": "@jupyter-widgets/controls",
          "model_name": "HBoxModel",
          "model_module_version": "1.5.0",
          "state": {
            "_dom_classes": [],
            "_model_module": "@jupyter-widgets/controls",
            "_model_module_version": "1.5.0",
            "_model_name": "HBoxModel",
            "_view_count": null,
            "_view_module": "@jupyter-widgets/controls",
            "_view_module_version": "1.5.0",
            "_view_name": "HBoxView",
            "box_style": "",
            "children": [
              "IPY_MODEL_f1017fbb24564be69286c34a23b585d4",
              "IPY_MODEL_d90a0ce815394e5e8cbfe02efb7d860e",
              "IPY_MODEL_230ab0ac9b444dc4812ecad6b41cc21b"
            ],
            "layout": "IPY_MODEL_37e18b47654e4bab9852ea021b087034"
          }
        },
        "f1017fbb24564be69286c34a23b585d4": {
          "model_module": "@jupyter-widgets/controls",
          "model_name": "HTMLModel",
          "model_module_version": "1.5.0",
          "state": {
            "_dom_classes": [],
            "_model_module": "@jupyter-widgets/controls",
            "_model_module_version": "1.5.0",
            "_model_name": "HTMLModel",
            "_view_count": null,
            "_view_module": "@jupyter-widgets/controls",
            "_view_module_version": "1.5.0",
            "_view_name": "HTMLView",
            "description": "",
            "description_tooltip": null,
            "layout": "IPY_MODEL_5ae2b13838e54b8eaa5e45ccb07de7cb",
            "placeholder": "​",
            "style": "IPY_MODEL_229c790ce5434844b824733e308d8141",
            "value": "Map: 100%"
          }
        },
        "d90a0ce815394e5e8cbfe02efb7d860e": {
          "model_module": "@jupyter-widgets/controls",
          "model_name": "FloatProgressModel",
          "model_module_version": "1.5.0",
          "state": {
            "_dom_classes": [],
            "_model_module": "@jupyter-widgets/controls",
            "_model_module_version": "1.5.0",
            "_model_name": "FloatProgressModel",
            "_view_count": null,
            "_view_module": "@jupyter-widgets/controls",
            "_view_module_version": "1.5.0",
            "_view_name": "ProgressView",
            "bar_style": "success",
            "description": "",
            "description_tooltip": null,
            "layout": "IPY_MODEL_4cc1fef36c47459685b3ba96f9e85abe",
            "max": 1000,
            "min": 0,
            "orientation": "horizontal",
            "style": "IPY_MODEL_2de6b3eb121c4dba8d8550f4fb4f2017",
            "value": 1000
          }
        },
        "230ab0ac9b444dc4812ecad6b41cc21b": {
          "model_module": "@jupyter-widgets/controls",
          "model_name": "HTMLModel",
          "model_module_version": "1.5.0",
          "state": {
            "_dom_classes": [],
            "_model_module": "@jupyter-widgets/controls",
            "_model_module_version": "1.5.0",
            "_model_name": "HTMLModel",
            "_view_count": null,
            "_view_module": "@jupyter-widgets/controls",
            "_view_module_version": "1.5.0",
            "_view_name": "HTMLView",
            "description": "",
            "description_tooltip": null,
            "layout": "IPY_MODEL_b516e5f908ff4cad9fc00b482dcaa15f",
            "placeholder": "​",
            "style": "IPY_MODEL_04724b225f8740809c5f1b8b51d6e3f2",
            "value": " 1000/1000 [00:00&lt;00:00, 8408.54 examples/s]"
          }
        },
        "37e18b47654e4bab9852ea021b087034": {
          "model_module": "@jupyter-widgets/base",
          "model_name": "LayoutModel",
          "model_module_version": "1.2.0",
          "state": {
            "_model_module": "@jupyter-widgets/base",
            "_model_module_version": "1.2.0",
            "_model_name": "LayoutModel",
            "_view_count": null,
            "_view_module": "@jupyter-widgets/base",
            "_view_module_version": "1.2.0",
            "_view_name": "LayoutView",
            "align_content": null,
            "align_items": null,
            "align_self": null,
            "border": null,
            "bottom": null,
            "display": null,
            "flex": null,
            "flex_flow": null,
            "grid_area": null,
            "grid_auto_columns": null,
            "grid_auto_flow": null,
            "grid_auto_rows": null,
            "grid_column": null,
            "grid_gap": null,
            "grid_row": null,
            "grid_template_areas": null,
            "grid_template_columns": null,
            "grid_template_rows": null,
            "height": null,
            "justify_content": null,
            "justify_items": null,
            "left": null,
            "margin": null,
            "max_height": null,
            "max_width": null,
            "min_height": null,
            "min_width": null,
            "object_fit": null,
            "object_position": null,
            "order": null,
            "overflow": null,
            "overflow_x": null,
            "overflow_y": null,
            "padding": null,
            "right": null,
            "top": null,
            "visibility": null,
            "width": null
          }
        },
        "5ae2b13838e54b8eaa5e45ccb07de7cb": {
          "model_module": "@jupyter-widgets/base",
          "model_name": "LayoutModel",
          "model_module_version": "1.2.0",
          "state": {
            "_model_module": "@jupyter-widgets/base",
            "_model_module_version": "1.2.0",
            "_model_name": "LayoutModel",
            "_view_count": null,
            "_view_module": "@jupyter-widgets/base",
            "_view_module_version": "1.2.0",
            "_view_name": "LayoutView",
            "align_content": null,
            "align_items": null,
            "align_self": null,
            "border": null,
            "bottom": null,
            "display": null,
            "flex": null,
            "flex_flow": null,
            "grid_area": null,
            "grid_auto_columns": null,
            "grid_auto_flow": null,
            "grid_auto_rows": null,
            "grid_column": null,
            "grid_gap": null,
            "grid_row": null,
            "grid_template_areas": null,
            "grid_template_columns": null,
            "grid_template_rows": null,
            "height": null,
            "justify_content": null,
            "justify_items": null,
            "left": null,
            "margin": null,
            "max_height": null,
            "max_width": null,
            "min_height": null,
            "min_width": null,
            "object_fit": null,
            "object_position": null,
            "order": null,
            "overflow": null,
            "overflow_x": null,
            "overflow_y": null,
            "padding": null,
            "right": null,
            "top": null,
            "visibility": null,
            "width": null
          }
        },
        "229c790ce5434844b824733e308d8141": {
          "model_module": "@jupyter-widgets/controls",
          "model_name": "DescriptionStyleModel",
          "model_module_version": "1.5.0",
          "state": {
            "_model_module": "@jupyter-widgets/controls",
            "_model_module_version": "1.5.0",
            "_model_name": "DescriptionStyleModel",
            "_view_count": null,
            "_view_module": "@jupyter-widgets/base",
            "_view_module_version": "1.2.0",
            "_view_name": "StyleView",
            "description_width": ""
          }
        },
        "4cc1fef36c47459685b3ba96f9e85abe": {
          "model_module": "@jupyter-widgets/base",
          "model_name": "LayoutModel",
          "model_module_version": "1.2.0",
          "state": {
            "_model_module": "@jupyter-widgets/base",
            "_model_module_version": "1.2.0",
            "_model_name": "LayoutModel",
            "_view_count": null,
            "_view_module": "@jupyter-widgets/base",
            "_view_module_version": "1.2.0",
            "_view_name": "LayoutView",
            "align_content": null,
            "align_items": null,
            "align_self": null,
            "border": null,
            "bottom": null,
            "display": null,
            "flex": null,
            "flex_flow": null,
            "grid_area": null,
            "grid_auto_columns": null,
            "grid_auto_flow": null,
            "grid_auto_rows": null,
            "grid_column": null,
            "grid_gap": null,
            "grid_row": null,
            "grid_template_areas": null,
            "grid_template_columns": null,
            "grid_template_rows": null,
            "height": null,
            "justify_content": null,
            "justify_items": null,
            "left": null,
            "margin": null,
            "max_height": null,
            "max_width": null,
            "min_height": null,
            "min_width": null,
            "object_fit": null,
            "object_position": null,
            "order": null,
            "overflow": null,
            "overflow_x": null,
            "overflow_y": null,
            "padding": null,
            "right": null,
            "top": null,
            "visibility": null,
            "width": null
          }
        },
        "2de6b3eb121c4dba8d8550f4fb4f2017": {
          "model_module": "@jupyter-widgets/controls",
          "model_name": "ProgressStyleModel",
          "model_module_version": "1.5.0",
          "state": {
            "_model_module": "@jupyter-widgets/controls",
            "_model_module_version": "1.5.0",
            "_model_name": "ProgressStyleModel",
            "_view_count": null,
            "_view_module": "@jupyter-widgets/base",
            "_view_module_version": "1.2.0",
            "_view_name": "StyleView",
            "bar_color": null,
            "description_width": ""
          }
        },
        "b516e5f908ff4cad9fc00b482dcaa15f": {
          "model_module": "@jupyter-widgets/base",
          "model_name": "LayoutModel",
          "model_module_version": "1.2.0",
          "state": {
            "_model_module": "@jupyter-widgets/base",
            "_model_module_version": "1.2.0",
            "_model_name": "LayoutModel",
            "_view_count": null,
            "_view_module": "@jupyter-widgets/base",
            "_view_module_version": "1.2.0",
            "_view_name": "LayoutView",
            "align_content": null,
            "align_items": null,
            "align_self": null,
            "border": null,
            "bottom": null,
            "display": null,
            "flex": null,
            "flex_flow": null,
            "grid_area": null,
            "grid_auto_columns": null,
            "grid_auto_flow": null,
            "grid_auto_rows": null,
            "grid_column": null,
            "grid_gap": null,
            "grid_row": null,
            "grid_template_areas": null,
            "grid_template_columns": null,
            "grid_template_rows": null,
            "height": null,
            "justify_content": null,
            "justify_items": null,
            "left": null,
            "margin": null,
            "max_height": null,
            "max_width": null,
            "min_height": null,
            "min_width": null,
            "object_fit": null,
            "object_position": null,
            "order": null,
            "overflow": null,
            "overflow_x": null,
            "overflow_y": null,
            "padding": null,
            "right": null,
            "top": null,
            "visibility": null,
            "width": null
          }
        },
        "04724b225f8740809c5f1b8b51d6e3f2": {
          "model_module": "@jupyter-widgets/controls",
          "model_name": "DescriptionStyleModel",
          "model_module_version": "1.5.0",
          "state": {
            "_model_module": "@jupyter-widgets/controls",
            "_model_module_version": "1.5.0",
            "_model_name": "DescriptionStyleModel",
            "_view_count": null,
            "_view_module": "@jupyter-widgets/base",
            "_view_module_version": "1.2.0",
            "_view_name": "StyleView",
            "description_width": ""
          }
        },
        "a7aaa2f0e4c64df09bd2dac4e6bbcd31": {
          "model_module": "@jupyter-widgets/controls",
          "model_name": "HBoxModel",
          "model_module_version": "1.5.0",
          "state": {
            "_dom_classes": [],
            "_model_module": "@jupyter-widgets/controls",
            "_model_module_version": "1.5.0",
            "_model_name": "HBoxModel",
            "_view_count": null,
            "_view_module": "@jupyter-widgets/controls",
            "_view_module_version": "1.5.0",
            "_view_name": "HBoxView",
            "box_style": "",
            "children": [
              "IPY_MODEL_3b6f4a6850164e349d50852ca0c2832d",
              "IPY_MODEL_12914b8752eb44e3861c3ebc0a1c51fd",
              "IPY_MODEL_c6edb258266d4523a0749a0ec958ae28"
            ],
            "layout": "IPY_MODEL_22fef8e574464a4184c699772251113f"
          }
        },
        "3b6f4a6850164e349d50852ca0c2832d": {
          "model_module": "@jupyter-widgets/controls",
          "model_name": "HTMLModel",
          "model_module_version": "1.5.0",
          "state": {
            "_dom_classes": [],
            "_model_module": "@jupyter-widgets/controls",
            "_model_module_version": "1.5.0",
            "_model_name": "HTMLModel",
            "_view_count": null,
            "_view_module": "@jupyter-widgets/controls",
            "_view_module_version": "1.5.0",
            "_view_name": "HTMLView",
            "description": "",
            "description_tooltip": null,
            "layout": "IPY_MODEL_960db72e1f0c4e6ebfee54f1df380232",
            "placeholder": "​",
            "style": "IPY_MODEL_907feebe68b5479b853cb4225081dea2",
            "value": "Map: 100%"
          }
        },
        "12914b8752eb44e3861c3ebc0a1c51fd": {
          "model_module": "@jupyter-widgets/controls",
          "model_name": "FloatProgressModel",
          "model_module_version": "1.5.0",
          "state": {
            "_dom_classes": [],
            "_model_module": "@jupyter-widgets/controls",
            "_model_module_version": "1.5.0",
            "_model_name": "FloatProgressModel",
            "_view_count": null,
            "_view_module": "@jupyter-widgets/controls",
            "_view_module_version": "1.5.0",
            "_view_name": "ProgressView",
            "bar_style": "success",
            "description": "",
            "description_tooltip": null,
            "layout": "IPY_MODEL_d2cc4707480c48598dda5a21a9d5cee6",
            "max": 1000,
            "min": 0,
            "orientation": "horizontal",
            "style": "IPY_MODEL_fa56b64a142445269d0107831b01a8f7",
            "value": 1000
          }
        },
        "c6edb258266d4523a0749a0ec958ae28": {
          "model_module": "@jupyter-widgets/controls",
          "model_name": "HTMLModel",
          "model_module_version": "1.5.0",
          "state": {
            "_dom_classes": [],
            "_model_module": "@jupyter-widgets/controls",
            "_model_module_version": "1.5.0",
            "_model_name": "HTMLModel",
            "_view_count": null,
            "_view_module": "@jupyter-widgets/controls",
            "_view_module_version": "1.5.0",
            "_view_name": "HTMLView",
            "description": "",
            "description_tooltip": null,
            "layout": "IPY_MODEL_2edcd2b54b114aee8884285dc26cff6c",
            "placeholder": "​",
            "style": "IPY_MODEL_08844f388a684625817cbfdd0b45c3ea",
            "value": " 1000/1000 [00:00&lt;00:00, 4982.31 examples/s]"
          }
        },
        "22fef8e574464a4184c699772251113f": {
          "model_module": "@jupyter-widgets/base",
          "model_name": "LayoutModel",
          "model_module_version": "1.2.0",
          "state": {
            "_model_module": "@jupyter-widgets/base",
            "_model_module_version": "1.2.0",
            "_model_name": "LayoutModel",
            "_view_count": null,
            "_view_module": "@jupyter-widgets/base",
            "_view_module_version": "1.2.0",
            "_view_name": "LayoutView",
            "align_content": null,
            "align_items": null,
            "align_self": null,
            "border": null,
            "bottom": null,
            "display": null,
            "flex": null,
            "flex_flow": null,
            "grid_area": null,
            "grid_auto_columns": null,
            "grid_auto_flow": null,
            "grid_auto_rows": null,
            "grid_column": null,
            "grid_gap": null,
            "grid_row": null,
            "grid_template_areas": null,
            "grid_template_columns": null,
            "grid_template_rows": null,
            "height": null,
            "justify_content": null,
            "justify_items": null,
            "left": null,
            "margin": null,
            "max_height": null,
            "max_width": null,
            "min_height": null,
            "min_width": null,
            "object_fit": null,
            "object_position": null,
            "order": null,
            "overflow": null,
            "overflow_x": null,
            "overflow_y": null,
            "padding": null,
            "right": null,
            "top": null,
            "visibility": null,
            "width": null
          }
        },
        "960db72e1f0c4e6ebfee54f1df380232": {
          "model_module": "@jupyter-widgets/base",
          "model_name": "LayoutModel",
          "model_module_version": "1.2.0",
          "state": {
            "_model_module": "@jupyter-widgets/base",
            "_model_module_version": "1.2.0",
            "_model_name": "LayoutModel",
            "_view_count": null,
            "_view_module": "@jupyter-widgets/base",
            "_view_module_version": "1.2.0",
            "_view_name": "LayoutView",
            "align_content": null,
            "align_items": null,
            "align_self": null,
            "border": null,
            "bottom": null,
            "display": null,
            "flex": null,
            "flex_flow": null,
            "grid_area": null,
            "grid_auto_columns": null,
            "grid_auto_flow": null,
            "grid_auto_rows": null,
            "grid_column": null,
            "grid_gap": null,
            "grid_row": null,
            "grid_template_areas": null,
            "grid_template_columns": null,
            "grid_template_rows": null,
            "height": null,
            "justify_content": null,
            "justify_items": null,
            "left": null,
            "margin": null,
            "max_height": null,
            "max_width": null,
            "min_height": null,
            "min_width": null,
            "object_fit": null,
            "object_position": null,
            "order": null,
            "overflow": null,
            "overflow_x": null,
            "overflow_y": null,
            "padding": null,
            "right": null,
            "top": null,
            "visibility": null,
            "width": null
          }
        },
        "907feebe68b5479b853cb4225081dea2": {
          "model_module": "@jupyter-widgets/controls",
          "model_name": "DescriptionStyleModel",
          "model_module_version": "1.5.0",
          "state": {
            "_model_module": "@jupyter-widgets/controls",
            "_model_module_version": "1.5.0",
            "_model_name": "DescriptionStyleModel",
            "_view_count": null,
            "_view_module": "@jupyter-widgets/base",
            "_view_module_version": "1.2.0",
            "_view_name": "StyleView",
            "description_width": ""
          }
        },
        "d2cc4707480c48598dda5a21a9d5cee6": {
          "model_module": "@jupyter-widgets/base",
          "model_name": "LayoutModel",
          "model_module_version": "1.2.0",
          "state": {
            "_model_module": "@jupyter-widgets/base",
            "_model_module_version": "1.2.0",
            "_model_name": "LayoutModel",
            "_view_count": null,
            "_view_module": "@jupyter-widgets/base",
            "_view_module_version": "1.2.0",
            "_view_name": "LayoutView",
            "align_content": null,
            "align_items": null,
            "align_self": null,
            "border": null,
            "bottom": null,
            "display": null,
            "flex": null,
            "flex_flow": null,
            "grid_area": null,
            "grid_auto_columns": null,
            "grid_auto_flow": null,
            "grid_auto_rows": null,
            "grid_column": null,
            "grid_gap": null,
            "grid_row": null,
            "grid_template_areas": null,
            "grid_template_columns": null,
            "grid_template_rows": null,
            "height": null,
            "justify_content": null,
            "justify_items": null,
            "left": null,
            "margin": null,
            "max_height": null,
            "max_width": null,
            "min_height": null,
            "min_width": null,
            "object_fit": null,
            "object_position": null,
            "order": null,
            "overflow": null,
            "overflow_x": null,
            "overflow_y": null,
            "padding": null,
            "right": null,
            "top": null,
            "visibility": null,
            "width": null
          }
        },
        "fa56b64a142445269d0107831b01a8f7": {
          "model_module": "@jupyter-widgets/controls",
          "model_name": "ProgressStyleModel",
          "model_module_version": "1.5.0",
          "state": {
            "_model_module": "@jupyter-widgets/controls",
            "_model_module_version": "1.5.0",
            "_model_name": "ProgressStyleModel",
            "_view_count": null,
            "_view_module": "@jupyter-widgets/base",
            "_view_module_version": "1.2.0",
            "_view_name": "StyleView",
            "bar_color": null,
            "description_width": ""
          }
        },
        "2edcd2b54b114aee8884285dc26cff6c": {
          "model_module": "@jupyter-widgets/base",
          "model_name": "LayoutModel",
          "model_module_version": "1.2.0",
          "state": {
            "_model_module": "@jupyter-widgets/base",
            "_model_module_version": "1.2.0",
            "_model_name": "LayoutModel",
            "_view_count": null,
            "_view_module": "@jupyter-widgets/base",
            "_view_module_version": "1.2.0",
            "_view_name": "LayoutView",
            "align_content": null,
            "align_items": null,
            "align_self": null,
            "border": null,
            "bottom": null,
            "display": null,
            "flex": null,
            "flex_flow": null,
            "grid_area": null,
            "grid_auto_columns": null,
            "grid_auto_flow": null,
            "grid_auto_rows": null,
            "grid_column": null,
            "grid_gap": null,
            "grid_row": null,
            "grid_template_areas": null,
            "grid_template_columns": null,
            "grid_template_rows": null,
            "height": null,
            "justify_content": null,
            "justify_items": null,
            "left": null,
            "margin": null,
            "max_height": null,
            "max_width": null,
            "min_height": null,
            "min_width": null,
            "object_fit": null,
            "object_position": null,
            "order": null,
            "overflow": null,
            "overflow_x": null,
            "overflow_y": null,
            "padding": null,
            "right": null,
            "top": null,
            "visibility": null,
            "width": null
          }
        },
        "08844f388a684625817cbfdd0b45c3ea": {
          "model_module": "@jupyter-widgets/controls",
          "model_name": "DescriptionStyleModel",
          "model_module_version": "1.5.0",
          "state": {
            "_model_module": "@jupyter-widgets/controls",
            "_model_module_version": "1.5.0",
            "_model_name": "DescriptionStyleModel",
            "_view_count": null,
            "_view_module": "@jupyter-widgets/base",
            "_view_module_version": "1.2.0",
            "_view_name": "StyleView",
            "description_width": ""
          }
        },
        "506b63d987e548919ede9d4669db0747": {
          "model_module": "@jupyter-widgets/controls",
          "model_name": "HBoxModel",
          "model_module_version": "1.5.0",
          "state": {
            "_dom_classes": [],
            "_model_module": "@jupyter-widgets/controls",
            "_model_module_version": "1.5.0",
            "_model_name": "HBoxModel",
            "_view_count": null,
            "_view_module": "@jupyter-widgets/controls",
            "_view_module_version": "1.5.0",
            "_view_name": "HBoxView",
            "box_style": "",
            "children": [
              "IPY_MODEL_a32eb215f436481ab639b28c6a59264f",
              "IPY_MODEL_6668740fee6745f9ab91fa5468ccb527",
              "IPY_MODEL_09bc23fc68bd41efa5d9ba130307c63d"
            ],
            "layout": "IPY_MODEL_be7ae42824704dcea9bf2535a8a62e3f"
          }
        },
        "a32eb215f436481ab639b28c6a59264f": {
          "model_module": "@jupyter-widgets/controls",
          "model_name": "HTMLModel",
          "model_module_version": "1.5.0",
          "state": {
            "_dom_classes": [],
            "_model_module": "@jupyter-widgets/controls",
            "_model_module_version": "1.5.0",
            "_model_name": "HTMLModel",
            "_view_count": null,
            "_view_module": "@jupyter-widgets/controls",
            "_view_module_version": "1.5.0",
            "_view_name": "HTMLView",
            "description": "",
            "description_tooltip": null,
            "layout": "IPY_MODEL_1d4579828a514aedbff0a470b03902c8",
            "placeholder": "​",
            "style": "IPY_MODEL_46776a72639b45e79989f5ef74f17c77",
            "value": "Downloading (…)okenizer_config.json: 100%"
          }
        },
        "6668740fee6745f9ab91fa5468ccb527": {
          "model_module": "@jupyter-widgets/controls",
          "model_name": "FloatProgressModel",
          "model_module_version": "1.5.0",
          "state": {
            "_dom_classes": [],
            "_model_module": "@jupyter-widgets/controls",
            "_model_module_version": "1.5.0",
            "_model_name": "FloatProgressModel",
            "_view_count": null,
            "_view_module": "@jupyter-widgets/controls",
            "_view_module_version": "1.5.0",
            "_view_name": "ProgressView",
            "bar_style": "success",
            "description": "",
            "description_tooltip": null,
            "layout": "IPY_MODEL_81e9532671e24bc889ae8c1b18d5dc01",
            "max": 27,
            "min": 0,
            "orientation": "horizontal",
            "style": "IPY_MODEL_9e61c9c2f54f4b4e87a8d849f0144c51",
            "value": 27
          }
        },
        "09bc23fc68bd41efa5d9ba130307c63d": {
          "model_module": "@jupyter-widgets/controls",
          "model_name": "HTMLModel",
          "model_module_version": "1.5.0",
          "state": {
            "_dom_classes": [],
            "_model_module": "@jupyter-widgets/controls",
            "_model_module_version": "1.5.0",
            "_model_name": "HTMLModel",
            "_view_count": null,
            "_view_module": "@jupyter-widgets/controls",
            "_view_module_version": "1.5.0",
            "_view_name": "HTMLView",
            "description": "",
            "description_tooltip": null,
            "layout": "IPY_MODEL_c9a2f15dc3d649c0b84bcd359871c1fd",
            "placeholder": "​",
            "style": "IPY_MODEL_995dccfcbc9b4dac87ff7531c9588176",
            "value": " 27.0/27.0 [00:00&lt;00:00, 493B/s]"
          }
        },
        "be7ae42824704dcea9bf2535a8a62e3f": {
          "model_module": "@jupyter-widgets/base",
          "model_name": "LayoutModel",
          "model_module_version": "1.2.0",
          "state": {
            "_model_module": "@jupyter-widgets/base",
            "_model_module_version": "1.2.0",
            "_model_name": "LayoutModel",
            "_view_count": null,
            "_view_module": "@jupyter-widgets/base",
            "_view_module_version": "1.2.0",
            "_view_name": "LayoutView",
            "align_content": null,
            "align_items": null,
            "align_self": null,
            "border": null,
            "bottom": null,
            "display": null,
            "flex": null,
            "flex_flow": null,
            "grid_area": null,
            "grid_auto_columns": null,
            "grid_auto_flow": null,
            "grid_auto_rows": null,
            "grid_column": null,
            "grid_gap": null,
            "grid_row": null,
            "grid_template_areas": null,
            "grid_template_columns": null,
            "grid_template_rows": null,
            "height": null,
            "justify_content": null,
            "justify_items": null,
            "left": null,
            "margin": null,
            "max_height": null,
            "max_width": null,
            "min_height": null,
            "min_width": null,
            "object_fit": null,
            "object_position": null,
            "order": null,
            "overflow": null,
            "overflow_x": null,
            "overflow_y": null,
            "padding": null,
            "right": null,
            "top": null,
            "visibility": null,
            "width": null
          }
        },
        "1d4579828a514aedbff0a470b03902c8": {
          "model_module": "@jupyter-widgets/base",
          "model_name": "LayoutModel",
          "model_module_version": "1.2.0",
          "state": {
            "_model_module": "@jupyter-widgets/base",
            "_model_module_version": "1.2.0",
            "_model_name": "LayoutModel",
            "_view_count": null,
            "_view_module": "@jupyter-widgets/base",
            "_view_module_version": "1.2.0",
            "_view_name": "LayoutView",
            "align_content": null,
            "align_items": null,
            "align_self": null,
            "border": null,
            "bottom": null,
            "display": null,
            "flex": null,
            "flex_flow": null,
            "grid_area": null,
            "grid_auto_columns": null,
            "grid_auto_flow": null,
            "grid_auto_rows": null,
            "grid_column": null,
            "grid_gap": null,
            "grid_row": null,
            "grid_template_areas": null,
            "grid_template_columns": null,
            "grid_template_rows": null,
            "height": null,
            "justify_content": null,
            "justify_items": null,
            "left": null,
            "margin": null,
            "max_height": null,
            "max_width": null,
            "min_height": null,
            "min_width": null,
            "object_fit": null,
            "object_position": null,
            "order": null,
            "overflow": null,
            "overflow_x": null,
            "overflow_y": null,
            "padding": null,
            "right": null,
            "top": null,
            "visibility": null,
            "width": null
          }
        },
        "46776a72639b45e79989f5ef74f17c77": {
          "model_module": "@jupyter-widgets/controls",
          "model_name": "DescriptionStyleModel",
          "model_module_version": "1.5.0",
          "state": {
            "_model_module": "@jupyter-widgets/controls",
            "_model_module_version": "1.5.0",
            "_model_name": "DescriptionStyleModel",
            "_view_count": null,
            "_view_module": "@jupyter-widgets/base",
            "_view_module_version": "1.2.0",
            "_view_name": "StyleView",
            "description_width": ""
          }
        },
        "81e9532671e24bc889ae8c1b18d5dc01": {
          "model_module": "@jupyter-widgets/base",
          "model_name": "LayoutModel",
          "model_module_version": "1.2.0",
          "state": {
            "_model_module": "@jupyter-widgets/base",
            "_model_module_version": "1.2.0",
            "_model_name": "LayoutModel",
            "_view_count": null,
            "_view_module": "@jupyter-widgets/base",
            "_view_module_version": "1.2.0",
            "_view_name": "LayoutView",
            "align_content": null,
            "align_items": null,
            "align_self": null,
            "border": null,
            "bottom": null,
            "display": null,
            "flex": null,
            "flex_flow": null,
            "grid_area": null,
            "grid_auto_columns": null,
            "grid_auto_flow": null,
            "grid_auto_rows": null,
            "grid_column": null,
            "grid_gap": null,
            "grid_row": null,
            "grid_template_areas": null,
            "grid_template_columns": null,
            "grid_template_rows": null,
            "height": null,
            "justify_content": null,
            "justify_items": null,
            "left": null,
            "margin": null,
            "max_height": null,
            "max_width": null,
            "min_height": null,
            "min_width": null,
            "object_fit": null,
            "object_position": null,
            "order": null,
            "overflow": null,
            "overflow_x": null,
            "overflow_y": null,
            "padding": null,
            "right": null,
            "top": null,
            "visibility": null,
            "width": null
          }
        },
        "9e61c9c2f54f4b4e87a8d849f0144c51": {
          "model_module": "@jupyter-widgets/controls",
          "model_name": "ProgressStyleModel",
          "model_module_version": "1.5.0",
          "state": {
            "_model_module": "@jupyter-widgets/controls",
            "_model_module_version": "1.5.0",
            "_model_name": "ProgressStyleModel",
            "_view_count": null,
            "_view_module": "@jupyter-widgets/base",
            "_view_module_version": "1.2.0",
            "_view_name": "StyleView",
            "bar_color": null,
            "description_width": ""
          }
        },
        "c9a2f15dc3d649c0b84bcd359871c1fd": {
          "model_module": "@jupyter-widgets/base",
          "model_name": "LayoutModel",
          "model_module_version": "1.2.0",
          "state": {
            "_model_module": "@jupyter-widgets/base",
            "_model_module_version": "1.2.0",
            "_model_name": "LayoutModel",
            "_view_count": null,
            "_view_module": "@jupyter-widgets/base",
            "_view_module_version": "1.2.0",
            "_view_name": "LayoutView",
            "align_content": null,
            "align_items": null,
            "align_self": null,
            "border": null,
            "bottom": null,
            "display": null,
            "flex": null,
            "flex_flow": null,
            "grid_area": null,
            "grid_auto_columns": null,
            "grid_auto_flow": null,
            "grid_auto_rows": null,
            "grid_column": null,
            "grid_gap": null,
            "grid_row": null,
            "grid_template_areas": null,
            "grid_template_columns": null,
            "grid_template_rows": null,
            "height": null,
            "justify_content": null,
            "justify_items": null,
            "left": null,
            "margin": null,
            "max_height": null,
            "max_width": null,
            "min_height": null,
            "min_width": null,
            "object_fit": null,
            "object_position": null,
            "order": null,
            "overflow": null,
            "overflow_x": null,
            "overflow_y": null,
            "padding": null,
            "right": null,
            "top": null,
            "visibility": null,
            "width": null
          }
        },
        "995dccfcbc9b4dac87ff7531c9588176": {
          "model_module": "@jupyter-widgets/controls",
          "model_name": "DescriptionStyleModel",
          "model_module_version": "1.5.0",
          "state": {
            "_model_module": "@jupyter-widgets/controls",
            "_model_module_version": "1.5.0",
            "_model_name": "DescriptionStyleModel",
            "_view_count": null,
            "_view_module": "@jupyter-widgets/base",
            "_view_module_version": "1.2.0",
            "_view_name": "StyleView",
            "description_width": ""
          }
        },
        "fc3fb89fd17a452a97a5ccd272c22dce": {
          "model_module": "@jupyter-widgets/controls",
          "model_name": "HBoxModel",
          "model_module_version": "1.5.0",
          "state": {
            "_dom_classes": [],
            "_model_module": "@jupyter-widgets/controls",
            "_model_module_version": "1.5.0",
            "_model_name": "HBoxModel",
            "_view_count": null,
            "_view_module": "@jupyter-widgets/controls",
            "_view_module_version": "1.5.0",
            "_view_name": "HBoxView",
            "box_style": "",
            "children": [
              "IPY_MODEL_e277d3f1ae2b40a983f11059948bb6d6",
              "IPY_MODEL_103e9e9fafb44710b2ea5d32e95646b0",
              "IPY_MODEL_b31151c7ae3c403bb056e145d23362f1"
            ],
            "layout": "IPY_MODEL_845e91b443ce45b8b29110fd63898ba1"
          }
        },
        "e277d3f1ae2b40a983f11059948bb6d6": {
          "model_module": "@jupyter-widgets/controls",
          "model_name": "HTMLModel",
          "model_module_version": "1.5.0",
          "state": {
            "_dom_classes": [],
            "_model_module": "@jupyter-widgets/controls",
            "_model_module_version": "1.5.0",
            "_model_name": "HTMLModel",
            "_view_count": null,
            "_view_module": "@jupyter-widgets/controls",
            "_view_module_version": "1.5.0",
            "_view_name": "HTMLView",
            "description": "",
            "description_tooltip": null,
            "layout": "IPY_MODEL_12819cd50d97473691bf996b927a7890",
            "placeholder": "​",
            "style": "IPY_MODEL_e058b792aa254441a259e9bfff30cc63",
            "value": "Downloading (…)lve/main/config.json: 100%"
          }
        },
        "103e9e9fafb44710b2ea5d32e95646b0": {
          "model_module": "@jupyter-widgets/controls",
          "model_name": "FloatProgressModel",
          "model_module_version": "1.5.0",
          "state": {
            "_dom_classes": [],
            "_model_module": "@jupyter-widgets/controls",
            "_model_module_version": "1.5.0",
            "_model_name": "FloatProgressModel",
            "_view_count": null,
            "_view_module": "@jupyter-widgets/controls",
            "_view_module_version": "1.5.0",
            "_view_name": "ProgressView",
            "bar_style": "success",
            "description": "",
            "description_tooltip": null,
            "layout": "IPY_MODEL_24335ff3087f46748a7fb44b792e8193",
            "max": 666,
            "min": 0,
            "orientation": "horizontal",
            "style": "IPY_MODEL_3761dc4dffc14ade898bfe1c3858ef41",
            "value": 666
          }
        },
        "b31151c7ae3c403bb056e145d23362f1": {
          "model_module": "@jupyter-widgets/controls",
          "model_name": "HTMLModel",
          "model_module_version": "1.5.0",
          "state": {
            "_dom_classes": [],
            "_model_module": "@jupyter-widgets/controls",
            "_model_module_version": "1.5.0",
            "_model_name": "HTMLModel",
            "_view_count": null,
            "_view_module": "@jupyter-widgets/controls",
            "_view_module_version": "1.5.0",
            "_view_name": "HTMLView",
            "description": "",
            "description_tooltip": null,
            "layout": "IPY_MODEL_288621029cd143f48a823104114d7bd8",
            "placeholder": "​",
            "style": "IPY_MODEL_4e8feb76449146eb871d55de658bfc67",
            "value": " 666/666 [00:00&lt;00:00, 14.2kB/s]"
          }
        },
        "845e91b443ce45b8b29110fd63898ba1": {
          "model_module": "@jupyter-widgets/base",
          "model_name": "LayoutModel",
          "model_module_version": "1.2.0",
          "state": {
            "_model_module": "@jupyter-widgets/base",
            "_model_module_version": "1.2.0",
            "_model_name": "LayoutModel",
            "_view_count": null,
            "_view_module": "@jupyter-widgets/base",
            "_view_module_version": "1.2.0",
            "_view_name": "LayoutView",
            "align_content": null,
            "align_items": null,
            "align_self": null,
            "border": null,
            "bottom": null,
            "display": null,
            "flex": null,
            "flex_flow": null,
            "grid_area": null,
            "grid_auto_columns": null,
            "grid_auto_flow": null,
            "grid_auto_rows": null,
            "grid_column": null,
            "grid_gap": null,
            "grid_row": null,
            "grid_template_areas": null,
            "grid_template_columns": null,
            "grid_template_rows": null,
            "height": null,
            "justify_content": null,
            "justify_items": null,
            "left": null,
            "margin": null,
            "max_height": null,
            "max_width": null,
            "min_height": null,
            "min_width": null,
            "object_fit": null,
            "object_position": null,
            "order": null,
            "overflow": null,
            "overflow_x": null,
            "overflow_y": null,
            "padding": null,
            "right": null,
            "top": null,
            "visibility": null,
            "width": null
          }
        },
        "12819cd50d97473691bf996b927a7890": {
          "model_module": "@jupyter-widgets/base",
          "model_name": "LayoutModel",
          "model_module_version": "1.2.0",
          "state": {
            "_model_module": "@jupyter-widgets/base",
            "_model_module_version": "1.2.0",
            "_model_name": "LayoutModel",
            "_view_count": null,
            "_view_module": "@jupyter-widgets/base",
            "_view_module_version": "1.2.0",
            "_view_name": "LayoutView",
            "align_content": null,
            "align_items": null,
            "align_self": null,
            "border": null,
            "bottom": null,
            "display": null,
            "flex": null,
            "flex_flow": null,
            "grid_area": null,
            "grid_auto_columns": null,
            "grid_auto_flow": null,
            "grid_auto_rows": null,
            "grid_column": null,
            "grid_gap": null,
            "grid_row": null,
            "grid_template_areas": null,
            "grid_template_columns": null,
            "grid_template_rows": null,
            "height": null,
            "justify_content": null,
            "justify_items": null,
            "left": null,
            "margin": null,
            "max_height": null,
            "max_width": null,
            "min_height": null,
            "min_width": null,
            "object_fit": null,
            "object_position": null,
            "order": null,
            "overflow": null,
            "overflow_x": null,
            "overflow_y": null,
            "padding": null,
            "right": null,
            "top": null,
            "visibility": null,
            "width": null
          }
        },
        "e058b792aa254441a259e9bfff30cc63": {
          "model_module": "@jupyter-widgets/controls",
          "model_name": "DescriptionStyleModel",
          "model_module_version": "1.5.0",
          "state": {
            "_model_module": "@jupyter-widgets/controls",
            "_model_module_version": "1.5.0",
            "_model_name": "DescriptionStyleModel",
            "_view_count": null,
            "_view_module": "@jupyter-widgets/base",
            "_view_module_version": "1.2.0",
            "_view_name": "StyleView",
            "description_width": ""
          }
        },
        "24335ff3087f46748a7fb44b792e8193": {
          "model_module": "@jupyter-widgets/base",
          "model_name": "LayoutModel",
          "model_module_version": "1.2.0",
          "state": {
            "_model_module": "@jupyter-widgets/base",
            "_model_module_version": "1.2.0",
            "_model_name": "LayoutModel",
            "_view_count": null,
            "_view_module": "@jupyter-widgets/base",
            "_view_module_version": "1.2.0",
            "_view_name": "LayoutView",
            "align_content": null,
            "align_items": null,
            "align_self": null,
            "border": null,
            "bottom": null,
            "display": null,
            "flex": null,
            "flex_flow": null,
            "grid_area": null,
            "grid_auto_columns": null,
            "grid_auto_flow": null,
            "grid_auto_rows": null,
            "grid_column": null,
            "grid_gap": null,
            "grid_row": null,
            "grid_template_areas": null,
            "grid_template_columns": null,
            "grid_template_rows": null,
            "height": null,
            "justify_content": null,
            "justify_items": null,
            "left": null,
            "margin": null,
            "max_height": null,
            "max_width": null,
            "min_height": null,
            "min_width": null,
            "object_fit": null,
            "object_position": null,
            "order": null,
            "overflow": null,
            "overflow_x": null,
            "overflow_y": null,
            "padding": null,
            "right": null,
            "top": null,
            "visibility": null,
            "width": null
          }
        },
        "3761dc4dffc14ade898bfe1c3858ef41": {
          "model_module": "@jupyter-widgets/controls",
          "model_name": "ProgressStyleModel",
          "model_module_version": "1.5.0",
          "state": {
            "_model_module": "@jupyter-widgets/controls",
            "_model_module_version": "1.5.0",
            "_model_name": "ProgressStyleModel",
            "_view_count": null,
            "_view_module": "@jupyter-widgets/base",
            "_view_module_version": "1.2.0",
            "_view_name": "StyleView",
            "bar_color": null,
            "description_width": ""
          }
        },
        "288621029cd143f48a823104114d7bd8": {
          "model_module": "@jupyter-widgets/base",
          "model_name": "LayoutModel",
          "model_module_version": "1.2.0",
          "state": {
            "_model_module": "@jupyter-widgets/base",
            "_model_module_version": "1.2.0",
            "_model_name": "LayoutModel",
            "_view_count": null,
            "_view_module": "@jupyter-widgets/base",
            "_view_module_version": "1.2.0",
            "_view_name": "LayoutView",
            "align_content": null,
            "align_items": null,
            "align_self": null,
            "border": null,
            "bottom": null,
            "display": null,
            "flex": null,
            "flex_flow": null,
            "grid_area": null,
            "grid_auto_columns": null,
            "grid_auto_flow": null,
            "grid_auto_rows": null,
            "grid_column": null,
            "grid_gap": null,
            "grid_row": null,
            "grid_template_areas": null,
            "grid_template_columns": null,
            "grid_template_rows": null,
            "height": null,
            "justify_content": null,
            "justify_items": null,
            "left": null,
            "margin": null,
            "max_height": null,
            "max_width": null,
            "min_height": null,
            "min_width": null,
            "object_fit": null,
            "object_position": null,
            "order": null,
            "overflow": null,
            "overflow_x": null,
            "overflow_y": null,
            "padding": null,
            "right": null,
            "top": null,
            "visibility": null,
            "width": null
          }
        },
        "4e8feb76449146eb871d55de658bfc67": {
          "model_module": "@jupyter-widgets/controls",
          "model_name": "DescriptionStyleModel",
          "model_module_version": "1.5.0",
          "state": {
            "_model_module": "@jupyter-widgets/controls",
            "_model_module_version": "1.5.0",
            "_model_name": "DescriptionStyleModel",
            "_view_count": null,
            "_view_module": "@jupyter-widgets/base",
            "_view_module_version": "1.2.0",
            "_view_name": "StyleView",
            "description_width": ""
          }
        },
        "a2cbe651397641b1b533544712005a85": {
          "model_module": "@jupyter-widgets/controls",
          "model_name": "HBoxModel",
          "model_module_version": "1.5.0",
          "state": {
            "_dom_classes": [],
            "_model_module": "@jupyter-widgets/controls",
            "_model_module_version": "1.5.0",
            "_model_name": "HBoxModel",
            "_view_count": null,
            "_view_module": "@jupyter-widgets/controls",
            "_view_module_version": "1.5.0",
            "_view_name": "HBoxView",
            "box_style": "",
            "children": [
              "IPY_MODEL_b279df2471b6419f9cec31c63a3814b6",
              "IPY_MODEL_952dbd3f97934b8d81ef539e6c077e40",
              "IPY_MODEL_683cbc9570104dd6a5834057ce9f6827"
            ],
            "layout": "IPY_MODEL_c8e0e6472bc743228f07786894593438"
          }
        },
        "b279df2471b6419f9cec31c63a3814b6": {
          "model_module": "@jupyter-widgets/controls",
          "model_name": "HTMLModel",
          "model_module_version": "1.5.0",
          "state": {
            "_dom_classes": [],
            "_model_module": "@jupyter-widgets/controls",
            "_model_module_version": "1.5.0",
            "_model_name": "HTMLModel",
            "_view_count": null,
            "_view_module": "@jupyter-widgets/controls",
            "_view_module_version": "1.5.0",
            "_view_name": "HTMLView",
            "description": "",
            "description_tooltip": null,
            "layout": "IPY_MODEL_1349c80e2d9343a680bbe72ef2dcbc53",
            "placeholder": "​",
            "style": "IPY_MODEL_64da63871cab47599f7b375b47486a04",
            "value": "Downloading (…)solve/main/vocab.txt: 100%"
          }
        },
        "952dbd3f97934b8d81ef539e6c077e40": {
          "model_module": "@jupyter-widgets/controls",
          "model_name": "FloatProgressModel",
          "model_module_version": "1.5.0",
          "state": {
            "_dom_classes": [],
            "_model_module": "@jupyter-widgets/controls",
            "_model_module_version": "1.5.0",
            "_model_name": "FloatProgressModel",
            "_view_count": null,
            "_view_module": "@jupyter-widgets/controls",
            "_view_module_version": "1.5.0",
            "_view_name": "ProgressView",
            "bar_style": "success",
            "description": "",
            "description_tooltip": null,
            "layout": "IPY_MODEL_38932a268d6c4eb69fbee90af99bd3e2",
            "max": 231508,
            "min": 0,
            "orientation": "horizontal",
            "style": "IPY_MODEL_2e73d945260f4c4291a17c48da075a51",
            "value": 231508
          }
        },
        "683cbc9570104dd6a5834057ce9f6827": {
          "model_module": "@jupyter-widgets/controls",
          "model_name": "HTMLModel",
          "model_module_version": "1.5.0",
          "state": {
            "_dom_classes": [],
            "_model_module": "@jupyter-widgets/controls",
            "_model_module_version": "1.5.0",
            "_model_name": "HTMLModel",
            "_view_count": null,
            "_view_module": "@jupyter-widgets/controls",
            "_view_module_version": "1.5.0",
            "_view_name": "HTMLView",
            "description": "",
            "description_tooltip": null,
            "layout": "IPY_MODEL_3ee4939ac11d478baf44de78cddafd72",
            "placeholder": "​",
            "style": "IPY_MODEL_eba092c6987844f5b7acb0d80a4d799f",
            "value": " 232k/232k [00:00&lt;00:00, 3.97MB/s]"
          }
        },
        "c8e0e6472bc743228f07786894593438": {
          "model_module": "@jupyter-widgets/base",
          "model_name": "LayoutModel",
          "model_module_version": "1.2.0",
          "state": {
            "_model_module": "@jupyter-widgets/base",
            "_model_module_version": "1.2.0",
            "_model_name": "LayoutModel",
            "_view_count": null,
            "_view_module": "@jupyter-widgets/base",
            "_view_module_version": "1.2.0",
            "_view_name": "LayoutView",
            "align_content": null,
            "align_items": null,
            "align_self": null,
            "border": null,
            "bottom": null,
            "display": null,
            "flex": null,
            "flex_flow": null,
            "grid_area": null,
            "grid_auto_columns": null,
            "grid_auto_flow": null,
            "grid_auto_rows": null,
            "grid_column": null,
            "grid_gap": null,
            "grid_row": null,
            "grid_template_areas": null,
            "grid_template_columns": null,
            "grid_template_rows": null,
            "height": null,
            "justify_content": null,
            "justify_items": null,
            "left": null,
            "margin": null,
            "max_height": null,
            "max_width": null,
            "min_height": null,
            "min_width": null,
            "object_fit": null,
            "object_position": null,
            "order": null,
            "overflow": null,
            "overflow_x": null,
            "overflow_y": null,
            "padding": null,
            "right": null,
            "top": null,
            "visibility": null,
            "width": null
          }
        },
        "1349c80e2d9343a680bbe72ef2dcbc53": {
          "model_module": "@jupyter-widgets/base",
          "model_name": "LayoutModel",
          "model_module_version": "1.2.0",
          "state": {
            "_model_module": "@jupyter-widgets/base",
            "_model_module_version": "1.2.0",
            "_model_name": "LayoutModel",
            "_view_count": null,
            "_view_module": "@jupyter-widgets/base",
            "_view_module_version": "1.2.0",
            "_view_name": "LayoutView",
            "align_content": null,
            "align_items": null,
            "align_self": null,
            "border": null,
            "bottom": null,
            "display": null,
            "flex": null,
            "flex_flow": null,
            "grid_area": null,
            "grid_auto_columns": null,
            "grid_auto_flow": null,
            "grid_auto_rows": null,
            "grid_column": null,
            "grid_gap": null,
            "grid_row": null,
            "grid_template_areas": null,
            "grid_template_columns": null,
            "grid_template_rows": null,
            "height": null,
            "justify_content": null,
            "justify_items": null,
            "left": null,
            "margin": null,
            "max_height": null,
            "max_width": null,
            "min_height": null,
            "min_width": null,
            "object_fit": null,
            "object_position": null,
            "order": null,
            "overflow": null,
            "overflow_x": null,
            "overflow_y": null,
            "padding": null,
            "right": null,
            "top": null,
            "visibility": null,
            "width": null
          }
        },
        "64da63871cab47599f7b375b47486a04": {
          "model_module": "@jupyter-widgets/controls",
          "model_name": "DescriptionStyleModel",
          "model_module_version": "1.5.0",
          "state": {
            "_model_module": "@jupyter-widgets/controls",
            "_model_module_version": "1.5.0",
            "_model_name": "DescriptionStyleModel",
            "_view_count": null,
            "_view_module": "@jupyter-widgets/base",
            "_view_module_version": "1.2.0",
            "_view_name": "StyleView",
            "description_width": ""
          }
        },
        "38932a268d6c4eb69fbee90af99bd3e2": {
          "model_module": "@jupyter-widgets/base",
          "model_name": "LayoutModel",
          "model_module_version": "1.2.0",
          "state": {
            "_model_module": "@jupyter-widgets/base",
            "_model_module_version": "1.2.0",
            "_model_name": "LayoutModel",
            "_view_count": null,
            "_view_module": "@jupyter-widgets/base",
            "_view_module_version": "1.2.0",
            "_view_name": "LayoutView",
            "align_content": null,
            "align_items": null,
            "align_self": null,
            "border": null,
            "bottom": null,
            "display": null,
            "flex": null,
            "flex_flow": null,
            "grid_area": null,
            "grid_auto_columns": null,
            "grid_auto_flow": null,
            "grid_auto_rows": null,
            "grid_column": null,
            "grid_gap": null,
            "grid_row": null,
            "grid_template_areas": null,
            "grid_template_columns": null,
            "grid_template_rows": null,
            "height": null,
            "justify_content": null,
            "justify_items": null,
            "left": null,
            "margin": null,
            "max_height": null,
            "max_width": null,
            "min_height": null,
            "min_width": null,
            "object_fit": null,
            "object_position": null,
            "order": null,
            "overflow": null,
            "overflow_x": null,
            "overflow_y": null,
            "padding": null,
            "right": null,
            "top": null,
            "visibility": null,
            "width": null
          }
        },
        "2e73d945260f4c4291a17c48da075a51": {
          "model_module": "@jupyter-widgets/controls",
          "model_name": "ProgressStyleModel",
          "model_module_version": "1.5.0",
          "state": {
            "_model_module": "@jupyter-widgets/controls",
            "_model_module_version": "1.5.0",
            "_model_name": "ProgressStyleModel",
            "_view_count": null,
            "_view_module": "@jupyter-widgets/base",
            "_view_module_version": "1.2.0",
            "_view_name": "StyleView",
            "bar_color": null,
            "description_width": ""
          }
        },
        "3ee4939ac11d478baf44de78cddafd72": {
          "model_module": "@jupyter-widgets/base",
          "model_name": "LayoutModel",
          "model_module_version": "1.2.0",
          "state": {
            "_model_module": "@jupyter-widgets/base",
            "_model_module_version": "1.2.0",
            "_model_name": "LayoutModel",
            "_view_count": null,
            "_view_module": "@jupyter-widgets/base",
            "_view_module_version": "1.2.0",
            "_view_name": "LayoutView",
            "align_content": null,
            "align_items": null,
            "align_self": null,
            "border": null,
            "bottom": null,
            "display": null,
            "flex": null,
            "flex_flow": null,
            "grid_area": null,
            "grid_auto_columns": null,
            "grid_auto_flow": null,
            "grid_auto_rows": null,
            "grid_column": null,
            "grid_gap": null,
            "grid_row": null,
            "grid_template_areas": null,
            "grid_template_columns": null,
            "grid_template_rows": null,
            "height": null,
            "justify_content": null,
            "justify_items": null,
            "left": null,
            "margin": null,
            "max_height": null,
            "max_width": null,
            "min_height": null,
            "min_width": null,
            "object_fit": null,
            "object_position": null,
            "order": null,
            "overflow": null,
            "overflow_x": null,
            "overflow_y": null,
            "padding": null,
            "right": null,
            "top": null,
            "visibility": null,
            "width": null
          }
        },
        "eba092c6987844f5b7acb0d80a4d799f": {
          "model_module": "@jupyter-widgets/controls",
          "model_name": "DescriptionStyleModel",
          "model_module_version": "1.5.0",
          "state": {
            "_model_module": "@jupyter-widgets/controls",
            "_model_module_version": "1.5.0",
            "_model_name": "DescriptionStyleModel",
            "_view_count": null,
            "_view_module": "@jupyter-widgets/base",
            "_view_module_version": "1.2.0",
            "_view_name": "StyleView",
            "description_width": ""
          }
        },
        "87dba8d2bd4549a496f131807e254cc4": {
          "model_module": "@jupyter-widgets/controls",
          "model_name": "HBoxModel",
          "model_module_version": "1.5.0",
          "state": {
            "_dom_classes": [],
            "_model_module": "@jupyter-widgets/controls",
            "_model_module_version": "1.5.0",
            "_model_name": "HBoxModel",
            "_view_count": null,
            "_view_module": "@jupyter-widgets/controls",
            "_view_module_version": "1.5.0",
            "_view_name": "HBoxView",
            "box_style": "",
            "children": [
              "IPY_MODEL_1b5a76004ebf48fa940b4ce6dd5a66c2",
              "IPY_MODEL_6b2097a060ff440686f84a28d493021c",
              "IPY_MODEL_d6929d8155884138b6f18a537a63b64e"
            ],
            "layout": "IPY_MODEL_1b906f983edb4fecaf087b53969a1399"
          }
        },
        "1b5a76004ebf48fa940b4ce6dd5a66c2": {
          "model_module": "@jupyter-widgets/controls",
          "model_name": "HTMLModel",
          "model_module_version": "1.5.0",
          "state": {
            "_dom_classes": [],
            "_model_module": "@jupyter-widgets/controls",
            "_model_module_version": "1.5.0",
            "_model_name": "HTMLModel",
            "_view_count": null,
            "_view_module": "@jupyter-widgets/controls",
            "_view_module_version": "1.5.0",
            "_view_name": "HTMLView",
            "description": "",
            "description_tooltip": null,
            "layout": "IPY_MODEL_d41d17f6685e43e98951f24715f650bf",
            "placeholder": "​",
            "style": "IPY_MODEL_33f42f60bb464d439afe1426e725aa7c",
            "value": "Downloading (…)/main/tokenizer.json: 100%"
          }
        },
        "6b2097a060ff440686f84a28d493021c": {
          "model_module": "@jupyter-widgets/controls",
          "model_name": "FloatProgressModel",
          "model_module_version": "1.5.0",
          "state": {
            "_dom_classes": [],
            "_model_module": "@jupyter-widgets/controls",
            "_model_module_version": "1.5.0",
            "_model_name": "FloatProgressModel",
            "_view_count": null,
            "_view_module": "@jupyter-widgets/controls",
            "_view_module_version": "1.5.0",
            "_view_name": "ProgressView",
            "bar_style": "success",
            "description": "",
            "description_tooltip": null,
            "layout": "IPY_MODEL_8f5481677d4944e8b1bb7e98ada4fcfe",
            "max": 466062,
            "min": 0,
            "orientation": "horizontal",
            "style": "IPY_MODEL_dba481ae674c4711a266c8dcc99359ae",
            "value": 466062
          }
        },
        "d6929d8155884138b6f18a537a63b64e": {
          "model_module": "@jupyter-widgets/controls",
          "model_name": "HTMLModel",
          "model_module_version": "1.5.0",
          "state": {
            "_dom_classes": [],
            "_model_module": "@jupyter-widgets/controls",
            "_model_module_version": "1.5.0",
            "_model_name": "HTMLModel",
            "_view_count": null,
            "_view_module": "@jupyter-widgets/controls",
            "_view_module_version": "1.5.0",
            "_view_name": "HTMLView",
            "description": "",
            "description_tooltip": null,
            "layout": "IPY_MODEL_754f9f56bc5b4a43ab518ea8664a4434",
            "placeholder": "​",
            "style": "IPY_MODEL_4d38fdb1380a442fac5ce5b40e0a6a3e",
            "value": " 466k/466k [00:00&lt;00:00, 8.30MB/s]"
          }
        },
        "1b906f983edb4fecaf087b53969a1399": {
          "model_module": "@jupyter-widgets/base",
          "model_name": "LayoutModel",
          "model_module_version": "1.2.0",
          "state": {
            "_model_module": "@jupyter-widgets/base",
            "_model_module_version": "1.2.0",
            "_model_name": "LayoutModel",
            "_view_count": null,
            "_view_module": "@jupyter-widgets/base",
            "_view_module_version": "1.2.0",
            "_view_name": "LayoutView",
            "align_content": null,
            "align_items": null,
            "align_self": null,
            "border": null,
            "bottom": null,
            "display": null,
            "flex": null,
            "flex_flow": null,
            "grid_area": null,
            "grid_auto_columns": null,
            "grid_auto_flow": null,
            "grid_auto_rows": null,
            "grid_column": null,
            "grid_gap": null,
            "grid_row": null,
            "grid_template_areas": null,
            "grid_template_columns": null,
            "grid_template_rows": null,
            "height": null,
            "justify_content": null,
            "justify_items": null,
            "left": null,
            "margin": null,
            "max_height": null,
            "max_width": null,
            "min_height": null,
            "min_width": null,
            "object_fit": null,
            "object_position": null,
            "order": null,
            "overflow": null,
            "overflow_x": null,
            "overflow_y": null,
            "padding": null,
            "right": null,
            "top": null,
            "visibility": null,
            "width": null
          }
        },
        "d41d17f6685e43e98951f24715f650bf": {
          "model_module": "@jupyter-widgets/base",
          "model_name": "LayoutModel",
          "model_module_version": "1.2.0",
          "state": {
            "_model_module": "@jupyter-widgets/base",
            "_model_module_version": "1.2.0",
            "_model_name": "LayoutModel",
            "_view_count": null,
            "_view_module": "@jupyter-widgets/base",
            "_view_module_version": "1.2.0",
            "_view_name": "LayoutView",
            "align_content": null,
            "align_items": null,
            "align_self": null,
            "border": null,
            "bottom": null,
            "display": null,
            "flex": null,
            "flex_flow": null,
            "grid_area": null,
            "grid_auto_columns": null,
            "grid_auto_flow": null,
            "grid_auto_rows": null,
            "grid_column": null,
            "grid_gap": null,
            "grid_row": null,
            "grid_template_areas": null,
            "grid_template_columns": null,
            "grid_template_rows": null,
            "height": null,
            "justify_content": null,
            "justify_items": null,
            "left": null,
            "margin": null,
            "max_height": null,
            "max_width": null,
            "min_height": null,
            "min_width": null,
            "object_fit": null,
            "object_position": null,
            "order": null,
            "overflow": null,
            "overflow_x": null,
            "overflow_y": null,
            "padding": null,
            "right": null,
            "top": null,
            "visibility": null,
            "width": null
          }
        },
        "33f42f60bb464d439afe1426e725aa7c": {
          "model_module": "@jupyter-widgets/controls",
          "model_name": "DescriptionStyleModel",
          "model_module_version": "1.5.0",
          "state": {
            "_model_module": "@jupyter-widgets/controls",
            "_model_module_version": "1.5.0",
            "_model_name": "DescriptionStyleModel",
            "_view_count": null,
            "_view_module": "@jupyter-widgets/base",
            "_view_module_version": "1.2.0",
            "_view_name": "StyleView",
            "description_width": ""
          }
        },
        "8f5481677d4944e8b1bb7e98ada4fcfe": {
          "model_module": "@jupyter-widgets/base",
          "model_name": "LayoutModel",
          "model_module_version": "1.2.0",
          "state": {
            "_model_module": "@jupyter-widgets/base",
            "_model_module_version": "1.2.0",
            "_model_name": "LayoutModel",
            "_view_count": null,
            "_view_module": "@jupyter-widgets/base",
            "_view_module_version": "1.2.0",
            "_view_name": "LayoutView",
            "align_content": null,
            "align_items": null,
            "align_self": null,
            "border": null,
            "bottom": null,
            "display": null,
            "flex": null,
            "flex_flow": null,
            "grid_area": null,
            "grid_auto_columns": null,
            "grid_auto_flow": null,
            "grid_auto_rows": null,
            "grid_column": null,
            "grid_gap": null,
            "grid_row": null,
            "grid_template_areas": null,
            "grid_template_columns": null,
            "grid_template_rows": null,
            "height": null,
            "justify_content": null,
            "justify_items": null,
            "left": null,
            "margin": null,
            "max_height": null,
            "max_width": null,
            "min_height": null,
            "min_width": null,
            "object_fit": null,
            "object_position": null,
            "order": null,
            "overflow": null,
            "overflow_x": null,
            "overflow_y": null,
            "padding": null,
            "right": null,
            "top": null,
            "visibility": null,
            "width": null
          }
        },
        "dba481ae674c4711a266c8dcc99359ae": {
          "model_module": "@jupyter-widgets/controls",
          "model_name": "ProgressStyleModel",
          "model_module_version": "1.5.0",
          "state": {
            "_model_module": "@jupyter-widgets/controls",
            "_model_module_version": "1.5.0",
            "_model_name": "ProgressStyleModel",
            "_view_count": null,
            "_view_module": "@jupyter-widgets/base",
            "_view_module_version": "1.2.0",
            "_view_name": "StyleView",
            "bar_color": null,
            "description_width": ""
          }
        },
        "754f9f56bc5b4a43ab518ea8664a4434": {
          "model_module": "@jupyter-widgets/base",
          "model_name": "LayoutModel",
          "model_module_version": "1.2.0",
          "state": {
            "_model_module": "@jupyter-widgets/base",
            "_model_module_version": "1.2.0",
            "_model_name": "LayoutModel",
            "_view_count": null,
            "_view_module": "@jupyter-widgets/base",
            "_view_module_version": "1.2.0",
            "_view_name": "LayoutView",
            "align_content": null,
            "align_items": null,
            "align_self": null,
            "border": null,
            "bottom": null,
            "display": null,
            "flex": null,
            "flex_flow": null,
            "grid_area": null,
            "grid_auto_columns": null,
            "grid_auto_flow": null,
            "grid_auto_rows": null,
            "grid_column": null,
            "grid_gap": null,
            "grid_row": null,
            "grid_template_areas": null,
            "grid_template_columns": null,
            "grid_template_rows": null,
            "height": null,
            "justify_content": null,
            "justify_items": null,
            "left": null,
            "margin": null,
            "max_height": null,
            "max_width": null,
            "min_height": null,
            "min_width": null,
            "object_fit": null,
            "object_position": null,
            "order": null,
            "overflow": null,
            "overflow_x": null,
            "overflow_y": null,
            "padding": null,
            "right": null,
            "top": null,
            "visibility": null,
            "width": null
          }
        },
        "4d38fdb1380a442fac5ce5b40e0a6a3e": {
          "model_module": "@jupyter-widgets/controls",
          "model_name": "DescriptionStyleModel",
          "model_module_version": "1.5.0",
          "state": {
            "_model_module": "@jupyter-widgets/controls",
            "_model_module_version": "1.5.0",
            "_model_name": "DescriptionStyleModel",
            "_view_count": null,
            "_view_module": "@jupyter-widgets/base",
            "_view_module_version": "1.2.0",
            "_view_name": "StyleView",
            "description_width": ""
          }
        },
        "4893654c564541899e94a8cb8e95c041": {
          "model_module": "@jupyter-widgets/controls",
          "model_name": "HBoxModel",
          "model_module_version": "1.5.0",
          "state": {
            "_dom_classes": [],
            "_model_module": "@jupyter-widgets/controls",
            "_model_module_version": "1.5.0",
            "_model_name": "HBoxModel",
            "_view_count": null,
            "_view_module": "@jupyter-widgets/controls",
            "_view_module_version": "1.5.0",
            "_view_name": "HBoxView",
            "box_style": "",
            "children": [
              "IPY_MODEL_7d2065722bdc45d9b47c007b1dcd2f43",
              "IPY_MODEL_9eb4390c50554047884c226a3523adcd",
              "IPY_MODEL_acef8214d9ed42d7b6f800cd22ec1351"
            ],
            "layout": "IPY_MODEL_653738f0bfc346be8543da07b5f548c3"
          }
        },
        "7d2065722bdc45d9b47c007b1dcd2f43": {
          "model_module": "@jupyter-widgets/controls",
          "model_name": "HTMLModel",
          "model_module_version": "1.5.0",
          "state": {
            "_dom_classes": [],
            "_model_module": "@jupyter-widgets/controls",
            "_model_module_version": "1.5.0",
            "_model_name": "HTMLModel",
            "_view_count": null,
            "_view_module": "@jupyter-widgets/controls",
            "_view_module_version": "1.5.0",
            "_view_name": "HTMLView",
            "description": "",
            "description_tooltip": null,
            "layout": "IPY_MODEL_db7344d4fb6f486896533b4a394053e0",
            "placeholder": "​",
            "style": "IPY_MODEL_ae95c2b336b64ec798e4652809106c12",
            "value": "Map: 100%"
          }
        },
        "9eb4390c50554047884c226a3523adcd": {
          "model_module": "@jupyter-widgets/controls",
          "model_name": "FloatProgressModel",
          "model_module_version": "1.5.0",
          "state": {
            "_dom_classes": [],
            "_model_module": "@jupyter-widgets/controls",
            "_model_module_version": "1.5.0",
            "_model_name": "FloatProgressModel",
            "_view_count": null,
            "_view_module": "@jupyter-widgets/controls",
            "_view_module_version": "1.5.0",
            "_view_name": "ProgressView",
            "bar_style": "success",
            "description": "",
            "description_tooltip": null,
            "layout": "IPY_MODEL_d4ab92b0037f415bb8078ad6a73c471a",
            "max": 5000,
            "min": 0,
            "orientation": "horizontal",
            "style": "IPY_MODEL_82f60f53c1d149408d49ed8b9959e623",
            "value": 5000
          }
        },
        "acef8214d9ed42d7b6f800cd22ec1351": {
          "model_module": "@jupyter-widgets/controls",
          "model_name": "HTMLModel",
          "model_module_version": "1.5.0",
          "state": {
            "_dom_classes": [],
            "_model_module": "@jupyter-widgets/controls",
            "_model_module_version": "1.5.0",
            "_model_name": "HTMLModel",
            "_view_count": null,
            "_view_module": "@jupyter-widgets/controls",
            "_view_module_version": "1.5.0",
            "_view_name": "HTMLView",
            "description": "",
            "description_tooltip": null,
            "layout": "IPY_MODEL_0de9167a099e44bda28d938210ee61a8",
            "placeholder": "​",
            "style": "IPY_MODEL_339dcacab05d4747ac117dc9c8749402",
            "value": " 5000/5000 [00:02&lt;00:00, 2219.29 examples/s]"
          }
        },
        "653738f0bfc346be8543da07b5f548c3": {
          "model_module": "@jupyter-widgets/base",
          "model_name": "LayoutModel",
          "model_module_version": "1.2.0",
          "state": {
            "_model_module": "@jupyter-widgets/base",
            "_model_module_version": "1.2.0",
            "_model_name": "LayoutModel",
            "_view_count": null,
            "_view_module": "@jupyter-widgets/base",
            "_view_module_version": "1.2.0",
            "_view_name": "LayoutView",
            "align_content": null,
            "align_items": null,
            "align_self": null,
            "border": null,
            "bottom": null,
            "display": null,
            "flex": null,
            "flex_flow": null,
            "grid_area": null,
            "grid_auto_columns": null,
            "grid_auto_flow": null,
            "grid_auto_rows": null,
            "grid_column": null,
            "grid_gap": null,
            "grid_row": null,
            "grid_template_areas": null,
            "grid_template_columns": null,
            "grid_template_rows": null,
            "height": null,
            "justify_content": null,
            "justify_items": null,
            "left": null,
            "margin": null,
            "max_height": null,
            "max_width": null,
            "min_height": null,
            "min_width": null,
            "object_fit": null,
            "object_position": null,
            "order": null,
            "overflow": null,
            "overflow_x": null,
            "overflow_y": null,
            "padding": null,
            "right": null,
            "top": null,
            "visibility": null,
            "width": null
          }
        },
        "db7344d4fb6f486896533b4a394053e0": {
          "model_module": "@jupyter-widgets/base",
          "model_name": "LayoutModel",
          "model_module_version": "1.2.0",
          "state": {
            "_model_module": "@jupyter-widgets/base",
            "_model_module_version": "1.2.0",
            "_model_name": "LayoutModel",
            "_view_count": null,
            "_view_module": "@jupyter-widgets/base",
            "_view_module_version": "1.2.0",
            "_view_name": "LayoutView",
            "align_content": null,
            "align_items": null,
            "align_self": null,
            "border": null,
            "bottom": null,
            "display": null,
            "flex": null,
            "flex_flow": null,
            "grid_area": null,
            "grid_auto_columns": null,
            "grid_auto_flow": null,
            "grid_auto_rows": null,
            "grid_column": null,
            "grid_gap": null,
            "grid_row": null,
            "grid_template_areas": null,
            "grid_template_columns": null,
            "grid_template_rows": null,
            "height": null,
            "justify_content": null,
            "justify_items": null,
            "left": null,
            "margin": null,
            "max_height": null,
            "max_width": null,
            "min_height": null,
            "min_width": null,
            "object_fit": null,
            "object_position": null,
            "order": null,
            "overflow": null,
            "overflow_x": null,
            "overflow_y": null,
            "padding": null,
            "right": null,
            "top": null,
            "visibility": null,
            "width": null
          }
        },
        "ae95c2b336b64ec798e4652809106c12": {
          "model_module": "@jupyter-widgets/controls",
          "model_name": "DescriptionStyleModel",
          "model_module_version": "1.5.0",
          "state": {
            "_model_module": "@jupyter-widgets/controls",
            "_model_module_version": "1.5.0",
            "_model_name": "DescriptionStyleModel",
            "_view_count": null,
            "_view_module": "@jupyter-widgets/base",
            "_view_module_version": "1.2.0",
            "_view_name": "StyleView",
            "description_width": ""
          }
        },
        "d4ab92b0037f415bb8078ad6a73c471a": {
          "model_module": "@jupyter-widgets/base",
          "model_name": "LayoutModel",
          "model_module_version": "1.2.0",
          "state": {
            "_model_module": "@jupyter-widgets/base",
            "_model_module_version": "1.2.0",
            "_model_name": "LayoutModel",
            "_view_count": null,
            "_view_module": "@jupyter-widgets/base",
            "_view_module_version": "1.2.0",
            "_view_name": "LayoutView",
            "align_content": null,
            "align_items": null,
            "align_self": null,
            "border": null,
            "bottom": null,
            "display": null,
            "flex": null,
            "flex_flow": null,
            "grid_area": null,
            "grid_auto_columns": null,
            "grid_auto_flow": null,
            "grid_auto_rows": null,
            "grid_column": null,
            "grid_gap": null,
            "grid_row": null,
            "grid_template_areas": null,
            "grid_template_columns": null,
            "grid_template_rows": null,
            "height": null,
            "justify_content": null,
            "justify_items": null,
            "left": null,
            "margin": null,
            "max_height": null,
            "max_width": null,
            "min_height": null,
            "min_width": null,
            "object_fit": null,
            "object_position": null,
            "order": null,
            "overflow": null,
            "overflow_x": null,
            "overflow_y": null,
            "padding": null,
            "right": null,
            "top": null,
            "visibility": null,
            "width": null
          }
        },
        "82f60f53c1d149408d49ed8b9959e623": {
          "model_module": "@jupyter-widgets/controls",
          "model_name": "ProgressStyleModel",
          "model_module_version": "1.5.0",
          "state": {
            "_model_module": "@jupyter-widgets/controls",
            "_model_module_version": "1.5.0",
            "_model_name": "ProgressStyleModel",
            "_view_count": null,
            "_view_module": "@jupyter-widgets/base",
            "_view_module_version": "1.2.0",
            "_view_name": "StyleView",
            "bar_color": null,
            "description_width": ""
          }
        },
        "0de9167a099e44bda28d938210ee61a8": {
          "model_module": "@jupyter-widgets/base",
          "model_name": "LayoutModel",
          "model_module_version": "1.2.0",
          "state": {
            "_model_module": "@jupyter-widgets/base",
            "_model_module_version": "1.2.0",
            "_model_name": "LayoutModel",
            "_view_count": null,
            "_view_module": "@jupyter-widgets/base",
            "_view_module_version": "1.2.0",
            "_view_name": "LayoutView",
            "align_content": null,
            "align_items": null,
            "align_self": null,
            "border": null,
            "bottom": null,
            "display": null,
            "flex": null,
            "flex_flow": null,
            "grid_area": null,
            "grid_auto_columns": null,
            "grid_auto_flow": null,
            "grid_auto_rows": null,
            "grid_column": null,
            "grid_gap": null,
            "grid_row": null,
            "grid_template_areas": null,
            "grid_template_columns": null,
            "grid_template_rows": null,
            "height": null,
            "justify_content": null,
            "justify_items": null,
            "left": null,
            "margin": null,
            "max_height": null,
            "max_width": null,
            "min_height": null,
            "min_width": null,
            "object_fit": null,
            "object_position": null,
            "order": null,
            "overflow": null,
            "overflow_x": null,
            "overflow_y": null,
            "padding": null,
            "right": null,
            "top": null,
            "visibility": null,
            "width": null
          }
        },
        "339dcacab05d4747ac117dc9c8749402": {
          "model_module": "@jupyter-widgets/controls",
          "model_name": "DescriptionStyleModel",
          "model_module_version": "1.5.0",
          "state": {
            "_model_module": "@jupyter-widgets/controls",
            "_model_module_version": "1.5.0",
            "_model_name": "DescriptionStyleModel",
            "_view_count": null,
            "_view_module": "@jupyter-widgets/base",
            "_view_module_version": "1.2.0",
            "_view_name": "StyleView",
            "description_width": ""
          }
        },
        "c0036299ac2d4630b373ae8b21ce444d": {
          "model_module": "@jupyter-widgets/controls",
          "model_name": "HBoxModel",
          "model_module_version": "1.5.0",
          "state": {
            "_dom_classes": [],
            "_model_module": "@jupyter-widgets/controls",
            "_model_module_version": "1.5.0",
            "_model_name": "HBoxModel",
            "_view_count": null,
            "_view_module": "@jupyter-widgets/controls",
            "_view_module_version": "1.5.0",
            "_view_name": "HBoxView",
            "box_style": "",
            "children": [
              "IPY_MODEL_9544fecc93e1428cb93badca224706f5",
              "IPY_MODEL_e70f1cc001464d64a3e9abfe35170723",
              "IPY_MODEL_b3bcb3a63438475e8fccd274f9daf880"
            ],
            "layout": "IPY_MODEL_c5115270240d4b1e8e352e3d61d39fc6"
          }
        },
        "9544fecc93e1428cb93badca224706f5": {
          "model_module": "@jupyter-widgets/controls",
          "model_name": "HTMLModel",
          "model_module_version": "1.5.0",
          "state": {
            "_dom_classes": [],
            "_model_module": "@jupyter-widgets/controls",
            "_model_module_version": "1.5.0",
            "_model_name": "HTMLModel",
            "_view_count": null,
            "_view_module": "@jupyter-widgets/controls",
            "_view_module_version": "1.5.0",
            "_view_name": "HTMLView",
            "description": "",
            "description_tooltip": null,
            "layout": "IPY_MODEL_bbcec3a0c3a64bd0b6e8adef1c382206",
            "placeholder": "​",
            "style": "IPY_MODEL_24e9b151bb0b438aa4e74fbe52a70189",
            "value": "Map: 100%"
          }
        },
        "e70f1cc001464d64a3e9abfe35170723": {
          "model_module": "@jupyter-widgets/controls",
          "model_name": "FloatProgressModel",
          "model_module_version": "1.5.0",
          "state": {
            "_dom_classes": [],
            "_model_module": "@jupyter-widgets/controls",
            "_model_module_version": "1.5.0",
            "_model_name": "FloatProgressModel",
            "_view_count": null,
            "_view_module": "@jupyter-widgets/controls",
            "_view_module_version": "1.5.0",
            "_view_name": "ProgressView",
            "bar_style": "success",
            "description": "",
            "description_tooltip": null,
            "layout": "IPY_MODEL_77133c101b1b4394bac581e387a64de7",
            "max": 1000,
            "min": 0,
            "orientation": "horizontal",
            "style": "IPY_MODEL_32bec571ebb54a5ea4c93c94879a2089",
            "value": 1000
          }
        },
        "b3bcb3a63438475e8fccd274f9daf880": {
          "model_module": "@jupyter-widgets/controls",
          "model_name": "HTMLModel",
          "model_module_version": "1.5.0",
          "state": {
            "_dom_classes": [],
            "_model_module": "@jupyter-widgets/controls",
            "_model_module_version": "1.5.0",
            "_model_name": "HTMLModel",
            "_view_count": null,
            "_view_module": "@jupyter-widgets/controls",
            "_view_module_version": "1.5.0",
            "_view_name": "HTMLView",
            "description": "",
            "description_tooltip": null,
            "layout": "IPY_MODEL_b8bf60eadd7d4b89a173a745e2da08dd",
            "placeholder": "​",
            "style": "IPY_MODEL_c933736fbecf40209f9d778ac061427f",
            "value": " 1000/1000 [00:00&lt;00:00, 3012.90 examples/s]"
          }
        },
        "c5115270240d4b1e8e352e3d61d39fc6": {
          "model_module": "@jupyter-widgets/base",
          "model_name": "LayoutModel",
          "model_module_version": "1.2.0",
          "state": {
            "_model_module": "@jupyter-widgets/base",
            "_model_module_version": "1.2.0",
            "_model_name": "LayoutModel",
            "_view_count": null,
            "_view_module": "@jupyter-widgets/base",
            "_view_module_version": "1.2.0",
            "_view_name": "LayoutView",
            "align_content": null,
            "align_items": null,
            "align_self": null,
            "border": null,
            "bottom": null,
            "display": null,
            "flex": null,
            "flex_flow": null,
            "grid_area": null,
            "grid_auto_columns": null,
            "grid_auto_flow": null,
            "grid_auto_rows": null,
            "grid_column": null,
            "grid_gap": null,
            "grid_row": null,
            "grid_template_areas": null,
            "grid_template_columns": null,
            "grid_template_rows": null,
            "height": null,
            "justify_content": null,
            "justify_items": null,
            "left": null,
            "margin": null,
            "max_height": null,
            "max_width": null,
            "min_height": null,
            "min_width": null,
            "object_fit": null,
            "object_position": null,
            "order": null,
            "overflow": null,
            "overflow_x": null,
            "overflow_y": null,
            "padding": null,
            "right": null,
            "top": null,
            "visibility": null,
            "width": null
          }
        },
        "bbcec3a0c3a64bd0b6e8adef1c382206": {
          "model_module": "@jupyter-widgets/base",
          "model_name": "LayoutModel",
          "model_module_version": "1.2.0",
          "state": {
            "_model_module": "@jupyter-widgets/base",
            "_model_module_version": "1.2.0",
            "_model_name": "LayoutModel",
            "_view_count": null,
            "_view_module": "@jupyter-widgets/base",
            "_view_module_version": "1.2.0",
            "_view_name": "LayoutView",
            "align_content": null,
            "align_items": null,
            "align_self": null,
            "border": null,
            "bottom": null,
            "display": null,
            "flex": null,
            "flex_flow": null,
            "grid_area": null,
            "grid_auto_columns": null,
            "grid_auto_flow": null,
            "grid_auto_rows": null,
            "grid_column": null,
            "grid_gap": null,
            "grid_row": null,
            "grid_template_areas": null,
            "grid_template_columns": null,
            "grid_template_rows": null,
            "height": null,
            "justify_content": null,
            "justify_items": null,
            "left": null,
            "margin": null,
            "max_height": null,
            "max_width": null,
            "min_height": null,
            "min_width": null,
            "object_fit": null,
            "object_position": null,
            "order": null,
            "overflow": null,
            "overflow_x": null,
            "overflow_y": null,
            "padding": null,
            "right": null,
            "top": null,
            "visibility": null,
            "width": null
          }
        },
        "24e9b151bb0b438aa4e74fbe52a70189": {
          "model_module": "@jupyter-widgets/controls",
          "model_name": "DescriptionStyleModel",
          "model_module_version": "1.5.0",
          "state": {
            "_model_module": "@jupyter-widgets/controls",
            "_model_module_version": "1.5.0",
            "_model_name": "DescriptionStyleModel",
            "_view_count": null,
            "_view_module": "@jupyter-widgets/base",
            "_view_module_version": "1.2.0",
            "_view_name": "StyleView",
            "description_width": ""
          }
        },
        "77133c101b1b4394bac581e387a64de7": {
          "model_module": "@jupyter-widgets/base",
          "model_name": "LayoutModel",
          "model_module_version": "1.2.0",
          "state": {
            "_model_module": "@jupyter-widgets/base",
            "_model_module_version": "1.2.0",
            "_model_name": "LayoutModel",
            "_view_count": null,
            "_view_module": "@jupyter-widgets/base",
            "_view_module_version": "1.2.0",
            "_view_name": "LayoutView",
            "align_content": null,
            "align_items": null,
            "align_self": null,
            "border": null,
            "bottom": null,
            "display": null,
            "flex": null,
            "flex_flow": null,
            "grid_area": null,
            "grid_auto_columns": null,
            "grid_auto_flow": null,
            "grid_auto_rows": null,
            "grid_column": null,
            "grid_gap": null,
            "grid_row": null,
            "grid_template_areas": null,
            "grid_template_columns": null,
            "grid_template_rows": null,
            "height": null,
            "justify_content": null,
            "justify_items": null,
            "left": null,
            "margin": null,
            "max_height": null,
            "max_width": null,
            "min_height": null,
            "min_width": null,
            "object_fit": null,
            "object_position": null,
            "order": null,
            "overflow": null,
            "overflow_x": null,
            "overflow_y": null,
            "padding": null,
            "right": null,
            "top": null,
            "visibility": null,
            "width": null
          }
        },
        "32bec571ebb54a5ea4c93c94879a2089": {
          "model_module": "@jupyter-widgets/controls",
          "model_name": "ProgressStyleModel",
          "model_module_version": "1.5.0",
          "state": {
            "_model_module": "@jupyter-widgets/controls",
            "_model_module_version": "1.5.0",
            "_model_name": "ProgressStyleModel",
            "_view_count": null,
            "_view_module": "@jupyter-widgets/base",
            "_view_module_version": "1.2.0",
            "_view_name": "StyleView",
            "bar_color": null,
            "description_width": ""
          }
        },
        "b8bf60eadd7d4b89a173a745e2da08dd": {
          "model_module": "@jupyter-widgets/base",
          "model_name": "LayoutModel",
          "model_module_version": "1.2.0",
          "state": {
            "_model_module": "@jupyter-widgets/base",
            "_model_module_version": "1.2.0",
            "_model_name": "LayoutModel",
            "_view_count": null,
            "_view_module": "@jupyter-widgets/base",
            "_view_module_version": "1.2.0",
            "_view_name": "LayoutView",
            "align_content": null,
            "align_items": null,
            "align_self": null,
            "border": null,
            "bottom": null,
            "display": null,
            "flex": null,
            "flex_flow": null,
            "grid_area": null,
            "grid_auto_columns": null,
            "grid_auto_flow": null,
            "grid_auto_rows": null,
            "grid_column": null,
            "grid_gap": null,
            "grid_row": null,
            "grid_template_areas": null,
            "grid_template_columns": null,
            "grid_template_rows": null,
            "height": null,
            "justify_content": null,
            "justify_items": null,
            "left": null,
            "margin": null,
            "max_height": null,
            "max_width": null,
            "min_height": null,
            "min_width": null,
            "object_fit": null,
            "object_position": null,
            "order": null,
            "overflow": null,
            "overflow_x": null,
            "overflow_y": null,
            "padding": null,
            "right": null,
            "top": null,
            "visibility": null,
            "width": null
          }
        },
        "c933736fbecf40209f9d778ac061427f": {
          "model_module": "@jupyter-widgets/controls",
          "model_name": "DescriptionStyleModel",
          "model_module_version": "1.5.0",
          "state": {
            "_model_module": "@jupyter-widgets/controls",
            "_model_module_version": "1.5.0",
            "_model_name": "DescriptionStyleModel",
            "_view_count": null,
            "_view_module": "@jupyter-widgets/base",
            "_view_module_version": "1.2.0",
            "_view_name": "StyleView",
            "description_width": ""
          }
        },
        "7928d35e1e984603a17fdcf137cbd27a": {
          "model_module": "@jupyter-widgets/controls",
          "model_name": "HBoxModel",
          "model_module_version": "1.5.0",
          "state": {
            "_dom_classes": [],
            "_model_module": "@jupyter-widgets/controls",
            "_model_module_version": "1.5.0",
            "_model_name": "HBoxModel",
            "_view_count": null,
            "_view_module": "@jupyter-widgets/controls",
            "_view_module_version": "1.5.0",
            "_view_name": "HBoxView",
            "box_style": "",
            "children": [
              "IPY_MODEL_8e7b1017b07b4574a57cb5faebd681d0",
              "IPY_MODEL_50a2333d136141459a79d7acdc443339",
              "IPY_MODEL_612aa8a8b6eb4ebead8659f4667eae5b"
            ],
            "layout": "IPY_MODEL_5a177106205443f3819f4aa6101448ee"
          }
        },
        "8e7b1017b07b4574a57cb5faebd681d0": {
          "model_module": "@jupyter-widgets/controls",
          "model_name": "HTMLModel",
          "model_module_version": "1.5.0",
          "state": {
            "_dom_classes": [],
            "_model_module": "@jupyter-widgets/controls",
            "_model_module_version": "1.5.0",
            "_model_name": "HTMLModel",
            "_view_count": null,
            "_view_module": "@jupyter-widgets/controls",
            "_view_module_version": "1.5.0",
            "_view_name": "HTMLView",
            "description": "",
            "description_tooltip": null,
            "layout": "IPY_MODEL_6fc600a84e5e4bc9ae2c14ea77c93700",
            "placeholder": "​",
            "style": "IPY_MODEL_5fbd6d4fb218456c8a9d57a3f67ab63e",
            "value": "Downloading pytorch_model.bin: 100%"
          }
        },
        "50a2333d136141459a79d7acdc443339": {
          "model_module": "@jupyter-widgets/controls",
          "model_name": "FloatProgressModel",
          "model_module_version": "1.5.0",
          "state": {
            "_dom_classes": [],
            "_model_module": "@jupyter-widgets/controls",
            "_model_module_version": "1.5.0",
            "_model_name": "FloatProgressModel",
            "_view_count": null,
            "_view_module": "@jupyter-widgets/controls",
            "_view_module_version": "1.5.0",
            "_view_name": "ProgressView",
            "bar_style": "success",
            "description": "",
            "description_tooltip": null,
            "layout": "IPY_MODEL_32aa88d56850428ab62fcf1f310b0fe0",
            "max": 440343552,
            "min": 0,
            "orientation": "horizontal",
            "style": "IPY_MODEL_cddf869fdc7a4b328ea0a30bb448c847",
            "value": 440343552
          }
        },
        "612aa8a8b6eb4ebead8659f4667eae5b": {
          "model_module": "@jupyter-widgets/controls",
          "model_name": "HTMLModel",
          "model_module_version": "1.5.0",
          "state": {
            "_dom_classes": [],
            "_model_module": "@jupyter-widgets/controls",
            "_model_module_version": "1.5.0",
            "_model_name": "HTMLModel",
            "_view_count": null,
            "_view_module": "@jupyter-widgets/controls",
            "_view_module_version": "1.5.0",
            "_view_name": "HTMLView",
            "description": "",
            "description_tooltip": null,
            "layout": "IPY_MODEL_bd393388e82b4ce7a98b1f444276f42c",
            "placeholder": "​",
            "style": "IPY_MODEL_abe87de153cf49a29f4c91ea1daff56c",
            "value": " 440M/440M [00:09&lt;00:00, 98.8MB/s]"
          }
        },
        "5a177106205443f3819f4aa6101448ee": {
          "model_module": "@jupyter-widgets/base",
          "model_name": "LayoutModel",
          "model_module_version": "1.2.0",
          "state": {
            "_model_module": "@jupyter-widgets/base",
            "_model_module_version": "1.2.0",
            "_model_name": "LayoutModel",
            "_view_count": null,
            "_view_module": "@jupyter-widgets/base",
            "_view_module_version": "1.2.0",
            "_view_name": "LayoutView",
            "align_content": null,
            "align_items": null,
            "align_self": null,
            "border": null,
            "bottom": null,
            "display": null,
            "flex": null,
            "flex_flow": null,
            "grid_area": null,
            "grid_auto_columns": null,
            "grid_auto_flow": null,
            "grid_auto_rows": null,
            "grid_column": null,
            "grid_gap": null,
            "grid_row": null,
            "grid_template_areas": null,
            "grid_template_columns": null,
            "grid_template_rows": null,
            "height": null,
            "justify_content": null,
            "justify_items": null,
            "left": null,
            "margin": null,
            "max_height": null,
            "max_width": null,
            "min_height": null,
            "min_width": null,
            "object_fit": null,
            "object_position": null,
            "order": null,
            "overflow": null,
            "overflow_x": null,
            "overflow_y": null,
            "padding": null,
            "right": null,
            "top": null,
            "visibility": null,
            "width": null
          }
        },
        "6fc600a84e5e4bc9ae2c14ea77c93700": {
          "model_module": "@jupyter-widgets/base",
          "model_name": "LayoutModel",
          "model_module_version": "1.2.0",
          "state": {
            "_model_module": "@jupyter-widgets/base",
            "_model_module_version": "1.2.0",
            "_model_name": "LayoutModel",
            "_view_count": null,
            "_view_module": "@jupyter-widgets/base",
            "_view_module_version": "1.2.0",
            "_view_name": "LayoutView",
            "align_content": null,
            "align_items": null,
            "align_self": null,
            "border": null,
            "bottom": null,
            "display": null,
            "flex": null,
            "flex_flow": null,
            "grid_area": null,
            "grid_auto_columns": null,
            "grid_auto_flow": null,
            "grid_auto_rows": null,
            "grid_column": null,
            "grid_gap": null,
            "grid_row": null,
            "grid_template_areas": null,
            "grid_template_columns": null,
            "grid_template_rows": null,
            "height": null,
            "justify_content": null,
            "justify_items": null,
            "left": null,
            "margin": null,
            "max_height": null,
            "max_width": null,
            "min_height": null,
            "min_width": null,
            "object_fit": null,
            "object_position": null,
            "order": null,
            "overflow": null,
            "overflow_x": null,
            "overflow_y": null,
            "padding": null,
            "right": null,
            "top": null,
            "visibility": null,
            "width": null
          }
        },
        "5fbd6d4fb218456c8a9d57a3f67ab63e": {
          "model_module": "@jupyter-widgets/controls",
          "model_name": "DescriptionStyleModel",
          "model_module_version": "1.5.0",
          "state": {
            "_model_module": "@jupyter-widgets/controls",
            "_model_module_version": "1.5.0",
            "_model_name": "DescriptionStyleModel",
            "_view_count": null,
            "_view_module": "@jupyter-widgets/base",
            "_view_module_version": "1.2.0",
            "_view_name": "StyleView",
            "description_width": ""
          }
        },
        "32aa88d56850428ab62fcf1f310b0fe0": {
          "model_module": "@jupyter-widgets/base",
          "model_name": "LayoutModel",
          "model_module_version": "1.2.0",
          "state": {
            "_model_module": "@jupyter-widgets/base",
            "_model_module_version": "1.2.0",
            "_model_name": "LayoutModel",
            "_view_count": null,
            "_view_module": "@jupyter-widgets/base",
            "_view_module_version": "1.2.0",
            "_view_name": "LayoutView",
            "align_content": null,
            "align_items": null,
            "align_self": null,
            "border": null,
            "bottom": null,
            "display": null,
            "flex": null,
            "flex_flow": null,
            "grid_area": null,
            "grid_auto_columns": null,
            "grid_auto_flow": null,
            "grid_auto_rows": null,
            "grid_column": null,
            "grid_gap": null,
            "grid_row": null,
            "grid_template_areas": null,
            "grid_template_columns": null,
            "grid_template_rows": null,
            "height": null,
            "justify_content": null,
            "justify_items": null,
            "left": null,
            "margin": null,
            "max_height": null,
            "max_width": null,
            "min_height": null,
            "min_width": null,
            "object_fit": null,
            "object_position": null,
            "order": null,
            "overflow": null,
            "overflow_x": null,
            "overflow_y": null,
            "padding": null,
            "right": null,
            "top": null,
            "visibility": null,
            "width": null
          }
        },
        "cddf869fdc7a4b328ea0a30bb448c847": {
          "model_module": "@jupyter-widgets/controls",
          "model_name": "ProgressStyleModel",
          "model_module_version": "1.5.0",
          "state": {
            "_model_module": "@jupyter-widgets/controls",
            "_model_module_version": "1.5.0",
            "_model_name": "ProgressStyleModel",
            "_view_count": null,
            "_view_module": "@jupyter-widgets/base",
            "_view_module_version": "1.2.0",
            "_view_name": "StyleView",
            "bar_color": null,
            "description_width": ""
          }
        },
        "bd393388e82b4ce7a98b1f444276f42c": {
          "model_module": "@jupyter-widgets/base",
          "model_name": "LayoutModel",
          "model_module_version": "1.2.0",
          "state": {
            "_model_module": "@jupyter-widgets/base",
            "_model_module_version": "1.2.0",
            "_model_name": "LayoutModel",
            "_view_count": null,
            "_view_module": "@jupyter-widgets/base",
            "_view_module_version": "1.2.0",
            "_view_name": "LayoutView",
            "align_content": null,
            "align_items": null,
            "align_self": null,
            "border": null,
            "bottom": null,
            "display": null,
            "flex": null,
            "flex_flow": null,
            "grid_area": null,
            "grid_auto_columns": null,
            "grid_auto_flow": null,
            "grid_auto_rows": null,
            "grid_column": null,
            "grid_gap": null,
            "grid_row": null,
            "grid_template_areas": null,
            "grid_template_columns": null,
            "grid_template_rows": null,
            "height": null,
            "justify_content": null,
            "justify_items": null,
            "left": null,
            "margin": null,
            "max_height": null,
            "max_width": null,
            "min_height": null,
            "min_width": null,
            "object_fit": null,
            "object_position": null,
            "order": null,
            "overflow": null,
            "overflow_x": null,
            "overflow_y": null,
            "padding": null,
            "right": null,
            "top": null,
            "visibility": null,
            "width": null
          }
        },
        "abe87de153cf49a29f4c91ea1daff56c": {
          "model_module": "@jupyter-widgets/controls",
          "model_name": "DescriptionStyleModel",
          "model_module_version": "1.5.0",
          "state": {
            "_model_module": "@jupyter-widgets/controls",
            "_model_module_version": "1.5.0",
            "_model_name": "DescriptionStyleModel",
            "_view_count": null,
            "_view_module": "@jupyter-widgets/base",
            "_view_module_version": "1.2.0",
            "_view_name": "StyleView",
            "description_width": ""
          }
        },
        "24e11d5370e248daa1ea9bddc57b8cab": {
          "model_module": "@jupyter-widgets/controls",
          "model_name": "VBoxModel",
          "model_module_version": "1.5.0",
          "state": {
            "_dom_classes": [],
            "_model_module": "@jupyter-widgets/controls",
            "_model_module_version": "1.5.0",
            "_model_name": "VBoxModel",
            "_view_count": null,
            "_view_module": "@jupyter-widgets/controls",
            "_view_module_version": "1.5.0",
            "_view_name": "VBoxView",
            "box_style": "",
            "children": [
              "IPY_MODEL_f19be08feb924c649241d57d9b348bae",
              "IPY_MODEL_5e04d14e3a3e4ec2bc720b745a43c0f7"
            ],
            "layout": "IPY_MODEL_7e2f9cc7b01e4d1d923c5dcf4eb3ffc0"
          }
        },
        "f19be08feb924c649241d57d9b348bae": {
          "model_module": "@jupyter-widgets/controls",
          "model_name": "LabelModel",
          "model_module_version": "1.5.0",
          "state": {
            "_dom_classes": [],
            "_model_module": "@jupyter-widgets/controls",
            "_model_module_version": "1.5.0",
            "_model_name": "LabelModel",
            "_view_count": null,
            "_view_module": "@jupyter-widgets/controls",
            "_view_module_version": "1.5.0",
            "_view_name": "LabelView",
            "description": "",
            "description_tooltip": null,
            "layout": "IPY_MODEL_26379b2b80dc46afb6d00c0fb6a83345",
            "placeholder": "​",
            "style": "IPY_MODEL_dbc7c1705aa64158b196a22f84877ccf",
            "value": "0.006 MB of 0.028 MB uploaded (0.000 MB deduped)\r"
          }
        },
        "5e04d14e3a3e4ec2bc720b745a43c0f7": {
          "model_module": "@jupyter-widgets/controls",
          "model_name": "FloatProgressModel",
          "model_module_version": "1.5.0",
          "state": {
            "_dom_classes": [],
            "_model_module": "@jupyter-widgets/controls",
            "_model_module_version": "1.5.0",
            "_model_name": "FloatProgressModel",
            "_view_count": null,
            "_view_module": "@jupyter-widgets/controls",
            "_view_module_version": "1.5.0",
            "_view_name": "ProgressView",
            "bar_style": "",
            "description": "",
            "description_tooltip": null,
            "layout": "IPY_MODEL_b428a68e748240bc86bd09af65455b3a",
            "max": 1,
            "min": 0,
            "orientation": "horizontal",
            "style": "IPY_MODEL_9986d8e6e0134e6c98d1460623913646",
            "value": 0.20119686339248866
          }
        },
        "7e2f9cc7b01e4d1d923c5dcf4eb3ffc0": {
          "model_module": "@jupyter-widgets/base",
          "model_name": "LayoutModel",
          "model_module_version": "1.2.0",
          "state": {
            "_model_module": "@jupyter-widgets/base",
            "_model_module_version": "1.2.0",
            "_model_name": "LayoutModel",
            "_view_count": null,
            "_view_module": "@jupyter-widgets/base",
            "_view_module_version": "1.2.0",
            "_view_name": "LayoutView",
            "align_content": null,
            "align_items": null,
            "align_self": null,
            "border": null,
            "bottom": null,
            "display": null,
            "flex": null,
            "flex_flow": null,
            "grid_area": null,
            "grid_auto_columns": null,
            "grid_auto_flow": null,
            "grid_auto_rows": null,
            "grid_column": null,
            "grid_gap": null,
            "grid_row": null,
            "grid_template_areas": null,
            "grid_template_columns": null,
            "grid_template_rows": null,
            "height": null,
            "justify_content": null,
            "justify_items": null,
            "left": null,
            "margin": null,
            "max_height": null,
            "max_width": null,
            "min_height": null,
            "min_width": null,
            "object_fit": null,
            "object_position": null,
            "order": null,
            "overflow": null,
            "overflow_x": null,
            "overflow_y": null,
            "padding": null,
            "right": null,
            "top": null,
            "visibility": null,
            "width": null
          }
        },
        "26379b2b80dc46afb6d00c0fb6a83345": {
          "model_module": "@jupyter-widgets/base",
          "model_name": "LayoutModel",
          "model_module_version": "1.2.0",
          "state": {
            "_model_module": "@jupyter-widgets/base",
            "_model_module_version": "1.2.0",
            "_model_name": "LayoutModel",
            "_view_count": null,
            "_view_module": "@jupyter-widgets/base",
            "_view_module_version": "1.2.0",
            "_view_name": "LayoutView",
            "align_content": null,
            "align_items": null,
            "align_self": null,
            "border": null,
            "bottom": null,
            "display": null,
            "flex": null,
            "flex_flow": null,
            "grid_area": null,
            "grid_auto_columns": null,
            "grid_auto_flow": null,
            "grid_auto_rows": null,
            "grid_column": null,
            "grid_gap": null,
            "grid_row": null,
            "grid_template_areas": null,
            "grid_template_columns": null,
            "grid_template_rows": null,
            "height": null,
            "justify_content": null,
            "justify_items": null,
            "left": null,
            "margin": null,
            "max_height": null,
            "max_width": null,
            "min_height": null,
            "min_width": null,
            "object_fit": null,
            "object_position": null,
            "order": null,
            "overflow": null,
            "overflow_x": null,
            "overflow_y": null,
            "padding": null,
            "right": null,
            "top": null,
            "visibility": null,
            "width": null
          }
        },
        "dbc7c1705aa64158b196a22f84877ccf": {
          "model_module": "@jupyter-widgets/controls",
          "model_name": "DescriptionStyleModel",
          "model_module_version": "1.5.0",
          "state": {
            "_model_module": "@jupyter-widgets/controls",
            "_model_module_version": "1.5.0",
            "_model_name": "DescriptionStyleModel",
            "_view_count": null,
            "_view_module": "@jupyter-widgets/base",
            "_view_module_version": "1.2.0",
            "_view_name": "StyleView",
            "description_width": ""
          }
        },
        "b428a68e748240bc86bd09af65455b3a": {
          "model_module": "@jupyter-widgets/base",
          "model_name": "LayoutModel",
          "model_module_version": "1.2.0",
          "state": {
            "_model_module": "@jupyter-widgets/base",
            "_model_module_version": "1.2.0",
            "_model_name": "LayoutModel",
            "_view_count": null,
            "_view_module": "@jupyter-widgets/base",
            "_view_module_version": "1.2.0",
            "_view_name": "LayoutView",
            "align_content": null,
            "align_items": null,
            "align_self": null,
            "border": null,
            "bottom": null,
            "display": null,
            "flex": null,
            "flex_flow": null,
            "grid_area": null,
            "grid_auto_columns": null,
            "grid_auto_flow": null,
            "grid_auto_rows": null,
            "grid_column": null,
            "grid_gap": null,
            "grid_row": null,
            "grid_template_areas": null,
            "grid_template_columns": null,
            "grid_template_rows": null,
            "height": null,
            "justify_content": null,
            "justify_items": null,
            "left": null,
            "margin": null,
            "max_height": null,
            "max_width": null,
            "min_height": null,
            "min_width": null,
            "object_fit": null,
            "object_position": null,
            "order": null,
            "overflow": null,
            "overflow_x": null,
            "overflow_y": null,
            "padding": null,
            "right": null,
            "top": null,
            "visibility": null,
            "width": null
          }
        },
        "9986d8e6e0134e6c98d1460623913646": {
          "model_module": "@jupyter-widgets/controls",
          "model_name": "ProgressStyleModel",
          "model_module_version": "1.5.0",
          "state": {
            "_model_module": "@jupyter-widgets/controls",
            "_model_module_version": "1.5.0",
            "_model_name": "ProgressStyleModel",
            "_view_count": null,
            "_view_module": "@jupyter-widgets/base",
            "_view_module_version": "1.2.0",
            "_view_name": "StyleView",
            "bar_color": null,
            "description_width": ""
          }
        },
        "13f22d009e1045b1a4bffd464e0e00a5": {
          "model_module": "@jupyter-widgets/controls",
          "model_name": "HBoxModel",
          "model_module_version": "1.5.0",
          "state": {
            "_dom_classes": [],
            "_model_module": "@jupyter-widgets/controls",
            "_model_module_version": "1.5.0",
            "_model_name": "HBoxModel",
            "_view_count": null,
            "_view_module": "@jupyter-widgets/controls",
            "_view_module_version": "1.5.0",
            "_view_name": "HBoxView",
            "box_style": "",
            "children": [
              "IPY_MODEL_4d1fff3887354f47992c0acb369ed284",
              "IPY_MODEL_13ee8b5581254786a9a4e42f36157275",
              "IPY_MODEL_b67c4c11608f4885913b07413ffe0944"
            ],
            "layout": "IPY_MODEL_df5999e31dc447edbb6b54b90de699a5"
          }
        },
        "4d1fff3887354f47992c0acb369ed284": {
          "model_module": "@jupyter-widgets/controls",
          "model_name": "HTMLModel",
          "model_module_version": "1.5.0",
          "state": {
            "_dom_classes": [],
            "_model_module": "@jupyter-widgets/controls",
            "_model_module_version": "1.5.0",
            "_model_name": "HTMLModel",
            "_view_count": null,
            "_view_module": "@jupyter-widgets/controls",
            "_view_module_version": "1.5.0",
            "_view_name": "HTMLView",
            "description": "",
            "description_tooltip": null,
            "layout": "IPY_MODEL_d1477b9f654647e39f7f0c77c89a0c47",
            "placeholder": "​",
            "style": "IPY_MODEL_3c97540cb22a49df94afdc20f0e4998f",
            "value": "Map: 100%"
          }
        },
        "13ee8b5581254786a9a4e42f36157275": {
          "model_module": "@jupyter-widgets/controls",
          "model_name": "FloatProgressModel",
          "model_module_version": "1.5.0",
          "state": {
            "_dom_classes": [],
            "_model_module": "@jupyter-widgets/controls",
            "_model_module_version": "1.5.0",
            "_model_name": "FloatProgressModel",
            "_view_count": null,
            "_view_module": "@jupyter-widgets/controls",
            "_view_module_version": "1.5.0",
            "_view_name": "ProgressView",
            "bar_style": "success",
            "description": "",
            "description_tooltip": null,
            "layout": "IPY_MODEL_7d7dc7e4533048f28477e48eaaee3777",
            "max": 1000,
            "min": 0,
            "orientation": "horizontal",
            "style": "IPY_MODEL_a7d4d1dbc0374245a6cfaf03153a9778",
            "value": 1000
          }
        },
        "b67c4c11608f4885913b07413ffe0944": {
          "model_module": "@jupyter-widgets/controls",
          "model_name": "HTMLModel",
          "model_module_version": "1.5.0",
          "state": {
            "_dom_classes": [],
            "_model_module": "@jupyter-widgets/controls",
            "_model_module_version": "1.5.0",
            "_model_name": "HTMLModel",
            "_view_count": null,
            "_view_module": "@jupyter-widgets/controls",
            "_view_module_version": "1.5.0",
            "_view_name": "HTMLView",
            "description": "",
            "description_tooltip": null,
            "layout": "IPY_MODEL_1229dc6acd56429bab84165837701d82",
            "placeholder": "​",
            "style": "IPY_MODEL_aac9441c190c4f06a30ce0d6d53f6f2a",
            "value": " 1000/1000 [00:00&lt;00:00, 7021.33 examples/s]"
          }
        },
        "df5999e31dc447edbb6b54b90de699a5": {
          "model_module": "@jupyter-widgets/base",
          "model_name": "LayoutModel",
          "model_module_version": "1.2.0",
          "state": {
            "_model_module": "@jupyter-widgets/base",
            "_model_module_version": "1.2.0",
            "_model_name": "LayoutModel",
            "_view_count": null,
            "_view_module": "@jupyter-widgets/base",
            "_view_module_version": "1.2.0",
            "_view_name": "LayoutView",
            "align_content": null,
            "align_items": null,
            "align_self": null,
            "border": null,
            "bottom": null,
            "display": null,
            "flex": null,
            "flex_flow": null,
            "grid_area": null,
            "grid_auto_columns": null,
            "grid_auto_flow": null,
            "grid_auto_rows": null,
            "grid_column": null,
            "grid_gap": null,
            "grid_row": null,
            "grid_template_areas": null,
            "grid_template_columns": null,
            "grid_template_rows": null,
            "height": null,
            "justify_content": null,
            "justify_items": null,
            "left": null,
            "margin": null,
            "max_height": null,
            "max_width": null,
            "min_height": null,
            "min_width": null,
            "object_fit": null,
            "object_position": null,
            "order": null,
            "overflow": null,
            "overflow_x": null,
            "overflow_y": null,
            "padding": null,
            "right": null,
            "top": null,
            "visibility": null,
            "width": null
          }
        },
        "d1477b9f654647e39f7f0c77c89a0c47": {
          "model_module": "@jupyter-widgets/base",
          "model_name": "LayoutModel",
          "model_module_version": "1.2.0",
          "state": {
            "_model_module": "@jupyter-widgets/base",
            "_model_module_version": "1.2.0",
            "_model_name": "LayoutModel",
            "_view_count": null,
            "_view_module": "@jupyter-widgets/base",
            "_view_module_version": "1.2.0",
            "_view_name": "LayoutView",
            "align_content": null,
            "align_items": null,
            "align_self": null,
            "border": null,
            "bottom": null,
            "display": null,
            "flex": null,
            "flex_flow": null,
            "grid_area": null,
            "grid_auto_columns": null,
            "grid_auto_flow": null,
            "grid_auto_rows": null,
            "grid_column": null,
            "grid_gap": null,
            "grid_row": null,
            "grid_template_areas": null,
            "grid_template_columns": null,
            "grid_template_rows": null,
            "height": null,
            "justify_content": null,
            "justify_items": null,
            "left": null,
            "margin": null,
            "max_height": null,
            "max_width": null,
            "min_height": null,
            "min_width": null,
            "object_fit": null,
            "object_position": null,
            "order": null,
            "overflow": null,
            "overflow_x": null,
            "overflow_y": null,
            "padding": null,
            "right": null,
            "top": null,
            "visibility": null,
            "width": null
          }
        },
        "3c97540cb22a49df94afdc20f0e4998f": {
          "model_module": "@jupyter-widgets/controls",
          "model_name": "DescriptionStyleModel",
          "model_module_version": "1.5.0",
          "state": {
            "_model_module": "@jupyter-widgets/controls",
            "_model_module_version": "1.5.0",
            "_model_name": "DescriptionStyleModel",
            "_view_count": null,
            "_view_module": "@jupyter-widgets/base",
            "_view_module_version": "1.2.0",
            "_view_name": "StyleView",
            "description_width": ""
          }
        },
        "7d7dc7e4533048f28477e48eaaee3777": {
          "model_module": "@jupyter-widgets/base",
          "model_name": "LayoutModel",
          "model_module_version": "1.2.0",
          "state": {
            "_model_module": "@jupyter-widgets/base",
            "_model_module_version": "1.2.0",
            "_model_name": "LayoutModel",
            "_view_count": null,
            "_view_module": "@jupyter-widgets/base",
            "_view_module_version": "1.2.0",
            "_view_name": "LayoutView",
            "align_content": null,
            "align_items": null,
            "align_self": null,
            "border": null,
            "bottom": null,
            "display": null,
            "flex": null,
            "flex_flow": null,
            "grid_area": null,
            "grid_auto_columns": null,
            "grid_auto_flow": null,
            "grid_auto_rows": null,
            "grid_column": null,
            "grid_gap": null,
            "grid_row": null,
            "grid_template_areas": null,
            "grid_template_columns": null,
            "grid_template_rows": null,
            "height": null,
            "justify_content": null,
            "justify_items": null,
            "left": null,
            "margin": null,
            "max_height": null,
            "max_width": null,
            "min_height": null,
            "min_width": null,
            "object_fit": null,
            "object_position": null,
            "order": null,
            "overflow": null,
            "overflow_x": null,
            "overflow_y": null,
            "padding": null,
            "right": null,
            "top": null,
            "visibility": null,
            "width": null
          }
        },
        "a7d4d1dbc0374245a6cfaf03153a9778": {
          "model_module": "@jupyter-widgets/controls",
          "model_name": "ProgressStyleModel",
          "model_module_version": "1.5.0",
          "state": {
            "_model_module": "@jupyter-widgets/controls",
            "_model_module_version": "1.5.0",
            "_model_name": "ProgressStyleModel",
            "_view_count": null,
            "_view_module": "@jupyter-widgets/base",
            "_view_module_version": "1.2.0",
            "_view_name": "StyleView",
            "bar_color": null,
            "description_width": ""
          }
        },
        "1229dc6acd56429bab84165837701d82": {
          "model_module": "@jupyter-widgets/base",
          "model_name": "LayoutModel",
          "model_module_version": "1.2.0",
          "state": {
            "_model_module": "@jupyter-widgets/base",
            "_model_module_version": "1.2.0",
            "_model_name": "LayoutModel",
            "_view_count": null,
            "_view_module": "@jupyter-widgets/base",
            "_view_module_version": "1.2.0",
            "_view_name": "LayoutView",
            "align_content": null,
            "align_items": null,
            "align_self": null,
            "border": null,
            "bottom": null,
            "display": null,
            "flex": null,
            "flex_flow": null,
            "grid_area": null,
            "grid_auto_columns": null,
            "grid_auto_flow": null,
            "grid_auto_rows": null,
            "grid_column": null,
            "grid_gap": null,
            "grid_row": null,
            "grid_template_areas": null,
            "grid_template_columns": null,
            "grid_template_rows": null,
            "height": null,
            "justify_content": null,
            "justify_items": null,
            "left": null,
            "margin": null,
            "max_height": null,
            "max_width": null,
            "min_height": null,
            "min_width": null,
            "object_fit": null,
            "object_position": null,
            "order": null,
            "overflow": null,
            "overflow_x": null,
            "overflow_y": null,
            "padding": null,
            "right": null,
            "top": null,
            "visibility": null,
            "width": null
          }
        },
        "aac9441c190c4f06a30ce0d6d53f6f2a": {
          "model_module": "@jupyter-widgets/controls",
          "model_name": "DescriptionStyleModel",
          "model_module_version": "1.5.0",
          "state": {
            "_model_module": "@jupyter-widgets/controls",
            "_model_module_version": "1.5.0",
            "_model_name": "DescriptionStyleModel",
            "_view_count": null,
            "_view_module": "@jupyter-widgets/base",
            "_view_module_version": "1.2.0",
            "_view_name": "StyleView",
            "description_width": ""
          }
        },
        "4264e68c4f3f4d5f9c5c4f4f50d1b782": {
          "model_module": "@jupyter-widgets/controls",
          "model_name": "HBoxModel",
          "model_module_version": "1.5.0",
          "state": {
            "_dom_classes": [],
            "_model_module": "@jupyter-widgets/controls",
            "_model_module_version": "1.5.0",
            "_model_name": "HBoxModel",
            "_view_count": null,
            "_view_module": "@jupyter-widgets/controls",
            "_view_module_version": "1.5.0",
            "_view_name": "HBoxView",
            "box_style": "",
            "children": [
              "IPY_MODEL_424b82c5c54147d692aee9986387f958",
              "IPY_MODEL_ca1978c2c8ec436baade1a15c6579dd1",
              "IPY_MODEL_add38ad7bb3e4a7998bbfe5c56e678d2"
            ],
            "layout": "IPY_MODEL_e80fe9e87c524a0499159209a71981ce"
          }
        },
        "424b82c5c54147d692aee9986387f958": {
          "model_module": "@jupyter-widgets/controls",
          "model_name": "HTMLModel",
          "model_module_version": "1.5.0",
          "state": {
            "_dom_classes": [],
            "_model_module": "@jupyter-widgets/controls",
            "_model_module_version": "1.5.0",
            "_model_name": "HTMLModel",
            "_view_count": null,
            "_view_module": "@jupyter-widgets/controls",
            "_view_module_version": "1.5.0",
            "_view_name": "HTMLView",
            "description": "",
            "description_tooltip": null,
            "layout": "IPY_MODEL_405d1e1af32244029f7a852d790cf65a",
            "placeholder": "​",
            "style": "IPY_MODEL_23e88b80c01d474d8c438727d97234bf",
            "value": "Map: 100%"
          }
        },
        "ca1978c2c8ec436baade1a15c6579dd1": {
          "model_module": "@jupyter-widgets/controls",
          "model_name": "FloatProgressModel",
          "model_module_version": "1.5.0",
          "state": {
            "_dom_classes": [],
            "_model_module": "@jupyter-widgets/controls",
            "_model_module_version": "1.5.0",
            "_model_name": "FloatProgressModel",
            "_view_count": null,
            "_view_module": "@jupyter-widgets/controls",
            "_view_module_version": "1.5.0",
            "_view_name": "ProgressView",
            "bar_style": "success",
            "description": "",
            "description_tooltip": null,
            "layout": "IPY_MODEL_c9e53b1de0b6469f90017d1980c042dd",
            "max": 1000,
            "min": 0,
            "orientation": "horizontal",
            "style": "IPY_MODEL_f40bcd0bd3984cc1ac2ad1b1c6a5de19",
            "value": 1000
          }
        },
        "add38ad7bb3e4a7998bbfe5c56e678d2": {
          "model_module": "@jupyter-widgets/controls",
          "model_name": "HTMLModel",
          "model_module_version": "1.5.0",
          "state": {
            "_dom_classes": [],
            "_model_module": "@jupyter-widgets/controls",
            "_model_module_version": "1.5.0",
            "_model_name": "HTMLModel",
            "_view_count": null,
            "_view_module": "@jupyter-widgets/controls",
            "_view_module_version": "1.5.0",
            "_view_name": "HTMLView",
            "description": "",
            "description_tooltip": null,
            "layout": "IPY_MODEL_5260344051064bdfb1e7dba30d165c7f",
            "placeholder": "​",
            "style": "IPY_MODEL_31f5b20888a04d0a8aa64347e4bc1d14",
            "value": " 1000/1000 [00:00&lt;00:00, 4366.08 examples/s]"
          }
        },
        "e80fe9e87c524a0499159209a71981ce": {
          "model_module": "@jupyter-widgets/base",
          "model_name": "LayoutModel",
          "model_module_version": "1.2.0",
          "state": {
            "_model_module": "@jupyter-widgets/base",
            "_model_module_version": "1.2.0",
            "_model_name": "LayoutModel",
            "_view_count": null,
            "_view_module": "@jupyter-widgets/base",
            "_view_module_version": "1.2.0",
            "_view_name": "LayoutView",
            "align_content": null,
            "align_items": null,
            "align_self": null,
            "border": null,
            "bottom": null,
            "display": null,
            "flex": null,
            "flex_flow": null,
            "grid_area": null,
            "grid_auto_columns": null,
            "grid_auto_flow": null,
            "grid_auto_rows": null,
            "grid_column": null,
            "grid_gap": null,
            "grid_row": null,
            "grid_template_areas": null,
            "grid_template_columns": null,
            "grid_template_rows": null,
            "height": null,
            "justify_content": null,
            "justify_items": null,
            "left": null,
            "margin": null,
            "max_height": null,
            "max_width": null,
            "min_height": null,
            "min_width": null,
            "object_fit": null,
            "object_position": null,
            "order": null,
            "overflow": null,
            "overflow_x": null,
            "overflow_y": null,
            "padding": null,
            "right": null,
            "top": null,
            "visibility": null,
            "width": null
          }
        },
        "405d1e1af32244029f7a852d790cf65a": {
          "model_module": "@jupyter-widgets/base",
          "model_name": "LayoutModel",
          "model_module_version": "1.2.0",
          "state": {
            "_model_module": "@jupyter-widgets/base",
            "_model_module_version": "1.2.0",
            "_model_name": "LayoutModel",
            "_view_count": null,
            "_view_module": "@jupyter-widgets/base",
            "_view_module_version": "1.2.0",
            "_view_name": "LayoutView",
            "align_content": null,
            "align_items": null,
            "align_self": null,
            "border": null,
            "bottom": null,
            "display": null,
            "flex": null,
            "flex_flow": null,
            "grid_area": null,
            "grid_auto_columns": null,
            "grid_auto_flow": null,
            "grid_auto_rows": null,
            "grid_column": null,
            "grid_gap": null,
            "grid_row": null,
            "grid_template_areas": null,
            "grid_template_columns": null,
            "grid_template_rows": null,
            "height": null,
            "justify_content": null,
            "justify_items": null,
            "left": null,
            "margin": null,
            "max_height": null,
            "max_width": null,
            "min_height": null,
            "min_width": null,
            "object_fit": null,
            "object_position": null,
            "order": null,
            "overflow": null,
            "overflow_x": null,
            "overflow_y": null,
            "padding": null,
            "right": null,
            "top": null,
            "visibility": null,
            "width": null
          }
        },
        "23e88b80c01d474d8c438727d97234bf": {
          "model_module": "@jupyter-widgets/controls",
          "model_name": "DescriptionStyleModel",
          "model_module_version": "1.5.0",
          "state": {
            "_model_module": "@jupyter-widgets/controls",
            "_model_module_version": "1.5.0",
            "_model_name": "DescriptionStyleModel",
            "_view_count": null,
            "_view_module": "@jupyter-widgets/base",
            "_view_module_version": "1.2.0",
            "_view_name": "StyleView",
            "description_width": ""
          }
        },
        "c9e53b1de0b6469f90017d1980c042dd": {
          "model_module": "@jupyter-widgets/base",
          "model_name": "LayoutModel",
          "model_module_version": "1.2.0",
          "state": {
            "_model_module": "@jupyter-widgets/base",
            "_model_module_version": "1.2.0",
            "_model_name": "LayoutModel",
            "_view_count": null,
            "_view_module": "@jupyter-widgets/base",
            "_view_module_version": "1.2.0",
            "_view_name": "LayoutView",
            "align_content": null,
            "align_items": null,
            "align_self": null,
            "border": null,
            "bottom": null,
            "display": null,
            "flex": null,
            "flex_flow": null,
            "grid_area": null,
            "grid_auto_columns": null,
            "grid_auto_flow": null,
            "grid_auto_rows": null,
            "grid_column": null,
            "grid_gap": null,
            "grid_row": null,
            "grid_template_areas": null,
            "grid_template_columns": null,
            "grid_template_rows": null,
            "height": null,
            "justify_content": null,
            "justify_items": null,
            "left": null,
            "margin": null,
            "max_height": null,
            "max_width": null,
            "min_height": null,
            "min_width": null,
            "object_fit": null,
            "object_position": null,
            "order": null,
            "overflow": null,
            "overflow_x": null,
            "overflow_y": null,
            "padding": null,
            "right": null,
            "top": null,
            "visibility": null,
            "width": null
          }
        },
        "f40bcd0bd3984cc1ac2ad1b1c6a5de19": {
          "model_module": "@jupyter-widgets/controls",
          "model_name": "ProgressStyleModel",
          "model_module_version": "1.5.0",
          "state": {
            "_model_module": "@jupyter-widgets/controls",
            "_model_module_version": "1.5.0",
            "_model_name": "ProgressStyleModel",
            "_view_count": null,
            "_view_module": "@jupyter-widgets/base",
            "_view_module_version": "1.2.0",
            "_view_name": "StyleView",
            "bar_color": null,
            "description_width": ""
          }
        },
        "5260344051064bdfb1e7dba30d165c7f": {
          "model_module": "@jupyter-widgets/base",
          "model_name": "LayoutModel",
          "model_module_version": "1.2.0",
          "state": {
            "_model_module": "@jupyter-widgets/base",
            "_model_module_version": "1.2.0",
            "_model_name": "LayoutModel",
            "_view_count": null,
            "_view_module": "@jupyter-widgets/base",
            "_view_module_version": "1.2.0",
            "_view_name": "LayoutView",
            "align_content": null,
            "align_items": null,
            "align_self": null,
            "border": null,
            "bottom": null,
            "display": null,
            "flex": null,
            "flex_flow": null,
            "grid_area": null,
            "grid_auto_columns": null,
            "grid_auto_flow": null,
            "grid_auto_rows": null,
            "grid_column": null,
            "grid_gap": null,
            "grid_row": null,
            "grid_template_areas": null,
            "grid_template_columns": null,
            "grid_template_rows": null,
            "height": null,
            "justify_content": null,
            "justify_items": null,
            "left": null,
            "margin": null,
            "max_height": null,
            "max_width": null,
            "min_height": null,
            "min_width": null,
            "object_fit": null,
            "object_position": null,
            "order": null,
            "overflow": null,
            "overflow_x": null,
            "overflow_y": null,
            "padding": null,
            "right": null,
            "top": null,
            "visibility": null,
            "width": null
          }
        },
        "31f5b20888a04d0a8aa64347e4bc1d14": {
          "model_module": "@jupyter-widgets/controls",
          "model_name": "DescriptionStyleModel",
          "model_module_version": "1.5.0",
          "state": {
            "_model_module": "@jupyter-widgets/controls",
            "_model_module_version": "1.5.0",
            "_model_name": "DescriptionStyleModel",
            "_view_count": null,
            "_view_module": "@jupyter-widgets/base",
            "_view_module_version": "1.2.0",
            "_view_name": "StyleView",
            "description_width": ""
          }
        }
      }
    }
  },
  "nbformat": 4,
  "nbformat_minor": 5
}